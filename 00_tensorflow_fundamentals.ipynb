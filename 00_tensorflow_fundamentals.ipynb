{
  "nbformat": 4,
  "nbformat_minor": 0,
  "metadata": {
    "colab": {
      "provenance": [],
      "gpuType": "T4",
      "authorship_tag": "ABX9TyN8Q/N5U3PdVhdjypv8hkaQ",
      "include_colab_link": true
    },
    "kernelspec": {
      "name": "python3",
      "display_name": "Python 3"
    },
    "language_info": {
      "name": "python"
    },
    "accelerator": "GPU"
  },
  "cells": [
    {
      "cell_type": "markdown",
      "metadata": {
        "id": "view-in-github",
        "colab_type": "text"
      },
      "source": [
        "<a href=\"https://colab.research.google.com/github/varmatilak22/learning_tensorflow/blob/main/00_tensorflow_fundamentals.ipynb\" target=\"_parent\"><img src=\"https://colab.research.google.com/assets/colab-badge.svg\" alt=\"Open In Colab\"/></a>"
      ]
    },
    {
      "cell_type": "markdown",
      "source": [
        "\n",
        "\n",
        "\n",
        "\n",
        "##  In This notebook , we're going some of the most fundamental concepts of tensors using tensorflow\n",
        "\n",
        "More Specifically ,we're going to cover :\n",
        "* Introduction to tensors\n",
        "*Getting some information from tensors\n",
        "*Manipulating tensors\n",
        "*tensors and NumPy\n",
        "*Using ATFP function (a way to speed up regular python functions)\n",
        "*Using GPUs with tensorflow (or TPUs)\n",
        "*Exercises to try for yourself!\n"
      ],
      "metadata": {
        "id": "3iuxqouSAUsD"
      }
    },
    {
      "cell_type": "markdown",
      "source": [
        "## Introduction to Tensors"
      ],
      "metadata": {
        "id": "kgKwuXNyAndH"
      }
    },
    {
      "cell_type": "code",
      "source": [
        "import tensorflow as tf\n",
        "print(tf.__version__)"
      ],
      "metadata": {
        "colab": {
          "base_uri": "https://localhost:8080/"
        },
        "id": "lxVu67P8F5eE",
        "outputId": "3105f8f1-d891-4d5c-b959-3c65e325695c"
      },
      "execution_count": null,
      "outputs": [
        {
          "output_type": "stream",
          "name": "stdout",
          "text": [
            "2.12.0\n"
          ]
        }
      ]
    },
    {
      "cell_type": "code",
      "source": [
        "#create tensors with tf constant()\n",
        "scalar=tf.constant(7)\n",
        "scalar"
      ],
      "metadata": {
        "colab": {
          "base_uri": "https://localhost:8080/"
        },
        "id": "uOSHBOQRGS4A",
        "outputId": "76e3dcb9-0b13-4136-e0b7-3912fc8be55b"
      },
      "execution_count": null,
      "outputs": [
        {
          "output_type": "execute_result",
          "data": {
            "text/plain": [
              "<tf.Tensor: shape=(), dtype=int32, numpy=7>"
            ]
          },
          "metadata": {},
          "execution_count": 2
        }
      ]
    },
    {
      "cell_type": "code",
      "source": [
        "#check the number of dimensions of a tensor (ndim stands for n dimensional array)\n",
        "scalar.ndim"
      ],
      "metadata": {
        "colab": {
          "base_uri": "https://localhost:8080/"
        },
        "id": "QSE11HZ8HPac",
        "outputId": "4ec6e932-63db-4b7a-dbbc-08ecf8a07389"
      },
      "execution_count": null,
      "outputs": [
        {
          "output_type": "execute_result",
          "data": {
            "text/plain": [
              "0"
            ]
          },
          "metadata": {},
          "execution_count": 3
        }
      ]
    },
    {
      "cell_type": "code",
      "source": [
        "\n",
        "\n",
        "#cREATE  a vector\n",
        "vector=tf.constant([10,10])\n",
        "vector"
      ],
      "metadata": {
        "colab": {
          "base_uri": "https://localhost:8080/"
        },
        "id": "DwIbCPH4IZ-U",
        "outputId": "d4539d63-19f4-49bd-8dcb-f9a9f5d0fa40"
      },
      "execution_count": null,
      "outputs": [
        {
          "output_type": "execute_result",
          "data": {
            "text/plain": [
              "<tf.Tensor: shape=(2,), dtype=int32, numpy=array([10, 10], dtype=int32)>"
            ]
          },
          "metadata": {},
          "execution_count": 4
        }
      ]
    },
    {
      "cell_type": "code",
      "source": [
        "#Check the dimension of our vector\n",
        "vector.ndim"
      ],
      "metadata": {
        "colab": {
          "base_uri": "https://localhost:8080/"
        },
        "id": "jQ2LW8pDIshS",
        "outputId": "38cf2d14-849d-4128-8169-8cbf5aab8d0d"
      },
      "execution_count": null,
      "outputs": [
        {
          "output_type": "execute_result",
          "data": {
            "text/plain": [
              "1"
            ]
          },
          "metadata": {},
          "execution_count": 5
        }
      ]
    },
    {
      "cell_type": "code",
      "source": [
        "\n",
        "\n",
        "#create a matrix (has more than 1 dimension)\n",
        "matrix=tf.constant([[10,10],[10,10]])\n",
        "matrix"
      ],
      "metadata": {
        "colab": {
          "base_uri": "https://localhost:8080/"
        },
        "id": "DkJ-B0FgI_-K",
        "outputId": "e9d18122-ddaa-45e9-90f7-72d2d585cf32"
      },
      "execution_count": null,
      "outputs": [
        {
          "output_type": "execute_result",
          "data": {
            "text/plain": [
              "<tf.Tensor: shape=(2, 2), dtype=int32, numpy=\n",
              "array([[10, 10],\n",
              "       [10, 10]], dtype=int32)>"
            ]
          },
          "metadata": {},
          "execution_count": 6
        }
      ]
    },
    {
      "cell_type": "code",
      "source": [
        "matrix.ndim"
      ],
      "metadata": {
        "colab": {
          "base_uri": "https://localhost:8080/"
        },
        "id": "QJUyN8tLJX7K",
        "outputId": "0cec30de-de87-4b36-b4c6-fb76a838b956"
      },
      "execution_count": null,
      "outputs": [
        {
          "output_type": "execute_result",
          "data": {
            "text/plain": [
              "2"
            ]
          },
          "metadata": {},
          "execution_count": 7
        }
      ]
    },
    {
      "cell_type": "code",
      "source": [
        "#create another matrix\n",
        "another_matrix = tf.constant([[10.,7.],\n",
        "                              [3.,6.],\n",
        "                              [8.,9.]],dtype=tf.float16) #Specify the datatype with dtype parameter\n",
        "another_matrix"
      ],
      "metadata": {
        "colab": {
          "base_uri": "https://localhost:8080/"
        },
        "id": "2nSE8T1zJd6s",
        "outputId": "17dd1f4e-a0ec-498b-bc75-65dff99a5ec6"
      },
      "execution_count": null,
      "outputs": [
        {
          "output_type": "execute_result",
          "data": {
            "text/plain": [
              "<tf.Tensor: shape=(3, 2), dtype=float16, numpy=\n",
              "array([[10.,  7.],\n",
              "       [ 3.,  6.],\n",
              "       [ 8.,  9.]], dtype=float16)>"
            ]
          },
          "metadata": {},
          "execution_count": 8
        }
      ]
    },
    {
      "cell_type": "code",
      "source": [
        "another_matrix.ndim"
      ],
      "metadata": {
        "colab": {
          "base_uri": "https://localhost:8080/"
        },
        "id": "HCLuVvldKeVj",
        "outputId": "071463f1-e83c-471b-e5af-a127f371eb5b"
      },
      "execution_count": null,
      "outputs": [
        {
          "output_type": "execute_result",
          "data": {
            "text/plain": [
              "2"
            ]
          },
          "metadata": {},
          "execution_count": 9
        }
      ]
    },
    {
      "cell_type": "code",
      "source": [
        "#What is dimension of another_matrix\n",
        "another_matrix.ndim"
      ],
      "metadata": {
        "colab": {
          "base_uri": "https://localhost:8080/"
        },
        "id": "rQMFGlZFKjvZ",
        "outputId": "62e8554b-497c-447c-b829-6d8097b13a4e"
      },
      "execution_count": null,
      "outputs": [
        {
          "output_type": "execute_result",
          "data": {
            "text/plain": [
              "2"
            ]
          },
          "metadata": {},
          "execution_count": 10
        }
      ]
    },
    {
      "cell_type": "code",
      "source": [
        "\n",
        "scalar.ndim,vector.ndim,matrix.ndim,another_matrix.ndim"
      ],
      "metadata": {
        "colab": {
          "base_uri": "https://localhost:8080/"
        },
        "id": "mJ9MiLGFKrgp",
        "outputId": "d2d66b6a-a9d9-4edb-98c2-7ebc7cd7df0d"
      },
      "execution_count": null,
      "outputs": [
        {
          "output_type": "execute_result",
          "data": {
            "text/plain": [
              "(0, 1, 2, 2)"
            ]
          },
          "metadata": {},
          "execution_count": 11
        }
      ]
    },
    {
      "cell_type": "code",
      "source": [
        "#Let' create a tensor\n",
        "tensor= tf.constant([[[[10.,7.],[9.,8.]],\n",
        "                      [[10.,9.],[20.,20.]]],[[[10.,7.],[9.,8.]],\n",
        "                      [[10.,9.],[20.,20.]]]],dtype=tf.float16\n",
        "                    )"
      ],
      "metadata": {
        "id": "nz7M91g8Kz_R"
      },
      "execution_count": null,
      "outputs": []
    },
    {
      "cell_type": "code",
      "source": [
        "tensor.dtype"
      ],
      "metadata": {
        "colab": {
          "base_uri": "https://localhost:8080/"
        },
        "id": "ssl2e0XoLrcp",
        "outputId": "3dfb53f6-f521-4e4a-f3b4-8e0955f7fe6c"
      },
      "execution_count": null,
      "outputs": [
        {
          "output_type": "execute_result",
          "data": {
            "text/plain": [
              "tf.float16"
            ]
          },
          "metadata": {},
          "execution_count": 13
        }
      ]
    },
    {
      "cell_type": "code",
      "source": [
        "response_mat=tf.random.uniform(shape=(4,8),minval=2,maxval=20,dtype=tf.int32)"
      ],
      "metadata": {
        "id": "VLf5vdGqL8xO"
      },
      "execution_count": null,
      "outputs": []
    },
    {
      "cell_type": "code",
      "source": [
        "\n",
        "\n",
        "response_mat"
      ],
      "metadata": {
        "colab": {
          "base_uri": "https://localhost:8080/"
        },
        "id": "f_ZaqR4pOANV",
        "outputId": "fd949439-237a-476a-e61d-60e2583c00df"
      },
      "execution_count": null,
      "outputs": [
        {
          "output_type": "execute_result",
          "data": {
            "text/plain": [
              "<tf.Tensor: shape=(4, 8), dtype=int32, numpy=\n",
              "array([[ 2,  3,  6,  6,  5, 15,  8, 10],\n",
              "       [19, 19,  4, 18, 19, 19, 19, 12],\n",
              "       [11, 14,  7, 18,  3,  3,  3,  9],\n",
              "       [19, 13,  5,  5, 15, 12, 14,  4]], dtype=int32)>"
            ]
          },
          "metadata": {},
          "execution_count": 15
        }
      ]
    },
    {
      "cell_type": "markdown",
      "source": [
        "\n",
        "\n",
        "\n",
        "## Day-2\n",
        "### Creating tensor with \"tf.variable\"\n"
      ],
      "metadata": {
        "id": "2om0s06MRMc1"
      }
    },
    {
      "cell_type": "code",
      "source": [
        "import tensorflow as tf\n",
        "Changeable_tensor=tf.Variable([10,7])\n",
        "unChangeable_tensor=tf.constant([10,7])\n",
        "Changeable_tensor,unChangeable_tensor"
      ],
      "metadata": {
        "colab": {
          "base_uri": "https://localhost:8080/"
        },
        "id": "SCNK1cTlw3x1",
        "outputId": "8133f208-e2e6-452b-b6cb-2727abd02f8b"
      },
      "execution_count": null,
      "outputs": [
        {
          "output_type": "execute_result",
          "data": {
            "text/plain": [
              "(<tf.Variable 'Variable:0' shape=(2,) dtype=int32, numpy=array([10,  7], dtype=int32)>,\n",
              " <tf.Tensor: shape=(2,), dtype=int32, numpy=array([10,  7], dtype=int32)>)"
            ]
          },
          "metadata": {},
          "execution_count": 16
        }
      ]
    },
    {
      "cell_type": "code",
      "source": [
        "\n",
        "Changeable_tensor[0]=7"
      ],
      "metadata": {
        "colab": {
          "base_uri": "https://localhost:8080/",
          "height": 180
        },
        "id": "vmmOGpB_xJkN",
        "outputId": "f2e89dfc-4dcf-420f-8882-8dd3396bfe7d"
      },
      "execution_count": null,
      "outputs": [
        {
          "output_type": "error",
          "ename": "TypeError",
          "evalue": "ignored",
          "traceback": [
            "\u001b[0;31m---------------------------------------------------------------------------\u001b[0m",
            "\u001b[0;31mTypeError\u001b[0m                                 Traceback (most recent call last)",
            "\u001b[0;32m<ipython-input-17-32bcc8212e69>\u001b[0m in \u001b[0;36m<cell line: 1>\u001b[0;34m()\u001b[0m\n\u001b[0;32m----> 1\u001b[0;31m \u001b[0mChangeable_tensor\u001b[0m\u001b[0;34m[\u001b[0m\u001b[0;36m0\u001b[0m\u001b[0;34m]\u001b[0m\u001b[0;34m=\u001b[0m\u001b[0;36m7\u001b[0m\u001b[0;34m\u001b[0m\u001b[0;34m\u001b[0m\u001b[0m\n\u001b[0m",
            "\u001b[0;31mTypeError\u001b[0m: 'ResourceVariable' object does not support item assignment"
          ]
        }
      ]
    },
    {
      "cell_type": "code",
      "source": [
        "# How about we try .assign()\n",
        "Changeable_tensor[0].assign(9)"
      ],
      "metadata": {
        "id": "Lumkzq4LzcX3"
      },
      "execution_count": null,
      "outputs": []
    },
    {
      "cell_type": "code",
      "source": [
        "#Lets try change our unchangebale tensor\n",
        "Changeable_tensor[0].assign(7)"
      ],
      "metadata": {
        "id": "suo9kQ4RztWZ"
      },
      "execution_count": null,
      "outputs": []
    },
    {
      "cell_type": "markdown",
      "source": [
        "###Creating random tensors\n",
        "Random tensors are tensors of some arbitary size which contain random numbers.\n"
      ],
      "metadata": {
        "id": "u6G8q6uF0GNv"
      }
    },
    {
      "cell_type": "code",
      "source": [
        "\n",
        "#create 2 random tensors\n",
        "rand1=tf.random.uniform(shape=(3,4),minval=10,maxval=100,dtype=tf.int32)\n",
        "rand2=tf.random.uniform(shape=(4,3),minval=1,maxval=50,dtype=tf.int32)\n",
        "rand1,rand2"
      ],
      "metadata": {
        "id": "hiqYTmsn5tLc"
      },
      "execution_count": null,
      "outputs": []
    },
    {
      "cell_type": "code",
      "source": [
        "random_1=tf.random.Generator.from_seed(7)#set seed for reproduciblity\n",
        "random_1=random_1.normal(shape=(3,2))\n",
        "random_1\n"
      ],
      "metadata": {
        "id": "w3HcI2tC8C2O"
      },
      "execution_count": null,
      "outputs": []
    },
    {
      "cell_type": "code",
      "source": [
        "random_2=tf.random.Generator.from_seed(7)\n",
        "random_2=random_2.normal(shape=(3,2))\n",
        "random_2"
      ],
      "metadata": {
        "id": "Qlow7WAa9jAt"
      },
      "execution_count": null,
      "outputs": []
    },
    {
      "cell_type": "code",
      "source": [
        "#Are random_1 and random_2 are equal=yes\n",
        "random_1,random_2"
      ],
      "metadata": {
        "id": "em2E_xh2-x0-"
      },
      "execution_count": null,
      "outputs": []
    },
    {
      "cell_type": "markdown",
      "source": [
        "##yes"
      ],
      "metadata": {
        "id": "73XDTRe9B-Eg"
      }
    },
    {
      "cell_type": "code",
      "source": [
        "random_1,random_2,random_1==random_2"
      ],
      "metadata": {
        "id": "bDjAGazHCGZZ"
      },
      "execution_count": null,
      "outputs": []
    },
    {
      "cell_type": "markdown",
      "source": [
        "\n",
        "\n",
        "### Shuffle the order of elements in a tensor"
      ],
      "metadata": {
        "id": "a1At0G_VCIs4"
      }
    },
    {
      "cell_type": "markdown",
      "source": [
        "#shuffle a tensor (valuable for when you want to shuffle your data so the inherent order does'nt effect learning)"
      ],
      "metadata": {
        "id": "Yb3yRccZDGU9"
      }
    },
    {
      "cell_type": "code",
      "source": [
        "not_shuffled=tf.constant([[10,7],\n",
        "                         [4,6],\n",
        "                         [2,5]])\n",
        "not_shuffled"
      ],
      "metadata": {
        "id": "9KmQB0veD6k9"
      },
      "execution_count": null,
      "outputs": []
    },
    {
      "cell_type": "markdown",
      "source": [
        "###shuffled our non-shuffled tensor"
      ],
      "metadata": {
        "id": "JekzzTN5EFMa"
      }
    },
    {
      "cell_type": "code",
      "source": [
        "tf.random.set_seed(5)\n",
        "shuffled=tf.random.shuffle(not_shuffled)\n",
        "shuffled,not_shuffled"
      ],
      "metadata": {
        "id": "fZCqh-HSFWZZ"
      },
      "execution_count": null,
      "outputs": []
    },
    {
      "cell_type": "code",
      "source": [
        "# tf.random.set_seed(42)\n",
        "tf.random.shuffle(not_shuffled,seed=(2))"
      ],
      "metadata": {
        "id": "0lj30Ry4Fk48"
      },
      "execution_count": null,
      "outputs": []
    },
    {
      "cell_type": "markdown",
      "source": [
        "⚒** Exercise:** Read through tensorflow documentation on random 5random tensors"
      ],
      "metadata": {
        "id": "eYK6t4gsJCNR"
      }
    },
    {
      "cell_type": "markdown",
      "source": [
        "###Creating 5 random tensors for practice"
      ],
      "metadata": {
        "id": "nC_t3t1UL91g"
      }
    },
    {
      "cell_type": "code",
      "source": [
        "random_1=tf.constant([[1,2,3],\n",
        "                      [3,4,5],\n",
        "                      [5,6,7],\n",
        "                      [7,8,9]])\n",
        "#Without random seed (no global and operation seed)\n",
        "shuf_1=tf.random.shuffle(random_1)\n",
        "shuf_1"
      ],
      "metadata": {
        "id": "zbgm6s9JM1S6"
      },
      "execution_count": null,
      "outputs": []
    },
    {
      "cell_type": "code",
      "source": [
        "#Shuffle with using global level seed\n",
        "tf.random.set_seed(10)\n",
        "shuf_2=tf.random.shuffle(random_1)\n",
        "shuf_2"
      ],
      "metadata": {
        "id": "xLLjiVnaNFWh"
      },
      "execution_count": null,
      "outputs": []
    },
    {
      "cell_type": "code",
      "source": [
        "#shuffled with operation level seed with no global level seed\n",
        "shuf_3=tf.random.shuffle(random_1,seed=(2))\n",
        "shuf_3"
      ],
      "metadata": {
        "id": "sFfvzs1XN437"
      },
      "execution_count": null,
      "outputs": []
    },
    {
      "cell_type": "code",
      "source": [
        "\n",
        "#shuffled with both operation and global level seed\n",
        "tf.random.set_seed(20)\n",
        "shuf_4=tf.random.shuffle(random_1,seed=(10))\n",
        "shuf_4"
      ],
      "metadata": {
        "id": "2nZj2HeeOIFx"
      },
      "execution_count": null,
      "outputs": []
    },
    {
      "cell_type": "code",
      "source": [
        "shuf_4=tf.random.shuffle(tf.range(1,20))\n",
        "tf.random.set_seed(10)"
      ],
      "metadata": {
        "id": "5xcTVkAmPTLd"
      },
      "execution_count": null,
      "outputs": []
    },
    {
      "cell_type": "code",
      "source": [
        "tf.random.set_seed(10)\n",
        "shuf_5=tf.random.shuffle(tf.range(1,20))\n",
        "shuf_5"
      ],
      "metadata": {
        "id": "Z1-kZc51RlEg"
      },
      "execution_count": null,
      "outputs": []
    },
    {
      "cell_type": "code",
      "source": [
        "shuf_6=tf.random.shuffle(tf.range(1,20),seed=(20))\n",
        "shuf_6"
      ],
      "metadata": {
        "id": "1JT4MUpESwAv"
      },
      "execution_count": null,
      "outputs": []
    },
    {
      "cell_type": "code",
      "source": [
        "shuf_4,shuf_5,shuf_6"
      ],
      "metadata": {
        "id": "dfSVI4vlS0zK"
      },
      "execution_count": null,
      "outputs": []
    },
    {
      "cell_type": "code",
      "source": [
        "tf.random.set_seed(42) #Global level random seed\n",
        "tf.random.shuffle(not_shuffled,seed=42) #operation level random seed"
      ],
      "metadata": {
        "id": "Ouy9mJbPS4Ir"
      },
      "execution_count": null,
      "outputs": []
    },
    {
      "cell_type": "markdown",
      "source": [
        "### It looks like if we want our tensors may be shuffled tensors in the same order,we've got to use global level random seed as well as operation level random seed as well as the operation level random seed:\n",
        "##Rule 4:\n",
        "### If both the global and operation seed are set:Both seeds are used in conjuction to determine the random sequence."
      ],
      "metadata": {
        "id": "w9N_PgXQchQf"
      }
    },
    {
      "cell_type": "markdown",
      "source": [
        "##Other ways to make tensors"
      ],
      "metadata": {
        "id": "HjZ1UoMqhhIn"
      }
    },
    {
      "cell_type": "code",
      "source": [
        "\n",
        "\n",
        "\n",
        "\n",
        "\n",
        "#create tensor of all ones\n",
        "tf.ones([10,8])"
      ],
      "metadata": {
        "id": "MKTtW012h8Rp"
      },
      "execution_count": null,
      "outputs": []
    },
    {
      "cell_type": "code",
      "source": [
        "\n",
        "\n",
        "\n",
        "\n",
        "\n",
        "#create a tensor of all zeroes\n",
        "tf.zeros([3,5])"
      ],
      "metadata": {
        "id": "PymOy0ymiQqe"
      },
      "execution_count": null,
      "outputs": []
    },
    {
      "cell_type": "markdown",
      "source": [
        "### Turn NumPy arrays into tensorflow tensors is that tensors can be run on a GPU(much faster for numerical computing).\n"
      ],
      "metadata": {
        "id": "YTcbjrBGiWQh"
      }
    },
    {
      "cell_type": "code",
      "source": [
        "#You can also turn NumPy arrays into tensors\n",
        "import numpy as np\n",
        "numpy_A=np.arange(1,25,dtype=np.int32) #create a NumPy array between 1 and 25\n",
        "numpy_A\n",
        "\n",
        "# x=tf.constant(some_matrix) # capital for matrix or tensor\n",
        "# y=tf.constant(vector) # non-captial vector"
      ],
      "metadata": {
        "id": "NCoAwx2PjWgF"
      },
      "execution_count": null,
      "outputs": []
    },
    {
      "cell_type": "code",
      "source": [
        "A=tf.constant(numpy_A,shape=(6,4))\n",
        "A"
      ],
      "metadata": {
        "id": "G6rWom2ClE4Z"
      },
      "execution_count": null,
      "outputs": []
    },
    {
      "cell_type": "code",
      "source": [
        "B=tf.constant(numpy_A,shape=(2,3,4))\n",
        "B"
      ],
      "metadata": {
        "id": "U66aJCjwn_Of"
      },
      "execution_count": null,
      "outputs": []
    },
    {
      "cell_type": "code",
      "source": [
        "A,B"
      ],
      "metadata": {
        "id": "aWXsaOTioc1B"
      },
      "execution_count": null,
      "outputs": []
    },
    {
      "cell_type": "code",
      "source": [
        "C=tf.constant(numpy_A,shape=(12,2))\n",
        "D=tf.constant(numpy_A,shape=(8,3))\n",
        "A,B,C,D"
      ],
      "metadata": {
        "id": "HSw_hHSxozZ8"
      },
      "execution_count": null,
      "outputs": []
    },
    {
      "cell_type": "code",
      "source": [
        "E=tf.constant(numpy_A,shape=(2,3,2,2))\n",
        "E.ndim # 4D tensor using 1D numpy array"
      ],
      "metadata": {
        "id": "4OZGWqstpSSk"
      },
      "execution_count": null,
      "outputs": []
    },
    {
      "cell_type": "markdown",
      "source": [
        "### Getting information from tensors\n",
        "When dealing with tenors you probably want to be aware of the following attributes:\n",
        "1.   Shape\n",
        "2.   Rank\n",
        "3.  Axis and dimension\n",
        "4.  size\n",
        "\n"
      ],
      "metadata": {
        "id": "Ik2439_ypgNj"
      }
    },
    {
      "cell_type": "code",
      "source": [
        "#create a rank 4 tensor (4D)\n",
        "rank_4_tensor=tf.zeros([2,3,4,5])\n",
        "rank_4_tensor"
      ],
      "metadata": {
        "id": "vh3i71sOp7Z_"
      },
      "execution_count": null,
      "outputs": []
    },
    {
      "cell_type": "code",
      "source": [
        "rank_4_tensor[0,1,2,4]"
      ],
      "metadata": {
        "id": "blg2dO2NJ4LI"
      },
      "execution_count": null,
      "outputs": []
    },
    {
      "cell_type": "code",
      "source": [
        "rank_4_tensor.shape,rank_4_tensor.ndim,tf.size(rank_4_tensor)"
      ],
      "metadata": {
        "id": "4GClHtmAKxC0"
      },
      "execution_count": null,
      "outputs": []
    },
    {
      "cell_type": "code",
      "source": [
        "#Get different attributes of our tensor\n",
        "print(\"Datatype of every element:\",rank_4_tensor.dtype)"
      ],
      "metadata": {
        "id": "6pzptkRELPpZ"
      },
      "execution_count": null,
      "outputs": []
    },
    {
      "cell_type": "code",
      "source": [
        "  print(\"Numbe of dimensions(rank):\",rank_4_tensor.ndim)"
      ],
      "metadata": {
        "id": "E8k5I5O7LxMZ"
      },
      "execution_count": null,
      "outputs": []
    },
    {
      "cell_type": "code",
      "source": [
        "print(\"Shape of Tensor:\",rank_4_tensor.shape)\n",
        "print(\"Size of tensor:\",tf.size(rank_4_tensor))"
      ],
      "metadata": {
        "id": "9GCg_KbwL_ZU"
      },
      "execution_count": null,
      "outputs": []
    },
    {
      "cell_type": "code",
      "source": [
        "print(\"Elements along 0 axis:\",rank_4_tensor.shape[0])\n",
        "print(\"Elements along the last axis:\",rank_4_tensor.shape[-1])\n",
        "print(\"total number of elements in our tensors:\",tf.size(rank_4_tensor))\n",
        "print(\"total number of elements in our numpy array:\",tf.size(rank_4_tensor).numpy())"
      ],
      "metadata": {
        "id": "kzjikhOFMR43"
      },
      "execution_count": null,
      "outputs": []
    },
    {
      "cell_type": "markdown",
      "source": [
        "### Indexing tensors\n",
        "\n",
        "Tensors can be indexed just like Python lists."
      ],
      "metadata": {
        "id": "zD4KEk0DNUqM"
      }
    },
    {
      "cell_type": "code",
      "source": [
        "# Get the first 2 elements of each dimension\n",
        "rank_4_tensor[:2,:2,:2,:2]"
      ],
      "metadata": {
        "id": "RWG1k-QoOlwl"
      },
      "execution_count": null,
      "outputs": []
    },
    {
      "cell_type": "code",
      "source": [
        "#Get each dimension from each index except for the final one\n",
        "rank_4_tensor[:1,:1,:1]"
      ],
      "metadata": {
        "id": "DEtpwJQ9O7yt"
      },
      "execution_count": null,
      "outputs": []
    },
    {
      "cell_type": "code",
      "source": [
        "rank_4_tensor[:1,:1,:1,:2]"
      ],
      "metadata": {
        "id": "_jTRR9PLPyYv"
      },
      "execution_count": null,
      "outputs": []
    },
    {
      "cell_type": "code",
      "source": [
        "rank_4_tensor[:1,:1,:,:1]"
      ],
      "metadata": {
        "id": "6qROT4x-QKC1"
      },
      "execution_count": null,
      "outputs": []
    },
    {
      "cell_type": "code",
      "source": [
        "rank_4_tensor[:,:1,:1,:1]"
      ],
      "metadata": {
        "id": "OsbgOE2fQ2DW"
      },
      "execution_count": null,
      "outputs": []
    },
    {
      "cell_type": "code",
      "source": [
        "rank_4_tensor[:1,:,:1,:1]"
      ],
      "metadata": {
        "id": "ywJP8P9YRHFW"
      },
      "execution_count": null,
      "outputs": []
    },
    {
      "cell_type": "code",
      "source": [
        "rank_4_tensor[:1,:1,:,:1]"
      ],
      "metadata": {
        "id": "omu7nV4_RP_7"
      },
      "execution_count": null,
      "outputs": []
    },
    {
      "cell_type": "code",
      "source": [
        "rank_4_tensor[:1,:1,:1,:]"
      ],
      "metadata": {
        "id": "IWZGifqwRUYQ"
      },
      "execution_count": null,
      "outputs": []
    },
    {
      "cell_type": "code",
      "source": [
        "#Create a rank 2 tensor (2D)\n",
        "rank_2_tensor=tf.constant([[10,7],[4,2]])\n",
        "rank_2_tensor"
      ],
      "metadata": {
        "id": "9ToaB0VyRbXc"
      },
      "execution_count": null,
      "outputs": []
    },
    {
      "cell_type": "code",
      "source": [
        "rank_2_tensor.shape,rank_2_tensor.ndim"
      ],
      "metadata": {
        "id": "RdXGZkIPR7N3"
      },
      "execution_count": null,
      "outputs": []
    },
    {
      "cell_type": "code",
      "source": [
        "#get the last item of each row of our rank 2 tensor\n",
        "rank_2_tensor[:,-1]"
      ],
      "metadata": {
        "id": "OSX3XRafSDau"
      },
      "execution_count": null,
      "outputs": []
    },
    {
      "cell_type": "code",
      "source": [
        "#Add in extra dimension to our rank 2 tensor\n",
        "rank_3_tensor=rank_2_tensor[...,tf.newaxis]\n",
        "rank_3_tensor"
      ],
      "metadata": {
        "id": "VH4UV6_QSbFV"
      },
      "execution_count": null,
      "outputs": []
    },
    {
      "cell_type": "code",
      "source": [
        "#Other alternatives tf.newaxis\n",
        "tf.expand_dims(rank_2_tensor,axis=-1) #-1 means expand the final axis"
      ],
      "metadata": {
        "id": "IpdNrAk9V8w5"
      },
      "execution_count": null,
      "outputs": []
    },
    {
      "cell_type": "code",
      "source": [
        "tf.expand_dims(rank_4_tensor,axis=0)"
      ],
      "metadata": {
        "id": "8pTQjYpdbj88"
      },
      "execution_count": null,
      "outputs": []
    },
    {
      "cell_type": "code",
      "source": [
        "\n",
        "tf.expand_dims(rank_2_tensor,axis=1) #Axis is 1"
      ],
      "metadata": {
        "id": "oReVH7IWcSbv"
      },
      "execution_count": null,
      "outputs": []
    },
    {
      "cell_type": "code",
      "source": [
        "tf.expand_dims(rank_2_tensor,axis=2)"
      ],
      "metadata": {
        "id": "Bl4Nkib0crb_"
      },
      "execution_count": null,
      "outputs": []
    },
    {
      "cell_type": "code",
      "source": [
        "tf.expand_dims(rank_2_tensor,axis=-1)"
      ],
      "metadata": {
        "id": "6faau1n6c04Z"
      },
      "execution_count": null,
      "outputs": []
    },
    {
      "cell_type": "markdown",
      "source": [
        "### Manipulating tensors (tensor operations)\n",
        "**Basic operations**\n",
        "\n",
        "`+`:Addition\n",
        "\n",
        "`-`:Subtraction\n",
        "\n",
        "`*`:Multiplication\n",
        "\n",
        "`/`:Division\n",
        "\n",
        "`**`:Exponent\n",
        "\n",
        "`//`:Floor Division\n",
        "\n",
        "\n"
      ],
      "metadata": {
        "id": "64w5CEsGc8pF"
      }
    },
    {
      "cell_type": "code",
      "source": [
        "# You can add values to a tensor using the addition operator\n",
        "tensor=tf.constant([[10,7],[3,4]])\n",
        "tensor"
      ],
      "metadata": {
        "id": "gcXGDfMAd6ph"
      },
      "execution_count": null,
      "outputs": []
    },
    {
      "cell_type": "code",
      "source": [
        "tensor+10,tensor-10,tensor*10,tensor/10 #implict datatype conversion from int32 to float32"
      ],
      "metadata": {
        "id": "3vU4g6NCg7U3"
      },
      "execution_count": null,
      "outputs": []
    },
    {
      "cell_type": "code",
      "source": [
        " #Original tensor is unchanged\n",
        "tensor_1=tensor+10"
      ],
      "metadata": {
        "id": "aUpGurlRg-jP"
      },
      "execution_count": null,
      "outputs": []
    },
    {
      "cell_type": "code",
      "source": [
        "tensor_1"
      ],
      "metadata": {
        "id": "chOp5puki-mW"
      },
      "execution_count": null,
      "outputs": []
    },
    {
      "cell_type": "code",
      "source": [
        "tensor_2=(tensor-10).numpy()\n",
        "tensor_3=tensor*10\n",
        "tensor_4=tensor/10\n",
        "tensor_5=tensor//10\n",
        "tensor_5=tensor**2"
      ],
      "metadata": {
        "id": "0SDLPK9wjG0a"
      },
      "execution_count": null,
      "outputs": []
    },
    {
      "cell_type": "code",
      "source": [
        "\n",
        "tensor_2,tensor_3,tensor_4,tensor_5"
      ],
      "metadata": {
        "id": "ZoEYP0ymjTTm"
      },
      "execution_count": null,
      "outputs": []
    },
    {
      "cell_type": "code",
      "source": [
        "# We can use the tensorflow built-in function too\n",
        "tf.multiply(tensor,10)"
      ],
      "metadata": {
        "id": "0AujlmqEjYYO"
      },
      "execution_count": null,
      "outputs": []
    },
    {
      "cell_type": "markdown",
      "source": [
        "**Matrix Multiplication**\n",
        "\n",
        "In machine learning matrix multipication is one of the most common tensor operation.\n",
        "\n",
        "There 2 rules our tensors (or matrices) need to fulfil if we're going to matrix mutliply them:\n",
        "\n",
        "1.The inner dimensions must watch\n",
        "\n",
        "2.The Resulting matrix has the shape of the Outer dimensions."
      ],
      "metadata": {
        "id": "cxskhHO5lxfn"
      }
    },
    {
      "cell_type": "code",
      "source": [
        "#Matrix multipication in tensorflow\n",
        "import tensorflow as tf\n",
        "import numpy as np"
      ],
      "metadata": {
        "id": "25_-HrpCmuH2"
      },
      "execution_count": null,
      "outputs": []
    },
    {
      "cell_type": "code",
      "source": [
        "\n",
        "\n",
        "tensor_1=tf.constant([[10,7],\n",
        "                      [4,5]])\n",
        "tensor_1"
      ],
      "metadata": {
        "id": "PUR1UhhYJ3Sp"
      },
      "execution_count": null,
      "outputs": []
    },
    {
      "cell_type": "code",
      "source": [
        "\n",
        "num_A=np.arange(10)\n",
        "num_A\n",
        "tensor_2=tf.constant(num_A,shape=(2,5))"
      ],
      "metadata": {
        "id": "l3rpknIgKDgb"
      },
      "execution_count": null,
      "outputs": []
    },
    {
      "cell_type": "code",
      "source": [
        "tensor_2=tf.cast(tensor_2,tf.int32)"
      ],
      "metadata": {
        "id": "XU0Tzto6Ktex"
      },
      "execution_count": null,
      "outputs": []
    },
    {
      "cell_type": "code",
      "source": [
        "tf.matmul(tensor_1,tensor_1)"
      ],
      "metadata": {
        "id": "1OiHV_DgK7M_"
      },
      "execution_count": null,
      "outputs": []
    },
    {
      "cell_type": "code",
      "source": [
        "tf.matmul(tensor_1,tensor_2)"
      ],
      "metadata": {
        "id": "Z12FCBuFLSRU"
      },
      "execution_count": null,
      "outputs": []
    },
    {
      "cell_type": "code",
      "source": [
        "tf.random.set_seed(42)\n",
        "tensor_3 = tf.random.uniform(shape=(2, 3, 4), minval=0, maxval=24, dtype = tf.int32)\n",
        "# tf.random.set_seed(42)\n",
        "# tensor_3 = tf.random.uniform(shape=(2, 3, 4), minval=0, maxval=24, dtype=tf.int32)\n",
        "tensor_3"
      ],
      "metadata": {
        "id": "OM_TjURnLcqb"
      },
      "execution_count": null,
      "outputs": []
    },
    {
      "cell_type": "code",
      "source": [
        "tf.random.set_seed(20)\n",
        "tensor_4=tf.random.uniform(shape=(2,4,5),minval=24,maxval=64,dtype=tf.int32)\n",
        "tensor_4"
      ],
      "metadata": {
        "id": "oQG9backNG-T"
      },
      "execution_count": null,
      "outputs": []
    },
    {
      "cell_type": "code",
      "source": [
        "tf.matmul(tensor_3,tensor_4)"
      ],
      "metadata": {
        "id": "pe7kZfElPp8V"
      },
      "execution_count": null,
      "outputs": []
    },
    {
      "cell_type": "code",
      "source": [
        "#Matrix multilication usinh python operator \"@\"\n",
        "tensor_1*tensor_1"
      ],
      "metadata": {
        "id": "dmJCMIjNPwz2"
      },
      "execution_count": null,
      "outputs": []
    },
    {
      "cell_type": "code",
      "source": [
        "tensor_1@tensor_2"
      ],
      "metadata": {
        "id": "IOwUbPZpRhA_"
      },
      "execution_count": null,
      "outputs": []
    },
    {
      "cell_type": "code",
      "source": [
        "tensor_1.shape,tensor_2.shape"
      ],
      "metadata": {
        "id": "bZ5W-vZwRvaj"
      },
      "execution_count": null,
      "outputs": []
    },
    {
      "cell_type": "code",
      "source": [
        "#create tensor of (3,2) tensor\n",
        "X=tf.constant([[1,3],\n",
        "                [4,3],\n",
        "                [5,6]])\n",
        "#create tensor of (3,2) tensor\n",
        "Y=tf.constant([[7,8],\n",
        "               [9,10],\n",
        "               [11,12]])\n",
        "\n",
        "X,Y"
      ],
      "metadata": {
        "id": "yA43m4aIR3sp"
      },
      "execution_count": null,
      "outputs": []
    },
    {
      "cell_type": "markdown",
      "source": [
        "📑 **Resource** Info and example of matrix multiplication: https://www.mathsisfun.com/algebra/matrix-mutliplying.html"
      ],
      "metadata": {
        "id": "ZxRzfqXNTbzc"
      }
    },
    {
      "cell_type": "code",
      "source": [
        "#Try to matrix multiply tensors of same shape\n",
        "Y=tf.reshape(Y,(2,3))"
      ],
      "metadata": {
        "id": "_aH0mAJjS5k4"
      },
      "execution_count": null,
      "outputs": []
    },
    {
      "cell_type": "code",
      "source": [
        "Y"
      ],
      "metadata": {
        "id": "za1W8VLeU-F7"
      },
      "execution_count": null,
      "outputs": []
    },
    {
      "cell_type": "code",
      "source": [
        "X,Y"
      ],
      "metadata": {
        "id": "8iQhsZt9VQIu"
      },
      "execution_count": null,
      "outputs": []
    },
    {
      "cell_type": "code",
      "source": [
        "X@Y"
      ],
      "metadata": {
        "id": "DfdZfx4uVR2m"
      },
      "execution_count": null,
      "outputs": []
    },
    {
      "cell_type": "code",
      "source": [
        "tf.matmul(X,Y)"
      ],
      "metadata": {
        "id": "XH-GoWR5VT0o"
      },
      "execution_count": null,
      "outputs": []
    },
    {
      "cell_type": "code",
      "source": [
        "#Lets code\n",
        "Z=tf.constant([[1,2,4],\n",
        "               [3,5,6],\n",
        "               [7,8,9]])\n",
        "Z"
      ],
      "metadata": {
        "id": "kE1ahk_UXT1p"
      },
      "execution_count": null,
      "outputs": []
    },
    {
      "cell_type": "code",
      "source": [
        "W=tf.constant([[2,3],\n",
        "               [4,5],\n",
        "               [6,7]])\n",
        "W"
      ],
      "metadata": {
        "id": "vh3N-1bEXyHI"
      },
      "execution_count": null,
      "outputs": []
    },
    {
      "cell_type": "code",
      "source": [
        "\n",
        "\n",
        "Z,W"
      ],
      "metadata": {
        "id": "g_U4AA9bX9zS"
      },
      "execution_count": null,
      "outputs": []
    },
    {
      "cell_type": "code",
      "source": [
        "\n",
        "tf.matmul(Z,W)"
      ],
      "metadata": {
        "id": "k96QThBIYFUV"
      },
      "execution_count": null,
      "outputs": []
    },
    {
      "cell_type": "code",
      "source": [
        "\n",
        "\n",
        "\n",
        "\n",
        "\n",
        "\n",
        "#Try to multiply tf.reshape\n",
        "X,Y"
      ],
      "metadata": {
        "id": "i815LG_XYI04"
      },
      "execution_count": null,
      "outputs": []
    },
    {
      "cell_type": "code",
      "source": [
        "tf.reshape(X,(2,3))@tf.reshape(Y,shape=(3,2))"
      ],
      "metadata": {
        "id": "vssX3xKbYT-3"
      },
      "execution_count": null,
      "outputs": []
    },
    {
      "cell_type": "code",
      "source": [
        "tf.matmul(tf.reshape(X,shape=(2,3)),tf.reshape(Y,shape=(3,2)))"
      ],
      "metadata": {
        "id": "sAU80OLmYa-2"
      },
      "execution_count": null,
      "outputs": []
    },
    {
      "cell_type": "code",
      "source": [
        "X,Y,X*tf.reshape(Y,(3,2)),X@Y"
      ],
      "metadata": {
        "id": "zG6pSPtsY4p6"
      },
      "execution_count": null,
      "outputs": []
    },
    {
      "cell_type": "code",
      "source": [
        "#try change the shape of X instead Y\n",
        "X,Y"
      ],
      "metadata": {
        "id": "D83xS-vTZJRy"
      },
      "execution_count": null,
      "outputs": []
    },
    {
      "cell_type": "code",
      "source": [
        "X.shape,Y.shape"
      ],
      "metadata": {
        "id": "cGbaFdSFZr-F"
      },
      "execution_count": null,
      "outputs": []
    },
    {
      "cell_type": "code",
      "source": [
        "\n",
        "#Can do the same with transpose\n",
        "tf.transpose(X),Y"
      ],
      "metadata": {
        "id": "EdoFNKSRaGVq"
      },
      "execution_count": null,
      "outputs": []
    },
    {
      "cell_type": "code",
      "source": [
        "Z,W"
      ],
      "metadata": {
        "id": "GusHGL2kb9As"
      },
      "execution_count": null,
      "outputs": []
    },
    {
      "cell_type": "code",
      "source": [
        "tensor_3,tensor_4"
      ],
      "metadata": {
        "id": "fWoO_G6wsEJl"
      },
      "execution_count": null,
      "outputs": []
    },
    {
      "cell_type": "code",
      "source": [
        "tf.transpose(tensor_3),tensor_3"
      ],
      "metadata": {
        "id": "0BVd6AHRsLf5"
      },
      "execution_count": null,
      "outputs": []
    },
    {
      "cell_type": "code",
      "source": [
        "tf.transpose(tensor_4),tensor_4"
      ],
      "metadata": {
        "id": "p-zMW7EvsQNS"
      },
      "execution_count": null,
      "outputs": []
    },
    {
      "cell_type": "code",
      "source": [
        "#try matrix multiplication with transpose rather than reshape\n",
        "Z,W"
      ],
      "metadata": {
        "id": "ooYfvWpCsXza"
      },
      "execution_count": null,
      "outputs": []
    },
    {
      "cell_type": "code",
      "source": [
        "\n",
        "\n",
        "Y=tf.transpose(Y)"
      ],
      "metadata": {
        "id": "ph8BFUEEsode"
      },
      "execution_count": null,
      "outputs": []
    },
    {
      "cell_type": "code",
      "source": [
        "X,Y"
      ],
      "metadata": {
        "id": "ah4cFcvvs1W_"
      },
      "execution_count": null,
      "outputs": []
    },
    {
      "cell_type": "code",
      "source": [
        "tf.matmul(tf.transpose(X),Y)"
      ],
      "metadata": {
        "id": "qNTjzd_5s2yY"
      },
      "execution_count": null,
      "outputs": []
    },
    {
      "cell_type": "code",
      "source": [
        "tf.matmul(X,tf.transpose(Y))"
      ],
      "metadata": {
        "id": "W5u89Gdbs9uz"
      },
      "execution_count": null,
      "outputs": []
    },
    {
      "cell_type": "code",
      "source": [
        "X@ tf.transpose(Y)"
      ],
      "metadata": {
        "id": "c3nxB1ZqtD8v"
      },
      "execution_count": null,
      "outputs": []
    },
    {
      "cell_type": "code",
      "source": [
        "print(\"Transpose :\",tf.transpose(X) @ Y)\n",
        "print(\"Reshape :\",tf.reshape(X,(2,3))@ Y)"
      ],
      "metadata": {
        "id": "SX3KmwA8tJcm"
      },
      "execution_count": null,
      "outputs": []
    },
    {
      "cell_type": "code",
      "source": [
        "\n",
        "X,tf.transpose(X),tf.reshape(X,(2,3))"
      ],
      "metadata": {
        "id": "MeeRHSL4tPA2"
      },
      "execution_count": null,
      "outputs": []
    },
    {
      "cell_type": "markdown",
      "source": [
        "**Dot Product**\n",
        "\n",
        "The matrix multiplication is also refer to as dot product.\n",
        "You can perform matrix multiplication using:\n",
        "\n",
        "* `tf.matmul()`\n",
        "* `tf.tensordot()`"
      ],
      "metadata": {
        "id": "pahYE6YSuHSP"
      }
    },
    {
      "cell_type": "code",
      "source": [
        "# Perform the dot perform on X and Y (require X or Y to be transposed)\n",
        "tf.tensordot(tf.transpose(X),Y,axes=1)"
      ],
      "metadata": {
        "id": "CkilrgV4xzn4"
      },
      "execution_count": null,
      "outputs": []
    },
    {
      "cell_type": "code",
      "source": [
        "#Prform matrix mulitplication between X and Y (transpose)\n",
        "tf.tensordot(X,tf.transpose(Y),axes=1),tf.matmul(X,tf.transpose(Y)),X @ tf.transpose(Y)"
      ],
      "metadata": {
        "id": "DREd4qRI0g1T"
      },
      "execution_count": null,
      "outputs": []
    },
    {
      "cell_type": "code",
      "source": [
        "tf.matmul(X,tf.transpose(Y))"
      ],
      "metadata": {
        "id": "Lh7Cf1CE010n"
      },
      "execution_count": null,
      "outputs": []
    },
    {
      "cell_type": "code",
      "source": [
        "\n",
        "tf.tensordot(X,tf.transpose(Y),axes=1),tf.matmul(X,tf.transpose(Y)),tf.matmul(X,tf.reshape(Y,(2,3)))"
      ],
      "metadata": {
        "id": "e4kl9wdj1FqN"
      },
      "execution_count": null,
      "outputs": []
    },
    {
      "cell_type": "code",
      "source": [
        "#Check the value of Y ,reshape of Y,transpose of Y\n",
        "print(\"Normal Y:\")\n",
        "print(Y,\"\\n\") # \"\\n\" is for next line\n",
        "\n",
        "print(\"Y is reshaped to (2,3):\")\n",
        "print(tf.reshape(Y,shape=(2,3)),\"\\n\")\n"
      ],
      "metadata": {
        "id": "4DyA1uNy1bqm"
      },
      "execution_count": null,
      "outputs": []
    },
    {
      "cell_type": "code",
      "source": [
        "import tensorflow as tf\n",
        "import numpy as np"
      ],
      "metadata": {
        "id": "Sm_Ni_3nXo9b"
      },
      "execution_count": null,
      "outputs": []
    },
    {
      "cell_type": "code",
      "source": [
        "num_A=np.arange(40)\n",
        "num_A"
      ],
      "metadata": {
        "id": "IYhQYLRWXvls"
      },
      "execution_count": null,
      "outputs": []
    },
    {
      "cell_type": "code",
      "source": [
        "tf.random.set_seed(42)\n",
        "shuffle_1=tf.random.shuffle(num_A)"
      ],
      "metadata": {
        "id": "BhB7jluQX72s"
      },
      "execution_count": null,
      "outputs": []
    },
    {
      "cell_type": "code",
      "source": [
        "tf.random.set_seed(20)\n",
        "shuffle_2=tf.random.shuffle(num_A)"
      ],
      "metadata": {
        "id": "cgqCQyBVYiWj"
      },
      "execution_count": null,
      "outputs": []
    },
    {
      "cell_type": "code",
      "source": [
        "shuffle_2"
      ],
      "metadata": {
        "id": "t8UrTPEFYn4G"
      },
      "execution_count": null,
      "outputs": []
    },
    {
      "cell_type": "code",
      "source": [
        "X=tf.constant(shuffle_2,shape=(2,4,5))\n",
        "Y=tf.constant(shuffle_1,shape=(2,4,5))\n",
        "X,Y"
      ],
      "metadata": {
        "id": "3E0dYEHXYzgC"
      },
      "execution_count": null,
      "outputs": []
    },
    {
      "cell_type": "code",
      "source": [
        "#check the values of Y and reshape Y and transpose Y\n",
        "print(\"Normal Y:\")\n",
        "print(Y,\"\\n\")\n",
        "\n",
        "print(\"Y reshaped to (2,5,4):\")\n",
        "print(tf.reshape(Y,(2,5,4)),\"\\n\")\n",
        "\n",
        "print(\"Y transposed:\")\n",
        "print(tf.transpose(Y))"
      ],
      "metadata": {
        "id": "kxux2e3KZEOz"
      },
      "execution_count": null,
      "outputs": []
    },
    {
      "cell_type": "code",
      "source": [
        "tf.matmul(X,tf.reshape(Y,(2,5,4)))"
      ],
      "metadata": {
        "id": "D_57nHREZ13m"
      },
      "execution_count": null,
      "outputs": []
    },
    {
      "cell_type": "markdown",
      "source": [
        "Generally, when performing matrix multplication on two tensor and one of the axes doesn't line up,you will transpose(rather than reshape ) one of the tensors to get satisfy the matrix multiplication rules."
      ],
      "metadata": {
        "id": "XjgXiCOqabiu"
      }
    },
    {
      "cell_type": "markdown",
      "source": [
        "### Changing the Datatype of tensors"
      ],
      "metadata": {
        "id": "EbpqQYHBbdsk"
      }
    },
    {
      "cell_type": "code",
      "source": [
        "# Create a new tensor with default datatype (float32)\n",
        "B = tf.constant([1.7,2.8,7.4])\n",
        "B.dtype\n"
      ],
      "metadata": {
        "id": "cDTKEpgYbyBt"
      },
      "execution_count": null,
      "outputs": []
    },
    {
      "cell_type": "code",
      "source": [
        "A=tf.constant([[0.455555344484534957465974,0.4734637423648374],\n",
        "                [0.455555344484534957465974,0.4734637423648374]])\n",
        "A.dtype"
      ],
      "metadata": {
        "id": "Q6_hqYq7cWi6"
      },
      "execution_count": null,
      "outputs": []
    },
    {
      "cell_type": "markdown",
      "source": [
        "### tf.cast to change dtype of tensor"
      ],
      "metadata": {
        "id": "IhfWDEyUckKA"
      }
    },
    {
      "cell_type": "code",
      "source": [
        "tf.cast(B,tf.int32)"
      ],
      "metadata": {
        "id": "a49DbaxocwVl"
      },
      "execution_count": null,
      "outputs": []
    },
    {
      "cell_type": "code",
      "source": [
        "tf.cast(B,tf.float64),tf.cast(A,tf.int8)"
      ],
      "metadata": {
        "id": "F7lTnK7jc0ua"
      },
      "execution_count": null,
      "outputs": []
    },
    {
      "cell_type": "code",
      "source": [
        "tf.cast(B,tf.uint8)"
      ],
      "metadata": {
        "id": "XLufzwi8c9yV"
      },
      "execution_count": null,
      "outputs": []
    },
    {
      "cell_type": "code",
      "source": [
        "tf.__version__"
      ],
      "metadata": {
        "id": "WNz8yJDPd-um"
      },
      "execution_count": null,
      "outputs": []
    },
    {
      "cell_type": "code",
      "source": [
        "#Change from float 32 to float64 increasing precision\n",
        "tf.cast(B,tf.float64)"
      ],
      "metadata": {
        "id": "AWuEkz78efPh"
      },
      "execution_count": null,
      "outputs": []
    },
    {
      "cell_type": "code",
      "source": [
        "#Change from float32 to float16 (reduced precision)\n",
        "tf.cast(B,tf.float16)"
      ],
      "metadata": {
        "id": "1HXZVKOUgu6A"
      },
      "execution_count": null,
      "outputs": []
    },
    {
      "cell_type": "code",
      "source": [
        " B=tf.cast(B,dtype=tf.float16)"
      ],
      "metadata": {
        "id": "BRbxZaJPg7bC"
      },
      "execution_count": null,
      "outputs": []
    },
    {
      "cell_type": "code",
      "source": [
        "B"
      ],
      "metadata": {
        "id": "_krUx4ROheDL"
      },
      "execution_count": null,
      "outputs": []
    },
    {
      "cell_type": "code",
      "source": [
        "#Change from int32 to float32\n",
        "E=tf.cast(A,dtype=tf.float32)\n",
        "A=tf.cast(A,dtype=tf.int32)"
      ],
      "metadata": {
        "id": "VGYTGfh5hgNb"
      },
      "execution_count": null,
      "outputs": []
    },
    {
      "cell_type": "code",
      "source": [
        "E,A"
      ],
      "metadata": {
        "id": "jkN-zePHiBg0"
      },
      "execution_count": null,
      "outputs": []
    },
    {
      "cell_type": "code",
      "source": [
        "E_float16=tf.cast(E,dtype=tf.float16)\n",
        "E_float16"
      ],
      "metadata": {
        "id": "gO8I-Tomijng"
      },
      "execution_count": null,
      "outputs": []
    },
    {
      "cell_type": "markdown",
      "source": [
        "### Aggregating tensors\n",
        "\n",
        "Aggregating tensors=condensing them from multiple values down to a smaller amount of values.\n"
      ],
      "metadata": {
        "id": "Lq3p1h2rjZG-"
      }
    },
    {
      "cell_type": "code",
      "source": [
        "#Get the absolute values\n",
        "D=tf.constant([-7,-11])\n",
        "D"
      ],
      "metadata": {
        "id": "utUBcLgSjs1G"
      },
      "execution_count": null,
      "outputs": []
    },
    {
      "cell_type": "code",
      "source": [
        "#Get the aboslute values\n",
        "tf.abs(D)"
      ],
      "metadata": {
        "id": "FoZ2wxbosMx_"
      },
      "execution_count": null,
      "outputs": []
    },
    {
      "cell_type": "markdown",
      "source": [
        "Lets go to more ways of aggregation:\n",
        "\n",
        "* Get the minimum\n",
        "* Get the maximum\n",
        "* Get the mean of a tensor\n",
        "* Get the sum of a tensor\n",
        "\n",
        "\n",
        "   "
      ],
      "metadata": {
        "id": "TA_K8Hj4sSh7"
      }
    },
    {
      "cell_type": "code",
      "source": [
        "#Create a tensor\n",
        "F=tf.constant(np.arange(24),shape=(2,3,4))"
      ],
      "metadata": {
        "colab": {
          "base_uri": "https://localhost:8080/",
          "height": 198
        },
        "id": "Wbi9oLD4tA4Z",
        "outputId": "eb4ba0f8-4938-4140-8072-9f40ee83ec86"
      },
      "execution_count": null,
      "outputs": [
        {
          "output_type": "error",
          "ename": "NameError",
          "evalue": "ignored",
          "traceback": [
            "\u001b[0;31m---------------------------------------------------------------------------\u001b[0m",
            "\u001b[0;31mNameError\u001b[0m                                 Traceback (most recent call last)",
            "\u001b[0;32m<ipython-input-19-4f87932e92a0>\u001b[0m in \u001b[0;36m<cell line: 2>\u001b[0;34m()\u001b[0m\n\u001b[1;32m      1\u001b[0m \u001b[0;31m#Create a tensor\u001b[0m\u001b[0;34m\u001b[0m\u001b[0;34m\u001b[0m\u001b[0m\n\u001b[0;32m----> 2\u001b[0;31m \u001b[0mF\u001b[0m\u001b[0;34m=\u001b[0m\u001b[0mtf\u001b[0m\u001b[0;34m.\u001b[0m\u001b[0mconstant\u001b[0m\u001b[0;34m(\u001b[0m\u001b[0mnp\u001b[0m\u001b[0;34m.\u001b[0m\u001b[0marange\u001b[0m\u001b[0;34m(\u001b[0m\u001b[0;36m24\u001b[0m\u001b[0;34m)\u001b[0m\u001b[0;34m,\u001b[0m\u001b[0mshape\u001b[0m\u001b[0;34m=\u001b[0m\u001b[0;34m(\u001b[0m\u001b[0;36m2\u001b[0m\u001b[0;34m,\u001b[0m\u001b[0;36m3\u001b[0m\u001b[0;34m,\u001b[0m\u001b[0;36m4\u001b[0m\u001b[0;34m)\u001b[0m\u001b[0;34m)\u001b[0m\u001b[0;34m\u001b[0m\u001b[0;34m\u001b[0m\u001b[0m\n\u001b[0m",
            "\u001b[0;31mNameError\u001b[0m: name 'np' is not defined"
          ]
        }
      ]
    },
    {
      "cell_type": "code",
      "source": [
        "#Adding global level seed\n",
        "tf.random.set_seed(42)\n",
        "F=tf.random.shuffle(F)"
      ],
      "metadata": {
        "id": "9YtkU3YAuImp"
      },
      "execution_count": null,
      "outputs": []
    },
    {
      "cell_type": "code",
      "source": [
        "#Shufflig each and every element of 3d tensor by  flaatening tensor\n",
        "F=tf.reshape(F,shape=(24))"
      ],
      "metadata": {
        "id": "TLUKbPtKu5GK",
        "colab": {
          "base_uri": "https://localhost:8080/",
          "height": 365
        },
        "outputId": "88389645-8f7d-4efa-e70c-82e95f3394de"
      },
      "execution_count": null,
      "outputs": [
        {
          "output_type": "error",
          "ename": "InvalidArgumentError",
          "evalue": "ignored",
          "traceback": [
            "\u001b[0;31m---------------------------------------------------------------------------\u001b[0m",
            "\u001b[0;31mInvalidArgumentError\u001b[0m                      Traceback (most recent call last)",
            "\u001b[0;32m<ipython-input-21-6e7d92598b30>\u001b[0m in \u001b[0;36m<cell line: 2>\u001b[0;34m()\u001b[0m\n\u001b[1;32m      1\u001b[0m \u001b[0;31m#Shufflig each and every element of 3d tensor by  flaatening tensor\u001b[0m\u001b[0;34m\u001b[0m\u001b[0;34m\u001b[0m\u001b[0m\n\u001b[0;32m----> 2\u001b[0;31m \u001b[0mF\u001b[0m\u001b[0;34m=\u001b[0m\u001b[0mtf\u001b[0m\u001b[0;34m.\u001b[0m\u001b[0mreshape\u001b[0m\u001b[0;34m(\u001b[0m\u001b[0mF\u001b[0m\u001b[0;34m,\u001b[0m\u001b[0mshape\u001b[0m\u001b[0;34m=\u001b[0m\u001b[0;34m(\u001b[0m\u001b[0;36m24\u001b[0m\u001b[0;34m)\u001b[0m\u001b[0;34m)\u001b[0m\u001b[0;34m\u001b[0m\u001b[0;34m\u001b[0m\u001b[0m\n\u001b[0m",
            "\u001b[0;32m/usr/local/lib/python3.10/dist-packages/tensorflow/python/util/traceback_utils.py\u001b[0m in \u001b[0;36merror_handler\u001b[0;34m(*args, **kwargs)\u001b[0m\n\u001b[1;32m    151\u001b[0m     \u001b[0;32mexcept\u001b[0m \u001b[0mException\u001b[0m \u001b[0;32mas\u001b[0m \u001b[0me\u001b[0m\u001b[0;34m:\u001b[0m\u001b[0;34m\u001b[0m\u001b[0;34m\u001b[0m\u001b[0m\n\u001b[1;32m    152\u001b[0m       \u001b[0mfiltered_tb\u001b[0m \u001b[0;34m=\u001b[0m \u001b[0m_process_traceback_frames\u001b[0m\u001b[0;34m(\u001b[0m\u001b[0me\u001b[0m\u001b[0;34m.\u001b[0m\u001b[0m__traceback__\u001b[0m\u001b[0;34m)\u001b[0m\u001b[0;34m\u001b[0m\u001b[0;34m\u001b[0m\u001b[0m\n\u001b[0;32m--> 153\u001b[0;31m       \u001b[0;32mraise\u001b[0m \u001b[0me\u001b[0m\u001b[0;34m.\u001b[0m\u001b[0mwith_traceback\u001b[0m\u001b[0;34m(\u001b[0m\u001b[0mfiltered_tb\u001b[0m\u001b[0;34m)\u001b[0m \u001b[0;32mfrom\u001b[0m \u001b[0;32mNone\u001b[0m\u001b[0;34m\u001b[0m\u001b[0;34m\u001b[0m\u001b[0m\n\u001b[0m\u001b[1;32m    154\u001b[0m     \u001b[0;32mfinally\u001b[0m\u001b[0;34m:\u001b[0m\u001b[0;34m\u001b[0m\u001b[0;34m\u001b[0m\u001b[0m\n\u001b[1;32m    155\u001b[0m       \u001b[0;32mdel\u001b[0m \u001b[0mfiltered_tb\u001b[0m\u001b[0;34m\u001b[0m\u001b[0;34m\u001b[0m\u001b[0m\n",
            "\u001b[0;32m/usr/local/lib/python3.10/dist-packages/tensorflow/python/framework/ops.py\u001b[0m in \u001b[0;36mraise_from_not_ok_status\u001b[0;34m(e, name)\u001b[0m\n\u001b[1;32m   7260\u001b[0m \u001b[0;32mdef\u001b[0m \u001b[0mraise_from_not_ok_status\u001b[0m\u001b[0;34m(\u001b[0m\u001b[0me\u001b[0m\u001b[0;34m,\u001b[0m \u001b[0mname\u001b[0m\u001b[0;34m)\u001b[0m\u001b[0;34m:\u001b[0m\u001b[0;34m\u001b[0m\u001b[0;34m\u001b[0m\u001b[0m\n\u001b[1;32m   7261\u001b[0m   \u001b[0me\u001b[0m\u001b[0;34m.\u001b[0m\u001b[0mmessage\u001b[0m \u001b[0;34m+=\u001b[0m \u001b[0;34m(\u001b[0m\u001b[0;34m\" name: \"\u001b[0m \u001b[0;34m+\u001b[0m \u001b[0mname\u001b[0m \u001b[0;32mif\u001b[0m \u001b[0mname\u001b[0m \u001b[0;32mis\u001b[0m \u001b[0;32mnot\u001b[0m \u001b[0;32mNone\u001b[0m \u001b[0;32melse\u001b[0m \u001b[0;34m\"\"\u001b[0m\u001b[0;34m)\u001b[0m\u001b[0;34m\u001b[0m\u001b[0;34m\u001b[0m\u001b[0m\n\u001b[0;32m-> 7262\u001b[0;31m   \u001b[0;32mraise\u001b[0m \u001b[0mcore\u001b[0m\u001b[0;34m.\u001b[0m\u001b[0m_status_to_exception\u001b[0m\u001b[0;34m(\u001b[0m\u001b[0me\u001b[0m\u001b[0;34m)\u001b[0m \u001b[0;32mfrom\u001b[0m \u001b[0;32mNone\u001b[0m  \u001b[0;31m# pylint: disable=protected-access\u001b[0m\u001b[0;34m\u001b[0m\u001b[0;34m\u001b[0m\u001b[0m\n\u001b[0m\u001b[1;32m   7263\u001b[0m \u001b[0;34m\u001b[0m\u001b[0m\n\u001b[1;32m   7264\u001b[0m \u001b[0;34m\u001b[0m\u001b[0m\n",
            "\u001b[0;31mInvalidArgumentError\u001b[0m: {{function_node __wrapped__Reshape_device_/job:localhost/replica:0/task:0/device:CPU:0}} Input to reshape is a tensor with 4 values, but the requested shape has 24 [Op:Reshape]"
          ]
        }
      ]
    },
    {
      "cell_type": "code",
      "source": [
        "#Shuffling flattened 3d tensor\n",
        "tf.random.set_seed(42)\n",
        "F=tf.random.shuffle(F)"
      ],
      "metadata": {
        "id": "kXNiCP9tv1PB"
      },
      "execution_count": null,
      "outputs": []
    },
    {
      "cell_type": "code",
      "source": [
        "F=tf.reshape(F,shape=(2,3,4))"
      ],
      "metadata": {
        "id": "xk3szEJ6wCNd",
        "colab": {
          "base_uri": "https://localhost:8080/",
          "height": 365
        },
        "outputId": "6eeb8c42-c513-424c-81ff-30c7ac00ea2f"
      },
      "execution_count": null,
      "outputs": [
        {
          "output_type": "error",
          "ename": "InvalidArgumentError",
          "evalue": "ignored",
          "traceback": [
            "\u001b[0;31m---------------------------------------------------------------------------\u001b[0m",
            "\u001b[0;31mInvalidArgumentError\u001b[0m                      Traceback (most recent call last)",
            "\u001b[0;32m<ipython-input-23-715be00f2ce1>\u001b[0m in \u001b[0;36m<cell line: 1>\u001b[0;34m()\u001b[0m\n\u001b[0;32m----> 1\u001b[0;31m \u001b[0mF\u001b[0m\u001b[0;34m=\u001b[0m\u001b[0mtf\u001b[0m\u001b[0;34m.\u001b[0m\u001b[0mreshape\u001b[0m\u001b[0;34m(\u001b[0m\u001b[0mF\u001b[0m\u001b[0;34m,\u001b[0m\u001b[0mshape\u001b[0m\u001b[0;34m=\u001b[0m\u001b[0;34m(\u001b[0m\u001b[0;36m2\u001b[0m\u001b[0;34m,\u001b[0m\u001b[0;36m3\u001b[0m\u001b[0;34m,\u001b[0m\u001b[0;36m4\u001b[0m\u001b[0;34m)\u001b[0m\u001b[0;34m)\u001b[0m\u001b[0;34m\u001b[0m\u001b[0;34m\u001b[0m\u001b[0m\n\u001b[0m",
            "\u001b[0;32m/usr/local/lib/python3.10/dist-packages/tensorflow/python/util/traceback_utils.py\u001b[0m in \u001b[0;36merror_handler\u001b[0;34m(*args, **kwargs)\u001b[0m\n\u001b[1;32m    151\u001b[0m     \u001b[0;32mexcept\u001b[0m \u001b[0mException\u001b[0m \u001b[0;32mas\u001b[0m \u001b[0me\u001b[0m\u001b[0;34m:\u001b[0m\u001b[0;34m\u001b[0m\u001b[0;34m\u001b[0m\u001b[0m\n\u001b[1;32m    152\u001b[0m       \u001b[0mfiltered_tb\u001b[0m \u001b[0;34m=\u001b[0m \u001b[0m_process_traceback_frames\u001b[0m\u001b[0;34m(\u001b[0m\u001b[0me\u001b[0m\u001b[0;34m.\u001b[0m\u001b[0m__traceback__\u001b[0m\u001b[0;34m)\u001b[0m\u001b[0;34m\u001b[0m\u001b[0;34m\u001b[0m\u001b[0m\n\u001b[0;32m--> 153\u001b[0;31m       \u001b[0;32mraise\u001b[0m \u001b[0me\u001b[0m\u001b[0;34m.\u001b[0m\u001b[0mwith_traceback\u001b[0m\u001b[0;34m(\u001b[0m\u001b[0mfiltered_tb\u001b[0m\u001b[0;34m)\u001b[0m \u001b[0;32mfrom\u001b[0m \u001b[0;32mNone\u001b[0m\u001b[0;34m\u001b[0m\u001b[0;34m\u001b[0m\u001b[0m\n\u001b[0m\u001b[1;32m    154\u001b[0m     \u001b[0;32mfinally\u001b[0m\u001b[0;34m:\u001b[0m\u001b[0;34m\u001b[0m\u001b[0;34m\u001b[0m\u001b[0m\n\u001b[1;32m    155\u001b[0m       \u001b[0;32mdel\u001b[0m \u001b[0mfiltered_tb\u001b[0m\u001b[0;34m\u001b[0m\u001b[0;34m\u001b[0m\u001b[0m\n",
            "\u001b[0;32m/usr/local/lib/python3.10/dist-packages/tensorflow/python/eager/execute.py\u001b[0m in \u001b[0;36mquick_execute\u001b[0;34m(op_name, num_outputs, inputs, attrs, ctx, name)\u001b[0m\n\u001b[1;32m     50\u001b[0m   \u001b[0;32mtry\u001b[0m\u001b[0;34m:\u001b[0m\u001b[0;34m\u001b[0m\u001b[0;34m\u001b[0m\u001b[0m\n\u001b[1;32m     51\u001b[0m     \u001b[0mctx\u001b[0m\u001b[0;34m.\u001b[0m\u001b[0mensure_initialized\u001b[0m\u001b[0;34m(\u001b[0m\u001b[0;34m)\u001b[0m\u001b[0;34m\u001b[0m\u001b[0;34m\u001b[0m\u001b[0m\n\u001b[0;32m---> 52\u001b[0;31m     tensors = pywrap_tfe.TFE_Py_Execute(ctx._handle, device_name, op_name,\n\u001b[0m\u001b[1;32m     53\u001b[0m                                         inputs, attrs, num_outputs)\n\u001b[1;32m     54\u001b[0m   \u001b[0;32mexcept\u001b[0m \u001b[0mcore\u001b[0m\u001b[0;34m.\u001b[0m\u001b[0m_NotOkStatusException\u001b[0m \u001b[0;32mas\u001b[0m \u001b[0me\u001b[0m\u001b[0;34m:\u001b[0m\u001b[0;34m\u001b[0m\u001b[0;34m\u001b[0m\u001b[0m\n",
            "\u001b[0;31mInvalidArgumentError\u001b[0m: {{function_node __wrapped__Reshape_device_/job:localhost/replica:0/task:0/device:CPU:0}} Input to reshape is a tensor with 4 values, but the requested shape has 24 [Op:Reshape]"
          ]
        }
      ]
    },
    {
      "cell_type": "code",
      "source": [
        "F"
      ],
      "metadata": {
        "colab": {
          "base_uri": "https://localhost:8080/"
        },
        "id": "MkkGu7ABwd-L",
        "outputId": "15492724-3954-4596-8197-1214df25e88a"
      },
      "execution_count": null,
      "outputs": [
        {
          "output_type": "execute_result",
          "data": {
            "text/plain": [
              "<tf.Tensor: shape=(4,), dtype=float32, numpy=array([6.8, 9.1, 1.7, 2.5], dtype=float32)>"
            ]
          },
          "metadata": {},
          "execution_count": 24
        }
      ]
    },
    {
      "cell_type": "markdown",
      "source": [
        "### Getting maximum element of the tensor\n",
        "**tf.reduce_max()**"
      ],
      "metadata": {
        "id": "c-rQLCdYwk6V"
      }
    },
    {
      "cell_type": "code",
      "source": [
        "tf.reduce_max(F)"
      ],
      "metadata": {
        "colab": {
          "base_uri": "https://localhost:8080/"
        },
        "id": "OjO2PqUWw9Oo",
        "outputId": "24fb531c-8900-4679-b8ba-c06999d59942"
      },
      "execution_count": null,
      "outputs": [
        {
          "output_type": "execute_result",
          "data": {
            "text/plain": [
              "<tf.Tensor: shape=(), dtype=float32, numpy=9.1>"
            ]
          },
          "metadata": {},
          "execution_count": 25
        }
      ]
    },
    {
      "cell_type": "code",
      "source": [
        "tf.reduce_min(F)"
      ],
      "metadata": {
        "colab": {
          "base_uri": "https://localhost:8080/"
        },
        "id": "kk9cDoIAxADI",
        "outputId": "a4e6d4a5-2ed4-4ca6-8fe7-dae400f39dfa"
      },
      "execution_count": null,
      "outputs": [
        {
          "output_type": "execute_result",
          "data": {
            "text/plain": [
              "<tf.Tensor: shape=(), dtype=float32, numpy=1.7>"
            ]
          },
          "metadata": {},
          "execution_count": 26
        }
      ]
    },
    {
      "cell_type": "code",
      "source": [
        "tf.reduce_mean(F)"
      ],
      "metadata": {
        "colab": {
          "base_uri": "https://localhost:8080/"
        },
        "id": "FKAXlhCexC0i",
        "outputId": "ac5477f5-ede3-43ea-dc5f-94625b94747a"
      },
      "execution_count": null,
      "outputs": [
        {
          "output_type": "execute_result",
          "data": {
            "text/plain": [
              "<tf.Tensor: shape=(), dtype=float32, numpy=5.025>"
            ]
          },
          "metadata": {},
          "execution_count": 27
        }
      ]
    },
    {
      "cell_type": "code",
      "source": [
        "tf.reduce_sum(F)"
      ],
      "metadata": {
        "colab": {
          "base_uri": "https://localhost:8080/"
        },
        "id": "nhm8NJmgxGln",
        "outputId": "f283b630-a279-4955-bfa0-5a917dcae824"
      },
      "execution_count": null,
      "outputs": [
        {
          "output_type": "execute_result",
          "data": {
            "text/plain": [
              "<tf.Tensor: shape=(), dtype=float32, numpy=20.1>"
            ]
          },
          "metadata": {},
          "execution_count": 28
        }
      ]
    },
    {
      "cell_type": "code",
      "source": [
        "F=tf.cast(F,tf.float32)"
      ],
      "metadata": {
        "id": "PHAiYXwRy0i4"
      },
      "execution_count": null,
      "outputs": []
    },
    {
      "cell_type": "code",
      "source": [
        "F"
      ],
      "metadata": {
        "colab": {
          "base_uri": "https://localhost:8080/"
        },
        "id": "-biT08xdy72N",
        "outputId": "d9348c90-a569-4c9d-883c-1b00fbe0de94"
      },
      "execution_count": null,
      "outputs": [
        {
          "output_type": "execute_result",
          "data": {
            "text/plain": [
              "<tf.Tensor: shape=(4,), dtype=float32, numpy=array([6.8, 9.1, 1.7, 2.5], dtype=float32)>"
            ]
          },
          "metadata": {},
          "execution_count": 30
        }
      ]
    },
    {
      "cell_type": "code",
      "source": [
        "#All aggrgate functions in float Style\n",
        "tf.reduce_min(F)"
      ],
      "metadata": {
        "colab": {
          "base_uri": "https://localhost:8080/"
        },
        "id": "tzI2xVjuzDHH",
        "outputId": "5864a329-67ef-438f-fce9-23f03d654324"
      },
      "execution_count": null,
      "outputs": [
        {
          "output_type": "execute_result",
          "data": {
            "text/plain": [
              "<tf.Tensor: shape=(), dtype=float32, numpy=1.7>"
            ]
          },
          "metadata": {},
          "execution_count": 31
        }
      ]
    },
    {
      "cell_type": "code",
      "source": [
        "tf.reduce_max(F)"
      ],
      "metadata": {
        "colab": {
          "base_uri": "https://localhost:8080/"
        },
        "id": "M97MyO74zV0I",
        "outputId": "716e9d7d-662b-4517-ec01-192c9b4d30f9"
      },
      "execution_count": null,
      "outputs": [
        {
          "output_type": "execute_result",
          "data": {
            "text/plain": [
              "<tf.Tensor: shape=(), dtype=float32, numpy=9.1>"
            ]
          },
          "metadata": {},
          "execution_count": 32
        }
      ]
    },
    {
      "cell_type": "code",
      "source": [
        "tf.reduce_sum(F)"
      ],
      "metadata": {
        "colab": {
          "base_uri": "https://localhost:8080/"
        },
        "id": "-TuCNFqJzaV_",
        "outputId": "66694953-8aa0-49fe-e0ad-df499852cc44"
      },
      "execution_count": null,
      "outputs": [
        {
          "output_type": "execute_result",
          "data": {
            "text/plain": [
              "<tf.Tensor: shape=(), dtype=float32, numpy=20.1>"
            ]
          },
          "metadata": {},
          "execution_count": 33
        }
      ]
    },
    {
      "cell_type": "code",
      "source": [
        "tf.reduce_mean(F)"
      ],
      "metadata": {
        "colab": {
          "base_uri": "https://localhost:8080/"
        },
        "id": "maDA6DBvzdmk",
        "outputId": "d9a31533-5f8c-4caf-a18d-cdb9f0826d92"
      },
      "execution_count": null,
      "outputs": [
        {
          "output_type": "execute_result",
          "data": {
            "text/plain": [
              "<tf.Tensor: shape=(), dtype=float32, numpy=5.025>"
            ]
          },
          "metadata": {},
          "execution_count": 34
        }
      ]
    },
    {
      "cell_type": "code",
      "source": [
        "#Creating a random tensor with large tensor\n",
        "E=tf.constant(np.random.randint(low=0,high=100))\n",
        "E\n"
      ],
      "metadata": {
        "colab": {
          "base_uri": "https://localhost:8080/",
          "height": 215
        },
        "id": "O-ybZwJWzlh0",
        "outputId": "3a043554-8c08-4029-a430-031f91717a80"
      },
      "execution_count": null,
      "outputs": [
        {
          "output_type": "error",
          "ename": "NameError",
          "evalue": "ignored",
          "traceback": [
            "\u001b[0;31m---------------------------------------------------------------------------\u001b[0m",
            "\u001b[0;31mNameError\u001b[0m                                 Traceback (most recent call last)",
            "\u001b[0;32m<ipython-input-43-8feb107dad53>\u001b[0m in \u001b[0;36m<cell line: 2>\u001b[0;34m()\u001b[0m\n\u001b[1;32m      1\u001b[0m \u001b[0;31m#Creating a random tensor with large tensor\u001b[0m\u001b[0;34m\u001b[0m\u001b[0;34m\u001b[0m\u001b[0m\n\u001b[0;32m----> 2\u001b[0;31m \u001b[0mE\u001b[0m\u001b[0;34m=\u001b[0m\u001b[0mtf\u001b[0m\u001b[0;34m.\u001b[0m\u001b[0mconstant\u001b[0m\u001b[0;34m(\u001b[0m\u001b[0mnp\u001b[0m\u001b[0;34m.\u001b[0m\u001b[0mrandom\u001b[0m\u001b[0;34m.\u001b[0m\u001b[0mrandint\u001b[0m\u001b[0;34m(\u001b[0m\u001b[0mlow\u001b[0m\u001b[0;34m=\u001b[0m\u001b[0;36m0\u001b[0m\u001b[0;34m,\u001b[0m\u001b[0mhigh\u001b[0m\u001b[0;34m=\u001b[0m\u001b[0;36m100\u001b[0m\u001b[0;34m)\u001b[0m\u001b[0;34m)\u001b[0m\u001b[0;34m\u001b[0m\u001b[0;34m\u001b[0m\u001b[0m\n\u001b[0m\u001b[1;32m      3\u001b[0m \u001b[0mE\u001b[0m\u001b[0;34m\u001b[0m\u001b[0;34m\u001b[0m\u001b[0m\n",
            "\u001b[0;31mNameError\u001b[0m: name 'np' is not defined"
          ]
        }
      ]
    },
    {
      "cell_type": "code",
      "source": [
        "tf.shape(E)"
      ],
      "metadata": {
        "id": "2bXib6_D0feT"
      },
      "execution_count": null,
      "outputs": []
    },
    {
      "cell_type": "code",
      "source": [
        "E=tf.reshape(E,shape=(2,5,5))"
      ],
      "metadata": {
        "id": "-U4BLnuB0k_p",
        "colab": {
          "base_uri": "https://localhost:8080/",
          "height": 180
        },
        "outputId": "a77c1fa9-faf9-43d0-8819-ba295e1abf5a"
      },
      "execution_count": null,
      "outputs": [
        {
          "output_type": "error",
          "ename": "NameError",
          "evalue": "ignored",
          "traceback": [
            "\u001b[0;31m---------------------------------------------------------------------------\u001b[0m",
            "\u001b[0;31mNameError\u001b[0m                                 Traceback (most recent call last)",
            "\u001b[0;32m<ipython-input-36-9f8a902c0351>\u001b[0m in \u001b[0;36m<cell line: 1>\u001b[0;34m()\u001b[0m\n\u001b[0;32m----> 1\u001b[0;31m \u001b[0mE\u001b[0m\u001b[0;34m=\u001b[0m\u001b[0mtf\u001b[0m\u001b[0;34m.\u001b[0m\u001b[0mreshape\u001b[0m\u001b[0;34m(\u001b[0m\u001b[0mE\u001b[0m\u001b[0;34m,\u001b[0m\u001b[0mshape\u001b[0m\u001b[0;34m=\u001b[0m\u001b[0;34m(\u001b[0m\u001b[0;36m2\u001b[0m\u001b[0;34m,\u001b[0m\u001b[0;36m5\u001b[0m\u001b[0;34m,\u001b[0m\u001b[0;36m5\u001b[0m\u001b[0;34m)\u001b[0m\u001b[0;34m)\u001b[0m\u001b[0;34m\u001b[0m\u001b[0;34m\u001b[0m\u001b[0m\n\u001b[0m",
            "\u001b[0;31mNameError\u001b[0m: name 'E' is not defined"
          ]
        }
      ]
    },
    {
      "cell_type": "code",
      "source": [
        "E"
      ],
      "metadata": {
        "colab": {
          "base_uri": "https://localhost:8080/",
          "height": 180
        },
        "id": "VaomduqV03fK",
        "outputId": "5ac4f66e-f2b2-440f-9170-4596f5a9264c"
      },
      "execution_count": null,
      "outputs": [
        {
          "output_type": "error",
          "ename": "NameError",
          "evalue": "ignored",
          "traceback": [
            "\u001b[0;31m---------------------------------------------------------------------------\u001b[0m",
            "\u001b[0;31mNameError\u001b[0m                                 Traceback (most recent call last)",
            "\u001b[0;32m<ipython-input-37-7acd6a2b3fe3>\u001b[0m in \u001b[0;36m<cell line: 1>\u001b[0;34m()\u001b[0m\n\u001b[0;32m----> 1\u001b[0;31m \u001b[0mE\u001b[0m\u001b[0;34m\u001b[0m\u001b[0;34m\u001b[0m\u001b[0m\n\u001b[0m",
            "\u001b[0;31mNameError\u001b[0m: name 'E' is not defined"
          ]
        }
      ]
    },
    {
      "cell_type": "code",
      "source": [
        "tf.reduce_min(E)"
      ],
      "metadata": {
        "colab": {
          "base_uri": "https://localhost:8080/",
          "height": 180
        },
        "id": "fni4WPP004T4",
        "outputId": "c49b8708-86b4-463d-df52-cfdb66378b8a"
      },
      "execution_count": null,
      "outputs": [
        {
          "output_type": "error",
          "ename": "NameError",
          "evalue": "ignored",
          "traceback": [
            "\u001b[0;31m---------------------------------------------------------------------------\u001b[0m",
            "\u001b[0;31mNameError\u001b[0m                                 Traceback (most recent call last)",
            "\u001b[0;32m<ipython-input-38-18718fca066f>\u001b[0m in \u001b[0;36m<cell line: 1>\u001b[0;34m()\u001b[0m\n\u001b[0;32m----> 1\u001b[0;31m \u001b[0mtf\u001b[0m\u001b[0;34m.\u001b[0m\u001b[0mreduce_min\u001b[0m\u001b[0;34m(\u001b[0m\u001b[0mE\u001b[0m\u001b[0;34m)\u001b[0m\u001b[0;34m\u001b[0m\u001b[0;34m\u001b[0m\u001b[0m\n\u001b[0m",
            "\u001b[0;31mNameError\u001b[0m: name 'E' is not defined"
          ]
        }
      ]
    },
    {
      "cell_type": "code",
      "source": [
        "tf.reduce_max(E)"
      ],
      "metadata": {
        "colab": {
          "base_uri": "https://localhost:8080/",
          "height": 180
        },
        "id": "M0t-G7Hr09Rx",
        "outputId": "942a0ee1-4dcb-41da-e779-086c380ec61c"
      },
      "execution_count": null,
      "outputs": [
        {
          "output_type": "error",
          "ename": "NameError",
          "evalue": "ignored",
          "traceback": [
            "\u001b[0;31m---------------------------------------------------------------------------\u001b[0m",
            "\u001b[0;31mNameError\u001b[0m                                 Traceback (most recent call last)",
            "\u001b[0;32m<ipython-input-39-46c12cf68520>\u001b[0m in \u001b[0;36m<cell line: 1>\u001b[0;34m()\u001b[0m\n\u001b[0;32m----> 1\u001b[0;31m \u001b[0mtf\u001b[0m\u001b[0;34m.\u001b[0m\u001b[0mreduce_max\u001b[0m\u001b[0;34m(\u001b[0m\u001b[0mE\u001b[0m\u001b[0;34m)\u001b[0m\u001b[0;34m\u001b[0m\u001b[0;34m\u001b[0m\u001b[0m\n\u001b[0m",
            "\u001b[0;31mNameError\u001b[0m: name 'E' is not defined"
          ]
        }
      ]
    },
    {
      "cell_type": "code",
      "source": [
        "tf.reduce_sum(E)"
      ],
      "metadata": {
        "colab": {
          "base_uri": "https://localhost:8080/",
          "height": 180
        },
        "id": "gH95jlF11LoX",
        "outputId": "1ca006f1-d953-4fef-f8bf-15ef72b65006"
      },
      "execution_count": null,
      "outputs": [
        {
          "output_type": "error",
          "ename": "NameError",
          "evalue": "ignored",
          "traceback": [
            "\u001b[0;31m---------------------------------------------------------------------------\u001b[0m",
            "\u001b[0;31mNameError\u001b[0m                                 Traceback (most recent call last)",
            "\u001b[0;32m<ipython-input-40-bccd68830627>\u001b[0m in \u001b[0;36m<cell line: 1>\u001b[0;34m()\u001b[0m\n\u001b[0;32m----> 1\u001b[0;31m \u001b[0mtf\u001b[0m\u001b[0;34m.\u001b[0m\u001b[0mreduce_sum\u001b[0m\u001b[0;34m(\u001b[0m\u001b[0mE\u001b[0m\u001b[0;34m)\u001b[0m\u001b[0;34m\u001b[0m\u001b[0;34m\u001b[0m\u001b[0m\n\u001b[0m",
            "\u001b[0;31mNameError\u001b[0m: name 'E' is not defined"
          ]
        }
      ]
    },
    {
      "cell_type": "code",
      "source": [
        "tf.reduce_mean(E)"
      ],
      "metadata": {
        "colab": {
          "base_uri": "https://localhost:8080/",
          "height": 180
        },
        "id": "VU6_NJJA1Pdd",
        "outputId": "6ad25e48-c223-4b97-f99b-7508aee0f10c"
      },
      "execution_count": null,
      "outputs": [
        {
          "output_type": "error",
          "ename": "NameError",
          "evalue": "ignored",
          "traceback": [
            "\u001b[0;31m---------------------------------------------------------------------------\u001b[0m",
            "\u001b[0;31mNameError\u001b[0m                                 Traceback (most recent call last)",
            "\u001b[0;32m<ipython-input-41-2a772d5c4cc0>\u001b[0m in \u001b[0;36m<cell line: 1>\u001b[0;34m()\u001b[0m\n\u001b[0;32m----> 1\u001b[0;31m \u001b[0mtf\u001b[0m\u001b[0;34m.\u001b[0m\u001b[0mreduce_mean\u001b[0m\u001b[0;34m(\u001b[0m\u001b[0mE\u001b[0m\u001b[0;34m)\u001b[0m\u001b[0;34m\u001b[0m\u001b[0;34m\u001b[0m\u001b[0m\n\u001b[0m",
            "\u001b[0;31mNameError\u001b[0m: name 'E' is not defined"
          ]
        }
      ]
    },
    {
      "cell_type": "markdown",
      "source": [
        "⚒ **Execrise** With what we have learn ,find the variance and standard deviation of our E tensor using TensorFlow methods."
      ],
      "metadata": {
        "id": "-7GYe37m1S4N"
      }
    },
    {
      "cell_type": "code",
      "source": [
        "#Typecasting in E from int32 to float32 as variance method only takes real or complex inputs\n",
        "E=tf.cast(E,tf.float32)"
      ],
      "metadata": {
        "colab": {
          "base_uri": "https://localhost:8080/",
          "height": 198
        },
        "id": "fQfQLQZB1781",
        "outputId": "cb57ef6a-6872-497b-accf-fe311141d92e"
      },
      "execution_count": null,
      "outputs": [
        {
          "output_type": "error",
          "ename": "NameError",
          "evalue": "ignored",
          "traceback": [
            "\u001b[0;31m---------------------------------------------------------------------------\u001b[0m",
            "\u001b[0;31mNameError\u001b[0m                                 Traceback (most recent call last)",
            "\u001b[0;32m<ipython-input-42-e0834f3d555b>\u001b[0m in \u001b[0;36m<cell line: 2>\u001b[0;34m()\u001b[0m\n\u001b[1;32m      1\u001b[0m \u001b[0;31m#Typecasting in E from int32 to float32 as variance method only takes real or complex inputs\u001b[0m\u001b[0;34m\u001b[0m\u001b[0;34m\u001b[0m\u001b[0m\n\u001b[0;32m----> 2\u001b[0;31m \u001b[0mE\u001b[0m\u001b[0;34m=\u001b[0m\u001b[0mtf\u001b[0m\u001b[0;34m.\u001b[0m\u001b[0mcast\u001b[0m\u001b[0;34m(\u001b[0m\u001b[0mE\u001b[0m\u001b[0;34m,\u001b[0m\u001b[0mtf\u001b[0m\u001b[0;34m.\u001b[0m\u001b[0mfloat32\u001b[0m\u001b[0;34m)\u001b[0m\u001b[0;34m\u001b[0m\u001b[0;34m\u001b[0m\u001b[0m\n\u001b[0m",
            "\u001b[0;31mNameError\u001b[0m: name 'E' is not defined"
          ]
        }
      ]
    },
    {
      "cell_type": "code",
      "source": [
        "#Tensorflow method of finding tensors\n",
        "tf.math.reduce_variance(E)"
      ],
      "metadata": {
        "id": "7PERlZuI2rdJ"
      },
      "execution_count": null,
      "outputs": []
    },
    {
      "cell_type": "code",
      "source": [
        "#Standard deviation of E\n",
        "tf.math.reduce_std(E)"
      ],
      "metadata": {
        "id": "r-H1Ev4s37kb"
      },
      "execution_count": null,
      "outputs": []
    },
    {
      "cell_type": "code",
      "source": [
        "import tensorflow as tf\n",
        "import tensorflow_probability as tfp\n",
        "import numpy as np"
      ],
      "metadata": {
        "id": "w6KOACcC34ja"
      },
      "execution_count": null,
      "outputs": []
    },
    {
      "cell_type": "code",
      "source": [
        "E=tf.constant(np.random.randint(100,size=(3,4)))"
      ],
      "metadata": {
        "id": "pdUb7qqlUbRO"
      },
      "execution_count": null,
      "outputs": []
    },
    {
      "cell_type": "code",
      "source": [
        "tf.random.set_seed(42)\n",
        "E"
      ],
      "metadata": {
        "id": "YwTWCg90UtL9",
        "colab": {
          "base_uri": "https://localhost:8080/"
        },
        "outputId": "5d595876-afb2-4ee6-a502-b1258c7a5f84"
      },
      "execution_count": null,
      "outputs": [
        {
          "output_type": "execute_result",
          "data": {
            "text/plain": [
              "<tf.Tensor: shape=(3, 4), dtype=int64, numpy=\n",
              "array([[99, 23, 17, 71],\n",
              "       [12, 67, 93, 20],\n",
              "       [ 0, 57, 82, 92]])>"
            ]
          },
          "metadata": {},
          "execution_count": 3
        }
      ]
    },
    {
      "cell_type": "code",
      "source": [
        "E"
      ],
      "metadata": {
        "id": "M_YCF2UTUyIk",
        "colab": {
          "base_uri": "https://localhost:8080/"
        },
        "outputId": "78f2c31d-1d66-4946-d79a-bf9a32a38827"
      },
      "execution_count": null,
      "outputs": [
        {
          "output_type": "execute_result",
          "data": {
            "text/plain": [
              "<tf.Tensor: shape=(3, 4), dtype=int64, numpy=\n",
              "array([[99, 23, 17, 71],\n",
              "       [12, 67, 93, 20],\n",
              "       [ 0, 57, 82, 92]])>"
            ]
          },
          "metadata": {},
          "execution_count": 4
        }
      ]
    },
    {
      "cell_type": "code",
      "source": [
        "tfp.stats.variance(E)"
      ],
      "metadata": {
        "id": "8xyMBdVOVCZJ",
        "colab": {
          "base_uri": "https://localhost:8080/"
        },
        "outputId": "4a920535-ccf4-401f-a5af-906ac32f63ef"
      },
      "execution_count": null,
      "outputs": [
        {
          "output_type": "execute_result",
          "data": {
            "text/plain": [
              "<tf.Tensor: shape=(4,), dtype=int64, numpy=array([1946,  354, 1124,  914])>"
            ]
          },
          "metadata": {},
          "execution_count": 5
        }
      ]
    },
    {
      "cell_type": "code",
      "source": [
        "# convert to float 64\n",
        "E=tf.cast(E,dtype=tf.float64)"
      ],
      "metadata": {
        "id": "wZUJ4y_vVI8K"
      },
      "execution_count": null,
      "outputs": []
    },
    {
      "cell_type": "code",
      "source": [
        "E"
      ],
      "metadata": {
        "id": "WaIcqxmwVP2Q",
        "colab": {
          "base_uri": "https://localhost:8080/"
        },
        "outputId": "6e88fc40-6b7a-4f7c-e51f-ccbf25083e1a"
      },
      "execution_count": null,
      "outputs": [
        {
          "output_type": "execute_result",
          "data": {
            "text/plain": [
              "<tf.Tensor: shape=(3, 4), dtype=float64, numpy=\n",
              "array([[99., 23., 17., 71.],\n",
              "       [12., 67., 93., 20.],\n",
              "       [ 0., 57., 82., 92.]])>"
            ]
          },
          "metadata": {},
          "execution_count": 7
        }
      ]
    },
    {
      "cell_type": "code",
      "source": [
        "tfp.stats.variance(E)"
      ],
      "metadata": {
        "id": "TFY3TRZUV3Zc",
        "colab": {
          "base_uri": "https://localhost:8080/"
        },
        "outputId": "c68f849d-b206-4447-a004-9cc249a5781a"
      },
      "execution_count": null,
      "outputs": [
        {
          "output_type": "execute_result",
          "data": {
            "text/plain": [
              "<tf.Tensor: shape=(4,), dtype=float64, numpy=array([1946.        ,  354.66666667, 1124.66666667,  914.        ])>"
            ]
          },
          "metadata": {},
          "execution_count": 8
        }
      ]
    },
    {
      "cell_type": "markdown",
      "source": [
        "## Aggregating tensors"
      ],
      "metadata": {
        "id": "eYQGwfCzV8xZ"
      }
    },
    {
      "cell_type": "code",
      "source": [
        "F=tf.constant([1.7,2.5,6.8,9.1])\n",
        "F"
      ],
      "metadata": {
        "colab": {
          "base_uri": "https://localhost:8080/"
        },
        "id": "6toDQ2vlWq68",
        "outputId": "a0f22b92-f94a-4060-c249-6342ae9a1717"
      },
      "execution_count": null,
      "outputs": [
        {
          "output_type": "execute_result",
          "data": {
            "text/plain": [
              "<tf.Tensor: shape=(4,), dtype=float32, numpy=array([1.7, 2.5, 6.8, 9.1], dtype=float32)>"
            ]
          },
          "metadata": {},
          "execution_count": 9
        }
      ]
    },
    {
      "cell_type": "markdown",
      "source": [
        "## Aggregating tensors\n",
        "\n",
        "Aggregating tensors=condensing them from multiple values down to a smaller amount of values."
      ],
      "metadata": {
        "id": "-BriIa-WW8Gg"
      }
    },
    {
      "cell_type": "code",
      "source": [
        "## Getting the absolute values\n",
        "D=tf.constant([-7,-8,-5,-2])\n",
        "D"
      ],
      "metadata": {
        "colab": {
          "base_uri": "https://localhost:8080/"
        },
        "id": "niT_BgxdZQ1p",
        "outputId": "7e317d13-35bd-4c1a-e333-73ae9440cd1c"
      },
      "execution_count": null,
      "outputs": [
        {
          "output_type": "execute_result",
          "data": {
            "text/plain": [
              "<tf.Tensor: shape=(4,), dtype=int32, numpy=array([-7, -8, -5, -2], dtype=int32)>"
            ]
          },
          "metadata": {},
          "execution_count": 10
        }
      ]
    },
    {
      "cell_type": "code",
      "source": [
        "#Getting absolute values\n",
        "tf.abs(D)"
      ],
      "metadata": {
        "colab": {
          "base_uri": "https://localhost:8080/"
        },
        "id": "cY_7BiXIZ_Aw",
        "outputId": "667dab20-23d6-4afe-dc76-2d92f0d22b26"
      },
      "execution_count": null,
      "outputs": [
        {
          "output_type": "execute_result",
          "data": {
            "text/plain": [
              "<tf.Tensor: shape=(4,), dtype=int32, numpy=array([7, 8, 5, 2], dtype=int32)>"
            ]
          },
          "metadata": {},
          "execution_count": 11
        }
      ]
    },
    {
      "cell_type": "markdown",
      "source": [
        "Lets go through few versions of aggregation\n",
        "\n",
        "* Get the minimum\n",
        "* Get the maximum\n",
        "* Get the sum\n",
        "* Get the mean\n"
      ],
      "metadata": {
        "id": "VMhXoaL-aH5M"
      }
    },
    {
      "cell_type": "code",
      "source": [
        "# Creating a random tensor with a large values between 0 and 100 ofsize of 50\n",
        "import numpy as np\n",
        "E=tf.constant(np.random.randint(0,100,size=50))\n",
        "E"
      ],
      "metadata": {
        "colab": {
          "base_uri": "https://localhost:8080/"
        },
        "id": "c7k8wFL4akGX",
        "outputId": "bbb251a6-dc6d-4645-b8a4-fa5ab0ad01b3"
      },
      "execution_count": null,
      "outputs": [
        {
          "output_type": "execute_result",
          "data": {
            "text/plain": [
              "<tf.Tensor: shape=(50,), dtype=int64, numpy=\n",
              "array([41, 61, 94, 32, 79, 20, 53, 76, 76, 88, 85, 56, 74, 39, 51, 29, 33,\n",
              "       72, 12, 56, 26, 19, 71, 47,  2, 63, 85, 60, 10, 60, 72, 82, 90, 14,\n",
              "       43, 10,  7, 10, 39, 41, 80, 71,  8, 51, 99, 53, 37, 65, 50,  3])>"
            ]
          },
          "metadata": {},
          "execution_count": 12
        }
      ]
    },
    {
      "cell_type": "code",
      "source": [
        "#Size of tensor\n",
        "tf.size(E),E.ndim,E.shape"
      ],
      "metadata": {
        "colab": {
          "base_uri": "https://localhost:8080/"
        },
        "id": "r2meedcibbYY",
        "outputId": "ecb747a0-ab08-4d8c-e61e-a14963c76c07"
      },
      "execution_count": null,
      "outputs": [
        {
          "output_type": "execute_result",
          "data": {
            "text/plain": [
              "(<tf.Tensor: shape=(), dtype=int32, numpy=50>, 1, TensorShape([50]))"
            ]
          },
          "metadata": {},
          "execution_count": 13
        }
      ]
    },
    {
      "cell_type": "code",
      "source": [
        "# Find the minimum\n",
        "tf.reduce_min(E)"
      ],
      "metadata": {
        "colab": {
          "base_uri": "https://localhost:8080/"
        },
        "id": "r9pZUNIUbnoC",
        "outputId": "ed4feb7f-e730-4b24-da52-657e3737630f"
      },
      "execution_count": null,
      "outputs": [
        {
          "output_type": "execute_result",
          "data": {
            "text/plain": [
              "<tf.Tensor: shape=(), dtype=int64, numpy=2>"
            ]
          },
          "metadata": {},
          "execution_count": 14
        }
      ]
    },
    {
      "cell_type": "code",
      "source": [
        "tf.reduce_max(E)"
      ],
      "metadata": {
        "colab": {
          "base_uri": "https://localhost:8080/"
        },
        "id": "bntitGLmb7iE",
        "outputId": "e5d83eff-fe73-4373-f959-d7c1b96f355e"
      },
      "execution_count": null,
      "outputs": [
        {
          "output_type": "execute_result",
          "data": {
            "text/plain": [
              "<tf.Tensor: shape=(), dtype=int64, numpy=99>"
            ]
          },
          "metadata": {},
          "execution_count": 15
        }
      ]
    },
    {
      "cell_type": "code",
      "source": [
        "tf.reduce_mean(E)"
      ],
      "metadata": {
        "colab": {
          "base_uri": "https://localhost:8080/"
        },
        "id": "LmdooAiTb92H",
        "outputId": "a7619e35-2285-41f4-c1ee-ff265a0bbb7a"
      },
      "execution_count": null,
      "outputs": [
        {
          "output_type": "execute_result",
          "data": {
            "text/plain": [
              "<tf.Tensor: shape=(), dtype=int64, numpy=49>"
            ]
          },
          "metadata": {},
          "execution_count": 16
        }
      ]
    },
    {
      "cell_type": "code",
      "source": [
        "tf.reduce_sum(E)"
      ],
      "metadata": {
        "colab": {
          "base_uri": "https://localhost:8080/"
        },
        "id": "AcgegbYRcAIt",
        "outputId": "17737ce3-e2df-47a6-9815-4e42201b4b86"
      },
      "execution_count": null,
      "outputs": [
        {
          "output_type": "execute_result",
          "data": {
            "text/plain": [
              "<tf.Tensor: shape=(), dtype=int64, numpy=2495>"
            ]
          },
          "metadata": {},
          "execution_count": 17
        }
      ]
    },
    {
      "cell_type": "code",
      "source": [
        "tf.math.reduce_std(E)"
      ],
      "metadata": {
        "colab": {
          "base_uri": "https://localhost:8080/",
          "height": 347
        },
        "id": "9rYCrT3ncCfe",
        "outputId": "0213cef7-f015-432f-da1f-0f0c93279bc5"
      },
      "execution_count": null,
      "outputs": [
        {
          "output_type": "error",
          "ename": "TypeError",
          "evalue": "ignored",
          "traceback": [
            "\u001b[0;31m---------------------------------------------------------------------------\u001b[0m",
            "\u001b[0;31mTypeError\u001b[0m                                 Traceback (most recent call last)",
            "\u001b[0;32m<ipython-input-18-4705f2bb2a39>\u001b[0m in \u001b[0;36m<cell line: 1>\u001b[0;34m()\u001b[0m\n\u001b[0;32m----> 1\u001b[0;31m \u001b[0mtf\u001b[0m\u001b[0;34m.\u001b[0m\u001b[0mmath\u001b[0m\u001b[0;34m.\u001b[0m\u001b[0mreduce_std\u001b[0m\u001b[0;34m(\u001b[0m\u001b[0mE\u001b[0m\u001b[0;34m)\u001b[0m\u001b[0;34m\u001b[0m\u001b[0;34m\u001b[0m\u001b[0m\n\u001b[0m",
            "\u001b[0;32m/usr/local/lib/python3.10/dist-packages/tensorflow/python/util/traceback_utils.py\u001b[0m in \u001b[0;36merror_handler\u001b[0;34m(*args, **kwargs)\u001b[0m\n\u001b[1;32m    151\u001b[0m     \u001b[0;32mexcept\u001b[0m \u001b[0mException\u001b[0m \u001b[0;32mas\u001b[0m \u001b[0me\u001b[0m\u001b[0;34m:\u001b[0m\u001b[0;34m\u001b[0m\u001b[0;34m\u001b[0m\u001b[0m\n\u001b[1;32m    152\u001b[0m       \u001b[0mfiltered_tb\u001b[0m \u001b[0;34m=\u001b[0m \u001b[0m_process_traceback_frames\u001b[0m\u001b[0;34m(\u001b[0m\u001b[0me\u001b[0m\u001b[0;34m.\u001b[0m\u001b[0m__traceback__\u001b[0m\u001b[0;34m)\u001b[0m\u001b[0;34m\u001b[0m\u001b[0;34m\u001b[0m\u001b[0m\n\u001b[0;32m--> 153\u001b[0;31m       \u001b[0;32mraise\u001b[0m \u001b[0me\u001b[0m\u001b[0;34m.\u001b[0m\u001b[0mwith_traceback\u001b[0m\u001b[0;34m(\u001b[0m\u001b[0mfiltered_tb\u001b[0m\u001b[0;34m)\u001b[0m \u001b[0;32mfrom\u001b[0m \u001b[0;32mNone\u001b[0m\u001b[0;34m\u001b[0m\u001b[0;34m\u001b[0m\u001b[0m\n\u001b[0m\u001b[1;32m    154\u001b[0m     \u001b[0;32mfinally\u001b[0m\u001b[0;34m:\u001b[0m\u001b[0;34m\u001b[0m\u001b[0;34m\u001b[0m\u001b[0m\n\u001b[1;32m    155\u001b[0m       \u001b[0;32mdel\u001b[0m \u001b[0mfiltered_tb\u001b[0m\u001b[0;34m\u001b[0m\u001b[0;34m\u001b[0m\u001b[0m\n",
            "\u001b[0;32m/usr/local/lib/python3.10/dist-packages/tensorflow/python/ops/math_ops.py\u001b[0m in \u001b[0;36mreduce_variance\u001b[0;34m(input_tensor, axis, keepdims, name)\u001b[0m\n\u001b[1;32m   2744\u001b[0m     \u001b[0mmeans\u001b[0m \u001b[0;34m=\u001b[0m \u001b[0mreduce_mean\u001b[0m\u001b[0;34m(\u001b[0m\u001b[0minput_tensor\u001b[0m\u001b[0;34m,\u001b[0m \u001b[0maxis\u001b[0m\u001b[0;34m=\u001b[0m\u001b[0maxis\u001b[0m\u001b[0;34m,\u001b[0m \u001b[0mkeepdims\u001b[0m\u001b[0;34m=\u001b[0m\u001b[0;32mTrue\u001b[0m\u001b[0;34m)\u001b[0m\u001b[0;34m\u001b[0m\u001b[0;34m\u001b[0m\u001b[0m\n\u001b[1;32m   2745\u001b[0m     \u001b[0;32mif\u001b[0m \u001b[0mmeans\u001b[0m\u001b[0;34m.\u001b[0m\u001b[0mdtype\u001b[0m\u001b[0;34m.\u001b[0m\u001b[0mis_integer\u001b[0m\u001b[0;34m:\u001b[0m\u001b[0;34m\u001b[0m\u001b[0;34m\u001b[0m\u001b[0m\n\u001b[0;32m-> 2746\u001b[0;31m       raise TypeError(f\"Input must be either real or complex. \"\n\u001b[0m\u001b[1;32m   2747\u001b[0m                       f\"Received integer type {means.dtype}.\")\n\u001b[1;32m   2748\u001b[0m     \u001b[0mdiff\u001b[0m \u001b[0;34m=\u001b[0m \u001b[0minput_tensor\u001b[0m \u001b[0;34m-\u001b[0m \u001b[0mmeans\u001b[0m\u001b[0;34m\u001b[0m\u001b[0;34m\u001b[0m\u001b[0m\n",
            "\u001b[0;31mTypeError\u001b[0m: Input must be either real or complex. Received integer type <dtype: 'int64'>."
          ]
        }
      ]
    },
    {
      "cell_type": "code",
      "source": [
        "# We have to convert tensorflow dtype into complex and real numbers\n",
        "E=tf.cast(E,dtype=tf.float32)"
      ],
      "metadata": {
        "id": "jWQu8Jw0cEnq"
      },
      "execution_count": null,
      "outputs": []
    },
    {
      "cell_type": "code",
      "source": [
        "#Variance in tensorflow is one of aggregate functions\n",
        "tf.math.reduce_variance(E)"
      ],
      "metadata": {
        "colab": {
          "base_uri": "https://localhost:8080/"
        },
        "id": "0eO3Cw4_g6FA",
        "outputId": "66bcbd71-f90b-43e2-8e58-b30224473ad1"
      },
      "execution_count": null,
      "outputs": [
        {
          "output_type": "execute_result",
          "data": {
            "text/plain": [
              "<tf.Tensor: shape=(), dtype=float32, numpy=739.37006>"
            ]
          },
          "metadata": {},
          "execution_count": 20
        }
      ]
    },
    {
      "cell_type": "code",
      "source": [
        "#Standard deviation is one of tensorflow functions\n",
        "tf.math.reduce_std(E)"
      ],
      "metadata": {
        "colab": {
          "base_uri": "https://localhost:8080/"
        },
        "id": "wktvtGbAhFKU",
        "outputId": "5c34136d-35f1-4f9d-cf1a-09714059a9e2"
      },
      "execution_count": null,
      "outputs": [
        {
          "output_type": "execute_result",
          "data": {
            "text/plain": [
              "<tf.Tensor: shape=(), dtype=float32, numpy=27.19136>"
            ]
          },
          "metadata": {},
          "execution_count": 21
        }
      ]
    },
    {
      "cell_type": "markdown",
      "source": [
        "⚒ **Execrise** Find standard deviation and variance of E Array"
      ],
      "metadata": {
        "id": "wUo8kXEAhNnW"
      }
    },
    {
      "cell_type": "code",
      "source": [
        "#Standard Deviation\n",
        "tf.math.reduce_std(E)"
      ],
      "metadata": {
        "colab": {
          "base_uri": "https://localhost:8080/"
        },
        "id": "-nYNcNRYh--t",
        "outputId": "956d0976-543f-4489-b417-e41369cc9698"
      },
      "execution_count": null,
      "outputs": [
        {
          "output_type": "execute_result",
          "data": {
            "text/plain": [
              "<tf.Tensor: shape=(), dtype=float32, numpy=27.19136>"
            ]
          },
          "metadata": {},
          "execution_count": 22
        }
      ]
    },
    {
      "cell_type": "code",
      "source": [
        "#Variance\n",
        "tf.math.reduce_variance(E)"
      ],
      "metadata": {
        "colab": {
          "base_uri": "https://localhost:8080/"
        },
        "id": "WYZY7VAViDJy",
        "outputId": "77ff966a-30e2-433b-fb6f-07c01ef5217a"
      },
      "execution_count": null,
      "outputs": [
        {
          "output_type": "execute_result",
          "data": {
            "text/plain": [
              "<tf.Tensor: shape=(), dtype=float32, numpy=739.37006>"
            ]
          },
          "metadata": {},
          "execution_count": 23
        }
      ]
    },
    {
      "cell_type": "code",
      "source": [
        "#Yes above is my method\n",
        "import tensorflow_probability as tfp\n",
        "tfp.stats.variance(E)"
      ],
      "metadata": {
        "colab": {
          "base_uri": "https://localhost:8080/"
        },
        "id": "Dyj37gNoiGiN",
        "outputId": "80fa66b8-fd9c-423f-b52a-91e524c9a72f"
      },
      "execution_count": null,
      "outputs": [
        {
          "output_type": "execute_result",
          "data": {
            "text/plain": [
              "<tf.Tensor: shape=(), dtype=float32, numpy=739.37006>"
            ]
          },
          "metadata": {},
          "execution_count": 24
        }
      ]
    },
    {
      "cell_type": "code",
      "source": [
        "tf.math.reduce_variance(E)"
      ],
      "metadata": {
        "colab": {
          "base_uri": "https://localhost:8080/"
        },
        "id": "lyh7-Z5nlXYz",
        "outputId": "89b1c3c1-4d7b-4f51-d135-73f9037b5ecc"
      },
      "execution_count": null,
      "outputs": [
        {
          "output_type": "execute_result",
          "data": {
            "text/plain": [
              "<tf.Tensor: shape=(), dtype=float32, numpy=739.37006>"
            ]
          },
          "metadata": {},
          "execution_count": 25
        }
      ]
    },
    {
      "cell_type": "code",
      "source": [
        "#Find the standard deviation\n",
        "tf.math.reduce_std(E)  #Standard deviation has same method."
      ],
      "metadata": {
        "colab": {
          "base_uri": "https://localhost:8080/"
        },
        "id": "cDBwzMaUmw1p",
        "outputId": "fd4f1283-551b-4bba-dc30-365cdd126b38"
      },
      "execution_count": null,
      "outputs": [
        {
          "output_type": "execute_result",
          "data": {
            "text/plain": [
              "<tf.Tensor: shape=(), dtype=float32, numpy=27.19136>"
            ]
          },
          "metadata": {},
          "execution_count": 26
        }
      ]
    },
    {
      "cell_type": "markdown",
      "source": [
        "###Find the positional maximum and minimum.\n",
        "\n",
        "**tf.argmax()** - Function is used to get position of maximum value.\n",
        "\n",
        "**tf.argmin()** - Function is used to get position of minimum values."
      ],
      "metadata": {
        "id": "CntTnyo-nDRo"
      }
    },
    {
      "cell_type": "code",
      "source": [
        "tf.argmax(E),E"
      ],
      "metadata": {
        "colab": {
          "base_uri": "https://localhost:8080/"
        },
        "id": "EoN47OaeoW2L",
        "outputId": "feb165fa-27a4-444d-c135-9f45acc957e1"
      },
      "execution_count": null,
      "outputs": [
        {
          "output_type": "execute_result",
          "data": {
            "text/plain": [
              "(<tf.Tensor: shape=(), dtype=int64, numpy=44>,\n",
              " <tf.Tensor: shape=(50,), dtype=float32, numpy=\n",
              " array([41., 61., 94., 32., 79., 20., 53., 76., 76., 88., 85., 56., 74.,\n",
              "        39., 51., 29., 33., 72., 12., 56., 26., 19., 71., 47.,  2., 63.,\n",
              "        85., 60., 10., 60., 72., 82., 90., 14., 43., 10.,  7., 10., 39.,\n",
              "        41., 80., 71.,  8., 51., 99., 53., 37., 65., 50.,  3.],\n",
              "       dtype=float32)>)"
            ]
          },
          "metadata": {},
          "execution_count": 27
        }
      ]
    },
    {
      "cell_type": "code",
      "source": [
        "tf.argmin(E),E"
      ],
      "metadata": {
        "colab": {
          "base_uri": "https://localhost:8080/"
        },
        "id": "zCvhpB1apQcw",
        "outputId": "a4357092-9340-4771-cc6b-a506e42359ca"
      },
      "execution_count": null,
      "outputs": [
        {
          "output_type": "execute_result",
          "data": {
            "text/plain": [
              "(<tf.Tensor: shape=(), dtype=int64, numpy=24>,\n",
              " <tf.Tensor: shape=(50,), dtype=float32, numpy=\n",
              " array([41., 61., 94., 32., 79., 20., 53., 76., 76., 88., 85., 56., 74.,\n",
              "        39., 51., 29., 33., 72., 12., 56., 26., 19., 71., 47.,  2., 63.,\n",
              "        85., 60., 10., 60., 72., 82., 90., 14., 43., 10.,  7., 10., 39.,\n",
              "        41., 80., 71.,  8., 51., 99., 53., 37., 65., 50.,  3.],\n",
              "       dtype=float32)>)"
            ]
          },
          "metadata": {},
          "execution_count": 28
        }
      ]
    },
    {
      "cell_type": "code",
      "source": [
        "#Find the positional maximum and minimum\n",
        "tf.random.set_seed(42)\n",
        "F=tf.constant(np.random.randint(0,100,size=50))"
      ],
      "metadata": {
        "id": "2ldvHPVSpTtA"
      },
      "execution_count": null,
      "outputs": []
    },
    {
      "cell_type": "code",
      "source": [
        "F=tf.cast(F,dtype=tf.float32)"
      ],
      "metadata": {
        "id": "gMD-fR9JDa56"
      },
      "execution_count": null,
      "outputs": []
    },
    {
      "cell_type": "code",
      "source": [
        "#All aggrgate functions of format tf.reduce_operation(tensor)\n",
        "tf.reduce_max(F),tf.reduce_min(F),tf.reduce_mean(F),tf.reduce_sum(F)"
      ],
      "metadata": {
        "colab": {
          "base_uri": "https://localhost:8080/"
        },
        "id": "GIxUADp0DcMU",
        "outputId": "9fe145d0-3bf9-4143-a0bb-08ce37d72cf5"
      },
      "execution_count": null,
      "outputs": [
        {
          "output_type": "execute_result",
          "data": {
            "text/plain": [
              "(<tf.Tensor: shape=(), dtype=float32, numpy=96.0>,\n",
              " <tf.Tensor: shape=(), dtype=float32, numpy=0.0>,\n",
              " <tf.Tensor: shape=(), dtype=float32, numpy=47.38>,\n",
              " <tf.Tensor: shape=(), dtype=float32, numpy=2369.0>)"
            ]
          },
          "metadata": {},
          "execution_count": 40
        }
      ]
    },
    {
      "cell_type": "code",
      "source": [
        "#What about variance and standard deviation\n",
        "tf.math.reduce_variance(F)"
      ],
      "metadata": {
        "colab": {
          "base_uri": "https://localhost:8080/"
        },
        "id": "Y8WqTIlyECIh",
        "outputId": "4c771de5-a0bc-4e37-acac-59e400110973"
      },
      "execution_count": null,
      "outputs": [
        {
          "output_type": "execute_result",
          "data": {
            "text/plain": [
              "<tf.Tensor: shape=(), dtype=float32, numpy=723.75555>"
            ]
          },
          "metadata": {},
          "execution_count": 41
        }
      ]
    },
    {
      "cell_type": "code",
      "source": [
        "#Standard deviation\n",
        "tf.math.reduce_std(F)"
      ],
      "metadata": {
        "colab": {
          "base_uri": "https://localhost:8080/"
        },
        "id": "pcodQsoeFNHJ",
        "outputId": "a61302db-2b02-4a9f-8ffa-055c8c7acb37"
      },
      "execution_count": null,
      "outputs": [
        {
          "output_type": "execute_result",
          "data": {
            "text/plain": [
              "<tf.Tensor: shape=(), dtype=float32, numpy=26.902706>"
            ]
          },
          "metadata": {},
          "execution_count": 42
        }
      ]
    },
    {
      "cell_type": "markdown",
      "source": [
        "### Find the positional maximum and minimum"
      ],
      "metadata": {
        "id": "YRD4L-cFFTmA"
      }
    },
    {
      "cell_type": "code",
      "source": [
        "#create a new tensor for finding positional minimum and maximum\n",
        "tf.random.set_seed(42)\n",
        "G=tf.random.uniform(shape=[50])\n",
        "G"
      ],
      "metadata": {
        "colab": {
          "base_uri": "https://localhost:8080/"
        },
        "id": "2ESN7jddF5pw",
        "outputId": "e09791df-e2fc-4d5c-c37d-db0523f17994"
      },
      "execution_count": null,
      "outputs": [
        {
          "output_type": "execute_result",
          "data": {
            "text/plain": [
              "<tf.Tensor: shape=(50,), dtype=float32, numpy=\n",
              "array([0.6645621 , 0.44100678, 0.3528825 , 0.46448255, 0.03366041,\n",
              "       0.68467236, 0.74011743, 0.8724445 , 0.22632635, 0.22319686,\n",
              "       0.3103881 , 0.7223358 , 0.13318717, 0.5480639 , 0.5746088 ,\n",
              "       0.8996835 , 0.00946367, 0.5212307 , 0.6345445 , 0.1993283 ,\n",
              "       0.72942245, 0.54583454, 0.10756552, 0.6767061 , 0.6602763 ,\n",
              "       0.33695042, 0.60141766, 0.21062577, 0.8527372 , 0.44062173,\n",
              "       0.9485276 , 0.23752594, 0.81179297, 0.5263394 , 0.494308  ,\n",
              "       0.21612847, 0.8457197 , 0.8718841 , 0.3083862 , 0.6868038 ,\n",
              "       0.23764038, 0.7817228 , 0.9671384 , 0.06870162, 0.79873943,\n",
              "       0.66028714, 0.5871513 , 0.16461694, 0.7381023 , 0.32054043],\n",
              "      dtype=float32)>"
            ]
          },
          "metadata": {},
          "execution_count": 44
        }
      ]
    },
    {
      "cell_type": "code",
      "source": [
        "#Find the positional maximum\n",
        "tf.argmax(G)"
      ],
      "metadata": {
        "id": "etcBP2HtGKjy",
        "colab": {
          "base_uri": "https://localhost:8080/"
        },
        "outputId": "54d0d14d-d157-4aa2-9abc-7d515d34fe06"
      },
      "execution_count": null,
      "outputs": [
        {
          "output_type": "execute_result",
          "data": {
            "text/plain": [
              "<tf.Tensor: shape=(), dtype=int64, numpy=42>"
            ]
          },
          "metadata": {},
          "execution_count": 46
        }
      ]
    },
    {
      "cell_type": "code",
      "source": [
        "#Index on our largest value position\n",
        "G[tf.argmax(G)]"
      ],
      "metadata": {
        "id": "91O3Bm-fG1lJ",
        "colab": {
          "base_uri": "https://localhost:8080/"
        },
        "outputId": "efa5800a-8084-4091-ccf8-0f4dc6f39a86"
      },
      "execution_count": null,
      "outputs": [
        {
          "output_type": "execute_result",
          "data": {
            "text/plain": [
              "<tf.Tensor: shape=(), dtype=float32, numpy=0.9671384>"
            ]
          },
          "metadata": {},
          "execution_count": 49
        }
      ]
    },
    {
      "cell_type": "code",
      "source": [
        "#Find the maximum value of G\n",
        "tf.reduce_max(G)"
      ],
      "metadata": {
        "colab": {
          "base_uri": "https://localhost:8080/"
        },
        "id": "YjdRCEgOIFaJ",
        "outputId": "e50dc046-0f0a-458f-87d6-a631c3608ecb"
      },
      "execution_count": null,
      "outputs": [
        {
          "output_type": "execute_result",
          "data": {
            "text/plain": [
              "<tf.Tensor: shape=(), dtype=float32, numpy=0.9671384>"
            ]
          },
          "metadata": {},
          "execution_count": 50
        }
      ]
    },
    {
      "cell_type": "code",
      "source": [
        "#Check the equality\n",
        "assert G[tf.argmax(G)]==tf.reduce_max(G)"
      ],
      "metadata": {
        "id": "5NqXc21YIxiA"
      },
      "execution_count": null,
      "outputs": []
    },
    {
      "cell_type": "code",
      "source": [
        "# Find the positional minimum\n",
        "tf.argmin(G),G"
      ],
      "metadata": {
        "colab": {
          "base_uri": "https://localhost:8080/"
        },
        "id": "Fm2jnzd-I7TB",
        "outputId": "11191550-1f0a-4e5e-bec9-8fd8781abc5f"
      },
      "execution_count": null,
      "outputs": [
        {
          "output_type": "execute_result",
          "data": {
            "text/plain": [
              "(<tf.Tensor: shape=(), dtype=int64, numpy=16>,\n",
              " <tf.Tensor: shape=(50,), dtype=float32, numpy=\n",
              " array([0.6645621 , 0.44100678, 0.3528825 , 0.46448255, 0.03366041,\n",
              "        0.68467236, 0.74011743, 0.8724445 , 0.22632635, 0.22319686,\n",
              "        0.3103881 , 0.7223358 , 0.13318717, 0.5480639 , 0.5746088 ,\n",
              "        0.8996835 , 0.00946367, 0.5212307 , 0.6345445 , 0.1993283 ,\n",
              "        0.72942245, 0.54583454, 0.10756552, 0.6767061 , 0.6602763 ,\n",
              "        0.33695042, 0.60141766, 0.21062577, 0.8527372 , 0.44062173,\n",
              "        0.9485276 , 0.23752594, 0.81179297, 0.5263394 , 0.494308  ,\n",
              "        0.21612847, 0.8457197 , 0.8718841 , 0.3083862 , 0.6868038 ,\n",
              "        0.23764038, 0.7817228 , 0.9671384 , 0.06870162, 0.79873943,\n",
              "        0.66028714, 0.5871513 , 0.16461694, 0.7381023 , 0.32054043],\n",
              "       dtype=float32)>)"
            ]
          },
          "metadata": {},
          "execution_count": 54
        }
      ]
    },
    {
      "cell_type": "code",
      "source": [
        "#Checking equality of minimum values\n",
        "G[tf.argmin(G)]==tf.reduce_min(G)"
      ],
      "metadata": {
        "colab": {
          "base_uri": "https://localhost:8080/"
        },
        "id": "Eh3oyTXQJ3nI",
        "outputId": "ea3bbcf3-84b6-4d8c-8a0f-73aff20a6a5d"
      },
      "execution_count": null,
      "outputs": [
        {
          "output_type": "execute_result",
          "data": {
            "text/plain": [
              "<tf.Tensor: shape=(), dtype=bool, numpy=True>"
            ]
          },
          "metadata": {},
          "execution_count": 55
        }
      ]
    },
    {
      "cell_type": "markdown",
      "source": [
        "### Squeezing a tensor (removing all single dimensions)"
      ],
      "metadata": {
        "id": "-jPCNRJzKGdw"
      }
    },
    {
      "cell_type": "code",
      "source": [
        "#Create a tensor to get started\n",
        "tf.random.set_seed(42)\n",
        "H=tf.constant(tf.random.uniform(shape=[50]),shape=(1,1,1,1,50))"
      ],
      "metadata": {
        "id": "ieH11jPYKs3d"
      },
      "execution_count": null,
      "outputs": []
    },
    {
      "cell_type": "code",
      "source": [
        "H"
      ],
      "metadata": {
        "colab": {
          "base_uri": "https://localhost:8080/"
        },
        "id": "-soiCb9nLCgQ",
        "outputId": "df020836-04de-49b8-bf4a-04b13b3c58e3"
      },
      "execution_count": null,
      "outputs": [
        {
          "output_type": "execute_result",
          "data": {
            "text/plain": [
              "<tf.Tensor: shape=(1, 1, 1, 1, 50), dtype=float32, numpy=\n",
              "array([[[[[0.6645621 , 0.44100678, 0.3528825 , 0.46448255, 0.03366041,\n",
              "           0.68467236, 0.74011743, 0.8724445 , 0.22632635, 0.22319686,\n",
              "           0.3103881 , 0.7223358 , 0.13318717, 0.5480639 , 0.5746088 ,\n",
              "           0.8996835 , 0.00946367, 0.5212307 , 0.6345445 , 0.1993283 ,\n",
              "           0.72942245, 0.54583454, 0.10756552, 0.6767061 , 0.6602763 ,\n",
              "           0.33695042, 0.60141766, 0.21062577, 0.8527372 , 0.44062173,\n",
              "           0.9485276 , 0.23752594, 0.81179297, 0.5263394 , 0.494308  ,\n",
              "           0.21612847, 0.8457197 , 0.8718841 , 0.3083862 , 0.6868038 ,\n",
              "           0.23764038, 0.7817228 , 0.9671384 , 0.06870162, 0.79873943,\n",
              "           0.66028714, 0.5871513 , 0.16461694, 0.7381023 , 0.32054043]]]]],\n",
              "      dtype=float32)>"
            ]
          },
          "metadata": {},
          "execution_count": 58
        }
      ]
    },
    {
      "cell_type": "code",
      "source": [
        "H.shape"
      ],
      "metadata": {
        "colab": {
          "base_uri": "https://localhost:8080/"
        },
        "id": "ERaP5XcULDh5",
        "outputId": "4630ae3e-9be4-497d-b7c0-2b9ce8bdf7c7"
      },
      "execution_count": null,
      "outputs": [
        {
          "output_type": "execute_result",
          "data": {
            "text/plain": [
              "TensorShape([1, 1, 1, 1, 50])"
            ]
          },
          "metadata": {},
          "execution_count": 59
        }
      ]
    },
    {
      "cell_type": "code",
      "source": [
        "tf.reshape(H,(2,5,5))"
      ],
      "metadata": {
        "colab": {
          "base_uri": "https://localhost:8080/"
        },
        "id": "gHkdLkoFLrZH",
        "outputId": "897e1ac0-ae70-41da-f75e-ad6fcdc54047"
      },
      "execution_count": null,
      "outputs": [
        {
          "output_type": "execute_result",
          "data": {
            "text/plain": [
              "<tf.Tensor: shape=(2, 5, 5), dtype=float32, numpy=\n",
              "array([[[0.6645621 , 0.44100678, 0.3528825 , 0.46448255, 0.03366041],\n",
              "        [0.68467236, 0.74011743, 0.8724445 , 0.22632635, 0.22319686],\n",
              "        [0.3103881 , 0.7223358 , 0.13318717, 0.5480639 , 0.5746088 ],\n",
              "        [0.8996835 , 0.00946367, 0.5212307 , 0.6345445 , 0.1993283 ],\n",
              "        [0.72942245, 0.54583454, 0.10756552, 0.6767061 , 0.6602763 ]],\n",
              "\n",
              "       [[0.33695042, 0.60141766, 0.21062577, 0.8527372 , 0.44062173],\n",
              "        [0.9485276 , 0.23752594, 0.81179297, 0.5263394 , 0.494308  ],\n",
              "        [0.21612847, 0.8457197 , 0.8718841 , 0.3083862 , 0.6868038 ],\n",
              "        [0.23764038, 0.7817228 , 0.9671384 , 0.06870162, 0.79873943],\n",
              "        [0.66028714, 0.5871513 , 0.16461694, 0.7381023 , 0.32054043]]],\n",
              "      dtype=float32)>"
            ]
          },
          "metadata": {},
          "execution_count": 60
        }
      ]
    },
    {
      "cell_type": "code",
      "source": [
        "H_squeezed=tf.squeeze(H)"
      ],
      "metadata": {
        "id": "DDV6sft_Ly-F"
      },
      "execution_count": null,
      "outputs": []
    },
    {
      "cell_type": "code",
      "source": [
        "H_squeezed"
      ],
      "metadata": {
        "colab": {
          "base_uri": "https://localhost:8080/"
        },
        "id": "z_Q3vudKMTMM",
        "outputId": "838151a7-536d-44b3-ee34-2ae8442736ac"
      },
      "execution_count": null,
      "outputs": [
        {
          "output_type": "execute_result",
          "data": {
            "text/plain": [
              "<tf.Tensor: shape=(50,), dtype=float32, numpy=\n",
              "array([0.6645621 , 0.44100678, 0.3528825 , 0.46448255, 0.03366041,\n",
              "       0.68467236, 0.74011743, 0.8724445 , 0.22632635, 0.22319686,\n",
              "       0.3103881 , 0.7223358 , 0.13318717, 0.5480639 , 0.5746088 ,\n",
              "       0.8996835 , 0.00946367, 0.5212307 , 0.6345445 , 0.1993283 ,\n",
              "       0.72942245, 0.54583454, 0.10756552, 0.6767061 , 0.6602763 ,\n",
              "       0.33695042, 0.60141766, 0.21062577, 0.8527372 , 0.44062173,\n",
              "       0.9485276 , 0.23752594, 0.81179297, 0.5263394 , 0.494308  ,\n",
              "       0.21612847, 0.8457197 , 0.8718841 , 0.3083862 , 0.6868038 ,\n",
              "       0.23764038, 0.7817228 , 0.9671384 , 0.06870162, 0.79873943,\n",
              "       0.66028714, 0.5871513 , 0.16461694, 0.7381023 , 0.32054043],\n",
              "      dtype=float32)>"
            ]
          },
          "metadata": {},
          "execution_count": 62
        }
      ]
    },
    {
      "cell_type": "markdown",
      "source": [
        "### One-Hot Encoding Tensors"
      ],
      "metadata": {
        "id": "QPnxP8peMYJ6"
      }
    },
    {
      "cell_type": "code",
      "source": [
        "#create a list of indices\n",
        "some_list=[0,1,2,3] #could be red green blue purple\n",
        "\n",
        "#One-hot encode our list of indices\n",
        "tf.one_hot(some_list,depth=4)\n"
      ],
      "metadata": {
        "colab": {
          "base_uri": "https://localhost:8080/"
        },
        "id": "cbM9aCTsM4wQ",
        "outputId": "0399827c-c5d7-4d17-9443-b2415087b891"
      },
      "execution_count": null,
      "outputs": [
        {
          "output_type": "execute_result",
          "data": {
            "text/plain": [
              "<tf.Tensor: shape=(4, 4), dtype=float32, numpy=\n",
              "array([[1., 0., 0., 0.],\n",
              "       [0., 1., 0., 0.],\n",
              "       [0., 0., 1., 0.],\n",
              "       [0., 0., 0., 1.]], dtype=float32)>"
            ]
          },
          "metadata": {},
          "execution_count": 65
        }
      ]
    },
    {
      "cell_type": "code",
      "source": [
        "#Specify custom values for one hot encoding\n",
        "tf.one_hot(some_list,depth=4,on_value=\"Yo, I love deep learning\", off_value=\"I also like to dance\")"
      ],
      "metadata": {
        "colab": {
          "base_uri": "https://localhost:8080/"
        },
        "id": "OGIXOClZQEJI",
        "outputId": "0ec1b09c-48af-4f17-d43b-c81e43aeba5b"
      },
      "execution_count": null,
      "outputs": [
        {
          "output_type": "execute_result",
          "data": {
            "text/plain": [
              "<tf.Tensor: shape=(4, 4), dtype=string, numpy=\n",
              "array([[b'Yo, I love deep learning', b'I also like to dance',\n",
              "        b'I also like to dance', b'I also like to dance'],\n",
              "       [b'I also like to dance', b'Yo, I love deep learning',\n",
              "        b'I also like to dance', b'I also like to dance'],\n",
              "       [b'I also like to dance', b'I also like to dance',\n",
              "        b'Yo, I love deep learning', b'I also like to dance'],\n",
              "       [b'I also like to dance', b'I also like to dance',\n",
              "        b'I also like to dance', b'Yo, I love deep learning']],\n",
              "      dtype=object)>"
            ]
          },
          "metadata": {},
          "execution_count": 67
        }
      ]
    },
    {
      "cell_type": "code",
      "source": [
        "#Creating examples of one hot tensors\n",
        "car_list=tf.constant([0,1,2,3,4]) #represent each car brands"
      ],
      "metadata": {
        "id": "eIIq4Dt0Rg3x"
      },
      "execution_count": null,
      "outputs": []
    },
    {
      "cell_type": "code",
      "source": [
        "depth=5\n",
        "car_list.dtype"
      ],
      "metadata": {
        "colab": {
          "base_uri": "https://localhost:8080/"
        },
        "id": "Pi6qZCdUUcPU",
        "outputId": "a90ea81b-f798-4299-9385-285adc8520ad"
      },
      "execution_count": null,
      "outputs": [
        {
          "output_type": "execute_result",
          "data": {
            "text/plain": [
              "tf.int32"
            ]
          },
          "metadata": {},
          "execution_count": 84
        }
      ]
    },
    {
      "cell_type": "code",
      "source": [
        "car=tf.one_hot(car_list,depth)"
      ],
      "metadata": {
        "id": "JpYgbDlsWHoB"
      },
      "execution_count": null,
      "outputs": []
    },
    {
      "cell_type": "code",
      "source": [
        "car"
      ],
      "metadata": {
        "colab": {
          "base_uri": "https://localhost:8080/"
        },
        "id": "Iq3L4Ut9W8EH",
        "outputId": "fe8d72e3-a66b-4f52-9ce3-7377a078a760"
      },
      "execution_count": null,
      "outputs": [
        {
          "output_type": "execute_result",
          "data": {
            "text/plain": [
              "<tf.Tensor: shape=(5, 5), dtype=float32, numpy=\n",
              "array([[1., 0., 0., 0., 0.],\n",
              "       [0., 1., 0., 0., 0.],\n",
              "       [0., 0., 1., 0., 0.],\n",
              "       [0., 0., 0., 1., 0.],\n",
              "       [0., 0., 0., 0., 1.]], dtype=float32)>"
            ]
          },
          "metadata": {},
          "execution_count": 86
        }
      ]
    },
    {
      "cell_type": "code",
      "source": [
        " tf.one_hot(car_list,depth=5,on_value=\"Car\",off_value=\"No\")"
      ],
      "metadata": {
        "colab": {
          "base_uri": "https://localhost:8080/"
        },
        "id": "dh6e2sDGXrVe",
        "outputId": "9fa647c5-6ced-4b17-b6d2-702b0e58a5e8"
      },
      "execution_count": null,
      "outputs": [
        {
          "output_type": "execute_result",
          "data": {
            "text/plain": [
              "<tf.Tensor: shape=(5, 5), dtype=string, numpy=\n",
              "array([[b'Car', b'No', b'No', b'No', b'No'],\n",
              "       [b'No', b'Car', b'No', b'No', b'No'],\n",
              "       [b'No', b'No', b'Car', b'No', b'No'],\n",
              "       [b'No', b'No', b'No', b'Car', b'No'],\n",
              "       [b'No', b'No', b'No', b'No', b'Car']], dtype=object)>"
            ]
          },
          "metadata": {},
          "execution_count": 87
        }
      ]
    },
    {
      "cell_type": "markdown",
      "source": [
        "### Some more mathematical operations\n",
        "\n",
        "* Squaring element\n",
        "* log of element\n",
        "* Square root of element"
      ],
      "metadata": {
        "id": "112NFNNlYELI"
      }
    },
    {
      "cell_type": "code",
      "source": [
        "#create a new tensor\n",
        "H=tf.range(1,10)\n",
        "H"
      ],
      "metadata": {
        "colab": {
          "base_uri": "https://localhost:8080/"
        },
        "id": "LudX4fhuYyGi",
        "outputId": "ede37049-1cd7-4676-87da-b2c23123407e"
      },
      "execution_count": null,
      "outputs": [
        {
          "output_type": "execute_result",
          "data": {
            "text/plain": [
              "<tf.Tensor: shape=(9,), dtype=int32, numpy=array([1, 2, 3, 4, 5, 6, 7, 8, 9], dtype=int32)>"
            ]
          },
          "metadata": {},
          "execution_count": 88
        }
      ]
    },
    {
      "cell_type": "code",
      "source": [
        "#Square it\n",
        "tf.square(H)"
      ],
      "metadata": {
        "colab": {
          "base_uri": "https://localhost:8080/"
        },
        "id": "XFbzfjhUZS5o",
        "outputId": "b93b96dd-a2be-4c20-e0da-130d9a05473e"
      },
      "execution_count": null,
      "outputs": [
        {
          "output_type": "execute_result",
          "data": {
            "text/plain": [
              "<tf.Tensor: shape=(9,), dtype=int32, numpy=array([ 1,  4,  9, 16, 25, 36, 49, 64, 81], dtype=int32)>"
            ]
          },
          "metadata": {},
          "execution_count": 89
        }
      ]
    },
    {
      "cell_type": "code",
      "source": [
        "#Find the square root\n",
        "tf.math.sqrt(tf.cast(H,dtype=tf.float32))"
      ],
      "metadata": {
        "colab": {
          "base_uri": "https://localhost:8080/"
        },
        "id": "LU4F-1SXZYvf",
        "outputId": "5eeb8a6e-2799-4c98-bac5-f30afa651810"
      },
      "execution_count": null,
      "outputs": [
        {
          "output_type": "execute_result",
          "data": {
            "text/plain": [
              "<tf.Tensor: shape=(9,), dtype=float32, numpy=\n",
              "array([1.       , 1.4142135, 1.7320508, 2.       , 2.236068 , 2.4494898,\n",
              "       2.6457512, 2.828427 , 3.       ], dtype=float32)>"
            ]
          },
          "metadata": {},
          "execution_count": 92
        }
      ]
    },
    {
      "cell_type": "code",
      "source": [
        "#Find the log\n",
        "tf.math.log(tf.cast(H,dtype=tf.float32))"
      ],
      "metadata": {
        "colab": {
          "base_uri": "https://localhost:8080/"
        },
        "id": "N2YafHYMZpyO",
        "outputId": "06300242-afad-46fe-93a9-051b3de9806f"
      },
      "execution_count": null,
      "outputs": [
        {
          "output_type": "execute_result",
          "data": {
            "text/plain": [
              "<tf.Tensor: shape=(9,), dtype=float32, numpy=\n",
              "array([0.       , 0.6931472, 1.0986123, 1.3862944, 1.609438 , 1.7917595,\n",
              "       1.9459102, 2.0794415, 2.1972246], dtype=float32)>"
            ]
          },
          "metadata": {},
          "execution_count": 95
        }
      ]
    },
    {
      "cell_type": "markdown",
      "source": [
        "## Tensors and Numpy\n",
        "### Tensorflow interacts beautifully with numpy arrays"
      ],
      "metadata": {
        "id": "OeoZHUgNaH8f"
      }
    },
    {
      "cell_type": "code",
      "source": [
        "# create a tensor directly from a NumPy array\n",
        "J=tf.constant(np.array([3.,7.,10.]))\n",
        "J"
      ],
      "metadata": {
        "colab": {
          "base_uri": "https://localhost:8080/"
        },
        "id": "F2xw9EbUf1wB",
        "outputId": "64a21a3a-d958-4d3a-8317-6f83465e838d"
      },
      "execution_count": null,
      "outputs": [
        {
          "output_type": "execute_result",
          "data": {
            "text/plain": [
              "<tf.Tensor: shape=(3,), dtype=float64, numpy=array([ 3.,  7., 10.])>"
            ]
          },
          "metadata": {},
          "execution_count": 96
        }
      ]
    },
    {
      "cell_type": "code",
      "source": [
        "#Convert to numpy array\n",
        "np.array(J),type(J)"
      ],
      "metadata": {
        "colab": {
          "base_uri": "https://localhost:8080/"
        },
        "id": "FPzFDj61gI-Q",
        "outputId": "c1ade2fd-e6f9-42ed-f158-cdc484a7021d"
      },
      "execution_count": null,
      "outputs": [
        {
          "output_type": "execute_result",
          "data": {
            "text/plain": [
              "(array([ 3.,  7., 10.]), tensorflow.python.framework.ops.EagerTensor)"
            ]
          },
          "metadata": {},
          "execution_count": 97
        }
      ]
    },
    {
      "cell_type": "code",
      "source": [
        "type(np.array(J))"
      ],
      "metadata": {
        "colab": {
          "base_uri": "https://localhost:8080/"
        },
        "id": "90uSdNBzgUwd",
        "outputId": "b88ca490-342e-4db1-f887-2b8c0e001df5"
      },
      "execution_count": null,
      "outputs": [
        {
          "output_type": "execute_result",
          "data": {
            "text/plain": [
              "numpy.ndarray"
            ]
          },
          "metadata": {},
          "execution_count": 98
        }
      ]
    },
    {
      "cell_type": "code",
      "source": [
        "#Convert tensor J to a numpy array\n",
        "J.numpy(),type(J.numpy())"
      ],
      "metadata": {
        "colab": {
          "base_uri": "https://localhost:8080/"
        },
        "id": "eUlP0Kv9gZvB",
        "outputId": "3dd10465-b086-4e26-b278-62db82ecf4d3"
      },
      "execution_count": null,
      "outputs": [
        {
          "output_type": "execute_result",
          "data": {
            "text/plain": [
              "(array([ 3.,  7., 10.]), numpy.ndarray)"
            ]
          },
          "metadata": {},
          "execution_count": 99
        }
      ]
    },
    {
      "cell_type": "code",
      "source": [
        "J=tf.constant([2.0])"
      ],
      "metadata": {
        "id": "W8w8qBwBgu6d"
      },
      "execution_count": null,
      "outputs": []
    },
    {
      "cell_type": "code",
      "source": [
        "J.numpy()[0]"
      ],
      "metadata": {
        "colab": {
          "base_uri": "https://localhost:8080/"
        },
        "id": "EuV1m6Bjg3XW",
        "outputId": "1cd73a69-7134-4e3c-bc01-05660ed0a05a"
      },
      "execution_count": null,
      "outputs": [
        {
          "output_type": "execute_result",
          "data": {
            "text/plain": [
              "2.0"
            ]
          },
          "metadata": {},
          "execution_count": 102
        }
      ]
    },
    {
      "cell_type": "code",
      "source": [
        "#Default types of each are slightly different\n",
        "numpy_J=tf.constant(np.array([3.,7.,9.]))\n",
        "tensor_J=tf.constant([3.,7.,8.])\n",
        "#Check the datatypes of each\n",
        "numpy_J.dtype,tensor_J.dtype"
      ],
      "metadata": {
        "colab": {
          "base_uri": "https://localhost:8080/"
        },
        "id": "kYPkWS1Vg4MT",
        "outputId": "108e3bad-2747-4337-e164-704eb6b68e91"
      },
      "execution_count": null,
      "outputs": [
        {
          "output_type": "execute_result",
          "data": {
            "text/plain": [
              "(tf.float64, tf.float32)"
            ]
          },
          "metadata": {},
          "execution_count": 105
        }
      ]
    },
    {
      "cell_type": "markdown",
      "source": [
        "### Tensors and Numpy\n",
        "\n",
        "Tensors interacts beautifully with numpy arrays.\n",
        "🔑**Note**-One of the difference between a Tensorflow tensor and Numpy array is that a Tensorflow tensor can run on a GPU and TPU (for faster numerical processing)"
      ],
      "metadata": {
        "id": "K5Wgg_3_hj8N"
      }
    },
    {
      "cell_type": "markdown",
      "source": [
        "### Finding access to GPUs"
      ],
      "metadata": {
        "id": "jSgfuT2xSoss"
      }
    },
    {
      "cell_type": "code",
      "source": [
        "import tensorflow as tf\n",
        "tf.config.list_physical_devices(\"GPU\")"
      ],
      "metadata": {
        "colab": {
          "base_uri": "https://localhost:8080/"
        },
        "id": "TC0EY9alS57R",
        "outputId": "399c17eb-d21f-4188-c6bc-1475091829f4"
      },
      "execution_count": null,
      "outputs": [
        {
          "output_type": "execute_result",
          "data": {
            "text/plain": [
              "[PhysicalDevice(name='/physical_device:GPU:0', device_type='GPU')]"
            ]
          },
          "metadata": {},
          "execution_count": 1
        }
      ]
    },
    {
      "cell_type": "code",
      "source": [
        "!nvidia-smi"
      ],
      "metadata": {
        "colab": {
          "base_uri": "https://localhost:8080/"
        },
        "id": "gkrlXk-lTemo",
        "outputId": "659bfef9-6eea-45b0-e0a4-fa59b8bb65f5"
      },
      "execution_count": null,
      "outputs": [
        {
          "output_type": "stream",
          "name": "stdout",
          "text": [
            "Sun Aug 20 10:07:54 2023       \n",
            "+-----------------------------------------------------------------------------+\n",
            "| NVIDIA-SMI 525.105.17   Driver Version: 525.105.17   CUDA Version: 12.0     |\n",
            "|-------------------------------+----------------------+----------------------+\n",
            "| GPU  Name        Persistence-M| Bus-Id        Disp.A | Volatile Uncorr. ECC |\n",
            "| Fan  Temp  Perf  Pwr:Usage/Cap|         Memory-Usage | GPU-Util  Compute M. |\n",
            "|                               |                      |               MIG M. |\n",
            "|===============================+======================+======================|\n",
            "|   0  Tesla T4            Off  | 00000000:00:04.0 Off |                    0 |\n",
            "| N/A   41C    P8    10W /  70W |      3MiB / 15360MiB |      0%      Default |\n",
            "|                               |                      |                  N/A |\n",
            "+-------------------------------+----------------------+----------------------+\n",
            "                                                                               \n",
            "+-----------------------------------------------------------------------------+\n",
            "| Processes:                                                                  |\n",
            "|  GPU   GI   CI        PID   Type   Process name                  GPU Memory |\n",
            "|        ID   ID                                                   Usage      |\n",
            "|=============================================================================|\n",
            "|  No running processes found                                                 |\n",
            "+-----------------------------------------------------------------------------+\n"
          ]
        }
      ]
    },
    {
      "cell_type": "markdown",
      "source": [
        "### Nevdia System Management Interface"
      ],
      "metadata": {
        "id": "7nMBvNRialnU"
      }
    },
    {
      "cell_type": "markdown",
      "source": [
        "🔑**Note** - If you have access to a CUDA-enabled GPU, Tensorflow will automatically use it whenever possible.   "
      ],
      "metadata": {
        "id": "hCDDMOIxnlYx"
      }
    },
    {
      "cell_type": "markdown",
      "source": [
        "🛠 00.Tensorflow Fundamentals Execrises"
      ],
      "metadata": {
        "id": "MZAW8U5KqRQa"
      }
    },
    {
      "cell_type": "code",
      "source": [
        "## Create a vector ,scalar,matrix and tensor with values of choosing using tf.constant()\n",
        "import tensorflow as tf\n",
        "A=tf.constant([1,2,3,4,5])\n",
        "A"
      ],
      "metadata": {
        "colab": {
          "base_uri": "https://localhost:8080/"
        },
        "id": "Lc_RjpdWut-J",
        "outputId": "6c08a3af-065d-4214-f9a1-980cc766ac4c"
      },
      "execution_count": null,
      "outputs": [
        {
          "output_type": "execute_result",
          "data": {
            "text/plain": [
              "<tf.Tensor: shape=(5,), dtype=int32, numpy=array([1, 2, 3, 4, 5], dtype=int32)>"
            ]
          },
          "metadata": {},
          "execution_count": 3
        }
      ]
    },
    {
      "cell_type": "code",
      "source": [
        "B=tf.constant([[1,2,3],\n",
        "               [4,5,6],\n",
        "               [7,8,9]])\n",
        "B"
      ],
      "metadata": {
        "colab": {
          "base_uri": "https://localhost:8080/"
        },
        "id": "QK9l4Lt-vk7E",
        "outputId": "976b2490-9253-419b-bf2a-d7d93f502e2e"
      },
      "execution_count": null,
      "outputs": [
        {
          "output_type": "execute_result",
          "data": {
            "text/plain": [
              "<tf.Tensor: shape=(3, 3), dtype=int32, numpy=\n",
              "array([[1, 2, 3],\n",
              "       [4, 5, 6],\n",
              "       [7, 8, 9]], dtype=int32)>"
            ]
          },
          "metadata": {},
          "execution_count": 4
        }
      ]
    },
    {
      "cell_type": "code",
      "source": [
        "import tensorflow as tf\n",
        "C=tf.random.uniform(shape=(3,4),minval=10,maxval=100)\n",
        "C"
      ],
      "metadata": {
        "colab": {
          "base_uri": "https://localhost:8080/"
        },
        "id": "dMrESpeUwLop",
        "outputId": "2201586f-7973-41d2-84a9-93e07bd882ea"
      },
      "execution_count": null,
      "outputs": [
        {
          "output_type": "execute_result",
          "data": {
            "text/plain": [
              "<tf.Tensor: shape=(3, 4), dtype=float32, numpy=\n",
              "array([[84.35472 , 20.264975, 20.485172, 81.829216],\n",
              "       [96.16838 , 92.612305, 75.52959 , 28.788435],\n",
              "       [10.669672, 99.3506  , 69.15996 , 64.01564 ]], dtype=float32)>"
            ]
          },
          "metadata": {},
          "execution_count": 13
        }
      ]
    },
    {
      "cell_type": "markdown",
      "source": [
        "### Exercises"
      ],
      "metadata": {
        "id": "BNiVAqs30WX0"
      }
    },
    {
      "cell_type": "code",
      "source": [
        "scalar=tf.constant(4)\n",
        "scalar"
      ],
      "metadata": {
        "colab": {
          "base_uri": "https://localhost:8080/"
        },
        "id": "nmYPSF7_45C2",
        "outputId": "430606ea-63b6-4819-c89a-126020ec763a"
      },
      "execution_count": null,
      "outputs": [
        {
          "output_type": "execute_result",
          "data": {
            "text/plain": [
              "<tf.Tensor: shape=(), dtype=int32, numpy=4>"
            ]
          },
          "metadata": {},
          "execution_count": 16
        }
      ]
    },
    {
      "cell_type": "code",
      "source": [
        "scalar.ndim"
      ],
      "metadata": {
        "colab": {
          "base_uri": "https://localhost:8080/"
        },
        "id": "h3p6ipKZ49TL",
        "outputId": "6bad81d1-197c-42b6-9153-68837ef349fd"
      },
      "execution_count": null,
      "outputs": [
        {
          "output_type": "execute_result",
          "data": {
            "text/plain": [
              "0"
            ]
          },
          "metadata": {},
          "execution_count": 17
        }
      ]
    },
    {
      "cell_type": "code",
      "source": [
        "vector=tf.constant([1,2,3])\n",
        "vector"
      ],
      "metadata": {
        "colab": {
          "base_uri": "https://localhost:8080/"
        },
        "id": "djEt2UBp5FsN",
        "outputId": "f67cbe6f-b143-4238-d7ac-c939f5324aeb"
      },
      "execution_count": null,
      "outputs": [
        {
          "output_type": "execute_result",
          "data": {
            "text/plain": [
              "<tf.Tensor: shape=(3,), dtype=int32, numpy=array([1, 2, 3], dtype=int32)>"
            ]
          },
          "metadata": {},
          "execution_count": 18
        }
      ]
    },
    {
      "cell_type": "code",
      "source": [
        "vector.ndim\n"
      ],
      "metadata": {
        "colab": {
          "base_uri": "https://localhost:8080/"
        },
        "id": "LFV73_FI5KSd",
        "outputId": "5c7e57b5-9243-4808-d3ef-07c398824749"
      },
      "execution_count": null,
      "outputs": [
        {
          "output_type": "execute_result",
          "data": {
            "text/plain": [
              "1"
            ]
          },
          "metadata": {},
          "execution_count": 19
        }
      ]
    },
    {
      "cell_type": "code",
      "source": [
        "matrix=tf.constant([[1,2,3],\n",
        "                    [4,5,6],\n",
        "                    [7,8,9]])\n",
        "matrix"
      ],
      "metadata": {
        "colab": {
          "base_uri": "https://localhost:8080/"
        },
        "id": "rthuz8iu5Mpc",
        "outputId": "9c446f35-0b1b-42ac-b87a-806502c43736"
      },
      "execution_count": null,
      "outputs": [
        {
          "output_type": "execute_result",
          "data": {
            "text/plain": [
              "<tf.Tensor: shape=(3, 3), dtype=int32, numpy=\n",
              "array([[1, 2, 3],\n",
              "       [4, 5, 6],\n",
              "       [7, 8, 9]], dtype=int32)>"
            ]
          },
          "metadata": {},
          "execution_count": 22
        }
      ]
    },
    {
      "cell_type": "code",
      "source": [
        "matrix.ndim"
      ],
      "metadata": {
        "colab": {
          "base_uri": "https://localhost:8080/"
        },
        "id": "nhjRtjfw5UNr",
        "outputId": "c52dca36-533e-42cd-b9fd-04832b0dce7a"
      },
      "execution_count": null,
      "outputs": [
        {
          "output_type": "execute_result",
          "data": {
            "text/plain": [
              "2"
            ]
          },
          "metadata": {},
          "execution_count": 23
        }
      ]
    },
    {
      "cell_type": "code",
      "source": [
        "#Matrix islike box structure nX m or M X N but tensor is ndimensional arrays satisfying particular point.\n"
      ],
      "metadata": {
        "id": "yFfIxG4F5rNG"
      },
      "execution_count": null,
      "outputs": []
    },
    {
      "cell_type": "code",
      "source": [
        "import tensorflow as tf\n",
        "tensor = tf.constant([[[[1, 2, 3, 4],\n",
        "                        [1, 2, 3, 4]],\n",
        "                       [[1, 2, 3, 4],\n",
        "                        [1, 2, 3, 4]]],\n",
        "                      [[[1, 2, 3, 4],\n",
        "                        [1, 2, 3, 4]],\n",
        "                       [[1, 2, 3, 4],\n",
        "                        [1, 2, 3, 4]]]])\n",
        "tensor"
      ],
      "metadata": {
        "colab": {
          "base_uri": "https://localhost:8080/"
        },
        "id": "eb6MXwCl6HR8",
        "outputId": "aa7ab0be-6b2d-4e11-c0b2-f8b2cd41585b"
      },
      "execution_count": null,
      "outputs": [
        {
          "output_type": "execute_result",
          "data": {
            "text/plain": [
              "<tf.Tensor: shape=(2, 2, 2, 4), dtype=int32, numpy=\n",
              "array([[[[1, 2, 3, 4],\n",
              "         [1, 2, 3, 4]],\n",
              "\n",
              "        [[1, 2, 3, 4],\n",
              "         [1, 2, 3, 4]]],\n",
              "\n",
              "\n",
              "       [[[1, 2, 3, 4],\n",
              "         [1, 2, 3, 4]],\n",
              "\n",
              "        [[1, 2, 3, 4],\n",
              "         [1, 2, 3, 4]]]], dtype=int32)>"
            ]
          },
          "metadata": {},
          "execution_count": 1
        }
      ]
    },
    {
      "cell_type": "code",
      "source": [
        "tensor.shape"
      ],
      "metadata": {
        "colab": {
          "base_uri": "https://localhost:8080/"
        },
        "id": "reY8_DlH6YWE",
        "outputId": "fe7ffb18-e2c0-4c0a-f129-71bcdea32988"
      },
      "execution_count": null,
      "outputs": [
        {
          "output_type": "execute_result",
          "data": {
            "text/plain": [
              "TensorShape([2, 2, 2, 4])"
            ]
          },
          "metadata": {},
          "execution_count": 2
        }
      ]
    },
    {
      "cell_type": "code",
      "source": [
        "tf.size(tensor)"
      ],
      "metadata": {
        "colab": {
          "base_uri": "https://localhost:8080/"
        },
        "id": "PUQOboRHEDl7",
        "outputId": "6665aa07-0787-4495-8082-1f8ed8ef35bc"
      },
      "execution_count": null,
      "outputs": [
        {
          "output_type": "execute_result",
          "data": {
            "text/plain": [
              "<tf.Tensor: shape=(), dtype=int32, numpy=32>"
            ]
          },
          "metadata": {},
          "execution_count": 3
        }
      ]
    },
    {
      "cell_type": "code",
      "source": [
        "tensor.ndim # it tells the dimension of tensor which is ndimensional matrix"
      ],
      "metadata": {
        "colab": {
          "base_uri": "https://localhost:8080/"
        },
        "id": "i2K5wbFoET-V",
        "outputId": "49dda71c-ab61-4f36-9b57-1d9d18d88cd0"
      },
      "execution_count": null,
      "outputs": [
        {
          "output_type": "execute_result",
          "data": {
            "text/plain": [
              "4"
            ]
          },
          "metadata": {},
          "execution_count": 4
        }
      ]
    },
    {
      "cell_type": "code",
      "source": [
        "tensor_1=tf.random.uniform(shape=(5,300),minval=0,maxval=1)"
      ],
      "metadata": {
        "id": "IiT1H_jIEcqa"
      },
      "execution_count": null,
      "outputs": []
    },
    {
      "cell_type": "code",
      "source": [
        "tensor_1"
      ],
      "metadata": {
        "colab": {
          "base_uri": "https://localhost:8080/"
        },
        "id": "Poz_wMGQFRsy",
        "outputId": "fc12fd29-9f98-43df-d66f-a62efb554831"
      },
      "execution_count": null,
      "outputs": [
        {
          "output_type": "execute_result",
          "data": {
            "text/plain": [
              "<tf.Tensor: shape=(5, 300), dtype=float32, numpy=\n",
              "array([[0.16988146, 0.7667053 , 0.4779588 , ..., 0.62271655, 0.84406316,\n",
              "        0.51617825],\n",
              "       [0.25025535, 0.98188186, 0.24495745, ..., 0.7785088 , 0.4225676 ,\n",
              "        0.39394808],\n",
              "       [0.90924   , 0.6367271 , 0.10749686, ..., 0.3622948 , 0.8526417 ,\n",
              "        0.5057291 ],\n",
              "       [0.72362065, 0.36156   , 0.3383546 , ..., 0.7924448 , 0.469777  ,\n",
              "        0.80338085],\n",
              "       [0.5830519 , 0.55345905, 0.8849629 , ..., 0.12368321, 0.36073124,\n",
              "        0.5539067 ]], dtype=float32)>"
            ]
          },
          "metadata": {},
          "execution_count": 6
        }
      ]
    },
    {
      "cell_type": "code",
      "source": [
        "tensor_2=tf.random.uniform(shape=(5,300),minval=0,maxval=1)\n",
        "tensor_2"
      ],
      "metadata": {
        "colab": {
          "base_uri": "https://localhost:8080/"
        },
        "id": "w6IDLi0rFTKM",
        "outputId": "543e589a-7db1-4ffd-9d38-2b0393543d1b"
      },
      "execution_count": null,
      "outputs": [
        {
          "output_type": "execute_result",
          "data": {
            "text/plain": [
              "<tf.Tensor: shape=(5, 300), dtype=float32, numpy=\n",
              "array([[0.69564295, 0.4414909 , 0.10425425, ..., 0.6780331 , 0.18645239,\n",
              "        0.8263161 ],\n",
              "       [0.2521572 , 0.28583884, 0.72158563, ..., 0.79046607, 0.22105622,\n",
              "        0.6614462 ],\n",
              "       [0.04821956, 0.86438096, 0.10870326, ..., 0.54237306, 0.3343966 ,\n",
              "        0.4697243 ],\n",
              "       [0.3565346 , 0.660033  , 0.15280879, ..., 0.6789013 , 0.7693392 ,\n",
              "        0.06399798],\n",
              "       [0.36522436, 0.49600816, 0.1148771 , ..., 0.99408555, 0.2989812 ,\n",
              "        0.41067183]], dtype=float32)>"
            ]
          },
          "metadata": {},
          "execution_count": 7
        }
      ]
    },
    {
      "cell_type": "code",
      "source": [
        "#Scalar multiplication of 2 tensors\n",
        "tensor_1*tensor_2"
      ],
      "metadata": {
        "colab": {
          "base_uri": "https://localhost:8080/"
        },
        "id": "zpOWelUfFfF8",
        "outputId": "56918eeb-474b-4f05-b99d-ab6e5e86edcf"
      },
      "execution_count": null,
      "outputs": [
        {
          "output_type": "execute_result",
          "data": {
            "text/plain": [
              "<tf.Tensor: shape=(5, 300), dtype=float32, numpy=\n",
              "array([[0.11817684, 0.3384934 , 0.04982923, ..., 0.42222244, 0.15737759,\n",
              "        0.4265264 ],\n",
              "       [0.06310369, 0.28065997, 0.17675777, ..., 0.61538476, 0.0934112 ,\n",
              "        0.26057547],\n",
              "       [0.04384315, 0.55037475, 0.01168526, ..., 0.19649893, 0.2851205 ,\n",
              "        0.23755324],\n",
              "       [0.2579958 , 0.23864152, 0.05170355, ..., 0.5379918 , 0.36141786,\n",
              "        0.05141475],\n",
              "       [0.21294476, 0.2745202 , 0.10166198, ..., 0.12295169, 0.10785186,\n",
              "        0.22747387]], dtype=float32)>"
            ]
          },
          "metadata": {},
          "execution_count": 8
        }
      ]
    },
    {
      "cell_type": "code",
      "source": [
        "tf.matmul(tensor_1,tf.transpose(tensor_2))"
      ],
      "metadata": {
        "colab": {
          "base_uri": "https://localhost:8080/"
        },
        "id": "vXxFvEXvFrRU",
        "outputId": "ec01fc65-a8b1-4855-89ff-525455b0e66e"
      },
      "execution_count": null,
      "outputs": [
        {
          "output_type": "execute_result",
          "data": {
            "text/plain": [
              "<tf.Tensor: shape=(5, 5), dtype=float32, numpy=\n",
              "array([[72.719444, 70.87102 , 69.60451 , 74.4765  , 74.76798 ],\n",
              "       [77.39395 , 72.61933 , 73.55038 , 79.73925 , 77.30463 ],\n",
              "       [73.90178 , 73.25863 , 71.40186 , 80.39456 , 75.89474 ],\n",
              "       [79.04227 , 76.781   , 74.27249 , 82.74442 , 80.43515 ],\n",
              "       [71.135284, 73.253944, 69.18543 , 76.135445, 75.52162 ]],\n",
              "      dtype=float32)>"
            ]
          },
          "metadata": {},
          "execution_count": 10
        }
      ]
    },
    {
      "cell_type": "code",
      "source": [
        "#Multiply two random tensors\n",
        "# tf.tensordot(tensor_1,tensor_2,axes=1)\n",
        "tf.rank(tensor_1),tf.rank(tensor_2)"
      ],
      "metadata": {
        "id": "p0s9-XA5GAFI",
        "colab": {
          "base_uri": "https://localhost:8080/"
        },
        "outputId": "03cfb32a-7359-481b-b5a9-3b1f59c9adf9"
      },
      "execution_count": null,
      "outputs": [
        {
          "output_type": "execute_result",
          "data": {
            "text/plain": [
              "(<tf.Tensor: shape=(), dtype=int32, numpy=2>,\n",
              " <tf.Tensor: shape=(), dtype=int32, numpy=2>)"
            ]
          },
          "metadata": {},
          "execution_count": 15
        }
      ]
    },
    {
      "cell_type": "code",
      "source": [
        "#Dot Product\n",
        "\n",
        "tensor_2=tf.transpose(tensor_2)"
      ],
      "metadata": {
        "id": "lhzWhuDeu2fi"
      },
      "execution_count": null,
      "outputs": []
    },
    {
      "cell_type": "code",
      "source": [
        "tensor_2"
      ],
      "metadata": {
        "colab": {
          "base_uri": "https://localhost:8080/"
        },
        "id": "H0lLYaLQwhBG",
        "outputId": "56a6927d-e604-4501-9ef9-6c4186304cc1"
      },
      "execution_count": null,
      "outputs": [
        {
          "output_type": "execute_result",
          "data": {
            "text/plain": [
              "<tf.Tensor: shape=(300, 5), dtype=float32, numpy=\n",
              "array([[0.69564295, 0.2521572 , 0.04821956, 0.3565346 , 0.36522436],\n",
              "       [0.4414909 , 0.28583884, 0.86438096, 0.660033  , 0.49600816],\n",
              "       [0.10425425, 0.72158563, 0.10870326, 0.15280879, 0.1148771 ],\n",
              "       ...,\n",
              "       [0.6780331 , 0.79046607, 0.54237306, 0.6789013 , 0.99408555],\n",
              "       [0.18645239, 0.22105622, 0.3343966 , 0.7693392 , 0.2989812 ],\n",
              "       [0.8263161 , 0.6614462 , 0.4697243 , 0.06399798, 0.41067183]],\n",
              "      dtype=float32)>"
            ]
          },
          "metadata": {},
          "execution_count": 18
        }
      ]
    },
    {
      "cell_type": "code",
      "source": [
        "tf.tensordot(tensor_1,tensor_2,axes=1)"
      ],
      "metadata": {
        "colab": {
          "base_uri": "https://localhost:8080/"
        },
        "id": "Nr7gvC4FybQj",
        "outputId": "167ba9a1-7f5c-47c1-a16d-ccec530b7037"
      },
      "execution_count": null,
      "outputs": [
        {
          "output_type": "execute_result",
          "data": {
            "text/plain": [
              "<tf.Tensor: shape=(5, 5), dtype=float32, numpy=\n",
              "array([[72.719444, 70.87102 , 69.60451 , 74.4765  , 74.76798 ],\n",
              "       [77.39395 , 72.61933 , 73.55038 , 79.73925 , 77.30463 ],\n",
              "       [73.90178 , 73.25863 , 71.40186 , 80.39456 , 75.89474 ],\n",
              "       [79.04227 , 76.781   , 74.27249 , 82.74442 , 80.43515 ],\n",
              "       [71.135284, 73.253944, 69.18543 , 76.135445, 75.52162 ]],\n",
              "      dtype=float32)>"
            ]
          },
          "metadata": {},
          "execution_count": 20
        }
      ]
    },
    {
      "cell_type": "code",
      "source": [
        "#Random tensor\n",
        "tensor_3=tf.random.uniform(shape=(224,224,3),minval=0,maxval=100)\n",
        "tensor_3"
      ],
      "metadata": {
        "colab": {
          "base_uri": "https://localhost:8080/"
        },
        "id": "qZcwQBk7yhXM",
        "outputId": "a875ea88-6633-4757-cf89-42dd7ea2e817"
      },
      "execution_count": null,
      "outputs": [
        {
          "output_type": "execute_result",
          "data": {
            "text/plain": [
              "<tf.Tensor: shape=(224, 224, 3), dtype=float32, numpy=\n",
              "array([[[36.960102 , 72.194626 , 36.8837   ],\n",
              "        [37.40598  , 51.633846 , 69.34096  ],\n",
              "        [27.939426 , 42.268097 , 32.253204 ],\n",
              "        ...,\n",
              "        [96.4781   , 63.328266 , 11.284137 ],\n",
              "        [ 9.714532 , 90.27549  , 54.243065 ],\n",
              "        [ 7.6538086, 56.14592  , 45.1012   ]],\n",
              "\n",
              "       [[64.16882  , 79.99172  , 48.773026 ],\n",
              "        [71.62978  , 11.192536 , 32.1375   ],\n",
              "        [75.814964 ,  8.060145 , 76.91112  ],\n",
              "        ...,\n",
              "        [27.93882  , 24.857557 , 61.640144 ],\n",
              "        [47.577858 , 71.886955 , 97.20645  ],\n",
              "        [18.006002 , 44.21582  , 67.25996  ]],\n",
              "\n",
              "       [[ 2.3920655, 94.212135 , 48.998283 ],\n",
              "        [88.29876  , 11.944378 , 17.338812 ],\n",
              "        [60.581078 , 84.72636  , 40.302788 ],\n",
              "        ...,\n",
              "        [67.4114   , 84.39939  , 69.12573  ],\n",
              "        [70.65178  , 71.08493  ,  6.3980103],\n",
              "        [37.713158 , 68.64195  , 65.094795 ]],\n",
              "\n",
              "       ...,\n",
              "\n",
              "       [[ 1.8862844, 64.610275 , 42.477345 ],\n",
              "        [32.098816 , 22.76889  , 31.573332 ],\n",
              "        [ 9.179104 , 81.51031  , 24.82729  ],\n",
              "        ...,\n",
              "        [93.799385 , 65.598915 , 62.963497 ],\n",
              "        [72.75076  , 23.16283  , 39.33277  ],\n",
              "        [85.634735 , 19.273354 , 58.611618 ]],\n",
              "\n",
              "       [[ 4.269767 , 46.425293 , 39.700733 ],\n",
              "        [96.88821  , 91.12335  , 72.52588  ],\n",
              "        [35.104443 , 72.093895 , 30.57344  ],\n",
              "        ...,\n",
              "        [19.151901 , 60.41906  ,  4.593408 ],\n",
              "        [82.91467  , 72.66714  , 38.58441  ],\n",
              "        [89.461044 , 68.1626   , 60.17655  ]],\n",
              "\n",
              "       [[48.539234 , 36.373222 , 70.08843  ],\n",
              "        [75.304726 , 76.13318  , 33.5971   ],\n",
              "        [92.8079   ,  1.2338519,  9.6506   ],\n",
              "        ...,\n",
              "        [31.353437 , 65.425285 , 36.117996 ],\n",
              "        [27.69618  , 13.875998 , 26.97966  ],\n",
              "        [46.352325 , 54.316616 , 44.864906 ]]], dtype=float32)>"
            ]
          },
          "metadata": {},
          "execution_count": 21
        }
      ]
    },
    {
      "cell_type": "code",
      "source": [
        "tf.reduce_max(tensor_3,axis=1)"
      ],
      "metadata": {
        "colab": {
          "base_uri": "https://localhost:8080/"
        },
        "id": "p1Jg_wUWy9vZ",
        "outputId": "1b421f7c-3319-4968-bf36-be158ae71c31"
      },
      "execution_count": null,
      "outputs": [
        {
          "output_type": "execute_result",
          "data": {
            "text/plain": [
              "<tf.Tensor: shape=(224, 3), dtype=float32, numpy=\n",
              "array([[99.992195, 99.29094 , 98.08973 ],\n",
              "       [99.44361 , 99.83457 , 99.86808 ],\n",
              "       [99.65789 , 99.87842 , 99.293304],\n",
              "       [99.53741 , 99.87247 , 98.76921 ],\n",
              "       [99.87447 , 99.987366, 99.36331 ],\n",
              "       [99.67255 , 99.90541 , 99.94439 ],\n",
              "       [99.476074, 99.881454, 99.897385],\n",
              "       [99.30754 , 99.63286 , 96.81498 ],\n",
              "       [99.66985 , 99.27326 , 99.55305 ],\n",
              "       [99.72699 , 99.34233 , 99.36007 ],\n",
              "       [99.604416, 99.65454 , 99.952995],\n",
              "       [99.049286, 99.52168 , 99.53507 ],\n",
              "       [99.81467 , 99.975296, 99.76387 ],\n",
              "       [99.08173 , 99.88444 , 99.98263 ],\n",
              "       [99.45501 , 99.40431 , 99.859726],\n",
              "       [99.72549 , 99.93339 , 99.59647 ],\n",
              "       [99.82334 , 99.87227 , 99.52403 ],\n",
              "       [99.061874, 99.766556, 99.58943 ],\n",
              "       [99.51663 , 99.92483 , 99.95696 ],\n",
              "       [99.97309 , 99.55012 , 99.75151 ],\n",
              "       [99.260864, 99.73657 , 99.76453 ],\n",
              "       [98.06898 , 99.99294 , 99.88035 ],\n",
              "       [99.86545 , 99.74081 , 99.30428 ],\n",
              "       [99.937485, 98.69999 , 99.28816 ],\n",
              "       [99.86574 , 99.86716 , 99.85466 ],\n",
              "       [99.3752  , 99.01434 , 99.84282 ],\n",
              "       [99.72029 , 99.88384 , 99.73762 ],\n",
              "       [99.93233 , 99.64579 , 99.99593 ],\n",
              "       [99.73644 , 99.88034 , 99.66974 ],\n",
              "       [99.78405 , 99.50038 , 99.57487 ],\n",
              "       [99.93941 , 99.71786 , 99.57814 ],\n",
              "       [99.947   , 99.03903 , 99.01024 ],\n",
              "       [98.275925, 99.78212 , 99.51835 ],\n",
              "       [99.98325 , 99.70923 , 98.797485],\n",
              "       [99.99936 , 99.51293 , 99.945366],\n",
              "       [99.80906 , 99.91833 , 99.813675],\n",
              "       [99.83917 , 99.34871 , 99.4097  ],\n",
              "       [99.820435, 99.05423 , 99.95041 ],\n",
              "       [99.498055, 99.918594, 99.943634],\n",
              "       [99.756935, 99.0587  , 99.45206 ],\n",
              "       [99.765015, 99.60706 , 99.62783 ],\n",
              "       [99.40753 , 99.77282 , 99.815575],\n",
              "       [98.8864  , 98.5704  , 99.59147 ],\n",
              "       [99.65361 , 99.510895, 99.871   ],\n",
              "       [99.90451 , 99.88634 , 99.85648 ],\n",
              "       [99.79278 , 99.198555, 99.55046 ],\n",
              "       [99.766205, 99.602165, 99.71895 ],\n",
              "       [99.27336 , 99.972305, 99.95154 ],\n",
              "       [99.85144 , 99.91642 , 99.65713 ],\n",
              "       [99.61957 , 98.74128 , 98.609566],\n",
              "       [99.25247 , 99.72102 , 99.88176 ],\n",
              "       [99.31147 , 99.71763 , 98.828064],\n",
              "       [99.08818 , 99.80653 , 99.97635 ],\n",
              "       [99.577965, 99.82323 , 99.733116],\n",
              "       [99.790665, 99.90312 , 99.06635 ],\n",
              "       [99.72004 , 99.83639 , 99.77179 ],\n",
              "       [99.88901 , 99.81539 , 99.36019 ],\n",
              "       [99.48909 , 99.15212 , 99.869095],\n",
              "       [99.8578  , 99.6989  , 99.72293 ],\n",
              "       [99.54504 , 99.09477 , 99.82685 ],\n",
              "       [99.79416 , 99.71767 , 99.970474],\n",
              "       [99.89791 , 99.88407 , 99.96594 ],\n",
              "       [99.63447 , 99.739365, 99.52259 ],\n",
              "       [98.823296, 99.836754, 99.92038 ],\n",
              "       [99.50664 , 99.86007 , 99.68976 ],\n",
              "       [99.16754 , 99.86225 , 99.79297 ],\n",
              "       [99.34093 , 99.96419 , 99.71801 ],\n",
              "       [99.37407 , 99.84951 , 99.85331 ],\n",
              "       [98.68062 , 98.99351 , 99.85337 ],\n",
              "       [99.888954, 99.17078 , 99.96058 ],\n",
              "       [99.08468 , 99.31066 , 97.687386],\n",
              "       [99.08778 , 98.88612 , 99.79751 ],\n",
              "       [99.27093 , 99.77879 , 99.851814],\n",
              "       [99.85854 , 99.98082 , 99.68139 ],\n",
              "       [99.39882 , 98.471115, 99.76688 ],\n",
              "       [99.612915, 99.60139 , 99.27213 ],\n",
              "       [99.90734 , 99.83183 , 99.9101  ],\n",
              "       [99.62887 , 99.90252 , 99.75408 ],\n",
              "       [99.89734 , 99.5021  , 99.75569 ],\n",
              "       [99.645294, 99.9432  , 99.870575],\n",
              "       [99.353806, 99.87408 , 99.935555],\n",
              "       [99.21502 , 99.74893 , 99.77752 ],\n",
              "       [99.7587  , 99.857925, 99.60067 ],\n",
              "       [98.10003 , 99.82609 , 99.57966 ],\n",
              "       [99.797104, 99.881676, 99.390625],\n",
              "       [99.78371 , 99.48536 , 99.54775 ],\n",
              "       [99.94831 , 99.70261 , 99.98783 ],\n",
              "       [99.5806  , 98.68416 , 99.532555],\n",
              "       [99.757614, 99.79753 , 99.79645 ],\n",
              "       [99.91852 , 99.89247 , 99.9947  ],\n",
              "       [99.99718 , 99.574234, 98.07626 ],\n",
              "       [99.47959 , 99.6966  , 99.56648 ],\n",
              "       [99.91521 , 99.476036, 99.84889 ],\n",
              "       [99.964226, 99.572525, 99.1788  ],\n",
              "       [99.950195, 99.704185, 99.818695],\n",
              "       [99.3127  , 99.90556 , 99.852715],\n",
              "       [99.318375, 99.99132 , 99.63072 ],\n",
              "       [99.23259 , 99.99106 , 99.65468 ],\n",
              "       [99.457146, 99.69446 , 99.93893 ],\n",
              "       [99.65057 , 98.93517 , 98.29016 ],\n",
              "       [99.44079 , 99.98393 , 98.53003 ],\n",
              "       [99.90279 , 99.778725, 99.33139 ],\n",
              "       [99.53612 , 99.60035 , 99.33163 ],\n",
              "       [98.95848 , 98.74885 , 98.59293 ],\n",
              "       [99.36428 , 99.23439 , 99.09973 ],\n",
              "       [99.83682 , 99.987114, 99.55391 ],\n",
              "       [99.72212 , 99.129395, 99.83238 ],\n",
              "       [97.621826, 99.52089 , 99.745384],\n",
              "       [99.55503 , 99.913826, 99.13171 ],\n",
              "       [98.99653 , 99.93714 , 99.62923 ],\n",
              "       [99.09871 , 98.94958 , 99.712204],\n",
              "       [99.99083 , 99.55141 , 99.620285],\n",
              "       [99.60931 , 99.92269 , 99.56311 ],\n",
              "       [99.35956 , 99.801384, 99.551094],\n",
              "       [98.80526 , 99.63549 , 99.795555],\n",
              "       [99.11378 , 99.43988 , 99.8649  ],\n",
              "       [99.94359 , 99.497314, 99.6688  ],\n",
              "       [99.88865 , 99.59005 , 99.76845 ],\n",
              "       [99.99123 , 99.039665, 99.86282 ],\n",
              "       [99.826935, 98.70364 , 99.61626 ],\n",
              "       [99.99932 , 99.07416 , 99.29435 ],\n",
              "       [99.72121 , 99.63072 , 99.71655 ],\n",
              "       [99.87184 , 99.2967  , 99.697075],\n",
              "       [99.61028 , 99.20784 , 99.80846 ],\n",
              "       [99.996544, 99.84112 , 99.57167 ],\n",
              "       [99.6853  , 99.89971 , 99.732735],\n",
              "       [99.74233 , 99.83527 , 99.96675 ],\n",
              "       [99.44863 , 99.89053 , 99.99838 ],\n",
              "       [99.427124, 99.557785, 99.175934],\n",
              "       [99.522446, 99.95573 , 98.87024 ],\n",
              "       [99.73157 , 99.84336 , 99.54971 ],\n",
              "       [99.91256 , 99.6017  , 99.888695],\n",
              "       [99.298546, 99.512825, 99.469666],\n",
              "       [99.56682 , 99.45833 , 99.95606 ],\n",
              "       [99.892334, 99.30579 , 98.95555 ],\n",
              "       [99.68636 , 98.84466 , 99.58465 ],\n",
              "       [99.79034 , 99.67935 , 98.97368 ],\n",
              "       [99.81132 , 99.0437  , 99.83822 ],\n",
              "       [99.4045  , 99.72359 , 99.785866],\n",
              "       [99.71979 , 99.815895, 99.11151 ],\n",
              "       [99.96158 , 99.89834 , 99.335846],\n",
              "       [99.8184  , 98.84016 , 99.80056 ],\n",
              "       [99.86057 , 99.93063 , 99.11277 ],\n",
              "       [99.747   , 99.05199 , 99.42131 ],\n",
              "       [99.835884, 99.81704 , 99.94259 ],\n",
              "       [99.37185 , 99.65663 , 99.76099 ],\n",
              "       [99.50377 , 99.47187 , 99.84906 ],\n",
              "       [99.67567 , 99.900505, 99.79502 ],\n",
              "       [99.35697 , 99.97911 , 99.076065],\n",
              "       [99.981285, 99.90179 , 99.64459 ],\n",
              "       [99.81775 , 99.92955 , 99.23263 ],\n",
              "       [99.92756 , 98.38914 , 99.66003 ],\n",
              "       [99.77603 , 99.67363 , 99.49985 ],\n",
              "       [99.64265 , 99.21392 , 99.95854 ],\n",
              "       [99.70597 , 99.47586 , 99.211754],\n",
              "       [99.99991 , 99.962616, 99.21201 ],\n",
              "       [99.81003 , 99.22936 , 99.58898 ],\n",
              "       [99.47579 , 99.663475, 99.63795 ],\n",
              "       [99.8508  , 99.6343  , 99.249115],\n",
              "       [99.90307 , 99.84184 , 99.26231 ],\n",
              "       [99.96931 , 98.56569 , 99.65167 ],\n",
              "       [99.9733  , 99.93884 , 99.89023 ],\n",
              "       [99.903915, 97.54332 , 99.65835 ],\n",
              "       [99.86385 , 99.96048 , 99.91197 ],\n",
              "       [99.79019 , 99.05501 , 99.52991 ],\n",
              "       [99.60486 , 99.959435, 99.890724],\n",
              "       [99.85652 , 99.84553 , 99.97611 ],\n",
              "       [98.97832 , 99.43813 , 99.97885 ],\n",
              "       [99.89718 , 99.90541 , 99.950325],\n",
              "       [99.91747 , 98.51893 , 98.882805],\n",
              "       [99.9668  , 99.98985 , 99.778915],\n",
              "       [99.759964, 99.12273 , 99.12665 ],\n",
              "       [99.85138 , 99.887215, 99.472534],\n",
              "       [98.49008 , 99.51928 , 99.97442 ],\n",
              "       [99.90472 , 99.500824, 99.143364],\n",
              "       [99.66149 , 99.84881 , 99.926445],\n",
              "       [99.51295 , 99.898   , 99.59092 ],\n",
              "       [99.567184, 99.94765 , 98.60438 ],\n",
              "       [98.17829 , 99.57025 , 99.77131 ],\n",
              "       [99.22786 , 99.320114, 99.38707 ],\n",
              "       [99.792984, 99.71106 , 98.97081 ],\n",
              "       [99.00292 , 99.81967 , 99.92646 ],\n",
              "       [99.90007 , 99.30873 , 99.002075],\n",
              "       [99.66533 , 99.617935, 99.4271  ],\n",
              "       [99.41156 , 99.35168 , 99.92936 ],\n",
              "       [99.81157 , 99.62154 , 99.88403 ],\n",
              "       [99.984215, 99.87768 , 98.307884],\n",
              "       [99.69685 , 99.87335 , 99.680305],\n",
              "       [98.48419 , 99.78841 , 99.11552 ],\n",
              "       [99.74103 , 99.33222 , 99.78909 ],\n",
              "       [99.84565 , 99.66124 , 99.40576 ],\n",
              "       [99.0146  , 99.328255, 99.4996  ],\n",
              "       [99.26287 , 99.815155, 99.351265],\n",
              "       [99.2779  , 99.794556, 99.819244],\n",
              "       [98.469475, 98.57394 , 99.951935],\n",
              "       [99.732315, 99.64008 , 99.922226],\n",
              "       [98.69249 , 99.99547 , 99.943634],\n",
              "       [99.97933 , 99.67747 , 99.34413 ],\n",
              "       [99.72681 , 99.31102 , 98.65526 ],\n",
              "       [99.64502 , 99.6549  , 99.823235],\n",
              "       [99.80399 , 98.78637 , 99.98691 ],\n",
              "       [99.10007 , 99.94961 , 99.3934  ],\n",
              "       [99.61364 , 99.71193 , 99.78256 ],\n",
              "       [99.90625 , 99.820854, 99.6698  ],\n",
              "       [99.27342 , 99.90588 , 99.914375],\n",
              "       [98.48348 , 99.992546, 99.455956],\n",
              "       [99.9041  , 99.38811 , 99.931046],\n",
              "       [99.9893  , 99.63875 , 99.818214],\n",
              "       [99.94682 , 99.2695  , 98.63595 ],\n",
              "       [99.45077 , 99.761604, 99.7231  ],\n",
              "       [99.73718 , 99.46232 , 98.88232 ],\n",
              "       [98.89872 , 99.785614, 99.29801 ],\n",
              "       [99.96525 , 99.630905, 99.614845],\n",
              "       [99.91944 , 99.7833  , 99.08898 ],\n",
              "       [99.96535 , 99.50992 , 99.5888  ],\n",
              "       [99.80124 , 99.67493 , 99.72664 ],\n",
              "       [99.95358 , 99.82993 , 99.88238 ],\n",
              "       [99.193954, 99.660255, 99.55108 ],\n",
              "       [99.88522 , 99.255516, 99.82007 ],\n",
              "       [99.98105 , 99.434296, 99.738716],\n",
              "       [99.8935  , 99.71053 , 99.93123 ],\n",
              "       [99.88397 , 99.39669 , 99.98936 ],\n",
              "       [98.12887 , 99.83213 , 99.80653 ],\n",
              "       [99.27977 , 99.80952 , 99.82832 ]], dtype=float32)>"
            ]
          },
          "metadata": {},
          "execution_count": 27
        }
      ]
    },
    {
      "cell_type": "code",
      "source": [
        "tf.reduce_min(tensor_3,axis=0)"
      ],
      "metadata": {
        "colab": {
          "base_uri": "https://localhost:8080/"
        },
        "id": "pcraVteQzNok",
        "outputId": "ec050e69-ea92-4213-9065-4fb8628b509c"
      },
      "execution_count": null,
      "outputs": [
        {
          "output_type": "execute_result",
          "data": {
            "text/plain": [
              "<tf.Tensor: shape=(224, 3), dtype=float32, numpy=\n",
              "array([[2.64048576e-01, 3.44944000e-01, 8.82422924e-01],\n",
              "       [5.52201271e-01, 3.76343727e-02, 1.70636177e-01],\n",
              "       [8.27956200e-01, 2.52556801e-01, 2.35692263e+00],\n",
              "       [2.14576721e-02, 1.98054314e-01, 3.07047367e-01],\n",
              "       [1.13500357e+00, 7.90429115e-01, 2.22504139e-01],\n",
              "       [4.49419022e-01, 1.84215307e+00, 5.27787209e-01],\n",
              "       [1.48093700e-01, 3.00884247e-01, 1.11690760e+00],\n",
              "       [3.47661972e-01, 2.12216377e-01, 4.61375713e-01],\n",
              "       [6.11293316e-01, 4.31025028e-01, 8.50796700e-02],\n",
              "       [1.41489506e-01, 3.73315811e-01, 6.16788864e-01],\n",
              "       [1.21769905e+00, 1.35271549e+00, 3.78799438e-01],\n",
              "       [3.06880474e-01, 1.56998634e-02, 4.91034985e-01],\n",
              "       [3.28779221e-01, 2.63130665e-01, 4.43923473e-01],\n",
              "       [4.93443012e-01, 2.44855881e-01, 1.33275986e-02],\n",
              "       [2.69651413e-01, 5.52058220e-02, 1.11746788e+00],\n",
              "       [1.23345852e+00, 2.55250931e-01, 3.29017639e-03],\n",
              "       [3.80170345e-01, 1.26624107e-01, 5.52499294e-01],\n",
              "       [9.29188728e-01, 1.92359686e+00, 1.12568140e+00],\n",
              "       [7.21788406e-01, 8.71205330e-01, 7.70533085e-01],\n",
              "       [8.14914703e-01, 6.83903694e-01, 1.43527985e-02],\n",
              "       [1.96921825e-01, 7.84993172e-02, 3.14009190e-01],\n",
              "       [1.50012970e-01, 1.77657604e-01, 8.99076462e-02],\n",
              "       [2.52246857e-01, 1.94656849e-01, 4.62174416e-02],\n",
              "       [1.13689899e-01, 4.68254089e-02, 1.36005878e-01],\n",
              "       [8.42809677e-02, 6.37936592e-01, 4.13358212e-01],\n",
              "       [2.78508663e-01, 5.30660152e-01, 1.38485432e-01],\n",
              "       [5.09631634e-01, 2.62618065e-02, 3.73411179e-01],\n",
              "       [3.82709503e-01, 6.41667843e-01, 1.16682053e-01],\n",
              "       [2.04682350e-01, 1.40818357e+00, 4.35900688e-01],\n",
              "       [2.66075134e-02, 1.08026266e+00, 6.81340694e-01],\n",
              "       [2.53033638e+00, 1.83808804e-01, 6.83557987e-01],\n",
              "       [4.32014465e-02, 6.81018829e-01, 1.67274475e-01],\n",
              "       [4.70042229e-01, 2.44545937e-01, 7.59601593e-02],\n",
              "       [7.75933266e-02, 1.66106224e-01, 1.43051147e-04],\n",
              "       [1.04752779e+00, 9.20295715e-02, 2.12419033e-01],\n",
              "       [8.18908215e-01, 1.24859810e-01, 1.58667564e-01],\n",
              "       [5.58972359e-02, 9.90903378e-01, 9.78589058e-01],\n",
              "       [1.85728073e-01, 1.04904175e-01, 2.57635117e-01],\n",
              "       [1.14581585e+00, 5.53572178e-01, 3.75556946e-01],\n",
              "       [7.85589218e-01, 5.22136688e-03, 9.04345512e-01],\n",
              "       [3.34262848e-02, 2.65502930e-01, 1.02648735e+00],\n",
              "       [4.25720215e-01, 2.89571285e-01, 5.10334969e-01],\n",
              "       [2.76601315e-01, 7.89284706e-02, 2.98333168e-01],\n",
              "       [9.96589661e-02, 5.04136086e-02, 4.68409061e-01],\n",
              "       [9.55224037e-02, 1.01912022e-01, 9.85693932e-01],\n",
              "       [2.35438347e-02, 1.00907087e+00, 1.25968456e-01],\n",
              "       [3.79753113e-01, 6.16097450e-01, 3.17907333e-01],\n",
              "       [3.66544724e-01, 2.34854221e-01, 7.84933567e-01],\n",
              "       [1.05228424e+00, 1.12819672e-01, 1.71101093e-01],\n",
              "       [7.92384148e-01, 9.88447666e-01, 2.32899189e-01],\n",
              "       [1.39963627e-01, 1.93977356e-01, 6.93631172e-01],\n",
              "       [7.95245171e-02, 2.76136398e-01, 1.24069452e+00],\n",
              "       [1.51336193e-01, 1.15871429e-02, 5.80155849e-01],\n",
              "       [1.49050951e+00, 1.38467550e+00, 4.68921661e-01],\n",
              "       [4.85503674e-01, 4.26077843e-01, 2.27761269e-01],\n",
              "       [1.49619579e-01, 1.58262253e-01, 5.07557392e-01],\n",
              "       [7.47060776e-01, 3.67474556e-01, 8.28945637e-01],\n",
              "       [5.02419472e-01, 9.16564465e-01, 5.67483902e-01],\n",
              "       [6.97493553e-02, 3.85081768e-01, 1.81021690e+00],\n",
              "       [1.52696371e+00, 2.36964226e-01, 1.36184692e-01],\n",
              "       [1.68061256e-01, 1.22609138e+00, 1.93703175e-01],\n",
              "       [3.26991081e-01, 3.69155407e-01, 5.19275665e-02],\n",
              "       [1.55425072e-01, 1.00461245e+00, 3.53837013e-01],\n",
              "       [8.21828842e-02, 6.40165806e-01, 1.35731697e-01],\n",
              "       [7.51852989e-02, 1.80445910e+00, 2.10821629e-01],\n",
              "       [1.20627880e-01, 4.62234020e-01, 2.53880024e-01],\n",
              "       [1.57165527e-01, 4.14597988e-01, 1.49405003e-01],\n",
              "       [5.90789318e-01, 4.38213348e-02, 5.66434860e-01],\n",
              "       [4.38010693e-01, 8.55445862e-02, 1.01208687e-02],\n",
              "       [1.29294395e-01, 2.88844109e-02, 3.67522240e-02],\n",
              "       [3.27801704e-01, 2.83956528e-02, 3.98123264e-01],\n",
              "       [7.79032707e-02, 1.98709965e-01, 1.44736767e+00],\n",
              "       [2.27260590e-01, 5.99706173e-01, 1.47819519e+00],\n",
              "       [3.33404541e-01, 4.76956367e-02, 3.77011299e-01],\n",
              "       [2.75099277e-01, 3.82149220e-01, 1.86526775e-01],\n",
              "       [4.62365150e-01, 2.13038921e-01, 5.35774231e-01],\n",
              "       [1.28469467e+00, 3.83663177e-01, 1.13868713e-01],\n",
              "       [3.83841991e-01, 2.33685970e-01, 7.37321377e-01],\n",
              "       [9.31251049e-01, 4.48918343e-01, 2.84397602e-01],\n",
              "       [1.65188313e-01, 1.26349926e-01, 7.15589523e-01],\n",
              "       [2.22563744e-01, 9.65607166e-01, 6.92558289e-01],\n",
              "       [3.06653976e-01, 2.32040882e-01, 4.66716290e-01],\n",
              "       [6.11722469e-01, 1.18231773e-01, 8.69631767e-02],\n",
              "       [3.75640392e-01, 1.01287365e+00, 9.77075100e-01],\n",
              "       [7.21216202e-02, 4.34625149e-01, 3.52740288e-01],\n",
              "       [5.07831573e-03, 2.29704380e-01, 1.21837854e+00],\n",
              "       [1.08046532e+00, 6.53266907e-01, 2.15482712e-01],\n",
              "       [6.96599483e-01, 4.81879711e-01, 1.26397610e-01],\n",
              "       [1.94323063e-01, 5.74040413e-01, 1.13880634e-01],\n",
              "       [1.12628937e-01, 5.22661209e-01, 1.76143646e-01],\n",
              "       [4.99248505e-02, 2.24668980e+00, 2.06303596e-01],\n",
              "       [7.22324848e-01, 4.82964516e-01, 1.29318237e-01],\n",
              "       [1.59490108e-01, 7.76219368e-01, 2.84886360e-01],\n",
              "       [1.46055222e-01, 8.72528553e-01, 7.01272488e-01],\n",
              "       [1.21822357e+00, 1.45649910e-01, 2.31623650e-01],\n",
              "       [1.96039677e-01, 4.50682640e-01, 1.28281116e-01],\n",
              "       [4.83429432e-01, 1.08778477e-01, 5.06699085e-01],\n",
              "       [3.85403633e-01, 5.77461720e-01, 3.25798988e-02],\n",
              "       [1.79454088e+00, 1.62482262e-02, 2.75623798e-01],\n",
              "       [4.09507751e-01, 1.22570992e-01, 8.22722912e-01],\n",
              "       [2.20787525e-01, 1.91893578e+00, 5.35035133e-01],\n",
              "       [9.20414925e-02, 5.23376465e-01, 4.13918495e-01],\n",
              "       [9.71210003e-01, 5.62679768e-01, 4.41670418e-02],\n",
              "       [4.10830975e-01, 4.08256054e-01, 4.85658646e-02],\n",
              "       [6.04999065e-01, 1.60638094e+00, 1.42407417e-01],\n",
              "       [3.41153145e-01, 1.20234489e-01, 7.21359253e-01],\n",
              "       [2.37941742e-02, 2.17652321e-01, 1.10375881e-01],\n",
              "       [2.26497650e-04, 1.24669075e-01, 8.97049904e-02],\n",
              "       [1.34801865e-01, 2.16960907e-03, 5.24568558e-01],\n",
              "       [1.80768967e-01, 1.38425827e-01, 4.17947769e-02],\n",
              "       [2.19106674e-02, 7.79986382e-02, 1.11460686e-02],\n",
              "       [5.19049168e-01, 8.16571712e-01, 8.37922096e-02],\n",
              "       [4.61757183e-01, 1.33609772e-01, 4.77731228e-01],\n",
              "       [8.49795341e-01, 1.85281038e+00, 9.53936577e-01],\n",
              "       [3.26168537e-01, 4.23920155e-01, 4.39035892e-01],\n",
              "       [8.97324085e-01, 1.23178959e-01, 2.99823284e-01],\n",
              "       [3.22973728e-01, 4.84251976e-01, 4.77504730e-01],\n",
              "       [4.12762165e-01, 8.37612152e-01, 2.57921219e-01],\n",
              "       [3.36766243e-01, 9.28509235e-01, 2.32338905e-02],\n",
              "       [7.10368156e-02, 1.31480694e+00, 2.86459923e-01],\n",
              "       [1.01578236e-01, 2.64263153e-01, 1.11949444e-01],\n",
              "       [4.51004505e-01, 6.55341148e-01, 2.78878212e-01],\n",
              "       [9.53209400e-01, 1.21175051e+00, 7.52520561e-01],\n",
              "       [6.88457489e-01, 1.38831139e-01, 2.40898132e-01],\n",
              "       [2.26097107e+00, 8.34500790e-01, 4.79948521e-01],\n",
              "       [1.67131424e-02, 9.54508781e-02, 1.65629387e-01],\n",
              "       [4.01580334e-01, 7.69984722e-01, 3.54731083e-01],\n",
              "       [4.19855118e-02, 1.01755857e+00, 1.36673450e-01],\n",
              "       [5.20777702e-01, 7.60197639e-01, 4.75168228e-01],\n",
              "       [1.59001350e-01, 1.44326687e-01, 2.64596939e-01],\n",
              "       [6.15119934e-03, 4.52709198e-01, 2.17950344e-01],\n",
              "       [2.35199928e-01, 2.77924538e-01, 7.61556625e-01],\n",
              "       [3.48687172e-02, 1.23429298e-01, 1.74903870e-01],\n",
              "       [7.37786293e-02, 3.62658501e-01, 9.62126255e-01],\n",
              "       [4.93335724e-01, 1.07445717e+00, 7.81333447e-01],\n",
              "       [4.29749489e-02, 7.79390335e-02, 4.07028198e-01],\n",
              "       [6.82651997e-01, 1.45816803e-01, 2.93099880e-01],\n",
              "       [8.81195068e-02, 4.63485718e-01, 3.37445736e-01],\n",
              "       [7.25984573e-01, 2.54166126e-01, 1.60002708e-01],\n",
              "       [4.06610966e-01, 6.25300407e-01, 7.73358345e-01],\n",
              "       [3.06773186e-01, 9.05406475e-01, 2.78484821e-01],\n",
              "       [2.38418579e-05, 5.69903851e-01, 7.73441792e-01],\n",
              "       [3.39329243e-01, 8.92341137e-01, 6.06000423e-01],\n",
              "       [3.89814377e-02, 1.64151192e-02, 5.83052635e-01],\n",
              "       [7.45308399e-01, 8.75115395e-01, 3.83388996e-01],\n",
              "       [8.08119774e-02, 5.22625446e-01, 3.48901749e-01],\n",
              "       [9.14812088e-02, 1.36554241e-01, 6.24060631e-02],\n",
              "       [4.47750092e-02, 1.37221813e-01, 4.02736664e-01],\n",
              "       [1.49369240e-02, 2.55978107e-01, 1.00449324e+00],\n",
              "       [2.54741907e+00, 9.10747051e-01, 8.13627243e-01],\n",
              "       [1.93521976e+00, 1.73866749e-01, 1.28924847e-01],\n",
              "       [1.79779530e-01, 2.57499218e+00, 4.50849533e-01],\n",
              "       [1.62148476e-01, 1.06725693e+00, 1.70977116e+00],\n",
              "       [1.46150589e-02, 3.64935398e-01, 3.31413746e-01],\n",
              "       [9.36388969e-02, 1.04510784e-01, 1.20306015e-01],\n",
              "       [3.07953358e-01, 7.67207146e-01, 5.63979149e-02],\n",
              "       [1.22731924e+00, 5.84053993e-01, 5.31649590e-01],\n",
              "       [1.22222900e+00, 4.55141068e-02, 3.41248512e-01],\n",
              "       [1.67286396e-01, 5.95366955e-01, 5.89537621e-01],\n",
              "       [6.43730164e-02, 5.35011292e-02, 3.37660313e-01],\n",
              "       [4.67836857e-01, 5.91754913e-01, 8.63134861e-01],\n",
              "       [2.74491310e-01, 1.16705894e-01, 1.40756369e+00],\n",
              "       [1.98185444e-01, 1.06465816e-01, 1.33585930e-01],\n",
              "       [1.35728121e+00, 1.59120560e-01, 1.11436844e+00],\n",
              "       [7.34746456e-01, 1.71113014e-01, 4.45973873e-01],\n",
              "       [7.35521317e-03, 1.29318237e-01, 5.28311729e-01],\n",
              "       [5.16891479e-02, 1.08897686e-01, 3.62002850e-01],\n",
              "       [2.20918655e-01, 7.58373737e-01, 2.99334526e-01],\n",
              "       [6.02960587e-02, 2.56836414e-01, 3.13460827e-01],\n",
              "       [1.13821030e-01, 3.65257263e-02, 4.31776047e-02],\n",
              "       [1.91938877e-01, 7.27367401e-01, 7.74681568e-01],\n",
              "       [4.55117226e-01, 2.89857388e-01, 3.23522091e-01],\n",
              "       [1.63197517e-01, 3.49044800e-02, 8.35382938e-01],\n",
              "       [2.10785866e-01, 3.49640846e-01, 5.85007668e-01],\n",
              "       [2.01821327e-02, 8.85069370e-01, 7.81846046e-01],\n",
              "       [6.38365746e-02, 6.41787052e-01, 2.89309025e-01],\n",
              "       [4.02212143e-01, 6.55651093e-02, 2.86293030e-01],\n",
              "       [2.17664242e+00, 2.22563744e-02, 1.35180950e+00],\n",
              "       [6.92415237e-01, 4.26292419e-02, 2.69460678e-01],\n",
              "       [1.50372982e+00, 1.03998184e-01, 1.94978714e-01],\n",
              "       [1.93381310e-01, 2.45511532e-01, 3.69369984e-01],\n",
              "       [3.25381756e-01, 6.76465034e-01, 1.19307041e+00],\n",
              "       [8.17942619e-01, 1.27747059e+00, 5.09452820e-01],\n",
              "       [1.12475157e+00, 2.91323662e-01, 5.11920452e-01],\n",
              "       [4.43959236e-01, 1.91366673e-01, 1.08242035e-01],\n",
              "       [7.21466541e-01, 8.02516937e-02, 1.48653984e-02],\n",
              "       [1.70230865e-02, 2.20179558e-02, 7.86387920e-01],\n",
              "       [7.39729404e-01, 1.63435936e-02, 1.85704231e-01],\n",
              "       [2.67314911e-01, 7.27295876e-02, 4.79102135e-02],\n",
              "       [2.08699703e-01, 1.39198303e+00, 1.71244144e-01],\n",
              "       [1.59966946e-01, 1.29067898e-01, 5.60021400e-01],\n",
              "       [1.27446651e-01, 8.53514671e-01, 1.56259537e-01],\n",
              "       [1.23029947e+00, 1.09815598e-01, 2.31614113e+00],\n",
              "       [6.72459602e-02, 5.20372391e-01, 5.39422035e-01],\n",
              "       [4.23491001e-01, 5.97453117e-01, 1.81607008e+00],\n",
              "       [7.15100765e-01, 2.51054764e-01, 3.40068340e-01],\n",
              "       [1.21629238e-01, 1.86920166e-01, 8.48889351e-01],\n",
              "       [1.17373466e-01, 3.79526615e-01, 8.34214687e-01],\n",
              "       [6.32369518e-01, 7.43985176e-02, 9.35792923e-03],\n",
              "       [2.53474712e-01, 1.88314915e-01, 3.10945511e-01],\n",
              "       [1.21868849e+00, 7.30061531e-01, 8.55565071e-02],\n",
              "       [5.37085533e-01, 1.57680511e+00, 1.71136856e-01],\n",
              "       [7.08103180e-02, 1.21653080e-01, 6.23464584e-02],\n",
              "       [5.15317917e-01, 4.41229343e-01, 7.75492191e-01],\n",
              "       [8.05616379e-01, 1.67012215e-02, 1.80697441e-01],\n",
              "       [4.36306000e-02, 5.14292717e-01, 3.31580639e-01],\n",
              "       [9.32109356e-01, 3.25274467e-01, 2.35152245e-01],\n",
              "       [2.38537788e-02, 8.27431679e-02, 9.97734070e-01],\n",
              "       [2.47955322e-03, 3.12912464e-01, 8.88419151e-01],\n",
              "       [2.44283676e-01, 3.86238098e-02, 3.39031219e-02],\n",
              "       [1.06008053e+00, 1.04343891e-01, 3.80778313e-01],\n",
              "       [7.74061680e-01, 4.46236134e-01, 1.39319897e-01],\n",
              "       [1.53565407e-01, 3.35371494e-01, 3.89528275e-01],\n",
              "       [1.97124481e-01, 3.75390053e-01, 4.55915928e-01],\n",
              "       [2.16650963e-01, 1.02853775e-01, 8.16941261e-02],\n",
              "       [1.12866163e+00, 1.27208233e-01, 3.79359722e-01],\n",
              "       [8.85689259e-01, 8.93950462e-02, 4.93729115e-01],\n",
              "       [9.02736187e-01, 3.16703320e-01, 2.11918354e-01],\n",
              "       [5.58245182e-01, 5.67913055e-01, 8.31532478e-01],\n",
              "       [3.70764732e-01, 8.88991356e-01, 2.38895416e-02],\n",
              "       [2.61306763e-01, 5.82730770e-01, 1.90472603e-01],\n",
              "       [6.62076473e-01, 1.53386593e-01, 8.56995583e-01],\n",
              "       [5.00965118e-01, 5.13792038e-03, 4.27937508e-01],\n",
              "       [1.23118162e+00, 4.04047966e-01, 2.83718109e-03]], dtype=float32)>"
            ]
          },
          "metadata": {},
          "execution_count": 28
        }
      ]
    },
    {
      "cell_type": "code",
      "source": [
        "#Create random tesnsor and then squeezed it\n",
        "tensor_4=tf.random.uniform(shape=(1,224,224,3),minval=10,maxval=1000)"
      ],
      "metadata": {
        "id": "AfK4K4ll0dDY"
      },
      "execution_count": null,
      "outputs": []
    },
    {
      "cell_type": "code",
      "source": [
        "tensor_4"
      ],
      "metadata": {
        "colab": {
          "base_uri": "https://localhost:8080/"
        },
        "id": "pJnnxPpH0_v7",
        "outputId": "98d89d31-9f82-4459-ecff-1056153f938b"
      },
      "execution_count": null,
      "outputs": [
        {
          "output_type": "execute_result",
          "data": {
            "text/plain": [
              "<tf.Tensor: shape=(1, 224, 224, 3), dtype=float32, numpy=\n",
              "array([[[[359.15128 , 118.434555, 680.42786 ],\n",
              "         [269.5696  , 973.1793  , 596.64166 ],\n",
              "         [855.5689  , 590.70337 , 412.984   ],\n",
              "         ...,\n",
              "         [715.0686  , 826.4529  , 194.56367 ],\n",
              "         [940.9087  , 468.81274 , 742.5064  ],\n",
              "         [576.9695  , 880.2319  ,  29.355175]],\n",
              "\n",
              "        [[729.2852  , 229.22638 , 173.75087 ],\n",
              "         [622.0431  , 845.91345 , 511.62006 ],\n",
              "         [678.66516 , 311.00085 , 307.48004 ],\n",
              "         ...,\n",
              "         [ 62.511635,  18.771393,  18.449087],\n",
              "         [587.5983  ,  84.25949 , 724.62256 ],\n",
              "         [700.1912  , 498.43    , 580.0802  ]],\n",
              "\n",
              "        [[571.0698  , 293.87054 ,  61.696487],\n",
              "         [882.2198  , 883.5829  , 419.68878 ],\n",
              "         [352.50525 , 737.9749  , 604.5003  ],\n",
              "         ...,\n",
              "         [443.55    , 378.4929  , 438.35428 ],\n",
              "         [392.1293  , 210.8274  , 735.5223  ],\n",
              "         [ 56.16113 , 409.52835 , 223.31053 ]],\n",
              "\n",
              "        ...,\n",
              "\n",
              "        [[824.0798  , 886.41364 , 124.073296],\n",
              "         [660.4174  , 810.41315 ,  52.791737],\n",
              "         [650.75464 , 681.2385  , 863.6911  ],\n",
              "         ...,\n",
              "         [282.2501  , 308.1052  , 146.22241 ],\n",
              "         [356.21738 ,  58.03595 , 951.5459  ],\n",
              "         [480.12692 , 872.95935 , 959.2025  ]],\n",
              "\n",
              "        [[173.15004 , 186.68555 , 332.08475 ],\n",
              "         [960.3382  , 868.8293  , 890.9297  ],\n",
              "         [618.0653  , 619.9184  ,  83.68026 ],\n",
              "         ...,\n",
              "         [ 27.676851,  44.714523, 443.96954 ],\n",
              "         [ 64.81002 , 744.37006 ,  39.131836],\n",
              "         [ 95.04366 , 360.93665 ,  27.02339 ]],\n",
              "\n",
              "        [[483.2395  ,  73.91528 , 453.1128  ],\n",
              "         [ 69.66135 , 197.2344  , 594.7565  ],\n",
              "         [147.24928 , 799.31067 , 465.47983 ],\n",
              "         ...,\n",
              "         [503.9001  , 659.0332  , 995.2008  ],\n",
              "         [797.02954 , 308.01077 , 235.43326 ],\n",
              "         [668.92804 , 883.77606 , 231.59782 ]]]], dtype=float32)>"
            ]
          },
          "metadata": {},
          "execution_count": 30
        }
      ]
    },
    {
      "cell_type": "markdown",
      "source": [
        "### tf.squeezed is used to remove size of dimension of tensorflow tensors\n"
      ],
      "metadata": {
        "id": "j2h1SZfA1AzV"
      }
    },
    {
      "cell_type": "code",
      "source": [
        "tf.squeeze(tensor_3)"
      ],
      "metadata": {
        "colab": {
          "base_uri": "https://localhost:8080/"
        },
        "id": "o4zmivOg1my7",
        "outputId": "5acc8d33-bb44-4314-cf63-0fdcb2d609f0"
      },
      "execution_count": null,
      "outputs": [
        {
          "output_type": "execute_result",
          "data": {
            "text/plain": [
              "<tf.Tensor: shape=(224, 224, 3), dtype=float32, numpy=\n",
              "array([[[36.960102 , 72.194626 , 36.8837   ],\n",
              "        [37.40598  , 51.633846 , 69.34096  ],\n",
              "        [27.939426 , 42.268097 , 32.253204 ],\n",
              "        ...,\n",
              "        [96.4781   , 63.328266 , 11.284137 ],\n",
              "        [ 9.714532 , 90.27549  , 54.243065 ],\n",
              "        [ 7.6538086, 56.14592  , 45.1012   ]],\n",
              "\n",
              "       [[64.16882  , 79.99172  , 48.773026 ],\n",
              "        [71.62978  , 11.192536 , 32.1375   ],\n",
              "        [75.814964 ,  8.060145 , 76.91112  ],\n",
              "        ...,\n",
              "        [27.93882  , 24.857557 , 61.640144 ],\n",
              "        [47.577858 , 71.886955 , 97.20645  ],\n",
              "        [18.006002 , 44.21582  , 67.25996  ]],\n",
              "\n",
              "       [[ 2.3920655, 94.212135 , 48.998283 ],\n",
              "        [88.29876  , 11.944378 , 17.338812 ],\n",
              "        [60.581078 , 84.72636  , 40.302788 ],\n",
              "        ...,\n",
              "        [67.4114   , 84.39939  , 69.12573  ],\n",
              "        [70.65178  , 71.08493  ,  6.3980103],\n",
              "        [37.713158 , 68.64195  , 65.094795 ]],\n",
              "\n",
              "       ...,\n",
              "\n",
              "       [[ 1.8862844, 64.610275 , 42.477345 ],\n",
              "        [32.098816 , 22.76889  , 31.573332 ],\n",
              "        [ 9.179104 , 81.51031  , 24.82729  ],\n",
              "        ...,\n",
              "        [93.799385 , 65.598915 , 62.963497 ],\n",
              "        [72.75076  , 23.16283  , 39.33277  ],\n",
              "        [85.634735 , 19.273354 , 58.611618 ]],\n",
              "\n",
              "       [[ 4.269767 , 46.425293 , 39.700733 ],\n",
              "        [96.88821  , 91.12335  , 72.52588  ],\n",
              "        [35.104443 , 72.093895 , 30.57344  ],\n",
              "        ...,\n",
              "        [19.151901 , 60.41906  ,  4.593408 ],\n",
              "        [82.91467  , 72.66714  , 38.58441  ],\n",
              "        [89.461044 , 68.1626   , 60.17655  ]],\n",
              "\n",
              "       [[48.539234 , 36.373222 , 70.08843  ],\n",
              "        [75.304726 , 76.13318  , 33.5971   ],\n",
              "        [92.8079   ,  1.2338519,  9.6506   ],\n",
              "        ...,\n",
              "        [31.353437 , 65.425285 , 36.117996 ],\n",
              "        [27.69618  , 13.875998 , 26.97966  ],\n",
              "        [46.352325 , 54.316616 , 44.864906 ]]], dtype=float32)>"
            ]
          },
          "metadata": {},
          "execution_count": 31
        }
      ]
    },
    {
      "cell_type": "code",
      "source": [
        "### Tensor with random with shapes\n",
        "tensor_5=tf.random.uniform(shape=[10],minval=10,maxval=100)\n",
        "tensor_5"
      ],
      "metadata": {
        "colab": {
          "base_uri": "https://localhost:8080/"
        },
        "id": "5J6RohMf1qty",
        "outputId": "ff1c9cf2-2949-4c26-e651-5f12d6d3811d"
      },
      "execution_count": null,
      "outputs": [
        {
          "output_type": "execute_result",
          "data": {
            "text/plain": [
              "<tf.Tensor: shape=(10,), dtype=float32, numpy=\n",
              "array([76.01085 , 11.135808, 47.15131 , 58.74901 , 98.02035 , 37.887733,\n",
              "       88.90719 , 28.230652, 16.01717 , 12.938103], dtype=float32)>"
            ]
          },
          "metadata": {},
          "execution_count": 32
        }
      ]
    },
    {
      "cell_type": "markdown",
      "source": [
        "### tf.argmax()-index of the max values of any tensor"
      ],
      "metadata": {
        "id": "1hQ-9dlZ3Ysy"
      }
    },
    {
      "cell_type": "code",
      "source": [
        "tf.argmax(tensor_5)"
      ],
      "metadata": {
        "colab": {
          "base_uri": "https://localhost:8080/"
        },
        "id": "z_O4LG8h3h2o",
        "outputId": "a7e0df28-6960-49c0-85cb-9bc0374d5892"
      },
      "execution_count": null,
      "outputs": [
        {
          "output_type": "execute_result",
          "data": {
            "text/plain": [
              "<tf.Tensor: shape=(), dtype=int64, numpy=4>"
            ]
          },
          "metadata": {},
          "execution_count": 34
        }
      ]
    },
    {
      "cell_type": "code",
      "source": [
        "Numpy_A=tf.constant([0,2,3,4,5]) #car brands 0=BMW,1=Audi,2=Mercedes,3=lambo,4=toyota,5=ferrari\n",
        "tf.one_hot(Numpy_A,depth=6)"
      ],
      "metadata": {
        "colab": {
          "base_uri": "https://localhost:8080/"
        },
        "id": "w0aIUw783ycJ",
        "outputId": "f2e5d6fc-3ff0-4100-b81e-b9990cde4e0a"
      },
      "execution_count": null,
      "outputs": [
        {
          "output_type": "execute_result",
          "data": {
            "text/plain": [
              "<tf.Tensor: shape=(5, 6), dtype=float32, numpy=\n",
              "array([[1., 0., 0., 0., 0., 0.],\n",
              "       [0., 0., 1., 0., 0., 0.],\n",
              "       [0., 0., 0., 1., 0., 0.],\n",
              "       [0., 0., 0., 0., 1., 0.],\n",
              "       [0., 0., 0., 0., 0., 1.]], dtype=float32)>"
            ]
          },
          "metadata": {},
          "execution_count": 35
        }
      ]
    },
    {
      "cell_type": "markdown",
      "source": [
        "### One-hot encoding is a common processing step in ml in which u convert categorical data into machine friendly codes."
      ],
      "metadata": {
        "id": "gX108TLy4vTj"
      }
    },
    {
      "cell_type": "markdown",
      "source": [
        "### Tensorflow execrise completed\n",
        "⚒00.Tensorflow Fundamentals execrises"
      ],
      "metadata": {
        "id": "brCf4-RM5D04"
      }
    },
    {
      "cell_type": "code",
      "source": [],
      "metadata": {
        "id": "qIXdumO95T6T"
      },
      "execution_count": null,
      "outputs": []
    }
  ]
}