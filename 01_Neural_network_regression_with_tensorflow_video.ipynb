{
  "cells": [
    {
      "cell_type": "markdown",
      "metadata": {
        "id": "view-in-github",
        "colab_type": "text"
      },
      "source": [
        "<a href=\"https://colab.research.google.com/github/varmatilak22/learning_tensorflow/blob/main/01_Neural_network_regression_with_tensorflow_video.ipynb\" target=\"_parent\"><img src=\"https://colab.research.google.com/assets/colab-badge.svg\" alt=\"Open In Colab\"/></a>"
      ]
    },
    {
      "cell_type": "markdown",
      "metadata": {
        "id": "KOoBoORJO2wh"
      },
      "source": [
        "# Introduction to Regression with Neural Networks in Tensorflow\n",
        "\n",
        "There are many definitions for a regression problem.\n",
        "Defini:Predicting a numerical variable based on some other combination of variables,even shorter... Predicting a number."
      ]
    },
    {
      "cell_type": "code",
      "execution_count": null,
      "metadata": {
        "colab": {
          "base_uri": "https://localhost:8080/"
        },
        "id": "L2_htKdmPSGM",
        "outputId": "66fe39f4-763a-4bba-e214-817fafaab1ee"
      },
      "outputs": [
        {
          "output_type": "stream",
          "name": "stdout",
          "text": [
            "2.12.0\n"
          ]
        }
      ],
      "source": [
        "# Import Tensorflow\n",
        "import tensorflow as tf\n",
        "print(tf.__version__)"
      ]
    },
    {
      "cell_type": "markdown",
      "metadata": {
        "id": "j718qrIdQCSC"
      },
      "source": [
        "## Creating a data to view and fit"
      ]
    },
    {
      "cell_type": "code",
      "execution_count": null,
      "metadata": {
        "colab": {
          "base_uri": "https://localhost:8080/",
          "height": 448
        },
        "id": "ERF90OBcQSEf",
        "outputId": "4980797f-b2ef-4b8d-88b0-35b31be9a6ed"
      },
      "outputs": [
        {
          "output_type": "execute_result",
          "data": {
            "text/plain": [
              "<matplotlib.collections.PathCollection at 0x7bc36c28d7b0>"
            ]
          },
          "metadata": {},
          "execution_count": 2
        },
        {
          "output_type": "display_data",
          "data": {
            "text/plain": [
              "<Figure size 640x480 with 1 Axes>"
            ],
            "image/png": "[encoded data removed]"
          },
          "metadata": {}
        }
      ],
      "source": [
        "import numpy as np\n",
        "import pandas as pd\n",
        "import matplotlib.pyplot as plt\n",
        "\n",
        "#Create features\n",
        "X=np.array([-7.0,-4.0,-1.0, 2.0, 5.0, 8.0])\n",
        "\n",
        "#create labels\n",
        "y=np.array([3.0,6.0,9.0,12.0,15.0,18.10])\n",
        "\n",
        "#visualise it\n",
        "plt.scatter(X,y)"
      ]
    },
    {
      "cell_type": "code",
      "execution_count": null,
      "metadata": {
        "colab": {
          "base_uri": "https://localhost:8080/"
        },
        "id": "q8u5oONKRXPl",
        "outputId": "9197dc40-2c3e-45cf-9960-2fdbd791cf9d"
      },
      "outputs": [
        {
          "output_type": "execute_result",
          "data": {
            "text/plain": [
              "array([ True,  True,  True,  True,  True, False])"
            ]
          },
          "metadata": {},
          "execution_count": 3
        }
      ],
      "source": [
        "y==X+10"
      ]
    },
    {
      "cell_type": "markdown",
      "metadata": {
        "id": "F0kdu7EZUMXJ"
      },
      "source": [
        "## Input and Output Shapes"
      ]
    },
    {
      "cell_type": "code",
      "execution_count": null,
      "metadata": {
        "colab": {
          "base_uri": "https://localhost:8080/"
        },
        "id": "LhqUh7zcVgR2",
        "outputId": "a8bd9853-d753-446d-c7f3-a63eac487581"
      },
      "outputs": [
        {
          "output_type": "execute_result",
          "data": {
            "text/plain": [
              "<tf.Tensor: shape=(3,), dtype=string, numpy=array([b'bedroom', b'bathroom', b'garage'], dtype=object)>"
            ]
          },
          "metadata": {},
          "execution_count": 4
        }
      ],
      "source": [
        "#Create a demo tensor for our housing price prediction problem\n",
        "house_info=tf.constant([\"bedroom\",\"bathroom\",\"garage\"])\n",
        "house_info"
      ]
    },
    {
      "cell_type": "code",
      "execution_count": null,
      "metadata": {
        "colab": {
          "base_uri": "https://localhost:8080/"
        },
        "id": "3pHrAajmWLC_",
        "outputId": "948701e1-daff-4c65-dd93-175faa59e355"
      },
      "outputs": [
        {
          "output_type": "execute_result",
          "data": {
            "text/plain": [
              "(<tf.Tensor: shape=(3,), dtype=string, numpy=array([b'bedroom', b'bathroom', b'garage'], dtype=object)>,\n",
              " <tf.Tensor: shape=(1,), dtype=int32, numpy=array([939700], dtype=int32)>)"
            ]
          },
          "metadata": {},
          "execution_count": 5
        }
      ],
      "source": [
        "house_price=tf.constant([939700])\n",
        "house_info,house_price"
      ]
    },
    {
      "cell_type": "code",
      "execution_count": null,
      "metadata": {
        "colab": {
          "base_uri": "https://localhost:8080/"
        },
        "id": "iot3SgW4WXj5",
        "outputId": "9954840a-1052-44e5-98ed-fbb4104c4348"
      },
      "outputs": [
        {
          "output_type": "execute_result",
          "data": {
            "text/plain": [
              "((6,), (6,))"
            ]
          },
          "metadata": {},
          "execution_count": 6
        }
      ],
      "source": [
        "input_shape = X.shape\n",
        "output_shape = y.shape\n",
        "input_shape,output_shape"
      ]
    },
    {
      "cell_type": "code",
      "execution_count": null,
      "metadata": {
        "colab": {
          "base_uri": "https://localhost:8080/"
        },
        "id": "x-Biq-qkWyZI",
        "outputId": "ec8b12d3-b017-4e3f-c69b-a5e9fc965112"
      },
      "outputs": [
        {
          "output_type": "execute_result",
          "data": {
            "text/plain": [
              "(-4.0, 6.0)"
            ]
          },
          "metadata": {},
          "execution_count": 7
        }
      ],
      "source": [
        "# How to predict X first value to predict Y value\n",
        "X[1],y[1]"
      ]
    },
    {
      "cell_type": "code",
      "execution_count": null,
      "metadata": {
        "colab": {
          "base_uri": "https://localhost:8080/"
        },
        "id": "Oq2tdx30XKaL",
        "outputId": "24cbceb9-44b9-4362-cd42-7fe8ce3d6e06"
      },
      "outputs": [
        {
          "output_type": "execute_result",
          "data": {
            "text/plain": [
              "((), ())"
            ]
          },
          "metadata": {},
          "execution_count": 8
        }
      ],
      "source": [
        "X[1].shape,y[1].shape"
      ]
    },
    {
      "cell_type": "code",
      "execution_count": null,
      "metadata": {
        "colab": {
          "base_uri": "https://localhost:8080/"
        },
        "id": "WW-ejBSJXedG",
        "outputId": "0ea16b58-104b-4e8d-b089-224be843df3a"
      },
      "outputs": [
        {
          "output_type": "execute_result",
          "data": {
            "text/plain": [
              "(<tf.Tensor: shape=(6,), dtype=float64, numpy=array([-7., -4., -1.,  2.,  5.,  8.])>,\n",
              " <tf.Tensor: shape=(6,), dtype=float64, numpy=array([ 3. ,  6. ,  9. , 12. , 15. , 18.1])>)"
            ]
          },
          "metadata": {},
          "execution_count": 9
        }
      ],
      "source": [
        "#Turn out numpy arrays into tensors\n",
        "X=tf.constant(X)\n",
        "y=tf.constant(y)\n",
        "X,y"
      ]
    },
    {
      "cell_type": "code",
      "execution_count": null,
      "metadata": {
        "id": "mfugp1C8a_uz"
      },
      "outputs": [],
      "source": [
        "input_shape=X[0].shape"
      ]
    },
    {
      "cell_type": "code",
      "execution_count": null,
      "metadata": {
        "id": "6OsMPcKcdWvv"
      },
      "outputs": [],
      "source": [
        "output_shape=y[0].shape"
      ]
    },
    {
      "cell_type": "code",
      "execution_count": null,
      "metadata": {
        "colab": {
          "base_uri": "https://localhost:8080/"
        },
        "id": "WExEMEOfdfQf",
        "outputId": "175d8a36-6e11-434a-ccb5-623d100890ac"
      },
      "outputs": [
        {
          "output_type": "execute_result",
          "data": {
            "text/plain": [
              "(TensorShape([]), TensorShape([]))"
            ]
          },
          "metadata": {},
          "execution_count": 12
        }
      ],
      "source": [
        "input_shape,output_shape"
      ]
    },
    {
      "cell_type": "code",
      "execution_count": null,
      "metadata": {
        "colab": {
          "base_uri": "https://localhost:8080/",
          "height": 448
        },
        "id": "T-eA3dKddh37",
        "outputId": "697c9a2e-68ed-4da2-f3ec-6b7b230fcdf6"
      },
      "outputs": [
        {
          "output_type": "execute_result",
          "data": {
            "text/plain": [
              "<matplotlib.collections.PathCollection at 0x7bc36a1b7820>"
            ]
          },
          "metadata": {},
          "execution_count": 13
        },
        {
          "output_type": "display_data",
          "data": {
            "text/plain": [
              "<Figure size 640x480 with 1 Axes>"
            ],
            "image/png": "[encoded data removed]"
          },
          "metadata": {}
        }
      ],
      "source": [
        "plt.scatter(X,y)"
      ]
    },
    {
      "cell_type": "markdown",
      "metadata": {
        "id": "zqxNHRpQd4Q2"
      },
      "source": [
        "## Steps in modelling with tensorflow\n",
        "\n",
        "1. **Creating a model** -define the input and output layers,as well as the hidden layers of a deep learning model.\n",
        "\n",
        "2. **Compiling a model** - define the loss function (in other words, the function which tells our model how wrong it is) and optimizer(tells our model how to improve the patterns its learning)and  evaluation metrics (what we can use to interpret the performance of our model).\n",
        "\n",
        "3. **Fitting a model** - letting the model try to find patterns between X & y (features and labels)."
      ]
    },
    {
      "cell_type": "code",
      "execution_count": null,
      "metadata": {
        "id": "yyF4qoB0sFGQ"
      },
      "outputs": [],
      "source": [
        "# Optionally, the first layer can receive an `input_shape` argument:\n",
        "model = tf.keras.Sequential()\n",
        "model.add(tf.keras.layers.Dense(8, input_shape=(16,)))\n",
        "# Afterwards, we do automatic shape inference:\n",
        "model.add(tf.keras.layers.Dense(4))\n",
        "\n",
        "model=tf.keras.Sequential()\n",
        "model.add(tf.keras.layers.Dense(8,input_shape=(16,)))\n",
        "\n",
        "# 1. Create a model using the Sequential API\n",
        "model=tf.keras.Sequential([\n",
        "     tf.keras.layers.Dense(1)\n",
        "])"
      ]
    },
    {
      "cell_type": "code",
      "execution_count": null,
      "metadata": {
        "colab": {
          "base_uri": "https://localhost:8080/"
        },
        "id": "1TmUJTrueARD",
        "outputId": "c4cfe45c-1df4-4c1e-9201-ad7313014b40"
      },
      "outputs": [
        {
          "output_type": "stream",
          "name": "stdout",
          "text": [
            "Epoch 1/400\n",
            "1/1 [==============================] - 1s 796ms/step - loss: 11.3299 - mae: 11.3299\n",
            "Epoch 2/400\n",
            "1/1 [==============================] - 0s 12ms/step - loss: 11.2186 - mae: 11.2186\n",
            "Epoch 3/400\n",
            "1/1 [==============================] - 0s 14ms/step - loss: 11.1133 - mae: 11.1133\n",
            "Epoch 4/400\n",
            "1/1 [==============================] - 0s 10ms/step - loss: 11.0136 - mae: 11.0136\n",
            "Epoch 5/400\n",
            "1/1 [==============================] - 0s 8ms/step - loss: 10.9191 - mae: 10.9191\n",
            "Epoch 6/400\n",
            "1/1 [==============================] - 0s 8ms/step - loss: 10.8296 - mae: 10.8296\n",
            "Epoch 7/400\n",
            "1/1 [==============================] - 0s 8ms/step - loss: 10.7448 - mae: 10.7448\n",
            "Epoch 8/400\n",
            "1/1 [==============================] - 0s 8ms/step - loss: 10.6644 - mae: 10.6644\n",
            "Epoch 9/400\n",
            "1/1 [==============================] - 0s 9ms/step - loss: 10.6300 - mae: 10.6300\n",
            "Epoch 10/400\n",
            "1/1 [==============================] - 0s 9ms/step - loss: 10.6127 - mae: 10.6127\n",
            "Epoch 11/400\n",
            "1/1 [==============================] - 0s 8ms/step - loss: 10.5954 - mae: 10.5954\n",
            "Epoch 12/400\n",
            "1/1 [==============================] - 0s 9ms/step - loss: 10.5782 - mae: 10.5782\n",
            "Epoch 13/400\n",
            "1/1 [==============================] - 0s 8ms/step - loss: 10.5610 - mae: 10.5610\n",
            "Epoch 14/400\n",
            "1/1 [==============================] - 0s 8ms/step - loss: 10.5439 - mae: 10.5439\n",
            "Epoch 15/400\n",
            "1/1 [==============================] - 0s 8ms/step - loss: 10.5269 - mae: 10.5269\n",
            "Epoch 16/400\n",
            "1/1 [==============================] - 0s 8ms/step - loss: 10.5100 - mae: 10.5100\n",
            "Epoch 17/400\n",
            "1/1 [==============================] - 0s 9ms/step - loss: 10.4931 - mae: 10.4931\n",
            "Epoch 18/400\n",
            "1/1 [==============================] - 0s 10ms/step - loss: 10.4763 - mae: 10.4763\n",
            "Epoch 19/400\n",
            "1/1 [==============================] - 0s 9ms/step - loss: 10.4595 - mae: 10.4595\n",
            "Epoch 20/400\n",
            "1/1 [==============================] - 0s 9ms/step - loss: 10.4428 - mae: 10.4428\n",
            "Epoch 21/400\n",
            "1/1 [==============================] - 0s 9ms/step - loss: 10.4261 - mae: 10.4261\n",
            "Epoch 22/400\n",
            "1/1 [==============================] - 0s 9ms/step - loss: 10.4095 - mae: 10.4095\n",
            "Epoch 23/400\n",
            "1/1 [==============================] - 0s 9ms/step - loss: 10.3929 - mae: 10.3929\n",
            "Epoch 24/400\n",
            "1/1 [==============================] - 0s 9ms/step - loss: 10.3764 - mae: 10.3764\n",
            "Epoch 25/400\n",
            "1/1 [==============================] - 0s 9ms/step - loss: 10.3598 - mae: 10.3598\n",
            "Epoch 26/400\n",
            "1/1 [==============================] - 0s 9ms/step - loss: 10.3433 - mae: 10.3433\n",
            "Epoch 27/400\n",
            "1/1 [==============================] - 0s 9ms/step - loss: 10.3269 - mae: 10.3269\n",
            "Epoch 28/400\n",
            "1/1 [==============================] - 0s 9ms/step - loss: 10.3104 - mae: 10.3104\n",
            "Epoch 29/400\n",
            "1/1 [==============================] - 0s 9ms/step - loss: 10.2940 - mae: 10.2940\n",
            "Epoch 30/400\n",
            "1/1 [==============================] - 0s 9ms/step - loss: 10.2776 - mae: 10.2776\n",
            "Epoch 31/400\n",
            "1/1 [==============================] - 0s 8ms/step - loss: 10.2612 - mae: 10.2612\n",
            "Epoch 32/400\n",
            "1/1 [==============================] - 0s 13ms/step - loss: 10.2448 - mae: 10.2448\n",
            "Epoch 33/400\n",
            "1/1 [==============================] - 0s 13ms/step - loss: 10.2285 - mae: 10.2285\n",
            "Epoch 34/400\n",
            "1/1 [==============================] - 0s 10ms/step - loss: 10.2121 - mae: 10.2121\n",
            "Epoch 35/400\n",
            "1/1 [==============================] - 0s 9ms/step - loss: 10.1957 - mae: 10.1957\n",
            "Epoch 36/400\n",
            "1/1 [==============================] - 0s 10ms/step - loss: 10.1794 - mae: 10.1794\n",
            "Epoch 37/400\n",
            "1/1 [==============================] - 0s 9ms/step - loss: 10.1630 - mae: 10.1630\n",
            "Epoch 38/400\n",
            "1/1 [==============================] - 0s 11ms/step - loss: 10.1466 - mae: 10.1466\n",
            "Epoch 39/400\n",
            "1/1 [==============================] - 0s 12ms/step - loss: 10.1302 - mae: 10.1302\n",
            "Epoch 40/400\n",
            "1/1 [==============================] - 0s 9ms/step - loss: 10.1138 - mae: 10.1138\n",
            "Epoch 41/400\n",
            "1/1 [==============================] - 0s 11ms/step - loss: 10.0974 - mae: 10.0974\n",
            "Epoch 42/400\n",
            "1/1 [==============================] - 0s 9ms/step - loss: 10.0809 - mae: 10.0809\n",
            "Epoch 43/400\n",
            "1/1 [==============================] - 0s 10ms/step - loss: 10.0644 - mae: 10.0644\n",
            "Epoch 44/400\n",
            "1/1 [==============================] - 0s 11ms/step - loss: 10.0479 - mae: 10.0479\n",
            "Epoch 45/400\n",
            "1/1 [==============================] - 0s 10ms/step - loss: 10.0314 - mae: 10.0314\n",
            "Epoch 46/400\n",
            "1/1 [==============================] - 0s 9ms/step - loss: 10.0148 - mae: 10.0148\n",
            "Epoch 47/400\n",
            "1/1 [==============================] - 0s 9ms/step - loss: 9.9982 - mae: 9.9982\n",
            "Epoch 48/400\n",
            "1/1 [==============================] - 0s 9ms/step - loss: 9.9816 - mae: 9.9816\n",
            "Epoch 49/400\n",
            "1/1 [==============================] - 0s 9ms/step - loss: 9.9649 - mae: 9.9649\n",
            "Epoch 50/400\n",
            "1/1 [==============================] - 0s 9ms/step - loss: 9.9482 - mae: 9.9482\n",
            "Epoch 51/400\n",
            "1/1 [==============================] - 0s 9ms/step - loss: 9.9314 - mae: 9.9314\n",
            "Epoch 52/400\n",
            "1/1 [==============================] - 0s 9ms/step - loss: 9.9145 - mae: 9.9145\n",
            "Epoch 53/400\n",
            "1/1 [==============================] - 0s 8ms/step - loss: 9.8976 - mae: 9.8976\n",
            "Epoch 54/400\n",
            "1/1 [==============================] - 0s 7ms/step - loss: 9.8807 - mae: 9.8807\n",
            "Epoch 55/400\n",
            "1/1 [==============================] - 0s 10ms/step - loss: 9.8636 - mae: 9.8636\n",
            "Epoch 56/400\n",
            "1/1 [==============================] - 0s 11ms/step - loss: 9.8465 - mae: 9.8465\n",
            "Epoch 57/400\n",
            "1/1 [==============================] - 0s 14ms/step - loss: 9.8294 - mae: 9.8294\n",
            "Epoch 58/400\n",
            "1/1 [==============================] - 0s 10ms/step - loss: 9.8121 - mae: 9.8121\n",
            "Epoch 59/400\n",
            "1/1 [==============================] - 0s 10ms/step - loss: 9.7948 - mae: 9.7948\n",
            "Epoch 60/400\n",
            "1/1 [==============================] - 0s 10ms/step - loss: 9.7774 - mae: 9.7774\n",
            "Epoch 61/400\n",
            "1/1 [==============================] - 0s 12ms/step - loss: 9.7599 - mae: 9.7599\n",
            "Epoch 62/400\n",
            "1/1 [==============================] - 0s 10ms/step - loss: 9.7423 - mae: 9.7423\n",
            "Epoch 63/400\n",
            "1/1 [==============================] - 0s 9ms/step - loss: 9.7247 - mae: 9.7247\n",
            "Epoch 64/400\n",
            "1/1 [==============================] - 0s 10ms/step - loss: 9.7069 - mae: 9.7069\n",
            "Epoch 65/400\n",
            "1/1 [==============================] - 0s 9ms/step - loss: 9.6890 - mae: 9.6890\n",
            "Epoch 66/400\n",
            "1/1 [==============================] - 0s 9ms/step - loss: 9.6710 - mae: 9.6710\n",
            "Epoch 67/400\n",
            "1/1 [==============================] - 0s 10ms/step - loss: 9.6530 - mae: 9.6530\n",
            "Epoch 68/400\n",
            "1/1 [==============================] - 0s 10ms/step - loss: 9.6348 - mae: 9.6348\n",
            "Epoch 69/400\n",
            "1/1 [==============================] - 0s 11ms/step - loss: 9.6164 - mae: 9.6164\n",
            "Epoch 70/400\n",
            "1/1 [==============================] - 0s 9ms/step - loss: 9.5980 - mae: 9.5980\n",
            "Epoch 71/400\n",
            "1/1 [==============================] - 0s 9ms/step - loss: 9.5794 - mae: 9.5794\n",
            "Epoch 72/400\n",
            "1/1 [==============================] - 0s 9ms/step - loss: 9.5607 - mae: 9.5607\n",
            "Epoch 73/400\n",
            "1/1 [==============================] - 0s 9ms/step - loss: 9.5419 - mae: 9.5419\n",
            "Epoch 74/400\n",
            "1/1 [==============================] - 0s 9ms/step - loss: 9.5230 - mae: 9.5230\n",
            "Epoch 75/400\n",
            "1/1 [==============================] - 0s 8ms/step - loss: 9.5038 - mae: 9.5038\n",
            "Epoch 76/400\n",
            "1/1 [==============================] - 0s 9ms/step - loss: 9.4846 - mae: 9.4846\n",
            "Epoch 77/400\n",
            "1/1 [==============================] - 0s 9ms/step - loss: 9.4652 - mae: 9.4652\n",
            "Epoch 78/400\n",
            "1/1 [==============================] - 0s 12ms/step - loss: 9.4456 - mae: 9.4456\n",
            "Epoch 79/400\n",
            "1/1 [==============================] - 0s 11ms/step - loss: 9.4259 - mae: 9.4259\n",
            "Epoch 80/400\n",
            "1/1 [==============================] - 0s 9ms/step - loss: 9.4060 - mae: 9.4060\n",
            "Epoch 81/400\n",
            "1/1 [==============================] - 0s 12ms/step - loss: 9.3859 - mae: 9.3859\n",
            "Epoch 82/400\n",
            "1/1 [==============================] - 0s 11ms/step - loss: 9.3657 - mae: 9.3657\n",
            "Epoch 83/400\n",
            "1/1 [==============================] - 0s 12ms/step - loss: 9.3453 - mae: 9.3453\n",
            "Epoch 84/400\n",
            "1/1 [==============================] - 0s 10ms/step - loss: 9.3247 - mae: 9.3247\n",
            "Epoch 85/400\n",
            "1/1 [==============================] - 0s 9ms/step - loss: 9.3039 - mae: 9.3039\n",
            "Epoch 86/400\n",
            "1/1 [==============================] - 0s 12ms/step - loss: 9.2829 - mae: 9.2829\n",
            "Epoch 87/400\n",
            "1/1 [==============================] - 0s 14ms/step - loss: 9.2617 - mae: 9.2617\n",
            "Epoch 88/400\n",
            "1/1 [==============================] - 0s 9ms/step - loss: 9.2403 - mae: 9.2403\n",
            "Epoch 89/400\n",
            "1/1 [==============================] - 0s 9ms/step - loss: 9.2186 - mae: 9.2186\n",
            "Epoch 90/400\n",
            "1/1 [==============================] - 0s 9ms/step - loss: 9.1968 - mae: 9.1968\n",
            "Epoch 91/400\n",
            "1/1 [==============================] - 0s 10ms/step - loss: 9.1747 - mae: 9.1747\n",
            "Epoch 92/400\n",
            "1/1 [==============================] - 0s 10ms/step - loss: 9.1524 - mae: 9.1524\n",
            "Epoch 93/400\n",
            "1/1 [==============================] - 0s 10ms/step - loss: 9.1299 - mae: 9.1299\n",
            "Epoch 94/400\n",
            "1/1 [==============================] - 0s 9ms/step - loss: 9.1071 - mae: 9.1071\n",
            "Epoch 95/400\n",
            "1/1 [==============================] - 0s 8ms/step - loss: 9.0841 - mae: 9.0841\n",
            "Epoch 96/400\n",
            "1/1 [==============================] - 0s 8ms/step - loss: 9.0608 - mae: 9.0608\n",
            "Epoch 97/400\n",
            "1/1 [==============================] - 0s 9ms/step - loss: 9.0373 - mae: 9.0373\n",
            "Epoch 98/400\n",
            "1/1 [==============================] - 0s 9ms/step - loss: 9.0135 - mae: 9.0135\n",
            "Epoch 99/400\n",
            "1/1 [==============================] - 0s 10ms/step - loss: 8.9894 - mae: 8.9894\n",
            "Epoch 100/400\n",
            "1/1 [==============================] - 0s 9ms/step - loss: 8.9650 - mae: 8.9650\n",
            "Epoch 101/400\n",
            "1/1 [==============================] - 0s 8ms/step - loss: 8.9403 - mae: 8.9403\n",
            "Epoch 102/400\n",
            "1/1 [==============================] - 0s 8ms/step - loss: 8.9154 - mae: 8.9154\n",
            "Epoch 103/400\n",
            "1/1 [==============================] - 0s 8ms/step - loss: 8.8901 - mae: 8.8901\n",
            "Epoch 104/400\n",
            "1/1 [==============================] - 0s 8ms/step - loss: 8.8645 - mae: 8.8645\n",
            "Epoch 105/400\n",
            "1/1 [==============================] - 0s 8ms/step - loss: 8.8386 - mae: 8.8386\n",
            "Epoch 106/400\n",
            "1/1 [==============================] - 0s 8ms/step - loss: 8.8124 - mae: 8.8124\n",
            "Epoch 107/400\n",
            "1/1 [==============================] - 0s 8ms/step - loss: 8.7858 - mae: 8.7858\n",
            "Epoch 108/400\n",
            "1/1 [==============================] - 0s 8ms/step - loss: 8.7589 - mae: 8.7589\n",
            "Epoch 109/400\n",
            "1/1 [==============================] - 0s 9ms/step - loss: 8.7316 - mae: 8.7316\n",
            "Epoch 110/400\n",
            "1/1 [==============================] - 0s 11ms/step - loss: 8.7040 - mae: 8.7040\n",
            "Epoch 111/400\n",
            "1/1 [==============================] - 0s 10ms/step - loss: 8.6760 - mae: 8.6760\n",
            "Epoch 112/400\n",
            "1/1 [==============================] - 0s 9ms/step - loss: 8.6476 - mae: 8.6476\n",
            "Epoch 113/400\n",
            "1/1 [==============================] - 0s 9ms/step - loss: 8.6189 - mae: 8.6189\n",
            "Epoch 114/400\n",
            "1/1 [==============================] - 0s 11ms/step - loss: 8.5897 - mae: 8.5897\n",
            "Epoch 115/400\n",
            "1/1 [==============================] - 0s 10ms/step - loss: 8.5601 - mae: 8.5601\n",
            "Epoch 116/400\n",
            "1/1 [==============================] - 0s 9ms/step - loss: 8.5302 - mae: 8.5302\n",
            "Epoch 117/400\n",
            "1/1 [==============================] - 0s 10ms/step - loss: 8.4997 - mae: 8.4997\n",
            "Epoch 118/400\n",
            "1/1 [==============================] - 0s 11ms/step - loss: 8.4689 - mae: 8.4689\n",
            "Epoch 119/400\n",
            "1/1 [==============================] - 0s 9ms/step - loss: 8.4376 - mae: 8.4376\n",
            "Epoch 120/400\n",
            "1/1 [==============================] - 0s 9ms/step - loss: 8.4058 - mae: 8.4058\n",
            "Epoch 121/400\n",
            "1/1 [==============================] - 0s 8ms/step - loss: 8.3736 - mae: 8.3736\n",
            "Epoch 122/400\n",
            "1/1 [==============================] - 0s 8ms/step - loss: 8.3409 - mae: 8.3409\n",
            "Epoch 123/400\n",
            "1/1 [==============================] - 0s 8ms/step - loss: 8.3077 - mae: 8.3077\n",
            "Epoch 124/400\n",
            "1/1 [==============================] - 0s 9ms/step - loss: 8.2740 - mae: 8.2740\n",
            "Epoch 125/400\n",
            "1/1 [==============================] - 0s 13ms/step - loss: 8.2398 - mae: 8.2398\n",
            "Epoch 126/400\n",
            "1/1 [==============================] - 0s 9ms/step - loss: 8.2051 - mae: 8.2051\n",
            "Epoch 127/400\n",
            "1/1 [==============================] - 0s 8ms/step - loss: 8.1698 - mae: 8.1698\n",
            "Epoch 128/400\n",
            "1/1 [==============================] - 0s 9ms/step - loss: 8.1340 - mae: 8.1340\n",
            "Epoch 129/400\n",
            "1/1 [==============================] - 0s 9ms/step - loss: 8.0976 - mae: 8.0976\n",
            "Epoch 130/400\n",
            "1/1 [==============================] - 0s 9ms/step - loss: 8.0607 - mae: 8.0607\n",
            "Epoch 131/400\n",
            "1/1 [==============================] - 0s 9ms/step - loss: 8.0231 - mae: 8.0231\n",
            "Epoch 132/400\n",
            "1/1 [==============================] - 0s 9ms/step - loss: 7.9850 - mae: 7.9850\n",
            "Epoch 133/400\n",
            "1/1 [==============================] - 0s 9ms/step - loss: 7.9462 - mae: 7.9462\n",
            "Epoch 134/400\n",
            "1/1 [==============================] - 0s 9ms/step - loss: 7.9068 - mae: 7.9068\n",
            "Epoch 135/400\n",
            "1/1 [==============================] - 0s 9ms/step - loss: 7.8667 - mae: 7.8667\n",
            "Epoch 136/400\n",
            "1/1 [==============================] - 0s 9ms/step - loss: 7.8260 - mae: 7.8260\n",
            "Epoch 137/400\n",
            "1/1 [==============================] - 0s 9ms/step - loss: 7.7846 - mae: 7.7846\n",
            "Epoch 138/400\n",
            "1/1 [==============================] - 0s 9ms/step - loss: 7.7426 - mae: 7.7426\n",
            "Epoch 139/400\n",
            "1/1 [==============================] - 0s 9ms/step - loss: 7.6998 - mae: 7.6998\n",
            "Epoch 140/400\n",
            "1/1 [==============================] - 0s 9ms/step - loss: 7.6563 - mae: 7.6563\n",
            "Epoch 141/400\n",
            "1/1 [==============================] - 0s 15ms/step - loss: 7.6120 - mae: 7.6120\n",
            "Epoch 142/400\n",
            "1/1 [==============================] - 0s 9ms/step - loss: 7.5670 - mae: 7.5670\n",
            "Epoch 143/400\n",
            "1/1 [==============================] - 0s 8ms/step - loss: 7.5213 - mae: 7.5213\n",
            "Epoch 144/400\n",
            "1/1 [==============================] - 0s 9ms/step - loss: 7.4747 - mae: 7.4747\n",
            "Epoch 145/400\n",
            "1/1 [==============================] - 0s 9ms/step - loss: 7.4273 - mae: 7.4273\n",
            "Epoch 146/400\n",
            "1/1 [==============================] - 0s 9ms/step - loss: 7.3791 - mae: 7.3791\n",
            "Epoch 147/400\n",
            "1/1 [==============================] - 0s 8ms/step - loss: 7.3300 - mae: 7.3300\n",
            "Epoch 148/400\n",
            "1/1 [==============================] - 0s 8ms/step - loss: 7.2801 - mae: 7.2801\n",
            "Epoch 149/400\n",
            "1/1 [==============================] - 0s 23ms/step - loss: 7.2293 - mae: 7.2293\n",
            "Epoch 150/400\n",
            "1/1 [==============================] - 0s 9ms/step - loss: 7.1776 - mae: 7.1776\n",
            "Epoch 151/400\n",
            "1/1 [==============================] - 0s 9ms/step - loss: 7.1249 - mae: 7.1249\n",
            "Epoch 152/400\n",
            "1/1 [==============================] - 0s 9ms/step - loss: 7.0713 - mae: 7.0713\n",
            "Epoch 153/400\n",
            "1/1 [==============================] - 0s 8ms/step - loss: 7.0168 - mae: 7.0168\n",
            "Epoch 154/400\n",
            "1/1 [==============================] - 0s 9ms/step - loss: 6.9612 - mae: 6.9612\n",
            "Epoch 155/400\n",
            "1/1 [==============================] - 0s 8ms/step - loss: 6.9047 - mae: 6.9047\n",
            "Epoch 156/400\n",
            "1/1 [==============================] - 0s 8ms/step - loss: 6.8471 - mae: 6.8471\n",
            "Epoch 157/400\n",
            "1/1 [==============================] - 0s 8ms/step - loss: 6.7884 - mae: 6.7884\n",
            "Epoch 158/400\n",
            "1/1 [==============================] - 0s 9ms/step - loss: 6.7286 - mae: 6.7286\n",
            "Epoch 159/400\n",
            "1/1 [==============================] - 0s 12ms/step - loss: 6.6678 - mae: 6.6678\n",
            "Epoch 160/400\n",
            "1/1 [==============================] - 0s 10ms/step - loss: 6.6058 - mae: 6.6058\n",
            "Epoch 161/400\n",
            "1/1 [==============================] - 0s 12ms/step - loss: 6.5426 - mae: 6.5426\n",
            "Epoch 162/400\n",
            "1/1 [==============================] - 0s 10ms/step - loss: 6.4783 - mae: 6.4783\n",
            "Epoch 163/400\n",
            "1/1 [==============================] - 0s 9ms/step - loss: 6.4127 - mae: 6.4127\n",
            "Epoch 164/400\n",
            "1/1 [==============================] - 0s 10ms/step - loss: 6.3459 - mae: 6.3459\n",
            "Epoch 165/400\n",
            "1/1 [==============================] - 0s 8ms/step - loss: 6.2778 - mae: 6.2778\n",
            "Epoch 166/400\n",
            "1/1 [==============================] - 0s 9ms/step - loss: 6.2085 - mae: 6.2085\n",
            "Epoch 167/400\n",
            "1/1 [==============================] - 0s 10ms/step - loss: 6.1378 - mae: 6.1378\n",
            "Epoch 168/400\n",
            "1/1 [==============================] - 0s 10ms/step - loss: 6.0657 - mae: 6.0657\n",
            "Epoch 169/400\n",
            "1/1 [==============================] - 0s 10ms/step - loss: 5.9923 - mae: 5.9923\n",
            "Epoch 170/400\n",
            "1/1 [==============================] - 0s 11ms/step - loss: 5.9174 - mae: 5.9174\n",
            "Epoch 171/400\n",
            "1/1 [==============================] - 0s 8ms/step - loss: 5.8411 - mae: 5.8411\n",
            "Epoch 172/400\n",
            "1/1 [==============================] - 0s 10ms/step - loss: 5.7633 - mae: 5.7633\n",
            "Epoch 173/400\n",
            "1/1 [==============================] - 0s 9ms/step - loss: 5.6840 - mae: 5.6840\n",
            "Epoch 174/400\n",
            "1/1 [==============================] - 0s 9ms/step - loss: 5.6031 - mae: 5.6031\n",
            "Epoch 175/400\n",
            "1/1 [==============================] - 0s 11ms/step - loss: 5.5206 - mae: 5.5206\n",
            "Epoch 176/400\n",
            "1/1 [==============================] - 0s 9ms/step - loss: 5.4366 - mae: 5.4366\n",
            "Epoch 177/400\n",
            "1/1 [==============================] - 0s 8ms/step - loss: 5.3508 - mae: 5.3508\n",
            "Epoch 178/400\n",
            "1/1 [==============================] - 0s 8ms/step - loss: 5.2634 - mae: 5.2634\n",
            "Epoch 179/400\n",
            "1/1 [==============================] - 0s 9ms/step - loss: 5.1742 - mae: 5.1742\n",
            "Epoch 180/400\n",
            "1/1 [==============================] - 0s 9ms/step - loss: 5.0833 - mae: 5.0833\n",
            "Epoch 181/400\n",
            "1/1 [==============================] - 0s 9ms/step - loss: 4.9905 - mae: 4.9905\n",
            "Epoch 182/400\n",
            "1/1 [==============================] - 0s 9ms/step - loss: 4.8959 - mae: 4.8959\n",
            "Epoch 183/400\n",
            "1/1 [==============================] - 0s 9ms/step - loss: 4.7994 - mae: 4.7994\n",
            "Epoch 184/400\n",
            "1/1 [==============================] - 0s 9ms/step - loss: 4.7009 - mae: 4.7009\n",
            "Epoch 185/400\n",
            "1/1 [==============================] - 0s 9ms/step - loss: 4.6005 - mae: 4.6005\n",
            "Epoch 186/400\n",
            "1/1 [==============================] - 0s 9ms/step - loss: 4.4980 - mae: 4.4980\n",
            "Epoch 187/400\n",
            "1/1 [==============================] - 0s 9ms/step - loss: 4.3935 - mae: 4.3935\n",
            "Epoch 188/400\n",
            "1/1 [==============================] - 0s 9ms/step - loss: 4.2868 - mae: 4.2868\n",
            "Epoch 189/400\n",
            "1/1 [==============================] - 0s 10ms/step - loss: 4.1780 - mae: 4.1780\n",
            "Epoch 190/400\n",
            "1/1 [==============================] - 0s 8ms/step - loss: 4.0669 - mae: 4.0669\n",
            "Epoch 191/400\n",
            "1/1 [==============================] - 0s 9ms/step - loss: 3.9536 - mae: 3.9536\n",
            "Epoch 192/400\n",
            "1/1 [==============================] - 0s 9ms/step - loss: 3.8380 - mae: 3.8380\n",
            "Epoch 193/400\n",
            "1/1 [==============================] - 0s 8ms/step - loss: 3.7200 - mae: 3.7200\n",
            "Epoch 194/400\n",
            "1/1 [==============================] - 0s 9ms/step - loss: 3.5995 - mae: 3.5995\n",
            "Epoch 195/400\n",
            "1/1 [==============================] - 0s 8ms/step - loss: 3.4766 - mae: 3.4766\n",
            "Epoch 196/400\n",
            "1/1 [==============================] - 0s 9ms/step - loss: 3.3512 - mae: 3.3512\n",
            "Epoch 197/400\n",
            "1/1 [==============================] - 0s 8ms/step - loss: 3.2231 - mae: 3.2231\n",
            "Epoch 198/400\n",
            "1/1 [==============================] - 0s 9ms/step - loss: 3.0924 - mae: 3.0924\n",
            "Epoch 199/400\n",
            "1/1 [==============================] - 0s 9ms/step - loss: 2.9590 - mae: 2.9590\n",
            "Epoch 200/400\n",
            "1/1 [==============================] - 0s 9ms/step - loss: 2.8229 - mae: 2.8229\n",
            "Epoch 201/400\n",
            "1/1 [==============================] - 0s 9ms/step - loss: 2.6839 - mae: 2.6839\n",
            "Epoch 202/400\n",
            "1/1 [==============================] - 0s 9ms/step - loss: 2.5419 - mae: 2.5419\n",
            "Epoch 203/400\n",
            "1/1 [==============================] - 0s 9ms/step - loss: 2.5226 - mae: 2.5226\n",
            "Epoch 204/400\n",
            "1/1 [==============================] - 0s 9ms/step - loss: 2.4076 - mae: 2.4076\n",
            "Epoch 205/400\n",
            "1/1 [==============================] - 0s 9ms/step - loss: 2.2600 - mae: 2.2600\n",
            "Epoch 206/400\n",
            "1/1 [==============================] - 0s 9ms/step - loss: 2.2385 - mae: 2.2385\n",
            "Epoch 207/400\n",
            "1/1 [==============================] - 0s 9ms/step - loss: 2.1182 - mae: 2.1182\n",
            "Epoch 208/400\n",
            "1/1 [==============================] - 0s 9ms/step - loss: 1.9647 - mae: 1.9647\n",
            "Epoch 209/400\n",
            "1/1 [==============================] - 0s 8ms/step - loss: 1.9365 - mae: 1.9365\n",
            "Epoch 210/400\n",
            "1/1 [==============================] - 0s 8ms/step - loss: 1.8150 - mae: 1.8150\n",
            "Epoch 211/400\n",
            "1/1 [==============================] - 0s 8ms/step - loss: 1.6552 - mae: 1.6552\n",
            "Epoch 212/400\n",
            "1/1 [==============================] - 0s 9ms/step - loss: 1.6153 - mae: 1.6153\n",
            "Epoch 213/400\n",
            "1/1 [==============================] - 0s 9ms/step - loss: 1.4972 - mae: 1.4972\n",
            "Epoch 214/400\n",
            "1/1 [==============================] - 0s 9ms/step - loss: 1.3308 - mae: 1.3308\n",
            "Epoch 215/400\n",
            "1/1 [==============================] - 0s 9ms/step - loss: 1.2737 - mae: 1.2737\n",
            "Epoch 216/400\n",
            "1/1 [==============================] - 0s 8ms/step - loss: 1.1640 - mae: 1.1640\n",
            "Epoch 217/400\n",
            "1/1 [==============================] - 0s 8ms/step - loss: 0.9907 - mae: 0.9907\n",
            "Epoch 218/400\n",
            "1/1 [==============================] - 0s 9ms/step - loss: 0.9102 - mae: 0.9102\n",
            "Epoch 219/400\n",
            "1/1 [==============================] - 0s 9ms/step - loss: 0.8146 - mae: 0.8146\n",
            "Epoch 220/400\n",
            "1/1 [==============================] - 0s 9ms/step - loss: 0.6340 - mae: 0.6340\n",
            "Epoch 221/400\n",
            "1/1 [==============================] - 0s 9ms/step - loss: 0.5297 - mae: 0.5297\n",
            "Epoch 222/400\n",
            "1/1 [==============================] - 0s 9ms/step - loss: 0.9706 - mae: 0.9706\n",
            "Epoch 223/400\n",
            "1/1 [==============================] - 0s 9ms/step - loss: 0.6144 - mae: 0.6144\n",
            "Epoch 224/400\n",
            "1/1 [==============================] - 0s 9ms/step - loss: 0.8249 - mae: 0.8249\n",
            "Epoch 225/400\n",
            "1/1 [==============================] - 0s 10ms/step - loss: 0.7123 - mae: 0.7123\n",
            "Epoch 226/400\n",
            "1/1 [==============================] - 0s 9ms/step - loss: 0.9261 - mae: 0.9261\n",
            "Epoch 227/400\n",
            "1/1 [==============================] - 0s 9ms/step - loss: 0.5911 - mae: 0.5911\n",
            "Epoch 228/400\n",
            "1/1 [==============================] - 0s 9ms/step - loss: 1.0274 - mae: 1.0274\n",
            "Epoch 229/400\n",
            "1/1 [==============================] - 0s 9ms/step - loss: 0.4701 - mae: 0.4701\n",
            "Epoch 230/400\n",
            "1/1 [==============================] - 0s 9ms/step - loss: 0.8799 - mae: 0.8799\n",
            "Epoch 231/400\n",
            "1/1 [==============================] - 0s 9ms/step - loss: 0.6107 - mae: 0.6107\n",
            "Epoch 232/400\n",
            "1/1 [==============================] - 0s 9ms/step - loss: 0.9994 - mae: 0.9994\n",
            "Epoch 233/400\n",
            "1/1 [==============================] - 0s 8ms/step - loss: 0.5900 - mae: 0.5900\n",
            "Epoch 234/400\n",
            "1/1 [==============================] - 0s 8ms/step - loss: 1.0137 - mae: 1.0137\n",
            "Epoch 235/400\n",
            "1/1 [==============================] - 0s 9ms/step - loss: 0.5693 - mae: 0.5693\n",
            "Epoch 236/400\n",
            "1/1 [==============================] - 0s 9ms/step - loss: 1.0278 - mae: 1.0278\n",
            "Epoch 237/400\n",
            "1/1 [==============================] - 0s 9ms/step - loss: 0.5488 - mae: 0.5488\n",
            "Epoch 238/400\n",
            "1/1 [==============================] - 0s 9ms/step - loss: 1.0420 - mae: 1.0420\n",
            "Epoch 239/400\n",
            "1/1 [==============================] - 0s 9ms/step - loss: 0.5283 - mae: 0.5283\n",
            "Epoch 240/400\n",
            "1/1 [==============================] - 0s 9ms/step - loss: 1.0560 - mae: 1.0560\n",
            "Epoch 241/400\n",
            "1/1 [==============================] - 0s 12ms/step - loss: 0.5079 - mae: 0.5079\n",
            "Epoch 242/400\n",
            "1/1 [==============================] - 0s 9ms/step - loss: 1.0734 - mae: 1.0734\n",
            "Epoch 243/400\n",
            "1/1 [==============================] - 0s 14ms/step - loss: 0.3879 - mae: 0.3879\n",
            "Epoch 244/400\n",
            "1/1 [==============================] - 0s 11ms/step - loss: 1.1916 - mae: 1.1916\n",
            "Epoch 245/400\n",
            "1/1 [==============================] - 0s 9ms/step - loss: 0.3690 - mae: 0.3690\n",
            "Epoch 246/400\n",
            "1/1 [==============================] - 0s 10ms/step - loss: 0.9614 - mae: 0.9614\n",
            "Epoch 247/400\n",
            "1/1 [==============================] - 0s 11ms/step - loss: 0.6077 - mae: 0.6077\n",
            "Epoch 248/400\n",
            "1/1 [==============================] - 0s 10ms/step - loss: 0.9758 - mae: 0.9758\n",
            "Epoch 249/400\n",
            "1/1 [==============================] - 0s 10ms/step - loss: 0.5870 - mae: 0.5870\n",
            "Epoch 250/400\n",
            "1/1 [==============================] - 0s 10ms/step - loss: 0.9901 - mae: 0.9901\n",
            "Epoch 251/400\n",
            "1/1 [==============================] - 0s 9ms/step - loss: 0.5663 - mae: 0.5663\n",
            "Epoch 252/400\n",
            "1/1 [==============================] - 0s 10ms/step - loss: 1.0044 - mae: 1.0044\n",
            "Epoch 253/400\n",
            "1/1 [==============================] - 0s 9ms/step - loss: 0.5457 - mae: 0.5457\n",
            "Epoch 254/400\n",
            "1/1 [==============================] - 0s 8ms/step - loss: 1.0187 - mae: 1.0187\n",
            "Epoch 255/400\n",
            "1/1 [==============================] - 0s 9ms/step - loss: 0.4269 - mae: 0.4269\n",
            "Epoch 256/400\n",
            "1/1 [==============================] - 0s 9ms/step - loss: 1.1390 - mae: 1.1390\n",
            "Epoch 257/400\n",
            "1/1 [==============================] - 0s 9ms/step - loss: 0.4069 - mae: 0.4069\n",
            "Epoch 258/400\n",
            "1/1 [==============================] - 0s 8ms/step - loss: 1.1527 - mae: 1.1527\n",
            "Epoch 259/400\n",
            "1/1 [==============================] - 0s 9ms/step - loss: 0.3870 - mae: 0.3870\n",
            "Epoch 260/400\n",
            "1/1 [==============================] - 0s 9ms/step - loss: 1.1663 - mae: 1.1663\n",
            "Epoch 261/400\n",
            "1/1 [==============================] - 0s 9ms/step - loss: 0.3712 - mae: 0.3712\n",
            "Epoch 262/400\n",
            "1/1 [==============================] - 0s 8ms/step - loss: 0.9398 - mae: 0.9398\n",
            "Epoch 263/400\n",
            "1/1 [==============================] - 0s 9ms/step - loss: 0.6032 - mae: 0.6032\n",
            "Epoch 264/400\n",
            "1/1 [==============================] - 0s 9ms/step - loss: 0.9543 - mae: 0.9543\n",
            "Epoch 265/400\n",
            "1/1 [==============================] - 0s 9ms/step - loss: 0.5825 - mae: 0.5825\n",
            "Epoch 266/400\n",
            "1/1 [==============================] - 0s 9ms/step - loss: 0.9687 - mae: 0.9687\n",
            "Epoch 267/400\n",
            "1/1 [==============================] - 0s 8ms/step - loss: 0.5619 - mae: 0.5619\n",
            "Epoch 268/400\n",
            "1/1 [==============================] - 0s 10ms/step - loss: 0.9837 - mae: 0.9837\n",
            "Epoch 269/400\n",
            "1/1 [==============================] - 0s 9ms/step - loss: 0.4447 - mae: 0.4447\n",
            "Epoch 270/400\n",
            "1/1 [==============================] - 0s 9ms/step - loss: 1.1019 - mae: 1.1019\n",
            "Epoch 271/400\n",
            "1/1 [==============================] - 0s 10ms/step - loss: 0.4246 - mae: 0.4246\n",
            "Epoch 272/400\n",
            "1/1 [==============================] - 0s 10ms/step - loss: 1.1157 - mae: 1.1157\n",
            "Epoch 273/400\n",
            "1/1 [==============================] - 0s 10ms/step - loss: 0.4047 - mae: 0.4047\n",
            "Epoch 274/400\n",
            "1/1 [==============================] - 0s 10ms/step - loss: 1.1294 - mae: 1.1294\n",
            "Epoch 275/400\n",
            "1/1 [==============================] - 0s 9ms/step - loss: 0.3847 - mae: 0.3847\n",
            "Epoch 276/400\n",
            "1/1 [==============================] - 0s 10ms/step - loss: 1.1431 - mae: 1.1431\n",
            "Epoch 277/400\n",
            "1/1 [==============================] - 0s 9ms/step - loss: 0.3721 - mae: 0.3721\n",
            "Epoch 278/400\n",
            "1/1 [==============================] - 0s 9ms/step - loss: 0.9203 - mae: 0.9203\n",
            "Epoch 279/400\n",
            "1/1 [==============================] - 0s 9ms/step - loss: 0.5974 - mae: 0.5974\n",
            "Epoch 280/400\n",
            "1/1 [==============================] - 0s 9ms/step - loss: 0.9348 - mae: 0.9348\n",
            "Epoch 281/400\n",
            "1/1 [==============================] - 0s 9ms/step - loss: 0.5767 - mae: 0.5767\n",
            "Epoch 282/400\n",
            "1/1 [==============================] - 0s 9ms/step - loss: 0.9505 - mae: 0.9505\n",
            "Epoch 283/400\n",
            "1/1 [==============================] - 0s 10ms/step - loss: 0.4612 - mae: 0.4612\n",
            "Epoch 284/400\n",
            "1/1 [==============================] - 0s 9ms/step - loss: 1.0666 - mae: 1.0666\n",
            "Epoch 285/400\n",
            "1/1 [==============================] - 0s 9ms/step - loss: 0.4411 - mae: 0.4411\n",
            "Epoch 286/400\n",
            "1/1 [==============================] - 0s 9ms/step - loss: 1.0805 - mae: 1.0805\n",
            "Epoch 287/400\n",
            "1/1 [==============================] - 0s 9ms/step - loss: 0.4210 - mae: 0.4210\n",
            "Epoch 288/400\n",
            "1/1 [==============================] - 0s 8ms/step - loss: 1.0944 - mae: 1.0944\n",
            "Epoch 289/400\n",
            "1/1 [==============================] - 0s 9ms/step - loss: 0.4010 - mae: 0.4010\n",
            "Epoch 290/400\n",
            "1/1 [==============================] - 0s 9ms/step - loss: 1.1083 - mae: 1.1083\n",
            "Epoch 291/400\n",
            "1/1 [==============================] - 0s 9ms/step - loss: 0.3836 - mae: 0.3836\n",
            "Epoch 292/400\n",
            "1/1 [==============================] - 0s 9ms/step - loss: 0.8880 - mae: 0.8880\n",
            "Epoch 293/400\n",
            "1/1 [==============================] - 0s 9ms/step - loss: 0.6111 - mae: 0.6111\n",
            "Epoch 294/400\n",
            "1/1 [==============================] - 0s 9ms/step - loss: 0.9027 - mae: 0.9027\n",
            "Epoch 295/400\n",
            "1/1 [==============================] - 0s 9ms/step - loss: 0.5904 - mae: 0.5904\n",
            "Epoch 296/400\n",
            "1/1 [==============================] - 0s 9ms/step - loss: 0.9188 - mae: 0.9188\n",
            "Epoch 297/400\n",
            "1/1 [==============================] - 0s 9ms/step - loss: 0.4764 - mae: 0.4764\n",
            "Epoch 298/400\n",
            "1/1 [==============================] - 0s 10ms/step - loss: 1.0331 - mae: 1.0331\n",
            "Epoch 299/400\n",
            "1/1 [==============================] - 0s 9ms/step - loss: 0.4562 - mae: 0.4562\n",
            "Epoch 300/400\n",
            "1/1 [==============================] - 0s 10ms/step - loss: 1.0472 - mae: 1.0472\n",
            "Epoch 301/400\n",
            "1/1 [==============================] - 0s 10ms/step - loss: 0.4361 - mae: 0.4361\n",
            "Epoch 302/400\n",
            "1/1 [==============================] - 0s 9ms/step - loss: 1.0612 - mae: 1.0612\n",
            "Epoch 303/400\n",
            "1/1 [==============================] - 0s 9ms/step - loss: 0.4161 - mae: 0.4161\n",
            "Epoch 304/400\n",
            "1/1 [==============================] - 0s 9ms/step - loss: 1.0752 - mae: 1.0752\n",
            "Epoch 305/400\n",
            "1/1 [==============================] - 0s 9ms/step - loss: 0.3961 - mae: 0.3961\n",
            "Epoch 306/400\n",
            "1/1 [==============================] - 0s 9ms/step - loss: 1.0891 - mae: 1.0891\n",
            "Epoch 307/400\n",
            "1/1 [==============================] - 0s 11ms/step - loss: 0.3822 - mae: 0.3822\n",
            "Epoch 308/400\n",
            "1/1 [==============================] - 0s 9ms/step - loss: 0.8722 - mae: 0.8722\n",
            "Epoch 309/400\n",
            "1/1 [==============================] - 0s 9ms/step - loss: 0.6029 - mae: 0.6029\n",
            "Epoch 310/400\n",
            "1/1 [==============================] - 0s 9ms/step - loss: 0.8885 - mae: 0.8885\n",
            "Epoch 311/400\n",
            "1/1 [==============================] - 0s 9ms/step - loss: 0.4905 - mae: 0.4905\n",
            "Epoch 312/400\n",
            "1/1 [==============================] - 0s 10ms/step - loss: 1.0013 - mae: 1.0013\n",
            "Epoch 313/400\n",
            "1/1 [==============================] - 0s 9ms/step - loss: 0.4702 - mae: 0.4702\n",
            "Epoch 314/400\n",
            "1/1 [==============================] - 0s 9ms/step - loss: 1.0155 - mae: 1.0155\n",
            "Epoch 315/400\n",
            "1/1 [==============================] - 0s 9ms/step - loss: 0.4501 - mae: 0.4501\n",
            "Epoch 316/400\n",
            "1/1 [==============================] - 0s 9ms/step - loss: 1.0296 - mae: 1.0296\n",
            "Epoch 317/400\n",
            "1/1 [==============================] - 0s 9ms/step - loss: 0.4300 - mae: 0.4300\n",
            "Epoch 318/400\n",
            "1/1 [==============================] - 0s 8ms/step - loss: 1.0438 - mae: 1.0438\n",
            "Epoch 319/400\n",
            "1/1 [==============================] - 0s 9ms/step - loss: 0.4100 - mae: 0.4100\n",
            "Epoch 320/400\n",
            "1/1 [==============================] - 0s 8ms/step - loss: 1.0578 - mae: 1.0578\n",
            "Epoch 321/400\n",
            "1/1 [==============================] - 0s 9ms/step - loss: 0.3916 - mae: 0.3916\n",
            "Epoch 322/400\n",
            "1/1 [==============================] - 0s 9ms/step - loss: 0.8434 - mae: 0.8434\n",
            "Epoch 323/400\n",
            "1/1 [==============================] - 0s 9ms/step - loss: 0.6144 - mae: 0.6144\n",
            "Epoch 324/400\n",
            "1/1 [==============================] - 0s 17ms/step - loss: 0.8597 - mae: 0.8597\n",
            "Epoch 325/400\n",
            "1/1 [==============================] - 0s 9ms/step - loss: 0.5034 - mae: 0.5034\n",
            "Epoch 326/400\n",
            "1/1 [==============================] - 0s 9ms/step - loss: 0.9711 - mae: 0.9711\n",
            "Epoch 327/400\n",
            "1/1 [==============================] - 0s 9ms/step - loss: 0.4831 - mae: 0.4831\n",
            "Epoch 328/400\n",
            "1/1 [==============================] - 0s 9ms/step - loss: 0.9854 - mae: 0.9854\n",
            "Epoch 329/400\n",
            "1/1 [==============================] - 0s 9ms/step - loss: 0.4629 - mae: 0.4629\n",
            "Epoch 330/400\n",
            "1/1 [==============================] - 0s 29ms/step - loss: 0.9997 - mae: 0.9997\n",
            "Epoch 331/400\n",
            "1/1 [==============================] - 0s 12ms/step - loss: 0.4428 - mae: 0.4428\n",
            "Epoch 332/400\n",
            "1/1 [==============================] - 0s 11ms/step - loss: 1.0139 - mae: 1.0139\n",
            "Epoch 333/400\n",
            "1/1 [==============================] - 0s 12ms/step - loss: 0.4227 - mae: 0.4227\n",
            "Epoch 334/400\n",
            "1/1 [==============================] - 0s 14ms/step - loss: 1.0281 - mae: 1.0281\n",
            "Epoch 335/400\n",
            "1/1 [==============================] - 0s 9ms/step - loss: 0.4027 - mae: 0.4027\n",
            "Epoch 336/400\n",
            "1/1 [==============================] - 0s 14ms/step - loss: 1.0434 - mae: 1.0434\n",
            "Epoch 337/400\n",
            "1/1 [==============================] - 0s 9ms/step - loss: 0.2955 - mae: 0.2955\n",
            "Epoch 338/400\n",
            "1/1 [==============================] - 0s 33ms/step - loss: 0.9267 - mae: 0.9267\n",
            "Epoch 339/400\n",
            "1/1 [==============================] - 0s 18ms/step - loss: 0.5165 - mae: 0.5165\n",
            "Epoch 340/400\n",
            "1/1 [==============================] - 0s 15ms/step - loss: 0.9413 - mae: 0.9413\n",
            "Epoch 341/400\n",
            "1/1 [==============================] - 0s 11ms/step - loss: 0.4961 - mae: 0.4961\n",
            "Epoch 342/400\n",
            "1/1 [==============================] - 0s 12ms/step - loss: 0.9557 - mae: 0.9557\n",
            "Epoch 343/400\n",
            "1/1 [==============================] - 0s 14ms/step - loss: 0.4759 - mae: 0.4759\n",
            "Epoch 344/400\n",
            "1/1 [==============================] - 0s 16ms/step - loss: 0.9701 - mae: 0.9701\n",
            "Epoch 345/400\n",
            "1/1 [==============================] - 0s 14ms/step - loss: 0.4557 - mae: 0.4557\n",
            "Epoch 346/400\n",
            "1/1 [==============================] - 0s 12ms/step - loss: 0.9845 - mae: 0.9845\n",
            "Epoch 347/400\n",
            "1/1 [==============================] - 0s 15ms/step - loss: 0.4355 - mae: 0.4355\n",
            "Epoch 348/400\n",
            "1/1 [==============================] - 0s 23ms/step - loss: 0.9988 - mae: 0.9988\n",
            "Epoch 349/400\n",
            "1/1 [==============================] - 0s 16ms/step - loss: 0.4155 - mae: 0.4155\n",
            "Epoch 350/400\n",
            "1/1 [==============================] - 0s 13ms/step - loss: 1.0142 - mae: 1.0142\n",
            "Epoch 351/400\n",
            "1/1 [==============================] - 0s 14ms/step - loss: 0.3083 - mae: 0.3083\n",
            "Epoch 352/400\n",
            "1/1 [==============================] - 0s 29ms/step - loss: 1.1223 - mae: 1.1223\n",
            "Epoch 353/400\n",
            "1/1 [==============================] - 0s 12ms/step - loss: 0.2937 - mae: 0.2937\n",
            "Epoch 354/400\n",
            "1/1 [==============================] - 0s 21ms/step - loss: 0.9129 - mae: 0.9129\n",
            "Epoch 355/400\n",
            "1/1 [==============================] - 0s 20ms/step - loss: 0.5081 - mae: 0.5081\n",
            "Epoch 356/400\n",
            "1/1 [==============================] - 0s 20ms/step - loss: 0.9275 - mae: 0.9275\n",
            "Epoch 357/400\n",
            "1/1 [==============================] - 0s 15ms/step - loss: 0.4878 - mae: 0.4878\n",
            "Epoch 358/400\n",
            "1/1 [==============================] - 0s 13ms/step - loss: 0.9420 - mae: 0.9420\n",
            "Epoch 359/400\n",
            "1/1 [==============================] - 0s 17ms/step - loss: 0.4676 - mae: 0.4676\n",
            "Epoch 360/400\n",
            "1/1 [==============================] - 0s 13ms/step - loss: 0.9565 - mae: 0.9565\n",
            "Epoch 361/400\n",
            "1/1 [==============================] - 0s 10ms/step - loss: 0.4474 - mae: 0.4474\n",
            "Epoch 362/400\n",
            "1/1 [==============================] - 0s 14ms/step - loss: 0.9709 - mae: 0.9709\n",
            "Epoch 363/400\n",
            "1/1 [==============================] - 0s 13ms/step - loss: 0.4273 - mae: 0.4273\n",
            "Epoch 364/400\n",
            "1/1 [==============================] - 0s 20ms/step - loss: 0.9862 - mae: 0.9862\n",
            "Epoch 365/400\n",
            "1/1 [==============================] - 0s 20ms/step - loss: 0.3215 - mae: 0.3215\n",
            "Epoch 366/400\n",
            "1/1 [==============================] - 0s 22ms/step - loss: 1.0932 - mae: 1.0932\n",
            "Epoch 367/400\n",
            "1/1 [==============================] - 0s 23ms/step - loss: 0.3024 - mae: 0.3024\n",
            "Epoch 368/400\n",
            "1/1 [==============================] - 0s 19ms/step - loss: 0.8860 - mae: 0.8860\n",
            "Epoch 369/400\n",
            "1/1 [==============================] - 0s 13ms/step - loss: 0.5192 - mae: 0.5192\n",
            "Epoch 370/400\n",
            "1/1 [==============================] - 0s 19ms/step - loss: 0.9007 - mae: 0.9007\n",
            "Epoch 371/400\n",
            "1/1 [==============================] - 0s 21ms/step - loss: 0.4988 - mae: 0.4988\n",
            "Epoch 372/400\n",
            "1/1 [==============================] - 0s 18ms/step - loss: 0.9154 - mae: 0.9154\n",
            "Epoch 373/400\n",
            "1/1 [==============================] - 0s 14ms/step - loss: 0.4785 - mae: 0.4785\n",
            "Epoch 374/400\n",
            "1/1 [==============================] - 0s 14ms/step - loss: 0.9299 - mae: 0.9299\n",
            "Epoch 375/400\n",
            "1/1 [==============================] - 0s 12ms/step - loss: 0.4583 - mae: 0.4583\n",
            "Epoch 376/400\n",
            "1/1 [==============================] - 0s 9ms/step - loss: 0.9444 - mae: 0.9444\n",
            "Epoch 377/400\n",
            "1/1 [==============================] - 0s 10ms/step - loss: 0.4382 - mae: 0.4382\n",
            "Epoch 378/400\n",
            "1/1 [==============================] - 0s 13ms/step - loss: 0.9594 - mae: 0.9594\n",
            "Epoch 379/400\n",
            "1/1 [==============================] - 0s 14ms/step - loss: 0.3338 - mae: 0.3338\n",
            "Epoch 380/400\n",
            "1/1 [==============================] - 0s 13ms/step - loss: 1.0655 - mae: 1.0655\n",
            "Epoch 381/400\n",
            "1/1 [==============================] - 0s 12ms/step - loss: 0.3141 - mae: 0.3141\n",
            "Epoch 382/400\n",
            "1/1 [==============================] - 0s 13ms/step - loss: 1.0795 - mae: 1.0795\n",
            "Epoch 383/400\n",
            "1/1 [==============================] - 0s 14ms/step - loss: 0.2986 - mae: 0.2986\n",
            "Epoch 384/400\n",
            "1/1 [==============================] - 0s 11ms/step - loss: 0.8753 - mae: 0.8753\n",
            "Epoch 385/400\n",
            "1/1 [==============================] - 0s 12ms/step - loss: 0.5089 - mae: 0.5089\n",
            "Epoch 386/400\n",
            "1/1 [==============================] - 0s 12ms/step - loss: 0.8900 - mae: 0.8900\n",
            "Epoch 387/400\n",
            "1/1 [==============================] - 0s 11ms/step - loss: 0.4886 - mae: 0.4886\n",
            "Epoch 388/400\n",
            "1/1 [==============================] - 0s 13ms/step - loss: 0.9047 - mae: 0.9047\n",
            "Epoch 389/400\n",
            "1/1 [==============================] - 0s 13ms/step - loss: 0.4683 - mae: 0.4683\n",
            "Epoch 390/400\n",
            "1/1 [==============================] - 0s 11ms/step - loss: 0.9193 - mae: 0.9193\n",
            "Epoch 391/400\n",
            "1/1 [==============================] - 0s 16ms/step - loss: 0.4482 - mae: 0.4482\n",
            "Epoch 392/400\n",
            "1/1 [==============================] - 0s 13ms/step - loss: 0.9339 - mae: 0.9339\n",
            "Epoch 393/400\n",
            "1/1 [==============================] - 0s 12ms/step - loss: 0.4281 - mae: 0.4281\n",
            "Epoch 394/400\n",
            "1/1 [==============================] - 0s 14ms/step - loss: 0.9524 - mae: 0.9524\n",
            "Epoch 395/400\n",
            "1/1 [==============================] - 0s 12ms/step - loss: 0.3255 - mae: 0.3255\n",
            "Epoch 396/400\n",
            "1/1 [==============================] - 0s 13ms/step - loss: 1.0533 - mae: 1.0533\n",
            "Epoch 397/400\n",
            "1/1 [==============================] - 0s 12ms/step - loss: 0.3059 - mae: 0.3059\n",
            "Epoch 398/400\n",
            "1/1 [==============================] - 0s 14ms/step - loss: 1.0673 - mae: 1.0673\n",
            "Epoch 399/400\n",
            "1/1 [==============================] - 0s 11ms/step - loss: 0.2941 - mae: 0.2941\n",
            "Epoch 400/400\n",
            "1/1 [==============================] - 0s 11ms/step - loss: 0.8659 - mae: 0.8659\n"
          ]
        },
        {
          "output_type": "execute_result",
          "data": {
            "text/plain": [
              "<keras.callbacks.History at 0x7bc35af4fbb0>"
            ]
          },
          "metadata": {},
          "execution_count": 15
        }
      ],
      "source": [
        "# Set random seed\n",
        "tf.random.set_seed(42)\n",
        "\n",
        "# 1. Create a model using the Sequential API\n",
        "model=tf.keras.Sequential([\n",
        "     tf.keras.layers.Dense(1),\n",
        "     tf.keras.layers.Dense(1)\n",
        "])\n",
        "\n",
        "# 2. Compile the model\n",
        "model.compile(loss=tf.keras.losses.mae, #mae is short for mean absolute error\n",
        "              optimizer=tf.keras.optimizers.SGD(),\n",
        "              metrics=[\"mae\"])\n",
        "# 3. Fit the model\n",
        "model.fit(tf.expand_dims(X, axis=-1),y,epochs=400) # <- Updated line"
      ]
    },
    {
      "cell_type": "code",
      "execution_count": null,
      "metadata": {
        "colab": {
          "base_uri": "https://localhost:8080/"
        },
        "id": "SVfCGFXYtTR0",
        "outputId": "46b76343-288d-450d-c928-ce98ac9a9e07"
      },
      "outputs": [
        {
          "output_type": "execute_result",
          "data": {
            "text/plain": [
              "(<tf.Tensor: shape=(6,), dtype=float64, numpy=array([-7., -4., -1.,  2.,  5.,  8.])>,\n",
              " <tf.Tensor: shape=(6,), dtype=float64, numpy=array([ 3. ,  6. ,  9. , 12. , 15. , 18.1])>)"
            ]
          },
          "metadata": {},
          "execution_count": 16
        }
      ],
      "source": [
        "#Check our X and y\n",
        "X,y"
      ]
    },
    {
      "cell_type": "code",
      "execution_count": null,
      "metadata": {
        "colab": {
          "base_uri": "https://localhost:8080/"
        },
        "id": "-8FeebHNv9CV",
        "outputId": "98ab9f00-0bc1-4803-ce53-3daf2d451ec3"
      },
      "outputs": [
        {
          "output_type": "stream",
          "name": "stdout",
          "text": [
            "1/1 [==============================] - 0s 114ms/step\n"
          ]
        }
      ],
      "source": [
        "# Try and make a prediction using our model\n",
        "y_pred=model.predict([17.0])"
      ]
    },
    {
      "cell_type": "code",
      "execution_count": null,
      "metadata": {
        "colab": {
          "base_uri": "https://localhost:8080/"
        },
        "id": "3VnbP26ZwXPR",
        "outputId": "5fcdfed9-0136-4f97-dc1b-ba1c453fc84a"
      },
      "outputs": [
        {
          "output_type": "execute_result",
          "data": {
            "text/plain": [
              "array([[29.83561]], dtype=float32)"
            ]
          },
          "metadata": {},
          "execution_count": 18
        }
      ],
      "source": [
        "y_pred+1"
      ]
    },
    {
      "cell_type": "code",
      "execution_count": null,
      "metadata": {
        "id": "3WPrcdmZOKFn"
      },
      "outputs": [],
      "source": [
        "## Turn our Numpy arrays into tensors\n",
        "import numpy as np\n",
        "import matplotlib.pyplot as plt\n",
        "import tensorflow as tf\n"
      ]
    },
    {
      "cell_type": "code",
      "execution_count": null,
      "metadata": {
        "colab": {
          "base_uri": "https://localhost:8080/"
        },
        "id": "rNI8tsYaPX3L",
        "outputId": "a9733721-2d9f-44e1-c1d9-60c62ecfff90"
      },
      "outputs": [
        {
          "output_type": "execute_result",
          "data": {
            "text/plain": [
              "array([ 1,  2,  3,  4,  5,  6, 10,  7])"
            ]
          },
          "metadata": {},
          "execution_count": 20
        }
      ],
      "source": [
        "## Feature Variable\n",
        "X=np.array([1,2,3,4,5,6,10,7])\n",
        "X"
      ]
    },
    {
      "cell_type": "code",
      "execution_count": null,
      "metadata": {
        "colab": {
          "base_uri": "https://localhost:8080/"
        },
        "id": "jhewPJtKPhIm",
        "outputId": "cdafc66a-5aae-442c-a6b1-5d781ea81fba"
      },
      "outputs": [
        {
          "output_type": "execute_result",
          "data": {
            "text/plain": [
              "array([11, 12, 13, 14, 15, 16, 20, 17])"
            ]
          },
          "metadata": {},
          "execution_count": 21
        }
      ],
      "source": [
        "y=np.array([11,12,13,14,15,16,20,17])\n",
        "y"
      ]
    },
    {
      "cell_type": "code",
      "execution_count": null,
      "metadata": {
        "colab": {
          "base_uri": "https://localhost:8080/"
        },
        "id": "vY4eIHzBPm3e",
        "outputId": "bc8f1e09-01a7-4bc3-d2ec-7936d44e5d56"
      },
      "outputs": [
        {
          "output_type": "execute_result",
          "data": {
            "text/plain": [
              "(array([ 1,  2,  3,  4,  5,  6, 10,  7]),\n",
              " array([11, 12, 13, 14, 15, 16, 20, 17]))"
            ]
          },
          "metadata": {},
          "execution_count": 22
        }
      ],
      "source": [
        "X,y"
      ]
    },
    {
      "cell_type": "code",
      "execution_count": null,
      "metadata": {
        "id": "bz8f6_hCPpGl"
      },
      "outputs": [],
      "source": [
        "# Turn our Numpy arrays into tensors\n",
        "X=tf.constant(X)\n",
        "y=tf.constant(y)"
      ]
    },
    {
      "cell_type": "code",
      "execution_count": null,
      "metadata": {
        "colab": {
          "base_uri": "https://localhost:8080/"
        },
        "id": "lVPcZagqP18T",
        "outputId": "6fd31cdc-e462-4c16-d2f3-f201b63e318f"
      },
      "outputs": [
        {
          "output_type": "execute_result",
          "data": {
            "text/plain": [
              "(<tf.Tensor: shape=(8,), dtype=int64, numpy=array([ 1,  2,  3,  4,  5,  6, 10,  7])>,\n",
              " <tf.Tensor: shape=(8,), dtype=int64, numpy=array([11, 12, 13, 14, 15, 16, 20, 17])>)"
            ]
          },
          "metadata": {},
          "execution_count": 24
        }
      ],
      "source": [
        "X,y"
      ]
    },
    {
      "cell_type": "code",
      "execution_count": null,
      "metadata": {
        "id": "hmfIf-YYP3Py"
      },
      "outputs": [],
      "source": [
        "input_shape=X[0].shape\n",
        "output_shape=y[0].shape"
      ]
    },
    {
      "cell_type": "code",
      "execution_count": null,
      "metadata": {
        "colab": {
          "base_uri": "https://localhost:8080/"
        },
        "id": "K479H25IQKQT",
        "outputId": "c42a4104-61c1-4065-9944-6106630fa8c9"
      },
      "outputs": [
        {
          "output_type": "execute_result",
          "data": {
            "text/plain": [
              "(TensorShape([]), TensorShape([]))"
            ]
          },
          "metadata": {},
          "execution_count": 26
        }
      ],
      "source": [
        "input_shape,output_shape"
      ]
    },
    {
      "cell_type": "code",
      "execution_count": null,
      "metadata": {
        "colab": {
          "base_uri": "https://localhost:8080/",
          "height": 448
        },
        "id": "OijN4I9-QNVc",
        "outputId": "71ea5d5e-d2fb-4a31-de58-bc7641f920d0"
      },
      "outputs": [
        {
          "output_type": "execute_result",
          "data": {
            "text/plain": [
              "<matplotlib.collections.PathCollection at 0x7bc35a5f25f0>"
            ]
          },
          "metadata": {},
          "execution_count": 27
        },
        {
          "output_type": "display_data",
          "data": {
            "text/plain": [
              "<Figure size 640x480 with 1 Axes>"
            ],
            "image/png": "[encoded data removed]"
          },
          "metadata": {}
        }
      ],
      "source": [
        "plt.scatter(X,y)"
      ]
    },
    {
      "cell_type": "markdown",
      "metadata": {
        "id": "OvKbcfSfQWFd"
      },
      "source": [
        "## Steps in modelling with tensorflow\n",
        "\n",
        "1. **Creating a model** - define the input and output layers, as well as the hidden layers of a deep learning model.\n",
        "\n",
        "2. **Compiling a model** - define the loss function (in other words, the function which tells our model how wrong it is) and the optimizer (tells our model how to improve the patterns its learning ) and evaluation metrics  ( What we use to interpret the performance of our model).\n",
        "3. Fitting a model - letting the model try to find patterns between X and y (features and labels).\n",
        "\n",
        "---\n",
        "\n"
      ]
    },
    {
      "cell_type": "code",
      "execution_count": null,
      "metadata": {
        "id": "SogIXgw0Ymvg"
      },
      "outputs": [],
      "source": [
        "# Optionally, the first layer can receive an `input_shape` argument:\n",
        "model = tf.keras.Sequential()\n",
        "model.add(tf.keras.layers.Dense(8, input_shape=(16,)))\n",
        "# Afterwards, we do automatic shape inference:\n",
        "model.add(tf.keras.layers.Dense(4))\n",
        "\n",
        "\n",
        "model= tf.keras.Sequential()\n",
        "model.add(tf.keras.layers.Dense(8,input_shape=(16,)))\n",
        "model.add(tf.keras.layers.Dense(4))\n",
        "\n",
        "\n",
        "model= tf.keras.Sequential()\n",
        "model.add(tf.keras.layers.Dense(1))"
      ]
    },
    {
      "cell_type": "code",
      "execution_count": null,
      "metadata": {
        "colab": {
          "base_uri": "https://localhost:8080/"
        },
        "id": "vWBrktgLQgWS",
        "outputId": "00b56b19-545e-4edd-bdd3-cf50f0e5c3bb"
      },
      "outputs": [
        {
          "output_type": "stream",
          "name": "stdout",
          "text": [
            "Epoch 1/5\n",
            "1/1 [==============================] - 0s 322ms/step - loss: 13.7867 - mae: 13.7867\n",
            "Epoch 2/5\n",
            "1/1 [==============================] - 0s 9ms/step - loss: 13.5511 - mae: 13.5511\n",
            "Epoch 3/5\n",
            "1/1 [==============================] - 0s 9ms/step - loss: 13.3155 - mae: 13.3155\n",
            "Epoch 4/5\n",
            "1/1 [==============================] - 0s 15ms/step - loss: 13.0799 - mae: 13.0799\n",
            "Epoch 5/5\n",
            "1/1 [==============================] - 0s 11ms/step - loss: 12.8442 - mae: 12.8442\n",
            "1/1 [==============================] - 0s 162ms/step - loss: 12.6086 - mae: 12.6086\n"
          ]
        },
        {
          "output_type": "execute_result",
          "data": {
            "text/plain": [
              "[12.608604431152344, 12.608604431152344]"
            ]
          },
          "metadata": {},
          "execution_count": 29
        }
      ],
      "source": [
        "#set random seed\n",
        "tf.random.set_seed(42)\n",
        "\n",
        "# 1.Create a model (Specified to your problem)\n",
        "model=tf.keras.Sequential([\n",
        "    tf.keras.layers.Dense(1)\n",
        "])\n",
        "\n",
        "# 2.Compile a model\n",
        "model.compile(loss=tf.keras.losses.mae,\n",
        "              optimizer=tf.keras.optimizers.SGD(),\n",
        "              metrics=[\"mae\"])\n",
        "\n",
        "# 3.Fit the model\n",
        "X_train=X\n",
        "y_train=y\n",
        "model.fit(tf.expand_dims(X_train,axis=1),y_train,epochs=5)\n",
        "\n",
        "# 4. Evalute a model\n",
        "X_test=X\n",
        "y_test=y\n",
        "model.evaluate(X_test,y_test)"
      ]
    },
    {
      "cell_type": "code",
      "execution_count": null,
      "metadata": {
        "colab": {
          "base_uri": "https://localhost:8080/"
        },
        "id": "NQ0QOP5YbaHO",
        "outputId": "c8387b9f-c553-464e-cb49-fc2975089918"
      },
      "outputs": [
        {
          "output_type": "execute_result",
          "data": {
            "text/plain": [
              "(<tf.Tensor: shape=(8,), dtype=int64, numpy=array([ 1,  2,  3,  4,  5,  6, 10,  7])>,\n",
              " <tf.Tensor: shape=(8,), dtype=int64, numpy=array([11, 12, 13, 14, 15, 16, 20, 17])>)"
            ]
          },
          "metadata": {},
          "execution_count": 30
        }
      ],
      "source": [
        "# Check out the patterns X and y\n",
        "X,y\n"
      ]
    },
    {
      "cell_type": "code",
      "execution_count": null,
      "metadata": {
        "colab": {
          "base_uri": "https://localhost:8080/"
        },
        "id": "ARncYg50bz_f",
        "outputId": "066fbc3c-2e0e-403d-bb9f-ac5344e24086"
      },
      "outputs": [
        {
          "output_type": "stream",
          "name": "stdout",
          "text": [
            "1/1 [==============================] - 0s 61ms/step\n"
          ]
        },
        {
          "output_type": "execute_result",
          "data": {
            "text/plain": [
              "array([[7.5349965]], dtype=float32)"
            ]
          },
          "metadata": {},
          "execution_count": 31
        }
      ],
      "source": [
        "# Try and make a prediction using our model\n",
        "y_pred=model.predict([17])\n",
        "y_pred"
      ]
    },
    {
      "cell_type": "code",
      "execution_count": null,
      "metadata": {
        "colab": {
          "base_uri": "https://localhost:8080/"
        },
        "id": "WCTrNjKCcQof",
        "outputId": "6d0268f5-9b64-4c96-c696-4d4d124792dd"
      },
      "outputs": [
        {
          "output_type": "execute_result",
          "data": {
            "text/plain": [
              "array([[17.534996]], dtype=float32)"
            ]
          },
          "metadata": {},
          "execution_count": 32
        }
      ],
      "source": [
        "y_pred +10"
      ]
    },
    {
      "cell_type": "markdown",
      "metadata": {
        "id": "ZiWCzvpGeSig"
      },
      "source": [
        "## Improving our model\n",
        "\n",
        "We can improve our model by altering the steps we took to create a model.\n",
        "\n",
        "1. **Creating a model** - Here we might add more layers, increase the number of hidden units (all called neurons) within each of the hidden layers, change the activation function of each layer.\n",
        "\n",
        "2. **Compiling a model** - Here We might change the optimization function or perhaps the **learning rate**\n",
        "of the optimization function.\n",
        "\n",
        "3. **Fitting a model** - Here we might fit a model for more **epochs** (leave it training for longer) or on more data (give the model more examples to learn from)"
      ]
    },
    {
      "cell_type": "code",
      "execution_count": null,
      "metadata": {
        "colab": {
          "base_uri": "https://localhost:8080/"
        },
        "id": "FgYhTxRvl3Oz",
        "outputId": "55f618ef-187c-4d69-a66b-30ea3712868b"
      },
      "outputs": [
        {
          "output_type": "stream",
          "name": "stdout",
          "text": [
            "Epoch 1/100\n",
            "1/1 [==============================] - 1s 644ms/step - loss: 51.2337 - mae: 51.2337 - accuracy: 0.0000e+00\n",
            "Epoch 2/100\n",
            "1/1 [==============================] - 0s 14ms/step - loss: 50.6337 - mae: 50.6337 - accuracy: 0.0000e+00\n",
            "Epoch 3/100\n",
            "1/1 [==============================] - 0s 17ms/step - loss: 50.0337 - mae: 50.0337 - accuracy: 0.0000e+00\n",
            "Epoch 4/100\n",
            "1/1 [==============================] - 0s 15ms/step - loss: 49.4337 - mae: 49.4337 - accuracy: 0.0000e+00\n",
            "Epoch 5/100\n",
            "1/1 [==============================] - 0s 12ms/step - loss: 48.8337 - mae: 48.8337 - accuracy: 0.0000e+00\n",
            "Epoch 6/100\n",
            "1/1 [==============================] - 0s 12ms/step - loss: 48.2337 - mae: 48.2337 - accuracy: 0.0000e+00\n",
            "Epoch 7/100\n",
            "1/1 [==============================] - 0s 12ms/step - loss: 47.6337 - mae: 47.6337 - accuracy: 0.0000e+00\n",
            "Epoch 8/100\n",
            "1/1 [==============================] - 0s 12ms/step - loss: 47.0337 - mae: 47.0337 - accuracy: 0.0000e+00\n",
            "Epoch 9/100\n",
            "1/1 [==============================] - 0s 10ms/step - loss: 46.4337 - mae: 46.4337 - accuracy: 0.0000e+00\n",
            "Epoch 10/100\n",
            "1/1 [==============================] - 0s 10ms/step - loss: 45.8337 - mae: 45.8337 - accuracy: 0.0000e+00\n",
            "Epoch 11/100\n",
            "1/1 [==============================] - 0s 11ms/step - loss: 45.2337 - mae: 45.2337 - accuracy: 0.0000e+00\n",
            "Epoch 12/100\n",
            "1/1 [==============================] - 0s 14ms/step - loss: 44.6337 - mae: 44.6337 - accuracy: 0.0000e+00\n",
            "Epoch 13/100\n",
            "1/1 [==============================] - 0s 13ms/step - loss: 44.0337 - mae: 44.0337 - accuracy: 0.0000e+00\n",
            "Epoch 14/100\n",
            "1/1 [==============================] - 0s 11ms/step - loss: 43.4337 - mae: 43.4337 - accuracy: 0.0000e+00\n",
            "Epoch 15/100\n",
            "1/1 [==============================] - 0s 19ms/step - loss: 42.8338 - mae: 42.8338 - accuracy: 0.0000e+00\n",
            "Epoch 16/100\n",
            "1/1 [==============================] - 0s 13ms/step - loss: 42.2337 - mae: 42.2337 - accuracy: 0.0000e+00\n",
            "Epoch 17/100\n",
            "1/1 [==============================] - 0s 12ms/step - loss: 41.6338 - mae: 41.6338 - accuracy: 0.0000e+00\n",
            "Epoch 18/100\n",
            "1/1 [==============================] - 0s 14ms/step - loss: 41.0338 - mae: 41.0338 - accuracy: 0.0000e+00\n",
            "Epoch 19/100\n",
            "1/1 [==============================] - 0s 17ms/step - loss: 40.4338 - mae: 40.4338 - accuracy: 0.0000e+00\n",
            "Epoch 20/100\n",
            "1/1 [==============================] - 0s 13ms/step - loss: 39.8338 - mae: 39.8338 - accuracy: 0.0000e+00\n",
            "Epoch 21/100\n",
            "1/1 [==============================] - 0s 11ms/step - loss: 39.2338 - mae: 39.2338 - accuracy: 0.0000e+00\n",
            "Epoch 22/100\n",
            "1/1 [==============================] - 0s 13ms/step - loss: 38.6338 - mae: 38.6338 - accuracy: 0.0000e+00\n",
            "Epoch 23/100\n",
            "1/1 [==============================] - 0s 11ms/step - loss: 38.0338 - mae: 38.0338 - accuracy: 0.0000e+00\n",
            "Epoch 24/100\n",
            "1/1 [==============================] - 0s 14ms/step - loss: 37.4338 - mae: 37.4338 - accuracy: 0.0000e+00\n",
            "Epoch 25/100\n",
            "1/1 [==============================] - 0s 14ms/step - loss: 36.8338 - mae: 36.8338 - accuracy: 0.0000e+00\n",
            "Epoch 26/100\n",
            "1/1 [==============================] - 0s 12ms/step - loss: 36.2338 - mae: 36.2338 - accuracy: 0.0000e+00\n",
            "Epoch 27/100\n",
            "1/1 [==============================] - 0s 15ms/step - loss: 35.6338 - mae: 35.6338 - accuracy: 0.0000e+00\n",
            "Epoch 28/100\n",
            "1/1 [==============================] - 0s 16ms/step - loss: 35.0338 - mae: 35.0338 - accuracy: 0.0000e+00\n",
            "Epoch 29/100\n",
            "1/1 [==============================] - 0s 14ms/step - loss: 34.4338 - mae: 34.4338 - accuracy: 0.0000e+00\n",
            "Epoch 30/100\n",
            "1/1 [==============================] - 0s 11ms/step - loss: 33.8338 - mae: 33.8338 - accuracy: 0.0000e+00\n",
            "Epoch 31/100\n",
            "1/1 [==============================] - 0s 11ms/step - loss: 33.2338 - mae: 33.2338 - accuracy: 0.0000e+00\n",
            "Epoch 32/100\n",
            "1/1 [==============================] - 0s 14ms/step - loss: 32.6338 - mae: 32.6338 - accuracy: 0.0000e+00\n",
            "Epoch 33/100\n",
            "1/1 [==============================] - 0s 14ms/step - loss: 32.0338 - mae: 32.0338 - accuracy: 0.0000e+00\n",
            "Epoch 34/100\n",
            "1/1 [==============================] - 0s 12ms/step - loss: 31.4338 - mae: 31.4338 - accuracy: 0.0000e+00\n",
            "Epoch 35/100\n",
            "1/1 [==============================] - 0s 11ms/step - loss: 30.8338 - mae: 30.8338 - accuracy: 0.0000e+00\n",
            "Epoch 36/100\n",
            "1/1 [==============================] - 0s 14ms/step - loss: 30.2338 - mae: 30.2338 - accuracy: 0.0000e+00\n",
            "Epoch 37/100\n",
            "1/1 [==============================] - 0s 12ms/step - loss: 29.6338 - mae: 29.6338 - accuracy: 0.0000e+00\n",
            "Epoch 38/100\n",
            "1/1 [==============================] - 0s 12ms/step - loss: 29.0338 - mae: 29.0338 - accuracy: 0.0000e+00\n",
            "Epoch 39/100\n",
            "1/1 [==============================] - 0s 11ms/step - loss: 28.4338 - mae: 28.4338 - accuracy: 0.0000e+00\n",
            "Epoch 40/100\n",
            "1/1 [==============================] - 0s 11ms/step - loss: 27.8338 - mae: 27.8338 - accuracy: 0.0000e+00\n",
            "Epoch 41/100\n",
            "1/1 [==============================] - 0s 12ms/step - loss: 27.2338 - mae: 27.2338 - accuracy: 0.0000e+00\n",
            "Epoch 42/100\n",
            "1/1 [==============================] - 0s 13ms/step - loss: 26.6339 - mae: 26.6339 - accuracy: 0.0000e+00\n",
            "Epoch 43/100\n",
            "1/1 [==============================] - 0s 13ms/step - loss: 26.0339 - mae: 26.0339 - accuracy: 0.0000e+00\n",
            "Epoch 44/100\n",
            "1/1 [==============================] - 0s 15ms/step - loss: 25.4339 - mae: 25.4339 - accuracy: 0.0000e+00\n",
            "Epoch 45/100\n",
            "1/1 [==============================] - 0s 13ms/step - loss: 24.8339 - mae: 24.8339 - accuracy: 0.0000e+00\n",
            "Epoch 46/100\n",
            "1/1 [==============================] - 0s 10ms/step - loss: 24.2339 - mae: 24.2339 - accuracy: 0.0000e+00\n",
            "Epoch 47/100\n",
            "1/1 [==============================] - 0s 11ms/step - loss: 23.6339 - mae: 23.6339 - accuracy: 0.0000e+00\n",
            "Epoch 48/100\n",
            "1/1 [==============================] - 0s 11ms/step - loss: 23.0339 - mae: 23.0339 - accuracy: 0.0000e+00\n",
            "Epoch 49/100\n",
            "1/1 [==============================] - 0s 9ms/step - loss: 22.4339 - mae: 22.4339 - accuracy: 0.0000e+00\n",
            "Epoch 50/100\n",
            "1/1 [==============================] - 0s 10ms/step - loss: 21.8339 - mae: 21.8339 - accuracy: 0.0000e+00\n",
            "Epoch 51/100\n",
            "1/1 [==============================] - 0s 10ms/step - loss: 21.2339 - mae: 21.2339 - accuracy: 0.0000e+00\n",
            "Epoch 52/100\n",
            "1/1 [==============================] - 0s 30ms/step - loss: 20.6339 - mae: 20.6339 - accuracy: 0.0000e+00\n",
            "Epoch 53/100\n",
            "1/1 [==============================] - 0s 15ms/step - loss: 20.0679 - mae: 20.0679 - accuracy: 0.0000e+00\n",
            "Epoch 54/100\n",
            "1/1 [==============================] - 0s 14ms/step - loss: 19.5156 - mae: 19.5156 - accuracy: 0.0000e+00\n",
            "Epoch 55/100\n",
            "1/1 [==============================] - 0s 15ms/step - loss: 18.9660 - mae: 18.9660 - accuracy: 0.0000e+00\n",
            "Epoch 56/100\n",
            "1/1 [==============================] - 0s 15ms/step - loss: 18.4189 - mae: 18.4189 - accuracy: 0.0000e+00\n",
            "Epoch 57/100\n",
            "1/1 [==============================] - 0s 15ms/step - loss: 17.8741 - mae: 17.8741 - accuracy: 0.0000e+00\n",
            "Epoch 58/100\n",
            "1/1 [==============================] - 0s 11ms/step - loss: 17.3312 - mae: 17.3312 - accuracy: 0.0000e+00\n",
            "Epoch 59/100\n",
            "1/1 [==============================] - 0s 12ms/step - loss: 16.7901 - mae: 16.7901 - accuracy: 0.0000e+00\n",
            "Epoch 60/100\n",
            "1/1 [==============================] - 0s 13ms/step - loss: 16.2505 - mae: 16.2505 - accuracy: 0.0000e+00\n",
            "Epoch 61/100\n",
            "1/1 [==============================] - 0s 11ms/step - loss: 15.7122 - mae: 15.7122 - accuracy: 0.0000e+00\n",
            "Epoch 62/100\n",
            "1/1 [==============================] - 0s 10ms/step - loss: 15.1751 - mae: 15.1751 - accuracy: 0.0000e+00\n",
            "Epoch 63/100\n",
            "1/1 [==============================] - 0s 12ms/step - loss: 14.6390 - mae: 14.6390 - accuracy: 0.0000e+00\n",
            "Epoch 64/100\n",
            "1/1 [==============================] - 0s 12ms/step - loss: 14.1038 - mae: 14.1038 - accuracy: 0.0000e+00\n",
            "Epoch 65/100\n",
            "1/1 [==============================] - 0s 12ms/step - loss: 13.5693 - mae: 13.5693 - accuracy: 0.0000e+00\n",
            "Epoch 66/100\n",
            "1/1 [==============================] - 0s 12ms/step - loss: 13.0356 - mae: 13.0356 - accuracy: 0.0000e+00\n",
            "Epoch 67/100\n",
            "1/1 [==============================] - 0s 12ms/step - loss: 12.5024 - mae: 12.5024 - accuracy: 0.0000e+00\n",
            "Epoch 68/100\n",
            "1/1 [==============================] - 0s 13ms/step - loss: 11.9696 - mae: 11.9696 - accuracy: 0.0000e+00\n",
            "Epoch 69/100\n",
            "1/1 [==============================] - 0s 12ms/step - loss: 11.4373 - mae: 11.4373 - accuracy: 0.0000e+00\n",
            "Epoch 70/100\n",
            "1/1 [==============================] - 0s 13ms/step - loss: 10.9053 - mae: 10.9053 - accuracy: 0.0000e+00\n",
            "Epoch 71/100\n",
            "1/1 [==============================] - 0s 13ms/step - loss: 10.4304 - mae: 10.4304 - accuracy: 0.0000e+00\n",
            "Epoch 72/100\n",
            "1/1 [==============================] - 0s 13ms/step - loss: 9.9658 - mae: 9.9658 - accuracy: 0.0000e+00\n",
            "Epoch 73/100\n",
            "1/1 [==============================] - 0s 10ms/step - loss: 9.5054 - mae: 9.5054 - accuracy: 0.0000e+00\n",
            "Epoch 74/100\n",
            "1/1 [==============================] - 0s 10ms/step - loss: 9.0487 - mae: 9.0487 - accuracy: 0.0000e+00\n",
            "Epoch 75/100\n",
            "1/1 [==============================] - 0s 10ms/step - loss: 8.5954 - mae: 8.5954 - accuracy: 0.0000e+00\n",
            "Epoch 76/100\n",
            "1/1 [==============================] - 0s 14ms/step - loss: 8.1450 - mae: 8.1450 - accuracy: 0.0000e+00\n",
            "Epoch 77/100\n",
            "1/1 [==============================] - 0s 13ms/step - loss: 7.6973 - mae: 7.6973 - accuracy: 0.0000e+00\n",
            "Epoch 78/100\n",
            "1/1 [==============================] - 0s 12ms/step - loss: 7.2518 - mae: 7.2518 - accuracy: 0.0000e+00\n",
            "Epoch 79/100\n",
            "1/1 [==============================] - 0s 12ms/step - loss: 6.8084 - mae: 6.8084 - accuracy: 0.0000e+00\n",
            "Epoch 80/100\n",
            "1/1 [==============================] - 0s 12ms/step - loss: 6.4143 - mae: 6.4143 - accuracy: 0.0000e+00\n",
            "Epoch 81/100\n",
            "1/1 [==============================] - 0s 12ms/step - loss: 6.0569 - mae: 6.0569 - accuracy: 0.0000e+00\n",
            "Epoch 82/100\n",
            "1/1 [==============================] - 0s 10ms/step - loss: 5.7054 - mae: 5.7054 - accuracy: 0.0000e+00\n",
            "Epoch 83/100\n",
            "1/1 [==============================] - 0s 10ms/step - loss: 5.3590 - mae: 5.3590 - accuracy: 0.0000e+00\n",
            "Epoch 84/100\n",
            "1/1 [==============================] - 0s 10ms/step - loss: 5.0173 - mae: 5.0173 - accuracy: 0.0000e+00\n",
            "Epoch 85/100\n",
            "1/1 [==============================] - 0s 12ms/step - loss: 4.6796 - mae: 4.6796 - accuracy: 0.0000e+00\n",
            "Epoch 86/100\n",
            "1/1 [==============================] - 0s 15ms/step - loss: 4.4074 - mae: 4.4074 - accuracy: 0.0000e+00\n",
            "Epoch 87/100\n",
            "1/1 [==============================] - 0s 13ms/step - loss: 4.1698 - mae: 4.1698 - accuracy: 0.0000e+00\n",
            "Epoch 88/100\n",
            "1/1 [==============================] - 0s 12ms/step - loss: 3.9387 - mae: 3.9387 - accuracy: 0.0000e+00\n",
            "Epoch 89/100\n",
            "1/1 [==============================] - 0s 13ms/step - loss: 3.7134 - mae: 3.7134 - accuracy: 0.0000e+00\n",
            "Epoch 90/100\n",
            "1/1 [==============================] - 0s 13ms/step - loss: 3.5321 - mae: 3.5321 - accuracy: 0.0000e+00\n",
            "Epoch 91/100\n",
            "1/1 [==============================] - 0s 12ms/step - loss: 3.4136 - mae: 3.4136 - accuracy: 0.0000e+00\n",
            "Epoch 92/100\n",
            "1/1 [==============================] - 0s 13ms/step - loss: 3.3002 - mae: 3.3002 - accuracy: 0.0000e+00\n",
            "Epoch 93/100\n",
            "1/1 [==============================] - 0s 10ms/step - loss: 3.1916 - mae: 3.1916 - accuracy: 0.0000e+00\n",
            "Epoch 94/100\n",
            "1/1 [==============================] - 0s 10ms/step - loss: 3.1688 - mae: 3.1688 - accuracy: 0.0000e+00\n",
            "Epoch 95/100\n",
            "1/1 [==============================] - 0s 14ms/step - loss: 3.1551 - mae: 3.1551 - accuracy: 0.0000e+00\n",
            "Epoch 96/100\n",
            "1/1 [==============================] - 0s 10ms/step - loss: 3.1412 - mae: 3.1412 - accuracy: 0.0000e+00\n",
            "Epoch 97/100\n",
            "1/1 [==============================] - 0s 9ms/step - loss: 3.1795 - mae: 3.1795 - accuracy: 0.0000e+00\n",
            "Epoch 98/100\n",
            "1/1 [==============================] - 0s 12ms/step - loss: 3.2308 - mae: 3.2308 - accuracy: 0.0000e+00\n",
            "Epoch 99/100\n",
            "1/1 [==============================] - 0s 10ms/step - loss: 3.2702 - mae: 3.2702 - accuracy: 0.0000e+00\n",
            "Epoch 100/100\n",
            "1/1 [==============================] - 0s 10ms/step - loss: 3.2987 - mae: 3.2987 - accuracy: 0.0000e+00\n"
          ]
        }
      ],
      "source": [
        "# Lets rebuild our model\n",
        "X=tf.constant([1.0,2.0,3.0,4.0,5.0,6.0,7.0,8.0,9.0],dtype=tf.float32)\n",
        "y=tf.constant([10.0,20.0,30.0,40.0,50.0,60.0,70.0,80.0,90.0],dtype=tf.float32)\n",
        "# 1.Creating a model\n",
        "model= tf.keras.Sequential([\n",
        "    tf.keras.layers.Dense(1)\n",
        "])\n",
        "\n",
        "#2. Compile the model\n",
        "model.compile(loss=tf.keras.losses.mae,\n",
        "              optimizer=tf.keras.optimizers.Adam(learning_rate=0.1),\n",
        "              metrics=[\"mae\",\"accuracy\"])\n",
        "\n",
        "# 3. Fit the model (this time we'll train for longer)\n",
        "Model_predict=model.fit(tf.expand_dims(X,axis=1),y,epochs=100)"
      ]
    },
    {
      "cell_type": "code",
      "execution_count": null,
      "metadata": {
        "colab": {
          "base_uri": "https://localhost:8080/"
        },
        "id": "tquD9qd6pZ3U",
        "outputId": "85360d30-6cc0-4a8f-bfae-455752c77173"
      },
      "outputs": [
        {
          "output_type": "execute_result",
          "data": {
            "text/plain": [
              "(<tf.Tensor: shape=(9,), dtype=float32, numpy=array([1., 2., 3., 4., 5., 6., 7., 8., 9.], dtype=float32)>,\n",
              " <tf.Tensor: shape=(9,), dtype=float32, numpy=array([10., 20., 30., 40., 50., 60., 70., 80., 90.], dtype=float32)>)"
            ]
          },
          "metadata": {},
          "execution_count": 34
        }
      ],
      "source": [
        "# Remind ourselves of the data\n",
        "X,y"
      ]
    },
    {
      "cell_type": "code",
      "execution_count": null,
      "metadata": {
        "colab": {
          "base_uri": "https://localhost:8080/"
        },
        "id": "O_QuHqoarD7-",
        "outputId": "13a8e82c-46be-452f-d7a8-cc13a2aa602b"
      },
      "outputs": [
        {
          "output_type": "stream",
          "name": "stdout",
          "text": [
            "1/1 [==============================] - 0s 124ms/step\n"
          ]
        },
        {
          "output_type": "execute_result",
          "data": {
            "text/plain": [
              "array([[160.9874 ],\n",
              "       [169.97498],\n",
              "       [178.96252],\n",
              "       [187.9501 ]], dtype=float32)"
            ]
          },
          "metadata": {},
          "execution_count": 35
        }
      ],
      "source": [
        "# Let's see if our model's prediction has improved ....\n",
        "model.predict([17.0,18.0,19.0,20.0])"
      ]
    },
    {
      "cell_type": "code",
      "execution_count": null,
      "metadata": {
        "colab": {
          "base_uri": "https://localhost:8080/"
        },
        "id": "A_S1ODYur8fV",
        "outputId": "babb01af-b8cf-41c6-ebf2-df0cf04cf3f4"
      },
      "outputs": [
        {
          "output_type": "stream",
          "name": "stdout",
          "text": [
            "0.0\n"
          ]
        }
      ],
      "source": [
        "# Let's see\n",
        "acc=Model_predict.history['accuracy'][-1]*1000000000\n",
        "print(acc)"
      ]
    },
    {
      "cell_type": "code",
      "execution_count": null,
      "metadata": {
        "colab": {
          "base_uri": "https://localhost:8080/"
        },
        "id": "fR98h-z8CKFU",
        "outputId": "3904b646-7e46-4873-94d2-722923c6dd8f"
      },
      "outputs": [
        {
          "output_type": "stream",
          "name": "stdout",
          "text": [
            "Epoch 1/100\n",
            "1/1 [==============================] - 1s 898ms/step - loss: 50.5462 - mae: 50.5462\n",
            "Epoch 2/100\n",
            "1/1 [==============================] - 0s 18ms/step - loss: 49.5099 - mae: 49.5099\n",
            "Epoch 3/100\n",
            "1/1 [==============================] - 0s 13ms/step - loss: 48.4762 - mae: 48.4762\n",
            "Epoch 4/100\n",
            "1/1 [==============================] - 0s 9ms/step - loss: 47.4435 - mae: 47.4435\n",
            "Epoch 5/100\n",
            "1/1 [==============================] - 0s 9ms/step - loss: 46.4097 - mae: 46.4097\n",
            "Epoch 6/100\n",
            "1/1 [==============================] - 0s 10ms/step - loss: 45.3718 - mae: 45.3718\n",
            "Epoch 7/100\n",
            "1/1 [==============================] - 0s 9ms/step - loss: 44.3263 - mae: 44.3263\n",
            "Epoch 8/100\n",
            "1/1 [==============================] - 0s 10ms/step - loss: 43.2700 - mae: 43.2700\n",
            "Epoch 9/100\n",
            "1/1 [==============================] - 0s 10ms/step - loss: 42.2001 - mae: 42.2001\n",
            "Epoch 10/100\n",
            "1/1 [==============================] - 0s 8ms/step - loss: 41.1140 - mae: 41.1140\n",
            "Epoch 11/100\n",
            "1/1 [==============================] - 0s 11ms/step - loss: 40.0090 - mae: 40.0090\n",
            "Epoch 12/100\n",
            "1/1 [==============================] - 0s 9ms/step - loss: 38.8823 - mae: 38.8823\n",
            "Epoch 13/100\n",
            "1/1 [==============================] - 0s 10ms/step - loss: 37.7307 - mae: 37.7307\n",
            "Epoch 14/100\n",
            "1/1 [==============================] - 0s 10ms/step - loss: 36.5509 - mae: 36.5509\n",
            "Epoch 15/100\n",
            "1/1 [==============================] - 0s 8ms/step - loss: 35.3390 - mae: 35.3390\n",
            "Epoch 16/100\n",
            "1/1 [==============================] - 0s 14ms/step - loss: 34.0913 - mae: 34.0913\n",
            "Epoch 17/100\n",
            "1/1 [==============================] - 0s 9ms/step - loss: 32.8036 - mae: 32.8036\n",
            "Epoch 18/100\n",
            "1/1 [==============================] - 0s 10ms/step - loss: 31.4720 - mae: 31.4720\n",
            "Epoch 19/100\n",
            "1/1 [==============================] - 0s 15ms/step - loss: 30.0924 - mae: 30.0924\n",
            "Epoch 20/100\n",
            "1/1 [==============================] - 0s 12ms/step - loss: 28.6610 - mae: 28.6610\n",
            "Epoch 21/100\n",
            "1/1 [==============================] - 0s 8ms/step - loss: 27.1739 - mae: 27.1739\n",
            "Epoch 22/100\n",
            "1/1 [==============================] - 0s 9ms/step - loss: 25.6276 - mae: 25.6276\n",
            "Epoch 23/100\n",
            "1/1 [==============================] - 0s 10ms/step - loss: 24.0187 - mae: 24.0187\n",
            "Epoch 24/100\n",
            "1/1 [==============================] - 0s 7ms/step - loss: 22.3441 - mae: 22.3441\n",
            "Epoch 25/100\n",
            "1/1 [==============================] - 0s 9ms/step - loss: 20.6006 - mae: 20.6006\n",
            "Epoch 26/100\n",
            "1/1 [==============================] - 0s 9ms/step - loss: 18.7853 - mae: 18.7853\n",
            "Epoch 27/100\n",
            "1/1 [==============================] - 0s 10ms/step - loss: 16.9020 - mae: 16.9020\n",
            "Epoch 28/100\n",
            "1/1 [==============================] - 0s 10ms/step - loss: 15.0823 - mae: 15.0823\n",
            "Epoch 29/100\n",
            "1/1 [==============================] - 0s 10ms/step - loss: 13.1961 - mae: 13.1961\n",
            "Epoch 30/100\n",
            "1/1 [==============================] - 0s 12ms/step - loss: 11.2404 - mae: 11.2404\n",
            "Epoch 31/100\n",
            "1/1 [==============================] - 0s 7ms/step - loss: 9.2125 - mae: 9.2125\n",
            "Epoch 32/100\n",
            "1/1 [==============================] - 0s 10ms/step - loss: 7.3199 - mae: 7.3199\n",
            "Epoch 33/100\n",
            "1/1 [==============================] - 0s 13ms/step - loss: 5.4192 - mae: 5.4192\n",
            "Epoch 34/100\n",
            "1/1 [==============================] - 0s 9ms/step - loss: 3.8213 - mae: 3.8213\n",
            "Epoch 35/100\n",
            "1/1 [==============================] - 0s 10ms/step - loss: 2.7949 - mae: 2.7949\n",
            "Epoch 36/100\n",
            "1/1 [==============================] - 0s 12ms/step - loss: 3.1276 - mae: 3.1276\n",
            "Epoch 37/100\n",
            "1/1 [==============================] - 0s 9ms/step - loss: 4.9798 - mae: 4.9798\n",
            "Epoch 38/100\n",
            "1/1 [==============================] - 0s 9ms/step - loss: 6.2604 - mae: 6.2604\n",
            "Epoch 39/100\n",
            "1/1 [==============================] - 0s 11ms/step - loss: 6.9979 - mae: 6.9979\n",
            "Epoch 40/100\n",
            "1/1 [==============================] - 0s 12ms/step - loss: 7.2604 - mae: 7.2604\n",
            "Epoch 41/100\n",
            "1/1 [==============================] - 0s 8ms/step - loss: 7.1127 - mae: 7.1127\n",
            "Epoch 42/100\n",
            "1/1 [==============================] - 0s 9ms/step - loss: 6.6150 - mae: 6.6150\n",
            "Epoch 43/100\n",
            "1/1 [==============================] - 0s 10ms/step - loss: 5.8220 - mae: 5.8220\n",
            "Epoch 44/100\n",
            "1/1 [==============================] - 0s 10ms/step - loss: 4.7830 - mae: 4.7830\n",
            "Epoch 45/100\n",
            "1/1 [==============================] - 0s 10ms/step - loss: 3.5420 - mae: 3.5420\n",
            "Epoch 46/100\n",
            "1/1 [==============================] - 0s 10ms/step - loss: 2.6016 - mae: 2.6016\n",
            "Epoch 47/100\n",
            "1/1 [==============================] - 0s 8ms/step - loss: 2.6018 - mae: 2.6018\n",
            "Epoch 48/100\n",
            "1/1 [==============================] - 0s 10ms/step - loss: 2.9573 - mae: 2.9573\n",
            "Epoch 49/100\n",
            "1/1 [==============================] - 0s 11ms/step - loss: 3.3564 - mae: 3.3564\n",
            "Epoch 50/100\n",
            "1/1 [==============================] - 0s 8ms/step - loss: 3.6983 - mae: 3.6983\n",
            "Epoch 51/100\n",
            "1/1 [==============================] - 0s 10ms/step - loss: 3.9213 - mae: 3.9213\n",
            "Epoch 52/100\n",
            "1/1 [==============================] - 0s 11ms/step - loss: 3.9870 - mae: 3.9870\n",
            "Epoch 53/100\n",
            "1/1 [==============================] - 0s 9ms/step - loss: 3.9119 - mae: 3.9119\n",
            "Epoch 54/100\n",
            "1/1 [==============================] - 0s 9ms/step - loss: 3.7097 - mae: 3.7097\n",
            "Epoch 55/100\n",
            "1/1 [==============================] - 0s 9ms/step - loss: 3.3916 - mae: 3.3916\n",
            "Epoch 56/100\n",
            "1/1 [==============================] - 0s 10ms/step - loss: 3.0508 - mae: 3.0508\n",
            "Epoch 57/100\n",
            "1/1 [==============================] - 0s 9ms/step - loss: 2.6842 - mae: 2.6842\n",
            "Epoch 58/100\n",
            "1/1 [==============================] - 0s 9ms/step - loss: 2.3849 - mae: 2.3849\n",
            "Epoch 59/100\n",
            "1/1 [==============================] - 0s 10ms/step - loss: 2.2253 - mae: 2.2253\n",
            "Epoch 60/100\n",
            "1/1 [==============================] - 0s 13ms/step - loss: 2.2959 - mae: 2.2959\n",
            "Epoch 61/100\n",
            "1/1 [==============================] - 0s 10ms/step - loss: 2.5748 - mae: 2.5748\n",
            "Epoch 62/100\n",
            "1/1 [==============================] - 0s 9ms/step - loss: 2.7503 - mae: 2.7503\n",
            "Epoch 63/100\n",
            "1/1 [==============================] - 0s 11ms/step - loss: 2.5824 - mae: 2.5824\n",
            "Epoch 64/100\n",
            "1/1 [==============================] - 0s 9ms/step - loss: 2.2470 - mae: 2.2470\n",
            "Epoch 65/100\n",
            "1/1 [==============================] - 0s 10ms/step - loss: 2.0407 - mae: 2.0407\n",
            "Epoch 66/100\n",
            "1/1 [==============================] - 0s 10ms/step - loss: 2.0180 - mae: 2.0180\n",
            "Epoch 67/100\n",
            "1/1 [==============================] - 0s 11ms/step - loss: 2.0999 - mae: 2.0999\n",
            "Epoch 68/100\n",
            "1/1 [==============================] - 0s 10ms/step - loss: 2.1638 - mae: 2.1638\n",
            "Epoch 69/100\n",
            "1/1 [==============================] - 0s 9ms/step - loss: 2.2306 - mae: 2.2306\n",
            "Epoch 70/100\n",
            "1/1 [==============================] - 0s 10ms/step - loss: 2.2261 - mae: 2.2261\n",
            "Epoch 71/100\n",
            "1/1 [==============================] - 0s 9ms/step - loss: 2.1410 - mae: 2.1410\n",
            "Epoch 72/100\n",
            "1/1 [==============================] - 0s 8ms/step - loss: 2.0036 - mae: 2.0036\n",
            "Epoch 73/100\n",
            "1/1 [==============================] - 0s 8ms/step - loss: 1.8787 - mae: 1.8787\n",
            "Epoch 74/100\n",
            "1/1 [==============================] - 0s 10ms/step - loss: 1.7393 - mae: 1.7393\n",
            "Epoch 75/100\n",
            "1/1 [==============================] - 0s 8ms/step - loss: 1.6943 - mae: 1.6943\n",
            "Epoch 76/100\n",
            "1/1 [==============================] - 0s 9ms/step - loss: 1.6955 - mae: 1.6955\n",
            "Epoch 77/100\n",
            "1/1 [==============================] - 0s 8ms/step - loss: 1.7146 - mae: 1.7146\n",
            "Epoch 78/100\n",
            "1/1 [==============================] - 0s 9ms/step - loss: 1.7278 - mae: 1.7278\n",
            "Epoch 79/100\n",
            "1/1 [==============================] - 0s 8ms/step - loss: 1.6263 - mae: 1.6263\n",
            "Epoch 80/100\n",
            "1/1 [==============================] - 0s 11ms/step - loss: 1.5280 - mae: 1.5280\n",
            "Epoch 81/100\n",
            "1/1 [==============================] - 0s 8ms/step - loss: 1.4508 - mae: 1.4508\n",
            "Epoch 82/100\n",
            "1/1 [==============================] - 0s 8ms/step - loss: 1.4138 - mae: 1.4138\n",
            "Epoch 83/100\n",
            "1/1 [==============================] - 0s 10ms/step - loss: 1.4175 - mae: 1.4175\n",
            "Epoch 84/100\n",
            "1/1 [==============================] - 0s 9ms/step - loss: 1.4043 - mae: 1.4043\n",
            "Epoch 85/100\n",
            "1/1 [==============================] - 0s 8ms/step - loss: 1.3603 - mae: 1.3603\n",
            "Epoch 86/100\n",
            "1/1 [==============================] - 0s 9ms/step - loss: 1.2881 - mae: 1.2881\n",
            "Epoch 87/100\n",
            "1/1 [==============================] - 0s 10ms/step - loss: 1.1924 - mae: 1.1924\n",
            "Epoch 88/100\n",
            "1/1 [==============================] - 0s 10ms/step - loss: 1.1418 - mae: 1.1418\n",
            "Epoch 89/100\n",
            "1/1 [==============================] - 0s 9ms/step - loss: 1.0915 - mae: 1.0915\n",
            "Epoch 90/100\n",
            "1/1 [==============================] - 0s 9ms/step - loss: 1.0626 - mae: 1.0626\n",
            "Epoch 91/100\n",
            "1/1 [==============================] - 0s 8ms/step - loss: 1.0043 - mae: 1.0043\n",
            "Epoch 92/100\n",
            "1/1 [==============================] - 0s 9ms/step - loss: 0.9502 - mae: 0.9502\n",
            "Epoch 93/100\n",
            "1/1 [==============================] - 0s 8ms/step - loss: 0.9044 - mae: 0.9044\n",
            "Epoch 94/100\n",
            "1/1 [==============================] - 0s 9ms/step - loss: 0.8654 - mae: 0.8654\n",
            "Epoch 95/100\n",
            "1/1 [==============================] - 0s 10ms/step - loss: 0.8125 - mae: 0.8125\n",
            "Epoch 96/100\n",
            "1/1 [==============================] - 0s 9ms/step - loss: 0.7529 - mae: 0.7529\n",
            "Epoch 97/100\n",
            "1/1 [==============================] - 0s 8ms/step - loss: 0.6982 - mae: 0.6982\n",
            "Epoch 98/100\n",
            "1/1 [==============================] - 0s 7ms/step - loss: 0.6757 - mae: 0.6757\n",
            "Epoch 99/100\n",
            "1/1 [==============================] - 0s 10ms/step - loss: 0.6270 - mae: 0.6270\n",
            "Epoch 100/100\n",
            "1/1 [==============================] - 0s 8ms/step - loss: 0.5497 - mae: 0.5497\n"
          ]
        },
        {
          "output_type": "execute_result",
          "data": {
            "text/plain": [
              "<keras.callbacks.History at 0x7bc35b51c610>"
            ]
          },
          "metadata": {},
          "execution_count": 37
        }
      ],
      "source": [
        "# Lets see if we can make another to improve our model\n",
        "\n",
        "# 1. Create the model (this time with an extra hidden layer with 100 hidden units)\n",
        "model=tf.keras.Sequential([\n",
        "    tf.keras.layers.Dense(50, activation=None),\n",
        "    tf.keras.layers.Dense(1)\n",
        "])\n",
        "\n",
        "# 2.Compile the model\n",
        "model.compile(loss=tf.keras.losses.mae,\n",
        "              optimizer=tf.keras.optimizers.Adam(learning_rate=0.01),\n",
        "              metrics=[\"mae\"]);\n",
        "# 3. Fit the model\n",
        "model.fit(tf.expand_dims(X,axis=1),y,epochs=100)\n"
      ]
    },
    {
      "cell_type": "code",
      "execution_count": null,
      "metadata": {
        "colab": {
          "base_uri": "https://localhost:8080/"
        },
        "id": "O_fF3zeQSSJZ",
        "outputId": "cfae3758-bf31-4564-fe86-03435460a494"
      },
      "outputs": [
        {
          "output_type": "execute_result",
          "data": {
            "text/plain": [
              "(<tf.Tensor: shape=(9,), dtype=float32, numpy=array([1., 2., 3., 4., 5., 6., 7., 8., 9.], dtype=float32)>,\n",
              " <tf.Tensor: shape=(9,), dtype=float32, numpy=array([10., 20., 30., 40., 50., 60., 70., 80., 90.], dtype=float32)>)"
            ]
          },
          "metadata": {},
          "execution_count": 38
        }
      ],
      "source": [
        " # Lets remind ourselves of the data\n",
        " X,y"
      ]
    },
    {
      "cell_type": "code",
      "execution_count": null,
      "metadata": {
        "colab": {
          "base_uri": "https://localhost:8080/"
        },
        "id": "gO3VDvYUS9Il",
        "outputId": "e708e49e-7a75-4c35-cf1b-a7fa4c74d3eb"
      },
      "outputs": [
        {
          "output_type": "stream",
          "name": "stdout",
          "text": [
            "1/1 [==============================] - 0s 68ms/step\n"
          ]
        },
        {
          "output_type": "execute_result",
          "data": {
            "text/plain": [
              "array([[167.6897 ],\n",
              "       [177.47928],\n",
              "       [187.26886],\n",
              "       [197.05847]], dtype=float32)"
            ]
          },
          "metadata": {},
          "execution_count": 39
        }
      ],
      "source": [
        "# Lets try to make prediction\n",
        "model.predict([17.0,18.0,19.0,20.0])"
      ]
    },
    {
      "cell_type": "markdown",
      "metadata": {
        "id": "ZNwRTEHnTIR3"
      },
      "source": [
        "## Evaluating a model\n",
        "\n",
        "In practice, a typical workflow you'll go through when building neural networks is :\n",
        "\n",
        "```\n",
        "Build a model -> fit it -> evaulate it -> tweak a model -> fit it -> evaluate it -> tweak a model -> fit it -> evaluate it ->tweak it ......\n",
        "```"
      ]
    },
    {
      "cell_type": "markdown",
      "metadata": {
        "id": "GnD12rKNaRoz"
      },
      "source": [
        "When it comes to evaluation thier are 3 words you should memorize:\n",
        "\n",
        ">\"Visualise, Visualise, Visualise\"\n",
        "\n",
        "Its a good idea to visualize:\n",
        "* The Data - What the data are we working with? What does it look like?\n",
        "\n",
        "* The model itself - What does our model look like?\n",
        "* The training of model - how does a model perform while it learns ?\n",
        "* The predictions of the model-  how to the predictions of a model line up against the ground truth ( original labels)?  \n"
      ]
    },
    {
      "cell_type": "code",
      "execution_count": null,
      "metadata": {
        "colab": {
          "base_uri": "https://localhost:8080/"
        },
        "id": "x8YMDM2Bb3Ky",
        "outputId": "98dba52c-0102-402f-957e-cbab5c2a616c"
      },
      "outputs": [
        {
          "output_type": "execute_result",
          "data": {
            "text/plain": [
              "<tf.Tensor: shape=(50,), dtype=int32, numpy=\n",
              "array([-100,  -96,  -92,  -88,  -84,  -80,  -76,  -72,  -68,  -64,  -60,\n",
              "        -56,  -52,  -48,  -44,  -40,  -36,  -32,  -28,  -24,  -20,  -16,\n",
              "        -12,   -8,   -4,    0,    4,    8,   12,   16,   20,   24,   28,\n",
              "         32,   36,   40,   44,   48,   52,   56,   60,   64,   68,   72,\n",
              "         76,   80,   84,   88,   92,   96], dtype=int32)>"
            ]
          },
          "metadata": {},
          "execution_count": 40
        }
      ],
      "source": [
        "# Make a bigger dataset\n",
        "X=tf.range(-100,100,4)\n",
        "X"
      ]
    },
    {
      "cell_type": "code",
      "execution_count": null,
      "metadata": {
        "id": "LAFT6EwHeQne"
      },
      "outputs": [],
      "source": [
        "# Make labels for the dataset\n",
        "y = X + 10"
      ]
    },
    {
      "cell_type": "code",
      "execution_count": null,
      "metadata": {
        "colab": {
          "base_uri": "https://localhost:8080/",
          "height": 448
        },
        "id": "RVk_mp8-fOCM",
        "outputId": "8f68fb26-383e-49d9-92b1-e7a90cb3e89b"
      },
      "outputs": [
        {
          "output_type": "execute_result",
          "data": {
            "text/plain": [
              "[<matplotlib.lines.Line2D at 0x7bc35b465630>]"
            ]
          },
          "metadata": {},
          "execution_count": 42
        },
        {
          "output_type": "display_data",
          "data": {
            "text/plain": [
              "<Figure size 640x480 with 1 Axes>"
            ],
            "image/png": "[encoded data removed]"
          },
          "metadata": {}
        }
      ],
      "source": [
        "# Visualise the data\n",
        "import matplotlib.pyplot as plt\n",
        "\n",
        "plt.plot(X,y)"
      ]
    },
    {
      "cell_type": "code",
      "execution_count": null,
      "metadata": {
        "colab": {
          "base_uri": "https://localhost:8080/",
          "height": 448
        },
        "id": "JbLtZGPbfha6",
        "outputId": "3bda5e1b-7c10-45bf-f04f-6c0a013381f4"
      },
      "outputs": [
        {
          "output_type": "execute_result",
          "data": {
            "text/plain": [
              "<matplotlib.collections.PathCollection at 0x7bc35b464610>"
            ]
          },
          "metadata": {},
          "execution_count": 43
        },
        {
          "output_type": "display_data",
          "data": {
            "text/plain": [
              "<Figure size 640x480 with 1 Axes>"
            ],
            "image/png": "[encoded data removed]"
          },
          "metadata": {}
        }
      ],
      "source": [
        "plt.scatter(X,y)"
      ]
    },
    {
      "cell_type": "markdown",
      "metadata": {
        "id": "J6pvCEzTfq55"
      },
      "source": [
        "### The data must be split into 3 sets\n",
        "\n",
        " (My version)\n",
        "\n",
        "* training set - These dataset must contain upto 70 to 80% of data\n",
        "\n",
        "* Evaluation set -  This dataset must contain upto 10 to 15% of data\n",
        "\n",
        "* Test set - This dataset must contain uptp 10 to 15% of data"
      ]
    },
    {
      "cell_type": "markdown",
      "metadata": {
        "id": "qy4joecegleA"
      },
      "source": [
        "### The 3 Sets\n",
        "\n",
        "* **Training set** - the model learns from this data, which is typically 70-80% of the total data you have available.\n",
        "\n",
        "* **Validation set** - the model gets tuned on this data, which is typically 10-15% of the data available.\n",
        "\n",
        "* **Test set** - the model gets evaluated on this data to test what is has learned , this set is typically 10-15% of the total data available.,"
      ]
    },
    {
      "cell_type": "code",
      "execution_count": null,
      "metadata": {
        "id": "Xu-WecCdg7lW"
      },
      "outputs": [],
      "source": []
    },
    {
      "cell_type": "code",
      "execution_count": null,
      "metadata": {
        "colab": {
          "base_uri": "https://localhost:8080/"
        },
        "id": "Ry0vCG85kZHX",
        "outputId": "5f9e71a4-52d1-40fa-a1ba-7a09a19acd75"
      },
      "outputs": [
        {
          "output_type": "execute_result",
          "data": {
            "text/plain": [
              "(40, 10)"
            ]
          },
          "metadata": {},
          "execution_count": 44
        }
      ],
      "source": [
        "# Split the data into train and test sets\n",
        "X_train= X[:40] # first 4000 are training samples (80% of the data)\n",
        "y_train=y[:40]\n",
        "\n",
        "X_test=X[40:] # last 1000 are test samples (10% of the data)\n",
        "y_test=y[40:]\n",
        "\n",
        "len(X_train),len(X_test)"
      ]
    },
    {
      "cell_type": "code",
      "execution_count": null,
      "metadata": {
        "colab": {
          "base_uri": "https://localhost:8080/"
        },
        "id": "nFBnRVgcmNoo",
        "outputId": "91b3b8ed-f5ae-451b-c78c-82cc749e9d3e"
      },
      "outputs": [
        {
          "output_type": "execute_result",
          "data": {
            "text/plain": [
              "(40, 10)"
            ]
          },
          "metadata": {},
          "execution_count": 45
        }
      ],
      "source": [
        "len(y_train),len(y_test)"
      ]
    },
    {
      "cell_type": "markdown",
      "metadata": {
        "id": "t4fwTo8PnFcf"
      },
      "source": [
        "### Visualising the data\n",
        "\n",
        "Now we have got our data in training and test sets... lets visualise it again!\n"
      ]
    },
    {
      "cell_type": "code",
      "execution_count": null,
      "metadata": {
        "colab": {
          "base_uri": "https://localhost:8080/",
          "height": 53
        },
        "id": "9UZF9W3Wn1Ew",
        "outputId": "181b7dcb-6e46-44a6-f782-90fd37dd70cf"
      },
      "outputs": [
        {
          "output_type": "execute_result",
          "data": {
            "text/plain": [
              "<Figure size 1000x700 with 0 Axes>"
            ]
          },
          "metadata": {},
          "execution_count": 46
        },
        {
          "output_type": "display_data",
          "data": {
            "text/plain": [
              "<Figure size 1000x700 with 0 Axes>"
            ]
          },
          "metadata": {}
        }
      ],
      "source": [
        "plt.figure(figsize=(10,7))"
      ]
    },
    {
      "cell_type": "code",
      "execution_count": null,
      "metadata": {
        "colab": {
          "base_uri": "https://localhost:8080/",
          "height": 430
        },
        "id": "Zj-gbZywoWay",
        "outputId": "fdc25015-9b1f-41ad-9c71-602541d5d7fc"
      },
      "outputs": [
        {
          "output_type": "display_data",
          "data": {
            "text/plain": [
              "<Figure size 640x480 with 1 Axes>"
            ],
            "image/png": "[encoded data removed]"
          },
          "metadata": {}
        }
      ],
      "source": [
        "# Plot training data in blue\n",
        "plt.scatter(X_train,y_train,c=\"b\",label=\"Training Data\")\n",
        "\n",
        "#Plot test data in green\n",
        "plt.scatter(X_test,y_test,c=\"g\",label=\"Testing Data\")\n",
        "\n",
        "#Show a legend\n",
        "plt.legend();"
      ]
    },
    {
      "cell_type": "code",
      "execution_count": null,
      "metadata": {
        "id": "_Eg8naGtpBNS"
      },
      "outputs": [],
      "source": [
        "# Lets have a look at how to build a neural network for our data\n",
        "# 1.Create a model\n",
        "model=tf.keras.Sequential([\n",
        "    tf.keras.layers.Dense(100,activation=\"relu\"),\n",
        "    tf.keras.layers.Dense(1)\n",
        "])\n",
        "\n",
        "# 2. Compile a model\n",
        "model.compile(loss=tf.keras.losses.mae,\n",
        "              optimizer=tf.keras.optimizers.SGD(),\n",
        "              metrics=[\"mae\"])\n",
        "\n",
        "# 3. Fit the model\n",
        "# model.fit(tf.expand_dims(X_train,axis=1),y_train,epochs=100)"
      ]
    },
    {
      "cell_type": "markdown",
      "metadata": {
        "id": "_RNNWSUTtiuY"
      },
      "source": [
        "### Viualising the model"
      ]
    },
    {
      "cell_type": "code",
      "execution_count": null,
      "metadata": {
        "colab": {
          "base_uri": "https://localhost:8080/",
          "height": 341
        },
        "id": "PU62IPxGt_JZ",
        "outputId": "71dcb8f0-70cc-4c30-ca57-514037411775"
      },
      "outputs": [
        {
          "output_type": "error",
          "ename": "ValueError",
          "evalue": "ignored",
          "traceback": [
            "\u001b[0;31m---------------------------------------------------------------------------\u001b[0m",
            "\u001b[0;31mValueError\u001b[0m                                Traceback (most recent call last)",
            "\u001b[0;32m<ipython-input-49-5f15418b3570>\u001b[0m in \u001b[0;36m<cell line: 1>\u001b[0;34m()\u001b[0m\n\u001b[0;32m----> 1\u001b[0;31m \u001b[0mmodel\u001b[0m\u001b[0;34m.\u001b[0m\u001b[0msummary\u001b[0m\u001b[0;34m(\u001b[0m\u001b[0;34m)\u001b[0m\u001b[0;34m\u001b[0m\u001b[0;34m\u001b[0m\u001b[0m\n\u001b[0m",
            "\u001b[0;32m/usr/local/lib/python3.10/dist-packages/keras/engine/training.py\u001b[0m in \u001b[0;36msummary\u001b[0;34m(self, line_length, positions, print_fn, expand_nested, show_trainable, layer_range)\u001b[0m\n\u001b[1;32m   3227\u001b[0m         \"\"\"\n\u001b[1;32m   3228\u001b[0m         \u001b[0;32mif\u001b[0m \u001b[0;32mnot\u001b[0m \u001b[0mself\u001b[0m\u001b[0;34m.\u001b[0m\u001b[0mbuilt\u001b[0m\u001b[0;34m:\u001b[0m\u001b[0;34m\u001b[0m\u001b[0;34m\u001b[0m\u001b[0m\n\u001b[0;32m-> 3229\u001b[0;31m             raise ValueError(\n\u001b[0m\u001b[1;32m   3230\u001b[0m                 \u001b[0;34m\"This model has not yet been built. \"\u001b[0m\u001b[0;34m\u001b[0m\u001b[0;34m\u001b[0m\u001b[0m\n\u001b[1;32m   3231\u001b[0m                 \u001b[0;34m\"Build the model first by calling `build()` or by calling \"\u001b[0m\u001b[0;34m\u001b[0m\u001b[0;34m\u001b[0m\u001b[0m\n",
            "\u001b[0;31mValueError\u001b[0m: This model has not yet been built. Build the model first by calling `build()` or by calling the model on a batch of data."
          ]
        }
      ],
      "source": [
        "model.summary()"
      ]
    },
    {
      "cell_type": "code",
      "execution_count": null,
      "metadata": {
        "id": "1oXuNx0NuDH8"
      },
      "outputs": [],
      "source": [
        "model.build(tf.expand_dims(X_train,axis=1))"
      ]
    },
    {
      "cell_type": "code",
      "execution_count": null,
      "metadata": {
        "id": "3c82jzjauTWI"
      },
      "outputs": [],
      "source": [
        "# Lets create a model which builds automatically by defining the input_shape argument in the first layer\n",
        "tf.random.set_seed(42)\n",
        "\n",
        "# 1.Create a model (same as above)\n",
        "model=tf.keras.Sequential([\n",
        "    tf.keras.layers.Dense(3,input_shape=[1])\n",
        "])\n",
        "\n",
        "# 2.Compile a model (same as above )\n",
        "model.compile(loss=tf.keras.losses.mae,\n",
        "              optimizer=tf.keras.optimizers.SGD(),\n",
        "              metrics=[\"mae\"])\n",
        "\n",
        "# 3.fitting a model\n",
        "\n",
        "model.fit(tf.expand_dims(X_train,axis=1),y_train,epochs=100)"
      ]
    },
    {
      "cell_type": "code",
      "execution_count": null,
      "metadata": {
        "id": "dKHmJo0Ju6rN"
      },
      "outputs": [],
      "source": [
        "model.summary()"
      ]
    },
    {
      "cell_type": "markdown",
      "metadata": {
        "id": "pCSVA2_xwx3Z"
      },
      "source": [
        "## 24 August 2023"
      ]
    },
    {
      "cell_type": "code",
      "execution_count": null,
      "metadata": {
        "id": "-P06KwLOTJZD"
      },
      "outputs": [],
      "source": [
        "# Lets have a look on how to build a neural network for our data\n",
        "import tensorflow as tf\n",
        "import numpy as np\n",
        "import pandas as pd\n",
        "import matplotlib.pyplot as plt\n",
        "X=tf.range(-100,100,4)\n",
        "y=tf.range(-100,100,4)\n",
        "X_train=X[:40]\n",
        "y_train=y[:40]\n",
        "X_test=X[40:]\n",
        "y_test=y[40:]\n",
        "\n",
        "# 1. Create a model\n",
        "model=tf.keras.Sequential([\n",
        "    tf.keras.layers.Dense(3,input_shape=[1])\n",
        "])\n",
        "\n",
        "# 2. Compile a model\n",
        "model.compile(loss=tf.keras.losses.mae,\n",
        "              optimizer=tf.keras.optimizers.SGD(),\n",
        "              metrics=[\"mae\"])\n",
        "# 2. fitting a model\n"
      ]
    },
    {
      "cell_type": "markdown",
      "metadata": {
        "id": "vppO1PqnTwCN"
      },
      "source": [
        "### Visualizing the model"
      ]
    },
    {
      "cell_type": "code",
      "execution_count": null,
      "metadata": {
        "id": "krQ2ied8UtI7"
      },
      "outputs": [],
      "source": [
        "model.summary()"
      ]
    },
    {
      "cell_type": "code",
      "execution_count": null,
      "metadata": {
        "id": "z4SQaASZWEPv"
      },
      "outputs": [],
      "source": [
        "X_train[0].shape ## Its a scalar value"
      ]
    },
    {
      "cell_type": "code",
      "execution_count": null,
      "metadata": {
        "id": "a2CC2b0nUv6O"
      },
      "outputs": [],
      "source": [
        "# Lets create a model  which builds automatically by defining the input_shape argument\n",
        "tf.random.set_seed(42)\n",
        "\n",
        "# 1.Create a model\n",
        "model=tf.keras.Sequential([\n",
        "    tf.keras.layers.Dense(100,activation=\"relu\",input_shape=[1]),\n",
        "    tf.keras.layers.Dense(1,name=\"output\")\n",
        "],name=\"Model_1\")\n",
        "\n",
        "# 2. Compile a model\n",
        "\n",
        "model.compile(loss=tf.keras.losses.mae,\n",
        "              optimizer=tf.keras.optimizers.SGD(),\n",
        "              metrics=[\"mae\"])\n",
        "\n",
        "# # 3. fitting the model\n",
        "\n",
        "# model.fit(tf.expand_dims(X_train,axis=1),y_train,epochs=10)"
      ]
    },
    {
      "cell_type": "code",
      "execution_count": null,
      "metadata": {
        "id": "1U8lC9UFow5Z"
      },
      "outputs": [],
      "source": [
        "model.summary()"
      ]
    },
    {
      "cell_type": "markdown",
      "metadata": {
        "id": "bLlVf68MpcUI"
      },
      "source": [
        "* Total params - total number of parameters in the model.\n",
        "* Trainable parameters - these are the parameters  (Patterns) the model can update as it trains.\n",
        "* Non-trainable params - these parameters aren't updated during training (this is typical when you bring in already learn patterns or parameters from other models during **Transfer Learning**).\n",
        "\n",
        "📖**Resource**:\n",
        "For a more in-depth overview of the trainable parameters within a layer, check out MIT's introduction to deep learning."
      ]
    },
    {
      "cell_type": "markdown",
      "metadata": {
        "id": "io7yh13np-QE"
      },
      "source": [
        "## Trainiable params are those have their values calculated and updated during the training."
      ]
    },
    {
      "cell_type": "code",
      "execution_count": null,
      "metadata": {
        "id": "yoxucpm20FXh"
      },
      "outputs": [],
      "source": [
        "# Lets fit our model to the training data\n",
        "# model.fit(tf.expand_dims(X_train,axis=1),y_train,epochs=10,verbose=0)"
      ]
    },
    {
      "cell_type": "code",
      "execution_count": null,
      "metadata": {
        "id": "bMkSLBWR12nV"
      },
      "outputs": [],
      "source": [
        "# Get a summary of our model\n",
        "model.summary()"
      ]
    },
    {
      "cell_type": "code",
      "execution_count": null,
      "metadata": {
        "id": "T6bIj7LT2mDK"
      },
      "outputs": [],
      "source": [
        "from tensorflow.keras.utils import plot_model\n",
        "\n",
        "plot_model(model=model,show_shapes=True)"
      ]
    },
    {
      "cell_type": "markdown",
      "metadata": {
        "id": "y9QILWNr3NZz"
      },
      "source": [
        "## Visualizing model predictions\n",
        "\n",
        "To Visualise predictions its a good idea to plot them against the ground truth labels.\n",
        "\n",
        "Often you'll see this in the form of 'y_test' or 'y_true' versus 'y_pred'(ground truth vs your models predictions)."
      ]
    },
    {
      "cell_type": "code",
      "execution_count": null,
      "metadata": {
        "id": "vE0YKJPODgx3"
      },
      "outputs": [],
      "source": [
        "# Make a predictions\n",
        "y_pred = model.predict(X_test)\n",
        "y_pred"
      ]
    },
    {
      "cell_type": "code",
      "execution_count": null,
      "metadata": {
        "id": "Yq-wxK1FDv_8"
      },
      "outputs": [],
      "source": [
        "y_test"
      ]
    },
    {
      "cell_type": "markdown",
      "metadata": {
        "id": "2-9F2_m7EL6e"
      },
      "source": [
        "🔑 **Note:** If you feel like you're going to reuse some kind of functionality in the future, its a good idea to turn it into a function."
      ]
    },
    {
      "cell_type": "code",
      "execution_count": null,
      "metadata": {
        "id": "SrGQM_TwE1ry"
      },
      "outputs": [],
      "source": [
        "# Lets create a plotting function\n",
        "def plot_prediction(training_data=X_train,\n",
        "                    train_labels=y_train,\n",
        "                    test_data=X_test,\n",
        "                    test_labels=y_test,\n",
        "                    predictions=y_pred):\n",
        "   \"\"\"\n",
        "   plots training data,test data and compare predictions to ground truth\n",
        "   \"\"\"\n",
        "   plt.figure(figsize=(10,7))\n",
        "   # plot training data in blue\n",
        "   plt.scatter(training_data,train_labels,c=\"b\",label=\"Training Data\")\n",
        "   # Plot the testing data in green\n",
        "   plt.scatter(test_data,test_labels,c=\"g\",label=\"Testing Data\")\n",
        "   # Plot models predictions in red\n",
        "   plt.scatter(test_data,predictions,c=\"r\",label=\"Predictions\")\n",
        "   # Show the legend()\n",
        "   plt.legend();"
      ]
    },
    {
      "cell_type": "code",
      "execution_count": null,
      "metadata": {
        "id": "qFReAhEmG5rI"
      },
      "outputs": [],
      "source": [
        "plot_prediction()"
      ]
    },
    {
      "cell_type": "markdown",
      "metadata": {
        "id": "IYVRyQpcAenc"
      },
      "source": [
        "### Evaulating our models predictions with regression evaluation metrics\n",
        "\n",
        "Depending on the problem you're working on, there will be different evaluation metrics to evaluate your model's performance.\n",
        "\n",
        "Since we're working on a regression two of the main metrics\n",
        "* MAE - Mean Absolute Error, on average how wrong each of my models predictions.\n",
        "\n",
        "* MSE - Mean Square Error \"Square the avg errors\"\n"
      ]
    },
    {
      "cell_type": "markdown",
      "metadata": {
        "id": "IeMPssHCAehe"
      },
      "source": [
        "## 25 August 2023"
      ]
    },
    {
      "cell_type": "code",
      "execution_count": null,
      "metadata": {
        "id": "8WNT_HUPE3fx"
      },
      "outputs": [],
      "source": [
        "#imports\n",
        "import tensorflow as tf\n",
        "import numpy as np\n",
        "import pandas as pd\n",
        "import matplotlib.pyplot as plt\n"
      ]
    },
    {
      "cell_type": "code",
      "execution_count": null,
      "metadata": {
        "id": "SrlKLdkFFAPI"
      },
      "outputs": [],
      "source": [
        "#Creating a tensors\n",
        "X=tf.range(100,200,2)\n",
        "X"
      ]
    },
    {
      "cell_type": "code",
      "execution_count": null,
      "metadata": {
        "id": "vzgAtuZnFLTZ"
      },
      "outputs": [],
      "source": [
        "\n",
        "y=X+ 2"
      ]
    },
    {
      "cell_type": "code",
      "execution_count": null,
      "metadata": {
        "id": "U6ByehOTFPCA"
      },
      "outputs": [],
      "source": [
        "y"
      ]
    },
    {
      "cell_type": "code",
      "execution_count": null,
      "metadata": {
        "id": "WynMICIgFQTb"
      },
      "outputs": [],
      "source": [
        "\n",
        "X_train=X[:40]\n",
        "y_train=y[:40]\n",
        "X_test=X[40:]\n",
        "y_test=y[40:]"
      ]
    },
    {
      "cell_type": "code",
      "execution_count": null,
      "metadata": {
        "id": "kkho8RqOFevd"
      },
      "outputs": [],
      "source": [
        "# 1.Create a model\n",
        "model=tf.keras.Sequential([\n",
        "    tf.keras.layers.Dense(1),\n",
        "    tf.keras.layers.Dense(1)\n",
        "])\n",
        "\n",
        "# 2 .Compile a model\n",
        "model.compile(loss=tf.keras.losses.mae,\n",
        "              optimizer=tf.keras.optimizers.Adam(learning_rate=0.001),\n",
        "              metrics=\"mae\")\n",
        "# 3.Fitting a model\n",
        "model.fit(tf.expand_dims(X_train,axis=1),y_train,epochs=100)"
      ]
    },
    {
      "cell_type": "code",
      "execution_count": null,
      "metadata": {
        "id": "gcmGGe67GfTG"
      },
      "outputs": [],
      "source": [
        "y_pred=model.predict(X_test)"
      ]
    },
    {
      "cell_type": "code",
      "execution_count": null,
      "metadata": {
        "id": "lvjvKOlHIUsM"
      },
      "outputs": [],
      "source": [
        "y_pred,y_test"
      ]
    },
    {
      "cell_type": "code",
      "execution_count": null,
      "metadata": {
        "id": "X4USZildIquC"
      },
      "outputs": [],
      "source": [
        "# Evaluate the model on the best\n",
        "model.evaluate(X_test,y_test)"
      ]
    },
    {
      "cell_type": "code",
      "execution_count": null,
      "metadata": {
        "id": "Pq6qblORKJ6H"
      },
      "outputs": [],
      "source": [
        "  # Calculate the mean absolute error\n",
        "  tf.metrics.mean_absolute_error(y_test,y_pred)"
      ]
    },
    {
      "cell_type": "code",
      "execution_count": null,
      "metadata": {
        "id": "sAfonswSI5cb"
      },
      "outputs": [],
      "source": [
        "y_pred=tf.constant(tf.reshape(y_pred,(10)))"
      ]
    },
    {
      "cell_type": "code",
      "execution_count": null,
      "metadata": {
        "id": "-fOOzyGbKAxJ"
      },
      "outputs": [],
      "source": [
        "y_pred.shape,y_test.shape"
      ]
    },
    {
      "cell_type": "code",
      "execution_count": null,
      "metadata": {
        "id": "q3t9qolfOAsq"
      },
      "outputs": [],
      "source": [
        "# Calculate mean abolute error\n",
        "mae=tf.metrics.mean_absolute_error(y_true=y_test,y_pred=y_pred)"
      ]
    },
    {
      "cell_type": "code",
      "execution_count": null,
      "metadata": {
        "id": "i2hT-pyTOnfh"
      },
      "outputs": [],
      "source": [
        "mae"
      ]
    },
    {
      "cell_type": "code",
      "execution_count": null,
      "metadata": {
        "id": "XcrBqa94O18y"
      },
      "outputs": [],
      "source": [
        "# Calculate the mean square error\n",
        "mse=tf.metrics.mean_squared_error(y_true=y_test,\n",
        "                                  y_pred=y_pred)\n",
        "mse"
      ]
    },
    {
      "cell_type": "code",
      "execution_count": null,
      "metadata": {
        "id": "zRK8rr4BPwVU"
      },
      "outputs": [],
      "source": [
        "\n",
        "# Make some functions to reuse MAE and MSE\n",
        "def mae(y_true,y_pred):\n",
        "  return tf.metrics.mean_absolute_error(y_true=y_true,y_pred=y_pred)\n",
        "\n",
        "def mse(y_true,y_pred):\n",
        "  return tf.metrics.mean_squared_error(y_true=y_true,y_pred=y_pred)"
      ]
    },
    {
      "cell_type": "markdown",
      "metadata": {
        "id": "yRxARB_CQtZL"
      },
      "source": [
        "### Running experiments to improve our model\n",
        "\n",
        "```\n",
        "Build a model->fit it ->evaluate it -> tweak it-> fit it -> evaluate it -> tweak it -> fit it -> evalaute it -> tweak it\n",
        "```\n",
        "\n",
        "1. Get more data -  get more examples for your model to train on ( more opportunities to learn patterns or relationships between features and labels)\n",
        "\n",
        "2. Make Your model larger (using a more complex model) - this might come in the form of more layers or more hidden units in each layer.\n",
        "3. Train for longer -  give your model more of a chance to find patterns in the data.\n",
        "\n",
        "Lets do 3 modelling experiments :\n",
        "\n",
        "1. `model_1` -  same as the original model ,1 layer ,trained for 100 epochs.\n",
        "2. `model_2` - 2 layers, trained for 100 epochs\n",
        "3. `model_3` - 2 layers, trained for 500 epochs\n",
        "\n",
        "**Build model_1**"
      ]
    },
    {
      "cell_type": "code",
      "execution_count": null,
      "metadata": {
        "id": "nrk65GXgSsO0"
      },
      "outputs": [],
      "source": [
        "# set the random seed\n",
        "tf.random.set_seed(42)\n",
        "\n",
        "# 1.Create a model\n",
        "model_1=tf.keras.Sequential([\n",
        "    tf.keras.layers.Dense(1)\n",
        "])\n",
        "\n",
        "# 2. Compile a model\n",
        "model_1.compile(loss=tf.keras.losses.mae,\n",
        "                optimizer=tf.keras.optimizers.SGD(),\n",
        "                metrics=[\"mae\"])\n",
        "# 3. Fitting a model\n",
        "\n",
        "model_1.fit(tf.expand_dims(X_train,axis=1),y_train,epochs=100)"
      ]
    },
    {
      "cell_type": "code",
      "execution_count": null,
      "metadata": {
        "id": "vL6ktUQ_UwOm"
      },
      "outputs": [],
      "source": [
        "# Make and plot predictions for model_1\n",
        "y_preds_1=model_1.predict(X_test)\n",
        "plot_prediction(predictions=y_preds_1)"
      ]
    },
    {
      "cell_type": "code",
      "execution_count": null,
      "metadata": {
        "id": "mRsl83tOYgq2"
      },
      "outputs": [],
      "source": [
        "# Calculate model_1 evaluation metrics\n",
        "mae_1 = mae(y_test,tf.squeeze(y_preds_1))\n",
        "mse_1 = mse(y_test,tf.squeeze(y_preds_1))\n",
        "mae_1,mse_1"
      ]
    },
    {
      "cell_type": "markdown",
      "metadata": {
        "id": "5EDZFAgLdFf_"
      },
      "source": [
        "\n",
        "\n",
        "```\n",
        "# This is formatted as code\n",
        "```\n",
        "\n",
        "**Build `model_2`**\n",
        "\n",
        "* 2 dense layers ,trained for 100 epochs"
      ]
    },
    {
      "cell_type": "code",
      "execution_count": null,
      "metadata": {
        "id": "tgnH3LWbf249"
      },
      "outputs": [],
      "source": [
        "# Set a random seed\n",
        "tf.random.set_seed(42)\n",
        "\n",
        "# Create a model\n",
        "model_2=tf.keras.Sequential([\n",
        "    tf.keras.layers.Dense(50),\n",
        "    tf.keras.layers.Dense(1)\n",
        "])\n",
        "\n",
        "# Compile a model\n",
        "model_2.compile(loss=tf.keras.losses.mae,\n",
        "                optimizer=tf.keras.optimizers.SGD(),\n",
        "                metrics=[\"mae\"])\n",
        "\n",
        "# fitting a model\n",
        "model_2.fit(tf.expand_dims(X_train,axis=1),y_train,epochs=100)"
      ]
    },
    {
      "cell_type": "code",
      "execution_count": null,
      "metadata": {
        "id": "_2s8KqSakMcP"
      },
      "outputs": [],
      "source": [
        "# Make and plot predictions of models\n",
        "y_preds_2=model_2.predict(X_test)\n",
        "y_preds_2"
      ]
    },
    {
      "cell_type": "code",
      "execution_count": null,
      "metadata": {
        "id": "u796Ay0rdp3D"
      },
      "outputs": [],
      "source": [
        "plot_prediction(predictions=y_preds_1),plot_prediction(predictions=y_preds_2)"
      ]
    },
    {
      "cell_type": "code",
      "execution_count": null,
      "metadata": {
        "id": "G8ZAsmeoeNCd"
      },
      "outputs": [],
      "source": [
        "# Calculation model_2 evaluation metrics\n",
        "mae_2=mae(y_test,tf.squeeze(y_preds_2))"
      ]
    },
    {
      "cell_type": "code",
      "execution_count": null,
      "metadata": {
        "id": "mEHV9wJOgEPG"
      },
      "outputs": [],
      "source": [
        "\n",
        "mae_2"
      ]
    },
    {
      "cell_type": "code",
      "execution_count": null,
      "metadata": {
        "id": "2IcwDp5XgGLM"
      },
      "outputs": [],
      "source": [
        "mse_2=mse(y_test,tf.squeeze(y_preds_2))"
      ]
    },
    {
      "cell_type": "code",
      "execution_count": null,
      "metadata": {
        "id": "ZloL13c7gLoK"
      },
      "outputs": [],
      "source": [
        "mse_2,mae_2"
      ]
    },
    {
      "cell_type": "code",
      "execution_count": null,
      "metadata": {
        "id": "dDiHZ1y0gMbF"
      },
      "outputs": [],
      "source": [
        "mse_1,mae_1"
      ]
    },
    {
      "cell_type": "markdown",
      "metadata": {
        "id": "eW7Sy4YJigxd"
      },
      "source": [
        "**Build `model_3`**\n",
        "\n",
        "* 2 Layers ,trained for 500 epochs"
      ]
    },
    {
      "cell_type": "code",
      "execution_count": null,
      "metadata": {
        "id": "wscyCdRkiofI"
      },
      "outputs": [],
      "source": [
        "#Set seed\n",
        "tf.random.set_seed(42)\n",
        "\n",
        "# 1.Create model_3\n",
        "model_3=tf.keras.Sequential([\n",
        "    tf.keras.layers.Dense(60),\n",
        "    tf.keras.layers.Dense(1)\n",
        "])\n",
        "\n",
        "# 2.Compile a model\n",
        "model_3.compile(loss=tf.keras.losses.mae,\n",
        "                optimizer=tf.keras.optimizers.SGD(),\n",
        "                metrics=['mae'])\n",
        "\n",
        "# 3.fitting a model\n",
        "model_3.fit(tf.expand_dims(X_train,axis=1),y_train,epochs=150)"
      ]
    },
    {
      "cell_type": "code",
      "execution_count": null,
      "metadata": {
        "id": "8t3M0ldRjiiv"
      },
      "outputs": [],
      "source": [
        "#Make and plot some predictions\n",
        "y_preds_3=model_3.predict(X_test)\n",
        "plot_prediction(predictions=y_preds_3)"
      ]
    },
    {
      "cell_type": "code",
      "execution_count": null,
      "metadata": {
        "id": "TNFd0iwNntaY"
      },
      "outputs": [],
      "source": [
        "# Calculate model_3 evaluation metrics\n",
        "mae_3=mae(y_test,tf.squeeze(y_preds_3))\n",
        "mae_3"
      ]
    },
    {
      "cell_type": "code",
      "execution_count": null,
      "metadata": {
        "id": "6ZI8QPhBpXba"
      },
      "outputs": [],
      "source": [
        "mse_3=mse(y_test,tf.squeeze(y_preds_3))"
      ]
    },
    {
      "cell_type": "code",
      "execution_count": null,
      "metadata": {
        "id": "Mbqv88JQpcwg"
      },
      "outputs": [],
      "source": [
        "\n",
        "\n",
        "\n",
        "mse_3,mae_3"
      ]
    },
    {
      "cell_type": "markdown",
      "metadata": {
        "id": "zptJbmGHpdXt"
      },
      "source": [
        "🔑 **Note** - You want to start with small experiments and make sure they work and then increase thier scale when necessary."
      ]
    },
    {
      "cell_type": "markdown",
      "metadata": {
        "id": "i_gx04QUq_61"
      },
      "source": [
        "### Comparing our models results of our experiments\n",
        "#### We've run a few experiments, lets compare the results.\n"
      ]
    },
    {
      "cell_type": "markdown",
      "metadata": {
        "id": "PH9MATTjrE2m"
      },
      "source": [
        "## 26 August 2023"
      ]
    },
    {
      "cell_type": "code",
      "execution_count": null,
      "metadata": {
        "id": "WtqWDxrcrg9l"
      },
      "outputs": [],
      "source": [
        "import pandas as pd\n",
        "import tensorflow as tf\n",
        "import numpy as np\n",
        "import matplotlib.pyplot as plt"
      ]
    },
    {
      "cell_type": "code",
      "execution_count": null,
      "metadata": {
        "id": "38uUir5-sNHM"
      },
      "outputs": [],
      "source": [
        "\n",
        "# Create a dataset\n",
        "X=tf.range(-200,300,5)\n",
        "y=tf.range(-200,300,5)\n",
        "X,y"
      ]
    },
    {
      "cell_type": "code",
      "execution_count": null,
      "metadata": {
        "id": "_8u1Dz80s9bP"
      },
      "outputs": [],
      "source": [
        "y=(X+120)*2\n",
        "y"
      ]
    },
    {
      "cell_type": "code",
      "execution_count": null,
      "metadata": {
        "id": "jPvQmM8QtL_2"
      },
      "outputs": [],
      "source": [
        "X_train=X[:80]\n",
        "y_train=y[:80]\n",
        "X_test=X[80:]\n",
        "y_test=y[80:]"
      ]
    },
    {
      "cell_type": "markdown",
      "metadata": {
        "id": "DE-HeC0FtYgn"
      },
      "source": [
        "\n",
        "# Model_1"
      ]
    },
    {
      "cell_type": "code",
      "execution_count": null,
      "metadata": {
        "id": "8X3HlN-stb7o"
      },
      "outputs": [],
      "source": [
        "# 1.Create a model\n",
        "model_1=tf.keras.Sequential([\n",
        "    tf.keras.layers.Dense(1)\n",
        "])\n",
        "\n",
        "# 2. Compile a model\n",
        "model_1.compile(loss=tf.keras.losses.mae,\n",
        "                optimizer=tf.keras.optimizers.SGD(),\n",
        "                metrics=[\"mae\"])\n",
        "\n",
        "# 3. fitting a model\n",
        "\n",
        "model_1.fit(tf.expand_dims(X_train,axis=1),y_train,epochs=100)"
      ]
    },
    {
      "cell_type": "code",
      "execution_count": null,
      "metadata": {
        "id": "Cn_cnGJvt7Tr"
      },
      "outputs": [],
      "source": [
        "# Model_2\n",
        "model_2=tf.keras.Sequential([\n",
        "    tf.keras.layers.Dense(100),\n",
        "    tf.keras.layers.Dense(1)\n",
        "])\n",
        "model_2.compile(loss=tf.keras.losses.mae,\n",
        "                optimizer=tf.keras.optimizers.SGD(),\n",
        "                metrics=[\"mae\"])\n",
        "model_2.fit(tf.expand_dims(X_train,axis=1),y_train,epochs=100)"
      ]
    },
    {
      "cell_type": "code",
      "execution_count": null,
      "metadata": {
        "id": "g52ziq-_uk7U"
      },
      "outputs": [],
      "source": [
        "# Model_3\n",
        "model_3=tf.keras.Sequential([\n",
        "    tf.keras.layers.Dense(100),\n",
        "    tf.keras.layers.Dense(1)\n",
        "])\n",
        "model_3.compile(loss=tf.keras.losses.mae,\n",
        "                optimizer=tf.keras.optimizers.SGD(),\n",
        "                metrics=[\"mae\"])\n",
        "model_3.fit(tf.expand_dims(X_train,axis=1),y_train,epochs=200)"
      ]
    },
    {
      "cell_type": "code",
      "execution_count": null,
      "metadata": {
        "id": "s3bm9hJN6wkK"
      },
      "outputs": [],
      "source": [
        "# Make and plot some predictions\n",
        "y_preds_3=model_3.predict(X_test)\n",
        "y_preds_2=model_2.predict(X_test)\n",
        "y_preds_1=model_1.predict(X_test)\n",
        "plot_prediction(predictions=y_preds_3)\n",
        "plot_prediction(predictions=y_preds_2)\n",
        "plot_prediction(predictions=y_preds_1)"
      ]
    },
    {
      "cell_type": "code",
      "execution_count": null,
      "metadata": {
        "id": "CYSUlzztDF4r"
      },
      "outputs": [],
      "source": [
        "mae_1=mae(y_test,tf.squeeze(y_preds_1))\n",
        "mse_1=mse(y_test,tf.squeeze(y_preds_1))\n",
        "mae_2=mae(y_test,tf.squeeze(y_preds_2))\n",
        "mse_2=mse(y_test,tf.squeeze(y_preds_2))\n",
        "mae_3=mae(y_test,tf.squeeze(y_preds_3))\n",
        "mse_3=mse(y_test,tf.squeeze(y_preds_3))\n"
      ]
    },
    {
      "cell_type": "code",
      "execution_count": null,
      "metadata": {
        "id": "myXtkGHk9OM0"
      },
      "outputs": [],
      "source": [
        "# Lets compare our model's results using a pandas DataFrame\n",
        "import pandas as pd\n",
        "\n",
        "model_results =[ [\"Model_1\",mae_1.numpy(),mse_1.numpy()],\n",
        "                 [\"Model_2\",mae_2.numpy(),mse_2.numpy()],\n",
        "                 [\"Model_3\",mae_3.numpy(),mse_3.numpy()]]\n",
        "\n",
        "all_results=pd.DataFrame(model_results,columns=[\"Model\",\"Mae\",\"Mse\"])\n",
        "all_results"
      ]
    },
    {
      "cell_type": "markdown",
      "metadata": {
        "id": "A9mrNIPyFAYF"
      },
      "source": [
        "Looks like `model_2` performed the best..."
      ]
    },
    {
      "cell_type": "code",
      "execution_count": null,
      "metadata": {
        "id": "8hI-hi74B7PR"
      },
      "outputs": [],
      "source": [
        "model_2.summary()"
      ]
    },
    {
      "cell_type": "markdown",
      "metadata": {
        "id": "fjJtTEupEief"
      },
      "source": [
        "> 🔑 **Note** - One of your main goals should be to minimize the time between your experiments.\n",
        "The more experiments you do, the more things you'll figure out which don't work and in turn, get closer to figuring out what does work. Remember, the machine learning practioner's motto:\"experiment,experiment,experiment\""
      ]
    },
    {
      "cell_type": "markdown",
      "metadata": {
        "id": "QGarL5IXFiF9"
      },
      "source": [
        "## Tracking your experiment\n",
        "\n",
        "One really good habit in machine learning modelling is to track the results of your experiments.\n",
        "\n",
        "And when doing so, it can be tedious if you're running lots of experiments.\n",
        "\n",
        "Luckily,there are tools help us!\n",
        "\n",
        "📖**Resources:** - As you build more models, you'll want to look into using:\n",
        "\n",
        "*  TensorBoard- a component of the Tensorflow library to help track modelling experiments (we'll see this one later)\n",
        "* Weights & Biases - a tool for tracking all of kinds of machine learning experiments (plugs straight into TensorBoard).\n"
      ]
    },
    {
      "cell_type": "markdown",
      "metadata": {
        "id": "lRY_JkpGm4-O"
      },
      "source": [
        "## 4 Sept 2023\n",
        "### Saving our models\n",
        "\n",
        "Saving our models allows us to use them outside of Google Collab (or wherever they were trained) such as in a web application or a mobile app.\n",
        "\n",
        "There 2 main formats we can save our model's too:\n",
        "1. The SavedModel Format\n",
        "2. The HDF5 format"
      ]
    },
    {
      "cell_type": "code",
      "execution_count": null,
      "metadata": {
        "id": "71ipZfxJm3Zz"
      },
      "outputs": [],
      "source": [
        "# Save the model using SavedModel Format\n",
        "model_2.save(\"Best_model_SavedModel_format\")"
      ]
    },
    {
      "cell_type": "code",
      "execution_count": null,
      "metadata": {
        "id": "FD2OjyBcpUnb"
      },
      "outputs": [],
      "source": [
        "# Save the model using HDF5 format\n",
        "model_2.save(\"Best_model_HDF5_format.h5\")"
      ]
    },
    {
      "cell_type": "markdown",
      "metadata": {
        "id": "gbqRrJVyrLrJ"
      },
      "source": [
        "## Loading in a saved model"
      ]
    },
    {
      "cell_type": "code",
      "execution_count": null,
      "metadata": {
        "id": "e_7VyVbCr2OI"
      },
      "outputs": [],
      "source": [
        "# Load in the SavedModel format model\n",
        "loaded_saved_Model_format=tf.keras.models.load_model(\"/content/Best_model_SavedModel_format\")\n"
      ]
    },
    {
      "cell_type": "code",
      "execution_count": null,
      "metadata": {
        "id": "w90h-3IHsUM1"
      },
      "outputs": [],
      "source": [
        "loaded_saved_Model_format.summary(),model_2.summary()"
      ]
    },
    {
      "cell_type": "code",
      "execution_count": null,
      "metadata": {
        "id": "z0tjStaDsj5X"
      },
      "outputs": [],
      "source": [
        "# Compare model_2 predicitions with SavedModel format model predictions\n",
        "model_2_preds=model_2.predict(X_test)"
      ]
    },
    {
      "cell_type": "code",
      "execution_count": null,
      "metadata": {
        "id": "QkZE_Ly9tPKd"
      },
      "outputs": [],
      "source": [
        "loaded_SavedModel_format_preds=loaded_saved_Model_format.predict(X_test)\n",
        "model_2_preds==loaded_saved_Model_format"
      ]
    },
    {
      "cell_type": "code",
      "execution_count": null,
      "metadata": {
        "id": "MlUwUsXWtg6b"
      },
      "outputs": [],
      "source": [
        "model_2_preds-loaded_SavedModel_format_preds"
      ]
    },
    {
      "cell_type": "code",
      "execution_count": null,
      "metadata": {
        "id": "5LcoahTQtpfO"
      },
      "outputs": [],
      "source": [
        "mae(y_test,tf.squeeze(model_2_preds)) ==mae(y_test,tf.squeeze(loaded_SavedModel_format_preds))"
      ]
    },
    {
      "cell_type": "code",
      "execution_count": null,
      "metadata": {
        "id": "ReGW2ZHDt-7C"
      },
      "outputs": [],
      "source": [
        "model_2_preds==loaded_SavedModel_format_preds\n"
      ]
    },
    {
      "cell_type": "code",
      "execution_count": null,
      "metadata": {
        "id": "PkdGCZ2euvt3"
      },
      "outputs": [],
      "source": [
        "# Load in a model using the .h5 format\n",
        "loaded_h5_model=tf.keras.models.load_model(\"/content/Best_model_HDF5_format.h5\")"
      ]
    },
    {
      "cell_type": "code",
      "execution_count": null,
      "metadata": {
        "id": "AVQSnR6FvaIz"
      },
      "outputs": [],
      "source": [
        "loaded_h5_model.summary(),model_2.summary()"
      ]
    },
    {
      "cell_type": "code",
      "execution_count": null,
      "metadata": {
        "id": "wIIH7asuxxkw"
      },
      "outputs": [],
      "source": [
        "#Check the model predictions\n",
        "model_2_pred=model_2.predict(X_test)\n",
        "loaded_h5_model_preds=loaded_h5_model.predict(X_test)\n",
        "model_2_pred==loaded_h5_model_preds"
      ]
    },
    {
      "cell_type": "markdown",
      "metadata": {
        "id": "qSocdtWYyWjv"
      },
      "source": [
        "## Download a model (or any file) from google collab\n",
        "\n",
        "If you want to download your files from google collab\n",
        "1. You can go the files tab and right clicked on the file you're after and click download.\n",
        "2. Use code (see the cell below).\n",
        "3. Save it to google drive by connecting Google drive and copying it there (see 2nd code cell below)"
      ]
    },
    {
      "cell_type": "code",
      "execution_count": null,
      "metadata": {
        "id": "l1LR6yn2S5qG"
      },
      "outputs": [],
      "source": [
        "# Download a file from google collab\n",
        "from google.colab import files\n",
        "files.download(\"/content/Best_model_HDF5_format.h5\")"
      ]
    },
    {
      "cell_type": "code",
      "execution_count": null,
      "metadata": {
        "id": "81OdmvkyUG6H"
      },
      "outputs": [],
      "source": [
        "# Save a file from google colab to google drive (this requires mounting of google drive)\n",
        "!cp /content/Best_model_HDF5_format.h5  /content/drive/MyDrive/TensorflowCourse"
      ]
    },
    {
      "cell_type": "code",
      "execution_count": null,
      "metadata": {
        "id": "Pi2x3KSoUzpu"
      },
      "outputs": [],
      "source": [
        "!ls /content/drive/MyDrive/TensorflowCourse"
      ]
    },
    {
      "cell_type": "markdown",
      "metadata": {
        "id": "s8hN6VsSXnss"
      },
      "source": [
        "# A Larger Example"
      ]
    },
    {
      "cell_type": "code",
      "execution_count": null,
      "metadata": {
        "id": "JL1VNxz-Y7pD"
      },
      "outputs": [],
      "source": [
        "X_train,y_train"
      ]
    },
    {
      "cell_type": "code",
      "execution_count": null,
      "metadata": {
        "id": "S2MRgTkGZA8P"
      },
      "outputs": [],
      "source": [
        "#import required lib\n",
        "import tensorflow as tf\n",
        "import pandas as pd\n",
        "import numpy as np\n",
        "import matplotlib.pyplot as plt\n",
        "\n"
      ]
    },
    {
      "cell_type": "code",
      "execution_count": null,
      "metadata": {
        "id": "xxRK6U0YaVx7"
      },
      "outputs": [],
      "source": [
        "#Read the insurance dataset\n",
        "insurance=pd.read_csv(\"https://raw.githubusercontent.com/stedy/Machine-Learning-with-R-datasets/master/insurance.csv\")\n",
        "insurance"
      ]
    },
    {
      "cell_type": "code",
      "execution_count": null,
      "metadata": {
        "id": "KWcEWKFhafPM"
      },
      "outputs": [],
      "source": [
        "encoded_data=pd.get_dummies(insurance,columns=[\"sex\",\"smoker\",\"region\"])\n",
        "encoded_data"
      ]
    },
    {
      "cell_type": "code",
      "execution_count": null,
      "metadata": {
        "id": "TjIXtiyud_rR"
      },
      "outputs": [],
      "source": [
        "#Lets try one hot encoding\n",
        "insurance_one_hot=pd.get_dummies(insurance)"
      ]
    },
    {
      "cell_type": "code",
      "execution_count": null,
      "metadata": {
        "id": "qYRDAET6e3Wn"
      },
      "outputs": [],
      "source": [
        "insurance_one_hot"
      ]
    },
    {
      "cell_type": "code",
      "execution_count": null,
      "metadata": {
        "id": "qjv-Sjt5f2qU"
      },
      "outputs": [],
      "source": [
        "insurance_one_hot.head()"
      ]
    },
    {
      "cell_type": "code",
      "execution_count": null,
      "metadata": {
        "id": "4onVH3Crf8nK"
      },
      "outputs": [],
      "source": [
        "#Create X(independent variables or features) and y(dependant variable or output )\n",
        "X=tf.constant(insurance_one_hot)"
      ]
    },
    {
      "cell_type": "code",
      "execution_count": null,
      "metadata": {
        "id": "MZw2sbqPggS3"
      },
      "outputs": [],
      "source": [
        "X"
      ]
    },
    {
      "cell_type": "code",
      "execution_count": null,
      "metadata": {
        "id": "M4_1C-zUghNU"
      },
      "outputs": [],
      "source": [
        "insurance_one_hot"
      ]
    },
    {
      "cell_type": "code",
      "execution_count": null,
      "metadata": {
        "id": "b_aIW_cug3-V"
      },
      "outputs": [],
      "source": [
        "insurance_one_hot_x=insurance_one_hot.drop(\"charges\",axis=1)"
      ]
    },
    {
      "cell_type": "code",
      "execution_count": null,
      "metadata": {
        "id": "EdNOa7p4g_Lw"
      },
      "outputs": [],
      "source": [
        "insurance_one_hot_x"
      ]
    },
    {
      "cell_type": "code",
      "execution_count": null,
      "metadata": {
        "id": "V_goz6R2hXDS"
      },
      "outputs": [],
      "source": [
        "X=tf.constant(insurance_one_hot_x)"
      ]
    },
    {
      "cell_type": "code",
      "execution_count": null,
      "metadata": {
        "id": "ITPiom4BhoBX"
      },
      "outputs": [],
      "source": [
        "y=insurance_one_hot.pop(\"charges\")"
      ]
    },
    {
      "cell_type": "code",
      "execution_count": null,
      "metadata": {
        "id": "LbX9XB8_ho-S"
      },
      "outputs": [],
      "source": [
        "y=tf.constant(y)"
      ]
    },
    {
      "cell_type": "code",
      "execution_count": null,
      "metadata": {
        "id": "JRuixKZDiL-O"
      },
      "outputs": [],
      "source": [
        "y"
      ]
    },
    {
      "cell_type": "code",
      "execution_count": null,
      "metadata": {
        "id": "4GT5zT3wiO07"
      },
      "outputs": [],
      "source": [
        "X,y"
      ]
    },
    {
      "cell_type": "code",
      "execution_count": null,
      "metadata": {
        "id": "vbqFl2w-iQsM"
      },
      "outputs": [],
      "source": [
        "#Creating training set\n",
        "X_train=X[:1070]\n",
        "X_test=X[1070:]\n",
        "y_train=y[:1070]\n",
        "y_test=y[1070:]"
      ]
    },
    {
      "cell_type": "code",
      "execution_count": null,
      "metadata": {
        "id": "VVDyq2iDibqY"
      },
      "outputs": [],
      "source": [
        "X_train,y_train"
      ]
    },
    {
      "cell_type": "code",
      "execution_count": null,
      "metadata": {
        "id": "1qyh3_QQkJqJ"
      },
      "outputs": [],
      "source": [
        "#set random seed\n",
        "tf.random.set_seed(42)\n",
        "## Create a model\n",
        "# 1.Create a model\n",
        "model=tf.keras.Sequential([\n",
        "    tf.keras.layers.Dense(128,activation=\"relu\",input_shape=(11,)),\n",
        "    tf.keras.layers.Dense(128,activation=\"relu\"),\n",
        "    tf.keras.layers.Dense(1)\n",
        "])\n",
        "\n",
        "# 2. Compile a model\n",
        "model.compile(loss=tf.keras.losses.mae,\n",
        "              optimizer=tf.keras.optimizers.Adam(learning_rate=0.1),\n",
        "              metrics=[\"mae\"])\n",
        "\n",
        "# 3.fit a model\n",
        "model.fit(X_train,y_train,batch_size=100,epochs=130)"
      ]
    },
    {
      "cell_type": "code",
      "execution_count": null,
      "metadata": {
        "id": "wlXTPG3l1S0H"
      },
      "outputs": [],
      "source": [
        "y_pred=model.predict(X_test)\n",
        "y_pred"
      ]
    },
    {
      "cell_type": "code",
      "execution_count": null,
      "metadata": {
        "id": "kWuobGPK5agA"
      },
      "outputs": [],
      "source": [
        "X_train.shape"
      ]
    },
    {
      "cell_type": "code",
      "execution_count": null,
      "metadata": {
        "id": "kBmdWyOz76QE"
      },
      "outputs": [],
      "source": [
        "y_train.shape"
      ]
    },
    {
      "cell_type": "code",
      "execution_count": null,
      "metadata": {
        "id": "PwzTCoVr8F_B"
      },
      "outputs": [],
      "source": [
        "tf.metrics.mean_absolute_error(y_test,tf.squeeze(y_pred))"
      ]
    },
    {
      "cell_type": "markdown",
      "metadata": {
        "id": "wOpt90XYApCT"
      },
      "source": [
        "## 5 Sept 2023\n",
        "\n"
      ]
    },
    {
      "cell_type": "markdown",
      "metadata": {
        "id": "a1ZwErMZftl2"
      },
      "source": [
        "#### Putting everything togther so far"
      ]
    },
    {
      "cell_type": "code",
      "execution_count": null,
      "metadata": {
        "id": "kG-PXgnkfy_J"
      },
      "outputs": [],
      "source": [
        "import tensorflow as tf\n",
        "import numpy as np\n",
        "import pandas as pd\n",
        "import matplotlib.pyplot as plt\n"
      ]
    },
    {
      "cell_type": "code",
      "execution_count": null,
      "metadata": {
        "colab": {
          "base_uri": "https://localhost:8080/",
          "height": 423
        },
        "id": "hzbpjPtJgGTp",
        "outputId": "75187d0f-dedf-4e12-8382-b9ddaa5136ea"
      },
      "outputs": [
        {
          "output_type": "execute_result",
          "data": {
            "text/plain": [
              "      age     sex     bmi  children smoker     region      charges\n",
              "0      19  female  27.900         0    yes  southwest  16884.92400\n",
              "1      18    male  33.770         1     no  southeast   1725.55230\n",
              "2      28    male  33.000         3     no  southeast   4449.46200\n",
              "3      33    male  22.705         0     no  northwest  21984.47061\n",
              "4      32    male  28.880         0     no  northwest   3866.85520\n",
              "...   ...     ...     ...       ...    ...        ...          ...\n",
              "1333   50    male  30.970         3     no  northwest  10600.54830\n",
              "1334   18  female  31.920         0     no  northeast   2205.98080\n",
              "1335   18  female  36.850         0     no  southeast   1629.83350\n",
              "1336   21  female  25.800         0     no  southwest   2007.94500\n",
              "1337   61  female  29.070         0    yes  northwest  29141.36030\n",
              "\n",
              "[1338 rows x 7 columns]"
            ],
            "text/html": [
              "\n",
              "  <div id=\"df-a86e1c01-360e-464a-8ea7-82a72e3d5c81\" class=\"colab-df-container\">\n",
              "    <div>\n",
              "<style scoped>\n",
              "    .dataframe tbody tr th:only-of-type {\n",
              "        vertical-align: middle;\n",
              "    }\n",
              "\n",
              "    .dataframe tbody tr th {\n",
              "        vertical-align: top;\n",
              "    }\n",
              "\n",
              "    .dataframe thead th {\n",
              "        text-align: right;\n",
              "    }\n",
              "</style>\n",
              "<table border=\"1\" class=\"dataframe\">\n",
              "  <thead>\n",
              "    <tr style=\"text-align: right;\">\n",
              "      <th></th>\n",
              "      <th>age</th>\n",
              "      <th>sex</th>\n",
              "      <th>bmi</th>\n",
              "      <th>children</th>\n",
              "      <th>smoker</th>\n",
              "      <th>region</th>\n",
              "      <th>charges</th>\n",
              "    </tr>\n",
              "  </thead>\n",
              "  <tbody>\n",
              "    <tr>\n",
              "      <th>0</th>\n",
              "      <td>19</td>\n",
              "      <td>female</td>\n",
              "      <td>27.900</td>\n",
              "      <td>0</td>\n",
              "      <td>yes</td>\n",
              "      <td>southwest</td>\n",
              "      <td>16884.92400</td>\n",
              "    </tr>\n",
              "    <tr>\n",
              "      <th>1</th>\n",
              "      <td>18</td>\n",
              "      <td>male</td>\n",
              "      <td>33.770</td>\n",
              "      <td>1</td>\n",
              "      <td>no</td>\n",
              "      <td>southeast</td>\n",
              "      <td>1725.55230</td>\n",
              "    </tr>\n",
              "    <tr>\n",
              "      <th>2</th>\n",
              "      <td>28</td>\n",
              "      <td>male</td>\n",
              "      <td>33.000</td>\n",
              "      <td>3</td>\n",
              "      <td>no</td>\n",
              "      <td>southeast</td>\n",
              "      <td>4449.46200</td>\n",
              "    </tr>\n",
              "    <tr>\n",
              "      <th>3</th>\n",
              "      <td>33</td>\n",
              "      <td>male</td>\n",
              "      <td>22.705</td>\n",
              "      <td>0</td>\n",
              "      <td>no</td>\n",
              "      <td>northwest</td>\n",
              "      <td>21984.47061</td>\n",
              "    </tr>\n",
              "    <tr>\n",
              "      <th>4</th>\n",
              "      <td>32</td>\n",
              "      <td>male</td>\n",
              "      <td>28.880</td>\n",
              "      <td>0</td>\n",
              "      <td>no</td>\n",
              "      <td>northwest</td>\n",
              "      <td>3866.85520</td>\n",
              "    </tr>\n",
              "    <tr>\n",
              "      <th>...</th>\n",
              "      <td>...</td>\n",
              "      <td>...</td>\n",
              "      <td>...</td>\n",
              "      <td>...</td>\n",
              "      <td>...</td>\n",
              "      <td>...</td>\n",
              "      <td>...</td>\n",
              "    </tr>\n",
              "    <tr>\n",
              "      <th>1333</th>\n",
              "      <td>50</td>\n",
              "      <td>male</td>\n",
              "      <td>30.970</td>\n",
              "      <td>3</td>\n",
              "      <td>no</td>\n",
              "      <td>northwest</td>\n",
              "      <td>10600.54830</td>\n",
              "    </tr>\n",
              "    <tr>\n",
              "      <th>1334</th>\n",
              "      <td>18</td>\n",
              "      <td>female</td>\n",
              "      <td>31.920</td>\n",
              "      <td>0</td>\n",
              "      <td>no</td>\n",
              "      <td>northeast</td>\n",
              "      <td>2205.98080</td>\n",
              "    </tr>\n",
              "    <tr>\n",
              "      <th>1335</th>\n",
              "      <td>18</td>\n",
              "      <td>female</td>\n",
              "      <td>36.850</td>\n",
              "      <td>0</td>\n",
              "      <td>no</td>\n",
              "      <td>southeast</td>\n",
              "      <td>1629.83350</td>\n",
              "    </tr>\n",
              "    <tr>\n",
              "      <th>1336</th>\n",
              "      <td>21</td>\n",
              "      <td>female</td>\n",
              "      <td>25.800</td>\n",
              "      <td>0</td>\n",
              "      <td>no</td>\n",
              "      <td>southwest</td>\n",
              "      <td>2007.94500</td>\n",
              "    </tr>\n",
              "    <tr>\n",
              "      <th>1337</th>\n",
              "      <td>61</td>\n",
              "      <td>female</td>\n",
              "      <td>29.070</td>\n",
              "      <td>0</td>\n",
              "      <td>yes</td>\n",
              "      <td>northwest</td>\n",
              "      <td>29141.36030</td>\n",
              "    </tr>\n",
              "  </tbody>\n",
              "</table>\n",
              "<p>1338 rows × 7 columns</p>\n",
              "</div>\n",
              "    <div class=\"colab-df-buttons\">\n",
              "\n",
              "  <div class=\"colab-df-container\">\n",
              "    <button class=\"colab-df-convert\" onclick=\"convertToInteractive('df-a86e1c01-360e-464a-8ea7-82a72e3d5c81')\"\n",
              "            title=\"Convert this dataframe to an interactive table.\"\n",
              "            style=\"display:none;\">\n",
              "\n",
              "  <svg xmlns=\"http://www.w3.org/2000/svg\" height=\"24px\" viewBox=\"0 -960 960 960\">\n",
              "    <path d=\"M120-120v-720h720v720H120Zm60-500h600v-160H180v160Zm220 220h160v-160H400v160Zm0 220h160v-160H400v160ZM180-400h160v-160H180v160Zm440 0h160v-160H620v160ZM180-180h160v-160H180v160Zm440 0h160v-160H620v160Z\"/>\n",
              "  </svg>\n",
              "    </button>\n",
              "\n",
              "  <style>\n",
              "    .colab-df-container {\n",
              "      display:flex;\n",
              "      gap: 12px;\n",
              "    }\n",
              "\n",
              "    .colab-df-convert {\n",
              "      background-color: #E8F0FE;\n",
              "      border: none;\n",
              "      border-radius: 50%;\n",
              "      cursor: pointer;\n",
              "      display: none;\n",
              "      fill: #1967D2;\n",
              "      height: 32px;\n",
              "      padding: 0 0 0 0;\n",
              "      width: 32px;\n",
              "    }\n",
              "\n",
              "    .colab-df-convert:hover {\n",
              "      background-color: #E2EBFA;\n",
              "      box-shadow: 0px 1px 2px rgba(60, 64, 67, 0.3), 0px 1px 3px 1px rgba(60, 64, 67, 0.15);\n",
              "      fill: #174EA6;\n",
              "    }\n",
              "\n",
              "    .colab-df-buttons div {\n",
              "      margin-bottom: 4px;\n",
              "    }\n",
              "\n",
              "    [theme=dark] .colab-df-convert {\n",
              "      background-color: #3B4455;\n",
              "      fill: #D2E3FC;\n",
              "    }\n",
              "\n",
              "    [theme=dark] .colab-df-convert:hover {\n",
              "      background-color: #434B5C;\n",
              "      box-shadow: 0px 1px 3px 1px rgba(0, 0, 0, 0.15);\n",
              "      filter: drop-shadow(0px 1px 2px rgba(0, 0, 0, 0.3));\n",
              "      fill: #FFFFFF;\n",
              "    }\n",
              "  </style>\n",
              "\n",
              "    <script>\n",
              "      const buttonEl =\n",
              "        document.querySelector('#df-a86e1c01-360e-464a-8ea7-82a72e3d5c81 button.colab-df-convert');\n",
              "      buttonEl.style.display =\n",
              "        google.colab.kernel.accessAllowed ? 'block' : 'none';\n",
              "\n",
              "      async function convertToInteractive(key) {\n",
              "        const element = document.querySelector('#df-a86e1c01-360e-464a-8ea7-82a72e3d5c81');\n",
              "        const dataTable =\n",
              "          await google.colab.kernel.invokeFunction('convertToInteractive',\n",
              "                                                    [key], {});\n",
              "        if (!dataTable) return;\n",
              "\n",
              "        const docLinkHtml = 'Like what you see? Visit the ' +\n",
              "          '<a target=\"_blank\" href=https://colab.research.google.com/notebooks/data_table.ipynb>data table notebook</a>'\n",
              "          + ' to learn more about interactive tables.';\n",
              "        element.innerHTML = '';\n",
              "        dataTable['output_type'] = 'display_data';\n",
              "        await google.colab.output.renderOutput(dataTable, element);\n",
              "        const docLink = document.createElement('div');\n",
              "        docLink.innerHTML = docLinkHtml;\n",
              "        element.appendChild(docLink);\n",
              "      }\n",
              "    </script>\n",
              "  </div>\n",
              "\n",
              "\n",
              "<div id=\"df-9f9b6eb4-f8f4-4bb9-a175-562898b59735\">\n",
              "  <button class=\"colab-df-quickchart\" onclick=\"quickchart('df-9f9b6eb4-f8f4-4bb9-a175-562898b59735')\"\n",
              "            title=\"Suggest charts.\"\n",
              "            style=\"display:none;\">\n",
              "\n",
              "<svg xmlns=\"http://www.w3.org/2000/svg\" height=\"24px\"viewBox=\"0 0 24 24\"\n",
              "     width=\"24px\">\n",
              "    <g>\n",
              "        <path d=\"M19 3H5c-1.1 0-2 .9-2 2v14c0 1.1.9 2 2 2h14c1.1 0 2-.9 2-2V5c0-1.1-.9-2-2-2zM9 17H7v-7h2v7zm4 0h-2V7h2v10zm4 0h-2v-4h2v4z\"/>\n",
              "    </g>\n",
              "</svg>\n",
              "  </button>\n",
              "\n",
              "<style>\n",
              "  .colab-df-quickchart {\n",
              "      --bg-color: #E8F0FE;\n",
              "      --fill-color: #1967D2;\n",
              "      --hover-bg-color: #E2EBFA;\n",
              "      --hover-fill-color: #174EA6;\n",
              "      --disabled-fill-color: #AAA;\n",
              "      --disabled-bg-color: #DDD;\n",
              "  }\n",
              "\n",
              "  [theme=dark] .colab-df-quickchart {\n",
              "      --bg-color: #3B4455;\n",
              "      --fill-color: #D2E3FC;\n",
              "      --hover-bg-color: #434B5C;\n",
              "      --hover-fill-color: #FFFFFF;\n",
              "      --disabled-bg-color: #3B4455;\n",
              "      --disabled-fill-color: #666;\n",
              "  }\n",
              "\n",
              "  .colab-df-quickchart {\n",
              "    background-color: var(--bg-color);\n",
              "    border: none;\n",
              "    border-radius: 50%;\n",
              "    cursor: pointer;\n",
              "    display: none;\n",
              "    fill: var(--fill-color);\n",
              "    height: 32px;\n",
              "    padding: 0;\n",
              "    width: 32px;\n",
              "  }\n",
              "\n",
              "  .colab-df-quickchart:hover {\n",
              "    background-color: var(--hover-bg-color);\n",
              "    box-shadow: 0 1px 2px rgba(60, 64, 67, 0.3), 0 1px 3px 1px rgba(60, 64, 67, 0.15);\n",
              "    fill: var(--button-hover-fill-color);\n",
              "  }\n",
              "\n",
              "  .colab-df-quickchart-complete:disabled,\n",
              "  .colab-df-quickchart-complete:disabled:hover {\n",
              "    background-color: var(--disabled-bg-color);\n",
              "    fill: var(--disabled-fill-color);\n",
              "    box-shadow: none;\n",
              "  }\n",
              "\n",
              "  .colab-df-spinner {\n",
              "    border: 2px solid var(--fill-color);\n",
              "    border-color: transparent;\n",
              "    border-bottom-color: var(--fill-color);\n",
              "    animation:\n",
              "      spin 1s steps(1) infinite;\n",
              "  }\n",
              "\n",
              "  @keyframes spin {\n",
              "    0% {\n",
              "      border-color: transparent;\n",
              "      border-bottom-color: var(--fill-color);\n",
              "      border-left-color: var(--fill-color);\n",
              "    }\n",
              "    20% {\n",
              "      border-color: transparent;\n",
              "      border-left-color: var(--fill-color);\n",
              "      border-top-color: var(--fill-color);\n",
              "    }\n",
              "    30% {\n",
              "      border-color: transparent;\n",
              "      border-left-color: var(--fill-color);\n",
              "      border-top-color: var(--fill-color);\n",
              "      border-right-color: var(--fill-color);\n",
              "    }\n",
              "    40% {\n",
              "      border-color: transparent;\n",
              "      border-right-color: var(--fill-color);\n",
              "      border-top-color: var(--fill-color);\n",
              "    }\n",
              "    60% {\n",
              "      border-color: transparent;\n",
              "      border-right-color: var(--fill-color);\n",
              "    }\n",
              "    80% {\n",
              "      border-color: transparent;\n",
              "      border-right-color: var(--fill-color);\n",
              "      border-bottom-color: var(--fill-color);\n",
              "    }\n",
              "    90% {\n",
              "      border-color: transparent;\n",
              "      border-bottom-color: var(--fill-color);\n",
              "    }\n",
              "  }\n",
              "</style>\n",
              "\n",
              "  <script>\n",
              "    async function quickchart(key) {\n",
              "      const quickchartButtonEl =\n",
              "        document.querySelector('#' + key + ' button');\n",
              "      quickchartButtonEl.disabled = true;  // To prevent multiple clicks.\n",
              "      quickchartButtonEl.classList.add('colab-df-spinner');\n",
              "      try {\n",
              "        const charts = await google.colab.kernel.invokeFunction(\n",
              "            'suggestCharts', [key], {});\n",
              "      } catch (error) {\n",
              "        console.error('Error during call to suggestCharts:', error);\n",
              "      }\n",
              "      quickchartButtonEl.classList.remove('colab-df-spinner');\n",
              "      quickchartButtonEl.classList.add('colab-df-quickchart-complete');\n",
              "    }\n",
              "    (() => {\n",
              "      let quickchartButtonEl =\n",
              "        document.querySelector('#df-9f9b6eb4-f8f4-4bb9-a175-562898b59735 button');\n",
              "      quickchartButtonEl.style.display =\n",
              "        google.colab.kernel.accessAllowed ? 'block' : 'none';\n",
              "    })();\n",
              "  </script>\n",
              "</div>\n",
              "    </div>\n",
              "  </div>\n"
            ]
          },
          "metadata": {},
          "execution_count": 52
        }
      ],
      "source": [
        "insurance=pd.read_csv(\"https://raw.githubusercontent.com/stedy/Machine-Learning-with-R-datasets/master/insurance.csv\")\n",
        "insurance"
      ]
    },
    {
      "cell_type": "code",
      "execution_count": null,
      "metadata": {
        "colab": {
          "base_uri": "https://localhost:8080/",
          "height": 443
        },
        "id": "EBLMECovgyaL",
        "outputId": "89a1b3e3-b973-49d1-d13e-732be0ca7f00"
      },
      "outputs": [
        {
          "output_type": "execute_result",
          "data": {
            "text/plain": [
              "      age     bmi  children      charges  sex_female  sex_male  smoker_no  \\\n",
              "0      19  27.900         0  16884.92400           1         0          0   \n",
              "1      18  33.770         1   1725.55230           0         1          1   \n",
              "2      28  33.000         3   4449.46200           0         1          1   \n",
              "3      33  22.705         0  21984.47061           0         1          1   \n",
              "4      32  28.880         0   3866.85520           0         1          1   \n",
              "...   ...     ...       ...          ...         ...       ...        ...   \n",
              "1333   50  30.970         3  10600.54830           0         1          1   \n",
              "1334   18  31.920         0   2205.98080           1         0          1   \n",
              "1335   18  36.850         0   1629.83350           1         0          1   \n",
              "1336   21  25.800         0   2007.94500           1         0          1   \n",
              "1337   61  29.070         0  29141.36030           1         0          0   \n",
              "\n",
              "      smoker_yes  region_northeast  region_northwest  region_southeast  \\\n",
              "0              1                 0                 0                 0   \n",
              "1              0                 0                 0                 1   \n",
              "2              0                 0                 0                 1   \n",
              "3              0                 0                 1                 0   \n",
              "4              0                 0                 1                 0   \n",
              "...          ...               ...               ...               ...   \n",
              "1333           0                 0                 1                 0   \n",
              "1334           0                 1                 0                 0   \n",
              "1335           0                 0                 0                 1   \n",
              "1336           0                 0                 0                 0   \n",
              "1337           1                 0                 1                 0   \n",
              "\n",
              "      region_southwest  \n",
              "0                    1  \n",
              "1                    0  \n",
              "2                    0  \n",
              "3                    0  \n",
              "4                    0  \n",
              "...                ...  \n",
              "1333                 0  \n",
              "1334                 0  \n",
              "1335                 0  \n",
              "1336                 1  \n",
              "1337                 0  \n",
              "\n",
              "[1338 rows x 12 columns]"
            ],
            "text/html": [
              "\n",
              "  <div id=\"df-a06723b2-6797-4148-8972-2b43b8af883e\" class=\"colab-df-container\">\n",
              "    <div>\n",
              "<style scoped>\n",
              "    .dataframe tbody tr th:only-of-type {\n",
              "        vertical-align: middle;\n",
              "    }\n",
              "\n",
              "    .dataframe tbody tr th {\n",
              "        vertical-align: top;\n",
              "    }\n",
              "\n",
              "    .dataframe thead th {\n",
              "        text-align: right;\n",
              "    }\n",
              "</style>\n",
              "<table border=\"1\" class=\"dataframe\">\n",
              "  <thead>\n",
              "    <tr style=\"text-align: right;\">\n",
              "      <th></th>\n",
              "      <th>age</th>\n",
              "      <th>bmi</th>\n",
              "      <th>children</th>\n",
              "      <th>charges</th>\n",
              "      <th>sex_female</th>\n",
              "      <th>sex_male</th>\n",
              "      <th>smoker_no</th>\n",
              "      <th>smoker_yes</th>\n",
              "      <th>region_northeast</th>\n",
              "      <th>region_northwest</th>\n",
              "      <th>region_southeast</th>\n",
              "      <th>region_southwest</th>\n",
              "    </tr>\n",
              "  </thead>\n",
              "  <tbody>\n",
              "    <tr>\n",
              "      <th>0</th>\n",
              "      <td>19</td>\n",
              "      <td>27.900</td>\n",
              "      <td>0</td>\n",
              "      <td>16884.92400</td>\n",
              "      <td>1</td>\n",
              "      <td>0</td>\n",
              "      <td>0</td>\n",
              "      <td>1</td>\n",
              "      <td>0</td>\n",
              "      <td>0</td>\n",
              "      <td>0</td>\n",
              "      <td>1</td>\n",
              "    </tr>\n",
              "    <tr>\n",
              "      <th>1</th>\n",
              "      <td>18</td>\n",
              "      <td>33.770</td>\n",
              "      <td>1</td>\n",
              "      <td>1725.55230</td>\n",
              "      <td>0</td>\n",
              "      <td>1</td>\n",
              "      <td>1</td>\n",
              "      <td>0</td>\n",
              "      <td>0</td>\n",
              "      <td>0</td>\n",
              "      <td>1</td>\n",
              "      <td>0</td>\n",
              "    </tr>\n",
              "    <tr>\n",
              "      <th>2</th>\n",
              "      <td>28</td>\n",
              "      <td>33.000</td>\n",
              "      <td>3</td>\n",
              "      <td>4449.46200</td>\n",
              "      <td>0</td>\n",
              "      <td>1</td>\n",
              "      <td>1</td>\n",
              "      <td>0</td>\n",
              "      <td>0</td>\n",
              "      <td>0</td>\n",
              "      <td>1</td>\n",
              "      <td>0</td>\n",
              "    </tr>\n",
              "    <tr>\n",
              "      <th>3</th>\n",
              "      <td>33</td>\n",
              "      <td>22.705</td>\n",
              "      <td>0</td>\n",
              "      <td>21984.47061</td>\n",
              "      <td>0</td>\n",
              "      <td>1</td>\n",
              "      <td>1</td>\n",
              "      <td>0</td>\n",
              "      <td>0</td>\n",
              "      <td>1</td>\n",
              "      <td>0</td>\n",
              "      <td>0</td>\n",
              "    </tr>\n",
              "    <tr>\n",
              "      <th>4</th>\n",
              "      <td>32</td>\n",
              "      <td>28.880</td>\n",
              "      <td>0</td>\n",
              "      <td>3866.85520</td>\n",
              "      <td>0</td>\n",
              "      <td>1</td>\n",
              "      <td>1</td>\n",
              "      <td>0</td>\n",
              "      <td>0</td>\n",
              "      <td>1</td>\n",
              "      <td>0</td>\n",
              "      <td>0</td>\n",
              "    </tr>\n",
              "    <tr>\n",
              "      <th>...</th>\n",
              "      <td>...</td>\n",
              "      <td>...</td>\n",
              "      <td>...</td>\n",
              "      <td>...</td>\n",
              "      <td>...</td>\n",
              "      <td>...</td>\n",
              "      <td>...</td>\n",
              "      <td>...</td>\n",
              "      <td>...</td>\n",
              "      <td>...</td>\n",
              "      <td>...</td>\n",
              "      <td>...</td>\n",
              "    </tr>\n",
              "    <tr>\n",
              "      <th>1333</th>\n",
              "      <td>50</td>\n",
              "      <td>30.970</td>\n",
              "      <td>3</td>\n",
              "      <td>10600.54830</td>\n",
              "      <td>0</td>\n",
              "      <td>1</td>\n",
              "      <td>1</td>\n",
              "      <td>0</td>\n",
              "      <td>0</td>\n",
              "      <td>1</td>\n",
              "      <td>0</td>\n",
              "      <td>0</td>\n",
              "    </tr>\n",
              "    <tr>\n",
              "      <th>1334</th>\n",
              "      <td>18</td>\n",
              "      <td>31.920</td>\n",
              "      <td>0</td>\n",
              "      <td>2205.98080</td>\n",
              "      <td>1</td>\n",
              "      <td>0</td>\n",
              "      <td>1</td>\n",
              "      <td>0</td>\n",
              "      <td>1</td>\n",
              "      <td>0</td>\n",
              "      <td>0</td>\n",
              "      <td>0</td>\n",
              "    </tr>\n",
              "    <tr>\n",
              "      <th>1335</th>\n",
              "      <td>18</td>\n",
              "      <td>36.850</td>\n",
              "      <td>0</td>\n",
              "      <td>1629.83350</td>\n",
              "      <td>1</td>\n",
              "      <td>0</td>\n",
              "      <td>1</td>\n",
              "      <td>0</td>\n",
              "      <td>0</td>\n",
              "      <td>0</td>\n",
              "      <td>1</td>\n",
              "      <td>0</td>\n",
              "    </tr>\n",
              "    <tr>\n",
              "      <th>1336</th>\n",
              "      <td>21</td>\n",
              "      <td>25.800</td>\n",
              "      <td>0</td>\n",
              "      <td>2007.94500</td>\n",
              "      <td>1</td>\n",
              "      <td>0</td>\n",
              "      <td>1</td>\n",
              "      <td>0</td>\n",
              "      <td>0</td>\n",
              "      <td>0</td>\n",
              "      <td>0</td>\n",
              "      <td>1</td>\n",
              "    </tr>\n",
              "    <tr>\n",
              "      <th>1337</th>\n",
              "      <td>61</td>\n",
              "      <td>29.070</td>\n",
              "      <td>0</td>\n",
              "      <td>29141.36030</td>\n",
              "      <td>1</td>\n",
              "      <td>0</td>\n",
              "      <td>0</td>\n",
              "      <td>1</td>\n",
              "      <td>0</td>\n",
              "      <td>1</td>\n",
              "      <td>0</td>\n",
              "      <td>0</td>\n",
              "    </tr>\n",
              "  </tbody>\n",
              "</table>\n",
              "<p>1338 rows × 12 columns</p>\n",
              "</div>\n",
              "    <div class=\"colab-df-buttons\">\n",
              "\n",
              "  <div class=\"colab-df-container\">\n",
              "    <button class=\"colab-df-convert\" onclick=\"convertToInteractive('df-a06723b2-6797-4148-8972-2b43b8af883e')\"\n",
              "            title=\"Convert this dataframe to an interactive table.\"\n",
              "            style=\"display:none;\">\n",
              "\n",
              "  <svg xmlns=\"http://www.w3.org/2000/svg\" height=\"24px\" viewBox=\"0 -960 960 960\">\n",
              "    <path d=\"M120-120v-720h720v720H120Zm60-500h600v-160H180v160Zm220 220h160v-160H400v160Zm0 220h160v-160H400v160ZM180-400h160v-160H180v160Zm440 0h160v-160H620v160ZM180-180h160v-160H180v160Zm440 0h160v-160H620v160Z\"/>\n",
              "  </svg>\n",
              "    </button>\n",
              "\n",
              "  <style>\n",
              "    .colab-df-container {\n",
              "      display:flex;\n",
              "      gap: 12px;\n",
              "    }\n",
              "\n",
              "    .colab-df-convert {\n",
              "      background-color: #E8F0FE;\n",
              "      border: none;\n",
              "      border-radius: 50%;\n",
              "      cursor: pointer;\n",
              "      display: none;\n",
              "      fill: #1967D2;\n",
              "      height: 32px;\n",
              "      padding: 0 0 0 0;\n",
              "      width: 32px;\n",
              "    }\n",
              "\n",
              "    .colab-df-convert:hover {\n",
              "      background-color: #E2EBFA;\n",
              "      box-shadow: 0px 1px 2px rgba(60, 64, 67, 0.3), 0px 1px 3px 1px rgba(60, 64, 67, 0.15);\n",
              "      fill: #174EA6;\n",
              "    }\n",
              "\n",
              "    .colab-df-buttons div {\n",
              "      margin-bottom: 4px;\n",
              "    }\n",
              "\n",
              "    [theme=dark] .colab-df-convert {\n",
              "      background-color: #3B4455;\n",
              "      fill: #D2E3FC;\n",
              "    }\n",
              "\n",
              "    [theme=dark] .colab-df-convert:hover {\n",
              "      background-color: #434B5C;\n",
              "      box-shadow: 0px 1px 3px 1px rgba(0, 0, 0, 0.15);\n",
              "      filter: drop-shadow(0px 1px 2px rgba(0, 0, 0, 0.3));\n",
              "      fill: #FFFFFF;\n",
              "    }\n",
              "  </style>\n",
              "\n",
              "    <script>\n",
              "      const buttonEl =\n",
              "        document.querySelector('#df-a06723b2-6797-4148-8972-2b43b8af883e button.colab-df-convert');\n",
              "      buttonEl.style.display =\n",
              "        google.colab.kernel.accessAllowed ? 'block' : 'none';\n",
              "\n",
              "      async function convertToInteractive(key) {\n",
              "        const element = document.querySelector('#df-a06723b2-6797-4148-8972-2b43b8af883e');\n",
              "        const dataTable =\n",
              "          await google.colab.kernel.invokeFunction('convertToInteractive',\n",
              "                                                    [key], {});\n",
              "        if (!dataTable) return;\n",
              "\n",
              "        const docLinkHtml = 'Like what you see? Visit the ' +\n",
              "          '<a target=\"_blank\" href=https://colab.research.google.com/notebooks/data_table.ipynb>data table notebook</a>'\n",
              "          + ' to learn more about interactive tables.';\n",
              "        element.innerHTML = '';\n",
              "        dataTable['output_type'] = 'display_data';\n",
              "        await google.colab.output.renderOutput(dataTable, element);\n",
              "        const docLink = document.createElement('div');\n",
              "        docLink.innerHTML = docLinkHtml;\n",
              "        element.appendChild(docLink);\n",
              "      }\n",
              "    </script>\n",
              "  </div>\n",
              "\n",
              "\n",
              "<div id=\"df-14153952-e30e-418e-8bf8-d3b1aaa4d565\">\n",
              "  <button class=\"colab-df-quickchart\" onclick=\"quickchart('df-14153952-e30e-418e-8bf8-d3b1aaa4d565')\"\n",
              "            title=\"Suggest charts.\"\n",
              "            style=\"display:none;\">\n",
              "\n",
              "<svg xmlns=\"http://www.w3.org/2000/svg\" height=\"24px\"viewBox=\"0 0 24 24\"\n",
              "     width=\"24px\">\n",
              "    <g>\n",
              "        <path d=\"M19 3H5c-1.1 0-2 .9-2 2v14c0 1.1.9 2 2 2h14c1.1 0 2-.9 2-2V5c0-1.1-.9-2-2-2zM9 17H7v-7h2v7zm4 0h-2V7h2v10zm4 0h-2v-4h2v4z\"/>\n",
              "    </g>\n",
              "</svg>\n",
              "  </button>\n",
              "\n",
              "<style>\n",
              "  .colab-df-quickchart {\n",
              "      --bg-color: #E8F0FE;\n",
              "      --fill-color: #1967D2;\n",
              "      --hover-bg-color: #E2EBFA;\n",
              "      --hover-fill-color: #174EA6;\n",
              "      --disabled-fill-color: #AAA;\n",
              "      --disabled-bg-color: #DDD;\n",
              "  }\n",
              "\n",
              "  [theme=dark] .colab-df-quickchart {\n",
              "      --bg-color: #3B4455;\n",
              "      --fill-color: #D2E3FC;\n",
              "      --hover-bg-color: #434B5C;\n",
              "      --hover-fill-color: #FFFFFF;\n",
              "      --disabled-bg-color: #3B4455;\n",
              "      --disabled-fill-color: #666;\n",
              "  }\n",
              "\n",
              "  .colab-df-quickchart {\n",
              "    background-color: var(--bg-color);\n",
              "    border: none;\n",
              "    border-radius: 50%;\n",
              "    cursor: pointer;\n",
              "    display: none;\n",
              "    fill: var(--fill-color);\n",
              "    height: 32px;\n",
              "    padding: 0;\n",
              "    width: 32px;\n",
              "  }\n",
              "\n",
              "  .colab-df-quickchart:hover {\n",
              "    background-color: var(--hover-bg-color);\n",
              "    box-shadow: 0 1px 2px rgba(60, 64, 67, 0.3), 0 1px 3px 1px rgba(60, 64, 67, 0.15);\n",
              "    fill: var(--button-hover-fill-color);\n",
              "  }\n",
              "\n",
              "  .colab-df-quickchart-complete:disabled,\n",
              "  .colab-df-quickchart-complete:disabled:hover {\n",
              "    background-color: var(--disabled-bg-color);\n",
              "    fill: var(--disabled-fill-color);\n",
              "    box-shadow: none;\n",
              "  }\n",
              "\n",
              "  .colab-df-spinner {\n",
              "    border: 2px solid var(--fill-color);\n",
              "    border-color: transparent;\n",
              "    border-bottom-color: var(--fill-color);\n",
              "    animation:\n",
              "      spin 1s steps(1) infinite;\n",
              "  }\n",
              "\n",
              "  @keyframes spin {\n",
              "    0% {\n",
              "      border-color: transparent;\n",
              "      border-bottom-color: var(--fill-color);\n",
              "      border-left-color: var(--fill-color);\n",
              "    }\n",
              "    20% {\n",
              "      border-color: transparent;\n",
              "      border-left-color: var(--fill-color);\n",
              "      border-top-color: var(--fill-color);\n",
              "    }\n",
              "    30% {\n",
              "      border-color: transparent;\n",
              "      border-left-color: var(--fill-color);\n",
              "      border-top-color: var(--fill-color);\n",
              "      border-right-color: var(--fill-color);\n",
              "    }\n",
              "    40% {\n",
              "      border-color: transparent;\n",
              "      border-right-color: var(--fill-color);\n",
              "      border-top-color: var(--fill-color);\n",
              "    }\n",
              "    60% {\n",
              "      border-color: transparent;\n",
              "      border-right-color: var(--fill-color);\n",
              "    }\n",
              "    80% {\n",
              "      border-color: transparent;\n",
              "      border-right-color: var(--fill-color);\n",
              "      border-bottom-color: var(--fill-color);\n",
              "    }\n",
              "    90% {\n",
              "      border-color: transparent;\n",
              "      border-bottom-color: var(--fill-color);\n",
              "    }\n",
              "  }\n",
              "</style>\n",
              "\n",
              "  <script>\n",
              "    async function quickchart(key) {\n",
              "      const quickchartButtonEl =\n",
              "        document.querySelector('#' + key + ' button');\n",
              "      quickchartButtonEl.disabled = true;  // To prevent multiple clicks.\n",
              "      quickchartButtonEl.classList.add('colab-df-spinner');\n",
              "      try {\n",
              "        const charts = await google.colab.kernel.invokeFunction(\n",
              "            'suggestCharts', [key], {});\n",
              "      } catch (error) {\n",
              "        console.error('Error during call to suggestCharts:', error);\n",
              "      }\n",
              "      quickchartButtonEl.classList.remove('colab-df-spinner');\n",
              "      quickchartButtonEl.classList.add('colab-df-quickchart-complete');\n",
              "    }\n",
              "    (() => {\n",
              "      let quickchartButtonEl =\n",
              "        document.querySelector('#df-14153952-e30e-418e-8bf8-d3b1aaa4d565 button');\n",
              "      quickchartButtonEl.style.display =\n",
              "        google.colab.kernel.accessAllowed ? 'block' : 'none';\n",
              "    })();\n",
              "  </script>\n",
              "</div>\n",
              "    </div>\n",
              "  </div>\n"
            ]
          },
          "metadata": {},
          "execution_count": 53
        }
      ],
      "source": [
        "insurance_one_hot=pd.get_dummies(insurance)\n",
        "insurance_one_hot"
      ]
    },
    {
      "cell_type": "markdown",
      "metadata": {
        "id": "tdG7Aj8ng74_"
      },
      "source": [
        "Create x and y values(features and labels)"
      ]
    },
    {
      "cell_type": "code",
      "execution_count": null,
      "metadata": {
        "id": "fxD8ULXFh2XL"
      },
      "outputs": [],
      "source": [
        "X=insurance_one_hot.drop(\"charges\",axis=1)\n",
        "y=insurance_one_hot.pop(\"charges\")"
      ]
    },
    {
      "cell_type": "code",
      "execution_count": null,
      "metadata": {
        "colab": {
          "base_uri": "https://localhost:8080/"
        },
        "id": "-eogeeNHhwl1",
        "outputId": "79614d65-121e-4ab8-ac87-d7a4145dd7d7"
      },
      "outputs": [
        {
          "output_type": "execute_result",
          "data": {
            "text/plain": [
              "(      age     bmi  children  sex_female  sex_male  smoker_no  smoker_yes  \\\n",
              " 0      19  27.900         0           1         0          0           1   \n",
              " 1      18  33.770         1           0         1          1           0   \n",
              " 2      28  33.000         3           0         1          1           0   \n",
              " 3      33  22.705         0           0         1          1           0   \n",
              " 4      32  28.880         0           0         1          1           0   \n",
              " ...   ...     ...       ...         ...       ...        ...         ...   \n",
              " 1333   50  30.970         3           0         1          1           0   \n",
              " 1334   18  31.920         0           1         0          1           0   \n",
              " 1335   18  36.850         0           1         0          1           0   \n",
              " 1336   21  25.800         0           1         0          1           0   \n",
              " 1337   61  29.070         0           1         0          0           1   \n",
              " \n",
              "       region_northeast  region_northwest  region_southeast  region_southwest  \n",
              " 0                    0                 0                 0                 1  \n",
              " 1                    0                 0                 1                 0  \n",
              " 2                    0                 0                 1                 0  \n",
              " 3                    0                 1                 0                 0  \n",
              " 4                    0                 1                 0                 0  \n",
              " ...                ...               ...               ...               ...  \n",
              " 1333                 0                 1                 0                 0  \n",
              " 1334                 1                 0                 0                 0  \n",
              " 1335                 0                 0                 1                 0  \n",
              " 1336                 0                 0                 0                 1  \n",
              " 1337                 0                 1                 0                 0  \n",
              " \n",
              " [1338 rows x 11 columns],\n",
              " 0       16884.92400\n",
              " 1        1725.55230\n",
              " 2        4449.46200\n",
              " 3       21984.47061\n",
              " 4        3866.85520\n",
              "            ...     \n",
              " 1333    10600.54830\n",
              " 1334     2205.98080\n",
              " 1335     1629.83350\n",
              " 1336     2007.94500\n",
              " 1337    29141.36030\n",
              " Name: charges, Length: 1338, dtype: float64)"
            ]
          },
          "metadata": {},
          "execution_count": 55
        }
      ],
      "source": [
        "X,y"
      ]
    },
    {
      "cell_type": "code",
      "execution_count": null,
      "metadata": {
        "id": "Ga5Z_NrNiu0I"
      },
      "outputs": [],
      "source": [
        "#create and training and test data\n",
        "from sklearn.model_selection import train_test_split\n"
      ]
    },
    {
      "cell_type": "code",
      "execution_count": null,
      "metadata": {
        "id": "E5tCejUjn1OK"
      },
      "outputs": [],
      "source": [
        "X_train,X_test,y_train,y_test=train_test_split(X,y,test_size=0.2,random_state=42)"
      ]
    },
    {
      "cell_type": "code",
      "execution_count": null,
      "metadata": {
        "colab": {
          "base_uri": "https://localhost:8080/"
        },
        "id": "izskRsZ3n84U",
        "outputId": "14c534dc-a068-4575-f680-6bfd18835b8f"
      },
      "outputs": [
        {
          "output_type": "execute_result",
          "data": {
            "text/plain": [
              "(1338, 1338, 1070, 268)"
            ]
          },
          "metadata": {},
          "execution_count": 58
        }
      ],
      "source": [
        "len(X),len(y),len(X_train),len(X_test)"
      ]
    },
    {
      "cell_type": "code",
      "execution_count": null,
      "metadata": {
        "id": "CcU6fZ6vsTUQ"
      },
      "outputs": [],
      "source": []
    },
    {
      "cell_type": "code",
      "execution_count": null,
      "metadata": {
        "colab": {
          "base_uri": "https://localhost:8080/"
        },
        "id": "vH-RciXponeo",
        "outputId": "2d3664dc-0489-48d2-ff74-6e8ee578a2db"
      },
      "outputs": [
        {
          "output_type": "stream",
          "name": "stdout",
          "text": [
            "Epoch 1/100\n",
            "34/34 [==============================] - 0s 2ms/step - loss: 8718.7490 - mae: 8718.7490\n",
            "Epoch 2/100\n",
            "34/34 [==============================] - 0s 2ms/step - loss: 7880.5898 - mae: 7880.5898\n",
            "Epoch 3/100\n",
            "34/34 [==============================] - 0s 2ms/step - loss: 7608.2773 - mae: 7608.2773\n",
            "Epoch 4/100\n",
            "34/34 [==============================] - 0s 1ms/step - loss: 7518.1572 - mae: 7518.1572\n",
            "Epoch 5/100\n",
            "34/34 [==============================] - 0s 2ms/step - loss: 7639.1270 - mae: 7639.1270\n",
            "Epoch 6/100\n",
            "34/34 [==============================] - 0s 2ms/step - loss: 7611.0142 - mae: 7611.0142\n",
            "Epoch 7/100\n",
            "34/34 [==============================] - 0s 2ms/step - loss: 7632.2881 - mae: 7632.2881\n",
            "Epoch 8/100\n",
            "34/34 [==============================] - 0s 2ms/step - loss: 7766.2930 - mae: 7766.2930\n",
            "Epoch 9/100\n",
            "34/34 [==============================] - 0s 1ms/step - loss: 7455.0806 - mae: 7455.0806\n",
            "Epoch 10/100\n",
            "34/34 [==============================] - 0s 1ms/step - loss: 7739.3120 - mae: 7739.3120\n",
            "Epoch 11/100\n",
            "34/34 [==============================] - 0s 2ms/step - loss: 7490.3433 - mae: 7490.3433\n",
            "Epoch 12/100\n",
            "34/34 [==============================] - 0s 1ms/step - loss: 7533.3179 - mae: 7533.3179\n",
            "Epoch 13/100\n",
            "34/34 [==============================] - 0s 2ms/step - loss: 7757.5815 - mae: 7757.5815\n",
            "Epoch 14/100\n",
            "34/34 [==============================] - 0s 2ms/step - loss: 7576.9756 - mae: 7576.9756\n",
            "Epoch 15/100\n",
            "34/34 [==============================] - 0s 2ms/step - loss: 7397.5420 - mae: 7397.5420\n",
            "Epoch 16/100\n",
            "34/34 [==============================] - 0s 2ms/step - loss: 7771.1982 - mae: 7771.1982\n",
            "Epoch 17/100\n",
            "34/34 [==============================] - 0s 2ms/step - loss: 7543.8330 - mae: 7543.8330\n",
            "Epoch 18/100\n",
            "34/34 [==============================] - 0s 1ms/step - loss: 7749.6201 - mae: 7749.6201\n",
            "Epoch 19/100\n",
            "34/34 [==============================] - 0s 2ms/step - loss: 7788.2144 - mae: 7788.2144\n",
            "Epoch 20/100\n",
            "34/34 [==============================] - 0s 2ms/step - loss: 7875.1665 - mae: 7875.1665\n",
            "Epoch 21/100\n",
            "34/34 [==============================] - 0s 2ms/step - loss: 7539.3545 - mae: 7539.3545\n",
            "Epoch 22/100\n",
            "34/34 [==============================] - 0s 2ms/step - loss: 7781.1753 - mae: 7781.1753\n",
            "Epoch 23/100\n",
            "34/34 [==============================] - 0s 2ms/step - loss: 7661.1470 - mae: 7661.1470\n",
            "Epoch 24/100\n",
            "34/34 [==============================] - 0s 2ms/step - loss: 7527.6694 - mae: 7527.6694\n",
            "Epoch 25/100\n",
            "34/34 [==============================] - 0s 1ms/step - loss: 7568.8037 - mae: 7568.8037\n",
            "Epoch 26/100\n",
            "34/34 [==============================] - 0s 2ms/step - loss: 7714.7622 - mae: 7714.7622\n",
            "Epoch 27/100\n",
            "34/34 [==============================] - 0s 2ms/step - loss: 7695.7900 - mae: 7695.7900\n",
            "Epoch 28/100\n",
            "34/34 [==============================] - 0s 2ms/step - loss: 7350.2070 - mae: 7350.2070\n",
            "Epoch 29/100\n",
            "34/34 [==============================] - 0s 2ms/step - loss: 7696.1860 - mae: 7696.1860\n",
            "Epoch 30/100\n",
            "34/34 [==============================] - 0s 2ms/step - loss: 7748.0498 - mae: 7748.0498\n",
            "Epoch 31/100\n",
            "34/34 [==============================] - 0s 2ms/step - loss: 7530.2407 - mae: 7530.2407\n",
            "Epoch 32/100\n",
            "34/34 [==============================] - 0s 2ms/step - loss: 7491.3096 - mae: 7491.3096\n",
            "Epoch 33/100\n",
            "34/34 [==============================] - 0s 2ms/step - loss: 7381.2212 - mae: 7381.2212\n",
            "Epoch 34/100\n",
            "34/34 [==============================] - 0s 2ms/step - loss: 7474.1460 - mae: 7474.1460\n",
            "Epoch 35/100\n",
            "34/34 [==============================] - 0s 2ms/step - loss: 7553.1479 - mae: 7553.1479\n",
            "Epoch 36/100\n",
            "34/34 [==============================] - 0s 2ms/step - loss: 7609.4990 - mae: 7609.4990\n",
            "Epoch 37/100\n",
            "34/34 [==============================] - 0s 2ms/step - loss: 7506.6499 - mae: 7506.6499\n",
            "Epoch 38/100\n",
            "34/34 [==============================] - 0s 2ms/step - loss: 7368.1079 - mae: 7368.1079\n",
            "Epoch 39/100\n",
            "34/34 [==============================] - 0s 2ms/step - loss: 7475.2593 - mae: 7475.2593\n",
            "Epoch 40/100\n",
            "34/34 [==============================] - 0s 2ms/step - loss: 7501.2417 - mae: 7501.2417\n",
            "Epoch 41/100\n",
            "34/34 [==============================] - 0s 2ms/step - loss: 7722.6899 - mae: 7722.6899\n",
            "Epoch 42/100\n",
            "34/34 [==============================] - 0s 2ms/step - loss: 7674.4165 - mae: 7674.4165\n",
            "Epoch 43/100\n",
            "34/34 [==============================] - 0s 2ms/step - loss: 7635.5977 - mae: 7635.5977\n",
            "Epoch 44/100\n",
            "34/34 [==============================] - 0s 2ms/step - loss: 7357.5361 - mae: 7357.5361\n",
            "Epoch 45/100\n",
            "34/34 [==============================] - 0s 1ms/step - loss: 7579.3315 - mae: 7579.3315\n",
            "Epoch 46/100\n",
            "34/34 [==============================] - 0s 2ms/step - loss: 7401.0322 - mae: 7401.0322\n",
            "Epoch 47/100\n",
            "34/34 [==============================] - 0s 1ms/step - loss: 7307.3838 - mae: 7307.3838\n",
            "Epoch 48/100\n",
            "34/34 [==============================] - 0s 1ms/step - loss: 7645.8716 - mae: 7645.8716\n",
            "Epoch 49/100\n",
            "34/34 [==============================] - 0s 2ms/step - loss: 7506.4238 - mae: 7506.4238\n",
            "Epoch 50/100\n",
            "34/34 [==============================] - 0s 2ms/step - loss: 7483.3794 - mae: 7483.3794\n",
            "Epoch 51/100\n",
            "34/34 [==============================] - 0s 2ms/step - loss: 7280.0698 - mae: 7280.0698\n",
            "Epoch 52/100\n",
            "34/34 [==============================] - 0s 2ms/step - loss: 7283.6870 - mae: 7283.6870\n",
            "Epoch 53/100\n",
            "34/34 [==============================] - 0s 2ms/step - loss: 7544.9067 - mae: 7544.9067\n",
            "Epoch 54/100\n",
            "34/34 [==============================] - 0s 2ms/step - loss: 7340.7368 - mae: 7340.7368\n",
            "Epoch 55/100\n",
            "34/34 [==============================] - 0s 1ms/step - loss: 7411.4814 - mae: 7411.4814\n",
            "Epoch 56/100\n",
            "34/34 [==============================] - 0s 1ms/step - loss: 7385.8896 - mae: 7385.8896\n",
            "Epoch 57/100\n",
            "34/34 [==============================] - 0s 2ms/step - loss: 7435.2163 - mae: 7435.2163\n",
            "Epoch 58/100\n",
            "34/34 [==============================] - 0s 2ms/step - loss: 7398.6348 - mae: 7398.6348\n",
            "Epoch 59/100\n",
            "34/34 [==============================] - 0s 2ms/step - loss: 7644.2627 - mae: 7644.2627\n",
            "Epoch 60/100\n",
            "34/34 [==============================] - 0s 1ms/step - loss: 7423.3594 - mae: 7423.3594\n",
            "Epoch 61/100\n",
            "34/34 [==============================] - 0s 2ms/step - loss: 7338.2935 - mae: 7338.2935\n",
            "Epoch 62/100\n",
            "34/34 [==============================] - 0s 2ms/step - loss: 7385.4233 - mae: 7385.4233\n",
            "Epoch 63/100\n",
            "34/34 [==============================] - 0s 1ms/step - loss: 7424.5879 - mae: 7424.5879\n",
            "Epoch 64/100\n",
            "34/34 [==============================] - 0s 1ms/step - loss: 7264.6938 - mae: 7264.6938\n",
            "Epoch 65/100\n",
            "34/34 [==============================] - 0s 2ms/step - loss: 7442.2036 - mae: 7442.2036\n",
            "Epoch 66/100\n",
            "34/34 [==============================] - 0s 2ms/step - loss: 7568.1553 - mae: 7568.1553\n",
            "Epoch 67/100\n",
            "34/34 [==============================] - 0s 2ms/step - loss: 7332.8208 - mae: 7332.8208\n",
            "Epoch 68/100\n",
            "34/34 [==============================] - 0s 1ms/step - loss: 7561.5684 - mae: 7561.5684\n",
            "Epoch 69/100\n",
            "34/34 [==============================] - 0s 2ms/step - loss: 7469.9194 - mae: 7469.9194\n",
            "Epoch 70/100\n",
            "34/34 [==============================] - 0s 2ms/step - loss: 7610.1904 - mae: 7610.1904\n",
            "Epoch 71/100\n",
            "34/34 [==============================] - 0s 2ms/step - loss: 7323.0264 - mae: 7323.0264\n",
            "Epoch 72/100\n",
            "34/34 [==============================] - 0s 2ms/step - loss: 7358.3721 - mae: 7358.3721\n",
            "Epoch 73/100\n",
            "34/34 [==============================] - 0s 2ms/step - loss: 7391.0410 - mae: 7391.0410\n",
            "Epoch 74/100\n",
            "34/34 [==============================] - 0s 2ms/step - loss: 7342.1582 - mae: 7342.1582\n",
            "Epoch 75/100\n",
            "34/34 [==============================] - 0s 1ms/step - loss: 7260.5132 - mae: 7260.5132\n",
            "Epoch 76/100\n",
            "34/34 [==============================] - 0s 2ms/step - loss: 7230.5562 - mae: 7230.5562\n",
            "Epoch 77/100\n",
            "34/34 [==============================] - 0s 2ms/step - loss: 7067.5962 - mae: 7067.5962\n",
            "Epoch 78/100\n",
            "34/34 [==============================] - 0s 2ms/step - loss: 7190.5796 - mae: 7190.5796\n",
            "Epoch 79/100\n",
            "34/34 [==============================] - 0s 2ms/step - loss: 7389.7188 - mae: 7389.7188\n",
            "Epoch 80/100\n",
            "34/34 [==============================] - 0s 2ms/step - loss: 7113.8262 - mae: 7113.8262\n",
            "Epoch 81/100\n",
            "34/34 [==============================] - 0s 2ms/step - loss: 7340.0044 - mae: 7340.0044\n",
            "Epoch 82/100\n",
            "34/34 [==============================] - 0s 3ms/step - loss: 7207.1177 - mae: 7207.1177\n",
            "Epoch 83/100\n",
            "34/34 [==============================] - 0s 3ms/step - loss: 7416.8857 - mae: 7416.8857\n",
            "Epoch 84/100\n",
            "34/34 [==============================] - 0s 3ms/step - loss: 7398.6323 - mae: 7398.6323\n",
            "Epoch 85/100\n",
            "34/34 [==============================] - 0s 3ms/step - loss: 7335.2925 - mae: 7335.2925\n",
            "Epoch 86/100\n",
            "34/34 [==============================] - 0s 2ms/step - loss: 7498.5337 - mae: 7498.5337\n",
            "Epoch 87/100\n",
            "34/34 [==============================] - 0s 3ms/step - loss: 7223.7969 - mae: 7223.7969\n",
            "Epoch 88/100\n",
            "34/34 [==============================] - 0s 2ms/step - loss: 7120.1655 - mae: 7120.1655\n",
            "Epoch 89/100\n",
            "34/34 [==============================] - 0s 2ms/step - loss: 7547.3569 - mae: 7547.3569\n",
            "Epoch 90/100\n",
            "34/34 [==============================] - 0s 2ms/step - loss: 7266.7324 - mae: 7266.7324\n",
            "Epoch 91/100\n",
            "34/34 [==============================] - 0s 3ms/step - loss: 7233.4214 - mae: 7233.4214\n",
            "Epoch 92/100\n",
            "34/34 [==============================] - 0s 3ms/step - loss: 7271.6489 - mae: 7271.6489\n",
            "Epoch 93/100\n",
            "34/34 [==============================] - 0s 3ms/step - loss: 7517.5181 - mae: 7517.5181\n",
            "Epoch 94/100\n",
            "34/34 [==============================] - 0s 2ms/step - loss: 7303.4482 - mae: 7303.4482\n",
            "Epoch 95/100\n",
            "34/34 [==============================] - 0s 2ms/step - loss: 7418.0347 - mae: 7418.0347\n",
            "Epoch 96/100\n",
            "34/34 [==============================] - 0s 2ms/step - loss: 7179.6748 - mae: 7179.6748\n",
            "Epoch 97/100\n",
            "34/34 [==============================] - 0s 2ms/step - loss: 7170.5244 - mae: 7170.5244\n",
            "Epoch 98/100\n",
            "34/34 [==============================] - 0s 3ms/step - loss: 7436.6914 - mae: 7436.6914\n",
            "Epoch 99/100\n",
            "34/34 [==============================] - 0s 2ms/step - loss: 7376.6147 - mae: 7376.6147\n",
            "Epoch 100/100\n",
            "34/34 [==============================] - 0s 3ms/step - loss: 7090.9580 - mae: 7090.9580\n"
          ]
        },
        {
          "output_type": "execute_result",
          "data": {
            "text/plain": [
              "<keras.callbacks.History at 0x7bc35b51c130>"
            ]
          },
          "metadata": {},
          "execution_count": 59
        }
      ],
      "source": [
        "#Build a neural network   (sort of like model_2 above)\n",
        "tf.random.set_seed(42)\n",
        "\n",
        "# 1.Create a model\n",
        "insurance_model=tf.keras.Sequential([\n",
        "    tf.keras.layers.Dense(10),\n",
        "    tf.keras.layers.Dense(1)\n",
        "])\n",
        "\n",
        "# 2. compile the model\n",
        "insurance_model.compile(loss=tf.keras.losses.mae,\n",
        "                        optimizer=tf.keras.optimizers.SGD(),\n",
        "                        metrics=[\"mae\"])\n",
        "# 3. fit the model\n",
        "\n",
        "insurance_model.fit(X_train,y_train,epochs=100)"
      ]
    },
    {
      "cell_type": "code",
      "execution_count": null,
      "metadata": {
        "colab": {
          "base_uri": "https://localhost:8080/"
        },
        "id": "8HOQJs7mrBUK",
        "outputId": "bb69a36e-2bb2-4852-9168-0ac85787393e"
      },
      "outputs": [
        {
          "output_type": "stream",
          "name": "stdout",
          "text": [
            "9/9 [==============================] - 0s 4ms/step - loss: 7189.4570 - mae: 7189.4570\n"
          ]
        },
        {
          "output_type": "execute_result",
          "data": {
            "text/plain": [
              "[7189.45703125, 7189.45703125]"
            ]
          },
          "metadata": {},
          "execution_count": 60
        }
      ],
      "source": [
        "#Check the results of the insurance model on the test data\n",
        "insurance_model.evaluate(X_test,y_test)"
      ]
    },
    {
      "cell_type": "code",
      "execution_count": null,
      "metadata": {
        "colab": {
          "base_uri": "https://localhost:8080/"
        },
        "id": "1XkAlCKvvRxE",
        "outputId": "d716d7fa-aaea-48b9-b454-12729187ec92"
      },
      "outputs": [
        {
          "output_type": "execute_result",
          "data": {
            "text/plain": [
              "(9575.4421, 13346.089736364485)"
            ]
          },
          "metadata": {},
          "execution_count": 61
        }
      ],
      "source": [
        "y_train.median(),y_train.mean()"
      ]
    },
    {
      "cell_type": "code",
      "execution_count": null,
      "metadata": {
        "colab": {
          "base_uri": "https://localhost:8080/"
        },
        "id": "SuNmVt2Dv2qq",
        "outputId": "4e67ad2d-f97d-4251-c8ae-83b75c4f5bc3"
      },
      "outputs": [
        {
          "output_type": "stream",
          "name": "stdout",
          "text": [
            "Epoch 1/500\n",
            "11/11 [==============================] - 1s 4ms/step - loss: 10943.8369 - mae: 10943.8369\n",
            "Epoch 2/500\n",
            "11/11 [==============================] - 0s 3ms/step - loss: 7880.4897 - mae: 7880.4897\n",
            "Epoch 3/500\n",
            "11/11 [==============================] - 0s 3ms/step - loss: 7080.9033 - mae: 7080.9033\n",
            "Epoch 4/500\n",
            "11/11 [==============================] - 0s 3ms/step - loss: 6137.3486 - mae: 6137.3486\n",
            "Epoch 5/500\n",
            "11/11 [==============================] - 0s 3ms/step - loss: 5025.4551 - mae: 5025.4551\n",
            "Epoch 6/500\n",
            "11/11 [==============================] - 0s 3ms/step - loss: 4129.2979 - mae: 4129.2979\n",
            "Epoch 7/500\n",
            "11/11 [==============================] - 0s 4ms/step - loss: 3946.1018 - mae: 3946.1018\n",
            "Epoch 8/500\n",
            "11/11 [==============================] - 0s 3ms/step - loss: 3468.4888 - mae: 3468.4888\n",
            "Epoch 9/500\n",
            "11/11 [==============================] - 0s 3ms/step - loss: 3661.9441 - mae: 3661.9441\n",
            "Epoch 10/500\n",
            "11/11 [==============================] - 0s 3ms/step - loss: 3518.3567 - mae: 3518.3567\n",
            "Epoch 11/500\n",
            "11/11 [==============================] - 0s 3ms/step - loss: 3814.6357 - mae: 3814.6357\n",
            "Epoch 12/500\n",
            "11/11 [==============================] - 0s 3ms/step - loss: 3946.4060 - mae: 3946.4055\n",
            "Epoch 13/500\n",
            "11/11 [==============================] - 0s 3ms/step - loss: 3370.5537 - mae: 3370.5537\n",
            "Epoch 14/500\n",
            "11/11 [==============================] - 0s 3ms/step - loss: 3097.2666 - mae: 3097.2666\n",
            "Epoch 15/500\n",
            "11/11 [==============================] - 0s 3ms/step - loss: 3037.4551 - mae: 3037.4551\n",
            "Epoch 16/500\n",
            "11/11 [==============================] - 0s 5ms/step - loss: 3015.4214 - mae: 3015.4214\n",
            "Epoch 17/500\n",
            "11/11 [==============================] - 0s 3ms/step - loss: 2969.1917 - mae: 2969.1917\n",
            "Epoch 18/500\n",
            "11/11 [==============================] - 0s 3ms/step - loss: 3061.7512 - mae: 3061.7512\n",
            "Epoch 19/500\n",
            "11/11 [==============================] - 0s 3ms/step - loss: 2840.5435 - mae: 2840.5435\n",
            "Epoch 20/500\n",
            "11/11 [==============================] - 0s 4ms/step - loss: 2678.6682 - mae: 2678.6682\n",
            "Epoch 21/500\n",
            "11/11 [==============================] - 0s 6ms/step - loss: 2687.0547 - mae: 2687.0547\n",
            "Epoch 22/500\n",
            "11/11 [==============================] - 0s 4ms/step - loss: 3098.6973 - mae: 3098.6973\n",
            "Epoch 23/500\n",
            "11/11 [==============================] - 0s 3ms/step - loss: 2983.0027 - mae: 2983.0027\n",
            "Epoch 24/500\n",
            "11/11 [==============================] - 0s 3ms/step - loss: 3049.3535 - mae: 3049.3535\n",
            "Epoch 25/500\n",
            "11/11 [==============================] - 0s 3ms/step - loss: 3468.3870 - mae: 3468.3870\n",
            "Epoch 26/500\n",
            "11/11 [==============================] - 0s 3ms/step - loss: 2869.0825 - mae: 2869.0825\n",
            "Epoch 27/500\n",
            "11/11 [==============================] - 0s 3ms/step - loss: 2720.9521 - mae: 2720.9521\n",
            "Epoch 28/500\n",
            "11/11 [==============================] - 0s 4ms/step - loss: 3245.2703 - mae: 3245.2700\n",
            "Epoch 29/500\n",
            "11/11 [==============================] - 0s 3ms/step - loss: 3025.8684 - mae: 3025.8684\n",
            "Epoch 30/500\n",
            "11/11 [==============================] - 0s 3ms/step - loss: 2668.5752 - mae: 2668.5752\n",
            "Epoch 31/500\n",
            "11/11 [==============================] - 0s 3ms/step - loss: 2465.6956 - mae: 2465.6956\n",
            "Epoch 32/500\n",
            "11/11 [==============================] - 0s 3ms/step - loss: 2325.7300 - mae: 2325.7300\n",
            "Epoch 33/500\n",
            "11/11 [==============================] - 0s 4ms/step - loss: 2642.0339 - mae: 2642.0337\n",
            "Epoch 34/500\n",
            "11/11 [==============================] - 0s 4ms/step - loss: 2763.9158 - mae: 2763.9158\n",
            "Epoch 35/500\n",
            "11/11 [==============================] - 0s 3ms/step - loss: 2781.6682 - mae: 2781.6682\n",
            "Epoch 36/500\n",
            "11/11 [==============================] - 0s 3ms/step - loss: 2867.6804 - mae: 2867.6804\n",
            "Epoch 37/500\n",
            "11/11 [==============================] - 0s 3ms/step - loss: 2396.4539 - mae: 2396.4539\n",
            "Epoch 38/500\n",
            "11/11 [==============================] - 0s 3ms/step - loss: 2433.0244 - mae: 2433.0244\n",
            "Epoch 39/500\n",
            "11/11 [==============================] - 0s 3ms/step - loss: 2882.2305 - mae: 2882.2305\n",
            "Epoch 40/500\n",
            "11/11 [==============================] - 0s 3ms/step - loss: 2556.6611 - mae: 2556.6611\n",
            "Epoch 41/500\n",
            "11/11 [==============================] - 0s 3ms/step - loss: 2508.4050 - mae: 2508.4050\n",
            "Epoch 42/500\n",
            "11/11 [==============================] - 0s 3ms/step - loss: 2442.7312 - mae: 2442.7312\n",
            "Epoch 43/500\n",
            "11/11 [==============================] - 0s 3ms/step - loss: 2431.1736 - mae: 2431.1736\n",
            "Epoch 44/500\n",
            "11/11 [==============================] - 0s 3ms/step - loss: 2358.6853 - mae: 2358.6853\n",
            "Epoch 45/500\n",
            "11/11 [==============================] - 0s 3ms/step - loss: 2495.8108 - mae: 2495.8108\n",
            "Epoch 46/500\n",
            "11/11 [==============================] - 0s 4ms/step - loss: 2771.3218 - mae: 2771.3218\n",
            "Epoch 47/500\n",
            "11/11 [==============================] - 0s 4ms/step - loss: 2393.2986 - mae: 2393.2986\n",
            "Epoch 48/500\n",
            "11/11 [==============================] - 0s 3ms/step - loss: 2320.7725 - mae: 2320.7725\n",
            "Epoch 49/500\n",
            "11/11 [==============================] - 0s 3ms/step - loss: 2286.4756 - mae: 2286.4756\n",
            "Epoch 50/500\n",
            "11/11 [==============================] - 0s 3ms/step - loss: 2447.7747 - mae: 2447.7744\n",
            "Epoch 51/500\n",
            "11/11 [==============================] - 0s 3ms/step - loss: 2913.3523 - mae: 2913.3523\n",
            "Epoch 52/500\n",
            "11/11 [==============================] - 0s 3ms/step - loss: 2642.1660 - mae: 2642.1660\n",
            "Epoch 53/500\n",
            "11/11 [==============================] - 0s 3ms/step - loss: 2384.1226 - mae: 2384.1226\n",
            "Epoch 54/500\n",
            "11/11 [==============================] - 0s 3ms/step - loss: 2411.7986 - mae: 2411.7986\n",
            "Epoch 55/500\n",
            "11/11 [==============================] - 0s 3ms/step - loss: 2358.0183 - mae: 2358.0183\n",
            "Epoch 56/500\n",
            "11/11 [==============================] - 0s 3ms/step - loss: 2476.9006 - mae: 2476.9006\n",
            "Epoch 57/500\n",
            "11/11 [==============================] - 0s 3ms/step - loss: 2815.2297 - mae: 2815.2297\n",
            "Epoch 58/500\n",
            "11/11 [==============================] - 0s 3ms/step - loss: 2991.5012 - mae: 2991.5012\n",
            "Epoch 59/500\n",
            "11/11 [==============================] - 0s 3ms/step - loss: 2471.3723 - mae: 2471.3723\n",
            "Epoch 60/500\n",
            "11/11 [==============================] - 0s 3ms/step - loss: 2344.7454 - mae: 2344.7454\n",
            "Epoch 61/500\n",
            "11/11 [==============================] - 0s 3ms/step - loss: 2363.6370 - mae: 2363.6370\n",
            "Epoch 62/500\n",
            "11/11 [==============================] - 0s 3ms/step - loss: 2296.9155 - mae: 2296.9153\n",
            "Epoch 63/500\n",
            "11/11 [==============================] - 0s 3ms/step - loss: 2202.5002 - mae: 2202.5002\n",
            "Epoch 64/500\n",
            "11/11 [==============================] - 0s 3ms/step - loss: 2198.2639 - mae: 2198.2639\n",
            "Epoch 65/500\n",
            "11/11 [==============================] - 0s 3ms/step - loss: 2247.8818 - mae: 2247.8818\n",
            "Epoch 66/500\n",
            "11/11 [==============================] - 0s 3ms/step - loss: 2667.5369 - mae: 2667.5369\n",
            "Epoch 67/500\n",
            "11/11 [==============================] - 0s 3ms/step - loss: 2814.4048 - mae: 2814.4048\n",
            "Epoch 68/500\n",
            "11/11 [==============================] - 0s 4ms/step - loss: 2753.6440 - mae: 2753.6440\n",
            "Epoch 69/500\n",
            "11/11 [==============================] - 0s 3ms/step - loss: 2626.8796 - mae: 2626.8796\n",
            "Epoch 70/500\n",
            "11/11 [==============================] - 0s 4ms/step - loss: 2728.2769 - mae: 2728.2769\n",
            "Epoch 71/500\n",
            "11/11 [==============================] - 0s 3ms/step - loss: 2395.7485 - mae: 2395.7485\n",
            "Epoch 72/500\n",
            "11/11 [==============================] - 0s 3ms/step - loss: 2269.8313 - mae: 2269.8313\n",
            "Epoch 73/500\n",
            "11/11 [==============================] - 0s 3ms/step - loss: 2613.1440 - mae: 2613.1440\n",
            "Epoch 74/500\n",
            "11/11 [==============================] - 0s 3ms/step - loss: 2657.2544 - mae: 2657.2544\n",
            "Epoch 75/500\n",
            "11/11 [==============================] - 0s 3ms/step - loss: 2648.6814 - mae: 2648.6814\n",
            "Epoch 76/500\n",
            "11/11 [==============================] - 0s 3ms/step - loss: 2642.7310 - mae: 2642.7310\n",
            "Epoch 77/500\n",
            "11/11 [==============================] - 0s 3ms/step - loss: 2654.3914 - mae: 2654.3914\n",
            "Epoch 78/500\n",
            "11/11 [==============================] - 0s 4ms/step - loss: 2266.1375 - mae: 2266.1375\n",
            "Epoch 79/500\n",
            "11/11 [==============================] - 0s 3ms/step - loss: 2469.2585 - mae: 2469.2585\n",
            "Epoch 80/500\n",
            "11/11 [==============================] - 0s 3ms/step - loss: 2412.1794 - mae: 2412.1794\n",
            "Epoch 81/500\n",
            "11/11 [==============================] - 0s 3ms/step - loss: 2342.7039 - mae: 2342.7039\n",
            "Epoch 82/500\n",
            "11/11 [==============================] - 0s 4ms/step - loss: 2325.2654 - mae: 2325.2654\n",
            "Epoch 83/500\n",
            "11/11 [==============================] - 0s 4ms/step - loss: 2408.0610 - mae: 2408.0610\n",
            "Epoch 84/500\n",
            "11/11 [==============================] - 0s 3ms/step - loss: 2152.1204 - mae: 2152.1204\n",
            "Epoch 85/500\n",
            "11/11 [==============================] - 0s 3ms/step - loss: 2255.8667 - mae: 2255.8667\n",
            "Epoch 86/500\n",
            "11/11 [==============================] - 0s 3ms/step - loss: 2102.1067 - mae: 2102.1067\n",
            "Epoch 87/500\n",
            "11/11 [==============================] - 0s 3ms/step - loss: 2252.0581 - mae: 2252.0581\n",
            "Epoch 88/500\n",
            "11/11 [==============================] - 0s 3ms/step - loss: 2176.3701 - mae: 2176.3701\n",
            "Epoch 89/500\n",
            "11/11 [==============================] - 0s 4ms/step - loss: 2260.8923 - mae: 2260.8923\n",
            "Epoch 90/500\n",
            "11/11 [==============================] - 0s 3ms/step - loss: 2793.2280 - mae: 2793.2280\n",
            "Epoch 91/500\n",
            "11/11 [==============================] - 0s 3ms/step - loss: 2161.2747 - mae: 2161.2747\n",
            "Epoch 92/500\n",
            "11/11 [==============================] - 0s 4ms/step - loss: 2331.0876 - mae: 2331.0876\n",
            "Epoch 93/500\n",
            "11/11 [==============================] - 0s 3ms/step - loss: 2560.9629 - mae: 2560.9629\n",
            "Epoch 94/500\n",
            "11/11 [==============================] - 0s 3ms/step - loss: 2667.7319 - mae: 2667.7319\n",
            "Epoch 95/500\n",
            "11/11 [==============================] - 0s 4ms/step - loss: 2387.6589 - mae: 2387.6589\n",
            "Epoch 96/500\n",
            "11/11 [==============================] - 0s 4ms/step - loss: 2426.0999 - mae: 2426.0999\n",
            "Epoch 97/500\n",
            "11/11 [==============================] - 0s 5ms/step - loss: 2280.7764 - mae: 2280.7764\n",
            "Epoch 98/500\n",
            "11/11 [==============================] - 0s 3ms/step - loss: 2194.9673 - mae: 2194.9673\n",
            "Epoch 99/500\n",
            "11/11 [==============================] - 0s 3ms/step - loss: 2132.4343 - mae: 2132.4343\n",
            "Epoch 100/500\n",
            "11/11 [==============================] - 0s 3ms/step - loss: 2203.7397 - mae: 2203.7397\n",
            "Epoch 101/500\n",
            "11/11 [==============================] - 0s 3ms/step - loss: 2334.3345 - mae: 2334.3345\n",
            "Epoch 102/500\n",
            "11/11 [==============================] - 0s 3ms/step - loss: 2347.3523 - mae: 2347.3523\n",
            "Epoch 103/500\n",
            "11/11 [==============================] - 0s 3ms/step - loss: 2469.1562 - mae: 2469.1562\n",
            "Epoch 104/500\n",
            "11/11 [==============================] - 0s 3ms/step - loss: 2235.3240 - mae: 2235.3240\n",
            "Epoch 105/500\n",
            "11/11 [==============================] - 0s 3ms/step - loss: 2069.3071 - mae: 2069.3071\n",
            "Epoch 106/500\n",
            "11/11 [==============================] - 0s 3ms/step - loss: 2386.5718 - mae: 2386.5718\n",
            "Epoch 107/500\n",
            "11/11 [==============================] - 0s 3ms/step - loss: 2235.2295 - mae: 2235.2295\n",
            "Epoch 108/500\n",
            "11/11 [==============================] - 0s 3ms/step - loss: 2255.3525 - mae: 2255.3528\n",
            "Epoch 109/500\n",
            "11/11 [==============================] - 0s 3ms/step - loss: 2500.2026 - mae: 2500.2026\n",
            "Epoch 110/500\n",
            "11/11 [==============================] - 0s 3ms/step - loss: 2199.5137 - mae: 2199.5137\n",
            "Epoch 111/500\n",
            "11/11 [==============================] - 0s 4ms/step - loss: 2120.4080 - mae: 2120.4080\n",
            "Epoch 112/500\n",
            "11/11 [==============================] - 0s 3ms/step - loss: 2308.3357 - mae: 2308.3357\n",
            "Epoch 113/500\n",
            "11/11 [==============================] - 0s 3ms/step - loss: 2213.5552 - mae: 2213.5552\n",
            "Epoch 114/500\n",
            "11/11 [==============================] - 0s 4ms/step - loss: 2210.4048 - mae: 2210.4048\n",
            "Epoch 115/500\n",
            "11/11 [==============================] - 0s 4ms/step - loss: 2339.4539 - mae: 2339.4539\n",
            "Epoch 116/500\n",
            "11/11 [==============================] - 0s 3ms/step - loss: 2409.0027 - mae: 2409.0027\n",
            "Epoch 117/500\n",
            "11/11 [==============================] - 0s 3ms/step - loss: 2719.3521 - mae: 2719.3521\n",
            "Epoch 118/500\n",
            "11/11 [==============================] - 0s 3ms/step - loss: 2674.4561 - mae: 2674.4561\n",
            "Epoch 119/500\n",
            "11/11 [==============================] - 0s 3ms/step - loss: 2250.3765 - mae: 2250.3765\n",
            "Epoch 120/500\n",
            "11/11 [==============================] - 0s 3ms/step - loss: 2166.5371 - mae: 2166.5371\n",
            "Epoch 121/500\n",
            "11/11 [==============================] - 0s 3ms/step - loss: 2003.5135 - mae: 2003.5135\n",
            "Epoch 122/500\n",
            "11/11 [==============================] - 0s 4ms/step - loss: 1966.6316 - mae: 1966.6316\n",
            "Epoch 123/500\n",
            "11/11 [==============================] - 0s 3ms/step - loss: 1941.1642 - mae: 1941.1642\n",
            "Epoch 124/500\n",
            "11/11 [==============================] - 0s 3ms/step - loss: 2258.0417 - mae: 2258.0417\n",
            "Epoch 125/500\n",
            "11/11 [==============================] - 0s 3ms/step - loss: 2821.3032 - mae: 2821.3032\n",
            "Epoch 126/500\n",
            "11/11 [==============================] - 0s 4ms/step - loss: 2144.1206 - mae: 2144.1206\n",
            "Epoch 127/500\n",
            "11/11 [==============================] - 0s 3ms/step - loss: 2098.2556 - mae: 2098.2556\n",
            "Epoch 128/500\n",
            "11/11 [==============================] - 0s 3ms/step - loss: 1966.8734 - mae: 1966.8734\n",
            "Epoch 129/500\n",
            "11/11 [==============================] - 0s 3ms/step - loss: 2180.1609 - mae: 2180.1609\n",
            "Epoch 130/500\n",
            "11/11 [==============================] - 0s 3ms/step - loss: 2048.9612 - mae: 2048.9612\n",
            "Epoch 131/500\n",
            "11/11 [==============================] - 0s 3ms/step - loss: 2391.2705 - mae: 2391.2705\n",
            "Epoch 132/500\n",
            "11/11 [==============================] - 0s 4ms/step - loss: 2564.0120 - mae: 2564.0120\n",
            "Epoch 133/500\n",
            "11/11 [==============================] - 0s 3ms/step - loss: 2299.9500 - mae: 2299.9500\n",
            "Epoch 134/500\n",
            "11/11 [==============================] - 0s 3ms/step - loss: 2117.6860 - mae: 2117.6860\n",
            "Epoch 135/500\n",
            "11/11 [==============================] - 0s 3ms/step - loss: 2142.2942 - mae: 2142.2942\n",
            "Epoch 136/500\n",
            "11/11 [==============================] - 0s 3ms/step - loss: 2238.6614 - mae: 2238.6614\n",
            "Epoch 137/500\n",
            "11/11 [==============================] - 0s 4ms/step - loss: 2383.9939 - mae: 2383.9939\n",
            "Epoch 138/500\n",
            "11/11 [==============================] - 0s 3ms/step - loss: 2670.8506 - mae: 2670.8506\n",
            "Epoch 139/500\n",
            "11/11 [==============================] - 0s 4ms/step - loss: 2267.3123 - mae: 2267.3125\n",
            "Epoch 140/500\n",
            "11/11 [==============================] - 0s 4ms/step - loss: 1998.3372 - mae: 1998.3372\n",
            "Epoch 141/500\n",
            "11/11 [==============================] - 0s 4ms/step - loss: 1933.2893 - mae: 1933.2893\n",
            "Epoch 142/500\n",
            "11/11 [==============================] - 0s 3ms/step - loss: 2026.0205 - mae: 2026.0204\n",
            "Epoch 143/500\n",
            "11/11 [==============================] - 0s 3ms/step - loss: 2076.1418 - mae: 2076.1418\n",
            "Epoch 144/500\n",
            "11/11 [==============================] - 0s 3ms/step - loss: 2275.9067 - mae: 2275.9067\n",
            "Epoch 145/500\n",
            "11/11 [==============================] - 0s 3ms/step - loss: 1899.5610 - mae: 1899.5610\n",
            "Epoch 146/500\n",
            "11/11 [==============================] - 0s 4ms/step - loss: 2055.6711 - mae: 2055.6711\n",
            "Epoch 147/500\n",
            "11/11 [==============================] - 0s 3ms/step - loss: 2388.7883 - mae: 2388.7883\n",
            "Epoch 148/500\n",
            "11/11 [==============================] - 0s 4ms/step - loss: 2152.2488 - mae: 2152.2488\n",
            "Epoch 149/500\n",
            "11/11 [==============================] - 0s 4ms/step - loss: 2087.5061 - mae: 2087.5059\n",
            "Epoch 150/500\n",
            "11/11 [==============================] - 0s 3ms/step - loss: 1977.4238 - mae: 1977.4238\n",
            "Epoch 151/500\n",
            "11/11 [==============================] - 0s 4ms/step - loss: 2043.2666 - mae: 2043.2666\n",
            "Epoch 152/500\n",
            "11/11 [==============================] - 0s 4ms/step - loss: 1877.1053 - mae: 1877.1053\n",
            "Epoch 153/500\n",
            "11/11 [==============================] - 0s 3ms/step - loss: 2110.7332 - mae: 2110.7332\n",
            "Epoch 154/500\n",
            "11/11 [==============================] - 0s 3ms/step - loss: 2376.5701 - mae: 2376.5701\n",
            "Epoch 155/500\n",
            "11/11 [==============================] - 0s 4ms/step - loss: 2283.8596 - mae: 2283.8596\n",
            "Epoch 156/500\n",
            "11/11 [==============================] - 0s 6ms/step - loss: 2359.3594 - mae: 2359.3591\n",
            "Epoch 157/500\n",
            "11/11 [==============================] - 0s 8ms/step - loss: 2442.3999 - mae: 2442.3999\n",
            "Epoch 158/500\n",
            "11/11 [==============================] - 0s 7ms/step - loss: 2030.2715 - mae: 2030.2715\n",
            "Epoch 159/500\n",
            "11/11 [==============================] - 0s 5ms/step - loss: 1977.1173 - mae: 1977.1173\n",
            "Epoch 160/500\n",
            "11/11 [==============================] - 0s 7ms/step - loss: 1846.8440 - mae: 1846.8440\n",
            "Epoch 161/500\n",
            "11/11 [==============================] - 0s 6ms/step - loss: 1965.6656 - mae: 1965.6659\n",
            "Epoch 162/500\n",
            "11/11 [==============================] - 0s 6ms/step - loss: 2002.3710 - mae: 2002.3710\n",
            "Epoch 163/500\n",
            "11/11 [==============================] - 0s 6ms/step - loss: 2214.4216 - mae: 2214.4216\n",
            "Epoch 164/500\n",
            "11/11 [==============================] - 0s 5ms/step - loss: 2068.8289 - mae: 2068.8289\n",
            "Epoch 165/500\n",
            "11/11 [==============================] - 0s 5ms/step - loss: 2165.9817 - mae: 2165.9817\n",
            "Epoch 166/500\n",
            "11/11 [==============================] - 0s 5ms/step - loss: 2271.9424 - mae: 2271.9421\n",
            "Epoch 167/500\n",
            "11/11 [==============================] - 0s 6ms/step - loss: 2106.0161 - mae: 2106.0161\n",
            "Epoch 168/500\n",
            "11/11 [==============================] - 0s 5ms/step - loss: 2323.6846 - mae: 2323.6846\n",
            "Epoch 169/500\n",
            "11/11 [==============================] - 0s 5ms/step - loss: 2823.8950 - mae: 2823.8950\n",
            "Epoch 170/500\n",
            "11/11 [==============================] - 0s 6ms/step - loss: 2424.8364 - mae: 2424.8364\n",
            "Epoch 171/500\n",
            "11/11 [==============================] - 0s 5ms/step - loss: 2353.3635 - mae: 2353.3635\n",
            "Epoch 172/500\n",
            "11/11 [==============================] - 0s 7ms/step - loss: 2193.5122 - mae: 2193.5122\n",
            "Epoch 173/500\n",
            "11/11 [==============================] - 0s 7ms/step - loss: 2230.3796 - mae: 2230.3796\n",
            "Epoch 174/500\n",
            "11/11 [==============================] - 0s 6ms/step - loss: 1997.5885 - mae: 1997.5885\n",
            "Epoch 175/500\n",
            "11/11 [==============================] - 0s 7ms/step - loss: 1975.0933 - mae: 1975.0933\n",
            "Epoch 176/500\n",
            "11/11 [==============================] - 0s 6ms/step - loss: 2117.6077 - mae: 2117.6077\n",
            "Epoch 177/500\n",
            "11/11 [==============================] - 0s 6ms/step - loss: 2087.8547 - mae: 2087.8547\n",
            "Epoch 178/500\n",
            "11/11 [==============================] - 0s 6ms/step - loss: 2039.8571 - mae: 2039.8571\n",
            "Epoch 179/500\n",
            "11/11 [==============================] - 0s 5ms/step - loss: 2071.1750 - mae: 2071.1750\n",
            "Epoch 180/500\n",
            "11/11 [==============================] - 0s 7ms/step - loss: 2010.2676 - mae: 2010.2676\n",
            "Epoch 181/500\n",
            "11/11 [==============================] - 0s 6ms/step - loss: 2052.1860 - mae: 2052.1860\n",
            "Epoch 182/500\n",
            "11/11 [==============================] - 0s 6ms/step - loss: 2050.7627 - mae: 2050.7627\n",
            "Epoch 183/500\n",
            "11/11 [==============================] - 0s 7ms/step - loss: 2108.7520 - mae: 2108.7520\n",
            "Epoch 184/500\n",
            "11/11 [==============================] - 0s 5ms/step - loss: 2093.4009 - mae: 2093.4009\n",
            "Epoch 185/500\n",
            "11/11 [==============================] - 0s 6ms/step - loss: 2146.3499 - mae: 2146.3499\n",
            "Epoch 186/500\n",
            "11/11 [==============================] - 0s 8ms/step - loss: 2011.8799 - mae: 2011.8799\n",
            "Epoch 187/500\n",
            "11/11 [==============================] - 0s 5ms/step - loss: 2466.9060 - mae: 2466.9060\n",
            "Epoch 188/500\n",
            "11/11 [==============================] - 0s 5ms/step - loss: 2104.0330 - mae: 2104.0330\n",
            "Epoch 189/500\n",
            "11/11 [==============================] - 0s 6ms/step - loss: 2158.0647 - mae: 2158.0645\n",
            "Epoch 190/500\n",
            "11/11 [==============================] - 0s 7ms/step - loss: 2061.0247 - mae: 2061.0247\n",
            "Epoch 191/500\n",
            "11/11 [==============================] - 0s 5ms/step - loss: 2056.0259 - mae: 2056.0259\n",
            "Epoch 192/500\n",
            "11/11 [==============================] - 0s 6ms/step - loss: 2040.8811 - mae: 2040.8811\n",
            "Epoch 193/500\n",
            "11/11 [==============================] - 0s 6ms/step - loss: 2306.9500 - mae: 2306.9500\n",
            "Epoch 194/500\n",
            "11/11 [==============================] - 0s 5ms/step - loss: 2217.7737 - mae: 2217.7737\n",
            "Epoch 195/500\n",
            "11/11 [==============================] - 0s 5ms/step - loss: 1986.1631 - mae: 1986.1631\n",
            "Epoch 196/500\n",
            "11/11 [==============================] - 0s 6ms/step - loss: 2178.8804 - mae: 2178.8804\n",
            "Epoch 197/500\n",
            "11/11 [==============================] - 0s 5ms/step - loss: 2216.4702 - mae: 2216.4702\n",
            "Epoch 198/500\n",
            "11/11 [==============================] - 0s 5ms/step - loss: 2027.3145 - mae: 2027.3145\n",
            "Epoch 199/500\n",
            "11/11 [==============================] - 0s 5ms/step - loss: 1838.0065 - mae: 1838.0065\n",
            "Epoch 200/500\n",
            "11/11 [==============================] - 0s 5ms/step - loss: 1950.8824 - mae: 1950.8824\n",
            "Epoch 201/500\n",
            "11/11 [==============================] - 0s 5ms/step - loss: 1953.7849 - mae: 1953.7849\n",
            "Epoch 202/500\n",
            "11/11 [==============================] - 0s 5ms/step - loss: 2009.6631 - mae: 2009.6628\n",
            "Epoch 203/500\n",
            "11/11 [==============================] - 0s 6ms/step - loss: 2358.0730 - mae: 2358.0728\n",
            "Epoch 204/500\n",
            "11/11 [==============================] - 0s 6ms/step - loss: 2432.3940 - mae: 2432.3940\n",
            "Epoch 205/500\n",
            "11/11 [==============================] - 0s 6ms/step - loss: 2461.6179 - mae: 2461.6179\n",
            "Epoch 206/500\n",
            "11/11 [==============================] - 0s 4ms/step - loss: 2325.3074 - mae: 2325.3074\n",
            "Epoch 207/500\n",
            "11/11 [==============================] - 0s 4ms/step - loss: 1939.5668 - mae: 1939.5665\n",
            "Epoch 208/500\n",
            "11/11 [==============================] - 0s 4ms/step - loss: 1863.0626 - mae: 1863.0626\n",
            "Epoch 209/500\n",
            "11/11 [==============================] - 0s 4ms/step - loss: 1839.8647 - mae: 1839.8647\n",
            "Epoch 210/500\n",
            "11/11 [==============================] - 0s 5ms/step - loss: 1967.3574 - mae: 1967.3574\n",
            "Epoch 211/500\n",
            "11/11 [==============================] - 0s 5ms/step - loss: 2131.9321 - mae: 2131.9321\n",
            "Epoch 212/500\n",
            "11/11 [==============================] - 0s 5ms/step - loss: 2015.2408 - mae: 2015.2408\n",
            "Epoch 213/500\n",
            "11/11 [==============================] - 0s 5ms/step - loss: 1847.9697 - mae: 1847.9698\n",
            "Epoch 214/500\n",
            "11/11 [==============================] - 0s 7ms/step - loss: 1907.4818 - mae: 1907.4818\n",
            "Epoch 215/500\n",
            "11/11 [==============================] - 0s 5ms/step - loss: 2154.3538 - mae: 2154.3538\n",
            "Epoch 216/500\n",
            "11/11 [==============================] - 0s 5ms/step - loss: 2265.1836 - mae: 2265.1836\n",
            "Epoch 217/500\n",
            "11/11 [==============================] - 0s 8ms/step - loss: 1829.8464 - mae: 1829.8464\n",
            "Epoch 218/500\n",
            "11/11 [==============================] - 0s 8ms/step - loss: 1904.4336 - mae: 1904.4336\n",
            "Epoch 219/500\n",
            "11/11 [==============================] - 0s 8ms/step - loss: 2056.8789 - mae: 2056.8789\n",
            "Epoch 220/500\n",
            "11/11 [==============================] - 0s 8ms/step - loss: 2106.0930 - mae: 2106.0928\n",
            "Epoch 221/500\n",
            "11/11 [==============================] - 0s 8ms/step - loss: 1992.0409 - mae: 1992.0409\n",
            "Epoch 222/500\n",
            "11/11 [==============================] - 0s 9ms/step - loss: 2166.3484 - mae: 2166.3484\n",
            "Epoch 223/500\n",
            "11/11 [==============================] - 0s 8ms/step - loss: 2173.6050 - mae: 2173.6050\n",
            "Epoch 224/500\n",
            "11/11 [==============================] - 0s 9ms/step - loss: 2114.7288 - mae: 2114.7288\n",
            "Epoch 225/500\n",
            "11/11 [==============================] - 0s 10ms/step - loss: 2056.3132 - mae: 2056.3132\n",
            "Epoch 226/500\n",
            "11/11 [==============================] - 0s 8ms/step - loss: 1851.2052 - mae: 1851.2052\n",
            "Epoch 227/500\n",
            "11/11 [==============================] - 0s 8ms/step - loss: 1829.4076 - mae: 1829.4076\n",
            "Epoch 228/500\n",
            "11/11 [==============================] - 0s 11ms/step - loss: 2164.9526 - mae: 2164.9526\n",
            "Epoch 229/500\n",
            "11/11 [==============================] - 0s 7ms/step - loss: 2205.9866 - mae: 2205.9866\n",
            "Epoch 230/500\n",
            "11/11 [==============================] - 0s 8ms/step - loss: 2247.2683 - mae: 2247.2683\n",
            "Epoch 231/500\n",
            "11/11 [==============================] - 0s 10ms/step - loss: 2358.2083 - mae: 2358.2083\n",
            "Epoch 232/500\n",
            "11/11 [==============================] - 0s 12ms/step - loss: 2139.9336 - mae: 2139.9338\n",
            "Epoch 233/500\n",
            "11/11 [==============================] - 0s 15ms/step - loss: 2083.4517 - mae: 2083.4517\n",
            "Epoch 234/500\n",
            "11/11 [==============================] - 0s 8ms/step - loss: 2084.8965 - mae: 2084.8965\n",
            "Epoch 235/500\n",
            "11/11 [==============================] - 0s 9ms/step - loss: 2022.3645 - mae: 2022.3645\n",
            "Epoch 236/500\n",
            "11/11 [==============================] - 0s 9ms/step - loss: 2121.7502 - mae: 2121.7502\n",
            "Epoch 237/500\n",
            "11/11 [==============================] - 0s 11ms/step - loss: 2152.3918 - mae: 2152.3918\n",
            "Epoch 238/500\n",
            "11/11 [==============================] - 0s 8ms/step - loss: 2011.3004 - mae: 2011.3004\n",
            "Epoch 239/500\n",
            "11/11 [==============================] - 0s 6ms/step - loss: 2295.7620 - mae: 2295.7620\n",
            "Epoch 240/500\n",
            "11/11 [==============================] - 0s 11ms/step - loss: 2175.0872 - mae: 2175.0872\n",
            "Epoch 241/500\n",
            "11/11 [==============================] - 0s 6ms/step - loss: 1954.6652 - mae: 1954.6652\n",
            "Epoch 242/500\n",
            "11/11 [==============================] - 0s 6ms/step - loss: 1791.9657 - mae: 1791.9657\n",
            "Epoch 243/500\n",
            "11/11 [==============================] - 0s 5ms/step - loss: 1746.1099 - mae: 1746.1100\n",
            "Epoch 244/500\n",
            "11/11 [==============================] - 0s 5ms/step - loss: 1734.2550 - mae: 1734.2550\n",
            "Epoch 245/500\n",
            "11/11 [==============================] - 0s 5ms/step - loss: 1851.2341 - mae: 1851.2341\n",
            "Epoch 246/500\n",
            "11/11 [==============================] - 0s 4ms/step - loss: 2092.7842 - mae: 2092.7842\n",
            "Epoch 247/500\n",
            "11/11 [==============================] - 0s 5ms/step - loss: 1779.5563 - mae: 1779.5563\n",
            "Epoch 248/500\n",
            "11/11 [==============================] - 0s 4ms/step - loss: 1822.5629 - mae: 1822.5627\n",
            "Epoch 249/500\n",
            "11/11 [==============================] - 0s 5ms/step - loss: 1941.6067 - mae: 1941.6067\n",
            "Epoch 250/500\n",
            "11/11 [==============================] - 0s 5ms/step - loss: 1862.5925 - mae: 1862.5925\n",
            "Epoch 251/500\n",
            "11/11 [==============================] - 0s 6ms/step - loss: 1719.6234 - mae: 1719.6234\n",
            "Epoch 252/500\n",
            "11/11 [==============================] - 0s 5ms/step - loss: 1901.3347 - mae: 1901.3347\n",
            "Epoch 253/500\n",
            "11/11 [==============================] - 0s 7ms/step - loss: 1900.1570 - mae: 1900.1570\n",
            "Epoch 254/500\n",
            "11/11 [==============================] - 0s 7ms/step - loss: 1822.5315 - mae: 1822.5316\n",
            "Epoch 255/500\n",
            "11/11 [==============================] - 0s 6ms/step - loss: 1962.4775 - mae: 1962.4775\n",
            "Epoch 256/500\n",
            "11/11 [==============================] - 0s 9ms/step - loss: 2113.7461 - mae: 2113.7461\n",
            "Epoch 257/500\n",
            "11/11 [==============================] - 0s 8ms/step - loss: 2274.3748 - mae: 2274.3748\n",
            "Epoch 258/500\n",
            "11/11 [==============================] - 0s 6ms/step - loss: 1961.0472 - mae: 1961.0472\n",
            "Epoch 259/500\n",
            "11/11 [==============================] - 0s 5ms/step - loss: 1831.2372 - mae: 1831.2372\n",
            "Epoch 260/500\n",
            "11/11 [==============================] - 0s 7ms/step - loss: 1895.8860 - mae: 1895.8860\n",
            "Epoch 261/500\n",
            "11/11 [==============================] - 0s 7ms/step - loss: 1953.7170 - mae: 1953.7170\n",
            "Epoch 262/500\n",
            "11/11 [==============================] - 0s 7ms/step - loss: 1821.7916 - mae: 1821.7916\n",
            "Epoch 263/500\n",
            "11/11 [==============================] - 0s 8ms/step - loss: 1954.6825 - mae: 1954.6826\n",
            "Epoch 264/500\n",
            "11/11 [==============================] - 0s 7ms/step - loss: 1917.3380 - mae: 1917.3380\n",
            "Epoch 265/500\n",
            "11/11 [==============================] - 0s 7ms/step - loss: 1793.7104 - mae: 1793.7104\n",
            "Epoch 266/500\n",
            "11/11 [==============================] - 0s 7ms/step - loss: 1791.9467 - mae: 1791.9467\n",
            "Epoch 267/500\n",
            "11/11 [==============================] - 0s 9ms/step - loss: 1868.5299 - mae: 1868.5299\n",
            "Epoch 268/500\n",
            "11/11 [==============================] - 0s 9ms/step - loss: 1915.6941 - mae: 1915.6941\n",
            "Epoch 269/500\n",
            "11/11 [==============================] - 0s 7ms/step - loss: 1960.6155 - mae: 1960.6155\n",
            "Epoch 270/500\n",
            "11/11 [==============================] - 0s 7ms/step - loss: 2228.7131 - mae: 2228.7134\n",
            "Epoch 271/500\n",
            "11/11 [==============================] - 0s 8ms/step - loss: 1705.0137 - mae: 1705.0137\n",
            "Epoch 272/500\n",
            "11/11 [==============================] - 0s 5ms/step - loss: 1677.5352 - mae: 1677.5352\n",
            "Epoch 273/500\n",
            "11/11 [==============================] - 0s 6ms/step - loss: 1719.3773 - mae: 1719.3773\n",
            "Epoch 274/500\n",
            "11/11 [==============================] - 0s 8ms/step - loss: 1708.2557 - mae: 1708.2557\n",
            "Epoch 275/500\n",
            "11/11 [==============================] - 0s 6ms/step - loss: 1764.9359 - mae: 1764.9359\n",
            "Epoch 276/500\n",
            "11/11 [==============================] - 0s 6ms/step - loss: 1689.9843 - mae: 1689.9843\n",
            "Epoch 277/500\n",
            "11/11 [==============================] - 0s 4ms/step - loss: 1852.1493 - mae: 1852.1493\n",
            "Epoch 278/500\n",
            "11/11 [==============================] - 0s 8ms/step - loss: 1904.4779 - mae: 1904.4779\n",
            "Epoch 279/500\n",
            "11/11 [==============================] - 0s 6ms/step - loss: 1888.7705 - mae: 1888.7705\n",
            "Epoch 280/500\n",
            "11/11 [==============================] - 0s 8ms/step - loss: 2051.9258 - mae: 2051.9258\n",
            "Epoch 281/500\n",
            "11/11 [==============================] - 0s 6ms/step - loss: 1797.8041 - mae: 1797.8041\n",
            "Epoch 282/500\n",
            "11/11 [==============================] - 0s 8ms/step - loss: 1797.8287 - mae: 1797.8287\n",
            "Epoch 283/500\n",
            "11/11 [==============================] - 0s 5ms/step - loss: 1806.9050 - mae: 1806.9050\n",
            "Epoch 284/500\n",
            "11/11 [==============================] - 0s 5ms/step - loss: 1790.9210 - mae: 1790.9210\n",
            "Epoch 285/500\n",
            "11/11 [==============================] - 0s 5ms/step - loss: 1891.0739 - mae: 1891.0739\n",
            "Epoch 286/500\n",
            "11/11 [==============================] - 0s 5ms/step - loss: 2117.8091 - mae: 2117.8091\n",
            "Epoch 287/500\n",
            "11/11 [==============================] - 0s 5ms/step - loss: 1972.9011 - mae: 1972.9011\n",
            "Epoch 288/500\n",
            "11/11 [==============================] - 0s 7ms/step - loss: 1876.1726 - mae: 1876.1726\n",
            "Epoch 289/500\n",
            "11/11 [==============================] - 0s 13ms/step - loss: 1849.3657 - mae: 1849.3657\n",
            "Epoch 290/500\n",
            "11/11 [==============================] - 0s 8ms/step - loss: 1857.6257 - mae: 1857.6255\n",
            "Epoch 291/500\n",
            "11/11 [==============================] - 0s 8ms/step - loss: 2318.3774 - mae: 2318.3774\n",
            "Epoch 292/500\n",
            "11/11 [==============================] - 0s 10ms/step - loss: 2236.8877 - mae: 2236.8877\n",
            "Epoch 293/500\n",
            "11/11 [==============================] - 0s 12ms/step - loss: 2269.9246 - mae: 2269.9246\n",
            "Epoch 294/500\n",
            "11/11 [==============================] - 0s 17ms/step - loss: 2104.6882 - mae: 2104.6882\n",
            "Epoch 295/500\n",
            "11/11 [==============================] - 0s 18ms/step - loss: 1988.3091 - mae: 1988.3091\n",
            "Epoch 296/500\n",
            "11/11 [==============================] - 0s 17ms/step - loss: 1743.7410 - mae: 1743.7410\n",
            "Epoch 297/500\n",
            "11/11 [==============================] - 0s 16ms/step - loss: 1757.9083 - mae: 1757.9083\n",
            "Epoch 298/500\n",
            "11/11 [==============================] - 0s 16ms/step - loss: 1982.4561 - mae: 1982.4561\n",
            "Epoch 299/500\n",
            "11/11 [==============================] - 0s 11ms/step - loss: 2001.9923 - mae: 2001.9923\n",
            "Epoch 300/500\n",
            "11/11 [==============================] - 0s 11ms/step - loss: 1802.8389 - mae: 1802.8389\n",
            "Epoch 301/500\n",
            "11/11 [==============================] - 0s 10ms/step - loss: 1762.3389 - mae: 1762.3389\n",
            "Epoch 302/500\n",
            "11/11 [==============================] - 0s 10ms/step - loss: 1786.1233 - mae: 1786.1233\n",
            "Epoch 303/500\n",
            "11/11 [==============================] - 0s 12ms/step - loss: 1820.4811 - mae: 1820.4811\n",
            "Epoch 304/500\n",
            "11/11 [==============================] - 0s 11ms/step - loss: 1856.2327 - mae: 1856.2327\n",
            "Epoch 305/500\n",
            "11/11 [==============================] - 0s 16ms/step - loss: 1785.0929 - mae: 1785.0929\n",
            "Epoch 306/500\n",
            "11/11 [==============================] - 0s 10ms/step - loss: 1773.8728 - mae: 1773.8728\n",
            "Epoch 307/500\n",
            "11/11 [==============================] - 0s 7ms/step - loss: 1892.0439 - mae: 1892.0439\n",
            "Epoch 308/500\n",
            "11/11 [==============================] - 0s 12ms/step - loss: 2195.4607 - mae: 2195.4607\n",
            "Epoch 309/500\n",
            "11/11 [==============================] - 0s 12ms/step - loss: 2114.4746 - mae: 2114.4746\n",
            "Epoch 310/500\n",
            "11/11 [==============================] - 0s 14ms/step - loss: 2045.3505 - mae: 2045.3505\n",
            "Epoch 311/500\n",
            "11/11 [==============================] - 0s 12ms/step - loss: 1767.4657 - mae: 1767.4657\n",
            "Epoch 312/500\n",
            "11/11 [==============================] - 0s 13ms/step - loss: 1733.7439 - mae: 1733.7439\n",
            "Epoch 313/500\n",
            "11/11 [==============================] - 0s 12ms/step - loss: 1689.2036 - mae: 1689.2036\n",
            "Epoch 314/500\n",
            "11/11 [==============================] - 0s 12ms/step - loss: 1655.1161 - mae: 1655.1161\n",
            "Epoch 315/500\n",
            "11/11 [==============================] - 0s 14ms/step - loss: 1828.2855 - mae: 1828.2855\n",
            "Epoch 316/500\n",
            "11/11 [==============================] - 0s 10ms/step - loss: 1829.2899 - mae: 1829.2899\n",
            "Epoch 317/500\n",
            "11/11 [==============================] - 0s 7ms/step - loss: 1807.7861 - mae: 1807.7861\n",
            "Epoch 318/500\n",
            "11/11 [==============================] - 0s 5ms/step - loss: 1703.4998 - mae: 1703.4998\n",
            "Epoch 319/500\n",
            "11/11 [==============================] - 0s 5ms/step - loss: 1719.8376 - mae: 1719.8376\n",
            "Epoch 320/500\n",
            "11/11 [==============================] - 0s 6ms/step - loss: 1675.7118 - mae: 1675.7118\n",
            "Epoch 321/500\n",
            "11/11 [==============================] - 0s 5ms/step - loss: 1844.5587 - mae: 1844.5587\n",
            "Epoch 322/500\n",
            "11/11 [==============================] - 0s 7ms/step - loss: 1760.6581 - mae: 1760.6581\n",
            "Epoch 323/500\n",
            "11/11 [==============================] - 0s 6ms/step - loss: 2098.1123 - mae: 2098.1123\n",
            "Epoch 324/500\n",
            "11/11 [==============================] - 0s 6ms/step - loss: 1939.7994 - mae: 1939.7997\n",
            "Epoch 325/500\n",
            "11/11 [==============================] - 0s 6ms/step - loss: 2074.4807 - mae: 2074.4807\n",
            "Epoch 326/500\n",
            "11/11 [==============================] - 0s 6ms/step - loss: 1806.0535 - mae: 1806.0533\n",
            "Epoch 327/500\n",
            "11/11 [==============================] - 0s 6ms/step - loss: 2010.1892 - mae: 2010.1890\n",
            "Epoch 328/500\n",
            "11/11 [==============================] - 0s 8ms/step - loss: 1811.5887 - mae: 1811.5887\n",
            "Epoch 329/500\n",
            "11/11 [==============================] - 0s 5ms/step - loss: 1823.6820 - mae: 1823.6819\n",
            "Epoch 330/500\n",
            "11/11 [==============================] - 0s 8ms/step - loss: 1801.9958 - mae: 1801.9960\n",
            "Epoch 331/500\n",
            "11/11 [==============================] - 0s 9ms/step - loss: 1783.2079 - mae: 1783.2079\n",
            "Epoch 332/500\n",
            "11/11 [==============================] - 0s 7ms/step - loss: 1740.5884 - mae: 1740.5884\n",
            "Epoch 333/500\n",
            "11/11 [==============================] - 0s 8ms/step - loss: 1748.2181 - mae: 1748.2181\n",
            "Epoch 334/500\n",
            "11/11 [==============================] - 0s 7ms/step - loss: 1701.9537 - mae: 1701.9537\n",
            "Epoch 335/500\n",
            "11/11 [==============================] - 0s 8ms/step - loss: 1778.1372 - mae: 1778.1372\n",
            "Epoch 336/500\n",
            "11/11 [==============================] - 0s 8ms/step - loss: 1950.5469 - mae: 1950.5469\n",
            "Epoch 337/500\n",
            "11/11 [==============================] - 0s 9ms/step - loss: 1925.3591 - mae: 1925.3591\n",
            "Epoch 338/500\n",
            "11/11 [==============================] - 0s 7ms/step - loss: 1995.1948 - mae: 1995.1948\n",
            "Epoch 339/500\n",
            "11/11 [==============================] - 0s 6ms/step - loss: 1707.9198 - mae: 1707.9198\n",
            "Epoch 340/500\n",
            "11/11 [==============================] - 0s 7ms/step - loss: 1725.3085 - mae: 1725.3085\n",
            "Epoch 341/500\n",
            "11/11 [==============================] - 0s 6ms/step - loss: 1639.5104 - mae: 1639.5104\n",
            "Epoch 342/500\n",
            "11/11 [==============================] - 0s 16ms/step - loss: 1614.7130 - mae: 1614.7130\n",
            "Epoch 343/500\n",
            "11/11 [==============================] - 0s 15ms/step - loss: 1788.2488 - mae: 1788.2488\n",
            "Epoch 344/500\n",
            "11/11 [==============================] - 0s 14ms/step - loss: 1705.9165 - mae: 1705.9165\n",
            "Epoch 345/500\n",
            "11/11 [==============================] - 0s 9ms/step - loss: 1814.9010 - mae: 1814.9010\n",
            "Epoch 346/500\n",
            "11/11 [==============================] - 0s 10ms/step - loss: 1616.1599 - mae: 1616.1599\n",
            "Epoch 347/500\n",
            "11/11 [==============================] - 0s 13ms/step - loss: 1687.6812 - mae: 1687.6812\n",
            "Epoch 348/500\n",
            "11/11 [==============================] - 0s 7ms/step - loss: 1793.2815 - mae: 1793.2815\n",
            "Epoch 349/500\n",
            "11/11 [==============================] - 0s 8ms/step - loss: 1824.6348 - mae: 1824.6348\n",
            "Epoch 350/500\n",
            "11/11 [==============================] - 0s 6ms/step - loss: 1712.6266 - mae: 1712.6265\n",
            "Epoch 351/500\n",
            "11/11 [==============================] - 0s 8ms/step - loss: 1615.0757 - mae: 1615.0757\n",
            "Epoch 352/500\n",
            "11/11 [==============================] - 0s 7ms/step - loss: 1658.4045 - mae: 1658.4044\n",
            "Epoch 353/500\n",
            "11/11 [==============================] - 0s 15ms/step - loss: 1973.9691 - mae: 1973.9691\n",
            "Epoch 354/500\n",
            "11/11 [==============================] - 0s 10ms/step - loss: 1649.4431 - mae: 1649.4432\n",
            "Epoch 355/500\n",
            "11/11 [==============================] - 0s 9ms/step - loss: 1892.8247 - mae: 1892.8247\n",
            "Epoch 356/500\n",
            "11/11 [==============================] - 0s 9ms/step - loss: 2030.9351 - mae: 2030.9351\n",
            "Epoch 357/500\n",
            "11/11 [==============================] - 0s 10ms/step - loss: 2275.9690 - mae: 2275.9690\n",
            "Epoch 358/500\n",
            "11/11 [==============================] - 0s 11ms/step - loss: 2060.4719 - mae: 2060.4719\n",
            "Epoch 359/500\n",
            "11/11 [==============================] - 0s 10ms/step - loss: 2013.1511 - mae: 2013.1509\n",
            "Epoch 360/500\n",
            "11/11 [==============================] - 0s 13ms/step - loss: 1702.5870 - mae: 1702.5870\n",
            "Epoch 361/500\n",
            "11/11 [==============================] - 0s 9ms/step - loss: 1648.9476 - mae: 1648.9476\n",
            "Epoch 362/500\n",
            "11/11 [==============================] - 0s 9ms/step - loss: 1592.3301 - mae: 1592.3301\n",
            "Epoch 363/500\n",
            "11/11 [==============================] - 0s 10ms/step - loss: 1546.3556 - mae: 1546.3556\n",
            "Epoch 364/500\n",
            "11/11 [==============================] - 0s 7ms/step - loss: 1686.3173 - mae: 1686.3173\n",
            "Epoch 365/500\n",
            "11/11 [==============================] - 0s 9ms/step - loss: 1905.7756 - mae: 1905.7756\n",
            "Epoch 366/500\n",
            "11/11 [==============================] - 0s 10ms/step - loss: 1776.0154 - mae: 1776.0154\n",
            "Epoch 367/500\n",
            "11/11 [==============================] - 0s 6ms/step - loss: 1787.0846 - mae: 1787.0846\n",
            "Epoch 368/500\n",
            "11/11 [==============================] - 0s 6ms/step - loss: 1848.9635 - mae: 1848.9635\n",
            "Epoch 369/500\n",
            "11/11 [==============================] - 0s 6ms/step - loss: 1826.4388 - mae: 1826.4388\n",
            "Epoch 370/500\n",
            "11/11 [==============================] - 0s 10ms/step - loss: 1818.7743 - mae: 1818.7743\n",
            "Epoch 371/500\n",
            "11/11 [==============================] - 0s 11ms/step - loss: 1666.0133 - mae: 1666.0133\n",
            "Epoch 372/500\n",
            "11/11 [==============================] - 0s 7ms/step - loss: 1642.4879 - mae: 1642.4879\n",
            "Epoch 373/500\n",
            "11/11 [==============================] - 0s 8ms/step - loss: 1817.3982 - mae: 1817.3982\n",
            "Epoch 374/500\n",
            "11/11 [==============================] - 0s 12ms/step - loss: 1827.2506 - mae: 1827.2506\n",
            "Epoch 375/500\n",
            "11/11 [==============================] - 0s 9ms/step - loss: 1685.7185 - mae: 1685.7185\n",
            "Epoch 376/500\n",
            "11/11 [==============================] - 0s 7ms/step - loss: 1655.4812 - mae: 1655.4812\n",
            "Epoch 377/500\n",
            "11/11 [==============================] - 0s 8ms/step - loss: 1567.9855 - mae: 1567.9855\n",
            "Epoch 378/500\n",
            "11/11 [==============================] - 0s 6ms/step - loss: 1689.9570 - mae: 1689.9570\n",
            "Epoch 379/500\n",
            "11/11 [==============================] - 0s 8ms/step - loss: 1773.0306 - mae: 1773.0306\n",
            "Epoch 380/500\n",
            "11/11 [==============================] - 0s 8ms/step - loss: 1708.7335 - mae: 1708.7335\n",
            "Epoch 381/500\n",
            "11/11 [==============================] - 0s 8ms/step - loss: 1805.6786 - mae: 1805.6786\n",
            "Epoch 382/500\n",
            "11/11 [==============================] - 0s 10ms/step - loss: 1705.5881 - mae: 1705.5881\n",
            "Epoch 383/500\n",
            "11/11 [==============================] - 0s 8ms/step - loss: 1794.7778 - mae: 1794.7778\n",
            "Epoch 384/500\n",
            "11/11 [==============================] - 0s 8ms/step - loss: 2094.4272 - mae: 2094.4272\n",
            "Epoch 385/500\n",
            "11/11 [==============================] - 0s 7ms/step - loss: 1911.2423 - mae: 1911.2423\n",
            "Epoch 386/500\n",
            "11/11 [==============================] - 0s 6ms/step - loss: 1723.7659 - mae: 1723.7659\n",
            "Epoch 387/500\n",
            "11/11 [==============================] - 0s 8ms/step - loss: 2033.4698 - mae: 2033.4698\n",
            "Epoch 388/500\n",
            "11/11 [==============================] - 0s 8ms/step - loss: 1888.7043 - mae: 1888.7043\n",
            "Epoch 389/500\n",
            "11/11 [==============================] - 0s 7ms/step - loss: 2082.8208 - mae: 2082.8206\n",
            "Epoch 390/500\n",
            "11/11 [==============================] - 0s 7ms/step - loss: 1916.6509 - mae: 1916.6509\n",
            "Epoch 391/500\n",
            "11/11 [==============================] - 0s 8ms/step - loss: 1837.4886 - mae: 1837.4886\n",
            "Epoch 392/500\n",
            "11/11 [==============================] - 0s 10ms/step - loss: 1872.2976 - mae: 1872.2976\n",
            "Epoch 393/500\n",
            "11/11 [==============================] - 0s 14ms/step - loss: 1805.8030 - mae: 1805.8030\n",
            "Epoch 394/500\n",
            "11/11 [==============================] - 0s 10ms/step - loss: 1744.2594 - mae: 1744.2594\n",
            "Epoch 395/500\n",
            "11/11 [==============================] - 0s 9ms/step - loss: 1909.3278 - mae: 1909.3278\n",
            "Epoch 396/500\n",
            "11/11 [==============================] - 0s 8ms/step - loss: 1853.9602 - mae: 1853.9602\n",
            "Epoch 397/500\n",
            "11/11 [==============================] - 0s 8ms/step - loss: 1816.2303 - mae: 1816.2303\n",
            "Epoch 398/500\n",
            "11/11 [==============================] - 0s 9ms/step - loss: 1836.3712 - mae: 1836.3715\n",
            "Epoch 399/500\n",
            "11/11 [==============================] - 0s 9ms/step - loss: 1778.9164 - mae: 1778.9166\n",
            "Epoch 400/500\n",
            "11/11 [==============================] - 0s 10ms/step - loss: 1841.7571 - mae: 1841.7571\n",
            "Epoch 401/500\n",
            "11/11 [==============================] - 0s 9ms/step - loss: 1758.3496 - mae: 1758.3496\n",
            "Epoch 402/500\n",
            "11/11 [==============================] - 0s 10ms/step - loss: 1737.5566 - mae: 1737.5566\n",
            "Epoch 403/500\n",
            "11/11 [==============================] - 0s 13ms/step - loss: 1859.0925 - mae: 1859.0925\n",
            "Epoch 404/500\n",
            "11/11 [==============================] - 0s 6ms/step - loss: 1679.8184 - mae: 1679.8185\n",
            "Epoch 405/500\n",
            "11/11 [==============================] - 0s 10ms/step - loss: 1635.9222 - mae: 1635.9222\n",
            "Epoch 406/500\n",
            "11/11 [==============================] - 0s 10ms/step - loss: 1609.0381 - mae: 1609.0381\n",
            "Epoch 407/500\n",
            "11/11 [==============================] - 0s 10ms/step - loss: 1692.1439 - mae: 1692.1439\n",
            "Epoch 408/500\n",
            "11/11 [==============================] - 0s 9ms/step - loss: 1780.0769 - mae: 1780.0769\n",
            "Epoch 409/500\n",
            "11/11 [==============================] - 0s 7ms/step - loss: 1857.9821 - mae: 1857.9821\n",
            "Epoch 410/500\n",
            "11/11 [==============================] - 0s 9ms/step - loss: 1806.6396 - mae: 1806.6396\n",
            "Epoch 411/500\n",
            "11/11 [==============================] - 0s 8ms/step - loss: 1928.8098 - mae: 1928.8098\n",
            "Epoch 412/500\n",
            "11/11 [==============================] - 0s 11ms/step - loss: 1786.0894 - mae: 1786.0894\n",
            "Epoch 413/500\n",
            "11/11 [==============================] - 0s 9ms/step - loss: 1869.7706 - mae: 1869.7706\n",
            "Epoch 414/500\n",
            "11/11 [==============================] - 0s 9ms/step - loss: 1743.6465 - mae: 1743.6465\n",
            "Epoch 415/500\n",
            "11/11 [==============================] - 0s 9ms/step - loss: 1750.4237 - mae: 1750.4237\n",
            "Epoch 416/500\n",
            "11/11 [==============================] - 0s 7ms/step - loss: 1610.3062 - mae: 1610.3062\n",
            "Epoch 417/500\n",
            "11/11 [==============================] - 0s 5ms/step - loss: 1716.2620 - mae: 1716.2620\n",
            "Epoch 418/500\n",
            "11/11 [==============================] - 0s 7ms/step - loss: 1670.4823 - mae: 1670.4823\n",
            "Epoch 419/500\n",
            "11/11 [==============================] - 0s 7ms/step - loss: 1874.4745 - mae: 1874.4745\n",
            "Epoch 420/500\n",
            "11/11 [==============================] - 0s 8ms/step - loss: 1831.9210 - mae: 1831.9210\n",
            "Epoch 421/500\n",
            "11/11 [==============================] - 0s 7ms/step - loss: 1913.4192 - mae: 1913.4192\n",
            "Epoch 422/500\n",
            "11/11 [==============================] - 0s 6ms/step - loss: 1931.1757 - mae: 1931.1757\n",
            "Epoch 423/500\n",
            "11/11 [==============================] - 0s 9ms/step - loss: 1810.2188 - mae: 1810.2188\n",
            "Epoch 424/500\n",
            "11/11 [==============================] - 0s 8ms/step - loss: 1781.8356 - mae: 1781.8356\n",
            "Epoch 425/500\n",
            "11/11 [==============================] - 0s 8ms/step - loss: 1833.0234 - mae: 1833.0234\n",
            "Epoch 426/500\n",
            "11/11 [==============================] - 0s 11ms/step - loss: 1716.2369 - mae: 1716.2369\n",
            "Epoch 427/500\n",
            "11/11 [==============================] - 0s 9ms/step - loss: 1684.9685 - mae: 1684.9685\n",
            "Epoch 428/500\n",
            "11/11 [==============================] - 0s 7ms/step - loss: 1826.2113 - mae: 1826.2113\n",
            "Epoch 429/500\n",
            "11/11 [==============================] - 0s 8ms/step - loss: 1769.0406 - mae: 1769.0406\n",
            "Epoch 430/500\n",
            "11/11 [==============================] - 0s 19ms/step - loss: 1752.7008 - mae: 1752.7008\n",
            "Epoch 431/500\n",
            "11/11 [==============================] - 0s 10ms/step - loss: 1703.0884 - mae: 1703.0884\n",
            "Epoch 432/500\n",
            "11/11 [==============================] - 0s 8ms/step - loss: 1770.9503 - mae: 1770.9503\n",
            "Epoch 433/500\n",
            "11/11 [==============================] - 0s 14ms/step - loss: 1856.7247 - mae: 1856.7247\n",
            "Epoch 434/500\n",
            "11/11 [==============================] - 0s 14ms/step - loss: 1671.9374 - mae: 1671.9374\n",
            "Epoch 435/500\n",
            "11/11 [==============================] - 0s 7ms/step - loss: 1672.7264 - mae: 1672.7264\n",
            "Epoch 436/500\n",
            "11/11 [==============================] - 0s 7ms/step - loss: 1895.1564 - mae: 1895.1562\n",
            "Epoch 437/500\n",
            "11/11 [==============================] - 0s 8ms/step - loss: 1970.9404 - mae: 1970.9404\n",
            "Epoch 438/500\n",
            "11/11 [==============================] - 0s 8ms/step - loss: 1685.9530 - mae: 1685.9528\n",
            "Epoch 439/500\n",
            "11/11 [==============================] - 0s 7ms/step - loss: 1658.4352 - mae: 1658.4352\n",
            "Epoch 440/500\n",
            "11/11 [==============================] - 0s 9ms/step - loss: 1689.0339 - mae: 1689.0339\n",
            "Epoch 441/500\n",
            "11/11 [==============================] - 0s 6ms/step - loss: 1752.4066 - mae: 1752.4066\n",
            "Epoch 442/500\n",
            "11/11 [==============================] - 0s 7ms/step - loss: 1799.2360 - mae: 1799.2360\n",
            "Epoch 443/500\n",
            "11/11 [==============================] - 0s 8ms/step - loss: 1806.3948 - mae: 1806.3948\n",
            "Epoch 444/500\n",
            "11/11 [==============================] - 0s 10ms/step - loss: 1836.9362 - mae: 1836.9362\n",
            "Epoch 445/500\n",
            "11/11 [==============================] - 0s 8ms/step - loss: 1855.9327 - mae: 1855.9327\n",
            "Epoch 446/500\n",
            "11/11 [==============================] - 0s 9ms/step - loss: 1954.9686 - mae: 1954.9686\n",
            "Epoch 447/500\n",
            "11/11 [==============================] - 0s 9ms/step - loss: 1643.0530 - mae: 1643.0530\n",
            "Epoch 448/500\n",
            "11/11 [==============================] - 0s 13ms/step - loss: 1582.7666 - mae: 1582.7666\n",
            "Epoch 449/500\n",
            "11/11 [==============================] - 0s 12ms/step - loss: 1600.8865 - mae: 1600.8864\n",
            "Epoch 450/500\n",
            "11/11 [==============================] - 0s 12ms/step - loss: 1650.0862 - mae: 1650.0862\n",
            "Epoch 451/500\n",
            "11/11 [==============================] - 0s 11ms/step - loss: 1699.4799 - mae: 1699.4799\n",
            "Epoch 452/500\n",
            "11/11 [==============================] - 0s 7ms/step - loss: 1713.5015 - mae: 1713.5015\n",
            "Epoch 453/500\n",
            "11/11 [==============================] - 0s 10ms/step - loss: 1869.4929 - mae: 1869.4929\n",
            "Epoch 454/500\n",
            "11/11 [==============================] - 0s 11ms/step - loss: 1672.6970 - mae: 1672.6970\n",
            "Epoch 455/500\n",
            "11/11 [==============================] - 0s 9ms/step - loss: 1687.1532 - mae: 1687.1532\n",
            "Epoch 456/500\n",
            "11/11 [==============================] - 0s 10ms/step - loss: 1638.1968 - mae: 1638.1968\n",
            "Epoch 457/500\n",
            "11/11 [==============================] - 0s 12ms/step - loss: 1702.2242 - mae: 1702.2242\n",
            "Epoch 458/500\n",
            "11/11 [==============================] - 0s 11ms/step - loss: 1785.6052 - mae: 1785.6052\n",
            "Epoch 459/500\n",
            "11/11 [==============================] - 0s 8ms/step - loss: 1582.3811 - mae: 1582.3811\n",
            "Epoch 460/500\n",
            "11/11 [==============================] - 0s 11ms/step - loss: 1750.0654 - mae: 1750.0654\n",
            "Epoch 461/500\n",
            "11/11 [==============================] - 0s 9ms/step - loss: 1683.8842 - mae: 1683.8842\n",
            "Epoch 462/500\n",
            "11/11 [==============================] - 0s 10ms/step - loss: 1763.1150 - mae: 1763.1149\n",
            "Epoch 463/500\n",
            "11/11 [==============================] - 0s 7ms/step - loss: 1799.4331 - mae: 1799.4330\n",
            "Epoch 464/500\n",
            "11/11 [==============================] - 0s 8ms/step - loss: 1759.2057 - mae: 1759.2057\n",
            "Epoch 465/500\n",
            "11/11 [==============================] - 0s 9ms/step - loss: 1637.3419 - mae: 1637.3419\n",
            "Epoch 466/500\n",
            "11/11 [==============================] - 0s 7ms/step - loss: 1681.1278 - mae: 1681.1278\n",
            "Epoch 467/500\n",
            "11/11 [==============================] - 0s 8ms/step - loss: 1820.9578 - mae: 1820.9578\n",
            "Epoch 468/500\n",
            "11/11 [==============================] - 0s 8ms/step - loss: 1672.1949 - mae: 1672.1949\n",
            "Epoch 469/500\n",
            "11/11 [==============================] - 0s 6ms/step - loss: 1775.7096 - mae: 1775.7096\n",
            "Epoch 470/500\n",
            "11/11 [==============================] - 0s 8ms/step - loss: 1611.8151 - mae: 1611.8151\n",
            "Epoch 471/500\n",
            "11/11 [==============================] - 0s 8ms/step - loss: 1783.8346 - mae: 1783.8346\n",
            "Epoch 472/500\n",
            "11/11 [==============================] - 0s 10ms/step - loss: 1813.4205 - mae: 1813.4205\n",
            "Epoch 473/500\n",
            "11/11 [==============================] - 0s 9ms/step - loss: 1742.5258 - mae: 1742.5258\n",
            "Epoch 474/500\n",
            "11/11 [==============================] - 0s 10ms/step - loss: 1625.1882 - mae: 1625.1882\n",
            "Epoch 475/500\n",
            "11/11 [==============================] - 0s 9ms/step - loss: 1594.9186 - mae: 1594.9186\n",
            "Epoch 476/500\n",
            "11/11 [==============================] - 0s 9ms/step - loss: 1774.6373 - mae: 1774.6373\n",
            "Epoch 477/500\n",
            "11/11 [==============================] - 0s 9ms/step - loss: 1637.2904 - mae: 1637.2904\n",
            "Epoch 478/500\n",
            "11/11 [==============================] - 0s 6ms/step - loss: 1812.7570 - mae: 1812.7570\n",
            "Epoch 479/500\n",
            "11/11 [==============================] - 0s 13ms/step - loss: 1881.5227 - mae: 1881.5226\n",
            "Epoch 480/500\n",
            "11/11 [==============================] - 0s 8ms/step - loss: 1874.9851 - mae: 1874.9851\n",
            "Epoch 481/500\n",
            "11/11 [==============================] - 0s 14ms/step - loss: 1727.1597 - mae: 1727.1597\n",
            "Epoch 482/500\n",
            "11/11 [==============================] - 0s 12ms/step - loss: 1798.2534 - mae: 1798.2534\n",
            "Epoch 483/500\n",
            "11/11 [==============================] - 0s 13ms/step - loss: 1826.5802 - mae: 1826.5801\n",
            "Epoch 484/500\n",
            "11/11 [==============================] - 0s 14ms/step - loss: 1786.6918 - mae: 1786.6917\n",
            "Epoch 485/500\n",
            "11/11 [==============================] - 0s 13ms/step - loss: 1706.2155 - mae: 1706.2155\n",
            "Epoch 486/500\n",
            "11/11 [==============================] - 0s 12ms/step - loss: 1809.4043 - mae: 1809.4043\n",
            "Epoch 487/500\n",
            "11/11 [==============================] - 0s 8ms/step - loss: 2178.1409 - mae: 2178.1409\n",
            "Epoch 488/500\n",
            "11/11 [==============================] - 0s 15ms/step - loss: 2163.0190 - mae: 2163.0190\n",
            "Epoch 489/500\n",
            "11/11 [==============================] - 0s 17ms/step - loss: 2017.5369 - mae: 2017.5369\n",
            "Epoch 490/500\n",
            "11/11 [==============================] - 0s 18ms/step - loss: 1874.6848 - mae: 1874.6848\n",
            "Epoch 491/500\n",
            "11/11 [==============================] - 0s 14ms/step - loss: 1942.1913 - mae: 1942.1913\n",
            "Epoch 492/500\n",
            "11/11 [==============================] - 0s 8ms/step - loss: 2065.3384 - mae: 2065.3384\n",
            "Epoch 493/500\n",
            "11/11 [==============================] - 0s 19ms/step - loss: 1740.7645 - mae: 1740.7643\n",
            "Epoch 494/500\n",
            "11/11 [==============================] - 0s 15ms/step - loss: 1602.3646 - mae: 1602.3647\n",
            "Epoch 495/500\n",
            "11/11 [==============================] - 0s 14ms/step - loss: 1594.2799 - mae: 1594.2799\n",
            "Epoch 496/500\n",
            "11/11 [==============================] - 0s 15ms/step - loss: 1727.3308 - mae: 1727.3308\n",
            "Epoch 497/500\n",
            "11/11 [==============================] - 0s 15ms/step - loss: 1726.5798 - mae: 1726.5798\n",
            "Epoch 498/500\n",
            "11/11 [==============================] - 0s 17ms/step - loss: 1794.3380 - mae: 1794.3380\n",
            "Epoch 499/500\n",
            "11/11 [==============================] - 0s 6ms/step - loss: 1606.5166 - mae: 1606.5166\n",
            "Epoch 500/500\n",
            "11/11 [==============================] - 0s 8ms/step - loss: 1616.8889 - mae: 1616.8889\n"
          ]
        },
        {
          "output_type": "execute_result",
          "data": {
            "text/plain": [
              "<keras.callbacks.History at 0x7bc35a48e020>"
            ]
          },
          "metadata": {},
          "execution_count": 62
        }
      ],
      "source": [
        "## Right now it looks like our model isn't performing too well... Lets try and improve it\n",
        "tf.random.set_seed(42)\n",
        "# 1 .Create a model\n",
        "insurance_model_1=tf.keras.Sequential([\n",
        "    tf.keras.layers.Dense(128,activation=\"relu\"),\n",
        "    tf.keras.layers.Dense(128,activation=\"relu\"),\n",
        "    tf.keras.layers.Dense(64,activation=\"relu\"),\n",
        "    tf.keras.layers.Dense(1)\n",
        "])\n",
        "\n",
        "# 2. Compile a model\n",
        "insurance_model_1.compile(loss=tf.keras.losses.mae,\n",
        "                          optimizer=tf.keras.optimizers.Adam(learning_rate=0.1),\n",
        "                          metrics=[\"mae\"])\n",
        "\n",
        "# 3. fit a model\n",
        "insurance_model_1.fit(X_train,y_train,batch_size=100,epochs=500)\n"
      ]
    },
    {
      "cell_type": "code",
      "execution_count": null,
      "metadata": {
        "colab": {
          "base_uri": "https://localhost:8080/"
        },
        "id": "7_KWd7hBxxe6",
        "outputId": "7a9092f1-a4ac-43dc-9d44-5926a094bc6e"
      },
      "outputs": [
        {
          "output_type": "stream",
          "name": "stdout",
          "text": [
            "9/9 [==============================] - 1s 4ms/step - loss: 1546.2825 - mae: 1546.2825\n"
          ]
        },
        {
          "output_type": "execute_result",
          "data": {
            "text/plain": [
              "[1546.282470703125, 1546.282470703125]"
            ]
          },
          "metadata": {},
          "execution_count": 63
        }
      ],
      "source": [
        "insurance_model_1.evaluate(X_test,y_test)"
      ]
    },
    {
      "cell_type": "code",
      "execution_count": null,
      "metadata": {
        "colab": {
          "base_uri": "https://localhost:8080/"
        },
        "id": "5fgZVwBH2IaG",
        "outputId": "c578c4ed-3e6a-476e-93ca-4ea17b8d6a84"
      },
      "outputs": [
        {
          "output_type": "stream",
          "name": "stderr",
          "text": [
            "WARNING:tensorflow:5 out of the last 5 calls to <function Model.make_predict_function.<locals>.predict_function at 0x7bc35a422ef0> triggered tf.function retracing. Tracing is expensive and the excessive number of tracings could be due to (1) creating @tf.function repeatedly in a loop, (2) passing tensors with different shapes, (3) passing Python objects instead of tensors. For (1), please define your @tf.function outside of the loop. For (2), @tf.function has reduce_retracing=True option that can avoid unnecessary retracing. For (3), please refer to https://www.tensorflow.org/guide/function#controlling_retracing and https://www.tensorflow.org/api_docs/python/tf/function for  more details.\n"
          ]
        },
        {
          "output_type": "stream",
          "name": "stdout",
          "text": [
            "9/9 [==============================] - 0s 5ms/step\n"
          ]
        },
        {
          "output_type": "execute_result",
          "data": {
            "text/plain": [
              "array([[12974.021 ],\n",
              "       [ 9340.916 ],\n",
              "       [20972.594 ],\n",
              "       [13479.447 ],\n",
              "       [ 7895.8706],\n",
              "       [ 9404.043 ],\n",
              "       [ 4144.533 ],\n",
              "       [17689.938 ],\n",
              "       [ 6820.186 ],\n",
              "       [14445.449 ],\n",
              "       [12162.833 ],\n",
              "       [11691.325 ],\n",
              "       [ 7889.0923],\n",
              "       [17657.312 ],\n",
              "       [20287.658 ],\n",
              "       [17373.564 ],\n",
              "       [14604.272 ],\n",
              "       [16905.15  ],\n",
              "       [12812.027 ],\n",
              "       [14833.811 ],\n",
              "       [ 8090.6562],\n",
              "       [12196.543 ],\n",
              "       [ 4168.316 ],\n",
              "       [ 5746.92  ],\n",
              "       [14794.945 ],\n",
              "       [14885.857 ],\n",
              "       [16370.055 ],\n",
              "       [ 8140.442 ],\n",
              "       [13601.749 ],\n",
              "       [ 4142.7803],\n",
              "       [12240.176 ],\n",
              "       [15534.2705],\n",
              "       [ 5237.15  ],\n",
              "       [ 8701.488 ],\n",
              "       [ 6675.466 ],\n",
              "       [12395.947 ],\n",
              "       [ 5179.4194],\n",
              "       [11716.34  ],\n",
              "       [17854.41  ],\n",
              "       [13571.962 ],\n",
              "       [ 6553.2114],\n",
              "       [ 5687.18  ],\n",
              "       [15694.907 ],\n",
              "       [15852.084 ],\n",
              "       [ 9643.192 ],\n",
              "       [16246.548 ],\n",
              "       [ 6011.172 ],\n",
              "       [ 7231.1885],\n",
              "       [16587.465 ],\n",
              "       [ 9138.358 ],\n",
              "       [17557.951 ],\n",
              "       [ 4592.484 ],\n",
              "       [11327.834 ],\n",
              "       [ 4089.6519],\n",
              "       [15380.751 ],\n",
              "       [14570.893 ],\n",
              "       [ 7577.424 ],\n",
              "       [12897.367 ],\n",
              "       [15724.945 ],\n",
              "       [14610.766 ],\n",
              "       [17147.26  ],\n",
              "       [ 9063.436 ],\n",
              "       [18037.152 ],\n",
              "       [11888.602 ],\n",
              "       [14246.642 ],\n",
              "       [ 7351.816 ],\n",
              "       [10044.21  ],\n",
              "       [15387.643 ],\n",
              "       [ 6371.4536],\n",
              "       [ 5320.3955],\n",
              "       [10739.38  ],\n",
              "       [13481.747 ],\n",
              "       [13083.317 ],\n",
              "       [11294.039 ],\n",
              "       [12455.599 ],\n",
              "       [ 9472.349 ],\n",
              "       [ 8334.805 ],\n",
              "       [15055.265 ],\n",
              "       [ 8172.843 ],\n",
              "       [13119.976 ],\n",
              "       [ 4823.8667],\n",
              "       [20510.51  ],\n",
              "       [ 8970.744 ],\n",
              "       [10431.839 ],\n",
              "       [10004.87  ],\n",
              "       [17157.72  ],\n",
              "       [ 9112.836 ],\n",
              "       [14903.939 ],\n",
              "       [12353.246 ],\n",
              "       [15713.684 ],\n",
              "       [18334.111 ],\n",
              "       [20989.297 ],\n",
              "       [16655.816 ],\n",
              "       [ 8881.769 ],\n",
              "       [12711.619 ],\n",
              "       [11599.805 ],\n",
              "       [12213.113 ],\n",
              "       [ 4888.294 ],\n",
              "       [12354.906 ],\n",
              "       [ 9999.095 ],\n",
              "       [ 8011.1353],\n",
              "       [ 4197.3716],\n",
              "       [11172.159 ],\n",
              "       [16575.535 ],\n",
              "       [16584.871 ],\n",
              "       [ 4768.736 ],\n",
              "       [12705.771 ],\n",
              "       [17636.152 ],\n",
              "       [ 3948.9216],\n",
              "       [18243.398 ],\n",
              "       [ 4249.942 ],\n",
              "       [ 7449.8486],\n",
              "       [16519.514 ],\n",
              "       [13030.81  ],\n",
              "       [13839.781 ],\n",
              "       [ 5012.2236],\n",
              "       [16441.895 ],\n",
              "       [15633.988 ],\n",
              "       [10737.24  ],\n",
              "       [ 5858.878 ],\n",
              "       [ 9529.607 ],\n",
              "       [11800.461 ],\n",
              "       [15419.496 ],\n",
              "       [ 6069.6455],\n",
              "       [ 7761.613 ],\n",
              "       [11840.402 ],\n",
              "       [12164.519 ],\n",
              "       [13736.657 ],\n",
              "       [16355.404 ],\n",
              "       [ 5960.226 ],\n",
              "       [ 8273.127 ],\n",
              "       [10657.588 ],\n",
              "       [10305.567 ],\n",
              "       [12424.399 ],\n",
              "       [10161.737 ],\n",
              "       [16536.773 ],\n",
              "       [ 8750.213 ],\n",
              "       [14421.063 ],\n",
              "       [15490.882 ],\n",
              "       [13400.332 ],\n",
              "       [ 9246.139 ],\n",
              "       [14046.224 ],\n",
              "       [ 6640.9893],\n",
              "       [15190.939 ],\n",
              "       [ 6056.0215],\n",
              "       [17280.268 ],\n",
              "       [ 9257.962 ],\n",
              "       [ 7711.295 ],\n",
              "       [15337.135 ],\n",
              "       [ 9321.489 ],\n",
              "       [19477.55  ],\n",
              "       [ 5483.276 ],\n",
              "       [ 4475.332 ],\n",
              "       [12423.457 ],\n",
              "       [10717.341 ],\n",
              "       [ 9025.304 ],\n",
              "       [17132.805 ],\n",
              "       [13144.257 ],\n",
              "       [ 8140.7056],\n",
              "       [14736.192 ],\n",
              "       [16975.266 ],\n",
              "       [ 4715.164 ],\n",
              "       [18123.705 ],\n",
              "       [ 5502.442 ],\n",
              "       [ 6826.0874],\n",
              "       [12317.331 ],\n",
              "       [20867.037 ],\n",
              "       [19055.576 ],\n",
              "       [15862.403 ],\n",
              "       [ 5993.635 ],\n",
              "       [13210.282 ],\n",
              "       [10625.649 ],\n",
              "       [10728.17  ],\n",
              "       [ 8154.382 ],\n",
              "       [ 5019.923 ],\n",
              "       [16491.543 ],\n",
              "       [ 7628.098 ],\n",
              "       [17902.24  ],\n",
              "       [12288.504 ],\n",
              "       [15272.914 ],\n",
              "       [20908.828 ],\n",
              "       [ 5232.547 ],\n",
              "       [12639.124 ],\n",
              "       [ 9200.3125],\n",
              "       [ 8615.014 ],\n",
              "       [ 5933.5605],\n",
              "       [ 7884.452 ],\n",
              "       [ 7376.647 ],\n",
              "       [13626.455 ],\n",
              "       [14748.85  ],\n",
              "       [ 6959.108 ],\n",
              "       [ 4255.961 ],\n",
              "       [ 5244.314 ],\n",
              "       [12341.935 ],\n",
              "       [17267.71  ],\n",
              "       [13983.564 ],\n",
              "       [ 4677.8276],\n",
              "       [15716.939 ],\n",
              "       [ 4169.7993],\n",
              "       [13159.622 ],\n",
              "       [ 6182.178 ],\n",
              "       [17404.674 ],\n",
              "       [ 9022.287 ],\n",
              "       [ 5159.695 ],\n",
              "       [ 8716.457 ],\n",
              "       [10226.552 ],\n",
              "       [13249.898 ],\n",
              "       [ 6403.1113],\n",
              "       [13215.094 ],\n",
              "       [ 6179.413 ],\n",
              "       [16466.121 ],\n",
              "       [15904.537 ],\n",
              "       [13958.505 ],\n",
              "       [ 9929.66  ],\n",
              "       [11363.553 ],\n",
              "       [ 7726.4995],\n",
              "       [ 9018.479 ],\n",
              "       [17551.54  ],\n",
              "       [16325.151 ],\n",
              "       [ 9782.703 ],\n",
              "       [ 5128.392 ],\n",
              "       [11892.301 ],\n",
              "       [11611.365 ],\n",
              "       [16177.668 ],\n",
              "       [ 5237.174 ],\n",
              "       [10653.978 ],\n",
              "       [ 3946.4468],\n",
              "       [ 4314.252 ],\n",
              "       [14259.098 ],\n",
              "       [15513.656 ],\n",
              "       [ 5222.607 ],\n",
              "       [13363.885 ],\n",
              "       [ 7936.568 ],\n",
              "       [14646.875 ],\n",
              "       [13664.825 ],\n",
              "       [13407.652 ],\n",
              "       [ 7315.094 ],\n",
              "       [11003.605 ],\n",
              "       [16029.583 ],\n",
              "       [ 5421.8145],\n",
              "       [16206.118 ],\n",
              "       [11733.103 ],\n",
              "       [ 6260.348 ],\n",
              "       [ 7022.0996],\n",
              "       [ 4150.5464],\n",
              "       [ 6374.8735],\n",
              "       [ 7731.9185],\n",
              "       [ 8474.753 ],\n",
              "       [17023.23  ],\n",
              "       [ 3917.9119],\n",
              "       [ 4510.8564],\n",
              "       [11874.183 ],\n",
              "       [ 6734.56  ],\n",
              "       [15446.902 ],\n",
              "       [ 4898.9746],\n",
              "       [ 6799.613 ],\n",
              "       [16108.214 ],\n",
              "       [ 6934.0176],\n",
              "       [13042.53  ],\n",
              "       [ 9515.314 ],\n",
              "       [11888.947 ],\n",
              "       [16379.022 ],\n",
              "       [10285.169 ],\n",
              "       [20988.375 ],\n",
              "       [15685.863 ],\n",
              "       [10466.536 ],\n",
              "       [18804.33  ],\n",
              "       [14184.921 ]], dtype=float32)"
            ]
          },
          "metadata": {},
          "execution_count": 64
        }
      ],
      "source": [
        "y_pred=insurance_model.predict(X_test)\n",
        "y_pred"
      ]
    },
    {
      "cell_type": "code",
      "execution_count": null,
      "metadata": {
        "id": "dvDP018tKRBD"
      },
      "outputs": [],
      "source": [
        "y_pred=tf.squeeze(y_pred)"
      ]
    },
    {
      "cell_type": "markdown",
      "source": [
        "## 7 September 2023"
      ],
      "metadata": {
        "id": "9DZfymFNau31"
      }
    },
    {
      "cell_type": "markdown",
      "source": [
        "Right now it looks like our model isn't performing too well...\n",
        "lets try and improve it!\n",
        "\n",
        "To (try) improve our model, we'll run experiments:\n",
        "1. Add an extra layer with more hidden units\n",
        "2. Train for longer\n",
        "3. Insert Your own Experiments"
      ],
      "metadata": {
        "id": "fcO-siLVWF5j"
      }
    },
    {
      "cell_type": "code",
      "execution_count": null,
      "metadata": {
        "colab": {
          "base_uri": "https://localhost:8080/"
        },
        "id": "GEl5h6FlKble",
        "outputId": "aa229df4-59c8-4564-f925-a38b14cd8291"
      },
      "outputs": [
        {
          "output_type": "stream",
          "name": "stdout",
          "text": [
            "Epoch 1/100\n",
            "34/34 [==============================] - 2s 4ms/step - loss: 13303.8809 - mae: 13303.8809\n",
            "Epoch 2/100\n",
            "34/34 [==============================] - 0s 4ms/step - loss: 13161.5391 - mae: 13161.5391\n",
            "Epoch 3/100\n",
            "34/34 [==============================] - 0s 4ms/step - loss: 12844.5830 - mae: 12844.5830\n",
            "Epoch 4/100\n",
            "34/34 [==============================] - 0s 4ms/step - loss: 12200.7295 - mae: 12200.7295\n",
            "Epoch 5/100\n",
            "34/34 [==============================] - 0s 4ms/step - loss: 11095.4502 - mae: 11095.4502\n",
            "Epoch 6/100\n",
            "34/34 [==============================] - 0s 4ms/step - loss: 9642.8467 - mae: 9642.8467\n",
            "Epoch 7/100\n",
            "34/34 [==============================] - 0s 3ms/step - loss: 8278.8682 - mae: 8278.8682\n",
            "Epoch 8/100\n",
            "34/34 [==============================] - 0s 3ms/step - loss: 7569.2798 - mae: 7569.2798\n",
            "Epoch 9/100\n",
            "34/34 [==============================] - 0s 3ms/step - loss: 7438.9341 - mae: 7438.9341\n",
            "Epoch 10/100\n",
            "34/34 [==============================] - 0s 3ms/step - loss: 7418.0557 - mae: 7418.0557\n",
            "Epoch 11/100\n",
            "34/34 [==============================] - 0s 3ms/step - loss: 7399.2593 - mae: 7399.2593\n",
            "Epoch 12/100\n",
            "34/34 [==============================] - 0s 3ms/step - loss: 7377.1030 - mae: 7377.1030\n",
            "Epoch 13/100\n",
            "34/34 [==============================] - 0s 3ms/step - loss: 7356.8428 - mae: 7356.8428\n",
            "Epoch 14/100\n",
            "34/34 [==============================] - 0s 3ms/step - loss: 7334.4399 - mae: 7334.4399\n",
            "Epoch 15/100\n",
            "34/34 [==============================] - 0s 3ms/step - loss: 7315.5825 - mae: 7315.5825\n",
            "Epoch 16/100\n",
            "34/34 [==============================] - 0s 3ms/step - loss: 7293.4595 - mae: 7293.4595\n",
            "Epoch 17/100\n",
            "34/34 [==============================] - 0s 3ms/step - loss: 7273.3291 - mae: 7273.3291\n",
            "Epoch 18/100\n",
            "34/34 [==============================] - 0s 3ms/step - loss: 7250.0850 - mae: 7250.0850\n",
            "Epoch 19/100\n",
            "34/34 [==============================] - 0s 3ms/step - loss: 7228.0864 - mae: 7228.0864\n",
            "Epoch 20/100\n",
            "34/34 [==============================] - 0s 3ms/step - loss: 7205.0068 - mae: 7205.0068\n",
            "Epoch 21/100\n",
            "34/34 [==============================] - 0s 3ms/step - loss: 7186.3105 - mae: 7186.3105\n",
            "Epoch 22/100\n",
            "34/34 [==============================] - 0s 3ms/step - loss: 7159.0713 - mae: 7159.0713\n",
            "Epoch 23/100\n",
            "34/34 [==============================] - 0s 3ms/step - loss: 7134.5176 - mae: 7134.5176\n",
            "Epoch 24/100\n",
            "34/34 [==============================] - 0s 4ms/step - loss: 7110.0166 - mae: 7110.0166\n",
            "Epoch 25/100\n",
            "34/34 [==============================] - 0s 3ms/step - loss: 7092.0830 - mae: 7092.0830\n",
            "Epoch 26/100\n",
            "34/34 [==============================] - 0s 4ms/step - loss: 7061.1753 - mae: 7061.1753\n",
            "Epoch 27/100\n",
            "34/34 [==============================] - 0s 4ms/step - loss: 7032.9785 - mae: 7032.9785\n",
            "Epoch 28/100\n",
            "34/34 [==============================] - 0s 3ms/step - loss: 7005.4331 - mae: 7005.4331\n",
            "Epoch 29/100\n",
            "34/34 [==============================] - 0s 3ms/step - loss: 6978.2275 - mae: 6978.2275\n",
            "Epoch 30/100\n",
            "34/34 [==============================] - 0s 3ms/step - loss: 6951.2100 - mae: 6951.2100\n",
            "Epoch 31/100\n",
            "34/34 [==============================] - 0s 2ms/step - loss: 6920.5645 - mae: 6920.5645\n",
            "Epoch 32/100\n",
            "34/34 [==============================] - 0s 2ms/step - loss: 6893.5898 - mae: 6893.5898\n",
            "Epoch 33/100\n",
            "34/34 [==============================] - 0s 2ms/step - loss: 6863.0767 - mae: 6863.0767\n",
            "Epoch 34/100\n",
            "34/34 [==============================] - 0s 2ms/step - loss: 6832.4868 - mae: 6832.4868\n",
            "Epoch 35/100\n",
            "34/34 [==============================] - 0s 2ms/step - loss: 6800.0034 - mae: 6800.0034\n",
            "Epoch 36/100\n",
            "34/34 [==============================] - 0s 2ms/step - loss: 6766.8916 - mae: 6766.8916\n",
            "Epoch 37/100\n",
            "34/34 [==============================] - 0s 2ms/step - loss: 6731.7881 - mae: 6731.7881\n",
            "Epoch 38/100\n",
            "34/34 [==============================] - 0s 2ms/step - loss: 6700.2656 - mae: 6700.2656\n",
            "Epoch 39/100\n",
            "34/34 [==============================] - 0s 2ms/step - loss: 6662.6792 - mae: 6662.6792\n",
            "Epoch 40/100\n",
            "34/34 [==============================] - 0s 2ms/step - loss: 6628.3452 - mae: 6628.3452\n",
            "Epoch 41/100\n",
            "34/34 [==============================] - 0s 2ms/step - loss: 6595.0942 - mae: 6595.0942\n",
            "Epoch 42/100\n",
            "34/34 [==============================] - 0s 2ms/step - loss: 6567.5010 - mae: 6567.5010\n",
            "Epoch 43/100\n",
            "34/34 [==============================] - 0s 2ms/step - loss: 6536.8042 - mae: 6536.8042\n",
            "Epoch 44/100\n",
            "34/34 [==============================] - 0s 2ms/step - loss: 6512.8730 - mae: 6512.8730\n",
            "Epoch 45/100\n",
            "34/34 [==============================] - 0s 2ms/step - loss: 6496.1562 - mae: 6496.1562\n",
            "Epoch 46/100\n",
            "34/34 [==============================] - 0s 2ms/step - loss: 6477.3965 - mae: 6477.3965\n",
            "Epoch 47/100\n",
            "34/34 [==============================] - 0s 2ms/step - loss: 6460.9062 - mae: 6460.9062\n",
            "Epoch 48/100\n",
            "34/34 [==============================] - 0s 2ms/step - loss: 6445.5063 - mae: 6445.5059\n",
            "Epoch 49/100\n",
            "34/34 [==============================] - 0s 2ms/step - loss: 6432.5791 - mae: 6432.5791\n",
            "Epoch 50/100\n",
            "34/34 [==============================] - 0s 2ms/step - loss: 6418.4917 - mae: 6418.4917\n",
            "Epoch 51/100\n",
            "34/34 [==============================] - 0s 2ms/step - loss: 6405.1489 - mae: 6405.1489\n",
            "Epoch 52/100\n",
            "34/34 [==============================] - 0s 2ms/step - loss: 6393.3765 - mae: 6393.3765\n",
            "Epoch 53/100\n",
            "34/34 [==============================] - 0s 2ms/step - loss: 6379.2739 - mae: 6379.2739\n",
            "Epoch 54/100\n",
            "34/34 [==============================] - 0s 2ms/step - loss: 6365.4619 - mae: 6365.4619\n",
            "Epoch 55/100\n",
            "34/34 [==============================] - 0s 2ms/step - loss: 6352.2646 - mae: 6352.2646\n",
            "Epoch 56/100\n",
            "34/34 [==============================] - 0s 2ms/step - loss: 6337.8740 - mae: 6337.8740\n",
            "Epoch 57/100\n",
            "34/34 [==============================] - 0s 2ms/step - loss: 6325.6372 - mae: 6325.6372\n",
            "Epoch 58/100\n",
            "34/34 [==============================] - 0s 2ms/step - loss: 6311.2378 - mae: 6311.2378\n",
            "Epoch 59/100\n",
            "34/34 [==============================] - 0s 2ms/step - loss: 6295.7427 - mae: 6295.7427\n",
            "Epoch 60/100\n",
            "34/34 [==============================] - 0s 2ms/step - loss: 6285.3638 - mae: 6285.3638\n",
            "Epoch 61/100\n",
            "34/34 [==============================] - 0s 2ms/step - loss: 6265.9038 - mae: 6265.9038\n",
            "Epoch 62/100\n",
            "34/34 [==============================] - 0s 2ms/step - loss: 6253.3433 - mae: 6253.3433\n",
            "Epoch 63/100\n",
            "34/34 [==============================] - 0s 2ms/step - loss: 6235.2969 - mae: 6235.2969\n",
            "Epoch 64/100\n",
            "34/34 [==============================] - 0s 2ms/step - loss: 6218.0479 - mae: 6218.0479\n",
            "Epoch 65/100\n",
            "34/34 [==============================] - 0s 2ms/step - loss: 6201.4272 - mae: 6201.4272\n",
            "Epoch 66/100\n",
            "34/34 [==============================] - 0s 2ms/step - loss: 6184.2876 - mae: 6184.2876\n",
            "Epoch 67/100\n",
            "34/34 [==============================] - 0s 2ms/step - loss: 6172.0308 - mae: 6172.0308\n",
            "Epoch 68/100\n",
            "34/34 [==============================] - 0s 2ms/step - loss: 6149.2109 - mae: 6149.2109\n",
            "Epoch 69/100\n",
            "34/34 [==============================] - 0s 2ms/step - loss: 6132.9365 - mae: 6132.9365\n",
            "Epoch 70/100\n",
            "34/34 [==============================] - 0s 2ms/step - loss: 6112.7988 - mae: 6112.7988\n",
            "Epoch 71/100\n",
            "34/34 [==============================] - 0s 2ms/step - loss: 6093.1978 - mae: 6093.1978\n",
            "Epoch 72/100\n",
            "34/34 [==============================] - 0s 2ms/step - loss: 6075.1069 - mae: 6075.1069\n",
            "Epoch 73/100\n",
            "34/34 [==============================] - 0s 2ms/step - loss: 6059.7549 - mae: 6059.7549\n",
            "Epoch 74/100\n",
            "34/34 [==============================] - 0s 2ms/step - loss: 6032.3809 - mae: 6032.3809\n",
            "Epoch 75/100\n",
            "34/34 [==============================] - 0s 3ms/step - loss: 6010.6538 - mae: 6010.6538\n",
            "Epoch 76/100\n",
            "34/34 [==============================] - 0s 2ms/step - loss: 5997.0615 - mae: 5997.0615\n",
            "Epoch 77/100\n",
            "34/34 [==============================] - 0s 2ms/step - loss: 5963.7007 - mae: 5963.7007\n",
            "Epoch 78/100\n",
            "34/34 [==============================] - 0s 2ms/step - loss: 5941.2788 - mae: 5941.2788\n",
            "Epoch 79/100\n",
            "34/34 [==============================] - 0s 2ms/step - loss: 5916.9067 - mae: 5916.9067\n",
            "Epoch 80/100\n",
            "34/34 [==============================] - 0s 2ms/step - loss: 5889.5781 - mae: 5889.5781\n",
            "Epoch 81/100\n",
            "34/34 [==============================] - 0s 2ms/step - loss: 5863.4487 - mae: 5863.4487\n",
            "Epoch 82/100\n",
            "34/34 [==============================] - 0s 2ms/step - loss: 5835.7876 - mae: 5835.7876\n",
            "Epoch 83/100\n",
            "34/34 [==============================] - 0s 2ms/step - loss: 5807.0493 - mae: 5807.0493\n",
            "Epoch 84/100\n",
            "34/34 [==============================] - 0s 2ms/step - loss: 5774.0791 - mae: 5774.0791\n",
            "Epoch 85/100\n",
            "34/34 [==============================] - 0s 2ms/step - loss: 5746.9067 - mae: 5746.9067\n",
            "Epoch 86/100\n",
            "34/34 [==============================] - 0s 2ms/step - loss: 5712.0381 - mae: 5712.0381\n",
            "Epoch 87/100\n",
            "34/34 [==============================] - 0s 2ms/step - loss: 5675.6714 - mae: 5675.6714\n",
            "Epoch 88/100\n",
            "34/34 [==============================] - 0s 2ms/step - loss: 5641.4331 - mae: 5641.4331\n",
            "Epoch 89/100\n",
            "34/34 [==============================] - 0s 2ms/step - loss: 5602.3511 - mae: 5602.3511\n",
            "Epoch 90/100\n",
            "34/34 [==============================] - 0s 2ms/step - loss: 5561.2896 - mae: 5561.2896\n",
            "Epoch 91/100\n",
            "34/34 [==============================] - 0s 2ms/step - loss: 5525.5493 - mae: 5525.5493\n",
            "Epoch 92/100\n",
            "34/34 [==============================] - 0s 2ms/step - loss: 5475.8975 - mae: 5475.8975\n",
            "Epoch 93/100\n",
            "34/34 [==============================] - 0s 2ms/step - loss: 5435.1592 - mae: 5435.1592\n",
            "Epoch 94/100\n",
            "34/34 [==============================] - 0s 2ms/step - loss: 5388.7119 - mae: 5388.7119\n",
            "Epoch 95/100\n",
            "34/34 [==============================] - 0s 2ms/step - loss: 5336.1670 - mae: 5336.1670\n",
            "Epoch 96/100\n",
            "34/34 [==============================] - 0s 2ms/step - loss: 5290.9990 - mae: 5290.9990\n",
            "Epoch 97/100\n",
            "34/34 [==============================] - 0s 2ms/step - loss: 5236.5918 - mae: 5236.5918\n",
            "Epoch 98/100\n",
            "34/34 [==============================] - 0s 2ms/step - loss: 5175.5547 - mae: 5175.5547\n",
            "Epoch 99/100\n",
            "34/34 [==============================] - 0s 2ms/step - loss: 5115.8647 - mae: 5115.8647\n",
            "Epoch 100/100\n",
            "34/34 [==============================] - 0s 2ms/step - loss: 5058.6064 - mae: 5058.6064\n"
          ]
        },
        {
          "output_type": "execute_result",
          "data": {
            "text/plain": [
              "<keras.callbacks.History at 0x7bc35a271990>"
            ]
          },
          "metadata": {},
          "execution_count": 66
        }
      ],
      "source": [
        "# set random seed\n",
        "tf.random.set_seed(42)\n",
        "\n",
        "# 1.Create a model\n",
        "insurance_model_2=tf.keras.Sequential([\n",
        "    tf.keras.layers.Dense(100),\n",
        "    tf.keras.layers.Dense(10),\n",
        "    tf.keras.layers.Dense(1)\n",
        "])\n",
        "\n",
        "# 2.Compile a model\n",
        "insurance_model_2.compile(loss=tf.keras.losses.mae,\n",
        "                          optimizer=tf.keras.optimizers.Adam(),\n",
        "                          metrics=[\"mae\"])\n",
        "\n",
        "# 3.fit a model\n",
        "insurance_model_2.fit(X_train,y_train,epochs=100,verbose=1)"
      ]
    },
    {
      "cell_type": "code",
      "source": [
        "#Evaluate the larger model\n",
        "insurance_model_2.evaluate(X_test,y_test)"
      ],
      "metadata": {
        "colab": {
          "base_uri": "https://localhost:8080/"
        },
        "id": "oIC9RA33XnlC",
        "outputId": "7d491bdd-2e84-4d67-d503-270e5fa637a4"
      },
      "execution_count": null,
      "outputs": [
        {
          "output_type": "stream",
          "name": "stdout",
          "text": [
            "9/9 [==============================] - 0s 3ms/step - loss: 4926.7095 - mae: 4926.7095\n"
          ]
        },
        {
          "output_type": "execute_result",
          "data": {
            "text/plain": [
              "[4926.70947265625, 4926.70947265625]"
            ]
          },
          "metadata": {},
          "execution_count": 67
        }
      ]
    },
    {
      "cell_type": "code",
      "source": [
        "insurance_model.evaluate(X_test,y_test)"
      ],
      "metadata": {
        "colab": {
          "base_uri": "https://localhost:8080/"
        },
        "id": "mNZQqOsPX7vc",
        "outputId": "8ab9164b-4c8e-490a-ec7e-4cc363506ebd"
      },
      "execution_count": null,
      "outputs": [
        {
          "output_type": "stream",
          "name": "stdout",
          "text": [
            "9/9 [==============================] - 0s 4ms/step - loss: 7189.4570 - mae: 7189.4570\n"
          ]
        },
        {
          "output_type": "execute_result",
          "data": {
            "text/plain": [
              "[7189.45703125, 7189.45703125]"
            ]
          },
          "metadata": {},
          "execution_count": 68
        }
      ]
    },
    {
      "cell_type": "code",
      "source": [
        "insurance_model_1.evaluate(X_test,y_test)"
      ],
      "metadata": {
        "colab": {
          "base_uri": "https://localhost:8080/"
        },
        "id": "dTyVcZFCYvh1",
        "outputId": "4d784df6-9d4b-4fa3-e450-2635164a2f03"
      },
      "execution_count": null,
      "outputs": [
        {
          "output_type": "stream",
          "name": "stdout",
          "text": [
            "9/9 [==============================] - 0s 4ms/step - loss: 1546.2825 - mae: 1546.2825\n"
          ]
        },
        {
          "output_type": "execute_result",
          "data": {
            "text/plain": [
              "[1546.282470703125, 1546.282470703125]"
            ]
          },
          "metadata": {},
          "execution_count": 69
        }
      ]
    },
    {
      "cell_type": "code",
      "source": [
        "# Set random set\n",
        "tf.random.set_seed(42)\n",
        "\n",
        "# 1.Create a model\n",
        "insurance_model_3=tf.keras.Sequential([\n",
        "    tf.keras.layers.Dense(100),\n",
        "    tf.keras.layers.Dense(10),\n",
        "    tf.keras.layers.Dense(1)\n",
        "])\n",
        "\n",
        "# 2. Compile a model\n",
        "insurance_model_3.compile(loss=tf.keras.losses.mae,\n",
        "                          optimizer=tf.keras.optimizers.Adam(),\n",
        "                          metrics=[\"mae\"])\n",
        "# 3. Fit the model\n",
        "history=insurance_model_3.fit(X_train,y_train,epochs=100)"
      ],
      "metadata": {
        "colab": {
          "base_uri": "https://localhost:8080/"
        },
        "id": "75gsIUk0Y2Xv",
        "outputId": "aa9bc653-c5b9-40fb-ce23-fef1493361a4"
      },
      "execution_count": null,
      "outputs": [
        {
          "output_type": "stream",
          "name": "stdout",
          "text": [
            "Epoch 1/100\n",
            "34/34 [==============================] - 1s 3ms/step - loss: 13295.4727 - mae: 13295.4727\n",
            "Epoch 2/100\n",
            "34/34 [==============================] - 0s 3ms/step - loss: 13141.3213 - mae: 13141.3213\n",
            "Epoch 3/100\n",
            "34/34 [==============================] - 0s 3ms/step - loss: 12831.1182 - mae: 12831.1182\n",
            "Epoch 4/100\n",
            "34/34 [==============================] - 0s 3ms/step - loss: 12221.6846 - mae: 12221.6846\n",
            "Epoch 5/100\n",
            "34/34 [==============================] - 0s 3ms/step - loss: 11170.7803 - mae: 11170.7803\n",
            "Epoch 6/100\n",
            "34/34 [==============================] - 0s 4ms/step - loss: 9748.5537 - mae: 9748.5537\n",
            "Epoch 7/100\n",
            "34/34 [==============================] - 0s 3ms/step - loss: 8357.0488 - mae: 8357.0488\n",
            "Epoch 8/100\n",
            "34/34 [==============================] - 0s 3ms/step - loss: 7593.8828 - mae: 7593.8828\n",
            "Epoch 9/100\n",
            "34/34 [==============================] - 0s 2ms/step - loss: 7439.2192 - mae: 7439.2192\n",
            "Epoch 10/100\n",
            "34/34 [==============================] - 0s 2ms/step - loss: 7416.1157 - mae: 7416.1157\n",
            "Epoch 11/100\n",
            "34/34 [==============================] - 0s 2ms/step - loss: 7396.8760 - mae: 7396.8760\n",
            "Epoch 12/100\n",
            "34/34 [==============================] - 0s 2ms/step - loss: 7374.9751 - mae: 7374.9751\n",
            "Epoch 13/100\n",
            "34/34 [==============================] - 0s 2ms/step - loss: 7354.9243 - mae: 7354.9243\n",
            "Epoch 14/100\n",
            "34/34 [==============================] - 0s 2ms/step - loss: 7332.5811 - mae: 7332.5811\n",
            "Epoch 15/100\n",
            "34/34 [==============================] - 0s 2ms/step - loss: 7313.8599 - mae: 7313.8599\n",
            "Epoch 16/100\n",
            "34/34 [==============================] - 0s 2ms/step - loss: 7291.9189 - mae: 7291.9189\n",
            "Epoch 17/100\n",
            "34/34 [==============================] - 0s 2ms/step - loss: 7271.6943 - mae: 7271.6943\n",
            "Epoch 18/100\n",
            "34/34 [==============================] - 0s 2ms/step - loss: 7248.6543 - mae: 7248.6543\n",
            "Epoch 19/100\n",
            "34/34 [==============================] - 0s 2ms/step - loss: 7226.5381 - mae: 7226.5381\n",
            "Epoch 20/100\n",
            "34/34 [==============================] - 0s 2ms/step - loss: 7203.3232 - mae: 7203.3232\n",
            "Epoch 21/100\n",
            "34/34 [==============================] - 0s 2ms/step - loss: 7185.0737 - mae: 7185.0737\n",
            "Epoch 22/100\n",
            "34/34 [==============================] - 0s 2ms/step - loss: 7157.4019 - mae: 7157.4019\n",
            "Epoch 23/100\n",
            "34/34 [==============================] - 0s 2ms/step - loss: 7132.8140 - mae: 7132.8140\n",
            "Epoch 24/100\n",
            "34/34 [==============================] - 0s 2ms/step - loss: 7108.0728 - mae: 7108.0728\n",
            "Epoch 25/100\n",
            "34/34 [==============================] - 0s 2ms/step - loss: 7090.2944 - mae: 7090.2944\n",
            "Epoch 26/100\n",
            "34/34 [==============================] - 0s 2ms/step - loss: 7058.5298 - mae: 7058.5298\n",
            "Epoch 27/100\n",
            "34/34 [==============================] - 0s 2ms/step - loss: 7030.3076 - mae: 7030.3076\n",
            "Epoch 28/100\n",
            "34/34 [==============================] - 0s 2ms/step - loss: 7002.4512 - mae: 7002.4512\n",
            "Epoch 29/100\n",
            "34/34 [==============================] - 0s 2ms/step - loss: 6974.6875 - mae: 6974.6875\n",
            "Epoch 30/100\n",
            "34/34 [==============================] - 0s 2ms/step - loss: 6947.3145 - mae: 6947.3145\n",
            "Epoch 31/100\n",
            "34/34 [==============================] - 0s 2ms/step - loss: 6916.2993 - mae: 6916.2993\n",
            "Epoch 32/100\n",
            "34/34 [==============================] - 0s 2ms/step - loss: 6887.9390 - mae: 6887.9390\n",
            "Epoch 33/100\n",
            "34/34 [==============================] - 0s 2ms/step - loss: 6856.9209 - mae: 6856.9209\n",
            "Epoch 34/100\n",
            "34/34 [==============================] - 0s 2ms/step - loss: 6825.9565 - mae: 6825.9565\n",
            "Epoch 35/100\n",
            "34/34 [==============================] - 0s 2ms/step - loss: 6792.4253 - mae: 6792.4253\n",
            "Epoch 36/100\n",
            "34/34 [==============================] - 0s 2ms/step - loss: 6758.0293 - mae: 6758.0293\n",
            "Epoch 37/100\n",
            "34/34 [==============================] - 0s 2ms/step - loss: 6722.0117 - mae: 6722.0117\n",
            "Epoch 38/100\n",
            "34/34 [==============================] - 0s 2ms/step - loss: 6690.9805 - mae: 6690.9805\n",
            "Epoch 39/100\n",
            "34/34 [==============================] - 0s 2ms/step - loss: 6652.1299 - mae: 6652.1299\n",
            "Epoch 40/100\n",
            "34/34 [==============================] - 0s 2ms/step - loss: 6616.8818 - mae: 6616.8818\n",
            "Epoch 41/100\n",
            "34/34 [==============================] - 0s 2ms/step - loss: 6584.0864 - mae: 6584.0864\n",
            "Epoch 42/100\n",
            "34/34 [==============================] - 0s 2ms/step - loss: 6555.5918 - mae: 6555.5918\n",
            "Epoch 43/100\n",
            "34/34 [==============================] - 0s 2ms/step - loss: 6527.3525 - mae: 6527.3525\n",
            "Epoch 44/100\n",
            "34/34 [==============================] - 0s 2ms/step - loss: 6504.2280 - mae: 6504.2280\n",
            "Epoch 45/100\n",
            "34/34 [==============================] - 0s 2ms/step - loss: 6490.4014 - mae: 6490.4014\n",
            "Epoch 46/100\n",
            "34/34 [==============================] - 0s 2ms/step - loss: 6473.1558 - mae: 6473.1558\n",
            "Epoch 47/100\n",
            "34/34 [==============================] - 0s 2ms/step - loss: 6455.1616 - mae: 6455.1616\n",
            "Epoch 48/100\n",
            "34/34 [==============================] - 0s 2ms/step - loss: 6441.8750 - mae: 6441.8750\n",
            "Epoch 49/100\n",
            "34/34 [==============================] - 0s 2ms/step - loss: 6427.8628 - mae: 6427.8628\n",
            "Epoch 50/100\n",
            "34/34 [==============================] - 0s 2ms/step - loss: 6413.7417 - mae: 6413.7417\n",
            "Epoch 51/100\n",
            "34/34 [==============================] - 0s 2ms/step - loss: 6400.1650 - mae: 6400.1650\n",
            "Epoch 52/100\n",
            "34/34 [==============================] - 0s 2ms/step - loss: 6388.3657 - mae: 6388.3657\n",
            "Epoch 53/100\n",
            "34/34 [==============================] - 0s 2ms/step - loss: 6373.5771 - mae: 6373.5771\n",
            "Epoch 54/100\n",
            "34/34 [==============================] - 0s 2ms/step - loss: 6359.7461 - mae: 6359.7461\n",
            "Epoch 55/100\n",
            "34/34 [==============================] - 0s 2ms/step - loss: 6345.5806 - mae: 6345.5806\n",
            "Epoch 56/100\n",
            "34/34 [==============================] - 0s 2ms/step - loss: 6331.2935 - mae: 6331.2935\n",
            "Epoch 57/100\n",
            "34/34 [==============================] - 0s 2ms/step - loss: 6318.1089 - mae: 6318.1089\n",
            "Epoch 58/100\n",
            "34/34 [==============================] - 0s 2ms/step - loss: 6303.9429 - mae: 6303.9429\n",
            "Epoch 59/100\n",
            "34/34 [==============================] - 0s 2ms/step - loss: 6287.7007 - mae: 6287.7007\n",
            "Epoch 60/100\n",
            "34/34 [==============================] - 0s 2ms/step - loss: 6276.7339 - mae: 6276.7339\n",
            "Epoch 61/100\n",
            "34/34 [==============================] - 0s 3ms/step - loss: 6256.7793 - mae: 6256.7793\n",
            "Epoch 62/100\n",
            "34/34 [==============================] - 0s 2ms/step - loss: 6243.5781 - mae: 6243.5781\n",
            "Epoch 63/100\n",
            "34/34 [==============================] - 0s 2ms/step - loss: 6224.1284 - mae: 6224.1284\n",
            "Epoch 64/100\n",
            "34/34 [==============================] - 0s 2ms/step - loss: 6206.3174 - mae: 6206.3174\n",
            "Epoch 65/100\n",
            "34/34 [==============================] - 0s 2ms/step - loss: 6188.6055 - mae: 6188.6055\n",
            "Epoch 66/100\n",
            "34/34 [==============================] - 0s 2ms/step - loss: 6170.4985 - mae: 6170.4985\n",
            "Epoch 67/100\n",
            "34/34 [==============================] - 0s 2ms/step - loss: 6157.4214 - mae: 6157.4214\n",
            "Epoch 68/100\n",
            "34/34 [==============================] - 0s 2ms/step - loss: 6133.5845 - mae: 6133.5845\n",
            "Epoch 69/100\n",
            "34/34 [==============================] - 0s 2ms/step - loss: 6116.4863 - mae: 6116.4863\n",
            "Epoch 70/100\n",
            "34/34 [==============================] - 0s 2ms/step - loss: 6094.8823 - mae: 6094.8823\n",
            "Epoch 71/100\n",
            "34/34 [==============================] - 0s 2ms/step - loss: 6074.3696 - mae: 6074.3696\n",
            "Epoch 72/100\n",
            "34/34 [==============================] - 0s 2ms/step - loss: 6053.8208 - mae: 6053.8208\n",
            "Epoch 73/100\n",
            "34/34 [==============================] - 0s 2ms/step - loss: 6039.4292 - mae: 6039.4292\n",
            "Epoch 74/100\n",
            "34/34 [==============================] - 0s 2ms/step - loss: 6009.0713 - mae: 6009.0713\n",
            "Epoch 75/100\n",
            "34/34 [==============================] - 0s 2ms/step - loss: 5985.8989 - mae: 5985.8989\n",
            "Epoch 76/100\n",
            "34/34 [==============================] - 0s 2ms/step - loss: 5970.9404 - mae: 5970.9404\n",
            "Epoch 77/100\n",
            "34/34 [==============================] - 0s 2ms/step - loss: 5937.5269 - mae: 5937.5269\n",
            "Epoch 78/100\n",
            "34/34 [==============================] - 0s 2ms/step - loss: 5912.2520 - mae: 5912.2520\n",
            "Epoch 79/100\n",
            "34/34 [==============================] - 0s 2ms/step - loss: 5885.9629 - mae: 5885.9629\n",
            "Epoch 80/100\n",
            "34/34 [==============================] - 0s 2ms/step - loss: 5856.4951 - mae: 5856.4951\n",
            "Epoch 81/100\n",
            "34/34 [==============================] - 0s 2ms/step - loss: 5829.3789 - mae: 5829.3789\n",
            "Epoch 82/100\n",
            "34/34 [==============================] - 0s 2ms/step - loss: 5799.0635 - mae: 5799.0635\n",
            "Epoch 83/100\n",
            "34/34 [==============================] - 0s 2ms/step - loss: 5768.9985 - mae: 5768.9985\n",
            "Epoch 84/100\n",
            "34/34 [==============================] - 0s 2ms/step - loss: 5734.2397 - mae: 5734.2397\n",
            "Epoch 85/100\n",
            "34/34 [==============================] - 0s 2ms/step - loss: 5705.5869 - mae: 5705.5869\n",
            "Epoch 86/100\n",
            "34/34 [==============================] - 0s 2ms/step - loss: 5670.4023 - mae: 5670.4023\n",
            "Epoch 87/100\n",
            "34/34 [==============================] - 0s 2ms/step - loss: 5631.1406 - mae: 5631.1406\n",
            "Epoch 88/100\n",
            "34/34 [==============================] - 0s 2ms/step - loss: 5593.7290 - mae: 5593.7290\n",
            "Epoch 89/100\n",
            "34/34 [==============================] - 0s 2ms/step - loss: 5552.5518 - mae: 5552.5518\n",
            "Epoch 90/100\n",
            "34/34 [==============================] - 0s 2ms/step - loss: 5508.6572 - mae: 5508.6572\n",
            "Epoch 91/100\n",
            "34/34 [==============================] - 0s 2ms/step - loss: 5468.3657 - mae: 5468.3657\n",
            "Epoch 92/100\n",
            "34/34 [==============================] - 0s 2ms/step - loss: 5418.3394 - mae: 5418.3394\n",
            "Epoch 93/100\n",
            "34/34 [==============================] - 0s 2ms/step - loss: 5373.5469 - mae: 5373.5469\n",
            "Epoch 94/100\n",
            "34/34 [==============================] - 0s 2ms/step - loss: 5323.3696 - mae: 5323.3696\n",
            "Epoch 95/100\n",
            "34/34 [==============================] - 0s 2ms/step - loss: 5269.9551 - mae: 5269.9551\n",
            "Epoch 96/100\n",
            "34/34 [==============================] - 0s 2ms/step - loss: 5220.2188 - mae: 5220.2188\n",
            "Epoch 97/100\n",
            "34/34 [==============================] - 0s 2ms/step - loss: 5162.4131 - mae: 5162.4131\n",
            "Epoch 98/100\n",
            "34/34 [==============================] - 0s 2ms/step - loss: 5099.0376 - mae: 5099.0376\n",
            "Epoch 99/100\n",
            "34/34 [==============================] - 0s 2ms/step - loss: 5036.6763 - mae: 5036.6763\n",
            "Epoch 100/100\n",
            "34/34 [==============================] - 0s 3ms/step - loss: 4980.0386 - mae: 4980.0386\n"
          ]
        }
      ]
    },
    {
      "cell_type": "code",
      "source": [
        "insurance_model_3.evaluate(X_test,y_test)"
      ],
      "metadata": {
        "colab": {
          "base_uri": "https://localhost:8080/"
        },
        "id": "VFJimRz1ZzeG",
        "outputId": "e51202a3-631f-4436-8095-b3701b7e84b9"
      },
      "execution_count": null,
      "outputs": [
        {
          "output_type": "stream",
          "name": "stdout",
          "text": [
            "9/9 [==============================] - 0s 2ms/step - loss: 4848.7651 - mae: 4848.7651\n"
          ]
        },
        {
          "output_type": "execute_result",
          "data": {
            "text/plain": [
              "[4848.76513671875, 4848.76513671875]"
            ]
          },
          "metadata": {},
          "execution_count": 71
        }
      ]
    },
    {
      "cell_type": "code",
      "source": [
        "insurance_model.evaluate(X_test,y_test)"
      ],
      "metadata": {
        "colab": {
          "base_uri": "https://localhost:8080/"
        },
        "id": "9GAQ5zXAaRhg",
        "outputId": "a57ed873-2f18-4b39-8df3-2ef766feec78"
      },
      "execution_count": null,
      "outputs": [
        {
          "output_type": "stream",
          "name": "stdout",
          "text": [
            "9/9 [==============================] - 0s 3ms/step - loss: 7189.4570 - mae: 7189.4570\n"
          ]
        },
        {
          "output_type": "execute_result",
          "data": {
            "text/plain": [
              "[7189.45703125, 7189.45703125]"
            ]
          },
          "metadata": {},
          "execution_count": 72
        }
      ]
    },
    {
      "cell_type": "code",
      "source": [
        "# Plot history (also known as a loss curve or a training curve!)\n",
        "pd.DataFrame(history.history).plot()\n",
        "plt.ylabel(\"loss\")\n",
        "plt.xlabel(\"epochs\")"
      ],
      "metadata": {
        "colab": {
          "base_uri": "https://localhost:8080/",
          "height": 467
        },
        "id": "q4yO7MqhadYE",
        "outputId": "d92917fd-869a-415a-f123-7d2ffcad8a12"
      },
      "execution_count": null,
      "outputs": [
        {
          "output_type": "execute_result",
          "data": {
            "text/plain": [
              "Text(0.5, 0, 'epochs')"
            ]
          },
          "metadata": {},
          "execution_count": 73
        },
        {
          "output_type": "display_data",
          "data": {
            "text/plain": [
              "<Figure size 640x480 with 1 Axes>"
            ],
            "image/png": "[encoded data removed]"
          },
          "metadata": {}
        }
      ]
    },
    {
      "cell_type": "markdown",
      "source": [
        "> 🤔 **Question**- How long should you train for ?\n",
        "\n",
        "It depends. Really... It depends on the problem you're working on. However, many people have asked this question before... so Tensorflow has a solution! Its called the [EarlyStopping Callback],which is a tensorflow component you can add to your model to stop training once it stops improving a certain metric."
      ],
      "metadata": {
        "id": "W2RB1i9bbUIU"
      }
    },
    {
      "cell_type": "code",
      "source": [
        "# Importing EarlyStopping\n",
        "from tensorflow.keras.callbacks import EarlyStopping"
      ],
      "metadata": {
        "id": "8H_HVO_cd8WA"
      },
      "execution_count": null,
      "outputs": []
    },
    {
      "cell_type": "code",
      "source": [
        "#Set random seed\n",
        "tf.random.set_seed(42)\n",
        "\n",
        "# 1.Create a model\n",
        "insurance_model_4=tf.keras.Sequential(\n",
        "    [\n",
        "        tf.keras.layers.Dense(100),\n",
        "        tf.keras.layers.Dense(10),\n",
        "        tf.keras.layers.Dense(1)\n",
        "    ]\n",
        ")\n",
        "\n",
        "# 2.Compile a model\n",
        "insurance_model_4.compile(loss=tf.keras.losses.mae,\n",
        "                          optimizer=tf.keras.optimizers.Adam(),\n",
        "                          metrics=[\"mae\"])\n",
        "\n",
        "# 3.fit a model\n",
        "history_1=insurance_model_4.fit(X_train,y_train,epochs=500,callbacks=[EarlyStopping(monitor='loss', patience=3,restore_best_weights=True)])"
      ],
      "metadata": {
        "colab": {
          "base_uri": "https://localhost:8080/"
        },
        "id": "aQnWQuggk2y7",
        "outputId": "59257dcf-7c73-4d9b-efc3-be6c94ee9037"
      },
      "execution_count": null,
      "outputs": [
        {
          "output_type": "stream",
          "name": "stdout",
          "text": [
            "Epoch 1/500\n",
            "34/34 [==============================] - 1s 3ms/step - loss: 13266.8320 - mae: 13266.8320\n",
            "Epoch 2/500\n",
            "34/34 [==============================] - 0s 3ms/step - loss: 13077.6006 - mae: 13077.6006\n",
            "Epoch 3/500\n",
            "34/34 [==============================] - 0s 3ms/step - loss: 12678.0205 - mae: 12678.0205\n",
            "Epoch 4/500\n",
            "34/34 [==============================] - 0s 3ms/step - loss: 11915.4443 - mae: 11915.4443\n",
            "Epoch 5/500\n",
            "34/34 [==============================] - 0s 3ms/step - loss: 10701.1201 - mae: 10701.1201\n",
            "Epoch 6/500\n",
            "34/34 [==============================] - 0s 3ms/step - loss: 9243.5049 - mae: 9243.5049\n",
            "Epoch 7/500\n",
            "34/34 [==============================] - 0s 3ms/step - loss: 8001.6514 - mae: 8001.6514\n",
            "Epoch 8/500\n",
            "34/34 [==============================] - 0s 3ms/step - loss: 7501.4233 - mae: 7501.4233\n",
            "Epoch 9/500\n",
            "34/34 [==============================] - 0s 3ms/step - loss: 7430.5781 - mae: 7430.5781\n",
            "Epoch 10/500\n",
            "34/34 [==============================] - 0s 3ms/step - loss: 7411.1455 - mae: 7411.1455\n",
            "Epoch 11/500\n",
            "34/34 [==============================] - 0s 3ms/step - loss: 7392.4199 - mae: 7392.4199\n",
            "Epoch 12/500\n",
            "34/34 [==============================] - 0s 3ms/step - loss: 7370.0898 - mae: 7370.0898\n",
            "Epoch 13/500\n",
            "34/34 [==============================] - 0s 2ms/step - loss: 7349.4116 - mae: 7349.4116\n",
            "Epoch 14/500\n",
            "34/34 [==============================] - 0s 3ms/step - loss: 7326.9004 - mae: 7326.9004\n",
            "Epoch 15/500\n",
            "34/34 [==============================] - 0s 3ms/step - loss: 7307.5508 - mae: 7307.5508\n",
            "Epoch 16/500\n",
            "34/34 [==============================] - 0s 3ms/step - loss: 7284.7456 - mae: 7284.7456\n",
            "Epoch 17/500\n",
            "34/34 [==============================] - 0s 3ms/step - loss: 7264.2700 - mae: 7264.2700\n",
            "Epoch 18/500\n",
            "34/34 [==============================] - 0s 3ms/step - loss: 7240.2856 - mae: 7240.2856\n",
            "Epoch 19/500\n",
            "34/34 [==============================] - 0s 3ms/step - loss: 7217.1323 - mae: 7217.1323\n",
            "Epoch 20/500\n",
            "34/34 [==============================] - 0s 3ms/step - loss: 7192.8818 - mae: 7192.8818\n",
            "Epoch 21/500\n",
            "34/34 [==============================] - 0s 3ms/step - loss: 7173.2827 - mae: 7173.2827\n",
            "Epoch 22/500\n",
            "34/34 [==============================] - 0s 3ms/step - loss: 7144.7124 - mae: 7144.7124\n",
            "Epoch 23/500\n",
            "34/34 [==============================] - 0s 3ms/step - loss: 7118.3516 - mae: 7118.3516\n",
            "Epoch 24/500\n",
            "34/34 [==============================] - 0s 3ms/step - loss: 7092.2544 - mae: 7092.2544\n",
            "Epoch 25/500\n",
            "34/34 [==============================] - 0s 3ms/step - loss: 7072.4229 - mae: 7072.4229\n",
            "Epoch 26/500\n",
            "34/34 [==============================] - 0s 3ms/step - loss: 7039.7163 - mae: 7039.7163\n",
            "Epoch 27/500\n",
            "34/34 [==============================] - 0s 3ms/step - loss: 7009.5464 - mae: 7009.5464\n",
            "Epoch 28/500\n",
            "34/34 [==============================] - 0s 3ms/step - loss: 6979.8623 - mae: 6979.8623\n",
            "Epoch 29/500\n",
            "34/34 [==============================] - 0s 3ms/step - loss: 6949.9834 - mae: 6949.9834\n",
            "Epoch 30/500\n",
            "34/34 [==============================] - 0s 3ms/step - loss: 6920.9360 - mae: 6920.9360\n",
            "Epoch 31/500\n",
            "34/34 [==============================] - 0s 3ms/step - loss: 6888.5684 - mae: 6888.5684\n",
            "Epoch 32/500\n",
            "34/34 [==============================] - 0s 3ms/step - loss: 6858.3906 - mae: 6858.3906\n",
            "Epoch 33/500\n",
            "34/34 [==============================] - 0s 2ms/step - loss: 6825.3711 - mae: 6825.3711\n",
            "Epoch 34/500\n",
            "34/34 [==============================] - 0s 2ms/step - loss: 6793.1729 - mae: 6793.1729\n",
            "Epoch 35/500\n",
            "34/34 [==============================] - 0s 2ms/step - loss: 6756.3120 - mae: 6756.3120\n",
            "Epoch 36/500\n",
            "34/34 [==============================] - 0s 2ms/step - loss: 6721.2246 - mae: 6721.2246\n",
            "Epoch 37/500\n",
            "34/34 [==============================] - 0s 2ms/step - loss: 6683.2749 - mae: 6683.2749\n",
            "Epoch 38/500\n",
            "34/34 [==============================] - 0s 2ms/step - loss: 6652.5225 - mae: 6652.5225\n",
            "Epoch 39/500\n",
            "34/34 [==============================] - 0s 2ms/step - loss: 6613.1807 - mae: 6613.1807\n",
            "Epoch 40/500\n",
            "34/34 [==============================] - 0s 2ms/step - loss: 6579.1675 - mae: 6579.1675\n",
            "Epoch 41/500\n",
            "34/34 [==============================] - 0s 2ms/step - loss: 6550.8208 - mae: 6550.8208\n",
            "Epoch 42/500\n",
            "34/34 [==============================] - 0s 2ms/step - loss: 6527.9839 - mae: 6527.9839\n",
            "Epoch 43/500\n",
            "34/34 [==============================] - 0s 2ms/step - loss: 6502.3428 - mae: 6502.3428\n",
            "Epoch 44/500\n",
            "34/34 [==============================] - 0s 2ms/step - loss: 6481.0532 - mae: 6481.0532\n",
            "Epoch 45/500\n",
            "34/34 [==============================] - 0s 2ms/step - loss: 6472.8359 - mae: 6472.8359\n",
            "Epoch 46/500\n",
            "34/34 [==============================] - 0s 2ms/step - loss: 6453.7715 - mae: 6453.7715\n",
            "Epoch 47/500\n",
            "34/34 [==============================] - 0s 2ms/step - loss: 6437.7876 - mae: 6437.7876\n",
            "Epoch 48/500\n",
            "34/34 [==============================] - 0s 2ms/step - loss: 6423.8193 - mae: 6423.8193\n",
            "Epoch 49/500\n",
            "34/34 [==============================] - 0s 2ms/step - loss: 6411.5269 - mae: 6411.5269\n",
            "Epoch 50/500\n",
            "34/34 [==============================] - 0s 2ms/step - loss: 6396.9419 - mae: 6396.9419\n",
            "Epoch 51/500\n",
            "34/34 [==============================] - 0s 2ms/step - loss: 6383.9854 - mae: 6383.9854\n",
            "Epoch 52/500\n",
            "34/34 [==============================] - 0s 2ms/step - loss: 6371.3003 - mae: 6371.3003\n",
            "Epoch 53/500\n",
            "34/34 [==============================] - 0s 2ms/step - loss: 6356.8364 - mae: 6356.8364\n",
            "Epoch 54/500\n",
            "34/34 [==============================] - 0s 2ms/step - loss: 6342.3657 - mae: 6342.3657\n",
            "Epoch 55/500\n",
            "34/34 [==============================] - 0s 2ms/step - loss: 6328.3071 - mae: 6328.3071\n",
            "Epoch 56/500\n",
            "34/34 [==============================] - 0s 2ms/step - loss: 6314.1543 - mae: 6314.1543\n",
            "Epoch 57/500\n",
            "34/34 [==============================] - 0s 2ms/step - loss: 6300.4937 - mae: 6300.4937\n",
            "Epoch 58/500\n",
            "34/34 [==============================] - 0s 2ms/step - loss: 6286.2627 - mae: 6286.2627\n",
            "Epoch 59/500\n",
            "34/34 [==============================] - 0s 2ms/step - loss: 6269.9463 - mae: 6269.9463\n",
            "Epoch 60/500\n",
            "34/34 [==============================] - 0s 2ms/step - loss: 6258.9702 - mae: 6258.9702\n",
            "Epoch 61/500\n",
            "34/34 [==============================] - 0s 2ms/step - loss: 6237.8516 - mae: 6237.8516\n",
            "Epoch 62/500\n",
            "34/34 [==============================] - 0s 2ms/step - loss: 6224.9438 - mae: 6224.9438\n",
            "Epoch 63/500\n",
            "34/34 [==============================] - 0s 2ms/step - loss: 6206.7734 - mae: 6206.7734\n",
            "Epoch 64/500\n",
            "34/34 [==============================] - 0s 3ms/step - loss: 6188.6113 - mae: 6188.6113\n",
            "Epoch 65/500\n",
            "34/34 [==============================] - 0s 2ms/step - loss: 6170.6489 - mae: 6170.6489\n",
            "Epoch 66/500\n",
            "34/34 [==============================] - 0s 2ms/step - loss: 6152.4790 - mae: 6152.4790\n",
            "Epoch 67/500\n",
            "34/34 [==============================] - 0s 2ms/step - loss: 6139.5679 - mae: 6139.5679\n",
            "Epoch 68/500\n",
            "34/34 [==============================] - 0s 2ms/step - loss: 6116.2871 - mae: 6116.2871\n",
            "Epoch 69/500\n",
            "34/34 [==============================] - 0s 2ms/step - loss: 6098.2349 - mae: 6098.2349\n",
            "Epoch 70/500\n",
            "34/34 [==============================] - 0s 2ms/step - loss: 6077.1958 - mae: 6077.1958\n",
            "Epoch 71/500\n",
            "34/34 [==============================] - 0s 2ms/step - loss: 6056.5625 - mae: 6056.5625\n",
            "Epoch 72/500\n",
            "34/34 [==============================] - 0s 2ms/step - loss: 6034.8535 - mae: 6034.8535\n",
            "Epoch 73/500\n",
            "34/34 [==============================] - 0s 2ms/step - loss: 6021.1465 - mae: 6021.1465\n",
            "Epoch 74/500\n",
            "34/34 [==============================] - 0s 2ms/step - loss: 5990.6948 - mae: 5990.6948\n",
            "Epoch 75/500\n",
            "34/34 [==============================] - 0s 2ms/step - loss: 5967.9189 - mae: 5967.9189\n",
            "Epoch 76/500\n",
            "34/34 [==============================] - 0s 2ms/step - loss: 5952.0781 - mae: 5952.0781\n",
            "Epoch 77/500\n",
            "34/34 [==============================] - 0s 2ms/step - loss: 5919.2832 - mae: 5919.2832\n",
            "Epoch 78/500\n",
            "34/34 [==============================] - 0s 2ms/step - loss: 5893.4556 - mae: 5893.4556\n",
            "Epoch 79/500\n",
            "34/34 [==============================] - 0s 2ms/step - loss: 5867.4321 - mae: 5867.4321\n",
            "Epoch 80/500\n",
            "34/34 [==============================] - 0s 2ms/step - loss: 5837.5317 - mae: 5837.5317\n",
            "Epoch 81/500\n",
            "34/34 [==============================] - 0s 2ms/step - loss: 5810.7544 - mae: 5810.7544\n",
            "Epoch 82/500\n",
            "34/34 [==============================] - 0s 2ms/step - loss: 5779.1035 - mae: 5779.1035\n",
            "Epoch 83/500\n",
            "34/34 [==============================] - 0s 2ms/step - loss: 5749.6104 - mae: 5749.6104\n",
            "Epoch 84/500\n",
            "34/34 [==============================] - 0s 2ms/step - loss: 5713.4316 - mae: 5713.4316\n",
            "Epoch 85/500\n",
            "34/34 [==============================] - 0s 2ms/step - loss: 5685.0864 - mae: 5685.0864\n",
            "Epoch 86/500\n",
            "34/34 [==============================] - 0s 2ms/step - loss: 5649.1748 - mae: 5649.1748\n",
            "Epoch 87/500\n",
            "34/34 [==============================] - 0s 2ms/step - loss: 5609.9746 - mae: 5609.9746\n",
            "Epoch 88/500\n",
            "34/34 [==============================] - 0s 2ms/step - loss: 5571.2588 - mae: 5571.2588\n",
            "Epoch 89/500\n",
            "34/34 [==============================] - 0s 2ms/step - loss: 5530.4326 - mae: 5530.4326\n",
            "Epoch 90/500\n",
            "34/34 [==============================] - 0s 2ms/step - loss: 5484.7207 - mae: 5484.7207\n",
            "Epoch 91/500\n",
            "34/34 [==============================] - 0s 2ms/step - loss: 5445.0093 - mae: 5445.0093\n",
            "Epoch 92/500\n",
            "34/34 [==============================] - 0s 2ms/step - loss: 5393.8340 - mae: 5393.8340\n",
            "Epoch 93/500\n",
            "34/34 [==============================] - 0s 2ms/step - loss: 5347.5229 - mae: 5347.5229\n",
            "Epoch 94/500\n",
            "34/34 [==============================] - 0s 2ms/step - loss: 5296.6489 - mae: 5296.6489\n",
            "Epoch 95/500\n",
            "34/34 [==============================] - 0s 2ms/step - loss: 5242.8096 - mae: 5242.8096\n",
            "Epoch 96/500\n",
            "34/34 [==============================] - 0s 2ms/step - loss: 5194.4595 - mae: 5194.4595\n",
            "Epoch 97/500\n",
            "34/34 [==============================] - 0s 2ms/step - loss: 5135.9922 - mae: 5135.9922\n",
            "Epoch 98/500\n",
            "34/34 [==============================] - 0s 2ms/step - loss: 5069.3804 - mae: 5069.3804\n",
            "Epoch 99/500\n",
            "34/34 [==============================] - 0s 2ms/step - loss: 5006.5469 - mae: 5006.5469\n",
            "Epoch 100/500\n",
            "34/34 [==============================] - 0s 2ms/step - loss: 4948.9629 - mae: 4948.9629\n",
            "Epoch 101/500\n",
            "34/34 [==============================] - 0s 4ms/step - loss: 4871.1084 - mae: 4871.1084\n",
            "Epoch 102/500\n",
            "34/34 [==============================] - 0s 4ms/step - loss: 4794.2275 - mae: 4794.2275\n",
            "Epoch 103/500\n",
            "34/34 [==============================] - 0s 3ms/step - loss: 4722.0293 - mae: 4722.0293\n",
            "Epoch 104/500\n",
            "34/34 [==============================] - 0s 4ms/step - loss: 4637.9814 - mae: 4637.9814\n",
            "Epoch 105/500\n",
            "34/34 [==============================] - 0s 4ms/step - loss: 4547.4893 - mae: 4547.4893\n",
            "Epoch 106/500\n",
            "34/34 [==============================] - 0s 3ms/step - loss: 4463.8457 - mae: 4463.8457\n",
            "Epoch 107/500\n",
            "34/34 [==============================] - 0s 3ms/step - loss: 4381.4897 - mae: 4381.4897\n",
            "Epoch 108/500\n",
            "34/34 [==============================] - 0s 4ms/step - loss: 4296.8223 - mae: 4296.8223\n",
            "Epoch 109/500\n",
            "34/34 [==============================] - 0s 3ms/step - loss: 4213.4165 - mae: 4213.4165\n",
            "Epoch 110/500\n",
            "34/34 [==============================] - 0s 9ms/step - loss: 4136.1167 - mae: 4136.1167\n",
            "Epoch 111/500\n",
            "34/34 [==============================] - 0s 7ms/step - loss: 4068.0664 - mae: 4068.0664\n",
            "Epoch 112/500\n",
            "34/34 [==============================] - 0s 7ms/step - loss: 4010.8655 - mae: 4010.8655\n",
            "Epoch 113/500\n",
            "34/34 [==============================] - 0s 7ms/step - loss: 3960.6589 - mae: 3960.6589\n",
            "Epoch 114/500\n",
            "34/34 [==============================] - 0s 2ms/step - loss: 3939.8850 - mae: 3939.8850\n",
            "Epoch 115/500\n",
            "34/34 [==============================] - 0s 2ms/step - loss: 3894.8350 - mae: 3894.8350\n",
            "Epoch 116/500\n",
            "34/34 [==============================] - 0s 2ms/step - loss: 3886.5791 - mae: 3886.5791\n",
            "Epoch 117/500\n",
            "34/34 [==============================] - 0s 2ms/step - loss: 3868.1404 - mae: 3868.1404\n",
            "Epoch 118/500\n",
            "34/34 [==============================] - 0s 2ms/step - loss: 3851.8105 - mae: 3851.8105\n",
            "Epoch 119/500\n",
            "34/34 [==============================] - 0s 2ms/step - loss: 3836.4360 - mae: 3836.4360\n",
            "Epoch 120/500\n",
            "34/34 [==============================] - 0s 2ms/step - loss: 3823.3525 - mae: 3823.3525\n",
            "Epoch 121/500\n",
            "34/34 [==============================] - 0s 3ms/step - loss: 3815.8904 - mae: 3815.8904\n",
            "Epoch 122/500\n",
            "34/34 [==============================] - 0s 2ms/step - loss: 3809.1738 - mae: 3809.1738\n",
            "Epoch 123/500\n",
            "34/34 [==============================] - 0s 2ms/step - loss: 3803.9883 - mae: 3803.9883\n",
            "Epoch 124/500\n",
            "34/34 [==============================] - 0s 2ms/step - loss: 3798.1826 - mae: 3798.1826\n",
            "Epoch 125/500\n",
            "34/34 [==============================] - 0s 2ms/step - loss: 3788.2246 - mae: 3788.2246\n",
            "Epoch 126/500\n",
            "34/34 [==============================] - 0s 2ms/step - loss: 3797.7800 - mae: 3797.7800\n",
            "Epoch 127/500\n",
            "34/34 [==============================] - 0s 2ms/step - loss: 3792.4202 - mae: 3792.4202\n",
            "Epoch 128/500\n",
            "34/34 [==============================] - 0s 2ms/step - loss: 3786.3594 - mae: 3786.3594\n",
            "Epoch 129/500\n",
            "34/34 [==============================] - 0s 2ms/step - loss: 3794.7283 - mae: 3794.7283\n",
            "Epoch 130/500\n",
            "34/34 [==============================] - 0s 2ms/step - loss: 3782.6912 - mae: 3782.6912\n",
            "Epoch 131/500\n",
            "34/34 [==============================] - 0s 2ms/step - loss: 3777.1641 - mae: 3777.1641\n",
            "Epoch 132/500\n",
            "34/34 [==============================] - 0s 2ms/step - loss: 3769.7666 - mae: 3769.7666\n",
            "Epoch 133/500\n",
            "34/34 [==============================] - 0s 2ms/step - loss: 3767.1729 - mae: 3767.1729\n",
            "Epoch 134/500\n",
            "34/34 [==============================] - 0s 3ms/step - loss: 3767.7996 - mae: 3767.7996\n",
            "Epoch 135/500\n",
            "34/34 [==============================] - 0s 2ms/step - loss: 3763.6355 - mae: 3763.6355\n",
            "Epoch 136/500\n",
            "34/34 [==============================] - 0s 2ms/step - loss: 3762.7275 - mae: 3762.7275\n",
            "Epoch 137/500\n",
            "34/34 [==============================] - 0s 2ms/step - loss: 3769.0852 - mae: 3769.0852\n",
            "Epoch 138/500\n",
            "34/34 [==============================] - 0s 2ms/step - loss: 3778.9050 - mae: 3778.9050\n",
            "Epoch 139/500\n",
            "34/34 [==============================] - 0s 2ms/step - loss: 3757.9260 - mae: 3757.9260\n",
            "Epoch 140/500\n",
            "34/34 [==============================] - 0s 2ms/step - loss: 3759.0854 - mae: 3759.0854\n",
            "Epoch 141/500\n",
            "34/34 [==============================] - 0s 2ms/step - loss: 3760.7693 - mae: 3760.7693\n",
            "Epoch 142/500\n",
            "34/34 [==============================] - 0s 3ms/step - loss: 3762.0244 - mae: 3762.0244\n"
          ]
        }
      ]
    },
    {
      "cell_type": "code",
      "source": [
        "pd.DataFrame(history_1.history).plot()\n",
        "plt.xlabel(\"epochs\")\n",
        "plt.ylabel(\"loss\")"
      ],
      "metadata": {
        "colab": {
          "base_uri": "https://localhost:8080/",
          "height": 467
        },
        "id": "j27PK5S7lobq",
        "outputId": "344d8b7f-c07f-4cc6-f3d5-08232991eba8"
      },
      "execution_count": null,
      "outputs": [
        {
          "output_type": "execute_result",
          "data": {
            "text/plain": [
              "Text(0, 0.5, 'loss')"
            ]
          },
          "metadata": {},
          "execution_count": 76
        },
        {
          "output_type": "display_data",
          "data": {
            "text/plain": [
              "<Figure size 640x480 with 1 Axes>"
            ],
            "image/png": "[encoded data removed]"
          },
          "metadata": {}
        }
      ]
    },
    {
      "cell_type": "markdown",
      "source": [
        "## Preprocessing Data (Normalisation and Standardisation)\n",
        "\n",
        "In terms of scalling values,neural networks tend to prefer normalisation.\n",
        "\n",
        "I you're are not sure on which to use, you could try both and see which performs better."
      ],
      "metadata": {
        "id": "I6lY3KUdmVJs"
      }
    },
    {
      "cell_type": "code",
      "source": [
        "import pandas as pd\n",
        "import matplotlib.pyplot as plt\n",
        "import tensorflow as tf\n",
        "\n",
        "# Read the insurance dataFrame\n",
        "insurance=pd.read_csv(\"https://raw.githubusercontent.com/stedy/Machine-Learning-with-R-datasets/master/insurance.csv\")"
      ],
      "metadata": {
        "id": "CEOWQ4_hpbGv"
      },
      "execution_count": null,
      "outputs": []
    },
    {
      "cell_type": "code",
      "source": [
        "insurance"
      ],
      "metadata": {
        "colab": {
          "base_uri": "https://localhost:8080/",
          "height": 423
        },
        "id": "E1hhcOcE5yS0",
        "outputId": "a1b5d8f0-92c6-4f87-d53d-45ab0f85ae25"
      },
      "execution_count": null,
      "outputs": [
        {
          "output_type": "execute_result",
          "data": {
            "text/plain": [
              "      age     sex     bmi  children smoker     region      charges\n",
              "0      19  female  27.900         0    yes  southwest  16884.92400\n",
              "1      18    male  33.770         1     no  southeast   1725.55230\n",
              "2      28    male  33.000         3     no  southeast   4449.46200\n",
              "3      33    male  22.705         0     no  northwest  21984.47061\n",
              "4      32    male  28.880         0     no  northwest   3866.85520\n",
              "...   ...     ...     ...       ...    ...        ...          ...\n",
              "1333   50    male  30.970         3     no  northwest  10600.54830\n",
              "1334   18  female  31.920         0     no  northeast   2205.98080\n",
              "1335   18  female  36.850         0     no  southeast   1629.83350\n",
              "1336   21  female  25.800         0     no  southwest   2007.94500\n",
              "1337   61  female  29.070         0    yes  northwest  29141.36030\n",
              "\n",
              "[1338 rows x 7 columns]"
            ],
            "text/html": [
              "\n",
              "  <div id=\"df-b7c2372d-abbc-4d45-bc1b-cc816f7f2966\" class=\"colab-df-container\">\n",
              "    <div>\n",
              "<style scoped>\n",
              "    .dataframe tbody tr th:only-of-type {\n",
              "        vertical-align: middle;\n",
              "    }\n",
              "\n",
              "    .dataframe tbody tr th {\n",
              "        vertical-align: top;\n",
              "    }\n",
              "\n",
              "    .dataframe thead th {\n",
              "        text-align: right;\n",
              "    }\n",
              "</style>\n",
              "<table border=\"1\" class=\"dataframe\">\n",
              "  <thead>\n",
              "    <tr style=\"text-align: right;\">\n",
              "      <th></th>\n",
              "      <th>age</th>\n",
              "      <th>sex</th>\n",
              "      <th>bmi</th>\n",
              "      <th>children</th>\n",
              "      <th>smoker</th>\n",
              "      <th>region</th>\n",
              "      <th>charges</th>\n",
              "    </tr>\n",
              "  </thead>\n",
              "  <tbody>\n",
              "    <tr>\n",
              "      <th>0</th>\n",
              "      <td>19</td>\n",
              "      <td>female</td>\n",
              "      <td>27.900</td>\n",
              "      <td>0</td>\n",
              "      <td>yes</td>\n",
              "      <td>southwest</td>\n",
              "      <td>16884.92400</td>\n",
              "    </tr>\n",
              "    <tr>\n",
              "      <th>1</th>\n",
              "      <td>18</td>\n",
              "      <td>male</td>\n",
              "      <td>33.770</td>\n",
              "      <td>1</td>\n",
              "      <td>no</td>\n",
              "      <td>southeast</td>\n",
              "      <td>1725.55230</td>\n",
              "    </tr>\n",
              "    <tr>\n",
              "      <th>2</th>\n",
              "      <td>28</td>\n",
              "      <td>male</td>\n",
              "      <td>33.000</td>\n",
              "      <td>3</td>\n",
              "      <td>no</td>\n",
              "      <td>southeast</td>\n",
              "      <td>4449.46200</td>\n",
              "    </tr>\n",
              "    <tr>\n",
              "      <th>3</th>\n",
              "      <td>33</td>\n",
              "      <td>male</td>\n",
              "      <td>22.705</td>\n",
              "      <td>0</td>\n",
              "      <td>no</td>\n",
              "      <td>northwest</td>\n",
              "      <td>21984.47061</td>\n",
              "    </tr>\n",
              "    <tr>\n",
              "      <th>4</th>\n",
              "      <td>32</td>\n",
              "      <td>male</td>\n",
              "      <td>28.880</td>\n",
              "      <td>0</td>\n",
              "      <td>no</td>\n",
              "      <td>northwest</td>\n",
              "      <td>3866.85520</td>\n",
              "    </tr>\n",
              "    <tr>\n",
              "      <th>...</th>\n",
              "      <td>...</td>\n",
              "      <td>...</td>\n",
              "      <td>...</td>\n",
              "      <td>...</td>\n",
              "      <td>...</td>\n",
              "      <td>...</td>\n",
              "      <td>...</td>\n",
              "    </tr>\n",
              "    <tr>\n",
              "      <th>1333</th>\n",
              "      <td>50</td>\n",
              "      <td>male</td>\n",
              "      <td>30.970</td>\n",
              "      <td>3</td>\n",
              "      <td>no</td>\n",
              "      <td>northwest</td>\n",
              "      <td>10600.54830</td>\n",
              "    </tr>\n",
              "    <tr>\n",
              "      <th>1334</th>\n",
              "      <td>18</td>\n",
              "      <td>female</td>\n",
              "      <td>31.920</td>\n",
              "      <td>0</td>\n",
              "      <td>no</td>\n",
              "      <td>northeast</td>\n",
              "      <td>2205.98080</td>\n",
              "    </tr>\n",
              "    <tr>\n",
              "      <th>1335</th>\n",
              "      <td>18</td>\n",
              "      <td>female</td>\n",
              "      <td>36.850</td>\n",
              "      <td>0</td>\n",
              "      <td>no</td>\n",
              "      <td>southeast</td>\n",
              "      <td>1629.83350</td>\n",
              "    </tr>\n",
              "    <tr>\n",
              "      <th>1336</th>\n",
              "      <td>21</td>\n",
              "      <td>female</td>\n",
              "      <td>25.800</td>\n",
              "      <td>0</td>\n",
              "      <td>no</td>\n",
              "      <td>southwest</td>\n",
              "      <td>2007.94500</td>\n",
              "    </tr>\n",
              "    <tr>\n",
              "      <th>1337</th>\n",
              "      <td>61</td>\n",
              "      <td>female</td>\n",
              "      <td>29.070</td>\n",
              "      <td>0</td>\n",
              "      <td>yes</td>\n",
              "      <td>northwest</td>\n",
              "      <td>29141.36030</td>\n",
              "    </tr>\n",
              "  </tbody>\n",
              "</table>\n",
              "<p>1338 rows × 7 columns</p>\n",
              "</div>\n",
              "    <div class=\"colab-df-buttons\">\n",
              "\n",
              "  <div class=\"colab-df-container\">\n",
              "    <button class=\"colab-df-convert\" onclick=\"convertToInteractive('df-b7c2372d-abbc-4d45-bc1b-cc816f7f2966')\"\n",
              "            title=\"Convert this dataframe to an interactive table.\"\n",
              "            style=\"display:none;\">\n",
              "\n",
              "  <svg xmlns=\"http://www.w3.org/2000/svg\" height=\"24px\" viewBox=\"0 -960 960 960\">\n",
              "    <path d=\"M120-120v-720h720v720H120Zm60-500h600v-160H180v160Zm220 220h160v-160H400v160Zm0 220h160v-160H400v160ZM180-400h160v-160H180v160Zm440 0h160v-160H620v160ZM180-180h160v-160H180v160Zm440 0h160v-160H620v160Z\"/>\n",
              "  </svg>\n",
              "    </button>\n",
              "\n",
              "  <style>\n",
              "    .colab-df-container {\n",
              "      display:flex;\n",
              "      gap: 12px;\n",
              "    }\n",
              "\n",
              "    .colab-df-convert {\n",
              "      background-color: #E8F0FE;\n",
              "      border: none;\n",
              "      border-radius: 50%;\n",
              "      cursor: pointer;\n",
              "      display: none;\n",
              "      fill: #1967D2;\n",
              "      height: 32px;\n",
              "      padding: 0 0 0 0;\n",
              "      width: 32px;\n",
              "    }\n",
              "\n",
              "    .colab-df-convert:hover {\n",
              "      background-color: #E2EBFA;\n",
              "      box-shadow: 0px 1px 2px rgba(60, 64, 67, 0.3), 0px 1px 3px 1px rgba(60, 64, 67, 0.15);\n",
              "      fill: #174EA6;\n",
              "    }\n",
              "\n",
              "    .colab-df-buttons div {\n",
              "      margin-bottom: 4px;\n",
              "    }\n",
              "\n",
              "    [theme=dark] .colab-df-convert {\n",
              "      background-color: #3B4455;\n",
              "      fill: #D2E3FC;\n",
              "    }\n",
              "\n",
              "    [theme=dark] .colab-df-convert:hover {\n",
              "      background-color: #434B5C;\n",
              "      box-shadow: 0px 1px 3px 1px rgba(0, 0, 0, 0.15);\n",
              "      filter: drop-shadow(0px 1px 2px rgba(0, 0, 0, 0.3));\n",
              "      fill: #FFFFFF;\n",
              "    }\n",
              "  </style>\n",
              "\n",
              "    <script>\n",
              "      const buttonEl =\n",
              "        document.querySelector('#df-b7c2372d-abbc-4d45-bc1b-cc816f7f2966 button.colab-df-convert');\n",
              "      buttonEl.style.display =\n",
              "        google.colab.kernel.accessAllowed ? 'block' : 'none';\n",
              "\n",
              "      async function convertToInteractive(key) {\n",
              "        const element = document.querySelector('#df-b7c2372d-abbc-4d45-bc1b-cc816f7f2966');\n",
              "        const dataTable =\n",
              "          await google.colab.kernel.invokeFunction('convertToInteractive',\n",
              "                                                    [key], {});\n",
              "        if (!dataTable) return;\n",
              "\n",
              "        const docLinkHtml = 'Like what you see? Visit the ' +\n",
              "          '<a target=\"_blank\" href=https://colab.research.google.com/notebooks/data_table.ipynb>data table notebook</a>'\n",
              "          + ' to learn more about interactive tables.';\n",
              "        element.innerHTML = '';\n",
              "        dataTable['output_type'] = 'display_data';\n",
              "        await google.colab.output.renderOutput(dataTable, element);\n",
              "        const docLink = document.createElement('div');\n",
              "        docLink.innerHTML = docLinkHtml;\n",
              "        element.appendChild(docLink);\n",
              "      }\n",
              "    </script>\n",
              "  </div>\n",
              "\n",
              "\n",
              "<div id=\"df-3555f1df-2dee-41ab-b75e-9dda7db14404\">\n",
              "  <button class=\"colab-df-quickchart\" onclick=\"quickchart('df-3555f1df-2dee-41ab-b75e-9dda7db14404')\"\n",
              "            title=\"Suggest charts.\"\n",
              "            style=\"display:none;\">\n",
              "\n",
              "<svg xmlns=\"http://www.w3.org/2000/svg\" height=\"24px\"viewBox=\"0 0 24 24\"\n",
              "     width=\"24px\">\n",
              "    <g>\n",
              "        <path d=\"M19 3H5c-1.1 0-2 .9-2 2v14c0 1.1.9 2 2 2h14c1.1 0 2-.9 2-2V5c0-1.1-.9-2-2-2zM9 17H7v-7h2v7zm4 0h-2V7h2v10zm4 0h-2v-4h2v4z\"/>\n",
              "    </g>\n",
              "</svg>\n",
              "  </button>\n",
              "\n",
              "<style>\n",
              "  .colab-df-quickchart {\n",
              "      --bg-color: #E8F0FE;\n",
              "      --fill-color: #1967D2;\n",
              "      --hover-bg-color: #E2EBFA;\n",
              "      --hover-fill-color: #174EA6;\n",
              "      --disabled-fill-color: #AAA;\n",
              "      --disabled-bg-color: #DDD;\n",
              "  }\n",
              "\n",
              "  [theme=dark] .colab-df-quickchart {\n",
              "      --bg-color: #3B4455;\n",
              "      --fill-color: #D2E3FC;\n",
              "      --hover-bg-color: #434B5C;\n",
              "      --hover-fill-color: #FFFFFF;\n",
              "      --disabled-bg-color: #3B4455;\n",
              "      --disabled-fill-color: #666;\n",
              "  }\n",
              "\n",
              "  .colab-df-quickchart {\n",
              "    background-color: var(--bg-color);\n",
              "    border: none;\n",
              "    border-radius: 50%;\n",
              "    cursor: pointer;\n",
              "    display: none;\n",
              "    fill: var(--fill-color);\n",
              "    height: 32px;\n",
              "    padding: 0;\n",
              "    width: 32px;\n",
              "  }\n",
              "\n",
              "  .colab-df-quickchart:hover {\n",
              "    background-color: var(--hover-bg-color);\n",
              "    box-shadow: 0 1px 2px rgba(60, 64, 67, 0.3), 0 1px 3px 1px rgba(60, 64, 67, 0.15);\n",
              "    fill: var(--button-hover-fill-color);\n",
              "  }\n",
              "\n",
              "  .colab-df-quickchart-complete:disabled,\n",
              "  .colab-df-quickchart-complete:disabled:hover {\n",
              "    background-color: var(--disabled-bg-color);\n",
              "    fill: var(--disabled-fill-color);\n",
              "    box-shadow: none;\n",
              "  }\n",
              "\n",
              "  .colab-df-spinner {\n",
              "    border: 2px solid var(--fill-color);\n",
              "    border-color: transparent;\n",
              "    border-bottom-color: var(--fill-color);\n",
              "    animation:\n",
              "      spin 1s steps(1) infinite;\n",
              "  }\n",
              "\n",
              "  @keyframes spin {\n",
              "    0% {\n",
              "      border-color: transparent;\n",
              "      border-bottom-color: var(--fill-color);\n",
              "      border-left-color: var(--fill-color);\n",
              "    }\n",
              "    20% {\n",
              "      border-color: transparent;\n",
              "      border-left-color: var(--fill-color);\n",
              "      border-top-color: var(--fill-color);\n",
              "    }\n",
              "    30% {\n",
              "      border-color: transparent;\n",
              "      border-left-color: var(--fill-color);\n",
              "      border-top-color: var(--fill-color);\n",
              "      border-right-color: var(--fill-color);\n",
              "    }\n",
              "    40% {\n",
              "      border-color: transparent;\n",
              "      border-right-color: var(--fill-color);\n",
              "      border-top-color: var(--fill-color);\n",
              "    }\n",
              "    60% {\n",
              "      border-color: transparent;\n",
              "      border-right-color: var(--fill-color);\n",
              "    }\n",
              "    80% {\n",
              "      border-color: transparent;\n",
              "      border-right-color: var(--fill-color);\n",
              "      border-bottom-color: var(--fill-color);\n",
              "    }\n",
              "    90% {\n",
              "      border-color: transparent;\n",
              "      border-bottom-color: var(--fill-color);\n",
              "    }\n",
              "  }\n",
              "</style>\n",
              "\n",
              "  <script>\n",
              "    async function quickchart(key) {\n",
              "      const quickchartButtonEl =\n",
              "        document.querySelector('#' + key + ' button');\n",
              "      quickchartButtonEl.disabled = true;  // To prevent multiple clicks.\n",
              "      quickchartButtonEl.classList.add('colab-df-spinner');\n",
              "      try {\n",
              "        const charts = await google.colab.kernel.invokeFunction(\n",
              "            'suggestCharts', [key], {});\n",
              "      } catch (error) {\n",
              "        console.error('Error during call to suggestCharts:', error);\n",
              "      }\n",
              "      quickchartButtonEl.classList.remove('colab-df-spinner');\n",
              "      quickchartButtonEl.classList.add('colab-df-quickchart-complete');\n",
              "    }\n",
              "    (() => {\n",
              "      let quickchartButtonEl =\n",
              "        document.querySelector('#df-3555f1df-2dee-41ab-b75e-9dda7db14404 button');\n",
              "      quickchartButtonEl.style.display =\n",
              "        google.colab.kernel.accessAllowed ? 'block' : 'none';\n",
              "    })();\n",
              "  </script>\n",
              "</div>\n",
              "    </div>\n",
              "  </div>\n"
            ]
          },
          "metadata": {},
          "execution_count": 79
        }
      ]
    },
    {
      "cell_type": "code",
      "source": [
        "X[\"children\"].value_counts().hist()"
      ],
      "metadata": {
        "colab": {
          "base_uri": "https://localhost:8080/",
          "height": 448
        },
        "id": "QSDjXlKN7LSz",
        "outputId": "401e9ceb-e4f1-40d1-9f29-ed29397d453b"
      },
      "execution_count": null,
      "outputs": [
        {
          "output_type": "execute_result",
          "data": {
            "text/plain": [
              "<Axes: >"
            ]
          },
          "metadata": {},
          "execution_count": 78
        },
        {
          "output_type": "display_data",
          "data": {
            "text/plain": [
              "<Figure size 640x480 with 1 Axes>"
            ],
            "image/png": "[encoded data removed]"
          },
          "metadata": {}
        }
      ]
    },
    {
      "cell_type": "markdown",
      "source": [
        "## 8 Sept 2023"
      ],
      "metadata": {
        "id": "viru1XuE7Xix"
      }
    },
    {
      "cell_type": "markdown",
      "source": [
        "To prepare our data,we can borrow a few classes from scikit-learn."
      ],
      "metadata": {
        "id": "gL0cRxn0EaR7"
      }
    },
    {
      "cell_type": "code",
      "source": [
        "from sklearn.compose import make_column_transformer\n",
        "from sklearn.preprocessing import MinMaxScaler, OneHotEncoder\n",
        "from sklearn.model_selection import train_test_split\n",
        "\n",
        "\n",
        "#Create a column transformer\n",
        "ct=make_column_transformer(\n",
        "    (MinMaxScaler(),[\"age\",\"bmi\",\"children\"]),#Turn all values in these columns between 0 and 1\n",
        "    (OneHotEncoder(handle_unknown=\"ignore\"),[\"sex\",\"smoker\",\"region\"])\n",
        ")\n",
        "\n",
        "# Create X and y\n",
        "X=insurance.drop(\"charges\",axis=1)\n",
        "y=insurance[\"charges\"]\n",
        "\n",
        "# Build  our train and test sets\n",
        "X_train,X_test,y_train,y_test=train_test_split(X,y,test_size=0.2,random_state=42)\n",
        "\n",
        "# Fit the column transformer to our training data\n",
        "ct.fit(X_train)\n",
        "\n",
        "#Transform training and test data with normalisation (MinMaxScaler) and (OneHotEncoder)\n",
        "X_train_normal=ct.transform(X_train)\n",
        "X_test_normal=ct.transform(X_test)"
      ],
      "metadata": {
        "id": "WfjRgx6FB5aN"
      },
      "execution_count": null,
      "outputs": []
    },
    {
      "cell_type": "code",
      "source": [
        "#What does our date look like now?\n",
        "X_train_normal"
      ],
      "metadata": {
        "colab": {
          "base_uri": "https://localhost:8080/"
        },
        "id": "ja7JxtIqF2z3",
        "outputId": "ef834881-1dee-41e7-9432-2f976fcb6f75"
      },
      "execution_count": null,
      "outputs": [
        {
          "output_type": "execute_result",
          "data": {
            "text/plain": [
              "array([[0.60869565, 0.10734463, 0.4       , ..., 1.        , 0.        ,\n",
              "        0.        ],\n",
              "       [0.63043478, 0.22491256, 0.        , ..., 0.        , 0.        ,\n",
              "        0.        ],\n",
              "       [0.73913043, 0.23944041, 0.        , ..., 0.        , 1.        ,\n",
              "        0.        ],\n",
              "       ...,\n",
              "       [0.86956522, 0.24791499, 0.        , ..., 0.        , 0.        ,\n",
              "        0.        ],\n",
              "       [0.41304348, 0.85122411, 0.4       , ..., 0.        , 0.        ,\n",
              "        1.        ],\n",
              "       [0.80434783, 0.37503363, 0.        , ..., 0.        , 0.        ,\n",
              "        1.        ]])"
            ]
          },
          "metadata": {},
          "execution_count": 88
        }
      ]
    },
    {
      "cell_type": "code",
      "source": [
        "X_train.shape"
      ],
      "metadata": {
        "colab": {
          "base_uri": "https://localhost:8080/"
        },
        "id": "zdYR-LWEKzmj",
        "outputId": "963828ec-a1fe-40a1-bab9-55e1c1d125f8"
      },
      "execution_count": null,
      "outputs": [
        {
          "output_type": "execute_result",
          "data": {
            "text/plain": [
              "(1070, 6)"
            ]
          },
          "metadata": {},
          "execution_count": 89
        }
      ]
    },
    {
      "cell_type": "code",
      "source": [
        "X_train_normal.shape"
      ],
      "metadata": {
        "colab": {
          "base_uri": "https://localhost:8080/"
        },
        "id": "rBTxMlXBLZAI",
        "outputId": "871cc9bc-b38d-4e9e-a9c6-5c035f3635ea"
      },
      "execution_count": null,
      "outputs": [
        {
          "output_type": "execute_result",
          "data": {
            "text/plain": [
              "(1070, 11)"
            ]
          },
          "metadata": {},
          "execution_count": 90
        }
      ]
    },
    {
      "cell_type": "code",
      "source": [
        "X_test_normal"
      ],
      "metadata": {
        "colab": {
          "base_uri": "https://localhost:8080/"
        },
        "id": "JjF0ljUjLbtZ",
        "outputId": "e17ec507-0431-45c9-ee39-709e227a5a81"
      },
      "execution_count": null,
      "outputs": [
        {
          "output_type": "execute_result",
          "data": {
            "text/plain": [
              "array([[0.58695652, 0.24791499, 0.4       , ..., 0.        , 0.        ,\n",
              "        0.        ],\n",
              "       [0.39130435, 0.37826204, 0.        , ..., 1.        , 0.        ,\n",
              "        0.        ],\n",
              "       [1.        , 0.29391983, 0.        , ..., 1.        , 0.        ,\n",
              "        0.        ],\n",
              "       ...,\n",
              "       [0.43478261, 0.32458972, 0.2       , ..., 0.        , 0.        ,\n",
              "        0.        ],\n",
              "       [0.7826087 , 0.84611246, 0.        , ..., 0.        , 1.        ,\n",
              "        0.        ],\n",
              "       [0.7173913 , 0.49071832, 0.2       , ..., 0.        , 0.        ,\n",
              "        1.        ]])"
            ]
          },
          "metadata": {},
          "execution_count": 92
        }
      ]
    },
    {
      "cell_type": "markdown",
      "source": [
        "Beautiful! Our data has been been normalised and one hot encoded.\n",
        "Now let's build a neural networks model on it and see how it goes."
      ],
      "metadata": {
        "id": "Roi4MQoLLomT"
      }
    },
    {
      "cell_type": "code",
      "source": [
        "from tensorflow.keras.callbacks import EarlyStopping"
      ],
      "metadata": {
        "id": "18PSwZj1PvE_"
      },
      "execution_count": null,
      "outputs": []
    },
    {
      "cell_type": "code",
      "source": [
        "#Build a neural networks to fit on our normalised data\n",
        "tf.random.set_seed(42)\n",
        "\n",
        "# 1.Create a model\n",
        "insurance_model_normal=tf.keras.Sequential(\n",
        "    [\n",
        "       tf.keras.layers.Dense(100,activation=\"relu\"),\n",
        "        tf.keras.layers.Dense(10,activation=\"relu\"),\n",
        "        tf.keras.layers.Dense(1)\n",
        "    ]\n",
        ")\n",
        "\n",
        "# 2.Compile a model\n",
        "insurance_model_normal.compile(loss=tf.keras.losses.mae,\n",
        "                               optimizer=tf.keras.optimizers.Adam(learning_rate=0.1),\n",
        "                               metrics=[\"mae\"])\n",
        "\n",
        "# 3. Fir a model\n",
        "history=insurance_model_normal.fit(X_train_normal,y_train,batch_size=100,epochs=500,callbacks=[EarlyStopping(monitor=\"loss\",patience=5,restore_best_weights=True)])"
      ],
      "metadata": {
        "colab": {
          "base_uri": "https://localhost:8080/"
        },
        "id": "Z7ouk3FOMLUQ",
        "outputId": "81b6be00-cc24-44b2-84ab-4cc6a3c7fb37"
      },
      "execution_count": null,
      "outputs": [
        {
          "output_type": "stream",
          "name": "stdout",
          "text": [
            "Epoch 1/500\n",
            "11/11 [==============================] - 1s 5ms/step - loss: 12544.9531 - mae: 12544.9531\n",
            "Epoch 2/500\n",
            "11/11 [==============================] - 0s 4ms/step - loss: 8280.7012 - mae: 8280.7012\n",
            "Epoch 3/500\n",
            "11/11 [==============================] - 0s 4ms/step - loss: 7480.7290 - mae: 7480.7290\n",
            "Epoch 4/500\n",
            "11/11 [==============================] - 0s 4ms/step - loss: 6046.6777 - mae: 6046.6777\n",
            "Epoch 5/500\n",
            "11/11 [==============================] - 0s 4ms/step - loss: 4205.0244 - mae: 4205.0244\n",
            "Epoch 6/500\n",
            "11/11 [==============================] - 0s 5ms/step - loss: 3576.2339 - mae: 3576.2339\n",
            "Epoch 7/500\n",
            "11/11 [==============================] - 0s 5ms/step - loss: 3496.0374 - mae: 3496.0374\n",
            "Epoch 8/500\n",
            "11/11 [==============================] - 0s 4ms/step - loss: 3331.1072 - mae: 3331.1072\n",
            "Epoch 9/500\n",
            "11/11 [==============================] - 0s 4ms/step - loss: 3279.1799 - mae: 3279.1799\n",
            "Epoch 10/500\n",
            "11/11 [==============================] - 0s 4ms/step - loss: 3242.0122 - mae: 3242.0122\n",
            "Epoch 11/500\n",
            "11/11 [==============================] - 0s 4ms/step - loss: 3208.7085 - mae: 3208.7085\n",
            "Epoch 12/500\n",
            "11/11 [==============================] - 0s 5ms/step - loss: 3161.5012 - mae: 3161.5012\n",
            "Epoch 13/500\n",
            "11/11 [==============================] - 0s 5ms/step - loss: 3125.5129 - mae: 3125.5127\n",
            "Epoch 14/500\n",
            "11/11 [==============================] - 0s 4ms/step - loss: 3047.8794 - mae: 3047.8794\n",
            "Epoch 15/500\n",
            "11/11 [==============================] - 0s 7ms/step - loss: 3003.5364 - mae: 3003.5364\n",
            "Epoch 16/500\n",
            "11/11 [==============================] - 0s 4ms/step - loss: 2958.4585 - mae: 2958.4585\n",
            "Epoch 17/500\n",
            "11/11 [==============================] - 0s 5ms/step - loss: 2998.0745 - mae: 2998.0745\n",
            "Epoch 18/500\n",
            "11/11 [==============================] - 0s 4ms/step - loss: 2900.4338 - mae: 2900.4338\n",
            "Epoch 19/500\n",
            "11/11 [==============================] - 0s 4ms/step - loss: 2872.5732 - mae: 2872.5732\n",
            "Epoch 20/500\n",
            "11/11 [==============================] - 0s 4ms/step - loss: 2780.4810 - mae: 2780.4810\n",
            "Epoch 21/500\n",
            "11/11 [==============================] - 0s 4ms/step - loss: 2660.1926 - mae: 2660.1926\n",
            "Epoch 22/500\n",
            "11/11 [==============================] - 0s 4ms/step - loss: 2577.5439 - mae: 2577.5439\n",
            "Epoch 23/500\n",
            "11/11 [==============================] - 0s 4ms/step - loss: 2499.8569 - mae: 2499.8569\n",
            "Epoch 24/500\n",
            "11/11 [==============================] - 0s 5ms/step - loss: 2405.9714 - mae: 2405.9714\n",
            "Epoch 25/500\n",
            "11/11 [==============================] - 0s 4ms/step - loss: 2341.9878 - mae: 2341.9878\n",
            "Epoch 26/500\n",
            "11/11 [==============================] - 0s 4ms/step - loss: 2348.3940 - mae: 2348.3940\n",
            "Epoch 27/500\n",
            "11/11 [==============================] - 0s 4ms/step - loss: 2282.4653 - mae: 2282.4653\n",
            "Epoch 28/500\n",
            "11/11 [==============================] - 0s 4ms/step - loss: 2302.1165 - mae: 2302.1165\n",
            "Epoch 29/500\n",
            "11/11 [==============================] - 0s 3ms/step - loss: 2248.0081 - mae: 2248.0081\n",
            "Epoch 30/500\n",
            "11/11 [==============================] - 0s 4ms/step - loss: 2151.2390 - mae: 2151.2390\n",
            "Epoch 31/500\n",
            "11/11 [==============================] - 0s 4ms/step - loss: 2152.7429 - mae: 2152.7429\n",
            "Epoch 32/500\n",
            "11/11 [==============================] - 0s 4ms/step - loss: 2168.3794 - mae: 2168.3796\n",
            "Epoch 33/500\n",
            "11/11 [==============================] - 0s 5ms/step - loss: 2151.1772 - mae: 2151.1772\n",
            "Epoch 34/500\n",
            "11/11 [==============================] - 0s 5ms/step - loss: 2078.2976 - mae: 2078.2976\n",
            "Epoch 35/500\n",
            "11/11 [==============================] - 0s 5ms/step - loss: 2113.3018 - mae: 2113.3018\n",
            "Epoch 36/500\n",
            "11/11 [==============================] - 0s 4ms/step - loss: 2068.3005 - mae: 2068.3005\n",
            "Epoch 37/500\n",
            "11/11 [==============================] - 0s 4ms/step - loss: 2090.2961 - mae: 2090.2961\n",
            "Epoch 38/500\n",
            "11/11 [==============================] - 0s 5ms/step - loss: 2174.5850 - mae: 2174.5850\n",
            "Epoch 39/500\n",
            "11/11 [==============================] - 0s 5ms/step - loss: 2141.4700 - mae: 2141.4700\n",
            "Epoch 40/500\n",
            "11/11 [==============================] - 0s 4ms/step - loss: 2120.7070 - mae: 2120.7070\n",
            "Epoch 41/500\n",
            "11/11 [==============================] - 0s 5ms/step - loss: 2128.9692 - mae: 2128.9692\n"
          ]
        }
      ]
    },
    {
      "cell_type": "code",
      "source": [
        "pd.DataFrame(history.history).plot()"
      ],
      "metadata": {
        "colab": {
          "base_uri": "https://localhost:8080/",
          "height": 448
        },
        "id": "lCnZCqI6NKU9",
        "outputId": "6b4990cc-8a1c-4d0b-f4ca-f76e6486f925"
      },
      "execution_count": null,
      "outputs": [
        {
          "output_type": "execute_result",
          "data": {
            "text/plain": [
              "<Axes: >"
            ]
          },
          "metadata": {},
          "execution_count": 121
        },
        {
          "output_type": "display_data",
          "data": {
            "text/plain": [
              "<Figure size 640x480 with 1 Axes>"
            ],
            "image/png": "[encoded data removed]"
          },
          "metadata": {}
        }
      ]
    },
    {
      "cell_type": "code",
      "source": [
        "#Evaluate our insurance_model trained on normalised data\n",
        "insurance_model_normal.evaluate(X_test_normal,y_test)"
      ],
      "metadata": {
        "colab": {
          "base_uri": "https://localhost:8080/"
        },
        "id": "zP_j7fb4O4gU",
        "outputId": "5846d120-f1f9-4e9e-9dda-c184a59503c1"
      },
      "execution_count": null,
      "outputs": [
        {
          "output_type": "stream",
          "name": "stdout",
          "text": [
            "9/9 [==============================] - 0s 2ms/step - loss: 1782.4895 - mae: 1782.4895\n"
          ]
        },
        {
          "output_type": "execute_result",
          "data": {
            "text/plain": [
              "[1782.489501953125, 1782.489501953125]"
            ]
          },
          "metadata": {},
          "execution_count": 122
        }
      ]
    },
    {
      "cell_type": "code",
      "source": [],
      "metadata": {
        "colab": {
          "base_uri": "https://localhost:8080/"
        },
        "id": "hzlbhCYuTuFD",
        "outputId": "a819b73b-9799-4674-b705-9beda2ac45fe"
      },
      "execution_count": null,
      "outputs": [
        {
          "output_type": "execute_result",
          "data": {
            "text/plain": [
              "(268, 6)"
            ]
          },
          "metadata": {},
          "execution_count": 126
        }
      ]
    },
    {
      "cell_type": "code",
      "source": [],
      "metadata": {
        "id": "LTmmor3KT5dy"
      },
      "execution_count": null,
      "outputs": []
    }
  ],
  "metadata": {
    "colab": {
      "provenance": [],
      "mount_file_id": "1_yqkHyWB17i_5hgZ7NAfc6VwAVROE5w-",
      "authorship_tag": "ABX9TyPRsr8iO5tp9l5MU/5lKsWd",
      "include_colab_link": true
    },
    "kernelspec": {
      "display_name": "Python 3",
      "name": "python3"
    },
    "language_info": {
      "name": "python"
    }
  },
  "nbformat": 4,
  "nbformat_minor": 0
}