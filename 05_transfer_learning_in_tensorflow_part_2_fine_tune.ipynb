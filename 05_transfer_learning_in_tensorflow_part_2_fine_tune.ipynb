{
  "cells": [
    {
      "cell_type": "markdown",
      "metadata": {
        "id": "view-in-github",
        "colab_type": "text"
      },
      "source": [
        "<a href=\"https://colab.research.google.com/github/varmatilak22/learning_tensorflow/blob/main/05_transfer_learning_in_tensorflow_part_2_fine_tune.ipynb\" target=\"_parent\"><img src=\"https://colab.research.google.com/assets/colab-badge.svg\" alt=\"Open In Colab\"/></a>"
      ]
    },
    {
      "cell_type": "markdown",
      "metadata": {
        "id": "uf9WNcFvNPka"
      },
      "source": [
        "# Transfer Learning with Tensorflow Part-2:Fint-tunning\n",
        "\n",
        "In the previous notebook,we covered transfer learning feature extraction,now its time to learn about a new kind of transfer learning:fine-tunning."
      ]
    },
    {
      "cell_type": "code",
      "execution_count": null,
      "metadata": {
        "colab": {
          "base_uri": "https://localhost:8080/"
        },
        "id": "yJO5_P17NGOj",
        "outputId": "b5d18a6a-3e5c-45a8-b9e2-9740120570d9"
      },
      "outputs": [
        {
          "name": "stdout",
          "output_type": "stream",
          "text": [
            "/bin/bash: line 1: nvidia-smi: command not found\n"
          ]
        }
      ],
      "source": [
        "#Check if we're using a GPU\n",
        "!nvidia-smi"
      ]
    },
    {
      "cell_type": "markdown",
      "metadata": {
        "id": "k5AB5f5UNwSf"
      },
      "source": [
        "## Creating Helper functions\n",
        "In previous notebook, we've created a bunch of helper functions, now we could rewrite them all,however it is tedious.\n",
        "\n",
        "So,its a good idea to put functions you'll want to see again in a script you can download and import into your notebooks(or elsewhere).\n",
        "\n",
        "We've done this for some of the functions we've used previously here:\n",
        "[Helper.py](https://raw.githubusercontent.com/mrdbourke/tensorflow-deep-learning/main/extras/helper_functions.py)"
      ]
    },
    {
      "cell_type": "code",
      "execution_count": null,
      "metadata": {
        "colab": {
          "base_uri": "https://localhost:8080/"
        },
        "id": "UBBPwr0AOG4B",
        "outputId": "23859e3b-7660-48e9-9009-95c99d1cbe2a"
      },
      "outputs": [
        {
          "name": "stdout",
          "output_type": "stream",
          "text": [
            "--2024-07-21 07:42:30--  https://raw.githubusercontent.com/mrdbourke/tensorflow-deep-learning/main/extras/helper_functions.py\n",
            "Resolving raw.githubusercontent.com (raw.githubusercontent.com)... 185.199.109.133, 185.199.108.133, 185.199.110.133, ...\n",
            "Connecting to raw.githubusercontent.com (raw.githubusercontent.com)|185.199.109.133|:443... connected.\n",
            "HTTP request sent, awaiting response... 200 OK\n",
            "Length: 10246 (10K) [text/plain]\n",
            "Saving to: ‘helper_functions.py’\n",
            "\n",
            "helper_functions.py 100%[===================>]  10.01K  --.-KB/s    in 0.001s  \n",
            "\n",
            "2024-07-21 07:42:30 (10.4 MB/s) - ‘helper_functions.py’ saved [10246/10246]\n",
            "\n"
          ]
        }
      ],
      "source": [
        "!wget https://raw.githubusercontent.com/mrdbourke/tensorflow-deep-learning/main/extras/helper_functions.py"
      ]
    },
    {
      "cell_type": "code",
      "execution_count": null,
      "metadata": {
        "id": "wU12PQriOxgF"
      },
      "outputs": [],
      "source": [
        "from helper_functions import create_tensorboard_callback,plot_loss_curves,unzip_data,walk_through_dir"
      ]
    },
    {
      "cell_type": "markdown",
      "metadata": {
        "id": "F9dX92qUQGmg"
      },
      "source": [
        "> 🔑**Notes:** If you;re encountered this notebook in google colab,when its times out colab will delete `helper_functions.py` so you'll have to downloaded it you want access to your helper function."
      ]
    },
    {
      "cell_type": "markdown",
      "metadata": {
        "id": "aF7E9uoSQEx9"
      },
      "source": [
        "## Lets gets some data\n",
        "This time we're going to see how we can use the pretrained models within `tf.keras.applications` and apply them to our own problem(recognizing images of food).\n",
        "\n",
        "[Tensorflow_Keras_Applications](https://colab.research.google.com/drive/1tYeCIEzSYXgDUht42cRKrLSxKo-3HeWb#scrollTo=aF7E9uoSQEx9)"
      ]
    },
    {
      "cell_type": "code",
      "execution_count": null,
      "metadata": {
        "colab": {
          "base_uri": "https://localhost:8080/"
        },
        "id": "Xw7qTDgVQwvh",
        "outputId": "d73ca618-7ec7-4930-9bc3-cbca17c2a68d"
      },
      "outputs": [
        {
          "name": "stdout",
          "output_type": "stream",
          "text": [
            "--2024-07-21 07:42:36--  https://storage.googleapis.com/ztm_tf_course/food_vision/10_food_classes_10_percent.zip\n",
            "Resolving storage.googleapis.com (storage.googleapis.com)... 108.177.125.207, 142.250.157.207, 142.251.8.207, ...\n",
            "Connecting to storage.googleapis.com (storage.googleapis.com)|108.177.125.207|:443... connected.\n",
            "HTTP request sent, awaiting response... 200 OK\n",
            "Length: 168546183 (161M) [application/zip]\n",
            "Saving to: ‘10_food_classes_10_percent.zip’\n",
            "\n",
            "10_food_classes_10_ 100%[===================>] 160.74M  26.7MB/s    in 7.5s    \n",
            "\n",
            "2024-07-21 07:42:44 (21.5 MB/s) - ‘10_food_classes_10_percent.zip’ saved [168546183/168546183]\n",
            "\n"
          ]
        }
      ],
      "source": [
        "#Get 10% of training data of 10 classes of Food101\n",
        "!wget https://storage.googleapis.com/ztm_tf_course/food_vision/10_food_classes_10_percent.zip"
      ]
    },
    {
      "cell_type": "code",
      "execution_count": null,
      "metadata": {
        "id": "DJLh7s1oSSHm"
      },
      "outputs": [],
      "source": [
        "unzip_data('10_food_classes_10_percent.zip')"
      ]
    },
    {
      "cell_type": "code",
      "execution_count": null,
      "metadata": {
        "colab": {
          "base_uri": "https://localhost:8080/"
        },
        "id": "absrglgGSiaW",
        "outputId": "6322b682-f8cd-4412-dd7b-f791a0636f21"
      },
      "outputs": [
        {
          "name": "stdout",
          "output_type": "stream",
          "text": [
            "There are 2 directories and 0 images in '10_food_classes_10_percent'.\n",
            "There are 10 directories and 0 images in '10_food_classes_10_percent/train'.\n",
            "There are 0 directories and 75 images in '10_food_classes_10_percent/train/grilled_salmon'.\n",
            "There are 0 directories and 75 images in '10_food_classes_10_percent/train/ice_cream'.\n",
            "There are 0 directories and 75 images in '10_food_classes_10_percent/train/chicken_curry'.\n",
            "There are 0 directories and 75 images in '10_food_classes_10_percent/train/steak'.\n",
            "There are 0 directories and 75 images in '10_food_classes_10_percent/train/hamburger'.\n",
            "There are 0 directories and 75 images in '10_food_classes_10_percent/train/sushi'.\n",
            "There are 0 directories and 75 images in '10_food_classes_10_percent/train/chicken_wings'.\n",
            "There are 0 directories and 75 images in '10_food_classes_10_percent/train/fried_rice'.\n",
            "There are 0 directories and 75 images in '10_food_classes_10_percent/train/ramen'.\n",
            "There are 0 directories and 75 images in '10_food_classes_10_percent/train/pizza'.\n",
            "There are 10 directories and 0 images in '10_food_classes_10_percent/test'.\n",
            "There are 0 directories and 250 images in '10_food_classes_10_percent/test/grilled_salmon'.\n",
            "There are 0 directories and 250 images in '10_food_classes_10_percent/test/ice_cream'.\n",
            "There are 0 directories and 250 images in '10_food_classes_10_percent/test/chicken_curry'.\n",
            "There are 0 directories and 250 images in '10_food_classes_10_percent/test/steak'.\n",
            "There are 0 directories and 250 images in '10_food_classes_10_percent/test/hamburger'.\n",
            "There are 0 directories and 250 images in '10_food_classes_10_percent/test/sushi'.\n",
            "There are 0 directories and 250 images in '10_food_classes_10_percent/test/chicken_wings'.\n",
            "There are 0 directories and 250 images in '10_food_classes_10_percent/test/fried_rice'.\n",
            "There are 0 directories and 250 images in '10_food_classes_10_percent/test/ramen'.\n",
            "There are 0 directories and 250 images in '10_food_classes_10_percent/test/pizza'.\n"
          ]
        }
      ],
      "source": [
        "#Check out how many images and directories in the dataset?\n",
        "walk_through_dir('10_food_classes_10_percent')"
      ]
    },
    {
      "cell_type": "code",
      "execution_count": null,
      "metadata": {
        "id": "R2Lf0qi8SwDZ"
      },
      "outputs": [],
      "source": [
        "#Create training and test directory paths\n",
        "train_dir='10_food_classes_10_percent/train/'\n",
        "test_dir='10_food_classes_10_percent/test/'"
      ]
    },
    {
      "cell_type": "code",
      "execution_count": null,
      "metadata": {
        "colab": {
          "base_uri": "https://localhost:8080/"
        },
        "id": "zRnoBpsiTKpN",
        "outputId": "74882a1e-94b6-4e17-df40-a110ef4bd69e"
      },
      "outputs": [
        {
          "name": "stdout",
          "output_type": "stream",
          "text": [
            "Found 750 files belonging to 10 classes.\n",
            "Found 2500 files belonging to 10 classes.\n"
          ]
        }
      ],
      "source": [
        "import tensorflow as tf\n",
        "IMG_SIZE=(224,224)\n",
        "BATCH_SIZE=32\n",
        "from tensorflow.keras.preprocessing import image_dataset_from_directory\n",
        "\n",
        "train_data_10_percent=image_dataset_from_directory(directory=train_dir,\n",
        "                                                  image_size=IMG_SIZE,\n",
        "                                                  label_mode='categorical',\n",
        "                                                  batch_size=BATCH_SIZE) #Good for our health\n",
        "\n",
        "test_data=image_dataset_from_directory(directory=test_dir,\n",
        "                                      image_size=IMG_SIZE,\n",
        "                                      label_mode='categorical',\n",
        "                                      batch_size=BATCH_SIZE)"
      ]
    },
    {
      "cell_type": "code",
      "execution_count": null,
      "metadata": {
        "colab": {
          "base_uri": "https://localhost:8080/"
        },
        "id": "eLt75GtzWlZY",
        "outputId": "a8542efd-c701-4bd9-88e5-6179268c4a95"
      },
      "outputs": [
        {
          "data": {
            "text/plain": [
              "<_PrefetchDataset element_spec=(TensorSpec(shape=(None, 224, 224, 3), dtype=tf.float32, name=None), TensorSpec(shape=(None, 10), dtype=tf.float32, name=None))>"
            ]
          },
          "execution_count": 14,
          "metadata": {},
          "output_type": "execute_result"
        }
      ],
      "source": [
        "train_data_10_percent"
      ]
    },
    {
      "cell_type": "code",
      "execution_count": null,
      "metadata": {
        "collapsed": true,
        "id": "DYA4Zl80WvDd"
      },
      "outputs": [],
      "source": [
        "\n",
        "\n",
        "#Check out the class names of our dataset\n",
        "class_names=train_data_10_percent.class_names"
      ]
    },
    {
      "cell_type": "code",
      "execution_count": null,
      "metadata": {
        "colab": {
          "base_uri": "https://localhost:8080/"
        },
        "id": "sjnf4kQgW5ft",
        "outputId": "df125bf8-3e71-4551-98c1-692f8bc7b2a5"
      },
      "outputs": [
        {
          "name": "stdout",
          "output_type": "stream",
          "text": [
            "tf.Tensor(\n",
            "[[[[9.39438782e+01 6.99438782e+01 4.19438782e+01]\n",
            "   [1.02260201e+02 7.92602005e+01 4.79285698e+01]\n",
            "   [1.15076530e+02 9.21530609e+01 5.79234695e+01]\n",
            "   ...\n",
            "   [1.26076721e+02 1.08648193e+02 9.30001984e+01]\n",
            "   [1.37882690e+02 1.22882698e+02 1.01882698e+02]\n",
            "   [1.38515259e+02 1.26515259e+02 1.02515259e+02]]\n",
            "\n",
            "  [[8.67602081e+01 6.07602043e+01 3.37602043e+01]\n",
            "   [8.92091827e+01 6.61428604e+01 3.53418350e+01]\n",
            "   [9.60000000e+01 7.30000000e+01 4.08571396e+01]\n",
            "   ...\n",
            "   [1.32341995e+02 1.13984894e+02 1.00469521e+02]\n",
            "   [1.41076553e+02 1.26076561e+02 1.06801025e+02]\n",
            "   [1.41285645e+02 1.26285645e+02 1.03285645e+02]]\n",
            "\n",
            "  [[8.81377563e+01 6.21377563e+01 3.71377563e+01]\n",
            "   [8.86836700e+01 6.26836739e+01 3.56836739e+01]\n",
            "   [9.44030609e+01 7.11887741e+01 4.08316345e+01]\n",
            "   ...\n",
            "   [1.29811386e+02 1.11428764e+02 1.00500130e+02]\n",
            "   [1.40928604e+02 1.23500023e+02 1.07571426e+02]\n",
            "   [1.41285645e+02 1.24351997e+02 1.03510078e+02]]\n",
            "\n",
            "  ...\n",
            "\n",
            "  [[1.45433670e+02 1.21433662e+02 8.58621902e+01]\n",
            "   [1.43801041e+02 1.19801041e+02 8.42295685e+01]\n",
            "   [1.48214310e+02 1.24214310e+02 8.89795837e+01]\n",
            "   ...\n",
            "   [1.36137726e+02 1.18000000e+02 9.79540939e+01]\n",
            "   [1.34428528e+02 1.17214264e+02 9.72142639e+01]\n",
            "   [1.35290787e+02 1.18076530e+02 9.80765305e+01]]\n",
            "\n",
            "  [[1.43928558e+02 1.19928558e+02 8.39285583e+01]\n",
            "   [1.44928574e+02 1.20928574e+02 8.49285736e+01]\n",
            "   [1.48397949e+02 1.24397957e+02 8.88265305e+01]\n",
            "   ...\n",
            "   [1.34056137e+02 1.17270401e+02 9.66276093e+01]\n",
            "   [1.34000000e+02 1.17000000e+02 9.70000000e+01]\n",
            "   [1.33000000e+02 1.16000000e+02 9.60000000e+01]]\n",
            "\n",
            "  [[1.42642853e+02 1.18642860e+02 8.06428604e+01]\n",
            "   [1.44928574e+02 1.20928574e+02 8.49285736e+01]\n",
            "   [1.46642822e+02 1.22642822e+02 8.70713959e+01]\n",
            "   ...\n",
            "   [1.34862259e+02 1.18862267e+02 9.58622665e+01]\n",
            "   [1.34954071e+02 1.17954079e+02 9.79540787e+01]\n",
            "   [1.32642822e+02 1.17642822e+02 9.66428223e+01]]]\n",
            "\n",
            "\n",
            " [[[1.10714287e+02 1.11714287e+02 1.05714287e+02]\n",
            "   [1.11285713e+02 1.14285713e+02 1.07285713e+02]\n",
            "   [1.08505104e+02 1.13076530e+02 1.06076530e+02]\n",
            "   ...\n",
            "   [1.54204071e+02 1.68204071e+02 1.69204071e+02]\n",
            "   [1.50193817e+02 1.64193817e+02 1.65193817e+02]\n",
            "   [1.53729568e+02 1.69729568e+02 1.69729568e+02]]\n",
            "\n",
            "  [[1.10714287e+02 1.11714287e+02 1.05714287e+02]\n",
            "   [1.09928566e+02 1.12928566e+02 1.05928566e+02]\n",
            "   [1.07285713e+02 1.11857140e+02 1.04857140e+02]\n",
            "   ...\n",
            "   [1.60984695e+02 1.71556137e+02 1.72301025e+02]\n",
            "   [1.59999985e+02 1.72142838e+02 1.72214264e+02]\n",
            "   [1.57520416e+02 1.69663269e+02 1.69734695e+02]]\n",
            "\n",
            "  [[1.12219383e+02 1.13219383e+02 1.07219383e+02]\n",
            "   [1.11285713e+02 1.14285713e+02 1.07285713e+02]\n",
            "   [1.07857147e+02 1.12428574e+02 1.05428574e+02]\n",
            "   ...\n",
            "   [1.36857162e+02 1.37831650e+02 1.37765335e+02]\n",
            "   [1.40484726e+02 1.40841873e+02 1.42627594e+02]\n",
            "   [1.37142868e+02 1.37500015e+02 1.39285721e+02]]\n",
            "\n",
            "  ...\n",
            "\n",
            "  [[1.60291000e+02 1.71648209e+02 1.50576767e+02]\n",
            "   [1.71602127e+02 1.83673645e+02 1.65745087e+02]\n",
            "   [1.80714325e+02 1.93597046e+02 1.80168503e+02]\n",
            "   ...\n",
            "   [1.08407738e+02 3.78875618e+01 3.79334755e+01]\n",
            "   [9.46777191e+01 2.97953644e+01 3.29943581e+01]\n",
            "   [1.04515045e+02 4.24387665e+01 4.97244720e+01]]\n",
            "\n",
            "  [[1.75076462e+02 1.88719315e+02 1.66790741e+02]\n",
            "   [1.80515320e+02 1.97443893e+02 1.79949020e+02]\n",
            "   [1.87183746e+02 2.06270477e+02 1.96627655e+02]\n",
            "   ...\n",
            "   [6.38212395e+01 1.45560408e+01 1.42244673e+01]\n",
            "   [5.42803612e+01 1.54948368e+01 2.02806339e+01]\n",
            "   [4.53365517e+01 1.36938219e+01 2.40509701e+01]]\n",
            "\n",
            "  [[1.78250443e+02 1.89204453e+02 1.71092285e+02]\n",
            "   [1.84301117e+02 1.97709213e+02 1.86183807e+02]\n",
            "   [1.89642792e+02 2.06943726e+02 2.03295868e+02]\n",
            "   ...\n",
            "   [5.63268051e+01 1.71075668e+01 1.95463543e+01]\n",
            "   [3.06327629e+01 7.34724045e+00 1.64851990e+01]\n",
            "   [2.74079075e+01 1.24640608e+01 2.61529293e+01]]]\n",
            "\n",
            "\n",
            " [[[1.22852043e+02 6.08520432e+01 9.85204124e+00]\n",
            "   [1.20403061e+02 6.31887779e+01 9.06632614e+00]\n",
            "   [1.19117348e+02 6.47602005e+01 7.82653046e+00]\n",
            "   ...\n",
            "   [2.17214325e+02 2.04214325e+02 1.88214325e+02]\n",
            "   [2.16954071e+02 2.03954071e+02 1.87954071e+02]\n",
            "   [2.16714325e+02 2.03714325e+02 1.87714325e+02]]\n",
            "\n",
            "  [[1.14714287e+02 5.47142868e+01 3.37755060e+00]\n",
            "   [1.15566322e+02 5.83520393e+01 3.42346787e+00]\n",
            "   [1.24122452e+02 6.93214340e+01 1.17244930e+01]\n",
            "   ...\n",
            "   [2.17785736e+02 2.04785736e+02 1.88785736e+02]\n",
            "   [2.16928558e+02 2.03928558e+02 1.87928558e+02]\n",
            "   [2.17260239e+02 2.04260239e+02 1.88260239e+02]]\n",
            "\n",
            "  [[1.23285713e+02 6.39285736e+01 1.17142868e+01]\n",
            "   [1.29229599e+02 7.22295914e+01 1.72295933e+01]\n",
            "   [1.31770416e+02 7.51275482e+01 1.79132652e+01]\n",
            "   ...\n",
            "   [2.17214279e+02 2.04214279e+02 1.88214279e+02]\n",
            "   [2.17056137e+02 2.04056137e+02 1.88056137e+02]\n",
            "   [2.19637817e+02 2.06637817e+02 1.90637817e+02]]\n",
            "\n",
            "  ...\n",
            "\n",
            "  [[2.53785736e+02 2.54785736e+02 2.48785736e+02]\n",
            "   [2.54000000e+02 2.55000000e+02 2.49000000e+02]\n",
            "   [2.54000000e+02 2.55000000e+02 2.49000000e+02]\n",
            "   ...\n",
            "   [2.49168350e+02 2.39168350e+02 2.29168350e+02]\n",
            "   [2.54556168e+02 2.44556168e+02 2.34556168e+02]\n",
            "   [2.49295822e+02 2.39295822e+02 2.29295822e+02]]\n",
            "\n",
            "  [[2.54403076e+02 2.55000000e+02 2.47403076e+02]\n",
            "   [2.54000000e+02 2.55000000e+02 2.47000000e+02]\n",
            "   [2.53000000e+02 2.54000000e+02 2.46000000e+02]\n",
            "   ...\n",
            "   [2.50153091e+02 2.40153091e+02 2.30153091e+02]\n",
            "   [2.48270462e+02 2.38270462e+02 2.28270462e+02]\n",
            "   [2.52545959e+02 2.42545959e+02 2.32545959e+02]]\n",
            "\n",
            "  [[2.55000000e+02 2.55000000e+02 2.48000000e+02]\n",
            "   [2.54071426e+02 2.55000000e+02 2.47071426e+02]\n",
            "   [2.53000000e+02 2.54000000e+02 2.46000000e+02]\n",
            "   ...\n",
            "   [2.50959122e+02 2.40959122e+02 2.30959122e+02]\n",
            "   [2.51647934e+02 2.41647934e+02 2.31647934e+02]\n",
            "   [2.50943954e+02 2.40943954e+02 2.30943954e+02]]]\n",
            "\n",
            "\n",
            " ...\n",
            "\n",
            "\n",
            " [[[5.34183645e+00 5.34183645e+00 0.00000000e+00]\n",
            "   [6.00000000e+00 5.00000000e+00 6.88775301e-01]\n",
            "   [7.95918465e-01 7.95918465e-01 0.00000000e+00]\n",
            "   ...\n",
            "   [0.00000000e+00 0.00000000e+00 0.00000000e+00]\n",
            "   [0.00000000e+00 0.00000000e+00 0.00000000e+00]\n",
            "   [0.00000000e+00 0.00000000e+00 0.00000000e+00]]\n",
            "\n",
            "  [[4.26530600e+00 3.26530600e+00 1.93877459e-01]\n",
            "   [1.42856598e-01 1.14285660e+00 0.00000000e+00]\n",
            "   [2.64285731e+00 1.42857170e+00 2.29591981e-01]\n",
            "   ...\n",
            "   [0.00000000e+00 0.00000000e+00 0.00000000e+00]\n",
            "   [0.00000000e+00 0.00000000e+00 0.00000000e+00]\n",
            "   [0.00000000e+00 0.00000000e+00 0.00000000e+00]]\n",
            "\n",
            "  [[9.06122398e+00 8.84693909e+00 6.41836643e+00]\n",
            "   [9.84692991e-01 4.13264692e-01 5.61222248e-02]\n",
            "   [5.42857170e+00 1.26020432e+00 9.18368399e-02]\n",
            "   ...\n",
            "   [0.00000000e+00 0.00000000e+00 0.00000000e+00]\n",
            "   [0.00000000e+00 0.00000000e+00 0.00000000e+00]\n",
            "   [0.00000000e+00 0.00000000e+00 0.00000000e+00]]\n",
            "\n",
            "  ...\n",
            "\n",
            "  [[9.39285736e+01 8.19285736e+01 8.59285736e+01]\n",
            "   [9.90000000e+01 8.70000000e+01 9.10000000e+01]\n",
            "   [9.76428680e+01 8.58571548e+01 8.99489975e+01]\n",
            "   ...\n",
            "   [1.69000000e+02 1.51045883e+02 1.31642853e+02]\n",
            "   [1.65928558e+02 1.47714264e+02 1.28357147e+02]\n",
            "   [1.63642822e+02 1.45428528e+02 1.26071411e+02]]\n",
            "\n",
            "  [[9.33316193e+01 8.13316193e+01 8.53316193e+01]\n",
            "   [9.80050888e+01 8.60050888e+01 9.00050888e+01]\n",
            "   [9.82295914e+01 8.64438782e+01 9.08724518e+01]\n",
            "   ...\n",
            "   [1.68801041e+02 1.50229568e+02 1.33015305e+02]\n",
            "   [1.65928558e+02 1.46928558e+02 1.29928558e+02]\n",
            "   [1.63974487e+02 1.44974487e+02 1.27974495e+02]]\n",
            "\n",
            "  [[9.38724518e+01 8.18724518e+01 8.58724518e+01]\n",
            "   [9.59285736e+01 8.39285736e+01 8.79285736e+01]\n",
            "   [9.85050964e+01 8.59336700e+01 9.27193832e+01]\n",
            "   ...\n",
            "   [1.68076523e+02 1.49076523e+02 1.33647995e+02]\n",
            "   [1.66596924e+02 1.47596924e+02 1.32596924e+02]\n",
            "   [1.65000000e+02 1.46000000e+02 1.31000000e+02]]]\n",
            "\n",
            "\n",
            " [[[0.00000000e+00 0.00000000e+00 0.00000000e+00]\n",
            "   [0.00000000e+00 0.00000000e+00 0.00000000e+00]\n",
            "   [0.00000000e+00 0.00000000e+00 0.00000000e+00]\n",
            "   ...\n",
            "   [0.00000000e+00 0.00000000e+00 2.00000000e+00]\n",
            "   [0.00000000e+00 0.00000000e+00 2.00000000e+00]\n",
            "   [0.00000000e+00 0.00000000e+00 2.00000000e+00]]\n",
            "\n",
            "  [[0.00000000e+00 0.00000000e+00 0.00000000e+00]\n",
            "   [0.00000000e+00 0.00000000e+00 0.00000000e+00]\n",
            "   [0.00000000e+00 0.00000000e+00 0.00000000e+00]\n",
            "   ...\n",
            "   [0.00000000e+00 0.00000000e+00 2.00000000e+00]\n",
            "   [0.00000000e+00 0.00000000e+00 2.00000000e+00]\n",
            "   [0.00000000e+00 0.00000000e+00 2.00000000e+00]]\n",
            "\n",
            "  [[0.00000000e+00 0.00000000e+00 0.00000000e+00]\n",
            "   [0.00000000e+00 0.00000000e+00 0.00000000e+00]\n",
            "   [0.00000000e+00 0.00000000e+00 0.00000000e+00]\n",
            "   ...\n",
            "   [0.00000000e+00 0.00000000e+00 2.00000000e+00]\n",
            "   [0.00000000e+00 0.00000000e+00 2.00000000e+00]\n",
            "   [0.00000000e+00 0.00000000e+00 2.00000000e+00]]\n",
            "\n",
            "  ...\n",
            "\n",
            "  [[0.00000000e+00 0.00000000e+00 0.00000000e+00]\n",
            "   [0.00000000e+00 0.00000000e+00 0.00000000e+00]\n",
            "   [0.00000000e+00 0.00000000e+00 0.00000000e+00]\n",
            "   ...\n",
            "   [0.00000000e+00 0.00000000e+00 0.00000000e+00]\n",
            "   [0.00000000e+00 0.00000000e+00 0.00000000e+00]\n",
            "   [0.00000000e+00 0.00000000e+00 0.00000000e+00]]\n",
            "\n",
            "  [[0.00000000e+00 0.00000000e+00 0.00000000e+00]\n",
            "   [0.00000000e+00 0.00000000e+00 0.00000000e+00]\n",
            "   [0.00000000e+00 0.00000000e+00 0.00000000e+00]\n",
            "   ...\n",
            "   [0.00000000e+00 0.00000000e+00 0.00000000e+00]\n",
            "   [0.00000000e+00 0.00000000e+00 0.00000000e+00]\n",
            "   [0.00000000e+00 0.00000000e+00 0.00000000e+00]]\n",
            "\n",
            "  [[0.00000000e+00 0.00000000e+00 0.00000000e+00]\n",
            "   [0.00000000e+00 0.00000000e+00 0.00000000e+00]\n",
            "   [0.00000000e+00 0.00000000e+00 0.00000000e+00]\n",
            "   ...\n",
            "   [0.00000000e+00 0.00000000e+00 0.00000000e+00]\n",
            "   [0.00000000e+00 0.00000000e+00 0.00000000e+00]\n",
            "   [0.00000000e+00 0.00000000e+00 0.00000000e+00]]]\n",
            "\n",
            "\n",
            " [[[4.90000000e+01 5.80000000e+01 6.50000000e+01]\n",
            "   [4.65459175e+01 5.35459175e+01 6.15459175e+01]\n",
            "   [4.77857170e+01 5.43571434e+01 5.99285698e+01]\n",
            "   ...\n",
            "   [2.20000000e+01 1.70000000e+01 1.40000000e+01]\n",
            "   [2.46632690e+01 1.66632690e+01 1.46632690e+01]\n",
            "   [2.38010082e+01 1.58010082e+01 1.38010082e+01]]\n",
            "\n",
            "  [[5.28316345e+01 6.18316345e+01 6.88316345e+01]\n",
            "   [4.81377563e+01 5.71377563e+01 6.41377563e+01]\n",
            "   [4.93571472e+01 5.59285736e+01 6.15000000e+01]\n",
            "   ...\n",
            "   [2.18418598e+01 1.77857361e+01 1.47857361e+01]\n",
            "   [2.51428833e+01 2.01428833e+01 1.71428833e+01]\n",
            "   [2.92857494e+01 2.42857494e+01 2.12857494e+01]]\n",
            "\n",
            "  [[5.19234695e+01 6.09234695e+01 6.83520432e+01]\n",
            "   [4.80000000e+01 5.70000000e+01 6.40000000e+01]\n",
            "   [4.94744911e+01 5.60459175e+01 6.20459175e+01]\n",
            "   ...\n",
            "   [1.27398005e+01 1.21683722e+01 7.95408630e+00]\n",
            "   [1.37857141e+01 1.32142859e+01 9.00000000e+00]\n",
            "   [1.57856789e+01 1.34235315e+01 9.85206795e+00]]\n",
            "\n",
            "  ...\n",
            "\n",
            "  [[1.40000000e+01 1.50000000e+01 1.00000000e+01]\n",
            "   [1.40000000e+01 1.50000000e+01 1.00000000e+01]\n",
            "   [1.40000000e+01 1.50000000e+01 1.00000000e+01]\n",
            "   ...\n",
            "   [1.37857361e+01 1.47857361e+01 9.78573608e+00]\n",
            "   [1.48010435e+01 1.58010435e+01 1.08010435e+01]\n",
            "   [1.50765305e+01 1.60765305e+01 1.10765305e+01]]\n",
            "\n",
            "  [[1.50000000e+01 1.60000000e+01 1.10000000e+01]\n",
            "   [1.50000000e+01 1.60000000e+01 1.10000000e+01]\n",
            "   [1.50000000e+01 1.60000000e+01 1.10000000e+01]\n",
            "   ...\n",
            "   [1.39285583e+01 1.49285583e+01 9.92855835e+00]\n",
            "   [1.40000000e+01 1.50000000e+01 1.00000000e+01]\n",
            "   [1.40000000e+01 1.50000000e+01 1.00000000e+01]]\n",
            "\n",
            "  [[1.50000000e+01 1.60000000e+01 1.10000000e+01]\n",
            "   [1.50000000e+01 1.60000000e+01 1.10000000e+01]\n",
            "   [1.50000000e+01 1.60000000e+01 1.10000000e+01]\n",
            "   ...\n",
            "   [1.16428223e+01 1.26428223e+01 7.64282227e+00]\n",
            "   [1.30714417e+01 1.40714417e+01 9.07144165e+00]\n",
            "   [1.40000000e+01 1.50000000e+01 1.00000000e+01]]]], shape=(32, 224, 224, 3), dtype=float32) tf.Tensor(\n",
            "[[0. 0. 1. 0. 0. 0. 0. 0. 0. 0.]\n",
            " [0. 0. 0. 0. 1. 0. 0. 0. 0. 0.]\n",
            " [1. 0. 0. 0. 0. 0. 0. 0. 0. 0.]\n",
            " [0. 0. 1. 0. 0. 0. 0. 0. 0. 0.]\n",
            " [0. 0. 0. 0. 1. 0. 0. 0. 0. 0.]\n",
            " [0. 0. 1. 0. 0. 0. 0. 0. 0. 0.]\n",
            " [0. 0. 0. 0. 0. 1. 0. 0. 0. 0.]\n",
            " [0. 0. 0. 0. 0. 0. 0. 1. 0. 0.]\n",
            " [0. 0. 0. 0. 1. 0. 0. 0. 0. 0.]\n",
            " [0. 0. 0. 0. 0. 0. 1. 0. 0. 0.]\n",
            " [0. 0. 0. 0. 0. 0. 0. 1. 0. 0.]\n",
            " [0. 0. 0. 1. 0. 0. 0. 0. 0. 0.]\n",
            " [0. 0. 1. 0. 0. 0. 0. 0. 0. 0.]\n",
            " [1. 0. 0. 0. 0. 0. 0. 0. 0. 0.]\n",
            " [0. 0. 0. 1. 0. 0. 0. 0. 0. 0.]\n",
            " [0. 0. 0. 0. 0. 0. 0. 0. 0. 1.]\n",
            " [0. 0. 0. 0. 1. 0. 0. 0. 0. 0.]\n",
            " [0. 0. 0. 0. 0. 0. 0. 1. 0. 0.]\n",
            " [0. 1. 0. 0. 0. 0. 0. 0. 0. 0.]\n",
            " [0. 0. 0. 1. 0. 0. 0. 0. 0. 0.]\n",
            " [0. 0. 0. 0. 0. 0. 0. 0. 0. 1.]\n",
            " [0. 0. 0. 0. 0. 0. 0. 0. 1. 0.]\n",
            " [0. 1. 0. 0. 0. 0. 0. 0. 0. 0.]\n",
            " [0. 0. 1. 0. 0. 0. 0. 0. 0. 0.]\n",
            " [0. 0. 0. 0. 0. 0. 0. 0. 0. 1.]\n",
            " [0. 0. 0. 0. 0. 1. 0. 0. 0. 0.]\n",
            " [0. 0. 0. 0. 0. 1. 0. 0. 0. 0.]\n",
            " [0. 1. 0. 0. 0. 0. 0. 0. 0. 0.]\n",
            " [0. 0. 0. 1. 0. 0. 0. 0. 0. 0.]\n",
            " [0. 0. 0. 0. 1. 0. 0. 0. 0. 0.]\n",
            " [0. 0. 0. 0. 0. 1. 0. 0. 0. 0.]\n",
            " [0. 1. 0. 0. 0. 0. 0. 0. 0. 0.]], shape=(32, 10), dtype=float32)\n"
          ]
        }
      ],
      "source": [
        "#See the example of a batch of data\n",
        "for images,labels in train_data_10_percent.take(1):\n",
        "  print(images,labels)"
      ]
    },
    {
      "cell_type": "code",
      "execution_count": null,
      "metadata": {
        "colab": {
          "base_uri": "https://localhost:8080/"
        },
        "id": "pVNmO1pmXSSI",
        "outputId": "01230a2f-15b3-4da1-93d6-96feec6e9b0a"
      },
      "outputs": [
        {
          "data": {
            "text/plain": [
              "<_PrefetchDataset element_spec=(TensorSpec(shape=(None, 224, 224, 3), dtype=tf.float32, name=None), TensorSpec(shape=(None, 10), dtype=tf.float32, name=None))>"
            ]
          },
          "execution_count": 17,
          "metadata": {},
          "output_type": "execute_result"
        }
      ],
      "source": [
        "train_data_10_percent"
      ]
    },
    {
      "cell_type": "markdown",
      "metadata": {
        "id": "Nd92lhtAZkBc"
      },
      "source": [
        "### Tensorflow Applications:\n",
        "* `tf.keras.applications` is a module in Tensorflow keras that provides a pretrained model and associated functions for deep learning applications.\n",
        "* This models are trained on large benchmark dataset like ImageNet."
      ]
    },
    {
      "cell_type": "code",
      "execution_count": null,
      "metadata": {
        "id": "ukzVh-k6ZXzk"
      },
      "outputs": [],
      "source": [
        "#Import the pkgs\n",
        "from tensorflow.keras.applications import EfficientNetB0\n",
        "from tensorflow.keras.layers import Dense,GlobalAveragePooling2D\n",
        "from tensorflow.keras.optimizers import Adam\n",
        "from tensorflow.keras.models import Sequential"
      ]
    },
    {
      "cell_type": "code",
      "execution_count": null,
      "metadata": {
        "colab": {
          "base_uri": "https://localhost:8080/"
        },
        "id": "1qD2Q_q5bp_E",
        "outputId": "fa94eb9b-ccf7-4575-92e6-9cffe5319112"
      },
      "outputs": [
        {
          "name": "stdout",
          "output_type": "stream",
          "text": [
            "Downloading data from https://storage.googleapis.com/keras-applications/efficientnetb0_notop.h5\n",
            "16705208/16705208 [==============================] - 2s 0us/step\n",
            "Saving TensorBoard log files to: tensorflow_hub/EfficientNetV2B0/20240721-074303\n",
            "Epoch 1/5\n",
            "24/24 [==============================] - 513s 19s/step - loss: 1.3676 - accuracy: 0.5573 - val_loss: 1.6798 - val_accuracy: 0.5900\n",
            "Epoch 2/5\n",
            "24/24 [==============================] - 413s 18s/step - loss: 0.2884 - accuracy: 0.9160 - val_loss: 1.0657 - val_accuracy: 0.6764\n",
            "Epoch 3/5\n",
            "24/24 [==============================] - 372s 16s/step - loss: 0.0843 - accuracy: 0.9760 - val_loss: 0.8453 - val_accuracy: 0.7624\n",
            "Epoch 4/5\n",
            "24/24 [==============================] - 398s 17s/step - loss: 0.0536 - accuracy: 0.9840 - val_loss: 0.9759 - val_accuracy: 0.7484\n",
            "Epoch 5/5\n",
            "24/24 [==============================] - 357s 15s/step - loss: 0.0747 - accuracy: 0.9813 - val_loss: 0.8127 - val_accuracy: 0.7904\n"
          ]
        }
      ],
      "source": [
        "#Create a model\n",
        "efficientnet_model=Sequential([\n",
        "    EfficientNetB0(include_top=False,\n",
        "                   weights='imagenet',\n",
        "                   input_shape=IMG_SIZE+(3,)),\n",
        "    GlobalAveragePooling2D(),\n",
        "    Dense(10,activation='softmax')\n",
        "])\n",
        "\n",
        "#efficientnet_model.trainable=False #Freeze the efficientnet model\n",
        "#Compile the model\n",
        "efficientnet_model.compile(loss='categorical_crossentropy',\n",
        "                           optimizer=Adam(),\n",
        "                           metrics=['accuracy'])\n",
        "\n",
        "#Fit the model\n",
        "efficientnet_history=efficientnet_model.fit(train_data_10_percent,\n",
        "                                            epochs=5,\n",
        "                                            steps_per_epoch=len(train_data_10_percent),\n",
        "                                            validation_data=test_data,\n",
        "                                            validation_steps=len(test_data),\n",
        "                                            callbacks=[create_tensorboard_callback(\n",
        "                                                dir_name='tensorflow_hub',\n",
        "                                                experiment_name='EfficientNetV2B0')])"
      ]
    },
    {
      "cell_type": "code",
      "execution_count": null,
      "metadata": {
        "colab": {
          "base_uri": "https://localhost:8080/"
        },
        "id": "Xl3GeW1hcdCq",
        "outputId": "2a09316b-945b-48d6-ca99-37461108ffb9"
      },
      "outputs": [
        {
          "name": "stdout",
          "output_type": "stream",
          "text": [
            "Model: \"sequential\"\n",
            "_________________________________________________________________\n",
            " Layer (type)                Output Shape              Param #   \n",
            "=================================================================\n",
            " efficientnetb0 (Functional  (None, 7, 7, 1280)        4049571   \n",
            " )                                                               \n",
            "                                                                 \n",
            " global_average_pooling2d (  (None, 1280)              0         \n",
            " GlobalAveragePooling2D)                                         \n",
            "                                                                 \n",
            " dense (Dense)               (None, 10)                12810     \n",
            "                                                                 \n",
            "=================================================================\n",
            "Total params: 4062381 (15.50 MB)\n",
            "Trainable params: 4020358 (15.34 MB)\n",
            "Non-trainable params: 42023 (164.16 KB)\n",
            "_________________________________________________________________\n"
          ]
        }
      ],
      "source": [
        "efficientnet_model.summary()"
      ]
    },
    {
      "cell_type": "markdown",
      "metadata": {
        "id": "JJFsPOysiQSx"
      },
      "source": [
        "## Model 0 : Building a transfer learning(Feature Extraction) model using the keras functional API\n",
        "\n",
        "The sequential API is straight-forward,it runs our layers in sequential order.\n",
        "But the functional API gives us more flexibility with our models."
      ]
    },
    {
      "cell_type": "code",
      "execution_count": null,
      "metadata": {
        "colab": {
          "base_uri": "https://localhost:8080/"
        },
        "id": "3nMu9DAVdU3R",
        "outputId": "ee0fb5b2-b4f5-496e-a0c4-cab791f5c328"
      },
      "outputs": [
        {
          "name": "stdout",
          "output_type": "stream",
          "text": [
            "Downloading data from https://storage.googleapis.com/tensorflow/keras-applications/efficientnet_v2/efficientnetv2-b0_notop.h5\n",
            "24274472/24274472 [==============================] - 2s 0us/step\n",
            "Shape after parsing inputs through the base model:(None, 7, 7, 1280)\n",
            "Shape after GlobalAveragePooling2D:(None, 1280)\n",
            "Saving TensorBoard log files to: transfer_learning/10_percent_feature_extraction/20240721-081758\n",
            "Epoch 1/5\n",
            "24/24 [==============================] - 88s 3s/step - loss: 1.9391 - accuracy: 0.4000 - val_loss: 1.3344 - val_accuracy: 0.7188\n",
            "Epoch 2/5\n",
            "24/24 [==============================] - 63s 3s/step - loss: 1.1893 - accuracy: 0.7333 - val_loss: 0.8764 - val_accuracy: 0.8355\n",
            "Epoch 3/5\n",
            "24/24 [==============================] - 63s 3s/step - loss: 0.8604 - accuracy: 0.8200 - val_loss: 0.6886 - val_accuracy: 0.8553\n",
            "Epoch 4/5\n",
            "24/24 [==============================] - 76s 3s/step - loss: 0.7114 - accuracy: 0.8507 - val_loss: 0.5902 - val_accuracy: 0.8701\n",
            "Epoch 5/5\n",
            "24/24 [==============================] - 76s 3s/step - loss: 0.6034 - accuracy: 0.8680 - val_loss: 0.5269 - val_accuracy: 0.8865\n"
          ]
        }
      ],
      "source": [
        "# 1.Create base model with tf.keras.applications\n",
        "base_model=tf.keras.applications.efficientnet_v2.EfficientNetV2B0(include_top=False)\n",
        "\n",
        "# 2.Freeze the base model(so the underlying pre-trained patterns aren;t updated during training)\n",
        "base_model.trainable=False\n",
        "\n",
        "# 3.Create inputs into our model\n",
        "inputs=tf.keras.layers.Input(shape=(224,224,3),name='Input Layer')\n",
        "\n",
        "# 4. Optional if using ResNet50V2 you will need to normalise inputs\n",
        "#x=tf.keras.layers.experimental.preprocessing.Rescaling(1./255)(inputs)\n",
        "\n",
        "# 5. Pass the inputs to the base_model\n",
        "x=base_model(inputs)\n",
        "print(f\"Shape after parsing inputs through the base model:{x.shape}\")\n",
        "\n",
        "# 6.Average Pool the outputs of the base model (aggregate all the most important information,reduce number of computations.)\n",
        "x=tf.keras.layers.GlobalAveragePooling2D(name='global_average_pooling_layer')(x)\n",
        "print(f\"Shape after GlobalAveragePooling2D:{x.shape}\")\n",
        "\n",
        "# 7.Create output activation layers\n",
        "outputs=tf.keras.layers.Dense(10,activation='softmax',name='output_layer')(x)\n",
        "\n",
        "# 8.Combine the inputs with the outputs\n",
        "model_0=tf.keras.Model(inputs,outputs)\n",
        "\n",
        "# 9.Compile for the model\n",
        "model_0.compile(loss='categorical_crossentropy',\n",
        "                optimizer=Adam(),\n",
        "                metrics=['accuracy'])\n",
        "\n",
        "# 10.Fit the model and save its history\n",
        "history_10_percent=model_0.fit(train_data_10_percent,\n",
        "            epochs=5,\n",
        "            steps_per_epoch=len(train_data_10_percent),\n",
        "            validation_data=test_data,\n",
        "            validation_steps=int(0.25*len(test_data)),\n",
        "            callbacks=[create_tensorboard_callback(\n",
        "                dir_name='transfer_learning',\n",
        "                experiment_name='10_percent_feature_extraction'\n",
        "            )])"
      ]
    },
    {
      "cell_type": "code",
      "execution_count": null,
      "metadata": {
        "colab": {
          "background_save": true,
          "base_uri": "https://localhost:8080/"
        },
        "id": "4-_tzMK1pJT3",
        "outputId": "ed7ef362-9bb2-4bf6-82c9-7b2af887331f"
      },
      "outputs": [
        {
          "name": "stdout",
          "output_type": "stream",
          "text": [
            "79/79 [==============================] - 115s 1s/step - loss: 0.5759 - accuracy: 0.8536\n"
          ]
        },
        {
          "data": {
            "text/plain": [
              "[0.5759175419807434, 0.853600025177002]"
            ]
          },
          "execution_count": 22,
          "metadata": {},
          "output_type": "execute_result"
        }
      ],
      "source": [
        "#Evaluate on the full test dataset\n",
        "model_0.evaluate(test_data)"
      ]
    },
    {
      "cell_type": "code",
      "execution_count": null,
      "metadata": {
        "colab": {
          "background_save": true
        },
        "id": "gxa578_gr82b",
        "outputId": "a89c7531-4256-46e2-be0d-9dbf06a0b33e"
      },
      "outputs": [
        {
          "name": "stdout",
          "output_type": "stream",
          "text": [
            "0 input_2\n",
            "1 rescaling_2\n",
            "2 normalization_1\n",
            "3 stem_conv\n",
            "4 stem_bn\n",
            "5 stem_activation\n",
            "6 block1a_project_conv\n",
            "7 block1a_project_bn\n",
            "8 block1a_project_activation\n",
            "9 block2a_expand_conv\n",
            "10 block2a_expand_bn\n",
            "11 block2a_expand_activation\n",
            "12 block2a_project_conv\n",
            "13 block2a_project_bn\n",
            "14 block2b_expand_conv\n",
            "15 block2b_expand_bn\n",
            "16 block2b_expand_activation\n",
            "17 block2b_project_conv\n",
            "18 block2b_project_bn\n",
            "19 block2b_drop\n",
            "20 block2b_add\n",
            "21 block3a_expand_conv\n",
            "22 block3a_expand_bn\n",
            "23 block3a_expand_activation\n",
            "24 block3a_project_conv\n",
            "25 block3a_project_bn\n",
            "26 block3b_expand_conv\n",
            "27 block3b_expand_bn\n",
            "28 block3b_expand_activation\n",
            "29 block3b_project_conv\n",
            "30 block3b_project_bn\n",
            "31 block3b_drop\n",
            "32 block3b_add\n",
            "33 block4a_expand_conv\n",
            "34 block4a_expand_bn\n",
            "35 block4a_expand_activation\n",
            "36 block4a_dwconv2\n",
            "37 block4a_bn\n",
            "38 block4a_activation\n",
            "39 block4a_se_squeeze\n",
            "40 block4a_se_reshape\n",
            "41 block4a_se_reduce\n",
            "42 block4a_se_expand\n",
            "43 block4a_se_excite\n",
            "44 block4a_project_conv\n",
            "45 block4a_project_bn\n",
            "46 block4b_expand_conv\n",
            "47 block4b_expand_bn\n",
            "48 block4b_expand_activation\n",
            "49 block4b_dwconv2\n",
            "50 block4b_bn\n",
            "51 block4b_activation\n",
            "52 block4b_se_squeeze\n",
            "53 block4b_se_reshape\n",
            "54 block4b_se_reduce\n",
            "55 block4b_se_expand\n",
            "56 block4b_se_excite\n",
            "57 block4b_project_conv\n",
            "58 block4b_project_bn\n",
            "59 block4b_drop\n",
            "60 block4b_add\n",
            "61 block4c_expand_conv\n",
            "62 block4c_expand_bn\n",
            "63 block4c_expand_activation\n",
            "64 block4c_dwconv2\n",
            "65 block4c_bn\n",
            "66 block4c_activation\n",
            "67 block4c_se_squeeze\n",
            "68 block4c_se_reshape\n",
            "69 block4c_se_reduce\n",
            "70 block4c_se_expand\n",
            "71 block4c_se_excite\n",
            "72 block4c_project_conv\n",
            "73 block4c_project_bn\n",
            "74 block4c_drop\n",
            "75 block4c_add\n",
            "76 block5a_expand_conv\n",
            "77 block5a_expand_bn\n",
            "78 block5a_expand_activation\n",
            "79 block5a_dwconv2\n",
            "80 block5a_bn\n",
            "81 block5a_activation\n",
            "82 block5a_se_squeeze\n",
            "83 block5a_se_reshape\n",
            "84 block5a_se_reduce\n",
            "85 block5a_se_expand\n",
            "86 block5a_se_excite\n",
            "87 block5a_project_conv\n",
            "88 block5a_project_bn\n",
            "89 block5b_expand_conv\n",
            "90 block5b_expand_bn\n",
            "91 block5b_expand_activation\n",
            "92 block5b_dwconv2\n",
            "93 block5b_bn\n",
            "94 block5b_activation\n",
            "95 block5b_se_squeeze\n",
            "96 block5b_se_reshape\n",
            "97 block5b_se_reduce\n",
            "98 block5b_se_expand\n",
            "99 block5b_se_excite\n",
            "100 block5b_project_conv\n",
            "101 block5b_project_bn\n",
            "102 block5b_drop\n",
            "103 block5b_add\n",
            "104 block5c_expand_conv\n",
            "105 block5c_expand_bn\n",
            "106 block5c_expand_activation\n",
            "107 block5c_dwconv2\n",
            "108 block5c_bn\n",
            "109 block5c_activation\n",
            "110 block5c_se_squeeze\n",
            "111 block5c_se_reshape\n",
            "112 block5c_se_reduce\n",
            "113 block5c_se_expand\n",
            "114 block5c_se_excite\n",
            "115 block5c_project_conv\n",
            "116 block5c_project_bn\n",
            "117 block5c_drop\n",
            "118 block5c_add\n",
            "119 block5d_expand_conv\n",
            "120 block5d_expand_bn\n",
            "121 block5d_expand_activation\n",
            "122 block5d_dwconv2\n",
            "123 block5d_bn\n",
            "124 block5d_activation\n",
            "125 block5d_se_squeeze\n",
            "126 block5d_se_reshape\n",
            "127 block5d_se_reduce\n",
            "128 block5d_se_expand\n",
            "129 block5d_se_excite\n",
            "130 block5d_project_conv\n",
            "131 block5d_project_bn\n",
            "132 block5d_drop\n",
            "133 block5d_add\n",
            "134 block5e_expand_conv\n",
            "135 block5e_expand_bn\n",
            "136 block5e_expand_activation\n",
            "137 block5e_dwconv2\n",
            "138 block5e_bn\n",
            "139 block5e_activation\n",
            "140 block5e_se_squeeze\n",
            "141 block5e_se_reshape\n",
            "142 block5e_se_reduce\n",
            "143 block5e_se_expand\n",
            "144 block5e_se_excite\n",
            "145 block5e_project_conv\n",
            "146 block5e_project_bn\n",
            "147 block5e_drop\n",
            "148 block5e_add\n",
            "149 block6a_expand_conv\n",
            "150 block6a_expand_bn\n",
            "151 block6a_expand_activation\n",
            "152 block6a_dwconv2\n",
            "153 block6a_bn\n",
            "154 block6a_activation\n",
            "155 block6a_se_squeeze\n",
            "156 block6a_se_reshape\n",
            "157 block6a_se_reduce\n",
            "158 block6a_se_expand\n",
            "159 block6a_se_excite\n",
            "160 block6a_project_conv\n",
            "161 block6a_project_bn\n",
            "162 block6b_expand_conv\n",
            "163 block6b_expand_bn\n",
            "164 block6b_expand_activation\n",
            "165 block6b_dwconv2\n",
            "166 block6b_bn\n",
            "167 block6b_activation\n",
            "168 block6b_se_squeeze\n",
            "169 block6b_se_reshape\n",
            "170 block6b_se_reduce\n",
            "171 block6b_se_expand\n",
            "172 block6b_se_excite\n",
            "173 block6b_project_conv\n",
            "174 block6b_project_bn\n",
            "175 block6b_drop\n",
            "176 block6b_add\n",
            "177 block6c_expand_conv\n",
            "178 block6c_expand_bn\n",
            "179 block6c_expand_activation\n",
            "180 block6c_dwconv2\n",
            "181 block6c_bn\n",
            "182 block6c_activation\n",
            "183 block6c_se_squeeze\n",
            "184 block6c_se_reshape\n",
            "185 block6c_se_reduce\n",
            "186 block6c_se_expand\n",
            "187 block6c_se_excite\n",
            "188 block6c_project_conv\n",
            "189 block6c_project_bn\n",
            "190 block6c_drop\n",
            "191 block6c_add\n",
            "192 block6d_expand_conv\n",
            "193 block6d_expand_bn\n",
            "194 block6d_expand_activation\n",
            "195 block6d_dwconv2\n",
            "196 block6d_bn\n",
            "197 block6d_activation\n",
            "198 block6d_se_squeeze\n",
            "199 block6d_se_reshape\n",
            "200 block6d_se_reduce\n",
            "201 block6d_se_expand\n",
            "202 block6d_se_excite\n",
            "203 block6d_project_conv\n",
            "204 block6d_project_bn\n",
            "205 block6d_drop\n",
            "206 block6d_add\n",
            "207 block6e_expand_conv\n",
            "208 block6e_expand_bn\n",
            "209 block6e_expand_activation\n",
            "210 block6e_dwconv2\n",
            "211 block6e_bn\n",
            "212 block6e_activation\n",
            "213 block6e_se_squeeze\n",
            "214 block6e_se_reshape\n",
            "215 block6e_se_reduce\n",
            "216 block6e_se_expand\n",
            "217 block6e_se_excite\n",
            "218 block6e_project_conv\n",
            "219 block6e_project_bn\n",
            "220 block6e_drop\n",
            "221 block6e_add\n",
            "222 block6f_expand_conv\n",
            "223 block6f_expand_bn\n",
            "224 block6f_expand_activation\n",
            "225 block6f_dwconv2\n",
            "226 block6f_bn\n",
            "227 block6f_activation\n",
            "228 block6f_se_squeeze\n",
            "229 block6f_se_reshape\n",
            "230 block6f_se_reduce\n",
            "231 block6f_se_expand\n",
            "232 block6f_se_excite\n",
            "233 block6f_project_conv\n",
            "234 block6f_project_bn\n",
            "235 block6f_drop\n",
            "236 block6f_add\n",
            "237 block6g_expand_conv\n",
            "238 block6g_expand_bn\n",
            "239 block6g_expand_activation\n",
            "240 block6g_dwconv2\n",
            "241 block6g_bn\n",
            "242 block6g_activation\n",
            "243 block6g_se_squeeze\n",
            "244 block6g_se_reshape\n",
            "245 block6g_se_reduce\n",
            "246 block6g_se_expand\n",
            "247 block6g_se_excite\n",
            "248 block6g_project_conv\n",
            "249 block6g_project_bn\n",
            "250 block6g_drop\n",
            "251 block6g_add\n",
            "252 block6h_expand_conv\n",
            "253 block6h_expand_bn\n",
            "254 block6h_expand_activation\n",
            "255 block6h_dwconv2\n",
            "256 block6h_bn\n",
            "257 block6h_activation\n",
            "258 block6h_se_squeeze\n",
            "259 block6h_se_reshape\n",
            "260 block6h_se_reduce\n",
            "261 block6h_se_expand\n",
            "262 block6h_se_excite\n",
            "263 block6h_project_conv\n",
            "264 block6h_project_bn\n",
            "265 block6h_drop\n",
            "266 block6h_add\n",
            "267 top_conv\n",
            "268 top_bn\n",
            "269 top_activation\n"
          ]
        }
      ],
      "source": [
        "#check the layers in our base model\n",
        "for layer_number,layer in enumerate(base_model.layers):\n",
        "  print(layer_number,layer.name )"
      ]
    },
    {
      "cell_type": "code",
      "execution_count": null,
      "metadata": {
        "colab": {
          "background_save": true
        },
        "id": "NbJ9hDN2sGbf",
        "outputId": "f849594e-cf81-40a3-eaa6-18d0ba917e44"
      },
      "outputs": [
        {
          "name": "stdout",
          "output_type": "stream",
          "text": [
            "Model: \"efficientnetv2-b0\"\n",
            "__________________________________________________________________________________________________\n",
            " Layer (type)                Output Shape                 Param #   Connected to                  \n",
            "==================================================================================================\n",
            " input_2 (InputLayer)        [(None, None, None, 3)]      0         []                            \n",
            "                                                                                                  \n",
            " rescaling_2 (Rescaling)     (None, None, None, 3)        0         ['input_2[0][0]']             \n",
            "                                                                                                  \n",
            " normalization_1 (Normaliza  (None, None, None, 3)        0         ['rescaling_2[0][0]']         \n",
            " tion)                                                                                            \n",
            "                                                                                                  \n",
            " stem_conv (Conv2D)          (None, None, None, 32)       864       ['normalization_1[0][0]']     \n",
            "                                                                                                  \n",
            " stem_bn (BatchNormalizatio  (None, None, None, 32)       128       ['stem_conv[0][0]']           \n",
            " n)                                                                                               \n",
            "                                                                                                  \n",
            " stem_activation (Activatio  (None, None, None, 32)       0         ['stem_bn[0][0]']             \n",
            " n)                                                                                               \n",
            "                                                                                                  \n",
            " block1a_project_conv (Conv  (None, None, None, 16)       4608      ['stem_activation[0][0]']     \n",
            " 2D)                                                                                              \n",
            "                                                                                                  \n",
            " block1a_project_bn (BatchN  (None, None, None, 16)       64        ['block1a_project_conv[0][0]']\n",
            " ormalization)                                                                                    \n",
            "                                                                                                  \n",
            " block1a_project_activation  (None, None, None, 16)       0         ['block1a_project_bn[0][0]']  \n",
            "  (Activation)                                                                                    \n",
            "                                                                                                  \n",
            " block2a_expand_conv (Conv2  (None, None, None, 64)       9216      ['block1a_project_activation[0\n",
            " D)                                                                 ][0]']                        \n",
            "                                                                                                  \n",
            " block2a_expand_bn (BatchNo  (None, None, None, 64)       256       ['block2a_expand_conv[0][0]'] \n",
            " rmalization)                                                                                     \n",
            "                                                                                                  \n",
            " block2a_expand_activation   (None, None, None, 64)       0         ['block2a_expand_bn[0][0]']   \n",
            " (Activation)                                                                                     \n",
            "                                                                                                  \n",
            " block2a_project_conv (Conv  (None, None, None, 32)       2048      ['block2a_expand_activation[0]\n",
            " 2D)                                                                [0]']                         \n",
            "                                                                                                  \n",
            " block2a_project_bn (BatchN  (None, None, None, 32)       128       ['block2a_project_conv[0][0]']\n",
            " ormalization)                                                                                    \n",
            "                                                                                                  \n",
            " block2b_expand_conv (Conv2  (None, None, None, 128)      36864     ['block2a_project_bn[0][0]']  \n",
            " D)                                                                                               \n",
            "                                                                                                  \n",
            " block2b_expand_bn (BatchNo  (None, None, None, 128)      512       ['block2b_expand_conv[0][0]'] \n",
            " rmalization)                                                                                     \n",
            "                                                                                                  \n",
            " block2b_expand_activation   (None, None, None, 128)      0         ['block2b_expand_bn[0][0]']   \n",
            " (Activation)                                                                                     \n",
            "                                                                                                  \n",
            " block2b_project_conv (Conv  (None, None, None, 32)       4096      ['block2b_expand_activation[0]\n",
            " 2D)                                                                [0]']                         \n",
            "                                                                                                  \n",
            " block2b_project_bn (BatchN  (None, None, None, 32)       128       ['block2b_project_conv[0][0]']\n",
            " ormalization)                                                                                    \n",
            "                                                                                                  \n",
            " block2b_drop (Dropout)      (None, None, None, 32)       0         ['block2b_project_bn[0][0]']  \n",
            "                                                                                                  \n",
            " block2b_add (Add)           (None, None, None, 32)       0         ['block2b_drop[0][0]',        \n",
            "                                                                     'block2a_project_bn[0][0]']  \n",
            "                                                                                                  \n",
            " block3a_expand_conv (Conv2  (None, None, None, 128)      36864     ['block2b_add[0][0]']         \n",
            " D)                                                                                               \n",
            "                                                                                                  \n",
            " block3a_expand_bn (BatchNo  (None, None, None, 128)      512       ['block3a_expand_conv[0][0]'] \n",
            " rmalization)                                                                                     \n",
            "                                                                                                  \n",
            " block3a_expand_activation   (None, None, None, 128)      0         ['block3a_expand_bn[0][0]']   \n",
            " (Activation)                                                                                     \n",
            "                                                                                                  \n",
            " block3a_project_conv (Conv  (None, None, None, 48)       6144      ['block3a_expand_activation[0]\n",
            " 2D)                                                                [0]']                         \n",
            "                                                                                                  \n",
            " block3a_project_bn (BatchN  (None, None, None, 48)       192       ['block3a_project_conv[0][0]']\n",
            " ormalization)                                                                                    \n",
            "                                                                                                  \n",
            " block3b_expand_conv (Conv2  (None, None, None, 192)      82944     ['block3a_project_bn[0][0]']  \n",
            " D)                                                                                               \n",
            "                                                                                                  \n",
            " block3b_expand_bn (BatchNo  (None, None, None, 192)      768       ['block3b_expand_conv[0][0]'] \n",
            " rmalization)                                                                                     \n",
            "                                                                                                  \n",
            " block3b_expand_activation   (None, None, None, 192)      0         ['block3b_expand_bn[0][0]']   \n",
            " (Activation)                                                                                     \n",
            "                                                                                                  \n",
            " block3b_project_conv (Conv  (None, None, None, 48)       9216      ['block3b_expand_activation[0]\n",
            " 2D)                                                                [0]']                         \n",
            "                                                                                                  \n",
            " block3b_project_bn (BatchN  (None, None, None, 48)       192       ['block3b_project_conv[0][0]']\n",
            " ormalization)                                                                                    \n",
            "                                                                                                  \n",
            " block3b_drop (Dropout)      (None, None, None, 48)       0         ['block3b_project_bn[0][0]']  \n",
            "                                                                                                  \n",
            " block3b_add (Add)           (None, None, None, 48)       0         ['block3b_drop[0][0]',        \n",
            "                                                                     'block3a_project_bn[0][0]']  \n",
            "                                                                                                  \n",
            " block4a_expand_conv (Conv2  (None, None, None, 192)      9216      ['block3b_add[0][0]']         \n",
            " D)                                                                                               \n",
            "                                                                                                  \n",
            " block4a_expand_bn (BatchNo  (None, None, None, 192)      768       ['block4a_expand_conv[0][0]'] \n",
            " rmalization)                                                                                     \n",
            "                                                                                                  \n",
            " block4a_expand_activation   (None, None, None, 192)      0         ['block4a_expand_bn[0][0]']   \n",
            " (Activation)                                                                                     \n",
            "                                                                                                  \n",
            " block4a_dwconv2 (Depthwise  (None, None, None, 192)      1728      ['block4a_expand_activation[0]\n",
            " Conv2D)                                                            [0]']                         \n",
            "                                                                                                  \n",
            " block4a_bn (BatchNormaliza  (None, None, None, 192)      768       ['block4a_dwconv2[0][0]']     \n",
            " tion)                                                                                            \n",
            "                                                                                                  \n",
            " block4a_activation (Activa  (None, None, None, 192)      0         ['block4a_bn[0][0]']          \n",
            " tion)                                                                                            \n",
            "                                                                                                  \n",
            " block4a_se_squeeze (Global  (None, 192)                  0         ['block4a_activation[0][0]']  \n",
            " AveragePooling2D)                                                                                \n",
            "                                                                                                  \n",
            " block4a_se_reshape (Reshap  (None, 1, 1, 192)            0         ['block4a_se_squeeze[0][0]']  \n",
            " e)                                                                                               \n",
            "                                                                                                  \n",
            " block4a_se_reduce (Conv2D)  (None, 1, 1, 12)             2316      ['block4a_se_reshape[0][0]']  \n",
            "                                                                                                  \n",
            " block4a_se_expand (Conv2D)  (None, 1, 1, 192)            2496      ['block4a_se_reduce[0][0]']   \n",
            "                                                                                                  \n",
            " block4a_se_excite (Multipl  (None, None, None, 192)      0         ['block4a_activation[0][0]',  \n",
            " y)                                                                  'block4a_se_expand[0][0]']   \n",
            "                                                                                                  \n",
            " block4a_project_conv (Conv  (None, None, None, 96)       18432     ['block4a_se_excite[0][0]']   \n",
            " 2D)                                                                                              \n",
            "                                                                                                  \n",
            " block4a_project_bn (BatchN  (None, None, None, 96)       384       ['block4a_project_conv[0][0]']\n",
            " ormalization)                                                                                    \n",
            "                                                                                                  \n",
            " block4b_expand_conv (Conv2  (None, None, None, 384)      36864     ['block4a_project_bn[0][0]']  \n",
            " D)                                                                                               \n",
            "                                                                                                  \n",
            " block4b_expand_bn (BatchNo  (None, None, None, 384)      1536      ['block4b_expand_conv[0][0]'] \n",
            " rmalization)                                                                                     \n",
            "                                                                                                  \n",
            " block4b_expand_activation   (None, None, None, 384)      0         ['block4b_expand_bn[0][0]']   \n",
            " (Activation)                                                                                     \n",
            "                                                                                                  \n",
            " block4b_dwconv2 (Depthwise  (None, None, None, 384)      3456      ['block4b_expand_activation[0]\n",
            " Conv2D)                                                            [0]']                         \n",
            "                                                                                                  \n",
            " block4b_bn (BatchNormaliza  (None, None, None, 384)      1536      ['block4b_dwconv2[0][0]']     \n",
            " tion)                                                                                            \n",
            "                                                                                                  \n",
            " block4b_activation (Activa  (None, None, None, 384)      0         ['block4b_bn[0][0]']          \n",
            " tion)                                                                                            \n",
            "                                                                                                  \n",
            " block4b_se_squeeze (Global  (None, 384)                  0         ['block4b_activation[0][0]']  \n",
            " AveragePooling2D)                                                                                \n",
            "                                                                                                  \n",
            " block4b_se_reshape (Reshap  (None, 1, 1, 384)            0         ['block4b_se_squeeze[0][0]']  \n",
            " e)                                                                                               \n",
            "                                                                                                  \n",
            " block4b_se_reduce (Conv2D)  (None, 1, 1, 24)             9240      ['block4b_se_reshape[0][0]']  \n",
            "                                                                                                  \n",
            " block4b_se_expand (Conv2D)  (None, 1, 1, 384)            9600      ['block4b_se_reduce[0][0]']   \n",
            "                                                                                                  \n",
            " block4b_se_excite (Multipl  (None, None, None, 384)      0         ['block4b_activation[0][0]',  \n",
            " y)                                                                  'block4b_se_expand[0][0]']   \n",
            "                                                                                                  \n",
            " block4b_project_conv (Conv  (None, None, None, 96)       36864     ['block4b_se_excite[0][0]']   \n",
            " 2D)                                                                                              \n",
            "                                                                                                  \n",
            " block4b_project_bn (BatchN  (None, None, None, 96)       384       ['block4b_project_conv[0][0]']\n",
            " ormalization)                                                                                    \n",
            "                                                                                                  \n",
            " block4b_drop (Dropout)      (None, None, None, 96)       0         ['block4b_project_bn[0][0]']  \n",
            "                                                                                                  \n",
            " block4b_add (Add)           (None, None, None, 96)       0         ['block4b_drop[0][0]',        \n",
            "                                                                     'block4a_project_bn[0][0]']  \n",
            "                                                                                                  \n",
            " block4c_expand_conv (Conv2  (None, None, None, 384)      36864     ['block4b_add[0][0]']         \n",
            " D)                                                                                               \n",
            "                                                                                                  \n",
            " block4c_expand_bn (BatchNo  (None, None, None, 384)      1536      ['block4c_expand_conv[0][0]'] \n",
            " rmalization)                                                                                     \n",
            "                                                                                                  \n",
            " block4c_expand_activation   (None, None, None, 384)      0         ['block4c_expand_bn[0][0]']   \n",
            " (Activation)                                                                                     \n",
            "                                                                                                  \n",
            " block4c_dwconv2 (Depthwise  (None, None, None, 384)      3456      ['block4c_expand_activation[0]\n",
            " Conv2D)                                                            [0]']                         \n",
            "                                                                                                  \n",
            " block4c_bn (BatchNormaliza  (None, None, None, 384)      1536      ['block4c_dwconv2[0][0]']     \n",
            " tion)                                                                                            \n",
            "                                                                                                  \n",
            " block4c_activation (Activa  (None, None, None, 384)      0         ['block4c_bn[0][0]']          \n",
            " tion)                                                                                            \n",
            "                                                                                                  \n",
            " block4c_se_squeeze (Global  (None, 384)                  0         ['block4c_activation[0][0]']  \n",
            " AveragePooling2D)                                                                                \n",
            "                                                                                                  \n",
            " block4c_se_reshape (Reshap  (None, 1, 1, 384)            0         ['block4c_se_squeeze[0][0]']  \n",
            " e)                                                                                               \n",
            "                                                                                                  \n",
            " block4c_se_reduce (Conv2D)  (None, 1, 1, 24)             9240      ['block4c_se_reshape[0][0]']  \n",
            "                                                                                                  \n",
            " block4c_se_expand (Conv2D)  (None, 1, 1, 384)            9600      ['block4c_se_reduce[0][0]']   \n",
            "                                                                                                  \n",
            " block4c_se_excite (Multipl  (None, None, None, 384)      0         ['block4c_activation[0][0]',  \n",
            " y)                                                                  'block4c_se_expand[0][0]']   \n",
            "                                                                                                  \n",
            " block4c_project_conv (Conv  (None, None, None, 96)       36864     ['block4c_se_excite[0][0]']   \n",
            " 2D)                                                                                              \n",
            "                                                                                                  \n",
            " block4c_project_bn (BatchN  (None, None, None, 96)       384       ['block4c_project_conv[0][0]']\n",
            " ormalization)                                                                                    \n",
            "                                                                                                  \n",
            " block4c_drop (Dropout)      (None, None, None, 96)       0         ['block4c_project_bn[0][0]']  \n",
            "                                                                                                  \n",
            " block4c_add (Add)           (None, None, None, 96)       0         ['block4c_drop[0][0]',        \n",
            "                                                                     'block4b_add[0][0]']         \n",
            "                                                                                                  \n",
            " block5a_expand_conv (Conv2  (None, None, None, 576)      55296     ['block4c_add[0][0]']         \n",
            " D)                                                                                               \n",
            "                                                                                                  \n",
            " block5a_expand_bn (BatchNo  (None, None, None, 576)      2304      ['block5a_expand_conv[0][0]'] \n",
            " rmalization)                                                                                     \n",
            "                                                                                                  \n",
            " block5a_expand_activation   (None, None, None, 576)      0         ['block5a_expand_bn[0][0]']   \n",
            " (Activation)                                                                                     \n",
            "                                                                                                  \n",
            " block5a_dwconv2 (Depthwise  (None, None, None, 576)      5184      ['block5a_expand_activation[0]\n",
            " Conv2D)                                                            [0]']                         \n",
            "                                                                                                  \n",
            " block5a_bn (BatchNormaliza  (None, None, None, 576)      2304      ['block5a_dwconv2[0][0]']     \n",
            " tion)                                                                                            \n",
            "                                                                                                  \n",
            " block5a_activation (Activa  (None, None, None, 576)      0         ['block5a_bn[0][0]']          \n",
            " tion)                                                                                            \n",
            "                                                                                                  \n",
            " block5a_se_squeeze (Global  (None, 576)                  0         ['block5a_activation[0][0]']  \n",
            " AveragePooling2D)                                                                                \n",
            "                                                                                                  \n",
            " block5a_se_reshape (Reshap  (None, 1, 1, 576)            0         ['block5a_se_squeeze[0][0]']  \n",
            " e)                                                                                               \n",
            "                                                                                                  \n",
            " block5a_se_reduce (Conv2D)  (None, 1, 1, 24)             13848     ['block5a_se_reshape[0][0]']  \n",
            "                                                                                                  \n",
            " block5a_se_expand (Conv2D)  (None, 1, 1, 576)            14400     ['block5a_se_reduce[0][0]']   \n",
            "                                                                                                  \n",
            " block5a_se_excite (Multipl  (None, None, None, 576)      0         ['block5a_activation[0][0]',  \n",
            " y)                                                                  'block5a_se_expand[0][0]']   \n",
            "                                                                                                  \n",
            " block5a_project_conv (Conv  (None, None, None, 112)      64512     ['block5a_se_excite[0][0]']   \n",
            " 2D)                                                                                              \n",
            "                                                                                                  \n",
            " block5a_project_bn (BatchN  (None, None, None, 112)      448       ['block5a_project_conv[0][0]']\n",
            " ormalization)                                                                                    \n",
            "                                                                                                  \n",
            " block5b_expand_conv (Conv2  (None, None, None, 672)      75264     ['block5a_project_bn[0][0]']  \n",
            " D)                                                                                               \n",
            "                                                                                                  \n",
            " block5b_expand_bn (BatchNo  (None, None, None, 672)      2688      ['block5b_expand_conv[0][0]'] \n",
            " rmalization)                                                                                     \n",
            "                                                                                                  \n",
            " block5b_expand_activation   (None, None, None, 672)      0         ['block5b_expand_bn[0][0]']   \n",
            " (Activation)                                                                                     \n",
            "                                                                                                  \n",
            " block5b_dwconv2 (Depthwise  (None, None, None, 672)      6048      ['block5b_expand_activation[0]\n",
            " Conv2D)                                                            [0]']                         \n",
            "                                                                                                  \n",
            " block5b_bn (BatchNormaliza  (None, None, None, 672)      2688      ['block5b_dwconv2[0][0]']     \n",
            " tion)                                                                                            \n",
            "                                                                                                  \n",
            " block5b_activation (Activa  (None, None, None, 672)      0         ['block5b_bn[0][0]']          \n",
            " tion)                                                                                            \n",
            "                                                                                                  \n",
            " block5b_se_squeeze (Global  (None, 672)                  0         ['block5b_activation[0][0]']  \n",
            " AveragePooling2D)                                                                                \n",
            "                                                                                                  \n",
            " block5b_se_reshape (Reshap  (None, 1, 1, 672)            0         ['block5b_se_squeeze[0][0]']  \n",
            " e)                                                                                               \n",
            "                                                                                                  \n",
            " block5b_se_reduce (Conv2D)  (None, 1, 1, 28)             18844     ['block5b_se_reshape[0][0]']  \n",
            "                                                                                                  \n",
            " block5b_se_expand (Conv2D)  (None, 1, 1, 672)            19488     ['block5b_se_reduce[0][0]']   \n",
            "                                                                                                  \n",
            " block5b_se_excite (Multipl  (None, None, None, 672)      0         ['block5b_activation[0][0]',  \n",
            " y)                                                                  'block5b_se_expand[0][0]']   \n",
            "                                                                                                  \n",
            " block5b_project_conv (Conv  (None, None, None, 112)      75264     ['block5b_se_excite[0][0]']   \n",
            " 2D)                                                                                              \n",
            "                                                                                                  \n",
            " block5b_project_bn (BatchN  (None, None, None, 112)      448       ['block5b_project_conv[0][0]']\n",
            " ormalization)                                                                                    \n",
            "                                                                                                  \n",
            " block5b_drop (Dropout)      (None, None, None, 112)      0         ['block5b_project_bn[0][0]']  \n",
            "                                                                                                  \n",
            " block5b_add (Add)           (None, None, None, 112)      0         ['block5b_drop[0][0]',        \n",
            "                                                                     'block5a_project_bn[0][0]']  \n",
            "                                                                                                  \n",
            " block5c_expand_conv (Conv2  (None, None, None, 672)      75264     ['block5b_add[0][0]']         \n",
            " D)                                                                                               \n",
            "                                                                                                  \n",
            " block5c_expand_bn (BatchNo  (None, None, None, 672)      2688      ['block5c_expand_conv[0][0]'] \n",
            " rmalization)                                                                                     \n",
            "                                                                                                  \n",
            " block5c_expand_activation   (None, None, None, 672)      0         ['block5c_expand_bn[0][0]']   \n",
            " (Activation)                                                                                     \n",
            "                                                                                                  \n",
            " block5c_dwconv2 (Depthwise  (None, None, None, 672)      6048      ['block5c_expand_activation[0]\n",
            " Conv2D)                                                            [0]']                         \n",
            "                                                                                                  \n",
            " block5c_bn (BatchNormaliza  (None, None, None, 672)      2688      ['block5c_dwconv2[0][0]']     \n",
            " tion)                                                                                            \n",
            "                                                                                                  \n",
            " block5c_activation (Activa  (None, None, None, 672)      0         ['block5c_bn[0][0]']          \n",
            " tion)                                                                                            \n",
            "                                                                                                  \n",
            " block5c_se_squeeze (Global  (None, 672)                  0         ['block5c_activation[0][0]']  \n",
            " AveragePooling2D)                                                                                \n",
            "                                                                                                  \n",
            " block5c_se_reshape (Reshap  (None, 1, 1, 672)            0         ['block5c_se_squeeze[0][0]']  \n",
            " e)                                                                                               \n",
            "                                                                                                  \n",
            " block5c_se_reduce (Conv2D)  (None, 1, 1, 28)             18844     ['block5c_se_reshape[0][0]']  \n",
            "                                                                                                  \n",
            " block5c_se_expand (Conv2D)  (None, 1, 1, 672)            19488     ['block5c_se_reduce[0][0]']   \n",
            "                                                                                                  \n",
            " block5c_se_excite (Multipl  (None, None, None, 672)      0         ['block5c_activation[0][0]',  \n",
            " y)                                                                  'block5c_se_expand[0][0]']   \n",
            "                                                                                                  \n",
            " block5c_project_conv (Conv  (None, None, None, 112)      75264     ['block5c_se_excite[0][0]']   \n",
            " 2D)                                                                                              \n",
            "                                                                                                  \n",
            " block5c_project_bn (BatchN  (None, None, None, 112)      448       ['block5c_project_conv[0][0]']\n",
            " ormalization)                                                                                    \n",
            "                                                                                                  \n",
            " block5c_drop (Dropout)      (None, None, None, 112)      0         ['block5c_project_bn[0][0]']  \n",
            "                                                                                                  \n",
            " block5c_add (Add)           (None, None, None, 112)      0         ['block5c_drop[0][0]',        \n",
            "                                                                     'block5b_add[0][0]']         \n",
            "                                                                                                  \n",
            " block5d_expand_conv (Conv2  (None, None, None, 672)      75264     ['block5c_add[0][0]']         \n",
            " D)                                                                                               \n",
            "                                                                                                  \n",
            " block5d_expand_bn (BatchNo  (None, None, None, 672)      2688      ['block5d_expand_conv[0][0]'] \n",
            " rmalization)                                                                                     \n",
            "                                                                                                  \n",
            " block5d_expand_activation   (None, None, None, 672)      0         ['block5d_expand_bn[0][0]']   \n",
            " (Activation)                                                                                     \n",
            "                                                                                                  \n",
            " block5d_dwconv2 (Depthwise  (None, None, None, 672)      6048      ['block5d_expand_activation[0]\n",
            " Conv2D)                                                            [0]']                         \n",
            "                                                                                                  \n",
            " block5d_bn (BatchNormaliza  (None, None, None, 672)      2688      ['block5d_dwconv2[0][0]']     \n",
            " tion)                                                                                            \n",
            "                                                                                                  \n",
            " block5d_activation (Activa  (None, None, None, 672)      0         ['block5d_bn[0][0]']          \n",
            " tion)                                                                                            \n",
            "                                                                                                  \n",
            " block5d_se_squeeze (Global  (None, 672)                  0         ['block5d_activation[0][0]']  \n",
            " AveragePooling2D)                                                                                \n",
            "                                                                                                  \n",
            " block5d_se_reshape (Reshap  (None, 1, 1, 672)            0         ['block5d_se_squeeze[0][0]']  \n",
            " e)                                                                                               \n",
            "                                                                                                  \n",
            " block5d_se_reduce (Conv2D)  (None, 1, 1, 28)             18844     ['block5d_se_reshape[0][0]']  \n",
            "                                                                                                  \n",
            " block5d_se_expand (Conv2D)  (None, 1, 1, 672)            19488     ['block5d_se_reduce[0][0]']   \n",
            "                                                                                                  \n",
            " block5d_se_excite (Multipl  (None, None, None, 672)      0         ['block5d_activation[0][0]',  \n",
            " y)                                                                  'block5d_se_expand[0][0]']   \n",
            "                                                                                                  \n",
            " block5d_project_conv (Conv  (None, None, None, 112)      75264     ['block5d_se_excite[0][0]']   \n",
            " 2D)                                                                                              \n",
            "                                                                                                  \n",
            " block5d_project_bn (BatchN  (None, None, None, 112)      448       ['block5d_project_conv[0][0]']\n",
            " ormalization)                                                                                    \n",
            "                                                                                                  \n",
            " block5d_drop (Dropout)      (None, None, None, 112)      0         ['block5d_project_bn[0][0]']  \n",
            "                                                                                                  \n",
            " block5d_add (Add)           (None, None, None, 112)      0         ['block5d_drop[0][0]',        \n",
            "                                                                     'block5c_add[0][0]']         \n",
            "                                                                                                  \n",
            " block5e_expand_conv (Conv2  (None, None, None, 672)      75264     ['block5d_add[0][0]']         \n",
            " D)                                                                                               \n",
            "                                                                                                  \n",
            " block5e_expand_bn (BatchNo  (None, None, None, 672)      2688      ['block5e_expand_conv[0][0]'] \n",
            " rmalization)                                                                                     \n",
            "                                                                                                  \n",
            " block5e_expand_activation   (None, None, None, 672)      0         ['block5e_expand_bn[0][0]']   \n",
            " (Activation)                                                                                     \n",
            "                                                                                                  \n",
            " block5e_dwconv2 (Depthwise  (None, None, None, 672)      6048      ['block5e_expand_activation[0]\n",
            " Conv2D)                                                            [0]']                         \n",
            "                                                                                                  \n",
            " block5e_bn (BatchNormaliza  (None, None, None, 672)      2688      ['block5e_dwconv2[0][0]']     \n",
            " tion)                                                                                            \n",
            "                                                                                                  \n",
            " block5e_activation (Activa  (None, None, None, 672)      0         ['block5e_bn[0][0]']          \n",
            " tion)                                                                                            \n",
            "                                                                                                  \n",
            " block5e_se_squeeze (Global  (None, 672)                  0         ['block5e_activation[0][0]']  \n",
            " AveragePooling2D)                                                                                \n",
            "                                                                                                  \n",
            " block5e_se_reshape (Reshap  (None, 1, 1, 672)            0         ['block5e_se_squeeze[0][0]']  \n",
            " e)                                                                                               \n",
            "                                                                                                  \n",
            " block5e_se_reduce (Conv2D)  (None, 1, 1, 28)             18844     ['block5e_se_reshape[0][0]']  \n",
            "                                                                                                  \n",
            " block5e_se_expand (Conv2D)  (None, 1, 1, 672)            19488     ['block5e_se_reduce[0][0]']   \n",
            "                                                                                                  \n",
            " block5e_se_excite (Multipl  (None, None, None, 672)      0         ['block5e_activation[0][0]',  \n",
            " y)                                                                  'block5e_se_expand[0][0]']   \n",
            "                                                                                                  \n",
            " block5e_project_conv (Conv  (None, None, None, 112)      75264     ['block5e_se_excite[0][0]']   \n",
            " 2D)                                                                                              \n",
            "                                                                                                  \n",
            " block5e_project_bn (BatchN  (None, None, None, 112)      448       ['block5e_project_conv[0][0]']\n",
            " ormalization)                                                                                    \n",
            "                                                                                                  \n",
            " block5e_drop (Dropout)      (None, None, None, 112)      0         ['block5e_project_bn[0][0]']  \n",
            "                                                                                                  \n",
            " block5e_add (Add)           (None, None, None, 112)      0         ['block5e_drop[0][0]',        \n",
            "                                                                     'block5d_add[0][0]']         \n",
            "                                                                                                  \n",
            " block6a_expand_conv (Conv2  (None, None, None, 672)      75264     ['block5e_add[0][0]']         \n",
            " D)                                                                                               \n",
            "                                                                                                  \n",
            " block6a_expand_bn (BatchNo  (None, None, None, 672)      2688      ['block6a_expand_conv[0][0]'] \n",
            " rmalization)                                                                                     \n",
            "                                                                                                  \n",
            " block6a_expand_activation   (None, None, None, 672)      0         ['block6a_expand_bn[0][0]']   \n",
            " (Activation)                                                                                     \n",
            "                                                                                                  \n",
            " block6a_dwconv2 (Depthwise  (None, None, None, 672)      6048      ['block6a_expand_activation[0]\n",
            " Conv2D)                                                            [0]']                         \n",
            "                                                                                                  \n",
            " block6a_bn (BatchNormaliza  (None, None, None, 672)      2688      ['block6a_dwconv2[0][0]']     \n",
            " tion)                                                                                            \n",
            "                                                                                                  \n",
            " block6a_activation (Activa  (None, None, None, 672)      0         ['block6a_bn[0][0]']          \n",
            " tion)                                                                                            \n",
            "                                                                                                  \n",
            " block6a_se_squeeze (Global  (None, 672)                  0         ['block6a_activation[0][0]']  \n",
            " AveragePooling2D)                                                                                \n",
            "                                                                                                  \n",
            " block6a_se_reshape (Reshap  (None, 1, 1, 672)            0         ['block6a_se_squeeze[0][0]']  \n",
            " e)                                                                                               \n",
            "                                                                                                  \n",
            " block6a_se_reduce (Conv2D)  (None, 1, 1, 28)             18844     ['block6a_se_reshape[0][0]']  \n",
            "                                                                                                  \n",
            " block6a_se_expand (Conv2D)  (None, 1, 1, 672)            19488     ['block6a_se_reduce[0][0]']   \n",
            "                                                                                                  \n",
            " block6a_se_excite (Multipl  (None, None, None, 672)      0         ['block6a_activation[0][0]',  \n",
            " y)                                                                  'block6a_se_expand[0][0]']   \n",
            "                                                                                                  \n",
            " block6a_project_conv (Conv  (None, None, None, 192)      129024    ['block6a_se_excite[0][0]']   \n",
            " 2D)                                                                                              \n",
            "                                                                                                  \n",
            " block6a_project_bn (BatchN  (None, None, None, 192)      768       ['block6a_project_conv[0][0]']\n",
            " ormalization)                                                                                    \n",
            "                                                                                                  \n",
            " block6b_expand_conv (Conv2  (None, None, None, 1152)     221184    ['block6a_project_bn[0][0]']  \n",
            " D)                                                                                               \n",
            "                                                                                                  \n",
            " block6b_expand_bn (BatchNo  (None, None, None, 1152)     4608      ['block6b_expand_conv[0][0]'] \n",
            " rmalization)                                                                                     \n",
            "                                                                                                  \n",
            " block6b_expand_activation   (None, None, None, 1152)     0         ['block6b_expand_bn[0][0]']   \n",
            " (Activation)                                                                                     \n",
            "                                                                                                  \n",
            " block6b_dwconv2 (Depthwise  (None, None, None, 1152)     10368     ['block6b_expand_activation[0]\n",
            " Conv2D)                                                            [0]']                         \n",
            "                                                                                                  \n",
            " block6b_bn (BatchNormaliza  (None, None, None, 1152)     4608      ['block6b_dwconv2[0][0]']     \n",
            " tion)                                                                                            \n",
            "                                                                                                  \n",
            " block6b_activation (Activa  (None, None, None, 1152)     0         ['block6b_bn[0][0]']          \n",
            " tion)                                                                                            \n",
            "                                                                                                  \n",
            " block6b_se_squeeze (Global  (None, 1152)                 0         ['block6b_activation[0][0]']  \n",
            " AveragePooling2D)                                                                                \n",
            "                                                                                                  \n",
            " block6b_se_reshape (Reshap  (None, 1, 1, 1152)           0         ['block6b_se_squeeze[0][0]']  \n",
            " e)                                                                                               \n",
            "                                                                                                  \n",
            " block6b_se_reduce (Conv2D)  (None, 1, 1, 48)             55344     ['block6b_se_reshape[0][0]']  \n",
            "                                                                                                  \n",
            " block6b_se_expand (Conv2D)  (None, 1, 1, 1152)           56448     ['block6b_se_reduce[0][0]']   \n",
            "                                                                                                  \n",
            " block6b_se_excite (Multipl  (None, None, None, 1152)     0         ['block6b_activation[0][0]',  \n",
            " y)                                                                  'block6b_se_expand[0][0]']   \n",
            "                                                                                                  \n",
            " block6b_project_conv (Conv  (None, None, None, 192)      221184    ['block6b_se_excite[0][0]']   \n",
            " 2D)                                                                                              \n",
            "                                                                                                  \n",
            " block6b_project_bn (BatchN  (None, None, None, 192)      768       ['block6b_project_conv[0][0]']\n",
            " ormalization)                                                                                    \n",
            "                                                                                                  \n",
            " block6b_drop (Dropout)      (None, None, None, 192)      0         ['block6b_project_bn[0][0]']  \n",
            "                                                                                                  \n",
            " block6b_add (Add)           (None, None, None, 192)      0         ['block6b_drop[0][0]',        \n",
            "                                                                     'block6a_project_bn[0][0]']  \n",
            "                                                                                                  \n",
            " block6c_expand_conv (Conv2  (None, None, None, 1152)     221184    ['block6b_add[0][0]']         \n",
            " D)                                                                                               \n",
            "                                                                                                  \n",
            " block6c_expand_bn (BatchNo  (None, None, None, 1152)     4608      ['block6c_expand_conv[0][0]'] \n",
            " rmalization)                                                                                     \n",
            "                                                                                                  \n",
            " block6c_expand_activation   (None, None, None, 1152)     0         ['block6c_expand_bn[0][0]']   \n",
            " (Activation)                                                                                     \n",
            "                                                                                                  \n",
            " block6c_dwconv2 (Depthwise  (None, None, None, 1152)     10368     ['block6c_expand_activation[0]\n",
            " Conv2D)                                                            [0]']                         \n",
            "                                                                                                  \n",
            " block6c_bn (BatchNormaliza  (None, None, None, 1152)     4608      ['block6c_dwconv2[0][0]']     \n",
            " tion)                                                                                            \n",
            "                                                                                                  \n",
            " block6c_activation (Activa  (None, None, None, 1152)     0         ['block6c_bn[0][0]']          \n",
            " tion)                                                                                            \n",
            "                                                                                                  \n",
            " block6c_se_squeeze (Global  (None, 1152)                 0         ['block6c_activation[0][0]']  \n",
            " AveragePooling2D)                                                                                \n",
            "                                                                                                  \n",
            " block6c_se_reshape (Reshap  (None, 1, 1, 1152)           0         ['block6c_se_squeeze[0][0]']  \n",
            " e)                                                                                               \n",
            "                                                                                                  \n",
            " block6c_se_reduce (Conv2D)  (None, 1, 1, 48)             55344     ['block6c_se_reshape[0][0]']  \n",
            "                                                                                                  \n",
            " block6c_se_expand (Conv2D)  (None, 1, 1, 1152)           56448     ['block6c_se_reduce[0][0]']   \n",
            "                                                                                                  \n",
            " block6c_se_excite (Multipl  (None, None, None, 1152)     0         ['block6c_activation[0][0]',  \n",
            " y)                                                                  'block6c_se_expand[0][0]']   \n",
            "                                                                                                  \n",
            " block6c_project_conv (Conv  (None, None, None, 192)      221184    ['block6c_se_excite[0][0]']   \n",
            " 2D)                                                                                              \n",
            "                                                                                                  \n",
            " block6c_project_bn (BatchN  (None, None, None, 192)      768       ['block6c_project_conv[0][0]']\n",
            " ormalization)                                                                                    \n",
            "                                                                                                  \n",
            " block6c_drop (Dropout)      (None, None, None, 192)      0         ['block6c_project_bn[0][0]']  \n",
            "                                                                                                  \n",
            " block6c_add (Add)           (None, None, None, 192)      0         ['block6c_drop[0][0]',        \n",
            "                                                                     'block6b_add[0][0]']         \n",
            "                                                                                                  \n",
            " block6d_expand_conv (Conv2  (None, None, None, 1152)     221184    ['block6c_add[0][0]']         \n",
            " D)                                                                                               \n",
            "                                                                                                  \n",
            " block6d_expand_bn (BatchNo  (None, None, None, 1152)     4608      ['block6d_expand_conv[0][0]'] \n",
            " rmalization)                                                                                     \n",
            "                                                                                                  \n",
            " block6d_expand_activation   (None, None, None, 1152)     0         ['block6d_expand_bn[0][0]']   \n",
            " (Activation)                                                                                     \n",
            "                                                                                                  \n",
            " block6d_dwconv2 (Depthwise  (None, None, None, 1152)     10368     ['block6d_expand_activation[0]\n",
            " Conv2D)                                                            [0]']                         \n",
            "                                                                                                  \n",
            " block6d_bn (BatchNormaliza  (None, None, None, 1152)     4608      ['block6d_dwconv2[0][0]']     \n",
            " tion)                                                                                            \n",
            "                                                                                                  \n",
            " block6d_activation (Activa  (None, None, None, 1152)     0         ['block6d_bn[0][0]']          \n",
            " tion)                                                                                            \n",
            "                                                                                                  \n",
            " block6d_se_squeeze (Global  (None, 1152)                 0         ['block6d_activation[0][0]']  \n",
            " AveragePooling2D)                                                                                \n",
            "                                                                                                  \n",
            " block6d_se_reshape (Reshap  (None, 1, 1, 1152)           0         ['block6d_se_squeeze[0][0]']  \n",
            " e)                                                                                               \n",
            "                                                                                                  \n",
            " block6d_se_reduce (Conv2D)  (None, 1, 1, 48)             55344     ['block6d_se_reshape[0][0]']  \n",
            "                                                                                                  \n",
            " block6d_se_expand (Conv2D)  (None, 1, 1, 1152)           56448     ['block6d_se_reduce[0][0]']   \n",
            "                                                                                                  \n",
            " block6d_se_excite (Multipl  (None, None, None, 1152)     0         ['block6d_activation[0][0]',  \n",
            " y)                                                                  'block6d_se_expand[0][0]']   \n",
            "                                                                                                  \n",
            " block6d_project_conv (Conv  (None, None, None, 192)      221184    ['block6d_se_excite[0][0]']   \n",
            " 2D)                                                                                              \n",
            "                                                                                                  \n",
            " block6d_project_bn (BatchN  (None, None, None, 192)      768       ['block6d_project_conv[0][0]']\n",
            " ormalization)                                                                                    \n",
            "                                                                                                  \n",
            " block6d_drop (Dropout)      (None, None, None, 192)      0         ['block6d_project_bn[0][0]']  \n",
            "                                                                                                  \n",
            " block6d_add (Add)           (None, None, None, 192)      0         ['block6d_drop[0][0]',        \n",
            "                                                                     'block6c_add[0][0]']         \n",
            "                                                                                                  \n",
            " block6e_expand_conv (Conv2  (None, None, None, 1152)     221184    ['block6d_add[0][0]']         \n",
            " D)                                                                                               \n",
            "                                                                                                  \n",
            " block6e_expand_bn (BatchNo  (None, None, None, 1152)     4608      ['block6e_expand_conv[0][0]'] \n",
            " rmalization)                                                                                     \n",
            "                                                                                                  \n",
            " block6e_expand_activation   (None, None, None, 1152)     0         ['block6e_expand_bn[0][0]']   \n",
            " (Activation)                                                                                     \n",
            "                                                                                                  \n",
            " block6e_dwconv2 (Depthwise  (None, None, None, 1152)     10368     ['block6e_expand_activation[0]\n",
            " Conv2D)                                                            [0]']                         \n",
            "                                                                                                  \n",
            " block6e_bn (BatchNormaliza  (None, None, None, 1152)     4608      ['block6e_dwconv2[0][0]']     \n",
            " tion)                                                                                            \n",
            "                                                                                                  \n",
            " block6e_activation (Activa  (None, None, None, 1152)     0         ['block6e_bn[0][0]']          \n",
            " tion)                                                                                            \n",
            "                                                                                                  \n",
            " block6e_se_squeeze (Global  (None, 1152)                 0         ['block6e_activation[0][0]']  \n",
            " AveragePooling2D)                                                                                \n",
            "                                                                                                  \n",
            " block6e_se_reshape (Reshap  (None, 1, 1, 1152)           0         ['block6e_se_squeeze[0][0]']  \n",
            " e)                                                                                               \n",
            "                                                                                                  \n",
            " block6e_se_reduce (Conv2D)  (None, 1, 1, 48)             55344     ['block6e_se_reshape[0][0]']  \n",
            "                                                                                                  \n",
            " block6e_se_expand (Conv2D)  (None, 1, 1, 1152)           56448     ['block6e_se_reduce[0][0]']   \n",
            "                                                                                                  \n",
            " block6e_se_excite (Multipl  (None, None, None, 1152)     0         ['block6e_activation[0][0]',  \n",
            " y)                                                                  'block6e_se_expand[0][0]']   \n",
            "                                                                                                  \n",
            " block6e_project_conv (Conv  (None, None, None, 192)      221184    ['block6e_se_excite[0][0]']   \n",
            " 2D)                                                                                              \n",
            "                                                                                                  \n",
            " block6e_project_bn (BatchN  (None, None, None, 192)      768       ['block6e_project_conv[0][0]']\n",
            " ormalization)                                                                                    \n",
            "                                                                                                  \n",
            " block6e_drop (Dropout)      (None, None, None, 192)      0         ['block6e_project_bn[0][0]']  \n",
            "                                                                                                  \n",
            " block6e_add (Add)           (None, None, None, 192)      0         ['block6e_drop[0][0]',        \n",
            "                                                                     'block6d_add[0][0]']         \n",
            "                                                                                                  \n",
            " block6f_expand_conv (Conv2  (None, None, None, 1152)     221184    ['block6e_add[0][0]']         \n",
            " D)                                                                                               \n",
            "                                                                                                  \n",
            " block6f_expand_bn (BatchNo  (None, None, None, 1152)     4608      ['block6f_expand_conv[0][0]'] \n",
            " rmalization)                                                                                     \n",
            "                                                                                                  \n",
            " block6f_expand_activation   (None, None, None, 1152)     0         ['block6f_expand_bn[0][0]']   \n",
            " (Activation)                                                                                     \n",
            "                                                                                                  \n",
            " block6f_dwconv2 (Depthwise  (None, None, None, 1152)     10368     ['block6f_expand_activation[0]\n",
            " Conv2D)                                                            [0]']                         \n",
            "                                                                                                  \n",
            " block6f_bn (BatchNormaliza  (None, None, None, 1152)     4608      ['block6f_dwconv2[0][0]']     \n",
            " tion)                                                                                            \n",
            "                                                                                                  \n",
            " block6f_activation (Activa  (None, None, None, 1152)     0         ['block6f_bn[0][0]']          \n",
            " tion)                                                                                            \n",
            "                                                                                                  \n",
            " block6f_se_squeeze (Global  (None, 1152)                 0         ['block6f_activation[0][0]']  \n",
            " AveragePooling2D)                                                                                \n",
            "                                                                                                  \n",
            " block6f_se_reshape (Reshap  (None, 1, 1, 1152)           0         ['block6f_se_squeeze[0][0]']  \n",
            " e)                                                                                               \n",
            "                                                                                                  \n",
            " block6f_se_reduce (Conv2D)  (None, 1, 1, 48)             55344     ['block6f_se_reshape[0][0]']  \n",
            "                                                                                                  \n",
            " block6f_se_expand (Conv2D)  (None, 1, 1, 1152)           56448     ['block6f_se_reduce[0][0]']   \n",
            "                                                                                                  \n",
            " block6f_se_excite (Multipl  (None, None, None, 1152)     0         ['block6f_activation[0][0]',  \n",
            " y)                                                                  'block6f_se_expand[0][0]']   \n",
            "                                                                                                  \n",
            " block6f_project_conv (Conv  (None, None, None, 192)      221184    ['block6f_se_excite[0][0]']   \n",
            " 2D)                                                                                              \n",
            "                                                                                                  \n",
            " block6f_project_bn (BatchN  (None, None, None, 192)      768       ['block6f_project_conv[0][0]']\n",
            " ormalization)                                                                                    \n",
            "                                                                                                  \n",
            " block6f_drop (Dropout)      (None, None, None, 192)      0         ['block6f_project_bn[0][0]']  \n",
            "                                                                                                  \n",
            " block6f_add (Add)           (None, None, None, 192)      0         ['block6f_drop[0][0]',        \n",
            "                                                                     'block6e_add[0][0]']         \n",
            "                                                                                                  \n",
            " block6g_expand_conv (Conv2  (None, None, None, 1152)     221184    ['block6f_add[0][0]']         \n",
            " D)                                                                                               \n",
            "                                                                                                  \n",
            " block6g_expand_bn (BatchNo  (None, None, None, 1152)     4608      ['block6g_expand_conv[0][0]'] \n",
            " rmalization)                                                                                     \n",
            "                                                                                                  \n",
            " block6g_expand_activation   (None, None, None, 1152)     0         ['block6g_expand_bn[0][0]']   \n",
            " (Activation)                                                                                     \n",
            "                                                                                                  \n",
            " block6g_dwconv2 (Depthwise  (None, None, None, 1152)     10368     ['block6g_expand_activation[0]\n",
            " Conv2D)                                                            [0]']                         \n",
            "                                                                                                  \n",
            " block6g_bn (BatchNormaliza  (None, None, None, 1152)     4608      ['block6g_dwconv2[0][0]']     \n",
            " tion)                                                                                            \n",
            "                                                                                                  \n",
            " block6g_activation (Activa  (None, None, None, 1152)     0         ['block6g_bn[0][0]']          \n",
            " tion)                                                                                            \n",
            "                                                                                                  \n",
            " block6g_se_squeeze (Global  (None, 1152)                 0         ['block6g_activation[0][0]']  \n",
            " AveragePooling2D)                                                                                \n",
            "                                                                                                  \n",
            " block6g_se_reshape (Reshap  (None, 1, 1, 1152)           0         ['block6g_se_squeeze[0][0]']  \n",
            " e)                                                                                               \n",
            "                                                                                                  \n",
            " block6g_se_reduce (Conv2D)  (None, 1, 1, 48)             55344     ['block6g_se_reshape[0][0]']  \n",
            "                                                                                                  \n",
            " block6g_se_expand (Conv2D)  (None, 1, 1, 1152)           56448     ['block6g_se_reduce[0][0]']   \n",
            "                                                                                                  \n",
            " block6g_se_excite (Multipl  (None, None, None, 1152)     0         ['block6g_activation[0][0]',  \n",
            " y)                                                                  'block6g_se_expand[0][0]']   \n",
            "                                                                                                  \n",
            " block6g_project_conv (Conv  (None, None, None, 192)      221184    ['block6g_se_excite[0][0]']   \n",
            " 2D)                                                                                              \n",
            "                                                                                                  \n",
            " block6g_project_bn (BatchN  (None, None, None, 192)      768       ['block6g_project_conv[0][0]']\n",
            " ormalization)                                                                                    \n",
            "                                                                                                  \n",
            " block6g_drop (Dropout)      (None, None, None, 192)      0         ['block6g_project_bn[0][0]']  \n",
            "                                                                                                  \n",
            " block6g_add (Add)           (None, None, None, 192)      0         ['block6g_drop[0][0]',        \n",
            "                                                                     'block6f_add[0][0]']         \n",
            "                                                                                                  \n",
            " block6h_expand_conv (Conv2  (None, None, None, 1152)     221184    ['block6g_add[0][0]']         \n",
            " D)                                                                                               \n",
            "                                                                                                  \n",
            " block6h_expand_bn (BatchNo  (None, None, None, 1152)     4608      ['block6h_expand_conv[0][0]'] \n",
            " rmalization)                                                                                     \n",
            "                                                                                                  \n",
            " block6h_expand_activation   (None, None, None, 1152)     0         ['block6h_expand_bn[0][0]']   \n",
            " (Activation)                                                                                     \n",
            "                                                                                                  \n",
            " block6h_dwconv2 (Depthwise  (None, None, None, 1152)     10368     ['block6h_expand_activation[0]\n",
            " Conv2D)                                                            [0]']                         \n",
            "                                                                                                  \n",
            " block6h_bn (BatchNormaliza  (None, None, None, 1152)     4608      ['block6h_dwconv2[0][0]']     \n",
            " tion)                                                                                            \n",
            "                                                                                                  \n",
            " block6h_activation (Activa  (None, None, None, 1152)     0         ['block6h_bn[0][0]']          \n",
            " tion)                                                                                            \n",
            "                                                                                                  \n",
            " block6h_se_squeeze (Global  (None, 1152)                 0         ['block6h_activation[0][0]']  \n",
            " AveragePooling2D)                                                                                \n",
            "                                                                                                  \n",
            " block6h_se_reshape (Reshap  (None, 1, 1, 1152)           0         ['block6h_se_squeeze[0][0]']  \n",
            " e)                                                                                               \n",
            "                                                                                                  \n",
            " block6h_se_reduce (Conv2D)  (None, 1, 1, 48)             55344     ['block6h_se_reshape[0][0]']  \n",
            "                                                                                                  \n",
            " block6h_se_expand (Conv2D)  (None, 1, 1, 1152)           56448     ['block6h_se_reduce[0][0]']   \n",
            "                                                                                                  \n",
            " block6h_se_excite (Multipl  (None, None, None, 1152)     0         ['block6h_activation[0][0]',  \n",
            " y)                                                                  'block6h_se_expand[0][0]']   \n",
            "                                                                                                  \n",
            " block6h_project_conv (Conv  (None, None, None, 192)      221184    ['block6h_se_excite[0][0]']   \n",
            " 2D)                                                                                              \n",
            "                                                                                                  \n",
            " block6h_project_bn (BatchN  (None, None, None, 192)      768       ['block6h_project_conv[0][0]']\n",
            " ormalization)                                                                                    \n",
            "                                                                                                  \n",
            " block6h_drop (Dropout)      (None, None, None, 192)      0         ['block6h_project_bn[0][0]']  \n",
            "                                                                                                  \n",
            " block6h_add (Add)           (None, None, None, 192)      0         ['block6h_drop[0][0]',        \n",
            "                                                                     'block6g_add[0][0]']         \n",
            "                                                                                                  \n",
            " top_conv (Conv2D)           (None, None, None, 1280)     245760    ['block6h_add[0][0]']         \n",
            "                                                                                                  \n",
            " top_bn (BatchNormalization  (None, None, None, 1280)     5120      ['top_conv[0][0]']            \n",
            " )                                                                                                \n",
            "                                                                                                  \n",
            " top_activation (Activation  (None, None, None, 1280)     0         ['top_bn[0][0]']              \n",
            " )                                                                                                \n",
            "                                                                                                  \n",
            "==================================================================================================\n",
            "Total params: 5919312 (22.58 MB)\n",
            "Trainable params: 0 (0.00 Byte)\n",
            "Non-trainable params: 5919312 (22.58 MB)\n",
            "__________________________________________________________________________________________________\n"
          ]
        }
      ],
      "source": [
        "#How about we get a summary of the base model?\n",
        "base_model.summary()"
      ]
    },
    {
      "cell_type": "code",
      "execution_count": null,
      "metadata": {
        "colab": {
          "background_save": true
        },
        "id": "oBAEfCqSs8Ch",
        "outputId": "b576978c-2ff3-4fb9-884b-ee87f55996aa"
      },
      "outputs": [
        {
          "name": "stdout",
          "output_type": "stream",
          "text": [
            "Model: \"model\"\n",
            "_________________________________________________________________\n",
            " Layer (type)                Output Shape              Param #   \n",
            "=================================================================\n",
            " Input Layer (InputLayer)    [(None, 224, 224, 3)]     0         \n",
            "                                                                 \n",
            " efficientnetv2-b0 (Functio  (None, None, None, 1280   5919312   \n",
            " nal)                        )                                   \n",
            "                                                                 \n",
            " global_average_pooling_lay  (None, 1280)              0         \n",
            " er (GlobalAveragePooling2D                                      \n",
            " )                                                               \n",
            "                                                                 \n",
            " output_layer (Dense)        (None, 10)                12810     \n",
            "                                                                 \n",
            "=================================================================\n",
            "Total params: 5932122 (22.63 MB)\n",
            "Trainable params: 12810 (50.04 KB)\n",
            "Non-trainable params: 5919312 (22.58 MB)\n",
            "_________________________________________________________________\n"
          ]
        }
      ],
      "source": [
        "#How about a summary of our whole model?\n",
        "model_0.summary()"
      ]
    },
    {
      "cell_type": "code",
      "execution_count": null,
      "metadata": {
        "colab": {
          "background_save": true
        },
        "id": "uvQtKJgVtOmu",
        "outputId": "bd804129-732e-4dad-aca4-1f3e4656f9e8"
      },
      "outputs": [
        {
          "data": {
            "image/png": "[encoded data removed]",
            "text/plain": [
              "<Figure size 640x480 with 1 Axes>"
            ]
          },
          "metadata": {},
          "output_type": "display_data"
        },
        {
          "data": {
            "image/png": "[encoded data removed]",
            "text/plain": [
              "<Figure size 640x480 with 1 Axes>"
            ]
          },
          "metadata": {},
          "output_type": "display_data"
        }
      ],
      "source": [
        "#Check out our model's training curves\n",
        "plot_loss_curves(history_10_percent)"
      ]
    },
    {
      "cell_type": "markdown",
      "metadata": {
        "id": "hm_Yx-a8unr6"
      },
      "source": [
        "## Getting a Feature Vector from a trained model.\n",
        "\n",
        "Let's demonstrate the GLobal Average Pooling Layers ...\n",
        "We have a tensor after our model goes through `base_model` of shape(None,7,7,1280)...\n",
        "\n",
        "But then when it passes through `GlobalAveragePooling2D`,it turns into (None,1280)\n",
        "\n",
        "Lets use similar shape tensor of (1,4,4,3) and then pass it to `GlobalAveragePooling2D`"
      ]
    },
    {
      "cell_type": "code",
      "execution_count": null,
      "metadata": {
        "colab": {
          "background_save": true
        },
        "id": "gBDFYlvdunbH",
        "outputId": "845a29cc-4ee7-4894-8582-32ac23bd55fd"
      },
      "outputs": [
        {
          "name": "stdout",
          "output_type": "stream",
          "text": [
            "Random input tensor:\n",
            "[[[[-1.1012203   1.5457517   0.383644  ]\n",
            "   [-0.87965786 -1.2246722  -0.9811211 ]\n",
            "   [ 0.08780783 -0.20326038 -0.5581562 ]\n",
            "   [-0.72054404 -0.6259924  -0.71502596]]\n",
            "\n",
            "  [[-0.34835446 -0.33646983  0.18257578]\n",
            "   [ 1.1085953   1.2796587  -0.02147584]\n",
            "   [-0.31968883  0.37332553  0.25279108]\n",
            "   [ 0.6437664   2.146308   -0.82514983]]\n",
            "\n",
            "  [[-0.9041368   1.3948786   1.2248751 ]\n",
            "   [ 0.0586496  -0.49213138 -0.81997806]\n",
            "   [-0.18526012 -0.39277685 -0.6585226 ]\n",
            "   [-0.9833388   0.38883775 -1.0372448 ]]\n",
            "\n",
            "  [[-1.5600569  -0.15791255 -0.3566943 ]\n",
            "   [-0.20044029  1.613107    0.6796728 ]\n",
            "   [ 0.08133233  1.3380764   1.1848053 ]\n",
            "   [-0.35381562 -0.10400175 -0.75114644]]]]\n",
            "\n",
            "2D Global Average Pooled Random Tensor:\n",
            "[[-0.3485227   0.40892038 -0.17600942]]\n",
            "\n",
            "Shape of Input Tensor:(1, 4, 4, 3)\n",
            "Shape of Global Average Pooled Tensor:(1, 3)\n"
          ]
        }
      ],
      "source": [
        "#Set the random seed\n",
        "tf.random.set_seed(1)\n",
        "\n",
        "#Define the input shape\n",
        "input_shape=(1,4,4,3)\n",
        "\n",
        "# Create a random Tensor\n",
        "input_tensor=tf.random.normal(input_shape)\n",
        "print(f\"Random input tensor:\\n{input_tensor}\\n\")\n",
        "\n",
        "#pass the random tensor through a global average pooling 2d layer\n",
        "global_average_pooled_tensor=tf.keras.layers.GlobalAveragePooling2D()(input_tensor)\n",
        "print(f\"2D Global Average Pooled Random Tensor:\\n{global_average_pooled_tensor}\\n\")\n",
        "\n",
        "#Check the shape of different tensors\n",
        "print(f\"Shape of Input Tensor:{input_tensor.shape}\")\n",
        "print(f\"Shape of Global Average Pooled Tensor:{global_average_pooled_tensor.shape}\")"
      ]
    },
    {
      "cell_type": "code",
      "execution_count": null,
      "metadata": {
        "colab": {
          "background_save": true
        },
        "id": "FGynu_EutuLC",
        "outputId": "4e9cd25f-94d4-4aed-caa9-aea1815f5c32"
      },
      "outputs": [
        {
          "name": "stdout",
          "output_type": "stream",
          "text": [
            "tf.Tensor(\n",
            "[[ 0.27605847 -1.0284837  -0.22453624 -0.68718743]\n",
            " [-0.16741617  0.78892606  0.10214259  0.6549749 ]\n",
            " [ 0.5718723  -0.41781995 -0.41218653 -0.5439153 ]\n",
            " [-0.69155455  0.6974465   0.8680713  -0.40298796]], shape=(4, 4), dtype=float32)\n",
            "tf.Tensor([[-0.00276     0.01001721  0.08337278 -0.24477899]], shape=(1, 4), dtype=float32)\n",
            "tf.Tensor(\n",
            "[[-0.6534036  -0.12704332 -0.46766478]\n",
            " [ 0.2710796   0.8657056  -0.1028147 ]\n",
            " [-0.5035215   0.22470205 -0.3227176 ]\n",
            " [-0.5082451   0.67231727  0.18915933]], shape=(4, 3), dtype=float32)\n",
            "tf.Tensor([[-0.3485227   0.40892038 -0.17600942]], shape=(1, 3), dtype=float32)\n"
          ]
        }
      ],
      "source": [
        "#Lets replicate the GlobalAveragePooling2D layer\n",
        "print(tf.reduce_mean(input_tensor,axis=[0,3]))\n",
        "print(tf.reduce_mean(input_tensor,axis=[1,3]))\n",
        "print(tf.reduce_mean(input_tensor,axis=[0,2]))\n",
        "print(tf.reduce_mean(input_tensor,axis=[1,2]))"
      ]
    },
    {
      "cell_type": "markdown",
      "metadata": {
        "id": "Pn7PN4bV1W5H"
      },
      "source": [
        ">  ⚒ **Practice:** Try do the same with the above two cells but this time use `GlobalMaxPool2D` and see what happens...\n"
      ]
    },
    {
      "cell_type": "code",
      "execution_count": null,
      "metadata": {
        "colab": {
          "background_save": true
        },
        "id": "77e8KCuBzY1m",
        "outputId": "3e7d122d-0955-4814-8dcb-45bd980bdcf6"
      },
      "outputs": [
        {
          "name": "stdout",
          "output_type": "stream",
          "text": [
            "After GlobalMaxPool2D Shape:\n",
            "(1, 3)\n"
          ]
        }
      ],
      "source": [
        "global_max_pooling_layer=tf.keras.layers.GlobalMaxPool2D()(input_tensor)\n",
        "print(f\"After GlobalMaxPool2D Shape:\\n{global_max_pooling_layer.shape}\")"
      ]
    },
    {
      "cell_type": "markdown",
      "metadata": {
        "id": "BIdev5Rc2Il4"
      },
      "source": [
        "Its also does the same operation like `GlobalAveragePooling2D` converting `4D Tensor` into `2D Tensor`"
      ]
    },
    {
      "cell_type": "markdown",
      "metadata": {
        "id": "YIsfXAApINY9"
      },
      "source": [
        "## Running a series of transfer learning experiments\n",
        "\n",
        "We've seen the incredible results transfer learning can get with only 10% of the training data,but how does it go with 1% of training data.\n",
        "\n",
        "Experiments to find out:\n",
        "1. `model_1`-use feature extraction transfer learning with 1% of the training data with data augmentation\n",
        "2. `model_2` - use feature extraction transfer learning with 10% of the training and data augmentation\n",
        "3. `model_3`- fine tunning transfer learning on 10% of training data wth data augmentation.\n",
        "4. `model_4`- use fine tunning transfer learning on 100% of the training data.\n",
        "\n",
        "> **Note:** Throughout all experiments the same test dataset will used to evaluate our model... this ensure consistency across evaluation metrics."
      ]
    },
    {
      "cell_type": "code",
      "execution_count": null,
      "metadata": {
        "colab": {
          "background_save": true
        },
        "id": "v8uwvmG717NS",
        "outputId": "52b0208f-c205-45a8-aa79-e9bd6fd67d79"
      },
      "outputs": [
        {
          "name": "stdout",
          "output_type": "stream",
          "text": [
            "--2024-07-21 08:26:44--  https://storage.googleapis.com/ztm_tf_course/food_vision/10_food_classes_1_percent.zip\n",
            "Resolving storage.googleapis.com (storage.googleapis.com)... 74.125.23.207, 74.125.203.207, 74.125.204.207, ...\n",
            "Connecting to storage.googleapis.com (storage.googleapis.com)|74.125.23.207|:443... connected.\n",
            "HTTP request sent, awaiting response... 200 OK\n",
            "Length: 133612354 (127M) [application/zip]\n",
            "Saving to: ‘10_food_classes_1_percent.zip’\n",
            "\n",
            "10_food_classes_1_p 100%[===================>] 127.42M  11.7MB/s    in 14s     \n",
            "\n",
            "2024-07-21 08:26:58 (9.31 MB/s) - ‘10_food_classes_1_percent.zip’ saved [133612354/133612354]\n",
            "\n"
          ]
        }
      ],
      "source": [
        "#Download and unzip data\n",
        "!wget https://storage.googleapis.com/ztm_tf_course/food_vision/10_food_classes_1_percent.zip"
      ]
    },
    {
      "cell_type": "code",
      "execution_count": null,
      "metadata": {
        "colab": {
          "background_save": true
        },
        "id": "HqH4j5nCTKs0"
      },
      "outputs": [],
      "source": [
        "unzip_data('10_food_classes_1_percent.zip')"
      ]
    },
    {
      "cell_type": "code",
      "execution_count": null,
      "metadata": {
        "colab": {
          "background_save": true
        },
        "id": "DF-BbaQQSygr"
      },
      "outputs": [],
      "source": [
        "#dir path\n",
        "train_dir_1_percent='10_food_classes_1_percent/train/'\n",
        "test_dir='10_food_classes_1_percent/test/'"
      ]
    },
    {
      "cell_type": "code",
      "execution_count": null,
      "metadata": {
        "colab": {
          "background_save": true
        },
        "id": "A4z4QycuS-WS",
        "outputId": "9d5a7dc9-a0a1-41de-b771-50327cfcf0a1"
      },
      "outputs": [
        {
          "name": "stdout",
          "output_type": "stream",
          "text": [
            "Found 70 files belonging to 10 classes.\n",
            "Found 2500 files belonging to 10 classes.\n"
          ]
        }
      ],
      "source": [
        "from tensorflow.keras.preprocessing import image_dataset_from_directory\n",
        "\n",
        "train_data_1_percent=image_dataset_from_directory(directory=train_dir_1_percent,\n",
        "                                                  image_size=(224,224),\n",
        "                                                  batch_size=32,\n",
        "                                                  label_mode='categorical')\n",
        "\n",
        "test_data=image_dataset_from_directory(directory=test_dir,\n",
        "                                                  image_size=(224,224),\n",
        "                                                  batch_size=32,\n",
        "                                                  label_mode='categorical')"
      ]
    },
    {
      "cell_type": "code",
      "execution_count": null,
      "metadata": {
        "colab": {
          "background_save": true
        },
        "id": "3cWNbVtqTmge",
        "outputId": "98fedd3c-3d7c-4e20-a860-9b7afa36bf97"
      },
      "outputs": [
        {
          "name": "stdout",
          "output_type": "stream",
          "text": [
            "There are 2 directories and 0 images in '10_food_classes_1_percent'.\n",
            "There are 10 directories and 0 images in '10_food_classes_1_percent/train'.\n",
            "There are 0 directories and 7 images in '10_food_classes_1_percent/train/grilled_salmon'.\n",
            "There are 0 directories and 7 images in '10_food_classes_1_percent/train/ice_cream'.\n",
            "There are 0 directories and 7 images in '10_food_classes_1_percent/train/chicken_curry'.\n",
            "There are 0 directories and 7 images in '10_food_classes_1_percent/train/steak'.\n",
            "There are 0 directories and 7 images in '10_food_classes_1_percent/train/hamburger'.\n",
            "There are 0 directories and 7 images in '10_food_classes_1_percent/train/sushi'.\n",
            "There are 0 directories and 7 images in '10_food_classes_1_percent/train/chicken_wings'.\n",
            "There are 0 directories and 7 images in '10_food_classes_1_percent/train/fried_rice'.\n",
            "There are 0 directories and 7 images in '10_food_classes_1_percent/train/ramen'.\n",
            "There are 0 directories and 7 images in '10_food_classes_1_percent/train/pizza'.\n",
            "There are 10 directories and 0 images in '10_food_classes_1_percent/test'.\n",
            "There are 0 directories and 250 images in '10_food_classes_1_percent/test/grilled_salmon'.\n",
            "There are 0 directories and 250 images in '10_food_classes_1_percent/test/ice_cream'.\n",
            "There are 0 directories and 250 images in '10_food_classes_1_percent/test/chicken_curry'.\n",
            "There are 0 directories and 250 images in '10_food_classes_1_percent/test/steak'.\n",
            "There are 0 directories and 250 images in '10_food_classes_1_percent/test/hamburger'.\n",
            "There are 0 directories and 250 images in '10_food_classes_1_percent/test/sushi'.\n",
            "There are 0 directories and 250 images in '10_food_classes_1_percent/test/chicken_wings'.\n",
            "There are 0 directories and 250 images in '10_food_classes_1_percent/test/fried_rice'.\n",
            "There are 0 directories and 250 images in '10_food_classes_1_percent/test/ramen'.\n",
            "There are 0 directories and 250 images in '10_food_classes_1_percent/test/pizza'.\n"
          ]
        }
      ],
      "source": [
        "#How many images are we working with?\n",
        "walk_through_dir('10_food_classes_1_percent')"
      ]
    },
    {
      "cell_type": "code",
      "execution_count": null,
      "metadata": {
        "colab": {
          "background_save": true
        },
        "id": "mpkUsRBvUnjs",
        "outputId": "393ade96-9754-4c5b-dd7b-58dd9ec40ea8"
      },
      "outputs": [
        {
          "data": {
            "text/plain": [
              "3"
            ]
          },
          "execution_count": 35,
          "metadata": {},
          "output_type": "execute_result"
        }
      ],
      "source": [
        "len(train_data_1_percent)"
      ]
    },
    {
      "cell_type": "markdown",
      "metadata": {
        "id": "PH9lsCNGVSfK"
      },
      "source": [
        "## Adding Data augmentation right into the model\n",
        "\n",
        "To add data augmentation right into our models,we can use the layers inside:\n",
        "\n",
        "* `tf.keras.experimental.preprocessing`\n",
        "\n",
        "\n",
        "We can see the advantage of using this within the tensorflow Data Augmentation:[link](https://www.tensorflow.org/tutorials/images/data_augmentation)\n",
        "\n",
        "Off the top our of heads,after reading the docs the benfits of using data augmentation  inside the model.\n",
        "* Preprocessing of images(augmenting them) happens on the CPU (much faster) rather than the CPU.\n",
        "* ImageData Augmentation happens during training, so we can still export our whole model and use it elsewhere.\n",
        "\n"
      ]
    },
    {
      "cell_type": "code",
      "execution_count": null,
      "metadata": {
        "colab": {
          "background_save": true
        },
        "id": "GmFYZoYK9uFg"
      },
      "outputs": [],
      "source": [
        "import tensorflow as tf\n",
        "from tensorflow import keras\n",
        "from tensorflow.keras import layers\n",
        "from tensorflow.keras.layers.experimental import preprocessing\n",
        "\n",
        "#Create data augmentation stage with horizontal,flipping,rotations,zooms,etc.\n",
        "data_augmentation=keras.Sequential([\n",
        "    preprocessing.RandomFlip('horizontal'),\n",
        "    preprocessing.RandomZoom(0.2),\n",
        "    preprocessing.RandomRotation(0.2),\n",
        "    preprocessing.RandomHeight(0.2),\n",
        "    preprocessing.RandomWidth(0.2),\n",
        "    preprocessing.Rescaling(1./255) # keep for models like ResNet50 but efficientNet having rescaing built in\n",
        "],name='data_augmentation')"
      ]
    },
    {
      "cell_type": "markdown",
      "metadata": {
        "id": "TzOEfzNU-6AO"
      },
      "source": [
        "### visualise our data augmentation layer (and see what happens to our data)\n"
      ]
    },
    {
      "cell_type": "code",
      "execution_count": null,
      "metadata": {
        "colab": {
          "background_save": true
        },
        "id": "LGq9Hgr6CMvY",
        "outputId": "cff82921-45eb-485b-c200-35c450bcf8ce"
      },
      "outputs": [
        {
          "name": "stdout",
          "output_type": "stream",
          "text": [
            "Target Class:fried_rice\n",
            "target_dir:10_food_classes_1_percent/train/fried_rice\n",
            "Random Image:492857.jpg\n",
            "img_path:10_food_classes_1_percent/train/fried_rice/492857.jpg\n",
            "img_shape(384, 512, 3)\n"
          ]
        },
        {
          "data": {
            "text/plain": [
              "(-0.5, 591.5, 451.5, -0.5)"
            ]
          },
          "execution_count": 37,
          "metadata": {},
          "output_type": "execute_result"
        },
        {
          "data": {
            "image/png": "[encoded data removed]",
            "text/plain": [
              "<Figure size 640x480 with 2 Axes>"
            ]
          },
          "metadata": {},
          "output_type": "display_data"
        }
      ],
      "source": [
        "#View a random image and compare it to its augmentation version\n",
        "import matplotlib.pyplot as plt\n",
        "import matplotlib.image as mpimg\n",
        "import os\n",
        "import random\n",
        "\n",
        "target_class=random.choice(train_data_1_percent.class_names)\n",
        "print(f\"Target Class:{target_class}\")\n",
        "\n",
        "target_dir='10_food_classes_1_percent/train/'+target_class\n",
        "print(f\"target_dir:{target_dir}\")\n",
        "\n",
        "rand_img=random.choice(os.listdir(target_dir))\n",
        "print(f\"Random Image:{rand_img}\")\n",
        "\n",
        "img_path=target_dir+'/'+rand_img\n",
        "print(f\"img_path:{img_path}\")\n",
        "\n",
        "img=mpimg.imread(img_path)\n",
        "print(f\"img_shape{img.shape}\")\n",
        "\n",
        "#Now augment the image\n",
        "augmented_img=data_augmentation(img,training=True)\n",
        "\n",
        "\n",
        "#plot the image\n",
        "\n",
        "plt.subplot(1,2,1)\n",
        "plt.title(f\"Original Image:{target_class}\")\n",
        "plt.imshow(img)\n",
        "plt.axis('off')\n",
        "plt.subplot(1,2,2)\n",
        "plt.title(f\"Augmented Image:{target_class}\")\n",
        "plt.imshow(augmented_img)\n",
        "plt.axis('off')"
      ]
    },
    {
      "cell_type": "markdown",
      "metadata": {
        "id": "PR3q2_rlHiPP"
      },
      "source": [
        "> 🔑**Note** What does data augmentation do? Ans. It artificially increase the diversity in the training data."
      ]
    },
    {
      "cell_type": "markdown",
      "metadata": {
        "id": "4rZobHLWC1OT"
      },
      "source": [
        "## Model 1:Feature Extraction transfer learning 1% of dataset\n"
      ]
    },
    {
      "cell_type": "code",
      "execution_count": null,
      "metadata": {
        "colab": {
          "background_save": true
        },
        "id": "-EYFeDzPIUJK",
        "outputId": "3d505ffa-9f52-486d-e2ce-24d1e010233c"
      },
      "outputs": [
        {
          "name": "stdout",
          "output_type": "stream",
          "text": [
            "Saving TensorBoard log files to: tensorflow_hub/1_percent_feature_extraction/20240721-082705\n",
            "Epoch 1/5\n",
            "3/3 [==============================] - 127s 58s/step - loss: 2.3616 - accuracy: 0.0714 - val_loss: 2.3135 - val_accuracy: 0.1000\n",
            "Epoch 2/5\n",
            "3/3 [==============================] - 145s 72s/step - loss: 2.3270 - accuracy: 0.0857 - val_loss: 2.3371 - val_accuracy: 0.1000\n",
            "Epoch 3/5\n",
            "3/3 [==============================] - 115s 56s/step - loss: 2.3254 - accuracy: 0.1000 - val_loss: 2.3399 - val_accuracy: 0.1000\n",
            "Epoch 4/5\n",
            "3/3 [==============================] - 118s 58s/step - loss: 2.3455 - accuracy: 0.0714 - val_loss: 2.3342 - val_accuracy: 0.1012\n",
            "Epoch 5/5\n",
            "3/3 [==============================] - 117s 57s/step - loss: 2.3206 - accuracy: 0.0714 - val_loss: 2.3251 - val_accuracy: 0.1000\n"
          ]
        }
      ],
      "source": [
        "#Setup input shape and base model,freeze the basemodel layers\n",
        "input_layer=tf.keras.layers.Input(shape=(224,224,3),name='Input_layer')\n",
        "base_model=tf.keras.applications.efficientnet_v2.EfficientNetV2B0(include_top=False)\n",
        "base_model.trainable=False\n",
        "\n",
        "#Add in data augmentation sequential model as a layer\n",
        "x=data_augmentation(input_layer)\n",
        "\n",
        "#Give base_model inputs (after augmentation) and don't train it\n",
        "x=base_model(x,training=False)\n",
        "\n",
        "#Pool output features of Base model\n",
        "x=tf.keras.layers.GlobalAveragePooling2D(name='global_average_pooling_layer')(x)\n",
        "\n",
        "#Put a dense layer on as the output\n",
        "output_layer=tf.keras.layers.Dense(10,activation='softmax',name='output_layer')(x)\n",
        "\n",
        "#Make a model using Inputs and Outputs\n",
        "model_1=tf.keras.Model(input_layer,output_layer)\n",
        "\n",
        "#Compile the model\n",
        "model_1.compile(loss='categorical_crossentropy',\n",
        "                optimizer=Adam(),\n",
        "                metrics=['accuracy'])\n",
        "\n",
        "#Fit the model\n",
        "history_1_percent=model_1.fit(train_data_1_percent,\n",
        "            epochs=5,\n",
        "            steps_per_epoch=len(train_data_1_percent),\n",
        "            validation_data=test_data,\n",
        "            validation_steps=len(test_data),\n",
        "            callbacks=[create_tensorboard_callback(dir_name='tensorflow_hub',\n",
        "                                                   experiment_name='1_percent_feature_extraction')])"
      ]
    },
    {
      "cell_type": "code",
      "execution_count": null,
      "metadata": {
        "colab": {
          "background_save": true
        },
        "id": "6Qh-Ls4WIz3w",
        "outputId": "930e1c61-948d-42d9-f3b0-fcb0ce48312e"
      },
      "outputs": [
        {
          "name": "stdout",
          "output_type": "stream",
          "text": [
            "Model: \"model_1\"\n",
            "_________________________________________________________________\n",
            " Layer (type)                Output Shape              Param #   \n",
            "=================================================================\n",
            " Input_layer (InputLayer)    [(None, 224, 224, 3)]     0         \n",
            "                                                                 \n",
            " data_augmentation (Sequent  (None, None, 3)           0         \n",
            " ial)                                                            \n",
            "                                                                 \n",
            " efficientnetv2-b0 (Functio  (None, None, None, 1280   5919312   \n",
            " nal)                        )                                   \n",
            "                                                                 \n",
            " global_average_pooling_lay  (None, 1280)              0         \n",
            " er (GlobalAveragePooling2D                                      \n",
            " )                                                               \n",
            "                                                                 \n",
            " output_layer (Dense)        (None, 10)                12810     \n",
            "                                                                 \n",
            "=================================================================\n",
            "Total params: 5932122 (22.63 MB)\n",
            "Trainable params: 12810 (50.04 KB)\n",
            "Non-trainable params: 5919312 (22.58 MB)\n",
            "_________________________________________________________________\n"
          ]
        }
      ],
      "source": [
        "model_1.summary()"
      ]
    },
    {
      "cell_type": "code",
      "execution_count": null,
      "metadata": {
        "colab": {
          "background_save": true
        },
        "id": "5qNynnzFOhaD",
        "outputId": "82e24d33-c2f6-4d17-f1b3-ed2fe8939bbe"
      },
      "outputs": [
        {
          "name": "stdout",
          "output_type": "stream",
          "text": [
            "79/79 [==============================] - 111s 1s/step - loss: 2.3251 - accuracy: 0.1000\n"
          ]
        }
      ],
      "source": [
        "#Evaluate on the full dataset\n",
        "results_1_percent=model_1.evaluate(test_data)"
      ]
    },
    {
      "cell_type": "code",
      "execution_count": null,
      "metadata": {
        "colab": {
          "background_save": true
        },
        "id": "Tc93i9POO436",
        "outputId": "73516c29-705c-4ca7-b198-005d10ef2def"
      },
      "outputs": [
        {
          "data": {
            "image/png": "[encoded data removed]",
            "text/plain": [
              "<Figure size 640x480 with 1 Axes>"
            ]
          },
          "metadata": {},
          "output_type": "display_data"
        },
        {
          "data": {
            "image/png": "[encoded data removed]",
            "text/plain": [
              "<Figure size 640x480 with 1 Axes>"
            ]
          },
          "metadata": {},
          "output_type": "display_data"
        }
      ],
      "source": [
        "# how to the 1% of the data and Plot the loss curves\n",
        "plot_loss_curves(history_1_percent)"
      ]
    },
    {
      "cell_type": "markdown",
      "metadata": {
        "id": "8dWJklEpPdFk"
      },
      "source": [
        "## Model_2:Feature extraction transfer learning model with 10% of data and data augmentation"
      ]
    },
    {
      "cell_type": "markdown",
      "metadata": {
        "id": "L81R1x2DSTgH"
      },
      "source": [
        "### 1. BEcome one with the data"
      ]
    },
    {
      "cell_type": "code",
      "execution_count": null,
      "metadata": {
        "colab": {
          "background_save": true
        },
        "id": "MVWor3-wSXsz"
      },
      "outputs": [],
      "source": [
        "#!wget https://storage.googleapis.com/ztm_tf_course/food_vision/10_food_classes_10_percent.zip"
      ]
    },
    {
      "cell_type": "code",
      "execution_count": null,
      "metadata": {
        "colab": {
          "background_save": true
        },
        "id": "AcrgCpFrSrQn"
      },
      "outputs": [],
      "source": [
        "#unzip_data('10_food_classes_10_percent.zip')"
      ]
    },
    {
      "cell_type": "code",
      "execution_count": null,
      "metadata": {
        "colab": {
          "background_save": true
        },
        "id": "a-cX05dBTAES",
        "outputId": "351cd9d6-0375-41b2-c453-8aea3780a588"
      },
      "outputs": [
        {
          "data": {
            "application/vnd.google.colaboratory.intrinsic+json": {
              "type": "string"
            },
            "text/plain": [
              "\"\\n## get the train and test dir\\ntrain_dir_10_percent='10_food_classes_10_percent/train/'\\ntest_dir_10_percent='10_food_classes_10_percent/test/'\\n\\nIMG_SIZE=(224,224)\\n\\ncreating training data\\ntrain_data_10_percent=tf.keras.preprocessing.image_dataset_from_directory(directory=train_dir_10_percent,\\n                                                  image_size=IMG_SIZE,\\n                                                  label_mode='categorical',\\n                                                  )\""
            ]
          },
          "execution_count": 44,
          "metadata": {},
          "output_type": "execute_result"
        }
      ],
      "source": [
        "\"\"\"\n",
        "## get the train and test dir\n",
        "train_dir_10_percent='10_food_classes_10_percent/train/'\n",
        "test_dir_10_percent='10_food_classes_10_percent/test/'\n",
        "\n",
        "IMG_SIZE=(224,224)\n",
        "\n",
        "creating training data\n",
        "train_data_10_percent=tf.keras.preprocessing.image_dataset_from_directory(directory=train_dir_10_percent,\n",
        "                                                  image_size=IMG_SIZE,\n",
        "                                                  label_mode='categorical',\n",
        "                                                  )\"\"\""
      ]
    },
    {
      "cell_type": "code",
      "execution_count": null,
      "metadata": {
        "colab": {
          "background_save": true
        },
        "id": "VM-9Pf-9Uj9P"
      },
      "outputs": [],
      "source": [
        "#Create model 2 with data augmentation layer\n",
        "from tensorflow.keras.layers import GlobalAveragePooling2D\n",
        "from tensorflow.keras import layers\n",
        "from tensorflow.keras.layers import RandomFlip,RandomRotation,RandomHeight,RandomWidth,Rescaling,RandomZoom\n",
        "\n",
        "data_augmentation=tf.keras.Sequential([\n",
        "    RandomFlip('horizontal'),\n",
        "    RandomZoom(0.2),\n",
        "    RandomHeight(0.2),\n",
        "    RandomWidth(0.2),\n",
        "    #Rescaling(1./255), it has inbuilt rescaling in efficientnet\n",
        "    RandomRotation(0.2)\n",
        "],name='data_augmentation_layer')"
      ]
    },
    {
      "cell_type": "code",
      "execution_count": null,
      "metadata": {
        "colab": {
          "background_save": true
        },
        "id": "Wad56n2QQenC"
      },
      "outputs": [],
      "source": [
        "# 1. Create the input layer\n",
        "input_layer=tf.keras.layers.Input(shape=IMG_SIZE+(3,),\n",
        "                                  name='input_layer')\n",
        "\n",
        "# 2. Create a base_model\n",
        "base_model=tf.keras.applications.efficientnet_v2.EfficientNetV2B0(include_top=False)\n",
        "\n",
        "# 3. Data Augmentation layer\n",
        "x=data_augmentation(input_layer) #augment the training images\n",
        "\n",
        "# 4. Combines the base_model with the input layer\n",
        "x=base_model(x,training=False)\n",
        "\n",
        "# 5. Adding the pooling layer\n",
        "x=GlobalAveragePooling2D()(x)\n",
        "\n",
        "# 6.Output layer\n",
        "output_layer=layers.Dense(10,activation='softmax')(x)\n",
        "\n",
        "# 7.Combining the inputs with the output layer\n",
        "model_2=tf.keras.Model(input_layer,output_layer)\n",
        "\n",
        "# 8.Compile the model\n",
        "model_2.compile(loss='categorical_crossentropy',\n",
        "                optimizer=Adam(),\n",
        "                metrics=['accuracy'])"
      ]
    },
    {
      "cell_type": "code",
      "execution_count": null,
      "metadata": {
        "colab": {
          "background_save": true
        },
        "id": "ULSaPZEXRneb",
        "outputId": "e2b1f86d-585b-4df3-ba9f-a745659fe3b2"
      },
      "outputs": [
        {
          "name": "stdout",
          "output_type": "stream",
          "text": [
            "Model: \"model_1\"\n",
            "_________________________________________________________________\n",
            " Layer (type)                Output Shape              Param #   \n",
            "=================================================================\n",
            " Input_layer (InputLayer)    [(None, 224, 224, 3)]     0         \n",
            "                                                                 \n",
            " data_augmentation (Sequent  (None, None, 3)           0         \n",
            " ial)                                                            \n",
            "                                                                 \n",
            " efficientnetv2-b0 (Functio  (None, None, None, 1280   5919312   \n",
            " nal)                        )                                   \n",
            "                                                                 \n",
            " global_average_pooling_lay  (None, 1280)              0         \n",
            " er (GlobalAveragePooling2D                                      \n",
            " )                                                               \n",
            "                                                                 \n",
            " output_layer (Dense)        (None, 10)                12810     \n",
            "                                                                 \n",
            "=================================================================\n",
            "Total params: 5932122 (22.63 MB)\n",
            "Trainable params: 12810 (50.04 KB)\n",
            "Non-trainable params: 5919312 (22.58 MB)\n",
            "_________________________________________________________________\n"
          ]
        }
      ],
      "source": [
        "model_1.summary()"
      ]
    },
    {
      "cell_type": "markdown",
      "metadata": {
        "id": "NeRru774avyr"
      },
      "source": [
        "### Creating a ModelCheckPoint Callback\n",
        "\n",
        "The ModelCheckPoint Callback is function in tensorflow which helps us to saved the training of model. And it let use the training of model for later time when we have limited resources or training takes long time.\n",
        "\n",
        "It saved the models weights."
      ]
    },
    {
      "cell_type": "code",
      "execution_count": null,
      "metadata": {
        "colab": {
          "background_save": true
        },
        "id": "LWmn83UVRpS4"
      },
      "outputs": [],
      "source": [
        "#Set check point path\n",
        "checkpoint_path='10_percent_model_checkpoint_weights/checkpoint.ckpt'\n",
        "\n",
        "#Create a ModelCheckpoint callback that saves the model's weights only\n",
        "checkpoint_callback=tf.keras.callbacks.ModelCheckpoint(filepath=checkpoint_path,\n",
        "                                                       save_weights_only=True,\n",
        "                                                       save_best_only=False,\n",
        "                                                       save_freq='epoch', #Save every epoch\n",
        "                                                       verbose=1)\n"
      ]
    },
    {
      "cell_type": "markdown",
      "metadata": {
        "id": "kXJwqNgEhqlT"
      },
      "source": [
        "### Fit the model 2 passing the Model Checkpoint callback"
      ]
    },
    {
      "cell_type": "code",
      "execution_count": null,
      "metadata": {
        "colab": {
          "background_save": true
        },
        "id": "7blU1ExKhXun",
        "outputId": "b657bf3c-a5e7-435e-9c4d-96ffc7e5fd5a"
      },
      "outputs": [
        {
          "name": "stdout",
          "output_type": "stream",
          "text": [
            "Saving TensorBoard log files to: tensorflow_hub/10_percent_Feature_extraction_with_data_augmentation/20240721-084141\n",
            "Epoch 1/5\n",
            "24/24 [==============================] - ETA: 0s - loss: 2.2428 - accuracy: 0.1760\n",
            "Epoch 1: saving model to 10_percent_model_checkpoint_weights/checkpoint.ckpt\n",
            "24/24 [==============================] - 207s 7s/step - loss: 2.2428 - accuracy: 0.1760 - val_loss: 2.3550 - val_accuracy: 0.2155\n",
            "Epoch 2/5\n",
            "24/24 [==============================] - ETA: 0s - loss: 2.1769 - accuracy: 0.2107\n",
            "Epoch 2: saving model to 10_percent_model_checkpoint_weights/checkpoint.ckpt\n",
            "24/24 [==============================] - 171s 7s/step - loss: 2.1769 - accuracy: 0.2107 - val_loss: 2.1245 - val_accuracy: 0.2056\n",
            "Epoch 3/5\n",
            "24/24 [==============================] - ETA: 0s - loss: 2.2087 - accuracy: 0.1933\n",
            "Epoch 3: saving model to 10_percent_model_checkpoint_weights/checkpoint.ckpt\n",
            "24/24 [==============================] - 181s 8s/step - loss: 2.2087 - accuracy: 0.1933 - val_loss: 2.2538 - val_accuracy: 0.1431\n",
            "Epoch 4/5\n",
            "24/24 [==============================] - ETA: 0s - loss: 2.0002 - accuracy: 0.2893\n",
            "Epoch 4: saving model to 10_percent_model_checkpoint_weights/checkpoint.ckpt\n",
            "24/24 [==============================] - 172s 7s/step - loss: 2.0002 - accuracy: 0.2893 - val_loss: 2.1676 - val_accuracy: 0.3470\n",
            "Epoch 5/5\n",
            "24/24 [==============================] - ETA: 0s - loss: 1.7050 - accuracy: 0.4173\n",
            "Epoch 5: saving model to 10_percent_model_checkpoint_weights/checkpoint.ckpt\n",
            "24/24 [==============================] - 184s 8s/step - loss: 1.7050 - accuracy: 0.4173 - val_loss: 1.6059 - val_accuracy: 0.4490\n"
          ]
        }
      ],
      "source": [
        "# 9.Fit the model\n",
        "history_10_percent_data_aug=model_2.fit(train_data_10_percent,\n",
        "            epochs=5,\n",
        "            steps_per_epoch=len(train_data_10_percent),\n",
        "            validation_steps=int(0.25*len(test_data)),\n",
        "            validation_data=test_data,\n",
        "            callbacks=[create_tensorboard_callback(\n",
        "                dir_name='tensorflow_hub',\n",
        "                experiment_name='10_percent_Feature_extraction_with_data_augmentation'),\n",
        "                       checkpoint_callback\n",
        "                       ])"
      ]
    },
    {
      "cell_type": "code",
      "execution_count": null,
      "metadata": {
        "colab": {
          "background_save": true
        },
        "id": "9_5bTC_Mihbd",
        "outputId": "d2a57b78-43ef-451c-e943-539970f1d8c1"
      },
      "outputs": [
        {
          "name": "stdout",
          "output_type": "stream",
          "text": [
            "79/79 [==============================] - 113s 1s/step - loss: 0.5759 - accuracy: 0.8536\n"
          ]
        },
        {
          "data": {
            "text/plain": [
              "[0.5759175419807434, 0.853600025177002]"
            ]
          },
          "execution_count": 50,
          "metadata": {},
          "output_type": "execute_result"
        }
      ],
      "source": [
        "#What where model_0 results?\n",
        "model_0.evaluate(test_data)"
      ]
    },
    {
      "cell_type": "code",
      "execution_count": null,
      "metadata": {
        "colab": {
          "background_save": true
        },
        "id": "2HSigpRpio_q",
        "outputId": "6fd9500b-3244-40ea-fc02-14474ffabf08"
      },
      "outputs": [
        {
          "name": "stdout",
          "output_type": "stream",
          "text": [
            "79/79 [==============================] - 111s 1s/step - loss: 1.6161 - accuracy: 0.4436\n"
          ]
        }
      ],
      "source": [
        "#Check model_2 results on all test data\n",
        "results_10_percent_data_aug=model_2.evaluate(test_data)"
      ]
    },
    {
      "cell_type": "code",
      "execution_count": null,
      "metadata": {
        "colab": {
          "background_save": true
        },
        "id": "uDDKtSv-i1WB",
        "outputId": "84da6bb8-7aa6-4557-f841-ed285c740e16"
      },
      "outputs": [
        {
          "data": {
            "image/png": "[encoded data removed]",
            "text/plain": [
              "<Figure size 640x480 with 1 Axes>"
            ]
          },
          "metadata": {},
          "output_type": "display_data"
        },
        {
          "data": {
            "image/png": "[encoded data removed]",
            "text/plain": [
              "<Figure size 640x480 with 1 Axes>"
            ]
          },
          "metadata": {},
          "output_type": "display_data"
        }
      ],
      "source": [
        "# plot the model loss curves\n",
        "plot_loss_curves(history_10_percent_data_aug)"
      ]
    },
    {
      "cell_type": "markdown",
      "metadata": {
        "id": "1TfVWku_jCgJ"
      },
      "source": [
        "### Loading in checkpointed weights\n",
        "Loading in checkpointed weights returns a model to a specific checkpoint."
      ]
    },
    {
      "cell_type": "code",
      "execution_count": null,
      "metadata": {
        "colab": {
          "background_save": true
        },
        "id": "UC3xl5THjeO4",
        "outputId": "2e764b09-f6b1-4c86-e086-fae3272c4987"
      },
      "outputs": [
        {
          "data": {
            "text/plain": [
              "<tensorflow.python.checkpoint.checkpoint.CheckpointLoadStatus at 0x7be59eff1d20>"
            ]
          },
          "execution_count": 53,
          "metadata": {},
          "output_type": "execute_result"
        }
      ],
      "source": [
        "#Load in saved model weights and evaluate the model\n",
        "model_2.load_weights(checkpoint_path)"
      ]
    },
    {
      "cell_type": "code",
      "execution_count": null,
      "metadata": {
        "colab": {
          "background_save": true
        },
        "id": "XXPyn0x3kA4f",
        "outputId": "269c0df5-90dd-472a-a914-99c46e1f4b61"
      },
      "outputs": [
        {
          "data": {
            "application/vnd.google.colaboratory.intrinsic+json": {
              "type": "string"
            },
            "text/plain": [
              "'10_percent_model_checkpoint_weights/checkpoint.ckpt'"
            ]
          },
          "execution_count": 54,
          "metadata": {},
          "output_type": "execute_result"
        }
      ],
      "source": [
        "checkpoint_path"
      ]
    },
    {
      "cell_type": "code",
      "execution_count": null,
      "metadata": {
        "colab": {
          "background_save": true
        },
        "id": "ZS4UzhpJkH5F",
        "outputId": "be283a48-8943-43c1-b4f9-f274a9a0d4bf"
      },
      "outputs": [
        {
          "name": "stdout",
          "output_type": "stream",
          "text": [
            "79/79 [==============================] - 112s 1s/step - loss: 1.6161 - accuracy: 0.4436\n"
          ]
        }
      ],
      "source": [
        "#Evaluate the model_2 with loaded weights\n",
        "loaded_weights_model_results=model_2.evaluate(test_data)"
      ]
    },
    {
      "cell_type": "code",
      "execution_count": null,
      "metadata": {
        "colab": {
          "background_save": true
        },
        "id": "0LYirYKekRaP",
        "outputId": "a6707009-89df-4a66-e99c-ecffe38ad04b"
      },
      "outputs": [
        {
          "data": {
            "text/plain": [
              "False"
            ]
          },
          "execution_count": 56,
          "metadata": {},
          "output_type": "execute_result"
        }
      ],
      "source": [
        "#If the results from our previously evaluate model_2 match the loaded weights,everything has worked!\n",
        "results_10_percent_data_aug==loaded_weights_model_results"
      ]
    },
    {
      "cell_type": "code",
      "execution_count": null,
      "metadata": {
        "colab": {
          "background_save": true
        },
        "id": "eSJRRILukoZY",
        "outputId": "6673cf3c-328c-442d-9b1b-1594ce4d6772"
      },
      "outputs": [
        {
          "data": {
            "text/plain": [
              "[1.6161351203918457, 0.44359999895095825]"
            ]
          },
          "execution_count": 57,
          "metadata": {},
          "output_type": "execute_result"
        }
      ],
      "source": [
        "results_10_percent_data_aug"
      ]
    },
    {
      "cell_type": "code",
      "execution_count": null,
      "metadata": {
        "colab": {
          "background_save": true
        },
        "id": "1chmk7Gpk3kx",
        "outputId": "1930b8cf-8759-47d0-a14b-f23b066987d0"
      },
      "outputs": [
        {
          "data": {
            "text/plain": [
              "[1.6161352396011353, 0.44359999895095825]"
            ]
          },
          "execution_count": 58,
          "metadata": {},
          "output_type": "execute_result"
        }
      ],
      "source": [
        "loaded_weights_model_results"
      ]
    },
    {
      "cell_type": "code",
      "execution_count": null,
      "metadata": {
        "colab": {
          "background_save": true
        },
        "id": "Rvw1EsmKk5td",
        "outputId": "35e809b2-b1c0-4f6a-a55f-61ee3c0b70f0"
      },
      "outputs": [
        {
          "data": {
            "text/plain": [
              "array([ True,  True])"
            ]
          },
          "execution_count": 59,
          "metadata": {},
          "output_type": "execute_result"
        }
      ],
      "source": [
        "#Check to see if loaded model results are very close to our previous non-loaded model results\n",
        "import numpy as np\n",
        "np.isclose(np.array(results_10_percent_data_aug),np.array(loaded_weights_model_results))"
      ]
    },
    {
      "cell_type": "code",
      "execution_count": null,
      "metadata": {
        "colab": {
          "background_save": true
        },
        "id": "TYVeC6hIlalH",
        "outputId": "b9ee6e46-21a0-4d14-fab4-feb833ce8d67"
      },
      "outputs": [
        {
          "name": "stdout",
          "output_type": "stream",
          "text": [
            "[1.61613512 0.4436    ] [1.61613524 0.4436    ]\n",
            "[1.61613512 0.4436    ] [1.61613524 0.4436    ]\n"
          ]
        }
      ],
      "source": [
        "#Check the difference between two results\n",
        "print(np.array(results_10_percent_data_aug),np.array(loaded_weights_model_results))\n",
        "print(np.array(results_10_percent_data_aug),np.array(loaded_weights_model_results))"
      ]
    },
    {
      "cell_type": "markdown",
      "metadata": {
        "id": "DRafIybdClpK"
      },
      "source": [
        "### Model 3: Fine Tunning the Model on the 10% of the data\n",
        "\n",
        "> 🔑**Notes**: Fine-tunning usually works best *after* training a feature extraction model for a few epochs with large amounts of custom data."
      ]
    },
    {
      "cell_type": "code",
      "execution_count": null,
      "metadata": {
        "colab": {
          "background_save": true
        },
        "id": "Et1D8cBLmI-H",
        "outputId": "ce5dc340-a6b5-4f85-e229-9f2e5af87605"
      },
      "outputs": [
        {
          "data": {
            "text/plain": [
              "[<keras.src.engine.input_layer.InputLayer at 0x7be596f9af20>,\n",
              " <keras.src.engine.sequential.Sequential at 0x7be596f9a470>,\n",
              " <keras.src.engine.functional.Functional at 0x7be596d8fbe0>,\n",
              " <keras.src.layers.pooling.global_average_pooling2d.GlobalAveragePooling2D at 0x7be596f99f90>,\n",
              " <keras.src.layers.core.dense.Dense at 0x7be596d8de70>]"
            ]
          },
          "execution_count": 61,
          "metadata": {},
          "output_type": "execute_result"
        }
      ],
      "source": [
        "#Layers in loaded model\n",
        "model_2.layers"
      ]
    },
    {
      "cell_type": "code",
      "execution_count": null,
      "metadata": {
        "colab": {
          "background_save": true
        },
        "id": "0WVk1aprEEXy",
        "outputId": "a45281aa-529c-45a1-f160-0d8414e9e653"
      },
      "outputs": [
        {
          "name": "stdout",
          "output_type": "stream",
          "text": [
            "<keras.src.engine.input_layer.InputLayer object at 0x7be596f9af20> True\n",
            "<keras.src.engine.sequential.Sequential object at 0x7be596f9a470> True\n",
            "<keras.src.engine.functional.Functional object at 0x7be596d8fbe0> True\n",
            "<keras.src.layers.pooling.global_average_pooling2d.GlobalAveragePooling2D object at 0x7be596f99f90> True\n",
            "<keras.src.layers.core.dense.Dense object at 0x7be596d8de70> True\n"
          ]
        }
      ],
      "source": [
        "#Are these layers trainable?\n",
        "for layer in model_2.layers:\n",
        "  print(layer,layer.trainable)"
      ]
    },
    {
      "cell_type": "code",
      "execution_count": null,
      "metadata": {
        "colab": {
          "background_save": true
        },
        "id": "a82fhlIIENqf",
        "outputId": "3677ec41-dcb3-487c-d39b-5f4ea0bbc4fb"
      },
      "outputs": [
        {
          "name": "stdout",
          "output_type": "stream",
          "text": [
            "0 <keras.src.engine.input_layer.InputLayer object at 0x7be596f9af20> True\n",
            "1 <keras.src.engine.sequential.Sequential object at 0x7be596f9a470> True\n",
            "2 <keras.src.engine.functional.Functional object at 0x7be596d8fbe0> True\n",
            "3 <keras.src.layers.pooling.global_average_pooling2d.GlobalAveragePooling2D object at 0x7be596f99f90> True\n",
            "4 <keras.src.layers.core.dense.Dense object at 0x7be596d8de70> True\n"
          ]
        }
      ],
      "source": [
        "#What are the layers in our base_model(EfficientNetB0)?\n",
        "for i, layer in enumerate(model_2.layers):\n",
        "  print(i,layer,layer.trainable)"
      ]
    },
    {
      "cell_type": "code",
      "execution_count": null,
      "metadata": {
        "colab": {
          "background_save": true
        },
        "id": "KknkwARkFAL3",
        "outputId": "3dff2ed3-36f5-45a0-faab-e691008c9021"
      },
      "outputs": [
        {
          "name": "stdout",
          "output_type": "stream",
          "text": [
            "243\n"
          ]
        }
      ],
      "source": [
        "#How many trainable variables are in our base model?\n",
        "print(len(model_2.trainable_variables))"
      ]
    },
    {
      "cell_type": "code",
      "execution_count": null,
      "metadata": {
        "colab": {
          "background_save": true
        },
        "id": "-L5w3gunFm0w",
        "outputId": "3741be6d-dfd6-4413-d7f4-d94da48198cd"
      },
      "outputs": [
        {
          "name": "stderr",
          "output_type": "stream",
          "text": [
            "WARNING:absl:`lr` is deprecated in Keras optimizer, please use `learning_rate` or use the legacy optimizer, e.g.,tf.keras.optimizers.legacy.Adam.\n"
          ]
        }
      ],
      "source": [
        "# TO begin fine-tunning,lets start by setting the last 10 layers of our base_model.trainable = True\n",
        "base_model.trainable=True\n",
        "\n",
        "#Freeze all layers except for the last 10\n",
        "for layer in base_model.layers[:-10]:\n",
        "  layer.trainable=False\n",
        "\n",
        "#Recompile (we have to recompile our models every time we make a change)\n",
        "model_2.compile(loss='categorical_crossentropy',\n",
        "                optimizer=Adam(lr=0.0001), #when fine tunning you typically want lower the learning rate by 10x\n",
        "                metrics=['accuracy'])"
      ]
    },
    {
      "cell_type": "markdown",
      "metadata": {
        "id": "ksLo5zoXIfOC"
      },
      "source": [
        "> 🔑**Notes** When using fine tunning its best practice to lower your learning rate by some amount.How much?this is a hyperparameter you can tune.but atleast a good thumb rule is at least 10x(though different sources will claim other values).\n",
        "\n",
        "A good resource for information on the is the ULMFIT paper:[Universal Langauge Model fine tuning for Text Classification](https://arxiv.org/abs/1801.06146)"
      ]
    },
    {
      "cell_type": "code",
      "execution_count": null,
      "metadata": {
        "colab": {
          "background_save": true
        },
        "id": "s5NswTSGGgrG",
        "outputId": "b3e8e407-faab-4a56-bf7d-c432c7508603"
      },
      "outputs": [
        {
          "name": "stdout",
          "output_type": "stream",
          "text": [
            "input_4\n",
            "rescaling_5\n",
            "normalization_3\n",
            "stem_conv\n",
            "stem_bn\n",
            "stem_activation\n",
            "block1a_project_conv\n",
            "block1a_project_bn\n",
            "block1a_project_activation\n",
            "block2a_expand_conv\n",
            "block2a_expand_bn\n",
            "block2a_expand_activation\n",
            "block2a_project_conv\n",
            "block2a_project_bn\n",
            "block2b_expand_conv\n",
            "block2b_expand_bn\n",
            "block2b_expand_activation\n",
            "block2b_project_conv\n",
            "block2b_project_bn\n",
            "block2b_drop\n",
            "block2b_add\n",
            "block3a_expand_conv\n",
            "block3a_expand_bn\n",
            "block3a_expand_activation\n",
            "block3a_project_conv\n",
            "block3a_project_bn\n",
            "block3b_expand_conv\n",
            "block3b_expand_bn\n",
            "block3b_expand_activation\n",
            "block3b_project_conv\n",
            "block3b_project_bn\n",
            "block3b_drop\n",
            "block3b_add\n",
            "block4a_expand_conv\n",
            "block4a_expand_bn\n",
            "block4a_expand_activation\n",
            "block4a_dwconv2\n",
            "block4a_bn\n",
            "block4a_activation\n",
            "block4a_se_squeeze\n",
            "block4a_se_reshape\n",
            "block4a_se_reduce\n",
            "block4a_se_expand\n",
            "block4a_se_excite\n",
            "block4a_project_conv\n",
            "block4a_project_bn\n",
            "block4b_expand_conv\n",
            "block4b_expand_bn\n",
            "block4b_expand_activation\n",
            "block4b_dwconv2\n",
            "block4b_bn\n",
            "block4b_activation\n",
            "block4b_se_squeeze\n",
            "block4b_se_reshape\n",
            "block4b_se_reduce\n",
            "block4b_se_expand\n",
            "block4b_se_excite\n",
            "block4b_project_conv\n",
            "block4b_project_bn\n",
            "block4b_drop\n",
            "block4b_add\n",
            "block4c_expand_conv\n",
            "block4c_expand_bn\n",
            "block4c_expand_activation\n",
            "block4c_dwconv2\n",
            "block4c_bn\n",
            "block4c_activation\n",
            "block4c_se_squeeze\n",
            "block4c_se_reshape\n",
            "block4c_se_reduce\n",
            "block4c_se_expand\n",
            "block4c_se_excite\n",
            "block4c_project_conv\n",
            "block4c_project_bn\n",
            "block4c_drop\n",
            "block4c_add\n",
            "block5a_expand_conv\n",
            "block5a_expand_bn\n",
            "block5a_expand_activation\n",
            "block5a_dwconv2\n",
            "block5a_bn\n",
            "block5a_activation\n",
            "block5a_se_squeeze\n",
            "block5a_se_reshape\n",
            "block5a_se_reduce\n",
            "block5a_se_expand\n",
            "block5a_se_excite\n",
            "block5a_project_conv\n",
            "block5a_project_bn\n",
            "block5b_expand_conv\n",
            "block5b_expand_bn\n",
            "block5b_expand_activation\n",
            "block5b_dwconv2\n",
            "block5b_bn\n",
            "block5b_activation\n",
            "block5b_se_squeeze\n",
            "block5b_se_reshape\n",
            "block5b_se_reduce\n",
            "block5b_se_expand\n",
            "block5b_se_excite\n",
            "block5b_project_conv\n",
            "block5b_project_bn\n",
            "block5b_drop\n",
            "block5b_add\n",
            "block5c_expand_conv\n",
            "block5c_expand_bn\n",
            "block5c_expand_activation\n",
            "block5c_dwconv2\n",
            "block5c_bn\n",
            "block5c_activation\n",
            "block5c_se_squeeze\n",
            "block5c_se_reshape\n",
            "block5c_se_reduce\n",
            "block5c_se_expand\n",
            "block5c_se_excite\n",
            "block5c_project_conv\n",
            "block5c_project_bn\n",
            "block5c_drop\n",
            "block5c_add\n",
            "block5d_expand_conv\n",
            "block5d_expand_bn\n",
            "block5d_expand_activation\n",
            "block5d_dwconv2\n",
            "block5d_bn\n",
            "block5d_activation\n",
            "block5d_se_squeeze\n",
            "block5d_se_reshape\n",
            "block5d_se_reduce\n",
            "block5d_se_expand\n",
            "block5d_se_excite\n",
            "block5d_project_conv\n",
            "block5d_project_bn\n",
            "block5d_drop\n",
            "block5d_add\n",
            "block5e_expand_conv\n",
            "block5e_expand_bn\n",
            "block5e_expand_activation\n",
            "block5e_dwconv2\n",
            "block5e_bn\n",
            "block5e_activation\n",
            "block5e_se_squeeze\n",
            "block5e_se_reshape\n",
            "block5e_se_reduce\n",
            "block5e_se_expand\n",
            "block5e_se_excite\n",
            "block5e_project_conv\n",
            "block5e_project_bn\n",
            "block5e_drop\n",
            "block5e_add\n",
            "block6a_expand_conv\n",
            "block6a_expand_bn\n",
            "block6a_expand_activation\n",
            "block6a_dwconv2\n",
            "block6a_bn\n",
            "block6a_activation\n",
            "block6a_se_squeeze\n",
            "block6a_se_reshape\n",
            "block6a_se_reduce\n",
            "block6a_se_expand\n",
            "block6a_se_excite\n",
            "block6a_project_conv\n",
            "block6a_project_bn\n",
            "block6b_expand_conv\n",
            "block6b_expand_bn\n",
            "block6b_expand_activation\n",
            "block6b_dwconv2\n",
            "block6b_bn\n",
            "block6b_activation\n",
            "block6b_se_squeeze\n",
            "block6b_se_reshape\n",
            "block6b_se_reduce\n",
            "block6b_se_expand\n",
            "block6b_se_excite\n",
            "block6b_project_conv\n",
            "block6b_project_bn\n",
            "block6b_drop\n",
            "block6b_add\n",
            "block6c_expand_conv\n",
            "block6c_expand_bn\n",
            "block6c_expand_activation\n",
            "block6c_dwconv2\n",
            "block6c_bn\n",
            "block6c_activation\n",
            "block6c_se_squeeze\n",
            "block6c_se_reshape\n",
            "block6c_se_reduce\n",
            "block6c_se_expand\n",
            "block6c_se_excite\n",
            "block6c_project_conv\n",
            "block6c_project_bn\n",
            "block6c_drop\n",
            "block6c_add\n",
            "block6d_expand_conv\n",
            "block6d_expand_bn\n",
            "block6d_expand_activation\n",
            "block6d_dwconv2\n",
            "block6d_bn\n",
            "block6d_activation\n",
            "block6d_se_squeeze\n",
            "block6d_se_reshape\n",
            "block6d_se_reduce\n",
            "block6d_se_expand\n",
            "block6d_se_excite\n",
            "block6d_project_conv\n",
            "block6d_project_bn\n",
            "block6d_drop\n",
            "block6d_add\n",
            "block6e_expand_conv\n",
            "block6e_expand_bn\n",
            "block6e_expand_activation\n",
            "block6e_dwconv2\n",
            "block6e_bn\n",
            "block6e_activation\n",
            "block6e_se_squeeze\n",
            "block6e_se_reshape\n",
            "block6e_se_reduce\n",
            "block6e_se_expand\n",
            "block6e_se_excite\n",
            "block6e_project_conv\n",
            "block6e_project_bn\n",
            "block6e_drop\n",
            "block6e_add\n",
            "block6f_expand_conv\n",
            "block6f_expand_bn\n",
            "block6f_expand_activation\n",
            "block6f_dwconv2\n",
            "block6f_bn\n",
            "block6f_activation\n",
            "block6f_se_squeeze\n",
            "block6f_se_reshape\n",
            "block6f_se_reduce\n",
            "block6f_se_expand\n",
            "block6f_se_excite\n",
            "block6f_project_conv\n",
            "block6f_project_bn\n",
            "block6f_drop\n",
            "block6f_add\n",
            "block6g_expand_conv\n",
            "block6g_expand_bn\n",
            "block6g_expand_activation\n",
            "block6g_dwconv2\n",
            "block6g_bn\n",
            "block6g_activation\n",
            "block6g_se_squeeze\n",
            "block6g_se_reshape\n",
            "block6g_se_reduce\n",
            "block6g_se_expand\n",
            "block6g_se_excite\n",
            "block6g_project_conv\n",
            "block6g_project_bn\n",
            "block6g_drop\n",
            "block6g_add\n",
            "block6h_expand_conv\n",
            "block6h_expand_bn\n",
            "block6h_expand_activation\n",
            "block6h_dwconv2\n",
            "block6h_bn\n",
            "block6h_activation\n",
            "block6h_se_squeeze\n",
            "block6h_se_reshape\n"
          ]
        }
      ],
      "source": [
        "for layer in base_model.layers[:-10]:\n",
        "  print(layer.name)"
      ]
    },
    {
      "cell_type": "code",
      "execution_count": null,
      "metadata": {
        "colab": {
          "background_save": true
        },
        "id": "Bm9UxJfUGllP",
        "outputId": "1ee2d30d-9d8e-4ad4-a48d-1c9bc515bbac"
      },
      "outputs": [
        {
          "name": "stdout",
          "output_type": "stream",
          "text": [
            "0 input_4 False\n",
            "1 rescaling_5 False\n",
            "2 normalization_3 False\n",
            "3 stem_conv False\n",
            "4 stem_bn False\n",
            "5 stem_activation False\n",
            "6 block1a_project_conv False\n",
            "7 block1a_project_bn False\n",
            "8 block1a_project_activation False\n",
            "9 block2a_expand_conv False\n",
            "10 block2a_expand_bn False\n",
            "11 block2a_expand_activation False\n",
            "12 block2a_project_conv False\n",
            "13 block2a_project_bn False\n",
            "14 block2b_expand_conv False\n",
            "15 block2b_expand_bn False\n",
            "16 block2b_expand_activation False\n",
            "17 block2b_project_conv False\n",
            "18 block2b_project_bn False\n",
            "19 block2b_drop False\n",
            "20 block2b_add False\n",
            "21 block3a_expand_conv False\n",
            "22 block3a_expand_bn False\n",
            "23 block3a_expand_activation False\n",
            "24 block3a_project_conv False\n",
            "25 block3a_project_bn False\n",
            "26 block3b_expand_conv False\n",
            "27 block3b_expand_bn False\n",
            "28 block3b_expand_activation False\n",
            "29 block3b_project_conv False\n",
            "30 block3b_project_bn False\n",
            "31 block3b_drop False\n",
            "32 block3b_add False\n",
            "33 block4a_expand_conv False\n",
            "34 block4a_expand_bn False\n",
            "35 block4a_expand_activation False\n",
            "36 block4a_dwconv2 False\n",
            "37 block4a_bn False\n",
            "38 block4a_activation False\n",
            "39 block4a_se_squeeze False\n",
            "40 block4a_se_reshape False\n",
            "41 block4a_se_reduce False\n",
            "42 block4a_se_expand False\n",
            "43 block4a_se_excite False\n",
            "44 block4a_project_conv False\n",
            "45 block4a_project_bn False\n",
            "46 block4b_expand_conv False\n",
            "47 block4b_expand_bn False\n",
            "48 block4b_expand_activation False\n",
            "49 block4b_dwconv2 False\n",
            "50 block4b_bn False\n",
            "51 block4b_activation False\n",
            "52 block4b_se_squeeze False\n",
            "53 block4b_se_reshape False\n",
            "54 block4b_se_reduce False\n",
            "55 block4b_se_expand False\n",
            "56 block4b_se_excite False\n",
            "57 block4b_project_conv False\n",
            "58 block4b_project_bn False\n",
            "59 block4b_drop False\n",
            "60 block4b_add False\n",
            "61 block4c_expand_conv False\n",
            "62 block4c_expand_bn False\n",
            "63 block4c_expand_activation False\n",
            "64 block4c_dwconv2 False\n",
            "65 block4c_bn False\n",
            "66 block4c_activation False\n",
            "67 block4c_se_squeeze False\n",
            "68 block4c_se_reshape False\n",
            "69 block4c_se_reduce False\n",
            "70 block4c_se_expand False\n",
            "71 block4c_se_excite False\n",
            "72 block4c_project_conv False\n",
            "73 block4c_project_bn False\n",
            "74 block4c_drop False\n",
            "75 block4c_add False\n",
            "76 block5a_expand_conv False\n",
            "77 block5a_expand_bn False\n",
            "78 block5a_expand_activation False\n",
            "79 block5a_dwconv2 False\n",
            "80 block5a_bn False\n",
            "81 block5a_activation False\n",
            "82 block5a_se_squeeze False\n",
            "83 block5a_se_reshape False\n",
            "84 block5a_se_reduce False\n",
            "85 block5a_se_expand False\n",
            "86 block5a_se_excite False\n",
            "87 block5a_project_conv False\n",
            "88 block5a_project_bn False\n",
            "89 block5b_expand_conv False\n",
            "90 block5b_expand_bn False\n",
            "91 block5b_expand_activation False\n",
            "92 block5b_dwconv2 False\n",
            "93 block5b_bn False\n",
            "94 block5b_activation False\n",
            "95 block5b_se_squeeze False\n",
            "96 block5b_se_reshape False\n",
            "97 block5b_se_reduce False\n",
            "98 block5b_se_expand False\n",
            "99 block5b_se_excite False\n",
            "100 block5b_project_conv False\n",
            "101 block5b_project_bn False\n",
            "102 block5b_drop False\n",
            "103 block5b_add False\n",
            "104 block5c_expand_conv False\n",
            "105 block5c_expand_bn False\n",
            "106 block5c_expand_activation False\n",
            "107 block5c_dwconv2 False\n",
            "108 block5c_bn False\n",
            "109 block5c_activation False\n",
            "110 block5c_se_squeeze False\n",
            "111 block5c_se_reshape False\n",
            "112 block5c_se_reduce False\n",
            "113 block5c_se_expand False\n",
            "114 block5c_se_excite False\n",
            "115 block5c_project_conv False\n",
            "116 block5c_project_bn False\n",
            "117 block5c_drop False\n",
            "118 block5c_add False\n",
            "119 block5d_expand_conv False\n",
            "120 block5d_expand_bn False\n",
            "121 block5d_expand_activation False\n",
            "122 block5d_dwconv2 False\n",
            "123 block5d_bn False\n",
            "124 block5d_activation False\n",
            "125 block5d_se_squeeze False\n",
            "126 block5d_se_reshape False\n",
            "127 block5d_se_reduce False\n",
            "128 block5d_se_expand False\n",
            "129 block5d_se_excite False\n",
            "130 block5d_project_conv False\n",
            "131 block5d_project_bn False\n",
            "132 block5d_drop False\n",
            "133 block5d_add False\n",
            "134 block5e_expand_conv False\n",
            "135 block5e_expand_bn False\n",
            "136 block5e_expand_activation False\n",
            "137 block5e_dwconv2 False\n",
            "138 block5e_bn False\n",
            "139 block5e_activation False\n",
            "140 block5e_se_squeeze False\n",
            "141 block5e_se_reshape False\n",
            "142 block5e_se_reduce False\n",
            "143 block5e_se_expand False\n",
            "144 block5e_se_excite False\n",
            "145 block5e_project_conv False\n",
            "146 block5e_project_bn False\n",
            "147 block5e_drop False\n",
            "148 block5e_add False\n",
            "149 block6a_expand_conv False\n",
            "150 block6a_expand_bn False\n",
            "151 block6a_expand_activation False\n",
            "152 block6a_dwconv2 False\n",
            "153 block6a_bn False\n",
            "154 block6a_activation False\n",
            "155 block6a_se_squeeze False\n",
            "156 block6a_se_reshape False\n",
            "157 block6a_se_reduce False\n",
            "158 block6a_se_expand False\n",
            "159 block6a_se_excite False\n",
            "160 block6a_project_conv False\n",
            "161 block6a_project_bn False\n",
            "162 block6b_expand_conv False\n",
            "163 block6b_expand_bn False\n",
            "164 block6b_expand_activation False\n",
            "165 block6b_dwconv2 False\n",
            "166 block6b_bn False\n",
            "167 block6b_activation False\n",
            "168 block6b_se_squeeze False\n",
            "169 block6b_se_reshape False\n",
            "170 block6b_se_reduce False\n",
            "171 block6b_se_expand False\n",
            "172 block6b_se_excite False\n",
            "173 block6b_project_conv False\n",
            "174 block6b_project_bn False\n",
            "175 block6b_drop False\n",
            "176 block6b_add False\n",
            "177 block6c_expand_conv False\n",
            "178 block6c_expand_bn False\n",
            "179 block6c_expand_activation False\n",
            "180 block6c_dwconv2 False\n",
            "181 block6c_bn False\n",
            "182 block6c_activation False\n",
            "183 block6c_se_squeeze False\n",
            "184 block6c_se_reshape False\n",
            "185 block6c_se_reduce False\n",
            "186 block6c_se_expand False\n",
            "187 block6c_se_excite False\n",
            "188 block6c_project_conv False\n",
            "189 block6c_project_bn False\n",
            "190 block6c_drop False\n",
            "191 block6c_add False\n",
            "192 block6d_expand_conv False\n",
            "193 block6d_expand_bn False\n",
            "194 block6d_expand_activation False\n",
            "195 block6d_dwconv2 False\n",
            "196 block6d_bn False\n",
            "197 block6d_activation False\n",
            "198 block6d_se_squeeze False\n",
            "199 block6d_se_reshape False\n",
            "200 block6d_se_reduce False\n",
            "201 block6d_se_expand False\n",
            "202 block6d_se_excite False\n",
            "203 block6d_project_conv False\n",
            "204 block6d_project_bn False\n",
            "205 block6d_drop False\n",
            "206 block6d_add False\n",
            "207 block6e_expand_conv False\n",
            "208 block6e_expand_bn False\n",
            "209 block6e_expand_activation False\n",
            "210 block6e_dwconv2 False\n",
            "211 block6e_bn False\n",
            "212 block6e_activation False\n",
            "213 block6e_se_squeeze False\n",
            "214 block6e_se_reshape False\n",
            "215 block6e_se_reduce False\n",
            "216 block6e_se_expand False\n",
            "217 block6e_se_excite False\n",
            "218 block6e_project_conv False\n",
            "219 block6e_project_bn False\n",
            "220 block6e_drop False\n",
            "221 block6e_add False\n",
            "222 block6f_expand_conv False\n",
            "223 block6f_expand_bn False\n",
            "224 block6f_expand_activation False\n",
            "225 block6f_dwconv2 False\n",
            "226 block6f_bn False\n",
            "227 block6f_activation False\n",
            "228 block6f_se_squeeze False\n",
            "229 block6f_se_reshape False\n",
            "230 block6f_se_reduce False\n",
            "231 block6f_se_expand False\n",
            "232 block6f_se_excite False\n",
            "233 block6f_project_conv False\n",
            "234 block6f_project_bn False\n",
            "235 block6f_drop False\n",
            "236 block6f_add False\n",
            "237 block6g_expand_conv False\n",
            "238 block6g_expand_bn False\n",
            "239 block6g_expand_activation False\n",
            "240 block6g_dwconv2 False\n",
            "241 block6g_bn False\n",
            "242 block6g_activation False\n",
            "243 block6g_se_squeeze False\n",
            "244 block6g_se_reshape False\n",
            "245 block6g_se_reduce False\n",
            "246 block6g_se_expand False\n",
            "247 block6g_se_excite False\n",
            "248 block6g_project_conv False\n",
            "249 block6g_project_bn False\n",
            "250 block6g_drop False\n",
            "251 block6g_add False\n",
            "252 block6h_expand_conv False\n",
            "253 block6h_expand_bn False\n",
            "254 block6h_expand_activation False\n",
            "255 block6h_dwconv2 False\n",
            "256 block6h_bn False\n",
            "257 block6h_activation False\n",
            "258 block6h_se_squeeze False\n",
            "259 block6h_se_reshape False\n",
            "260 block6h_se_reduce True\n",
            "261 block6h_se_expand True\n",
            "262 block6h_se_excite True\n",
            "263 block6h_project_conv True\n",
            "264 block6h_project_bn True\n",
            "265 block6h_drop True\n",
            "266 block6h_add True\n",
            "267 top_conv True\n",
            "268 top_bn True\n",
            "269 top_activation True\n"
          ]
        }
      ],
      "source": [
        "#Check which layers are tunable(trainable)\n",
        "for layer_number,layer in enumerate(model_2.layers[2].layers):\n",
        "  print(layer_number,layer.name,layer.trainable)"
      ]
    },
    {
      "cell_type": "code",
      "execution_count": null,
      "metadata": {
        "colab": {
          "background_save": true
        },
        "id": "Ozd2EPGLHo8l",
        "outputId": "854c7ae5-b291-4097-cf1b-07679bf55248"
      },
      "outputs": [
        {
          "name": "stdout",
          "output_type": "stream",
          "text": [
            "12\n"
          ]
        }
      ],
      "source": [
        "#Now we've unfrozen some of the layers closer to the top, how many trainable variables are there?\n",
        "print(len(model_2.trainable_variables))"
      ]
    },
    {
      "cell_type": "code",
      "execution_count": null,
      "metadata": {
        "colab": {
          "background_save": true
        },
        "id": "34O0rWdsKybe",
        "outputId": "85e3377d-2d97-4be8-dee3-6a3381934811"
      },
      "outputs": [
        {
          "data": {
            "text/plain": [
              "True"
            ]
          },
          "execution_count": 69,
          "metadata": {},
          "output_type": "execute_result"
        }
      ],
      "source": [
        "model_2.trainable"
      ]
    },
    {
      "cell_type": "code",
      "execution_count": null,
      "metadata": {
        "colab": {
          "background_save": true
        },
        "id": "5R0NIjw69qHT"
      },
      "outputs": [],
      "source": [
        "initial_epochs=5"
      ]
    },
    {
      "cell_type": "code",
      "execution_count": null,
      "metadata": {
        "colab": {
          "background_save": true
        },
        "id": "_S868dLuK1lw",
        "outputId": "a4d8cfee-411e-4f4a-9a74-015def9fb8a8"
      },
      "outputs": [
        {
          "name": "stdout",
          "output_type": "stream",
          "text": [
            "Saving TensorBoard log files to: tensorflow_hub/10_percent_fine_tunning_last_10/20240721-090357\n",
            "Epoch 5/10\n",
            "24/24 [==============================] - 85s 3s/step - loss: 1.2785 - accuracy: 0.5733 - val_loss: 1.3017 - val_accuracy: 0.5477\n",
            "Epoch 6/10\n",
            "24/24 [==============================] - 76s 3s/step - loss: 1.1015 - accuracy: 0.6307 - val_loss: 1.2603 - val_accuracy: 0.5888\n",
            "Epoch 7/10\n",
            "24/24 [==============================] - 83s 4s/step - loss: 1.0158 - accuracy: 0.6627 - val_loss: 1.3569 - val_accuracy: 0.5477\n",
            "Epoch 8/10\n",
            "24/24 [==============================] - 85s 4s/step - loss: 1.0183 - accuracy: 0.6520 - val_loss: 1.1521 - val_accuracy: 0.6217\n",
            "Epoch 9/10\n",
            "24/24 [==============================] - 71s 3s/step - loss: 0.9487 - accuracy: 0.6787 - val_loss: 1.1826 - val_accuracy: 0.6234\n",
            "Epoch 10/10\n",
            "24/24 [==============================] - 85s 4s/step - loss: 0.8782 - accuracy: 0.7013 - val_loss: 1.2567 - val_accuracy: 0.6184\n"
          ]
        }
      ],
      "source": [
        "#Fine tun for another 5 epochs\n",
        "fine_tune_epochs=initial_epochs + 5\n",
        "\n",
        "# Refit the model (same as model_2 except with more trainable layers)\n",
        "history_fine_10_percent_data_aug=model_2.fit(train_data_10_percent,\n",
        "                                             epochs=fine_tune_epochs,\n",
        "                                             validation_data=test_data,\n",
        "                                             validation_steps=int(0.25*len(test_data)),\n",
        "                                             initial_epoch=history_10_percent_data_aug.epoch[-1], # Start training from previous last epoch\n",
        "                                             callbacks=[create_tensorboard_callback(\n",
        "                                                 dir_name='tensorflow_hub',\n",
        "                                                 experiment_name='10_percent_fine_tunning_last_10')])"
      ]
    },
    {
      "cell_type": "code",
      "execution_count": null,
      "metadata": {
        "colab": {
          "background_save": true
        },
        "id": "G95spEe9M7OA",
        "outputId": "bb55bdd6-2fb8-42eb-bdc7-b6974365e761"
      },
      "outputs": [
        {
          "name": "stdout",
          "output_type": "stream",
          "text": [
            "79/79 [==============================] - 111s 1s/step - loss: 1.3124 - accuracy: 0.6016\n"
          ]
        }
      ],
      "source": [
        "# Evaluate the fine-tune model (model_3 which is actually model_2 fine-tune for another 5 epochs)\n",
        "results_fine_tune_10_percent=model_2.evaluate(test_data)"
      ]
    },
    {
      "cell_type": "code",
      "execution_count": null,
      "metadata": {
        "colab": {
          "background_save": true
        },
        "id": "AIx988h2NrSg",
        "outputId": "7aa45a52-6afd-48a8-9389-620e51768cf8"
      },
      "outputs": [
        {
          "data": {
            "text/plain": [
              "[1.6161351203918457, 0.44359999895095825]"
            ]
          },
          "execution_count": 73,
          "metadata": {},
          "output_type": "execute_result"
        }
      ],
      "source": [
        "results_10_percent_data_aug"
      ]
    },
    {
      "cell_type": "code",
      "execution_count": null,
      "metadata": {
        "colab": {
          "background_save": true
        },
        "id": "qMgOr-MLNwFI",
        "outputId": "7aab5177-7dc2-4241-ef04-39b0bee3e520"
      },
      "outputs": [
        {
          "data": {
            "image/png": "[encoded data removed]",
            "text/plain": [
              "<Figure size 640x480 with 1 Axes>"
            ]
          },
          "metadata": {},
          "output_type": "display_data"
        },
        {
          "data": {
            "image/png": "[encoded data removed]",
            "text/plain": [
              "<Figure size 640x480 with 1 Axes>"
            ]
          },
          "metadata": {},
          "output_type": "display_data"
        }
      ],
      "source": [
        "# Check out the loss curves of our fine tune model\n",
        "plot_loss_curves(history_fine_10_percent_data_aug)"
      ]
    },
    {
      "cell_type": "markdown",
      "metadata": {
        "id": "fjdvxnPFOe_P"
      },
      "source": [
        "The `plot_loss_curves` function works great with models which have only been fit once,however,we want something to compare one series of running `fit()` with another (e.g. before and after the fine-tune)."
      ]
    },
    {
      "cell_type": "code",
      "execution_count": null,
      "metadata": {
        "colab": {
          "background_save": true
        },
        "id": "N_IV9kfrOK7D"
      },
      "outputs": [],
      "source": [
        "#Lets create a function to compare training histories\n",
        "def compare_historys(original_history,new_history,initial_epochs=5):\n",
        "  \"\"\"\n",
        "  Compare 2 tensorflow History of a model before and after fine-tunning\n",
        "  \"\"\"\n",
        "  #Get orginal history measurements\n",
        "  acc=original_history.history['accuracy']\n",
        "  loss=original_history.history['loss']\n",
        "\n",
        "  val_acc=original_history.history['val_accuracy']\n",
        "  val_loss=original_history.history['val_loss']\n",
        "\n",
        "  #Combine original history with new history metrics\n",
        "  total_acc=acc+new_history.history['accuracy']\n",
        "  total_loss=loss+new_history.history['loss']\n",
        "\n",
        "  total_val_acc=val_acc+new_history.history['val_accuracy']\n",
        "  total_val_loss=val_loss+new_history.history['val_loss']\n",
        "\n",
        "  #Make aplot\n",
        "  plt.figure(figsize=(10,10))\n",
        "  plt.subplot(2,1,1)\n",
        "  plt.plot(total_acc,label='Training Accuracy')\n",
        "  plt.plot(total_val_acc,label='Validation Accuracy')\n",
        "  plt.plot([initial_epochs-1,initial_epochs-1],plt.ylim(),label='Start Fine Tunning')\n",
        "  plt.legend(loc='upper right')\n",
        "  plt.title(\"Accuracy of Fine-tune Model\")\n",
        "\n",
        "  plt.subplot(2,1,2)\n",
        "  plt.plot(total_loss,label='Training Loss')\n",
        "  plt.plot(total_val_loss,label='Validation Loss')\n",
        "  plt.plot([initial_epochs-1,initial_epochs-1],plt.ylim(),label='Start Fine Tunning')\n",
        "  plt.legend(loc='upper right')\n",
        "  plt.title(\"Loss of Fine-tune Model\")\n",
        "\n",
        "  plt.show()"
      ]
    },
    {
      "cell_type": "code",
      "execution_count": null,
      "metadata": {
        "colab": {
          "background_save": true
        },
        "id": "T2EuNAdqSdB_",
        "outputId": "b7ee09ee-117a-4e00-8bfb-bcca8f59f14e"
      },
      "outputs": [
        {
          "data": {
            "image/png": "[encoded data removed]",
            "text/plain": [
              "<Figure size 1000x1000 with 2 Axes>"
            ]
          },
          "metadata": {},
          "output_type": "display_data"
        }
      ],
      "source": [
        "compare_historys(history_10_percent_data_aug,\n",
        "                history_fine_10_percent_data_aug,\n",
        "                initial_epochs=5)"
      ]
    },
    {
      "cell_type": "code",
      "execution_count": null,
      "metadata": {
        "colab": {
          "background_save": true
        },
        "id": "QuxopyCk4z1M",
        "outputId": "03629157-66c2-4b8f-c1b9-1146f8f15a27"
      },
      "outputs": [
        {
          "name": "stdout",
          "output_type": "stream",
          "text": [
            "--2024-07-21 09:16:53--  https://storage.googleapis.com/ztm_tf_course/food_vision/10_food_classes_all_data.zip\n",
            "Resolving storage.googleapis.com (storage.googleapis.com)... 64.233.189.207, 108.177.97.207, 108.177.125.207, ...\n",
            "Connecting to storage.googleapis.com (storage.googleapis.com)|64.233.189.207|:443... connected.\n",
            "HTTP request sent, awaiting response... 200 OK\n",
            "Length: 519183241 (495M) [application/zip]\n",
            "Saving to: ‘10_food_classes_all_data.zip’\n",
            "\n",
            "10_food_classes_all 100%[===================>] 495.13M  13.2MB/s    in 36s     \n",
            "\n",
            "2024-07-21 09:17:29 (13.7 MB/s) - ‘10_food_classes_all_data.zip’ saved [519183241/519183241]\n",
            "\n"
          ]
        }
      ],
      "source": [
        "#Download and unzip 10 classes of Food101 data with all images\n",
        "!wget https://storage.googleapis.com/ztm_tf_course/food_vision/10_food_classes_all_data.zip"
      ]
    },
    {
      "cell_type": "code",
      "execution_count": null,
      "metadata": {
        "colab": {
          "background_save": true
        },
        "id": "qvpqcgWB77A-"
      },
      "outputs": [],
      "source": [
        "unzip_data(\"10_food_classes_all_data.zip\")"
      ]
    },
    {
      "cell_type": "code",
      "execution_count": null,
      "metadata": {
        "colab": {
          "background_save": true
        },
        "id": "NV3kEpM18P6r"
      },
      "outputs": [],
      "source": [
        "#Setup training and test dir\n",
        "train_dir_all_images='10_food_classes_all_data/train/'\n",
        "test_dir_all_images='10_food_classes_all_data/test/'"
      ]
    },
    {
      "cell_type": "code",
      "execution_count": null,
      "metadata": {
        "colab": {
          "background_save": true
        },
        "id": "1CAnHSRC8eRS"
      },
      "outputs": [],
      "source": [
        "#Loading images into the directory iterators\n",
        "from tensorflow.keras.preprocessing import image_dataset_from_directory"
      ]
    },
    {
      "cell_type": "code",
      "execution_count": null,
      "metadata": {
        "colab": {
          "background_save": true
        },
        "id": "DijIaDpJ8uXW",
        "outputId": "116997f8-03d0-44c8-ffef-4572c96c75f5"
      },
      "outputs": [
        {
          "name": "stdout",
          "output_type": "stream",
          "text": [
            "Found 7500 files belonging to 10 classes.\n",
            "Found 2500 files belonging to 10 classes.\n"
          ]
        }
      ],
      "source": [
        "train_data_100_percent=image_dataset_from_directory(directory=train_dir_all_images,\n",
        "                                                    label_mode='categorical',\n",
        "                                                    image_size=(224,224),\n",
        "                                                    batch_size=32)\n",
        "\n",
        "test_data=image_dataset_from_directory(directory=test_dir_all_images,\n",
        "                                       label_mode='categorical',\n",
        "                                       image_size=(224,224),\n",
        "                                       batch_size=32)"
      ]
    },
    {
      "cell_type": "code",
      "execution_count": null,
      "metadata": {
        "colab": {
          "background_save": true
        },
        "id": "eBe8EezT91K7",
        "outputId": "6b530703-0003-4ff2-e023-491a4639aeec"
      },
      "outputs": [
        {
          "name": "stdout",
          "output_type": "stream",
          "text": [
            "There are 2 directories and 0 images in '10_food_classes_all_data'.\n",
            "There are 10 directories and 0 images in '10_food_classes_all_data/train'.\n",
            "There are 0 directories and 750 images in '10_food_classes_all_data/train/grilled_salmon'.\n",
            "There are 0 directories and 750 images in '10_food_classes_all_data/train/ice_cream'.\n",
            "There are 0 directories and 750 images in '10_food_classes_all_data/train/chicken_curry'.\n",
            "There are 0 directories and 750 images in '10_food_classes_all_data/train/steak'.\n",
            "There are 0 directories and 750 images in '10_food_classes_all_data/train/hamburger'.\n",
            "There are 0 directories and 750 images in '10_food_classes_all_data/train/sushi'.\n",
            "There are 0 directories and 750 images in '10_food_classes_all_data/train/chicken_wings'.\n",
            "There are 0 directories and 750 images in '10_food_classes_all_data/train/fried_rice'.\n",
            "There are 0 directories and 750 images in '10_food_classes_all_data/train/ramen'.\n",
            "There are 0 directories and 750 images in '10_food_classes_all_data/train/pizza'.\n",
            "There are 10 directories and 0 images in '10_food_classes_all_data/test'.\n",
            "There are 0 directories and 250 images in '10_food_classes_all_data/test/grilled_salmon'.\n",
            "There are 0 directories and 250 images in '10_food_classes_all_data/test/ice_cream'.\n",
            "There are 0 directories and 250 images in '10_food_classes_all_data/test/chicken_curry'.\n",
            "There are 0 directories and 250 images in '10_food_classes_all_data/test/steak'.\n",
            "There are 0 directories and 250 images in '10_food_classes_all_data/test/hamburger'.\n",
            "There are 0 directories and 250 images in '10_food_classes_all_data/test/sushi'.\n",
            "There are 0 directories and 250 images in '10_food_classes_all_data/test/chicken_wings'.\n",
            "There are 0 directories and 250 images in '10_food_classes_all_data/test/fried_rice'.\n",
            "There are 0 directories and 250 images in '10_food_classes_all_data/test/ramen'.\n",
            "There are 0 directories and 250 images in '10_food_classes_all_data/test/pizza'.\n"
          ]
        }
      ],
      "source": [
        "#How many images are we working with now?\n",
        "walk_through_dir('10_food_classes_all_data')"
      ]
    },
    {
      "cell_type": "code",
      "execution_count": null,
      "metadata": {
        "colab": {
          "background_save": true
        },
        "id": "hEMFivIa_e8c",
        "outputId": "a1a9e232-7813-4f7c-aa2f-1f55453b74d8"
      },
      "outputs": [
        {
          "data": {
            "text/plain": [
              "(235, 79)"
            ]
          },
          "execution_count": 83,
          "metadata": {},
          "output_type": "execute_result"
        }
      ],
      "source": [
        "len(train_data_100_percent),len(test_data)"
      ]
    },
    {
      "cell_type": "code",
      "execution_count": null,
      "metadata": {
        "colab": {
          "background_save": true
        },
        "id": "TfM6uqkrAzxm",
        "outputId": "81b96157-1b36-4c95-98f4-175f9c8f7813"
      },
      "outputs": [
        {
          "data": {
            "text/plain": [
              "(7520, 2528)"
            ]
          },
          "execution_count": 84,
          "metadata": {},
          "output_type": "execute_result"
        }
      ],
      "source": [
        "235*32,79*32"
      ]
    },
    {
      "cell_type": "markdown",
      "metadata": {
        "id": "TuYP6oEEF0M2"
      },
      "source": [
        "The test dataset we've loaded in is the same as what we've been using for previous experiments(all experiments have used the same test dataset).\n",
        "\n",
        "Let's verify this...."
      ]
    },
    {
      "cell_type": "code",
      "execution_count": null,
      "metadata": {
        "colab": {
          "background_save": true
        },
        "id": "Ecx7sM6XFz9I",
        "outputId": "3388750d-8987-4b44-8f1e-097be25670ed"
      },
      "outputs": [
        {
          "name": "stdout",
          "output_type": "stream",
          "text": [
            "79/79 [==============================] - 112s 1s/step - loss: 1.3124 - accuracy: 0.6016\n"
          ]
        },
        {
          "data": {
            "text/plain": [
              "[1.3124006986618042, 0.6015999913215637]"
            ]
          },
          "execution_count": 85,
          "metadata": {},
          "output_type": "execute_result"
        }
      ],
      "source": [
        "#Evaluate model_2(this is the fine-tuned on 10 percent of data version)\n",
        "model_2.evaluate(test_data)"
      ]
    },
    {
      "cell_type": "code",
      "execution_count": null,
      "metadata": {
        "colab": {
          "background_save": true
        },
        "id": "HC2paWvTEs0-",
        "outputId": "f7618069-7793-4f57-88f3-4af1f23f4b9f"
      },
      "outputs": [
        {
          "data": {
            "text/plain": [
              "[1.312400460243225, 0.6015999913215637]"
            ]
          },
          "execution_count": 86,
          "metadata": {},
          "output_type": "execute_result"
        }
      ],
      "source": [
        "results_fine_tune_10_percent"
      ]
    },
    {
      "cell_type": "markdown",
      "metadata": {
        "id": "x-QPngqdG-cY"
      },
      "source": [
        "To train a fine-tunning model(model_4) we need to revert model_2 back to its feature extraction weights."
      ]
    },
    {
      "cell_type": "code",
      "execution_count": null,
      "metadata": {
        "colab": {
          "background_save": true
        },
        "id": "XjsFudbsGj3q",
        "outputId": "f00cd27d-b594-4304-8dd1-7980bb658042"
      },
      "outputs": [
        {
          "ename": "ValueError",
          "evalue": "Received incompatible tensor with shape (3, 3, 3, 32) when attempting to restore variable with shape (1, 1, 1152, 48) and name Adam/m/block6h_se_reduce/kernel:0.",
          "output_type": "error",
          "traceback": [
            "\u001b[0;31m---------------------------------------------------------------------------\u001b[0m",
            "\u001b[0;31mValueError\u001b[0m                                Traceback (most recent call last)",
            "\u001b[0;32m<ipython-input-87-4c7a51f86421>\u001b[0m in \u001b[0;36m<cell line: 3>\u001b[0;34m()\u001b[0m\n\u001b[1;32m      1\u001b[0m \u001b[0;31m#Load weights from checkpoint ,that way we can fine-tune from the same stage the 10 percent data model was fine-tuned from\u001b[0m\u001b[0;34m\u001b[0m\u001b[0;34m\u001b[0m\u001b[0m\n\u001b[1;32m      2\u001b[0m \u001b[0;31m# the same stage the 10percent data model was fine-tune from\u001b[0m\u001b[0;34m\u001b[0m\u001b[0;34m\u001b[0m\u001b[0m\n\u001b[0;32m----> 3\u001b[0;31m \u001b[0mmodel_2\u001b[0m\u001b[0;34m.\u001b[0m\u001b[0mload_weights\u001b[0m\u001b[0;34m(\u001b[0m\u001b[0mcheckpoint_path\u001b[0m\u001b[0;34m)\u001b[0m\u001b[0;34m\u001b[0m\u001b[0;34m\u001b[0m\u001b[0m\n\u001b[0m",
            "\u001b[0;32m/usr/local/lib/python3.10/dist-packages/keras/src/utils/traceback_utils.py\u001b[0m in \u001b[0;36merror_handler\u001b[0;34m(*args, **kwargs)\u001b[0m\n\u001b[1;32m     68\u001b[0m             \u001b[0;31m# To get the full stack trace, call:\u001b[0m\u001b[0;34m\u001b[0m\u001b[0;34m\u001b[0m\u001b[0m\n\u001b[1;32m     69\u001b[0m             \u001b[0;31m# `tf.debugging.disable_traceback_filtering()`\u001b[0m\u001b[0;34m\u001b[0m\u001b[0;34m\u001b[0m\u001b[0m\n\u001b[0;32m---> 70\u001b[0;31m             \u001b[0;32mraise\u001b[0m \u001b[0me\u001b[0m\u001b[0;34m.\u001b[0m\u001b[0mwith_traceback\u001b[0m\u001b[0;34m(\u001b[0m\u001b[0mfiltered_tb\u001b[0m\u001b[0;34m)\u001b[0m \u001b[0;32mfrom\u001b[0m \u001b[0;32mNone\u001b[0m\u001b[0;34m\u001b[0m\u001b[0;34m\u001b[0m\u001b[0m\n\u001b[0m\u001b[1;32m     71\u001b[0m         \u001b[0;32mfinally\u001b[0m\u001b[0;34m:\u001b[0m\u001b[0;34m\u001b[0m\u001b[0;34m\u001b[0m\u001b[0m\n\u001b[1;32m     72\u001b[0m             \u001b[0;32mdel\u001b[0m \u001b[0mfiltered_tb\u001b[0m\u001b[0;34m\u001b[0m\u001b[0;34m\u001b[0m\u001b[0m\n",
            "\u001b[0;32m/usr/local/lib/python3.10/dist-packages/tensorflow/python/ops/resource_variable_ops.py\u001b[0m in \u001b[0;36m_restore_from_tensors\u001b[0;34m(self, restored_tensors)\u001b[0m\n\u001b[1;32m    783\u001b[0m             self.handle, self.shape, restored_tensor)\n\u001b[1;32m    784\u001b[0m       \u001b[0;32mexcept\u001b[0m \u001b[0mValueError\u001b[0m \u001b[0;32mas\u001b[0m \u001b[0me\u001b[0m\u001b[0;34m:\u001b[0m\u001b[0;34m\u001b[0m\u001b[0;34m\u001b[0m\u001b[0m\n\u001b[0;32m--> 785\u001b[0;31m         raise ValueError(\n\u001b[0m\u001b[1;32m    786\u001b[0m             \u001b[0;34mf\"Received incompatible tensor with shape {restored_tensor.shape} \"\u001b[0m\u001b[0;34m\u001b[0m\u001b[0;34m\u001b[0m\u001b[0m\n\u001b[1;32m    787\u001b[0m             \u001b[0;34mf\"when attempting to restore variable with shape {self.shape} \"\u001b[0m\u001b[0;34m\u001b[0m\u001b[0;34m\u001b[0m\u001b[0m\n",
            "\u001b[0;31mValueError\u001b[0m: Received incompatible tensor with shape (3, 3, 3, 32) when attempting to restore variable with shape (1, 1, 1152, 48) and name Adam/m/block6h_se_reduce/kernel:0."
          ]
        }
      ],
      "source": [
        "#Load weights from checkpoint ,that way we can fine-tune from the same stage the 10 percent data model was fine-tuned from\n",
        "# the same stage the 10percent data model was fine-tune from\n",
        "model_2.load_weights(checkpoint_path)"
      ]
    },
    {
      "cell_type": "code",
      "execution_count": null,
      "metadata": {
        "colab": {
          "background_save": true
        },
        "id": "IqNk78t3Kss0"
      },
      "outputs": [],
      "source": [
        "#Lets evaluate the model_2 now\n",
        "model_2.evaluate(test_data)"
      ]
    },
    {
      "cell_type": "code",
      "execution_count": null,
      "metadata": {
        "colab": {
          "background_save": true
        },
        "id": "uZ-2earOLV59"
      },
      "outputs": [],
      "source": [
        "#Check to see if our model_2 has been reverted back to feature extraction results\n",
        "results_10_percent_data_aug"
      ]
    },
    {
      "cell_type": "markdown",
      "metadata": {
        "id": "RbmbroJcMXmd"
      },
      "source": [
        "Alright, the previous steps might seem quite confusing but all we've done is:\n",
        "\n",
        "1. Trained a feature extraction transfer learning model for 5 epochs on 10% of the data with data augmentation (model_2) and we saved the model's weights using `ModelCheckPoint` callbacks.\n",
        "\n",
        "2. Fine-tune the same model on the same 10% of the data for a further 5 epochs with the top layers of the base model unfrozen(model_3).\n",
        "\n",
        "3. Save the results and training logs each time.\n",
        "4. Reloaded the model from step 1 to do the same steps as step 2 except this time we're going to use all of the data (model_4).\n"
      ]
    },
    {
      "cell_type": "code",
      "execution_count": null,
      "metadata": {
        "colab": {
          "background_save": true
        },
        "id": "KMwEvzekNIVk"
      },
      "outputs": [],
      "source": [
        "#Check which layers are tunable in this whole model\n",
        "for layer_number,layer in enumerate(model_2.layers):\n",
        "  print(layer_number,layer.name,layer.trainable)"
      ]
    },
    {
      "cell_type": "code",
      "execution_count": null,
      "metadata": {
        "colab": {
          "background_save": true
        },
        "id": "mycYbsOtOVzr"
      },
      "outputs": [],
      "source": [
        "# Lets drill into our base_model (efficientnetv2B0) and see what layers are trainable\n",
        "for layer_number,layer in enumerate(base_model.layers):\n",
        "  print(layer_number,layer.name,layer.trainable)"
      ]
    },
    {
      "cell_type": "code",
      "execution_count": null,
      "metadata": {
        "colab": {
          "background_save": true
        },
        "id": "3aM5oKRzO7z8"
      },
      "outputs": [],
      "source": [
        "#Compile\n",
        "model_2.compile(loss='categorical_crossentropy',\n",
        "                optimizer=Adam(lr=0.00001),\n",
        "                metrics=['accuracy'])"
      ]
    },
    {
      "cell_type": "code",
      "execution_count": null,
      "metadata": {
        "id": "DB1rplVoQYze"
      },
      "outputs": [],
      "source": [
        "#Continue to train and fine-tune the\n",
        "fine_tune_epochs=initial_epochs + 5\n",
        "\n",
        "history_fine_100_percent=model_2.fit(train_data_100_percent,\n",
        "                                     epochs=fine_tune_epochs,\n",
        "                                     validation_data=test_data,\n",
        "                                     validation_steps=int(0.25*len(test_data)),\n",
        "                                     initial_epochs=history_10_percent_data_aug.epoch-1,\n",
        "                                     callbacks=[create_tensorboard_callback(dir_name='tensorflow_hub',\n",
        "                                                                            experiment_name='full_10_classes_fine_tune_last_10')]\n",
        "                                     )"
      ]
    },
    {
      "cell_type": "code",
      "execution_count": null,
      "metadata": {
        "id": "1eyG25p7Rhxt"
      },
      "outputs": [],
      "source": [
        "#Lets evaluate on all the test data\n",
        "results_fine_tune_full_data=model_2.evaluate(test_data)\n",
        "results_fine_tune_full_data"
      ]
    },
    {
      "cell_type": "code",
      "execution_count": null,
      "metadata": {
        "id": "bT3c_BtmSikj"
      },
      "outputs": [],
      "source": [
        "#How did fine-tunning go with more data?\n",
        "compare_historys(original_history=history_10_percent_data_aug,\n",
        "                 new_history=history_fine_10_classes_full,\n",
        "                 initial_epochs=5)"
      ]
    },
    {
      "cell_type": "markdown",
      "metadata": {
        "id": "4QdyXilzUv5X"
      },
      "source": [
        "## Viewing our experiment data on tensorboard\n",
        "\n",
        "> 🔑**Notes:**Anything you upload to Tensorboard.dev is going to be public.so if you have private data, do not upload."
      ]
    },
    {
      "cell_type": "code",
      "execution_count": null,
      "metadata": {
        "id": "s9JYWsuxU5bv"
      },
      "outputs": [],
      "source": [
        "#View tensorboard logs of transfer learning modelling experiments (should be ~4 models)\n",
        "#Upload Tensorboard dev records\n",
        "%load_ext tensorboard"
      ]
    },
    {
      "cell_type": "code",
      "execution_count": null,
      "metadata": {
        "id": "DdGc6GsTWl0C"
      },
      "outputs": [],
      "source": [
        "%tensorboard --logdir /content/tensorflow_hub/"
      ]
    },
    {
      "cell_type": "code",
      "execution_count": null,
      "metadata": {
        "id": "Ywq-cVMMWrbl"
      },
      "outputs": [],
      "source": []
    }
  ],
  "metadata": {
    "accelerator": "GPU",
    "colab": {
      "gpuType": "T4",
      "provenance": [],
      "authorship_tag": "ABX9TyN19OOi0qnlRTby7p5AwACU",
      "include_colab_link": true
    },
    "kernelspec": {
      "display_name": "Python 3",
      "name": "python3"
    },
    "language_info": {
      "name": "python"
    }
  },
  "nbformat": 4,
  "nbformat_minor": 0
}